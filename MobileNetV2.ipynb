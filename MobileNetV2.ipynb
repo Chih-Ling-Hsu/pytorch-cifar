{
 "cells": [
  {
   "cell_type": "code",
   "execution_count": 1,
   "metadata": {},
   "outputs": [],
   "source": [
    "from tqdm import tqdm"
   ]
  },
  {
   "cell_type": "markdown",
   "metadata": {},
   "source": [
    "## 1. Pre-train on CIFAR-10"
   ]
  },
  {
   "cell_type": "code",
   "execution_count": 2,
   "metadata": {
    "scrolled": true
   },
   "outputs": [
    {
     "name": "stdout",
     "output_type": "stream",
     "text": [
      "==> Preparing data..\n",
      "Files already downloaded and verified\n",
      "Files already downloaded and verified\n",
      "==> Building model..\n"
     ]
    },
    {
     "name": "stderr",
     "output_type": "stream",
     "text": [
      "\r",
      "  0%|          | 0/392 [00:00<?, ?it/s]"
     ]
    },
    {
     "name": "stdout",
     "output_type": "stream",
     "text": [
      "\n",
      "Epoch: 0\n"
     ]
    },
    {
     "name": "stderr",
     "output_type": "stream",
     "text": [
      "Acc: 39.890%: 100%|█████████▉| 391/392 [00:34<00:00, 11.46it/s]\n",
      "Acc: 47.020%:  99%|█████████▉| 100/101 [00:02<00:00, 44.70it/s]\n"
     ]
    },
    {
     "name": "stdout",
     "output_type": "stream",
     "text": [
      "Saving..\n"
     ]
    },
    {
     "name": "stderr",
     "output_type": "stream",
     "text": [
      "\r",
      "  0%|          | 0/392 [00:00<?, ?it/s]"
     ]
    },
    {
     "name": "stdout",
     "output_type": "stream",
     "text": [
      "\n",
      "Epoch: 1\n"
     ]
    },
    {
     "name": "stderr",
     "output_type": "stream",
     "text": [
      "Acc: 58.352%: 100%|█████████▉| 391/392 [00:32<00:00, 12.83it/s]\n",
      "  0%|          | 0/392 [00:00<?, ?it/s]"
     ]
    },
    {
     "name": "stdout",
     "output_type": "stream",
     "text": [
      "\n",
      "Epoch: 2\n"
     ]
    },
    {
     "name": "stderr",
     "output_type": "stream",
     "text": [
      "Acc: 66.324%: 100%|█████████▉| 391/392 [00:32<00:00, 12.97it/s]\n",
      "  0%|          | 0/392 [00:00<?, ?it/s]"
     ]
    },
    {
     "name": "stdout",
     "output_type": "stream",
     "text": [
      "\n",
      "Epoch: 3\n"
     ]
    },
    {
     "name": "stderr",
     "output_type": "stream",
     "text": [
      "Acc: 71.010%: 100%|█████████▉| 391/392 [00:32<00:00, 12.84it/s]\n",
      "  0%|          | 0/392 [00:00<?, ?it/s]"
     ]
    },
    {
     "name": "stdout",
     "output_type": "stream",
     "text": [
      "\n",
      "Epoch: 4\n"
     ]
    },
    {
     "name": "stderr",
     "output_type": "stream",
     "text": [
      "Acc: 74.258%: 100%|█████████▉| 391/392 [00:32<00:00, 12.77it/s]\n",
      "  0%|          | 0/392 [00:00<?, ?it/s]"
     ]
    },
    {
     "name": "stdout",
     "output_type": "stream",
     "text": [
      "\n",
      "Epoch: 5\n"
     ]
    },
    {
     "name": "stderr",
     "output_type": "stream",
     "text": [
      "Acc: 75.746%: 100%|█████████▉| 391/392 [00:32<00:00, 12.70it/s]\n",
      "  0%|          | 0/392 [00:00<?, ?it/s]"
     ]
    },
    {
     "name": "stdout",
     "output_type": "stream",
     "text": [
      "\n",
      "Epoch: 6\n"
     ]
    },
    {
     "name": "stderr",
     "output_type": "stream",
     "text": [
      "Acc: 79.062%: 100%|█████████▉| 391/392 [00:32<00:00, 12.79it/s]\n",
      "  0%|          | 0/392 [00:00<?, ?it/s]"
     ]
    },
    {
     "name": "stdout",
     "output_type": "stream",
     "text": [
      "\n",
      "Epoch: 12\n"
     ]
    },
    {
     "name": "stderr",
     "output_type": "stream",
     "text": [
      "Acc: 78.934%: 100%|█████████▉| 391/392 [00:32<00:00, 12.81it/s]\n",
      "  0%|          | 0/392 [00:00<?, ?it/s]"
     ]
    },
    {
     "name": "stdout",
     "output_type": "stream",
     "text": [
      "\n",
      "Epoch: 13\n"
     ]
    },
    {
     "name": "stderr",
     "output_type": "stream",
     "text": [
      "Acc: 79.096%: 100%|█████████▉| 391/392 [00:32<00:00, 12.74it/s]\n",
      "  0%|          | 0/392 [00:00<?, ?it/s]"
     ]
    },
    {
     "name": "stdout",
     "output_type": "stream",
     "text": [
      "\n",
      "Epoch: 14\n"
     ]
    },
    {
     "name": "stderr",
     "output_type": "stream",
     "text": [
      "Acc: 79.660%: 100%|█████████▉| 391/392 [00:32<00:00, 12.77it/s]\n",
      "  0%|          | 0/392 [00:00<?, ?it/s]"
     ]
    },
    {
     "name": "stdout",
     "output_type": "stream",
     "text": [
      "\n",
      "Epoch: 15\n"
     ]
    },
    {
     "name": "stderr",
     "output_type": "stream",
     "text": [
      "Acc: 79.370%: 100%|█████████▉| 391/392 [00:32<00:00, 12.83it/s]\n",
      "  0%|          | 0/392 [00:00<?, ?it/s]"
     ]
    },
    {
     "name": "stdout",
     "output_type": "stream",
     "text": [
      "\n",
      "Epoch: 16\n"
     ]
    },
    {
     "name": "stderr",
     "output_type": "stream",
     "text": [
      "Acc: 79.545%:  50%|█████     | 197/392 [00:16<00:15, 12.27it/s]IOPub message rate exceeded.\n",
      "The notebook server will temporarily stop sending output\n",
      "to the client in order to avoid crashing it.\n",
      "To change this limit, set the config variable\n",
      "`--NotebookApp.iopub_msg_rate_limit`.\n",
      "\n",
      "Current values:\n",
      "NotebookApp.iopub_msg_rate_limit=1000.0 (msgs/sec)\n",
      "NotebookApp.rate_limit_window=3.0 (secs)\n",
      "\n",
      "Acc: 79.958%: 100%|█████████▉| 391/392 [00:32<00:00, 12.83it/s]\n",
      "  0%|          | 0/392 [00:00<?, ?it/s]"
     ]
    },
    {
     "name": "stdout",
     "output_type": "stream",
     "text": [
      "\n",
      "Epoch: 23\n"
     ]
    },
    {
     "name": "stderr",
     "output_type": "stream",
     "text": [
      "Acc: 80.096%: 100%|█████████▉| 391/392 [00:32<00:00, 12.79it/s]\n",
      "  0%|          | 0/392 [00:00<?, ?it/s]"
     ]
    },
    {
     "name": "stdout",
     "output_type": "stream",
     "text": [
      "\n",
      "Epoch: 24\n"
     ]
    },
    {
     "name": "stderr",
     "output_type": "stream",
     "text": [
      "Acc: 80.530%: 100%|█████████▉| 391/392 [00:32<00:00, 12.80it/s]\n",
      "  0%|          | 0/392 [00:00<?, ?it/s]"
     ]
    },
    {
     "name": "stdout",
     "output_type": "stream",
     "text": [
      "\n",
      "Epoch: 25\n"
     ]
    },
    {
     "name": "stderr",
     "output_type": "stream",
     "text": [
      "Acc: 80.254%: 100%|█████████▉| 391/392 [00:32<00:00, 12.86it/s]\n",
      "  0%|          | 0/392 [00:00<?, ?it/s]"
     ]
    },
    {
     "name": "stdout",
     "output_type": "stream",
     "text": [
      "\n",
      "Epoch: 26\n"
     ]
    },
    {
     "name": "stderr",
     "output_type": "stream",
     "text": [
      "Acc: 80.330%: 100%|█████████▉| 391/392 [00:32<00:00, 12.90it/s]\n",
      "  0%|          | 0/392 [00:00<?, ?it/s]"
     ]
    },
    {
     "name": "stdout",
     "output_type": "stream",
     "text": [
      "\n",
      "Epoch: 27\n"
     ]
    },
    {
     "name": "stderr",
     "output_type": "stream",
     "text": [
      "Acc: 80.108%:  13%|█▎        | 51/392 [00:04<00:27, 12.27it/s]IOPub message rate exceeded.\n",
      "The notebook server will temporarily stop sending output\n",
      "to the client in order to avoid crashing it.\n",
      "To change this limit, set the config variable\n",
      "`--NotebookApp.iopub_msg_rate_limit`.\n",
      "\n",
      "Current values:\n",
      "NotebookApp.iopub_msg_rate_limit=1000.0 (msgs/sec)\n",
      "NotebookApp.rate_limit_window=3.0 (secs)\n",
      "\n",
      "Acc: 80.054%: 100%|█████████▉| 391/392 [00:32<00:00, 12.85it/s]\n",
      "Acc: 72.400%:  99%|█████████▉| 100/101 [00:02<00:00, 42.70it/s]\n",
      "  0%|          | 0/392 [00:00<?, ?it/s]"
     ]
    },
    {
     "name": "stdout",
     "output_type": "stream",
     "text": [
      "\n",
      "Epoch: 31\n"
     ]
    },
    {
     "name": "stderr",
     "output_type": "stream",
     "text": [
      "Acc: 80.606%: 100%|█████████▉| 391/392 [00:31<00:00, 12.82it/s]\n",
      "  0%|          | 0/392 [00:00<?, ?it/s]"
     ]
    },
    {
     "name": "stdout",
     "output_type": "stream",
     "text": [
      "\n",
      "Epoch: 32\n"
     ]
    },
    {
     "name": "stderr",
     "output_type": "stream",
     "text": [
      "Acc: 80.560%: 100%|█████████▉| 391/392 [00:32<00:00, 12.81it/s]\n",
      "  0%|          | 0/392 [00:00<?, ?it/s]"
     ]
    },
    {
     "name": "stdout",
     "output_type": "stream",
     "text": [
      "\n",
      "Epoch: 33\n"
     ]
    },
    {
     "name": "stderr",
     "output_type": "stream",
     "text": [
      "Acc: 80.346%: 100%|█████████▉| 391/392 [00:32<00:00, 12.82it/s]\n",
      "  0%|          | 0/392 [00:00<?, ?it/s]"
     ]
    },
    {
     "name": "stdout",
     "output_type": "stream",
     "text": [
      "\n",
      "Epoch: 34\n"
     ]
    },
    {
     "name": "stderr",
     "output_type": "stream",
     "text": [
      "Acc: 80.304%: 100%|█████████▉| 391/392 [00:32<00:00, 12.93it/s]\n",
      "  0%|          | 0/392 [00:00<?, ?it/s]"
     ]
    },
    {
     "name": "stdout",
     "output_type": "stream",
     "text": [
      "\n",
      "Epoch: 35\n"
     ]
    },
    {
     "name": "stderr",
     "output_type": "stream",
     "text": [
      "Acc: 80.450%: 100%|█████████▉| 391/392 [00:32<00:00, 12.82it/s]\n",
      "  0%|          | 0/392 [00:00<?, ?it/s]"
     ]
    },
    {
     "name": "stdout",
     "output_type": "stream",
     "text": [
      "\n",
      "Epoch: 36\n"
     ]
    },
    {
     "name": "stderr",
     "output_type": "stream",
     "text": [
      "Acc: 80.040%: 100%|█████████▉| 391/392 [00:31<00:00, 12.90it/s]\n",
      "  0%|          | 0/392 [00:00<?, ?it/s]"
     ]
    },
    {
     "name": "stdout",
     "output_type": "stream",
     "text": [
      "\n",
      "Epoch: 37\n"
     ]
    },
    {
     "name": "stderr",
     "output_type": "stream",
     "text": [
      "Acc: 80.324%: 100%|█████████▉| 391/392 [00:31<00:00, 12.88it/s]\n",
      "Acc: 76.830%:  99%|█████████▉| 100/101 [00:02<00:00, 43.06it/s]\n",
      "  0%|          | 0/392 [00:00<?, ?it/s]"
     ]
    },
    {
     "name": "stdout",
     "output_type": "stream",
     "text": [
      "\n",
      "Epoch: 41\n"
     ]
    },
    {
     "name": "stderr",
     "output_type": "stream",
     "text": [
      "Acc: 80.500%: 100%|█████████▉| 391/392 [00:31<00:00, 12.83it/s]\n",
      "  0%|          | 0/392 [00:00<?, ?it/s]"
     ]
    },
    {
     "name": "stdout",
     "output_type": "stream",
     "text": [
      "\n",
      "Epoch: 42\n"
     ]
    },
    {
     "name": "stderr",
     "output_type": "stream",
     "text": [
      "Acc: 80.082%: 100%|█████████▉| 391/392 [00:31<00:00, 12.92it/s]\n",
      "  0%|          | 0/392 [00:00<?, ?it/s]"
     ]
    },
    {
     "name": "stdout",
     "output_type": "stream",
     "text": [
      "\n",
      "Epoch: 43\n"
     ]
    },
    {
     "name": "stderr",
     "output_type": "stream",
     "text": [
      "Acc: 79.948%: 100%|█████████▉| 391/392 [00:32<00:00, 12.83it/s]\n",
      "  0%|          | 0/392 [00:00<?, ?it/s]"
     ]
    },
    {
     "name": "stdout",
     "output_type": "stream",
     "text": [
      "\n",
      "Epoch: 44\n"
     ]
    },
    {
     "name": "stderr",
     "output_type": "stream",
     "text": [
      "Acc: 80.418%: 100%|█████████▉| 391/392 [00:32<00:00, 12.89it/s]\n",
      "  0%|          | 0/392 [00:00<?, ?it/s]"
     ]
    },
    {
     "name": "stdout",
     "output_type": "stream",
     "text": [
      "\n",
      "Epoch: 45\n"
     ]
    },
    {
     "name": "stderr",
     "output_type": "stream",
     "text": [
      "Acc: 80.277%:  50%|████▉     | 195/392 [00:16<00:16, 12.25it/s]IOPub message rate exceeded.\n",
      "The notebook server will temporarily stop sending output\n",
      "to the client in order to avoid crashing it.\n",
      "To change this limit, set the config variable\n",
      "`--NotebookApp.iopub_msg_rate_limit`.\n",
      "\n",
      "Current values:\n",
      "NotebookApp.iopub_msg_rate_limit=1000.0 (msgs/sec)\n",
      "NotebookApp.rate_limit_window=3.0 (secs)\n",
      "\n",
      "Acc: 79.874%: 100%|█████████▉| 391/392 [00:32<00:00, 12.86it/s]\n",
      "Acc: 74.090%:  99%|█████████▉| 100/101 [00:02<00:00, 43.72it/s]\n",
      "  0%|          | 0/392 [00:00<?, ?it/s]"
     ]
    },
    {
     "name": "stdout",
     "output_type": "stream",
     "text": [
      "\n",
      "Epoch: 51\n"
     ]
    },
    {
     "name": "stderr",
     "output_type": "stream",
     "text": [
      "Acc: 80.428%: 100%|█████████▉| 391/392 [00:32<00:00, 12.88it/s]\n",
      "  0%|          | 0/392 [00:00<?, ?it/s]"
     ]
    },
    {
     "name": "stdout",
     "output_type": "stream",
     "text": [
      "\n",
      "Epoch: 52\n"
     ]
    },
    {
     "name": "stderr",
     "output_type": "stream",
     "text": [
      "Acc: 80.268%: 100%|█████████▉| 391/392 [00:32<00:00, 12.81it/s]\n",
      "  0%|          | 0/392 [00:00<?, ?it/s]"
     ]
    },
    {
     "name": "stdout",
     "output_type": "stream",
     "text": [
      "\n",
      "Epoch: 53\n"
     ]
    },
    {
     "name": "stderr",
     "output_type": "stream",
     "text": [
      "Acc: 80.400%: 100%|█████████▉| 391/392 [00:31<00:00, 12.89it/s]\n",
      "  0%|          | 0/392 [00:00<?, ?it/s]"
     ]
    },
    {
     "name": "stdout",
     "output_type": "stream",
     "text": [
      "\n",
      "Epoch: 54\n"
     ]
    },
    {
     "name": "stderr",
     "output_type": "stream",
     "text": [
      "Acc: 80.294%: 100%|█████████▉| 391/392 [00:32<00:00, 12.90it/s]\n",
      "  0%|          | 0/392 [00:00<?, ?it/s]"
     ]
    },
    {
     "name": "stdout",
     "output_type": "stream",
     "text": [
      "\n",
      "Epoch: 55\n"
     ]
    },
    {
     "name": "stderr",
     "output_type": "stream",
     "text": [
      "Acc: 80.140%:  86%|████████▋ | 339/392 [00:27<00:04, 12.23it/s]IOPub message rate exceeded.\n",
      "The notebook server will temporarily stop sending output\n",
      "to the client in order to avoid crashing it.\n",
      "To change this limit, set the config variable\n",
      "`--NotebookApp.iopub_msg_rate_limit`.\n",
      "\n",
      "Current values:\n",
      "NotebookApp.iopub_msg_rate_limit=1000.0 (msgs/sec)\n",
      "NotebookApp.rate_limit_window=3.0 (secs)\n",
      "\n",
      "Acc: 80.256%: 100%|█████████▉| 391/392 [00:31<00:00, 12.89it/s]\n",
      "  0%|          | 0/392 [00:00<?, ?it/s]"
     ]
    },
    {
     "name": "stdout",
     "output_type": "stream",
     "text": [
      "\n",
      "Epoch: 62\n"
     ]
    },
    {
     "name": "stderr",
     "output_type": "stream",
     "text": [
      "Acc: 80.040%: 100%|█████████▉| 391/392 [00:32<00:00, 12.87it/s]\n",
      "  0%|          | 0/392 [00:00<?, ?it/s]"
     ]
    },
    {
     "name": "stdout",
     "output_type": "stream",
     "text": [
      "\n",
      "Epoch: 63\n"
     ]
    },
    {
     "name": "stderr",
     "output_type": "stream",
     "text": [
      "Acc: 80.260%: 100%|█████████▉| 391/392 [00:32<00:00, 12.97it/s]\n",
      "  0%|          | 0/392 [00:00<?, ?it/s]"
     ]
    },
    {
     "name": "stdout",
     "output_type": "stream",
     "text": [
      "\n",
      "Epoch: 64\n"
     ]
    },
    {
     "name": "stderr",
     "output_type": "stream",
     "text": [
      "Acc: 80.234%: 100%|█████████▉| 391/392 [00:32<00:00, 12.81it/s]\n",
      "  0%|          | 0/392 [00:00<?, ?it/s]"
     ]
    },
    {
     "name": "stdout",
     "output_type": "stream",
     "text": [
      "\n",
      "Epoch: 65\n"
     ]
    },
    {
     "name": "stderr",
     "output_type": "stream",
     "text": [
      "Acc: 80.076%: 100%|█████████▉| 391/392 [00:31<00:00, 12.91it/s]\n",
      "  0%|          | 0/392 [00:00<?, ?it/s]"
     ]
    },
    {
     "name": "stdout",
     "output_type": "stream",
     "text": [
      "\n",
      "Epoch: 66\n"
     ]
    },
    {
     "name": "stderr",
     "output_type": "stream",
     "text": [
      "Acc: 80.316%: 100%|█████████▉| 391/392 [00:32<00:00, 12.90it/s]\n",
      "  0%|          | 0/392 [00:00<?, ?it/s]"
     ]
    },
    {
     "name": "stdout",
     "output_type": "stream",
     "text": [
      "\n",
      "Epoch: 67\n"
     ]
    },
    {
     "name": "stderr",
     "output_type": "stream",
     "text": [
      "Acc: 80.138%: 100%|█████████▉| 391/392 [00:31<00:00, 12.93it/s]\n",
      "  0%|          | 0/392 [00:00<?, ?it/s]"
     ]
    },
    {
     "name": "stdout",
     "output_type": "stream",
     "text": [
      "\n",
      "Epoch: 68\n"
     ]
    },
    {
     "name": "stderr",
     "output_type": "stream",
     "text": [
      "Acc: 80.446%: 100%|█████████▉| 391/392 [00:31<00:00, 12.91it/s]\n",
      "  0%|          | 0/392 [00:00<?, ?it/s]"
     ]
    },
    {
     "name": "stdout",
     "output_type": "stream",
     "text": [
      "\n",
      "Epoch: 69\n"
     ]
    },
    {
     "name": "stderr",
     "output_type": "stream",
     "text": [
      "Acc: 80.110%: 100%|█████████▉| 391/392 [00:31<00:00, 12.94it/s]\n",
      "  0%|          | 0/392 [00:00<?, ?it/s]"
     ]
    },
    {
     "name": "stdout",
     "output_type": "stream",
     "text": [
      "\n",
      "Epoch: 70\n"
     ]
    },
    {
     "name": "stderr",
     "output_type": "stream",
     "text": [
      "Acc: 80.256%: 100%|█████████▉| 391/392 [00:31<00:00, 12.85it/s]\n",
      "Acc: 77.250%:  99%|█████████▉| 100/101 [00:02<00:00, 42.92it/s]\n",
      "  0%|          | 0/392 [00:00<?, ?it/s]"
     ]
    },
    {
     "name": "stdout",
     "output_type": "stream",
     "text": [
      "\n",
      "Epoch: 71\n"
     ]
    },
    {
     "name": "stderr",
     "output_type": "stream",
     "text": [
      "Acc: 79.942%: 100%|█████████▉| 391/392 [00:31<00:00, 12.93it/s]\n",
      "  0%|          | 0/392 [00:00<?, ?it/s]"
     ]
    },
    {
     "name": "stdout",
     "output_type": "stream",
     "text": [
      "\n",
      "Epoch: 72\n"
     ]
    },
    {
     "name": "stderr",
     "output_type": "stream",
     "text": [
      "Acc: 79.802%: 100%|█████████▉| 391/392 [00:31<00:00, 12.85it/s]\n",
      "  0%|          | 0/392 [00:00<?, ?it/s]"
     ]
    },
    {
     "name": "stdout",
     "output_type": "stream",
     "text": [
      "\n",
      "Epoch: 73\n"
     ]
    },
    {
     "name": "stderr",
     "output_type": "stream",
     "text": [
      "Acc: 80.086%: 100%|█████████▉| 391/392 [00:31<00:00, 12.92it/s]\n",
      "  0%|          | 0/392 [00:00<?, ?it/s]"
     ]
    },
    {
     "name": "stdout",
     "output_type": "stream",
     "text": [
      "\n",
      "Epoch: 74\n"
     ]
    },
    {
     "name": "stderr",
     "output_type": "stream",
     "text": [
      "Acc: 80.086%: 100%|█████████▉| 391/392 [00:31<00:00, 12.95it/s]\n",
      "  0%|          | 0/392 [00:00<?, ?it/s]"
     ]
    },
    {
     "name": "stdout",
     "output_type": "stream",
     "text": [
      "\n",
      "Epoch: 75\n"
     ]
    },
    {
     "name": "stderr",
     "output_type": "stream",
     "text": [
      "Acc: 79.928%: 100%|█████████▉| 391/392 [00:31<00:00, 12.88it/s]\n",
      "  0%|          | 0/392 [00:00<?, ?it/s]"
     ]
    },
    {
     "name": "stdout",
     "output_type": "stream",
     "text": [
      "\n",
      "Epoch: 76\n"
     ]
    },
    {
     "name": "stderr",
     "output_type": "stream",
     "text": [
      "Acc: 80.030%: 100%|█████████▉| 391/392 [00:31<00:00, 13.00it/s]\n",
      "  0%|          | 0/392 [00:00<?, ?it/s]"
     ]
    },
    {
     "name": "stdout",
     "output_type": "stream",
     "text": [
      "\n",
      "Epoch: 77\n"
     ]
    },
    {
     "name": "stderr",
     "output_type": "stream",
     "text": [
      "Acc: 79.958%: 100%|█████████▉| 391/392 [00:31<00:00, 12.93it/s]\n",
      "  0%|          | 0/392 [00:00<?, ?it/s]"
     ]
    },
    {
     "name": "stdout",
     "output_type": "stream",
     "text": [
      "\n",
      "Epoch: 78\n"
     ]
    },
    {
     "name": "stderr",
     "output_type": "stream",
     "text": [
      "Acc: 79.670%: 100%|█████████▉| 391/392 [00:31<00:00, 12.95it/s]\n",
      "  0%|          | 0/392 [00:00<?, ?it/s]"
     ]
    },
    {
     "name": "stdout",
     "output_type": "stream",
     "text": [
      "\n",
      "Epoch: 79\n"
     ]
    },
    {
     "name": "stderr",
     "output_type": "stream",
     "text": [
      "Acc: 79.656%: 100%|█████████▉| 391/392 [00:31<00:00, 12.94it/s]\n",
      "  0%|          | 0/392 [00:00<?, ?it/s]"
     ]
    },
    {
     "name": "stdout",
     "output_type": "stream",
     "text": [
      "\n",
      "Epoch: 80\n"
     ]
    },
    {
     "name": "stderr",
     "output_type": "stream",
     "text": [
      "Acc: 79.846%: 100%|█████████▉| 391/392 [00:31<00:00, 12.91it/s]\n",
      "Acc: 75.550%:  99%|█████████▉| 100/101 [00:02<00:00, 42.79it/s]\n",
      "  0%|          | 0/392 [00:00<?, ?it/s]"
     ]
    },
    {
     "name": "stdout",
     "output_type": "stream",
     "text": [
      "\n",
      "Epoch: 81\n"
     ]
    },
    {
     "name": "stderr",
     "output_type": "stream",
     "text": [
      "Acc: 79.770%: 100%|█████████▉| 391/392 [00:31<00:00, 13.08it/s]\n",
      "  0%|          | 0/392 [00:00<?, ?it/s]"
     ]
    },
    {
     "name": "stdout",
     "output_type": "stream",
     "text": [
      "\n",
      "Epoch: 82\n"
     ]
    },
    {
     "name": "stderr",
     "output_type": "stream",
     "text": [
      "Acc: 79.992%: 100%|█████████▉| 391/392 [00:32<00:00, 12.84it/s]\n",
      "  0%|          | 0/392 [00:00<?, ?it/s]"
     ]
    },
    {
     "name": "stdout",
     "output_type": "stream",
     "text": [
      "\n",
      "Epoch: 83\n"
     ]
    },
    {
     "name": "stderr",
     "output_type": "stream",
     "text": [
      "Acc: 79.788%: 100%|█████████▉| 391/392 [00:31<00:00, 12.91it/s]\n",
      "  0%|          | 0/392 [00:00<?, ?it/s]"
     ]
    },
    {
     "name": "stdout",
     "output_type": "stream",
     "text": [
      "\n",
      "Epoch: 84\n"
     ]
    },
    {
     "name": "stderr",
     "output_type": "stream",
     "text": [
      "Acc: 79.706%: 100%|█████████▉| 391/392 [00:31<00:00, 12.92it/s]\n",
      "  0%|          | 0/392 [00:00<?, ?it/s]"
     ]
    },
    {
     "name": "stdout",
     "output_type": "stream",
     "text": [
      "\n",
      "Epoch: 85\n"
     ]
    },
    {
     "name": "stderr",
     "output_type": "stream",
     "text": [
      "Acc: 80.040%: 100%|█████████▉| 391/392 [00:31<00:00, 12.91it/s]\n",
      "  0%|          | 0/392 [00:00<?, ?it/s]"
     ]
    },
    {
     "name": "stdout",
     "output_type": "stream",
     "text": [
      "\n",
      "Epoch: 86\n"
     ]
    },
    {
     "name": "stderr",
     "output_type": "stream",
     "text": [
      "Acc: 80.148%: 100%|█████████▉| 391/392 [00:31<00:00, 12.91it/s]\n",
      "  0%|          | 0/392 [00:00<?, ?it/s]"
     ]
    },
    {
     "name": "stdout",
     "output_type": "stream",
     "text": [
      "\n",
      "Epoch: 87\n"
     ]
    },
    {
     "name": "stderr",
     "output_type": "stream",
     "text": [
      "Acc: 79.882%: 100%|█████████▉| 391/392 [00:31<00:00, 12.97it/s]\n",
      "  0%|          | 0/392 [00:00<?, ?it/s]"
     ]
    },
    {
     "name": "stdout",
     "output_type": "stream",
     "text": [
      "\n",
      "Epoch: 88\n"
     ]
    },
    {
     "name": "stderr",
     "output_type": "stream",
     "text": [
      "Acc: 79.716%: 100%|█████████▉| 391/392 [00:31<00:00, 12.74it/s]\n",
      "  0%|          | 0/392 [00:00<?, ?it/s]"
     ]
    },
    {
     "name": "stdout",
     "output_type": "stream",
     "text": [
      "\n",
      "Epoch: 89\n"
     ]
    },
    {
     "name": "stderr",
     "output_type": "stream",
     "text": [
      "Acc: 80.016%: 100%|█████████▉| 391/392 [00:32<00:00, 12.92it/s]\n",
      "  0%|          | 0/392 [00:00<?, ?it/s]"
     ]
    },
    {
     "name": "stdout",
     "output_type": "stream",
     "text": [
      "\n",
      "Epoch: 90\n"
     ]
    },
    {
     "name": "stderr",
     "output_type": "stream",
     "text": [
      "Acc: 80.128%: 100%|█████████▉| 391/392 [00:31<00:00, 12.90it/s]\n",
      "Acc: 71.570%:  99%|█████████▉| 100/101 [00:02<00:00, 40.94it/s]\n",
      "  0%|          | 0/392 [00:00<?, ?it/s]"
     ]
    },
    {
     "name": "stdout",
     "output_type": "stream",
     "text": [
      "\n",
      "Epoch: 91\n"
     ]
    },
    {
     "name": "stderr",
     "output_type": "stream",
     "text": [
      "Acc: 80.008%: 100%|█████████▉| 391/392 [00:31<00:00, 12.90it/s]\n",
      "  0%|          | 0/392 [00:00<?, ?it/s]"
     ]
    },
    {
     "name": "stdout",
     "output_type": "stream",
     "text": [
      "\n",
      "Epoch: 92\n"
     ]
    },
    {
     "name": "stderr",
     "output_type": "stream",
     "text": [
      "Acc: 79.896%: 100%|█████████▉| 391/392 [00:31<00:00, 12.93it/s]\n",
      "  0%|          | 0/392 [00:00<?, ?it/s]"
     ]
    },
    {
     "name": "stdout",
     "output_type": "stream",
     "text": [
      "\n",
      "Epoch: 93\n"
     ]
    },
    {
     "name": "stderr",
     "output_type": "stream",
     "text": [
      "Acc: 79.414%: 100%|█████████▉| 391/392 [00:31<00:00, 12.93it/s]\n",
      "  0%|          | 0/392 [00:00<?, ?it/s]"
     ]
    },
    {
     "name": "stdout",
     "output_type": "stream",
     "text": [
      "\n",
      "Epoch: 94\n"
     ]
    },
    {
     "name": "stderr",
     "output_type": "stream",
     "text": [
      "Acc: 80.006%: 100%|█████████▉| 391/392 [00:31<00:00, 12.88it/s]\n",
      "  0%|          | 0/392 [00:00<?, ?it/s]"
     ]
    },
    {
     "name": "stdout",
     "output_type": "stream",
     "text": [
      "\n",
      "Epoch: 95\n"
     ]
    },
    {
     "name": "stderr",
     "output_type": "stream",
     "text": [
      "Acc: 79.244%: 100%|█████████▉| 391/392 [00:31<00:00, 12.95it/s]\n",
      "  0%|          | 0/392 [00:00<?, ?it/s]"
     ]
    },
    {
     "name": "stdout",
     "output_type": "stream",
     "text": [
      "\n",
      "Epoch: 96\n"
     ]
    },
    {
     "name": "stderr",
     "output_type": "stream",
     "text": [
      "Acc: 79.278%: 100%|█████████▉| 391/392 [00:31<00:00, 12.91it/s]\n",
      "  0%|          | 0/392 [00:00<?, ?it/s]"
     ]
    },
    {
     "name": "stdout",
     "output_type": "stream",
     "text": [
      "\n",
      "Epoch: 97\n"
     ]
    },
    {
     "name": "stderr",
     "output_type": "stream",
     "text": [
      "Acc: 79.252%: 100%|█████████▉| 391/392 [00:31<00:00, 12.96it/s]\n",
      "  0%|          | 0/392 [00:00<?, ?it/s]"
     ]
    },
    {
     "name": "stdout",
     "output_type": "stream",
     "text": [
      "\n",
      "Epoch: 98\n"
     ]
    },
    {
     "name": "stderr",
     "output_type": "stream",
     "text": [
      "Acc: 79.298%: 100%|█████████▉| 391/392 [00:31<00:00, 12.94it/s]\n",
      "  0%|          | 0/392 [00:00<?, ?it/s]"
     ]
    },
    {
     "name": "stdout",
     "output_type": "stream",
     "text": [
      "\n",
      "Epoch: 99\n"
     ]
    },
    {
     "name": "stderr",
     "output_type": "stream",
     "text": [
      "Acc: 79.884%: 100%|█████████▉| 391/392 [00:31<00:00, 12.89it/s]\n",
      "  0%|          | 0/392 [00:00<?, ?it/s]"
     ]
    },
    {
     "name": "stdout",
     "output_type": "stream",
     "text": [
      "\n",
      "Epoch: 100\n"
     ]
    },
    {
     "name": "stderr",
     "output_type": "stream",
     "text": [
      "Acc: 79.632%: 100%|█████████▉| 391/392 [00:31<00:00, 12.94it/s]\n",
      "Acc: 78.930%:  99%|█████████▉| 100/101 [00:02<00:00, 42.81it/s]\n"
     ]
    },
    {
     "name": "stdout",
     "output_type": "stream",
     "text": [
      "Saving..\n"
     ]
    },
    {
     "name": "stderr",
     "output_type": "stream",
     "text": [
      "\r",
      "  0%|          | 0/392 [00:00<?, ?it/s]"
     ]
    },
    {
     "name": "stdout",
     "output_type": "stream",
     "text": [
      "\n",
      "Epoch: 101\n"
     ]
    },
    {
     "name": "stderr",
     "output_type": "stream",
     "text": [
      "Acc: 79.456%: 100%|█████████▉| 391/392 [00:31<00:00, 12.90it/s]\n",
      "  0%|          | 0/392 [00:00<?, ?it/s]"
     ]
    },
    {
     "name": "stdout",
     "output_type": "stream",
     "text": [
      "\n",
      "Epoch: 102\n"
     ]
    },
    {
     "name": "stderr",
     "output_type": "stream",
     "text": [
      "Acc: 79.366%: 100%|█████████▉| 391/392 [00:31<00:00, 12.87it/s]\n",
      "  0%|          | 0/392 [00:00<?, ?it/s]"
     ]
    },
    {
     "name": "stdout",
     "output_type": "stream",
     "text": [
      "\n",
      "Epoch: 103\n"
     ]
    },
    {
     "name": "stderr",
     "output_type": "stream",
     "text": [
      "Acc: 79.372%: 100%|█████████▉| 391/392 [00:31<00:00, 12.91it/s]\n",
      "  0%|          | 0/392 [00:00<?, ?it/s]"
     ]
    },
    {
     "name": "stdout",
     "output_type": "stream",
     "text": [
      "\n",
      "Epoch: 104\n"
     ]
    },
    {
     "name": "stderr",
     "output_type": "stream",
     "text": [
      "Acc: 79.488%: 100%|█████████▉| 391/392 [00:31<00:00, 13.00it/s]\n",
      "  0%|          | 0/392 [00:00<?, ?it/s]"
     ]
    },
    {
     "name": "stdout",
     "output_type": "stream",
     "text": [
      "\n",
      "Epoch: 105\n"
     ]
    },
    {
     "name": "stderr",
     "output_type": "stream",
     "text": [
      "Acc: 79.780%: 100%|█████████▉| 391/392 [00:31<00:00, 12.91it/s]\n",
      "  0%|          | 0/392 [00:00<?, ?it/s]"
     ]
    },
    {
     "name": "stdout",
     "output_type": "stream",
     "text": [
      "\n",
      "Epoch: 106\n"
     ]
    },
    {
     "name": "stderr",
     "output_type": "stream",
     "text": [
      "Acc: 79.462%: 100%|█████████▉| 391/392 [00:31<00:00, 12.90it/s]\n",
      "  0%|          | 0/392 [00:00<?, ?it/s]"
     ]
    },
    {
     "name": "stdout",
     "output_type": "stream",
     "text": [
      "\n",
      "Epoch: 107\n"
     ]
    },
    {
     "name": "stderr",
     "output_type": "stream",
     "text": [
      "Acc: 79.412%: 100%|█████████▉| 391/392 [00:31<00:00, 12.95it/s]\n",
      "  0%|          | 0/392 [00:00<?, ?it/s]"
     ]
    },
    {
     "name": "stdout",
     "output_type": "stream",
     "text": [
      "\n",
      "Epoch: 108\n"
     ]
    },
    {
     "name": "stderr",
     "output_type": "stream",
     "text": [
      "Acc: 79.698%: 100%|█████████▉| 391/392 [00:31<00:00, 12.92it/s]\n",
      "  0%|          | 0/392 [00:00<?, ?it/s]"
     ]
    },
    {
     "name": "stdout",
     "output_type": "stream",
     "text": [
      "\n",
      "Epoch: 109\n"
     ]
    },
    {
     "name": "stderr",
     "output_type": "stream",
     "text": [
      "Acc: 79.442%: 100%|█████████▉| 391/392 [00:31<00:00, 12.93it/s]\n",
      "  0%|          | 0/392 [00:00<?, ?it/s]"
     ]
    },
    {
     "name": "stdout",
     "output_type": "stream",
     "text": [
      "\n",
      "Epoch: 110\n"
     ]
    },
    {
     "name": "stderr",
     "output_type": "stream",
     "text": [
      "Acc: 79.670%: 100%|█████████▉| 391/392 [00:31<00:00, 12.86it/s]\n",
      "Acc: 74.670%:  99%|█████████▉| 100/101 [00:02<00:00, 42.65it/s]\n",
      "  0%|          | 0/392 [00:00<?, ?it/s]"
     ]
    },
    {
     "name": "stdout",
     "output_type": "stream",
     "text": [
      "\n",
      "Epoch: 111\n"
     ]
    },
    {
     "name": "stderr",
     "output_type": "stream",
     "text": [
      "Acc: 79.682%: 100%|█████████▉| 391/392 [00:31<00:00, 12.91it/s]\n",
      "  0%|          | 0/392 [00:00<?, ?it/s]"
     ]
    },
    {
     "name": "stdout",
     "output_type": "stream",
     "text": [
      "\n",
      "Epoch: 112\n"
     ]
    },
    {
     "name": "stderr",
     "output_type": "stream",
     "text": [
      "Acc: 79.626%: 100%|█████████▉| 391/392 [00:31<00:00, 12.94it/s]\n",
      "  0%|          | 0/392 [00:00<?, ?it/s]"
     ]
    },
    {
     "name": "stdout",
     "output_type": "stream",
     "text": [
      "\n",
      "Epoch: 113\n"
     ]
    },
    {
     "name": "stderr",
     "output_type": "stream",
     "text": [
      "Acc: 79.478%: 100%|█████████▉| 391/392 [00:31<00:00, 12.85it/s]\n",
      "  0%|          | 0/392 [00:00<?, ?it/s]"
     ]
    },
    {
     "name": "stdout",
     "output_type": "stream",
     "text": [
      "\n",
      "Epoch: 114\n"
     ]
    },
    {
     "name": "stderr",
     "output_type": "stream",
     "text": [
      "Acc: 79.362%: 100%|█████████▉| 391/392 [00:31<00:00, 12.89it/s]\n",
      "  0%|          | 0/392 [00:00<?, ?it/s]"
     ]
    },
    {
     "name": "stdout",
     "output_type": "stream",
     "text": [
      "\n",
      "Epoch: 115\n"
     ]
    },
    {
     "name": "stderr",
     "output_type": "stream",
     "text": [
      "Acc: 79.608%: 100%|█████████▉| 391/392 [00:31<00:00, 12.94it/s]\n",
      "  0%|          | 0/392 [00:00<?, ?it/s]"
     ]
    },
    {
     "name": "stdout",
     "output_type": "stream",
     "text": [
      "\n",
      "Epoch: 116\n"
     ]
    },
    {
     "name": "stderr",
     "output_type": "stream",
     "text": [
      "Acc: 79.436%: 100%|█████████▉| 391/392 [00:31<00:00, 12.96it/s]\n",
      "  0%|          | 0/392 [00:00<?, ?it/s]"
     ]
    },
    {
     "name": "stdout",
     "output_type": "stream",
     "text": [
      "\n",
      "Epoch: 117\n"
     ]
    },
    {
     "name": "stderr",
     "output_type": "stream",
     "text": [
      "Acc: 79.244%: 100%|█████████▉| 391/392 [00:31<00:00, 12.87it/s]\n",
      "  0%|          | 0/392 [00:00<?, ?it/s]"
     ]
    },
    {
     "name": "stdout",
     "output_type": "stream",
     "text": [
      "\n",
      "Epoch: 118\n"
     ]
    },
    {
     "name": "stderr",
     "output_type": "stream",
     "text": [
      "Acc: 79.548%: 100%|█████████▉| 391/392 [00:31<00:00, 12.92it/s]\n",
      "  0%|          | 0/392 [00:00<?, ?it/s]"
     ]
    },
    {
     "name": "stdout",
     "output_type": "stream",
     "text": [
      "\n",
      "Epoch: 119\n"
     ]
    },
    {
     "name": "stderr",
     "output_type": "stream",
     "text": [
      "Acc: 79.138%: 100%|█████████▉| 391/392 [00:31<00:00, 12.90it/s]\n",
      "  0%|          | 0/392 [00:00<?, ?it/s]"
     ]
    },
    {
     "name": "stdout",
     "output_type": "stream",
     "text": [
      "\n",
      "Epoch: 120\n"
     ]
    },
    {
     "name": "stderr",
     "output_type": "stream",
     "text": [
      "Acc: 79.032%: 100%|█████████▉| 391/392 [00:31<00:00, 12.93it/s]\n",
      "Acc: 75.100%:  99%|█████████▉| 100/101 [00:02<00:00, 42.70it/s]\n",
      "  0%|          | 0/392 [00:00<?, ?it/s]"
     ]
    },
    {
     "name": "stdout",
     "output_type": "stream",
     "text": [
      "\n",
      "Epoch: 121\n"
     ]
    },
    {
     "name": "stderr",
     "output_type": "stream",
     "text": [
      "Acc: 79.344%: 100%|█████████▉| 391/392 [00:31<00:00, 12.87it/s]\n",
      "  0%|          | 0/392 [00:00<?, ?it/s]"
     ]
    },
    {
     "name": "stdout",
     "output_type": "stream",
     "text": [
      "\n",
      "Epoch: 122\n"
     ]
    },
    {
     "name": "stderr",
     "output_type": "stream",
     "text": [
      "Acc: 79.244%: 100%|█████████▉| 391/392 [00:31<00:00, 12.87it/s]\n",
      "  0%|          | 0/392 [00:00<?, ?it/s]"
     ]
    },
    {
     "name": "stdout",
     "output_type": "stream",
     "text": [
      "\n",
      "Epoch: 123\n"
     ]
    },
    {
     "name": "stderr",
     "output_type": "stream",
     "text": [
      "Acc: 79.264%: 100%|█████████▉| 391/392 [00:31<00:00, 12.85it/s]\n",
      "  0%|          | 0/392 [00:00<?, ?it/s]"
     ]
    },
    {
     "name": "stdout",
     "output_type": "stream",
     "text": [
      "\n",
      "Epoch: 124\n"
     ]
    },
    {
     "name": "stderr",
     "output_type": "stream",
     "text": [
      "Acc: 79.166%: 100%|█████████▉| 391/392 [00:31<00:00, 12.89it/s]\n",
      "  0%|          | 0/392 [00:00<?, ?it/s]"
     ]
    },
    {
     "name": "stdout",
     "output_type": "stream",
     "text": [
      "\n",
      "Epoch: 125\n"
     ]
    },
    {
     "name": "stderr",
     "output_type": "stream",
     "text": [
      "Acc: 79.242%: 100%|█████████▉| 391/392 [00:31<00:00, 12.93it/s]\n",
      "  0%|          | 0/392 [00:00<?, ?it/s]"
     ]
    },
    {
     "name": "stdout",
     "output_type": "stream",
     "text": [
      "\n",
      "Epoch: 126\n"
     ]
    },
    {
     "name": "stderr",
     "output_type": "stream",
     "text": [
      "Acc: 79.524%: 100%|█████████▉| 391/392 [00:31<00:00, 12.85it/s]\n",
      "  0%|          | 0/392 [00:00<?, ?it/s]"
     ]
    },
    {
     "name": "stdout",
     "output_type": "stream",
     "text": [
      "\n",
      "Epoch: 127\n"
     ]
    },
    {
     "name": "stderr",
     "output_type": "stream",
     "text": [
      "Acc: 79.190%: 100%|█████████▉| 391/392 [00:31<00:00, 12.91it/s]\n",
      "  0%|          | 0/392 [00:00<?, ?it/s]"
     ]
    },
    {
     "name": "stdout",
     "output_type": "stream",
     "text": [
      "\n",
      "Epoch: 128\n"
     ]
    },
    {
     "name": "stderr",
     "output_type": "stream",
     "text": [
      "Acc: 79.120%: 100%|█████████▉| 391/392 [00:31<00:00, 12.91it/s]\n",
      "  0%|          | 0/392 [00:00<?, ?it/s]"
     ]
    },
    {
     "name": "stdout",
     "output_type": "stream",
     "text": [
      "\n",
      "Epoch: 129\n"
     ]
    },
    {
     "name": "stderr",
     "output_type": "stream",
     "text": [
      "Acc: 78.830%: 100%|█████████▉| 391/392 [00:31<00:00, 12.94it/s]\n",
      "  0%|          | 0/392 [00:00<?, ?it/s]"
     ]
    },
    {
     "name": "stdout",
     "output_type": "stream",
     "text": [
      "\n",
      "Epoch: 130\n"
     ]
    },
    {
     "name": "stderr",
     "output_type": "stream",
     "text": [
      "Acc: 79.270%: 100%|█████████▉| 391/392 [00:31<00:00, 12.94it/s]\n",
      "Acc: 75.880%:  99%|█████████▉| 100/101 [00:02<00:00, 42.91it/s]\n",
      "  0%|          | 0/392 [00:00<?, ?it/s]"
     ]
    },
    {
     "name": "stdout",
     "output_type": "stream",
     "text": [
      "\n",
      "Epoch: 131\n"
     ]
    },
    {
     "name": "stderr",
     "output_type": "stream",
     "text": [
      "Acc: 78.784%: 100%|█████████▉| 391/392 [00:31<00:00, 12.92it/s]\n",
      "  0%|          | 0/392 [00:00<?, ?it/s]"
     ]
    },
    {
     "name": "stdout",
     "output_type": "stream",
     "text": [
      "\n",
      "Epoch: 132\n"
     ]
    },
    {
     "name": "stderr",
     "output_type": "stream",
     "text": [
      "Acc: 79.314%: 100%|█████████▉| 391/392 [00:31<00:00, 12.91it/s]\n",
      "  0%|          | 0/392 [00:00<?, ?it/s]"
     ]
    },
    {
     "name": "stdout",
     "output_type": "stream",
     "text": [
      "\n",
      "Epoch: 133\n"
     ]
    },
    {
     "name": "stderr",
     "output_type": "stream",
     "text": [
      "Acc: 79.018%: 100%|█████████▉| 391/392 [00:31<00:00, 12.95it/s]\n",
      "  0%|          | 0/392 [00:00<?, ?it/s]"
     ]
    },
    {
     "name": "stdout",
     "output_type": "stream",
     "text": [
      "\n",
      "Epoch: 134\n"
     ]
    },
    {
     "name": "stderr",
     "output_type": "stream",
     "text": [
      "Acc: 78.968%: 100%|█████████▉| 391/392 [00:31<00:00, 12.93it/s]\n",
      "  0%|          | 0/392 [00:00<?, ?it/s]"
     ]
    },
    {
     "name": "stdout",
     "output_type": "stream",
     "text": [
      "\n",
      "Epoch: 135\n"
     ]
    },
    {
     "name": "stderr",
     "output_type": "stream",
     "text": [
      "Acc: 79.078%: 100%|█████████▉| 391/392 [00:31<00:00, 12.82it/s]\n",
      "  0%|          | 0/392 [00:00<?, ?it/s]"
     ]
    },
    {
     "name": "stdout",
     "output_type": "stream",
     "text": [
      "\n",
      "Epoch: 136\n"
     ]
    },
    {
     "name": "stderr",
     "output_type": "stream",
     "text": [
      "Acc: 78.976%: 100%|█████████▉| 391/392 [00:31<00:00, 12.94it/s]\n",
      "  0%|          | 0/392 [00:00<?, ?it/s]"
     ]
    },
    {
     "name": "stdout",
     "output_type": "stream",
     "text": [
      "\n",
      "Epoch: 137\n"
     ]
    },
    {
     "name": "stderr",
     "output_type": "stream",
     "text": [
      "Acc: 79.192%: 100%|█████████▉| 391/392 [00:32<00:00, 12.86it/s]\n",
      "  0%|          | 0/392 [00:00<?, ?it/s]"
     ]
    },
    {
     "name": "stdout",
     "output_type": "stream",
     "text": [
      "\n",
      "Epoch: 138\n"
     ]
    },
    {
     "name": "stderr",
     "output_type": "stream",
     "text": [
      "Acc: 78.798%: 100%|█████████▉| 391/392 [00:31<00:00, 12.86it/s]\n",
      "  0%|          | 0/392 [00:00<?, ?it/s]"
     ]
    },
    {
     "name": "stdout",
     "output_type": "stream",
     "text": [
      "\n",
      "Epoch: 139\n"
     ]
    },
    {
     "name": "stderr",
     "output_type": "stream",
     "text": [
      "Acc: 79.046%: 100%|█████████▉| 391/392 [00:31<00:00, 12.95it/s]\n",
      "  0%|          | 0/392 [00:00<?, ?it/s]"
     ]
    },
    {
     "name": "stdout",
     "output_type": "stream",
     "text": [
      "\n",
      "Epoch: 140\n"
     ]
    },
    {
     "name": "stderr",
     "output_type": "stream",
     "text": [
      "Acc: 78.834%: 100%|█████████▉| 391/392 [00:31<00:00, 12.93it/s]\n",
      "Acc: 74.530%:  99%|█████████▉| 100/101 [00:02<00:00, 42.78it/s]\n",
      "  0%|          | 0/392 [00:00<?, ?it/s]"
     ]
    },
    {
     "name": "stdout",
     "output_type": "stream",
     "text": [
      "\n",
      "Epoch: 141\n"
     ]
    },
    {
     "name": "stderr",
     "output_type": "stream",
     "text": [
      "Acc: 78.874%: 100%|█████████▉| 391/392 [00:31<00:00, 12.95it/s]\n",
      "  0%|          | 0/392 [00:00<?, ?it/s]"
     ]
    },
    {
     "name": "stdout",
     "output_type": "stream",
     "text": [
      "\n",
      "Epoch: 142\n"
     ]
    },
    {
     "name": "stderr",
     "output_type": "stream",
     "text": [
      "Acc: 79.126%: 100%|█████████▉| 391/392 [00:31<00:00, 12.91it/s]\n",
      "  0%|          | 0/392 [00:00<?, ?it/s]"
     ]
    },
    {
     "name": "stdout",
     "output_type": "stream",
     "text": [
      "\n",
      "Epoch: 143\n"
     ]
    },
    {
     "name": "stderr",
     "output_type": "stream",
     "text": [
      "Acc: 79.244%: 100%|█████████▉| 391/392 [00:31<00:00, 12.96it/s]\n",
      "  0%|          | 0/392 [00:00<?, ?it/s]"
     ]
    },
    {
     "name": "stdout",
     "output_type": "stream",
     "text": [
      "\n",
      "Epoch: 147\n"
     ]
    },
    {
     "name": "stderr",
     "output_type": "stream",
     "text": [
      "Acc: 79.044%: 100%|█████████▉| 391/392 [00:31<00:00, 12.94it/s]\n",
      "  0%|          | 0/392 [00:00<?, ?it/s]"
     ]
    },
    {
     "name": "stdout",
     "output_type": "stream",
     "text": [
      "\n",
      "Epoch: 148\n"
     ]
    },
    {
     "name": "stderr",
     "output_type": "stream",
     "text": [
      "Acc: 79.018%: 100%|█████████▉| 391/392 [00:31<00:00, 12.95it/s]\n",
      "  0%|          | 0/392 [00:00<?, ?it/s]"
     ]
    },
    {
     "name": "stdout",
     "output_type": "stream",
     "text": [
      "\n",
      "Epoch: 149\n"
     ]
    },
    {
     "name": "stderr",
     "output_type": "stream",
     "text": [
      "Acc: 79.012%: 100%|█████████▉| 391/392 [00:31<00:00, 12.86it/s]\n",
      "  0%|          | 0/392 [00:00<?, ?it/s]"
     ]
    },
    {
     "name": "stdout",
     "output_type": "stream",
     "text": [
      "\n",
      "Epoch: 150\n"
     ]
    },
    {
     "name": "stderr",
     "output_type": "stream",
     "text": [
      "Acc: 84.986%: 100%|█████████▉| 391/392 [00:31<00:00, 12.91it/s]\n",
      "Acc: 86.380%:  99%|█████████▉| 100/101 [00:02<00:00, 43.05it/s]\n",
      "  0%|          | 0/392 [00:00<?, ?it/s]"
     ]
    },
    {
     "name": "stdout",
     "output_type": "stream",
     "text": [
      "Saving..\n",
      "\n",
      "Epoch: 151\n"
     ]
    },
    {
     "name": "stderr",
     "output_type": "stream",
     "text": [
      "Acc: 87.068%:  70%|███████   | 276/392 [00:22<00:09, 12.31it/s]IOPub message rate exceeded.\n",
      "The notebook server will temporarily stop sending output\n",
      "to the client in order to avoid crashing it.\n",
      "To change this limit, set the config variable\n",
      "`--NotebookApp.iopub_msg_rate_limit`.\n",
      "\n",
      "Current values:\n",
      "NotebookApp.iopub_msg_rate_limit=1000.0 (msgs/sec)\n",
      "NotebookApp.rate_limit_window=3.0 (secs)\n",
      "\n",
      "Acc: 89.210%: 100%|█████████▉| 391/392 [00:32<00:00, 12.81it/s]\n",
      "  0%|          | 0/392 [00:00<?, ?it/s]"
     ]
    },
    {
     "name": "stdout",
     "output_type": "stream",
     "text": [
      "\n",
      "Epoch: 158\n"
     ]
    },
    {
     "name": "stderr",
     "output_type": "stream",
     "text": [
      "Acc: 89.314%: 100%|█████████▉| 391/392 [00:32<00:00, 12.94it/s]\n",
      "  0%|          | 0/392 [00:00<?, ?it/s]"
     ]
    },
    {
     "name": "stdout",
     "output_type": "stream",
     "text": [
      "\n",
      "Epoch: 159\n"
     ]
    },
    {
     "name": "stderr",
     "output_type": "stream",
     "text": [
      "Acc: 89.316%: 100%|█████████▉| 391/392 [00:31<00:00, 12.93it/s]\n",
      "  0%|          | 0/392 [00:00<?, ?it/s]"
     ]
    },
    {
     "name": "stdout",
     "output_type": "stream",
     "text": [
      "\n",
      "Epoch: 160\n"
     ]
    },
    {
     "name": "stderr",
     "output_type": "stream",
     "text": [
      "Acc: 89.540%: 100%|█████████▉| 391/392 [00:31<00:00, 12.98it/s]\n",
      "Acc: 87.940%:  99%|█████████▉| 100/101 [00:02<00:00, 42.73it/s]\n",
      "  0%|          | 0/392 [00:00<?, ?it/s]"
     ]
    },
    {
     "name": "stdout",
     "output_type": "stream",
     "text": [
      "Saving..\n",
      "\n",
      "Epoch: 161\n"
     ]
    },
    {
     "name": "stderr",
     "output_type": "stream",
     "text": [
      "Acc: 89.706%: 100%|█████████▉| 391/392 [00:31<00:00, 12.95it/s]\n",
      "  0%|          | 0/392 [00:00<?, ?it/s]"
     ]
    },
    {
     "name": "stdout",
     "output_type": "stream",
     "text": [
      "\n",
      "Epoch: 162\n"
     ]
    },
    {
     "name": "stderr",
     "output_type": "stream",
     "text": [
      "Acc: 90.696%:   3%|▎         | 10/392 [00:01<00:45,  8.34it/s]IOPub message rate exceeded.\n",
      "The notebook server will temporarily stop sending output\n",
      "to the client in order to avoid crashing it.\n",
      "To change this limit, set the config variable\n",
      "`--NotebookApp.iopub_msg_rate_limit`.\n",
      "\n",
      "Current values:\n",
      "NotebookApp.iopub_msg_rate_limit=1000.0 (msgs/sec)\n",
      "NotebookApp.rate_limit_window=3.0 (secs)\n",
      "\n",
      "Acc: 89.684%: 100%|█████████▉| 391/392 [00:31<00:00, 12.94it/s]\n",
      "  0%|          | 0/392 [00:00<?, ?it/s]"
     ]
    },
    {
     "name": "stdout",
     "output_type": "stream",
     "text": [
      "\n",
      "Epoch: 168\n"
     ]
    },
    {
     "name": "stderr",
     "output_type": "stream",
     "text": [
      "Acc: 89.908%: 100%|█████████▉| 391/392 [00:31<00:00, 12.93it/s]\n",
      "  0%|          | 0/392 [00:00<?, ?it/s]"
     ]
    },
    {
     "name": "stdout",
     "output_type": "stream",
     "text": [
      "\n",
      "Epoch: 169\n"
     ]
    },
    {
     "name": "stderr",
     "output_type": "stream",
     "text": [
      "Acc: 89.672%: 100%|█████████▉| 391/392 [00:32<00:00, 12.83it/s]\n",
      "  0%|          | 0/392 [00:00<?, ?it/s]"
     ]
    },
    {
     "name": "stdout",
     "output_type": "stream",
     "text": [
      "\n",
      "Epoch: 170\n"
     ]
    },
    {
     "name": "stderr",
     "output_type": "stream",
     "text": [
      "Acc: 89.770%: 100%|█████████▉| 391/392 [00:31<00:00, 12.88it/s]\n",
      "Acc: 88.160%:  99%|█████████▉| 100/101 [00:02<00:00, 40.72it/s]\n"
     ]
    },
    {
     "name": "stdout",
     "output_type": "stream",
     "text": [
      "Saving..\n"
     ]
    },
    {
     "name": "stderr",
     "output_type": "stream",
     "text": [
      "\r",
      "  0%|          | 0/392 [00:00<?, ?it/s]"
     ]
    },
    {
     "name": "stdout",
     "output_type": "stream",
     "text": [
      "\n",
      "Epoch: 171\n"
     ]
    },
    {
     "name": "stderr",
     "output_type": "stream",
     "text": [
      "Acc: 89.924%: 100%|█████████▉| 391/392 [00:31<00:00, 12.87it/s]\n",
      "  0%|          | 0/392 [00:00<?, ?it/s]"
     ]
    },
    {
     "name": "stdout",
     "output_type": "stream",
     "text": [
      "\n",
      "Epoch: 172\n"
     ]
    },
    {
     "name": "stderr",
     "output_type": "stream",
     "text": [
      "Acc: 89.874%: 100%|█████████▉| 391/392 [00:31<00:00, 12.92it/s]\n",
      "  0%|          | 0/392 [00:00<?, ?it/s]"
     ]
    },
    {
     "name": "stdout",
     "output_type": "stream",
     "text": [
      "\n",
      "Epoch: 173\n"
     ]
    },
    {
     "name": "stderr",
     "output_type": "stream",
     "text": [
      "Acc: 89.898%: 100%|█████████▉| 391/392 [00:31<00:00, 12.95it/s]\n",
      "  0%|          | 0/392 [00:00<?, ?it/s]"
     ]
    },
    {
     "name": "stdout",
     "output_type": "stream",
     "text": [
      "\n",
      "Epoch: 174\n"
     ]
    },
    {
     "name": "stderr",
     "output_type": "stream",
     "text": [
      "Acc: 89.860%: 100%|█████████▉| 391/392 [00:31<00:00, 12.93it/s]\n",
      "  0%|          | 0/392 [00:00<?, ?it/s]"
     ]
    },
    {
     "name": "stdout",
     "output_type": "stream",
     "text": [
      "\n",
      "Epoch: 175\n"
     ]
    },
    {
     "name": "stderr",
     "output_type": "stream",
     "text": [
      "Acc: 89.986%: 100%|█████████▉| 391/392 [00:31<00:00, 12.96it/s]\n",
      "  0%|          | 0/392 [00:00<?, ?it/s]"
     ]
    },
    {
     "name": "stdout",
     "output_type": "stream",
     "text": [
      "\n",
      "Epoch: 176\n"
     ]
    },
    {
     "name": "stderr",
     "output_type": "stream",
     "text": [
      "Acc: 90.066%: 100%|█████████▉| 391/392 [00:31<00:00, 12.94it/s]\n",
      "  0%|          | 0/392 [00:00<?, ?it/s]"
     ]
    },
    {
     "name": "stdout",
     "output_type": "stream",
     "text": [
      "\n",
      "Epoch: 177\n"
     ]
    },
    {
     "name": "stderr",
     "output_type": "stream",
     "text": [
      "Acc: 89.724%: 100%|█████████▉| 391/392 [00:31<00:00, 12.92it/s]\n",
      "  0%|          | 0/392 [00:00<?, ?it/s]"
     ]
    },
    {
     "name": "stdout",
     "output_type": "stream",
     "text": [
      "\n",
      "Epoch: 178\n"
     ]
    },
    {
     "name": "stderr",
     "output_type": "stream",
     "text": [
      "Acc: 89.778%: 100%|█████████▉| 391/392 [00:31<00:00, 12.92it/s]\n",
      "  0%|          | 0/392 [00:00<?, ?it/s]"
     ]
    },
    {
     "name": "stdout",
     "output_type": "stream",
     "text": [
      "\n",
      "Epoch: 179\n"
     ]
    },
    {
     "name": "stderr",
     "output_type": "stream",
     "text": [
      "Acc: 89.818%: 100%|█████████▉| 391/392 [00:31<00:00, 12.87it/s]\n",
      "  0%|          | 0/392 [00:00<?, ?it/s]"
     ]
    },
    {
     "name": "stdout",
     "output_type": "stream",
     "text": [
      "\n",
      "Epoch: 180\n"
     ]
    },
    {
     "name": "stderr",
     "output_type": "stream",
     "text": [
      "Acc: 89.872%: 100%|█████████▉| 391/392 [00:31<00:00, 12.94it/s]\n",
      "Acc: 87.770%:  99%|█████████▉| 100/101 [00:02<00:00, 42.82it/s]\n",
      "  0%|          | 0/392 [00:00<?, ?it/s]"
     ]
    },
    {
     "name": "stdout",
     "output_type": "stream",
     "text": [
      "\n",
      "Epoch: 181\n"
     ]
    },
    {
     "name": "stderr",
     "output_type": "stream",
     "text": [
      "Acc: 89.858%: 100%|█████████▉| 391/392 [00:31<00:00, 12.92it/s]\n",
      "  0%|          | 0/392 [00:00<?, ?it/s]"
     ]
    },
    {
     "name": "stdout",
     "output_type": "stream",
     "text": [
      "\n",
      "Epoch: 182\n"
     ]
    },
    {
     "name": "stderr",
     "output_type": "stream",
     "text": [
      "Acc: 89.430%: 100%|█████████▉| 391/392 [00:31<00:00, 12.92it/s]\n",
      "  0%|          | 0/392 [00:00<?, ?it/s]"
     ]
    },
    {
     "name": "stdout",
     "output_type": "stream",
     "text": [
      "\n",
      "Epoch: 183\n"
     ]
    },
    {
     "name": "stderr",
     "output_type": "stream",
     "text": [
      "Acc: 89.944%: 100%|█████████▉| 391/392 [00:31<00:00, 13.06it/s]\n",
      "  0%|          | 0/392 [00:00<?, ?it/s]"
     ]
    },
    {
     "name": "stdout",
     "output_type": "stream",
     "text": [
      "\n",
      "Epoch: 184\n"
     ]
    },
    {
     "name": "stderr",
     "output_type": "stream",
     "text": [
      "Acc: 89.984%: 100%|█████████▉| 391/392 [00:31<00:00, 12.94it/s]\n",
      "  0%|          | 0/392 [00:00<?, ?it/s]"
     ]
    },
    {
     "name": "stdout",
     "output_type": "stream",
     "text": [
      "\n",
      "Epoch: 185\n"
     ]
    },
    {
     "name": "stderr",
     "output_type": "stream",
     "text": [
      "Acc: 90.032%: 100%|█████████▉| 391/392 [00:31<00:00, 12.86it/s]\n",
      "  0%|          | 0/392 [00:00<?, ?it/s]"
     ]
    },
    {
     "name": "stdout",
     "output_type": "stream",
     "text": [
      "\n",
      "Epoch: 186\n"
     ]
    },
    {
     "name": "stderr",
     "output_type": "stream",
     "text": [
      "Acc: 89.808%: 100%|█████████▉| 391/392 [00:31<00:00, 12.91it/s]\n",
      "  0%|          | 0/392 [00:00<?, ?it/s]"
     ]
    },
    {
     "name": "stdout",
     "output_type": "stream",
     "text": [
      "\n",
      "Epoch: 187\n"
     ]
    },
    {
     "name": "stderr",
     "output_type": "stream",
     "text": [
      "Acc: 89.758%: 100%|█████████▉| 391/392 [00:31<00:00, 12.90it/s]\n",
      "  0%|          | 0/392 [00:00<?, ?it/s]"
     ]
    },
    {
     "name": "stdout",
     "output_type": "stream",
     "text": [
      "\n",
      "Epoch: 188\n"
     ]
    },
    {
     "name": "stderr",
     "output_type": "stream",
     "text": [
      "Acc: 89.912%: 100%|█████████▉| 391/392 [00:31<00:00, 12.94it/s]\n",
      "  0%|          | 0/392 [00:00<?, ?it/s]"
     ]
    },
    {
     "name": "stdout",
     "output_type": "stream",
     "text": [
      "\n",
      "Epoch: 189\n"
     ]
    },
    {
     "name": "stderr",
     "output_type": "stream",
     "text": [
      "Acc: 89.836%: 100%|█████████▉| 391/392 [00:31<00:00, 12.81it/s]\n",
      "  0%|          | 0/392 [00:00<?, ?it/s]"
     ]
    },
    {
     "name": "stdout",
     "output_type": "stream",
     "text": [
      "\n",
      "Epoch: 190\n"
     ]
    },
    {
     "name": "stderr",
     "output_type": "stream",
     "text": [
      "Acc: 90.082%: 100%|█████████▉| 391/392 [00:31<00:00, 12.95it/s]\n",
      "Acc: 87.850%:  99%|█████████▉| 100/101 [00:02<00:00, 42.02it/s]\n",
      "  0%|          | 0/392 [00:00<?, ?it/s]"
     ]
    },
    {
     "name": "stdout",
     "output_type": "stream",
     "text": [
      "\n",
      "Epoch: 191\n"
     ]
    },
    {
     "name": "stderr",
     "output_type": "stream",
     "text": [
      "Acc: 89.826%: 100%|█████████▉| 391/392 [00:31<00:00, 12.94it/s]\n",
      "  0%|          | 0/392 [00:00<?, ?it/s]"
     ]
    },
    {
     "name": "stdout",
     "output_type": "stream",
     "text": [
      "\n",
      "Epoch: 192\n"
     ]
    },
    {
     "name": "stderr",
     "output_type": "stream",
     "text": [
      "Acc: 89.686%: 100%|█████████▉| 391/392 [00:31<00:00, 12.90it/s]\n",
      "  0%|          | 0/392 [00:00<?, ?it/s]"
     ]
    },
    {
     "name": "stdout",
     "output_type": "stream",
     "text": [
      "\n",
      "Epoch: 193\n"
     ]
    },
    {
     "name": "stderr",
     "output_type": "stream",
     "text": [
      "Acc: 89.872%: 100%|█████████▉| 391/392 [00:31<00:00, 12.92it/s]\n",
      "  0%|          | 0/392 [00:00<?, ?it/s]"
     ]
    },
    {
     "name": "stdout",
     "output_type": "stream",
     "text": [
      "\n",
      "Epoch: 194\n"
     ]
    },
    {
     "name": "stderr",
     "output_type": "stream",
     "text": [
      "Acc: 89.838%: 100%|█████████▉| 391/392 [00:31<00:00, 12.93it/s]\n",
      "  0%|          | 0/392 [00:00<?, ?it/s]"
     ]
    },
    {
     "name": "stdout",
     "output_type": "stream",
     "text": [
      "\n",
      "Epoch: 195\n"
     ]
    },
    {
     "name": "stderr",
     "output_type": "stream",
     "text": [
      "Acc: 89.872%: 100%|█████████▉| 391/392 [00:32<00:00, 12.93it/s]\n",
      "  0%|          | 0/392 [00:00<?, ?it/s]"
     ]
    },
    {
     "name": "stdout",
     "output_type": "stream",
     "text": [
      "\n",
      "Epoch: 196\n"
     ]
    },
    {
     "name": "stderr",
     "output_type": "stream",
     "text": [
      "Acc: 89.744%: 100%|█████████▉| 391/392 [00:31<00:00, 12.96it/s]\n",
      "  0%|          | 0/392 [00:00<?, ?it/s]"
     ]
    },
    {
     "name": "stdout",
     "output_type": "stream",
     "text": [
      "\n",
      "Epoch: 197\n"
     ]
    },
    {
     "name": "stderr",
     "output_type": "stream",
     "text": [
      "Acc: 89.644%: 100%|█████████▉| 391/392 [00:31<00:00, 12.93it/s]\n",
      "  0%|          | 0/392 [00:00<?, ?it/s]"
     ]
    },
    {
     "name": "stdout",
     "output_type": "stream",
     "text": [
      "\n",
      "Epoch: 198\n"
     ]
    },
    {
     "name": "stderr",
     "output_type": "stream",
     "text": [
      "Acc: 89.902%: 100%|█████████▉| 391/392 [00:31<00:00, 12.86it/s]\n",
      "  0%|          | 0/392 [00:00<?, ?it/s]"
     ]
    },
    {
     "name": "stdout",
     "output_type": "stream",
     "text": [
      "\n",
      "Epoch: 199\n"
     ]
    },
    {
     "name": "stderr",
     "output_type": "stream",
     "text": [
      "Acc: 89.718%: 100%|█████████▉| 391/392 [00:32<00:00, 12.90it/s]\n",
      "  0%|          | 0/392 [00:00<?, ?it/s]"
     ]
    },
    {
     "name": "stdout",
     "output_type": "stream",
     "text": [
      "\n",
      "Epoch: 200\n"
     ]
    },
    {
     "name": "stderr",
     "output_type": "stream",
     "text": [
      "Acc: 90.110%: 100%|█████████▉| 391/392 [00:32<00:00, 12.85it/s]\n",
      "Acc: 87.600%:  99%|█████████▉| 100/101 [00:02<00:00, 42.82it/s]\n",
      "  0%|          | 0/392 [00:00<?, ?it/s]"
     ]
    },
    {
     "name": "stdout",
     "output_type": "stream",
     "text": [
      "\n",
      "Epoch: 201\n"
     ]
    },
    {
     "name": "stderr",
     "output_type": "stream",
     "text": [
      "Acc: 90.220%: 100%|█████████▉| 391/392 [00:31<00:00, 12.83it/s]\n",
      "  0%|          | 0/392 [00:00<?, ?it/s]"
     ]
    },
    {
     "name": "stdout",
     "output_type": "stream",
     "text": [
      "\n",
      "Epoch: 202\n"
     ]
    },
    {
     "name": "stderr",
     "output_type": "stream",
     "text": [
      "Acc: 90.080%: 100%|█████████▉| 391/392 [00:31<00:00, 12.97it/s]\n",
      "  0%|          | 0/392 [00:00<?, ?it/s]"
     ]
    },
    {
     "name": "stdout",
     "output_type": "stream",
     "text": [
      "\n",
      "Epoch: 203\n"
     ]
    },
    {
     "name": "stderr",
     "output_type": "stream",
     "text": [
      "Acc: 89.926%: 100%|█████████▉| 391/392 [00:31<00:00, 12.94it/s]\n",
      "  0%|          | 0/392 [00:00<?, ?it/s]"
     ]
    },
    {
     "name": "stdout",
     "output_type": "stream",
     "text": [
      "\n",
      "Epoch: 204\n"
     ]
    },
    {
     "name": "stderr",
     "output_type": "stream",
     "text": [
      "Acc: 90.096%: 100%|█████████▉| 391/392 [00:31<00:00, 12.82it/s]\n",
      "  0%|          | 0/392 [00:00<?, ?it/s]"
     ]
    },
    {
     "name": "stdout",
     "output_type": "stream",
     "text": [
      "\n",
      "Epoch: 205\n"
     ]
    },
    {
     "name": "stderr",
     "output_type": "stream",
     "text": [
      "Acc: 89.906%: 100%|█████████▉| 391/392 [00:31<00:00, 12.94it/s]\n",
      "  0%|          | 0/392 [00:00<?, ?it/s]"
     ]
    },
    {
     "name": "stdout",
     "output_type": "stream",
     "text": [
      "\n",
      "Epoch: 206\n"
     ]
    },
    {
     "name": "stderr",
     "output_type": "stream",
     "text": [
      "Acc: 89.742%: 100%|█████████▉| 391/392 [00:31<00:00, 12.98it/s]\n",
      "  0%|          | 0/392 [00:00<?, ?it/s]"
     ]
    },
    {
     "name": "stdout",
     "output_type": "stream",
     "text": [
      "\n",
      "Epoch: 207\n"
     ]
    },
    {
     "name": "stderr",
     "output_type": "stream",
     "text": [
      "Acc: 90.102%: 100%|█████████▉| 391/392 [00:31<00:00, 12.93it/s]\n",
      "  0%|          | 0/392 [00:00<?, ?it/s]"
     ]
    },
    {
     "name": "stdout",
     "output_type": "stream",
     "text": [
      "\n",
      "Epoch: 208\n"
     ]
    },
    {
     "name": "stderr",
     "output_type": "stream",
     "text": [
      "Acc: 89.994%: 100%|█████████▉| 391/392 [00:31<00:00, 12.93it/s]\n",
      "  0%|          | 0/392 [00:00<?, ?it/s]"
     ]
    },
    {
     "name": "stdout",
     "output_type": "stream",
     "text": [
      "\n",
      "Epoch: 209\n"
     ]
    },
    {
     "name": "stderr",
     "output_type": "stream",
     "text": [
      "Acc: 90.002%: 100%|█████████▉| 391/392 [00:31<00:00, 12.93it/s]\n",
      "  0%|          | 0/392 [00:00<?, ?it/s]"
     ]
    },
    {
     "name": "stdout",
     "output_type": "stream",
     "text": [
      "\n",
      "Epoch: 210\n"
     ]
    },
    {
     "name": "stderr",
     "output_type": "stream",
     "text": [
      "Acc: 90.236%: 100%|█████████▉| 391/392 [00:32<00:00, 12.96it/s]\n",
      "Acc: 87.630%:  99%|█████████▉| 100/101 [00:02<00:00, 42.54it/s]\n",
      "  0%|          | 0/392 [00:00<?, ?it/s]"
     ]
    },
    {
     "name": "stdout",
     "output_type": "stream",
     "text": [
      "\n",
      "Epoch: 211\n"
     ]
    },
    {
     "name": "stderr",
     "output_type": "stream",
     "text": [
      "Acc: 90.182%: 100%|█████████▉| 391/392 [00:31<00:00, 12.93it/s]\n",
      "  0%|          | 0/392 [00:00<?, ?it/s]"
     ]
    },
    {
     "name": "stdout",
     "output_type": "stream",
     "text": [
      "\n",
      "Epoch: 212\n"
     ]
    },
    {
     "name": "stderr",
     "output_type": "stream",
     "text": [
      "Acc: 90.008%: 100%|█████████▉| 391/392 [00:31<00:00, 12.98it/s]\n",
      "  0%|          | 0/392 [00:00<?, ?it/s]"
     ]
    },
    {
     "name": "stdout",
     "output_type": "stream",
     "text": [
      "\n",
      "Epoch: 213\n"
     ]
    },
    {
     "name": "stderr",
     "output_type": "stream",
     "text": [
      "Acc: 90.072%: 100%|█████████▉| 391/392 [00:31<00:00, 12.97it/s]\n",
      "  0%|          | 0/392 [00:00<?, ?it/s]"
     ]
    },
    {
     "name": "stdout",
     "output_type": "stream",
     "text": [
      "\n",
      "Epoch: 214\n"
     ]
    },
    {
     "name": "stderr",
     "output_type": "stream",
     "text": [
      "Acc: 90.040%: 100%|█████████▉| 391/392 [00:31<00:00, 12.94it/s]\n",
      "  0%|          | 0/392 [00:00<?, ?it/s]"
     ]
    },
    {
     "name": "stdout",
     "output_type": "stream",
     "text": [
      "\n",
      "Epoch: 215\n"
     ]
    },
    {
     "name": "stderr",
     "output_type": "stream",
     "text": [
      "Acc: 89.950%: 100%|█████████▉| 391/392 [00:31<00:00, 12.85it/s]\n",
      "  0%|          | 0/392 [00:00<?, ?it/s]"
     ]
    },
    {
     "name": "stdout",
     "output_type": "stream",
     "text": [
      "\n",
      "Epoch: 216\n"
     ]
    },
    {
     "name": "stderr",
     "output_type": "stream",
     "text": [
      "Acc: 90.092%: 100%|█████████▉| 391/392 [00:31<00:00, 12.99it/s]\n",
      "  0%|          | 0/392 [00:00<?, ?it/s]"
     ]
    },
    {
     "name": "stdout",
     "output_type": "stream",
     "text": [
      "\n",
      "Epoch: 217\n"
     ]
    },
    {
     "name": "stderr",
     "output_type": "stream",
     "text": [
      "Acc: 90.062%: 100%|█████████▉| 391/392 [00:31<00:00, 12.93it/s]\n",
      "  0%|          | 0/392 [00:00<?, ?it/s]"
     ]
    },
    {
     "name": "stdout",
     "output_type": "stream",
     "text": [
      "\n",
      "Epoch: 218\n"
     ]
    },
    {
     "name": "stderr",
     "output_type": "stream",
     "text": [
      "Acc: 90.052%: 100%|█████████▉| 391/392 [00:31<00:00, 12.94it/s]\n",
      "  0%|          | 0/392 [00:00<?, ?it/s]"
     ]
    },
    {
     "name": "stdout",
     "output_type": "stream",
     "text": [
      "\n",
      "Epoch: 219\n"
     ]
    },
    {
     "name": "stderr",
     "output_type": "stream",
     "text": [
      "Acc: 90.082%: 100%|█████████▉| 391/392 [00:31<00:00, 12.85it/s]\n",
      "  0%|          | 0/392 [00:00<?, ?it/s]"
     ]
    },
    {
     "name": "stdout",
     "output_type": "stream",
     "text": [
      "\n",
      "Epoch: 220\n"
     ]
    },
    {
     "name": "stderr",
     "output_type": "stream",
     "text": [
      "Acc: 90.154%: 100%|█████████▉| 391/392 [00:31<00:00, 12.88it/s]\n",
      "Acc: 87.800%:  99%|█████████▉| 100/101 [00:02<00:00, 42.67it/s]\n",
      "  0%|          | 0/392 [00:00<?, ?it/s]"
     ]
    },
    {
     "name": "stdout",
     "output_type": "stream",
     "text": [
      "\n",
      "Epoch: 221\n"
     ]
    },
    {
     "name": "stderr",
     "output_type": "stream",
     "text": [
      "Acc: 90.146%: 100%|█████████▉| 391/392 [00:31<00:00, 12.86it/s]\n",
      "  0%|          | 0/392 [00:00<?, ?it/s]"
     ]
    },
    {
     "name": "stdout",
     "output_type": "stream",
     "text": [
      "\n",
      "Epoch: 222\n"
     ]
    },
    {
     "name": "stderr",
     "output_type": "stream",
     "text": [
      "Acc: 89.894%: 100%|█████████▉| 391/392 [00:31<00:00, 12.93it/s]\n",
      "  0%|          | 0/392 [00:00<?, ?it/s]"
     ]
    },
    {
     "name": "stdout",
     "output_type": "stream",
     "text": [
      "\n",
      "Epoch: 223\n"
     ]
    },
    {
     "name": "stderr",
     "output_type": "stream",
     "text": [
      "Acc: 89.984%: 100%|█████████▉| 391/392 [00:31<00:00, 12.93it/s]\n",
      "  0%|          | 0/392 [00:00<?, ?it/s]"
     ]
    },
    {
     "name": "stdout",
     "output_type": "stream",
     "text": [
      "\n",
      "Epoch: 224\n"
     ]
    },
    {
     "name": "stderr",
     "output_type": "stream",
     "text": [
      "Acc: 90.222%: 100%|█████████▉| 391/392 [00:31<00:00, 12.94it/s]\n",
      "  0%|          | 0/392 [00:00<?, ?it/s]"
     ]
    },
    {
     "name": "stdout",
     "output_type": "stream",
     "text": [
      "\n",
      "Epoch: 225\n"
     ]
    },
    {
     "name": "stderr",
     "output_type": "stream",
     "text": [
      "Acc: 90.266%: 100%|█████████▉| 391/392 [00:31<00:00, 12.94it/s]\n",
      "  0%|          | 0/392 [00:00<?, ?it/s]"
     ]
    },
    {
     "name": "stdout",
     "output_type": "stream",
     "text": [
      "\n",
      "Epoch: 226\n"
     ]
    },
    {
     "name": "stderr",
     "output_type": "stream",
     "text": [
      "Acc: 90.188%: 100%|█████████▉| 391/392 [00:31<00:00, 12.93it/s]\n",
      "  0%|          | 0/392 [00:00<?, ?it/s]"
     ]
    },
    {
     "name": "stdout",
     "output_type": "stream",
     "text": [
      "\n",
      "Epoch: 227\n"
     ]
    },
    {
     "name": "stderr",
     "output_type": "stream",
     "text": [
      "Acc: 90.230%: 100%|█████████▉| 391/392 [00:31<00:00, 12.90it/s]\n",
      "  0%|          | 0/392 [00:00<?, ?it/s]"
     ]
    },
    {
     "name": "stdout",
     "output_type": "stream",
     "text": [
      "\n",
      "Epoch: 228\n"
     ]
    },
    {
     "name": "stderr",
     "output_type": "stream",
     "text": [
      "Acc: 90.242%: 100%|█████████▉| 391/392 [00:31<00:00, 12.86it/s]\n",
      "  0%|          | 0/392 [00:00<?, ?it/s]"
     ]
    },
    {
     "name": "stdout",
     "output_type": "stream",
     "text": [
      "\n",
      "Epoch: 229\n"
     ]
    },
    {
     "name": "stderr",
     "output_type": "stream",
     "text": [
      "Acc: 90.358%: 100%|█████████▉| 391/392 [00:31<00:00, 12.87it/s]\n",
      "  0%|          | 0/392 [00:00<?, ?it/s]"
     ]
    },
    {
     "name": "stdout",
     "output_type": "stream",
     "text": [
      "\n",
      "Epoch: 230\n"
     ]
    },
    {
     "name": "stderr",
     "output_type": "stream",
     "text": [
      "Acc: 89.986%: 100%|█████████▉| 391/392 [00:31<00:00, 12.88it/s]\n",
      "Acc: 88.260%:  99%|█████████▉| 100/101 [00:02<00:00, 41.59it/s]\n",
      "  0%|          | 0/392 [00:00<?, ?it/s]"
     ]
    },
    {
     "name": "stdout",
     "output_type": "stream",
     "text": [
      "Saving..\n",
      "\n",
      "Epoch: 231\n"
     ]
    },
    {
     "name": "stderr",
     "output_type": "stream",
     "text": [
      "Acc: 90.346%: 100%|█████████▉| 391/392 [00:32<00:00, 12.87it/s]\n",
      "  0%|          | 0/392 [00:00<?, ?it/s]"
     ]
    },
    {
     "name": "stdout",
     "output_type": "stream",
     "text": [
      "\n",
      "Epoch: 232\n"
     ]
    },
    {
     "name": "stderr",
     "output_type": "stream",
     "text": [
      "Acc: 90.414%: 100%|█████████▉| 391/392 [00:31<00:00, 12.91it/s]\n",
      "  0%|          | 0/392 [00:00<?, ?it/s]"
     ]
    },
    {
     "name": "stdout",
     "output_type": "stream",
     "text": [
      "\n",
      "Epoch: 233\n"
     ]
    },
    {
     "name": "stderr",
     "output_type": "stream",
     "text": [
      "Acc: 90.272%: 100%|█████████▉| 391/392 [00:32<00:00, 12.91it/s]\n",
      "  0%|          | 0/392 [00:00<?, ?it/s]"
     ]
    },
    {
     "name": "stdout",
     "output_type": "stream",
     "text": [
      "\n",
      "Epoch: 234\n"
     ]
    },
    {
     "name": "stderr",
     "output_type": "stream",
     "text": [
      "Acc: 90.312%: 100%|█████████▉| 391/392 [00:31<00:00, 12.88it/s]\n",
      "  0%|          | 0/392 [00:00<?, ?it/s]"
     ]
    },
    {
     "name": "stdout",
     "output_type": "stream",
     "text": [
      "\n",
      "Epoch: 235\n"
     ]
    },
    {
     "name": "stderr",
     "output_type": "stream",
     "text": [
      "Acc: 90.252%: 100%|█████████▉| 391/392 [00:32<00:00, 12.83it/s]\n",
      "  0%|          | 0/392 [00:00<?, ?it/s]"
     ]
    },
    {
     "name": "stdout",
     "output_type": "stream",
     "text": [
      "\n",
      "Epoch: 236\n"
     ]
    },
    {
     "name": "stderr",
     "output_type": "stream",
     "text": [
      "Acc: 90.326%: 100%|█████████▉| 391/392 [00:31<00:00, 12.88it/s]\n",
      "  0%|          | 0/392 [00:00<?, ?it/s]"
     ]
    },
    {
     "name": "stdout",
     "output_type": "stream",
     "text": [
      "\n",
      "Epoch: 237\n"
     ]
    },
    {
     "name": "stderr",
     "output_type": "stream",
     "text": [
      "Acc: 90.622%: 100%|█████████▉| 391/392 [00:31<00:00, 12.87it/s]\n",
      "  0%|          | 0/392 [00:00<?, ?it/s]"
     ]
    },
    {
     "name": "stdout",
     "output_type": "stream",
     "text": [
      "\n",
      "Epoch: 238\n"
     ]
    },
    {
     "name": "stderr",
     "output_type": "stream",
     "text": [
      "Acc: 90.480%: 100%|█████████▉| 391/392 [00:31<00:00, 12.91it/s]\n",
      "  0%|          | 0/392 [00:00<?, ?it/s]"
     ]
    },
    {
     "name": "stdout",
     "output_type": "stream",
     "text": [
      "\n",
      "Epoch: 239\n"
     ]
    },
    {
     "name": "stderr",
     "output_type": "stream",
     "text": [
      "Acc: 90.170%: 100%|█████████▉| 391/392 [00:32<00:00, 12.84it/s]\n",
      "  0%|          | 0/392 [00:00<?, ?it/s]"
     ]
    },
    {
     "name": "stdout",
     "output_type": "stream",
     "text": [
      "\n",
      "Epoch: 240\n"
     ]
    },
    {
     "name": "stderr",
     "output_type": "stream",
     "text": [
      "Acc: 90.418%: 100%|█████████▉| 391/392 [00:32<00:00, 12.82it/s]\n",
      "Acc: 85.800%:  99%|█████████▉| 100/101 [00:02<00:00, 42.16it/s]\n",
      "  0%|          | 0/392 [00:00<?, ?it/s]"
     ]
    },
    {
     "name": "stdout",
     "output_type": "stream",
     "text": [
      "\n",
      "Epoch: 241\n"
     ]
    },
    {
     "name": "stderr",
     "output_type": "stream",
     "text": [
      "Acc: 90.570%: 100%|█████████▉| 391/392 [00:32<00:00, 12.87it/s]\n",
      "  0%|          | 0/392 [00:00<?, ?it/s]"
     ]
    },
    {
     "name": "stdout",
     "output_type": "stream",
     "text": [
      "\n",
      "Epoch: 242\n"
     ]
    },
    {
     "name": "stderr",
     "output_type": "stream",
     "text": [
      "Acc: 90.560%: 100%|█████████▉| 391/392 [00:32<00:00, 12.94it/s]\n",
      "  0%|          | 0/392 [00:00<?, ?it/s]"
     ]
    },
    {
     "name": "stdout",
     "output_type": "stream",
     "text": [
      "\n",
      "Epoch: 243\n"
     ]
    },
    {
     "name": "stderr",
     "output_type": "stream",
     "text": [
      "Acc: 90.562%: 100%|█████████▉| 391/392 [00:32<00:00, 12.92it/s]\n",
      "  0%|          | 0/392 [00:00<?, ?it/s]"
     ]
    },
    {
     "name": "stdout",
     "output_type": "stream",
     "text": [
      "\n",
      "Epoch: 244\n"
     ]
    },
    {
     "name": "stderr",
     "output_type": "stream",
     "text": [
      "Acc: 90.452%: 100%|█████████▉| 391/392 [00:32<00:00, 12.88it/s]\n",
      "  0%|          | 0/392 [00:00<?, ?it/s]"
     ]
    },
    {
     "name": "stdout",
     "output_type": "stream",
     "text": [
      "\n",
      "Epoch: 245\n"
     ]
    },
    {
     "name": "stderr",
     "output_type": "stream",
     "text": [
      "Acc: 90.528%: 100%|█████████▉| 391/392 [00:32<00:00, 12.92it/s]\n",
      "  0%|          | 0/392 [00:00<?, ?it/s]"
     ]
    },
    {
     "name": "stdout",
     "output_type": "stream",
     "text": [
      "\n",
      "Epoch: 246\n"
     ]
    },
    {
     "name": "stderr",
     "output_type": "stream",
     "text": [
      "Acc: 90.344%: 100%|█████████▉| 391/392 [00:31<00:00, 12.97it/s]\n",
      "  0%|          | 0/392 [00:00<?, ?it/s]"
     ]
    },
    {
     "name": "stdout",
     "output_type": "stream",
     "text": [
      "\n",
      "Epoch: 247\n"
     ]
    },
    {
     "name": "stderr",
     "output_type": "stream",
     "text": [
      "Acc: 90.466%: 100%|█████████▉| 391/392 [00:32<00:00, 12.84it/s]\n",
      "  0%|          | 0/392 [00:00<?, ?it/s]"
     ]
    },
    {
     "name": "stdout",
     "output_type": "stream",
     "text": [
      "\n",
      "Epoch: 248\n"
     ]
    },
    {
     "name": "stderr",
     "output_type": "stream",
     "text": [
      "Acc: 90.628%: 100%|█████████▉| 391/392 [00:32<00:00, 12.88it/s]\n",
      "  0%|          | 0/392 [00:00<?, ?it/s]"
     ]
    },
    {
     "name": "stdout",
     "output_type": "stream",
     "text": [
      "\n",
      "Epoch: 249\n"
     ]
    },
    {
     "name": "stderr",
     "output_type": "stream",
     "text": [
      "Acc: 90.558%: 100%|█████████▉| 391/392 [00:31<00:00, 12.90it/s]\n",
      "  0%|          | 0/392 [00:00<?, ?it/s]"
     ]
    },
    {
     "name": "stdout",
     "output_type": "stream",
     "text": [
      "\n",
      "Epoch: 250\n"
     ]
    },
    {
     "name": "stderr",
     "output_type": "stream",
     "text": [
      "Acc: 92.814%: 100%|█████████▉| 391/392 [00:31<00:00, 12.89it/s]\n",
      "Acc: 90.650%:  99%|█████████▉| 100/101 [00:02<00:00, 42.63it/s]\n"
     ]
    },
    {
     "name": "stdout",
     "output_type": "stream",
     "text": [
      "Saving..\n"
     ]
    },
    {
     "name": "stderr",
     "output_type": "stream",
     "text": [
      "\r",
      "  0%|          | 0/392 [00:00<?, ?it/s]"
     ]
    },
    {
     "name": "stdout",
     "output_type": "stream",
     "text": [
      "\n",
      "Epoch: 251\n"
     ]
    },
    {
     "name": "stderr",
     "output_type": "stream",
     "text": [
      "Acc: 93.856%: 100%|█████████▉| 391/392 [00:32<00:00, 12.94it/s]\n",
      "  0%|          | 0/392 [00:00<?, ?it/s]"
     ]
    },
    {
     "name": "stdout",
     "output_type": "stream",
     "text": [
      "\n",
      "Epoch: 252\n"
     ]
    },
    {
     "name": "stderr",
     "output_type": "stream",
     "text": [
      "Acc: 94.168%: 100%|█████████▉| 391/392 [00:32<00:00, 12.92it/s]\n",
      "  0%|          | 0/392 [00:00<?, ?it/s]"
     ]
    },
    {
     "name": "stdout",
     "output_type": "stream",
     "text": [
      "\n",
      "Epoch: 253\n"
     ]
    },
    {
     "name": "stderr",
     "output_type": "stream",
     "text": [
      "Acc: 94.476%: 100%|█████████▉| 391/392 [00:32<00:00, 12.92it/s]\n",
      "  0%|          | 0/392 [00:00<?, ?it/s]"
     ]
    },
    {
     "name": "stdout",
     "output_type": "stream",
     "text": [
      "\n",
      "Epoch: 254\n"
     ]
    },
    {
     "name": "stderr",
     "output_type": "stream",
     "text": [
      "Acc: 94.618%: 100%|█████████▉| 391/392 [00:32<00:00, 12.90it/s]\n",
      "  0%|          | 0/392 [00:00<?, ?it/s]"
     ]
    },
    {
     "name": "stdout",
     "output_type": "stream",
     "text": [
      "\n",
      "Epoch: 255\n"
     ]
    },
    {
     "name": "stderr",
     "output_type": "stream",
     "text": [
      "Acc: 94.622%: 100%|█████████▉| 391/392 [00:32<00:00, 12.84it/s]\n",
      "  0%|          | 0/392 [00:00<?, ?it/s]"
     ]
    },
    {
     "name": "stdout",
     "output_type": "stream",
     "text": [
      "\n",
      "Epoch: 256\n"
     ]
    },
    {
     "name": "stderr",
     "output_type": "stream",
     "text": [
      "Acc: 94.648%: 100%|█████████▉| 391/392 [00:31<00:00, 12.93it/s]\n",
      "  0%|          | 0/392 [00:00<?, ?it/s]"
     ]
    },
    {
     "name": "stdout",
     "output_type": "stream",
     "text": [
      "\n",
      "Epoch: 257\n"
     ]
    },
    {
     "name": "stderr",
     "output_type": "stream",
     "text": [
      "Acc: 94.774%: 100%|█████████▉| 391/392 [00:32<00:00, 12.89it/s]\n",
      "  0%|          | 0/392 [00:00<?, ?it/s]"
     ]
    },
    {
     "name": "stdout",
     "output_type": "stream",
     "text": [
      "\n",
      "Epoch: 258\n"
     ]
    },
    {
     "name": "stderr",
     "output_type": "stream",
     "text": [
      "Acc: 94.928%: 100%|█████████▉| 391/392 [00:32<00:00, 12.85it/s]\n",
      "  0%|          | 0/392 [00:00<?, ?it/s]"
     ]
    },
    {
     "name": "stdout",
     "output_type": "stream",
     "text": [
      "\n",
      "Epoch: 259\n"
     ]
    },
    {
     "name": "stderr",
     "output_type": "stream",
     "text": [
      "Acc: 94.930%: 100%|█████████▉| 391/392 [00:31<00:00, 12.93it/s]\n",
      "  0%|          | 0/392 [00:00<?, ?it/s]"
     ]
    },
    {
     "name": "stdout",
     "output_type": "stream",
     "text": [
      "\n",
      "Epoch: 260\n"
     ]
    },
    {
     "name": "stderr",
     "output_type": "stream",
     "text": [
      "Acc: 95.050%: 100%|█████████▉| 391/392 [00:32<00:00, 12.85it/s]\n",
      "Acc: 91.180%:  99%|█████████▉| 100/101 [00:02<00:00, 41.54it/s]\n",
      "  0%|          | 0/392 [00:00<?, ?it/s]"
     ]
    },
    {
     "name": "stdout",
     "output_type": "stream",
     "text": [
      "Saving..\n",
      "\n",
      "Epoch: 261\n"
     ]
    },
    {
     "name": "stderr",
     "output_type": "stream",
     "text": [
      "Acc: 95.014%: 100%|█████████▉| 391/392 [00:31<00:00, 12.94it/s]\n",
      "  0%|          | 0/392 [00:00<?, ?it/s]"
     ]
    },
    {
     "name": "stdout",
     "output_type": "stream",
     "text": [
      "\n",
      "Epoch: 262\n"
     ]
    },
    {
     "name": "stderr",
     "output_type": "stream",
     "text": [
      "Acc: 95.208%: 100%|█████████▉| 391/392 [00:31<00:00, 12.94it/s]\n",
      "  0%|          | 0/392 [00:00<?, ?it/s]"
     ]
    },
    {
     "name": "stdout",
     "output_type": "stream",
     "text": [
      "\n",
      "Epoch: 263\n"
     ]
    },
    {
     "name": "stderr",
     "output_type": "stream",
     "text": [
      "Acc: 95.092%: 100%|█████████▉| 391/392 [00:31<00:00, 12.92it/s]\n",
      "  0%|          | 0/392 [00:00<?, ?it/s]"
     ]
    },
    {
     "name": "stdout",
     "output_type": "stream",
     "text": [
      "\n",
      "Epoch: 264\n"
     ]
    },
    {
     "name": "stderr",
     "output_type": "stream",
     "text": [
      "Acc: 95.214%: 100%|█████████▉| 391/392 [00:31<00:00, 12.94it/s]\n",
      "  0%|          | 0/392 [00:00<?, ?it/s]"
     ]
    },
    {
     "name": "stdout",
     "output_type": "stream",
     "text": [
      "\n",
      "Epoch: 265\n"
     ]
    },
    {
     "name": "stderr",
     "output_type": "stream",
     "text": [
      "Acc: 95.266%: 100%|█████████▉| 391/392 [00:31<00:00, 12.93it/s]\n",
      "  0%|          | 0/392 [00:00<?, ?it/s]"
     ]
    },
    {
     "name": "stdout",
     "output_type": "stream",
     "text": [
      "\n",
      "Epoch: 266\n"
     ]
    },
    {
     "name": "stderr",
     "output_type": "stream",
     "text": [
      "Acc: 95.320%: 100%|█████████▉| 391/392 [00:31<00:00, 12.95it/s]\n",
      "  0%|          | 0/392 [00:00<?, ?it/s]"
     ]
    },
    {
     "name": "stdout",
     "output_type": "stream",
     "text": [
      "\n",
      "Epoch: 267\n"
     ]
    },
    {
     "name": "stderr",
     "output_type": "stream",
     "text": [
      "Acc: 95.436%: 100%|█████████▉| 391/392 [00:31<00:00, 12.90it/s]\n",
      "  0%|          | 0/392 [00:00<?, ?it/s]"
     ]
    },
    {
     "name": "stdout",
     "output_type": "stream",
     "text": [
      "\n",
      "Epoch: 268\n"
     ]
    },
    {
     "name": "stderr",
     "output_type": "stream",
     "text": [
      "Acc: 95.442%: 100%|█████████▉| 391/392 [00:31<00:00, 12.96it/s]\n",
      "  0%|          | 0/392 [00:00<?, ?it/s]"
     ]
    },
    {
     "name": "stdout",
     "output_type": "stream",
     "text": [
      "\n",
      "Epoch: 269\n"
     ]
    },
    {
     "name": "stderr",
     "output_type": "stream",
     "text": [
      "Acc: 95.580%: 100%|█████████▉| 391/392 [00:32<00:00, 12.94it/s]\n",
      "  0%|          | 0/392 [00:00<?, ?it/s]"
     ]
    },
    {
     "name": "stdout",
     "output_type": "stream",
     "text": [
      "\n",
      "Epoch: 270\n"
     ]
    },
    {
     "name": "stderr",
     "output_type": "stream",
     "text": [
      "Acc: 95.526%: 100%|█████████▉| 391/392 [00:31<00:00, 13.13it/s]\n",
      "Acc: 91.090%:  99%|█████████▉| 100/101 [00:02<00:00, 40.22it/s]\n",
      "  0%|          | 0/392 [00:00<?, ?it/s]"
     ]
    },
    {
     "name": "stdout",
     "output_type": "stream",
     "text": [
      "\n",
      "Epoch: 271\n"
     ]
    },
    {
     "name": "stderr",
     "output_type": "stream",
     "text": [
      "Acc: 95.484%: 100%|█████████▉| 391/392 [00:31<00:00, 12.89it/s]\n",
      "  0%|          | 0/392 [00:00<?, ?it/s]"
     ]
    },
    {
     "name": "stdout",
     "output_type": "stream",
     "text": [
      "\n",
      "Epoch: 272\n"
     ]
    },
    {
     "name": "stderr",
     "output_type": "stream",
     "text": [
      "Acc: 95.634%: 100%|█████████▉| 391/392 [00:31<00:00, 12.92it/s]\n",
      "  0%|          | 0/392 [00:00<?, ?it/s]"
     ]
    },
    {
     "name": "stdout",
     "output_type": "stream",
     "text": [
      "\n",
      "Epoch: 273\n"
     ]
    },
    {
     "name": "stderr",
     "output_type": "stream",
     "text": [
      "Acc: 95.584%: 100%|█████████▉| 391/392 [00:31<00:00, 13.14it/s]\n",
      "  0%|          | 0/392 [00:00<?, ?it/s]"
     ]
    },
    {
     "name": "stdout",
     "output_type": "stream",
     "text": [
      "\n",
      "Epoch: 274\n"
     ]
    },
    {
     "name": "stderr",
     "output_type": "stream",
     "text": [
      "Acc: 95.442%: 100%|█████████▉| 391/392 [00:32<00:00, 12.87it/s]\n",
      "  0%|          | 0/392 [00:00<?, ?it/s]"
     ]
    },
    {
     "name": "stdout",
     "output_type": "stream",
     "text": [
      "\n",
      "Epoch: 275\n"
     ]
    },
    {
     "name": "stderr",
     "output_type": "stream",
     "text": [
      "Acc: 95.538%: 100%|█████████▉| 391/392 [00:31<00:00, 12.95it/s]\n",
      "  0%|          | 0/392 [00:00<?, ?it/s]"
     ]
    },
    {
     "name": "stdout",
     "output_type": "stream",
     "text": [
      "\n",
      "Epoch: 276\n"
     ]
    },
    {
     "name": "stderr",
     "output_type": "stream",
     "text": [
      "Acc: 95.656%: 100%|█████████▉| 391/392 [00:31<00:00, 12.92it/s]\n",
      "  0%|          | 0/392 [00:00<?, ?it/s]"
     ]
    },
    {
     "name": "stdout",
     "output_type": "stream",
     "text": [
      "\n",
      "Epoch: 277\n"
     ]
    },
    {
     "name": "stderr",
     "output_type": "stream",
     "text": [
      "Acc: 95.770%: 100%|█████████▉| 391/392 [00:32<00:00, 12.78it/s]\n",
      "  0%|          | 0/392 [00:00<?, ?it/s]"
     ]
    },
    {
     "name": "stdout",
     "output_type": "stream",
     "text": [
      "\n",
      "Epoch: 278\n"
     ]
    },
    {
     "name": "stderr",
     "output_type": "stream",
     "text": [
      "Acc: 95.826%: 100%|█████████▉| 391/392 [00:31<00:00, 12.92it/s]\n",
      "  0%|          | 0/392 [00:00<?, ?it/s]"
     ]
    },
    {
     "name": "stdout",
     "output_type": "stream",
     "text": [
      "\n",
      "Epoch: 279\n"
     ]
    },
    {
     "name": "stderr",
     "output_type": "stream",
     "text": [
      "Acc: 95.636%: 100%|█████████▉| 391/392 [00:31<00:00, 12.96it/s]\n",
      "  0%|          | 0/392 [00:00<?, ?it/s]"
     ]
    },
    {
     "name": "stdout",
     "output_type": "stream",
     "text": [
      "\n",
      "Epoch: 280\n"
     ]
    },
    {
     "name": "stderr",
     "output_type": "stream",
     "text": [
      "Acc: 95.784%: 100%|█████████▉| 391/392 [00:31<00:00, 12.95it/s]\n",
      "Acc: 90.940%:  99%|█████████▉| 100/101 [00:02<00:00, 41.47it/s]\n",
      "  0%|          | 0/392 [00:00<?, ?it/s]"
     ]
    },
    {
     "name": "stdout",
     "output_type": "stream",
     "text": [
      "\n",
      "Epoch: 281\n"
     ]
    },
    {
     "name": "stderr",
     "output_type": "stream",
     "text": [
      "Acc: 95.818%: 100%|█████████▉| 391/392 [00:31<00:00, 12.87it/s]\n",
      "  0%|          | 0/392 [00:00<?, ?it/s]"
     ]
    },
    {
     "name": "stdout",
     "output_type": "stream",
     "text": [
      "\n",
      "Epoch: 282\n"
     ]
    },
    {
     "name": "stderr",
     "output_type": "stream",
     "text": [
      "Acc: 95.766%: 100%|█████████▉| 391/392 [00:31<00:00, 12.88it/s]\n",
      "  0%|          | 0/392 [00:00<?, ?it/s]"
     ]
    },
    {
     "name": "stdout",
     "output_type": "stream",
     "text": [
      "\n",
      "Epoch: 283\n"
     ]
    },
    {
     "name": "stderr",
     "output_type": "stream",
     "text": [
      "Acc: 95.832%: 100%|█████████▉| 391/392 [00:31<00:00, 13.00it/s]\n",
      "  0%|          | 0/392 [00:00<?, ?it/s]"
     ]
    },
    {
     "name": "stdout",
     "output_type": "stream",
     "text": [
      "\n",
      "Epoch: 284\n"
     ]
    },
    {
     "name": "stderr",
     "output_type": "stream",
     "text": [
      "Acc: 95.844%: 100%|█████████▉| 391/392 [00:31<00:00, 12.86it/s]\n",
      "  0%|          | 0/392 [00:00<?, ?it/s]"
     ]
    },
    {
     "name": "stdout",
     "output_type": "stream",
     "text": [
      "\n",
      "Epoch: 285\n"
     ]
    },
    {
     "name": "stderr",
     "output_type": "stream",
     "text": [
      "Acc: 95.854%: 100%|█████████▉| 391/392 [00:31<00:00, 12.96it/s]\n",
      "  0%|          | 0/392 [00:00<?, ?it/s]"
     ]
    },
    {
     "name": "stdout",
     "output_type": "stream",
     "text": [
      "\n",
      "Epoch: 286\n"
     ]
    },
    {
     "name": "stderr",
     "output_type": "stream",
     "text": [
      "Acc: 95.988%: 100%|█████████▉| 391/392 [00:31<00:00, 12.94it/s]\n",
      "  0%|          | 0/392 [00:00<?, ?it/s]"
     ]
    },
    {
     "name": "stdout",
     "output_type": "stream",
     "text": [
      "\n",
      "Epoch: 287\n"
     ]
    },
    {
     "name": "stderr",
     "output_type": "stream",
     "text": [
      "Acc: 95.850%: 100%|█████████▉| 391/392 [00:31<00:00, 12.97it/s]\n",
      "  0%|          | 0/392 [00:00<?, ?it/s]"
     ]
    },
    {
     "name": "stdout",
     "output_type": "stream",
     "text": [
      "\n",
      "Epoch: 288\n"
     ]
    },
    {
     "name": "stderr",
     "output_type": "stream",
     "text": [
      "Acc: 95.780%: 100%|█████████▉| 391/392 [00:31<00:00, 12.99it/s]\n",
      "  0%|          | 0/392 [00:00<?, ?it/s]"
     ]
    },
    {
     "name": "stdout",
     "output_type": "stream",
     "text": [
      "\n",
      "Epoch: 289\n"
     ]
    },
    {
     "name": "stderr",
     "output_type": "stream",
     "text": [
      "Acc: 95.890%: 100%|█████████▉| 391/392 [00:31<00:00, 12.95it/s]\n",
      "  0%|          | 0/392 [00:00<?, ?it/s]"
     ]
    },
    {
     "name": "stdout",
     "output_type": "stream",
     "text": [
      "\n",
      "Epoch: 290\n"
     ]
    },
    {
     "name": "stderr",
     "output_type": "stream",
     "text": [
      "Acc: 95.986%: 100%|█████████▉| 391/392 [00:31<00:00, 12.87it/s]\n",
      "Acc: 91.120%:  99%|█████████▉| 100/101 [00:02<00:00, 41.59it/s]\n",
      "  0%|          | 0/392 [00:00<?, ?it/s]"
     ]
    },
    {
     "name": "stdout",
     "output_type": "stream",
     "text": [
      "\n",
      "Epoch: 291\n"
     ]
    },
    {
     "name": "stderr",
     "output_type": "stream",
     "text": [
      "Acc: 95.896%: 100%|█████████▉| 391/392 [00:31<00:00, 12.91it/s]\n",
      "  0%|          | 0/392 [00:00<?, ?it/s]"
     ]
    },
    {
     "name": "stdout",
     "output_type": "stream",
     "text": [
      "\n",
      "Epoch: 292\n"
     ]
    },
    {
     "name": "stderr",
     "output_type": "stream",
     "text": [
      "Acc: 95.950%: 100%|█████████▉| 391/392 [00:31<00:00, 13.03it/s]\n",
      "  0%|          | 0/392 [00:00<?, ?it/s]"
     ]
    },
    {
     "name": "stdout",
     "output_type": "stream",
     "text": [
      "\n",
      "Epoch: 293\n"
     ]
    },
    {
     "name": "stderr",
     "output_type": "stream",
     "text": [
      "Acc: 95.988%: 100%|█████████▉| 391/392 [00:31<00:00, 12.94it/s]\n",
      "  0%|          | 0/392 [00:00<?, ?it/s]"
     ]
    },
    {
     "name": "stdout",
     "output_type": "stream",
     "text": [
      "\n",
      "Epoch: 294\n"
     ]
    },
    {
     "name": "stderr",
     "output_type": "stream",
     "text": [
      "Acc: 96.032%: 100%|█████████▉| 391/392 [00:31<00:00, 12.96it/s]\n",
      "  0%|          | 0/392 [00:00<?, ?it/s]"
     ]
    },
    {
     "name": "stdout",
     "output_type": "stream",
     "text": [
      "\n",
      "Epoch: 295\n"
     ]
    },
    {
     "name": "stderr",
     "output_type": "stream",
     "text": [
      "Acc: 96.042%: 100%|█████████▉| 391/392 [00:31<00:00, 12.96it/s]\n",
      "  0%|          | 0/392 [00:00<?, ?it/s]"
     ]
    },
    {
     "name": "stdout",
     "output_type": "stream",
     "text": [
      "\n",
      "Epoch: 296\n"
     ]
    },
    {
     "name": "stderr",
     "output_type": "stream",
     "text": [
      "Acc: 96.086%: 100%|█████████▉| 391/392 [00:31<00:00, 12.92it/s]\n",
      "  0%|          | 0/392 [00:00<?, ?it/s]"
     ]
    },
    {
     "name": "stdout",
     "output_type": "stream",
     "text": [
      "\n",
      "Epoch: 297\n"
     ]
    },
    {
     "name": "stderr",
     "output_type": "stream",
     "text": [
      "Acc: 96.034%: 100%|█████████▉| 391/392 [00:31<00:00, 12.98it/s]\n",
      "  0%|          | 0/392 [00:00<?, ?it/s]"
     ]
    },
    {
     "name": "stdout",
     "output_type": "stream",
     "text": [
      "\n",
      "Epoch: 298\n"
     ]
    },
    {
     "name": "stderr",
     "output_type": "stream",
     "text": [
      "Acc: 96.032%: 100%|█████████▉| 391/392 [00:31<00:00, 12.96it/s]\n",
      "  0%|          | 0/392 [00:00<?, ?it/s]"
     ]
    },
    {
     "name": "stdout",
     "output_type": "stream",
     "text": [
      "\n",
      "Epoch: 299\n"
     ]
    },
    {
     "name": "stderr",
     "output_type": "stream",
     "text": [
      "Acc: 96.016%: 100%|█████████▉| 391/392 [00:31<00:00, 12.88it/s]\n",
      "  0%|          | 0/392 [00:00<?, ?it/s]"
     ]
    },
    {
     "name": "stdout",
     "output_type": "stream",
     "text": [
      "\n",
      "Epoch: 300\n"
     ]
    },
    {
     "name": "stderr",
     "output_type": "stream",
     "text": [
      "Acc: 96.080%: 100%|█████████▉| 391/392 [00:31<00:00, 13.12it/s]\n",
      "Acc: 90.960%:  99%|█████████▉| 100/101 [00:02<00:00, 42.55it/s]\n",
      "  0%|          | 0/392 [00:00<?, ?it/s]"
     ]
    },
    {
     "name": "stdout",
     "output_type": "stream",
     "text": [
      "\n",
      "Epoch: 301\n"
     ]
    },
    {
     "name": "stderr",
     "output_type": "stream",
     "text": [
      "Acc: 96.174%: 100%|█████████▉| 391/392 [00:31<00:00, 12.98it/s]\n",
      "  0%|          | 0/392 [00:00<?, ?it/s]"
     ]
    },
    {
     "name": "stdout",
     "output_type": "stream",
     "text": [
      "\n",
      "Epoch: 302\n"
     ]
    },
    {
     "name": "stderr",
     "output_type": "stream",
     "text": [
      "Acc: 96.088%: 100%|█████████▉| 391/392 [00:31<00:00, 12.91it/s]\n",
      "  0%|          | 0/392 [00:00<?, ?it/s]"
     ]
    },
    {
     "name": "stdout",
     "output_type": "stream",
     "text": [
      "\n",
      "Epoch: 303\n"
     ]
    },
    {
     "name": "stderr",
     "output_type": "stream",
     "text": [
      "Acc: 96.098%: 100%|█████████▉| 391/392 [00:31<00:00, 12.91it/s]\n",
      "  0%|          | 0/392 [00:00<?, ?it/s]"
     ]
    },
    {
     "name": "stdout",
     "output_type": "stream",
     "text": [
      "\n",
      "Epoch: 304\n"
     ]
    },
    {
     "name": "stderr",
     "output_type": "stream",
     "text": [
      "Acc: 96.208%: 100%|█████████▉| 391/392 [00:31<00:00, 12.96it/s]\n",
      "  0%|          | 0/392 [00:00<?, ?it/s]"
     ]
    },
    {
     "name": "stdout",
     "output_type": "stream",
     "text": [
      "\n",
      "Epoch: 305\n"
     ]
    },
    {
     "name": "stderr",
     "output_type": "stream",
     "text": [
      "Acc: 96.042%: 100%|█████████▉| 391/392 [00:31<00:00, 13.00it/s]\n",
      "  0%|          | 0/392 [00:00<?, ?it/s]"
     ]
    },
    {
     "name": "stdout",
     "output_type": "stream",
     "text": [
      "\n",
      "Epoch: 306\n"
     ]
    },
    {
     "name": "stderr",
     "output_type": "stream",
     "text": [
      "Acc: 96.114%: 100%|█████████▉| 391/392 [00:31<00:00, 12.97it/s]\n",
      "  0%|          | 0/392 [00:00<?, ?it/s]"
     ]
    },
    {
     "name": "stdout",
     "output_type": "stream",
     "text": [
      "\n",
      "Epoch: 307\n"
     ]
    },
    {
     "name": "stderr",
     "output_type": "stream",
     "text": [
      "Acc: 96.022%: 100%|█████████▉| 391/392 [00:31<00:00, 12.93it/s]\n",
      "  0%|          | 0/392 [00:00<?, ?it/s]"
     ]
    },
    {
     "name": "stdout",
     "output_type": "stream",
     "text": [
      "\n",
      "Epoch: 308\n"
     ]
    },
    {
     "name": "stderr",
     "output_type": "stream",
     "text": [
      "Acc: 96.210%: 100%|█████████▉| 391/392 [00:32<00:00, 12.92it/s]\n",
      "  0%|          | 0/392 [00:00<?, ?it/s]"
     ]
    },
    {
     "name": "stdout",
     "output_type": "stream",
     "text": [
      "\n",
      "Epoch: 309\n"
     ]
    },
    {
     "name": "stderr",
     "output_type": "stream",
     "text": [
      "Acc: 96.160%: 100%|█████████▉| 391/392 [00:31<00:00, 12.96it/s]\n",
      "  0%|          | 0/392 [00:00<?, ?it/s]"
     ]
    },
    {
     "name": "stdout",
     "output_type": "stream",
     "text": [
      "\n",
      "Epoch: 310\n"
     ]
    },
    {
     "name": "stderr",
     "output_type": "stream",
     "text": [
      "Acc: 96.228%: 100%|█████████▉| 391/392 [00:31<00:00, 12.97it/s]\n",
      "Acc: 91.260%:  99%|█████████▉| 100/101 [00:02<00:00, 40.89it/s]\n",
      "  0%|          | 0/392 [00:00<?, ?it/s]"
     ]
    },
    {
     "name": "stdout",
     "output_type": "stream",
     "text": [
      "Saving..\n",
      "\n",
      "Epoch: 311\n"
     ]
    },
    {
     "name": "stderr",
     "output_type": "stream",
     "text": [
      "Acc: 96.132%: 100%|█████████▉| 391/392 [00:32<00:00, 12.85it/s]\n",
      "  0%|          | 0/392 [00:00<?, ?it/s]"
     ]
    },
    {
     "name": "stdout",
     "output_type": "stream",
     "text": [
      "\n",
      "Epoch: 312\n"
     ]
    },
    {
     "name": "stderr",
     "output_type": "stream",
     "text": [
      "Acc: 96.336%: 100%|█████████▉| 391/392 [00:31<00:00, 12.94it/s]\n",
      "  0%|          | 0/392 [00:00<?, ?it/s]"
     ]
    },
    {
     "name": "stdout",
     "output_type": "stream",
     "text": [
      "\n",
      "Epoch: 313\n"
     ]
    },
    {
     "name": "stderr",
     "output_type": "stream",
     "text": [
      "Acc: 96.334%: 100%|█████████▉| 391/392 [00:31<00:00, 12.91it/s]\n",
      "  0%|          | 0/392 [00:00<?, ?it/s]"
     ]
    },
    {
     "name": "stdout",
     "output_type": "stream",
     "text": [
      "\n",
      "Epoch: 314\n"
     ]
    },
    {
     "name": "stderr",
     "output_type": "stream",
     "text": [
      "Acc: 96.248%: 100%|█████████▉| 391/392 [00:31<00:00, 12.91it/s]\n",
      "  0%|          | 0/392 [00:00<?, ?it/s]"
     ]
    },
    {
     "name": "stdout",
     "output_type": "stream",
     "text": [
      "\n",
      "Epoch: 315\n"
     ]
    },
    {
     "name": "stderr",
     "output_type": "stream",
     "text": [
      "Acc: 96.222%: 100%|█████████▉| 391/392 [00:31<00:00, 12.91it/s]\n",
      "  0%|          | 0/392 [00:00<?, ?it/s]"
     ]
    },
    {
     "name": "stdout",
     "output_type": "stream",
     "text": [
      "\n",
      "Epoch: 316\n"
     ]
    },
    {
     "name": "stderr",
     "output_type": "stream",
     "text": [
      "Acc: 96.280%: 100%|█████████▉| 391/392 [00:31<00:00, 12.91it/s]\n",
      "  0%|          | 0/392 [00:00<?, ?it/s]"
     ]
    },
    {
     "name": "stdout",
     "output_type": "stream",
     "text": [
      "\n",
      "Epoch: 317\n"
     ]
    },
    {
     "name": "stderr",
     "output_type": "stream",
     "text": [
      "Acc: 96.194%: 100%|█████████▉| 391/392 [00:31<00:00, 13.00it/s]\n",
      "  0%|          | 0/392 [00:00<?, ?it/s]"
     ]
    },
    {
     "name": "stdout",
     "output_type": "stream",
     "text": [
      "\n",
      "Epoch: 318\n"
     ]
    },
    {
     "name": "stderr",
     "output_type": "stream",
     "text": [
      "Acc: 96.316%: 100%|█████████▉| 391/392 [00:31<00:00, 12.95it/s]\n",
      "  0%|          | 0/392 [00:00<?, ?it/s]"
     ]
    },
    {
     "name": "stdout",
     "output_type": "stream",
     "text": [
      "\n",
      "Epoch: 319\n"
     ]
    },
    {
     "name": "stderr",
     "output_type": "stream",
     "text": [
      "Acc: 96.408%: 100%|█████████▉| 391/392 [00:31<00:00, 12.97it/s]\n",
      "  0%|          | 0/392 [00:00<?, ?it/s]"
     ]
    },
    {
     "name": "stdout",
     "output_type": "stream",
     "text": [
      "\n",
      "Epoch: 320\n"
     ]
    },
    {
     "name": "stderr",
     "output_type": "stream",
     "text": [
      "Acc: 96.404%: 100%|█████████▉| 391/392 [00:31<00:00, 12.98it/s]\n",
      "Acc: 91.000%:  99%|█████████▉| 100/101 [00:02<00:00, 39.60it/s]\n",
      "  0%|          | 0/392 [00:00<?, ?it/s]"
     ]
    },
    {
     "name": "stdout",
     "output_type": "stream",
     "text": [
      "\n",
      "Epoch: 321\n"
     ]
    },
    {
     "name": "stderr",
     "output_type": "stream",
     "text": [
      "Acc: 96.302%: 100%|█████████▉| 391/392 [00:31<00:00, 12.89it/s]\n",
      "  0%|          | 0/392 [00:00<?, ?it/s]"
     ]
    },
    {
     "name": "stdout",
     "output_type": "stream",
     "text": [
      "\n",
      "Epoch: 322\n"
     ]
    },
    {
     "name": "stderr",
     "output_type": "stream",
     "text": [
      "Acc: 96.290%: 100%|█████████▉| 391/392 [00:31<00:00, 13.05it/s]\n",
      "  0%|          | 0/392 [00:00<?, ?it/s]"
     ]
    },
    {
     "name": "stdout",
     "output_type": "stream",
     "text": [
      "\n",
      "Epoch: 323\n"
     ]
    },
    {
     "name": "stderr",
     "output_type": "stream",
     "text": [
      "Acc: 96.376%: 100%|█████████▉| 391/392 [00:32<00:00, 12.96it/s]\n",
      "  0%|          | 0/392 [00:00<?, ?it/s]"
     ]
    },
    {
     "name": "stdout",
     "output_type": "stream",
     "text": [
      "\n",
      "Epoch: 324\n"
     ]
    },
    {
     "name": "stderr",
     "output_type": "stream",
     "text": [
      "Acc: 96.452%: 100%|█████████▉| 391/392 [00:31<00:00, 12.98it/s]\n",
      "  0%|          | 0/392 [00:00<?, ?it/s]"
     ]
    },
    {
     "name": "stdout",
     "output_type": "stream",
     "text": [
      "\n",
      "Epoch: 325\n"
     ]
    },
    {
     "name": "stderr",
     "output_type": "stream",
     "text": [
      "Acc: 96.290%: 100%|█████████▉| 391/392 [00:31<00:00, 12.87it/s]\n",
      "  0%|          | 0/392 [00:00<?, ?it/s]"
     ]
    },
    {
     "name": "stdout",
     "output_type": "stream",
     "text": [
      "\n",
      "Epoch: 326\n"
     ]
    },
    {
     "name": "stderr",
     "output_type": "stream",
     "text": [
      "Acc: 96.438%: 100%|█████████▉| 391/392 [00:31<00:00, 12.93it/s]\n",
      "  0%|          | 0/392 [00:00<?, ?it/s]"
     ]
    },
    {
     "name": "stdout",
     "output_type": "stream",
     "text": [
      "\n",
      "Epoch: 327\n"
     ]
    },
    {
     "name": "stderr",
     "output_type": "stream",
     "text": [
      "Acc: 96.374%: 100%|█████████▉| 391/392 [00:31<00:00, 13.03it/s]\n",
      "  0%|          | 0/392 [00:00<?, ?it/s]"
     ]
    },
    {
     "name": "stdout",
     "output_type": "stream",
     "text": [
      "\n",
      "Epoch: 328\n"
     ]
    },
    {
     "name": "stderr",
     "output_type": "stream",
     "text": [
      "Acc: 96.454%: 100%|█████████▉| 391/392 [00:31<00:00, 12.94it/s]\n",
      "  0%|          | 0/392 [00:00<?, ?it/s]"
     ]
    },
    {
     "name": "stdout",
     "output_type": "stream",
     "text": [
      "\n",
      "Epoch: 329\n"
     ]
    },
    {
     "name": "stderr",
     "output_type": "stream",
     "text": [
      "Acc: 96.428%: 100%|█████████▉| 391/392 [00:31<00:00, 12.86it/s]\n",
      "  0%|          | 0/392 [00:00<?, ?it/s]"
     ]
    },
    {
     "name": "stdout",
     "output_type": "stream",
     "text": [
      "\n",
      "Epoch: 330\n"
     ]
    },
    {
     "name": "stderr",
     "output_type": "stream",
     "text": [
      "Acc: 96.474%: 100%|█████████▉| 391/392 [00:31<00:00, 13.03it/s]\n",
      "Acc: 91.100%:  99%|█████████▉| 100/101 [00:02<00:00, 41.77it/s]\n",
      "  0%|          | 0/392 [00:00<?, ?it/s]"
     ]
    },
    {
     "name": "stdout",
     "output_type": "stream",
     "text": [
      "\n",
      "Epoch: 331\n"
     ]
    },
    {
     "name": "stderr",
     "output_type": "stream",
     "text": [
      "Acc: 96.376%: 100%|█████████▉| 391/392 [00:31<00:00, 12.92it/s]\n",
      "  0%|          | 0/392 [00:00<?, ?it/s]"
     ]
    },
    {
     "name": "stdout",
     "output_type": "stream",
     "text": [
      "\n",
      "Epoch: 332\n"
     ]
    },
    {
     "name": "stderr",
     "output_type": "stream",
     "text": [
      "Acc: 96.388%: 100%|█████████▉| 391/392 [00:31<00:00, 12.87it/s]\n",
      "  0%|          | 0/392 [00:00<?, ?it/s]"
     ]
    },
    {
     "name": "stdout",
     "output_type": "stream",
     "text": [
      "\n",
      "Epoch: 333\n"
     ]
    },
    {
     "name": "stderr",
     "output_type": "stream",
     "text": [
      "Acc: 96.568%: 100%|█████████▉| 391/392 [00:32<00:00, 12.96it/s]\n",
      "  0%|          | 0/392 [00:00<?, ?it/s]"
     ]
    },
    {
     "name": "stdout",
     "output_type": "stream",
     "text": [
      "\n",
      "Epoch: 334\n"
     ]
    },
    {
     "name": "stderr",
     "output_type": "stream",
     "text": [
      "Acc: 96.460%: 100%|█████████▉| 391/392 [00:32<00:00, 12.85it/s]\n",
      "  0%|          | 0/392 [00:00<?, ?it/s]"
     ]
    },
    {
     "name": "stdout",
     "output_type": "stream",
     "text": [
      "\n",
      "Epoch: 335\n"
     ]
    },
    {
     "name": "stderr",
     "output_type": "stream",
     "text": [
      "Acc: 96.388%: 100%|█████████▉| 391/392 [00:32<00:00, 12.84it/s]\n",
      "  0%|          | 0/392 [00:00<?, ?it/s]"
     ]
    },
    {
     "name": "stdout",
     "output_type": "stream",
     "text": [
      "\n",
      "Epoch: 336\n"
     ]
    },
    {
     "name": "stderr",
     "output_type": "stream",
     "text": [
      "Acc: 96.370%: 100%|█████████▉| 391/392 [00:31<00:00, 12.94it/s]\n",
      "  0%|          | 0/392 [00:00<?, ?it/s]"
     ]
    },
    {
     "name": "stdout",
     "output_type": "stream",
     "text": [
      "\n",
      "Epoch: 337\n"
     ]
    },
    {
     "name": "stderr",
     "output_type": "stream",
     "text": [
      "Acc: 96.404%: 100%|█████████▉| 391/392 [00:31<00:00, 12.91it/s]\n",
      "  0%|          | 0/392 [00:00<?, ?it/s]"
     ]
    },
    {
     "name": "stdout",
     "output_type": "stream",
     "text": [
      "\n",
      "Epoch: 338\n"
     ]
    },
    {
     "name": "stderr",
     "output_type": "stream",
     "text": [
      "Acc: 96.328%: 100%|█████████▉| 391/392 [00:32<00:00, 12.82it/s]\n",
      "  0%|          | 0/392 [00:00<?, ?it/s]"
     ]
    },
    {
     "name": "stdout",
     "output_type": "stream",
     "text": [
      "\n",
      "Epoch: 339\n"
     ]
    },
    {
     "name": "stderr",
     "output_type": "stream",
     "text": [
      "Acc: 96.404%: 100%|█████████▉| 391/392 [00:32<00:00, 12.87it/s]\n",
      "  0%|          | 0/392 [00:00<?, ?it/s]"
     ]
    },
    {
     "name": "stdout",
     "output_type": "stream",
     "text": [
      "\n",
      "Epoch: 340\n"
     ]
    },
    {
     "name": "stderr",
     "output_type": "stream",
     "text": [
      "Acc: 96.474%: 100%|█████████▉| 391/392 [00:31<00:00, 12.95it/s]\n",
      "Acc: 90.870%:  99%|█████████▉| 100/101 [00:02<00:00, 42.12it/s]\n",
      "  0%|          | 0/392 [00:00<?, ?it/s]"
     ]
    },
    {
     "name": "stdout",
     "output_type": "stream",
     "text": [
      "\n",
      "Epoch: 341\n"
     ]
    },
    {
     "name": "stderr",
     "output_type": "stream",
     "text": [
      "Acc: 96.606%: 100%|█████████▉| 391/392 [00:31<00:00, 12.92it/s]\n",
      "  0%|          | 0/392 [00:00<?, ?it/s]"
     ]
    },
    {
     "name": "stdout",
     "output_type": "stream",
     "text": [
      "\n",
      "Epoch: 342\n"
     ]
    },
    {
     "name": "stderr",
     "output_type": "stream",
     "text": [
      "Acc: 96.516%: 100%|█████████▉| 391/392 [00:31<00:00, 12.89it/s]\n",
      "  0%|          | 0/392 [00:00<?, ?it/s]"
     ]
    },
    {
     "name": "stdout",
     "output_type": "stream",
     "text": [
      "\n",
      "Epoch: 343\n"
     ]
    },
    {
     "name": "stderr",
     "output_type": "stream",
     "text": [
      "Acc: 96.514%: 100%|█████████▉| 391/392 [00:31<00:00, 12.85it/s]\n",
      "  0%|          | 0/392 [00:00<?, ?it/s]"
     ]
    },
    {
     "name": "stdout",
     "output_type": "stream",
     "text": [
      "\n",
      "Epoch: 344\n"
     ]
    },
    {
     "name": "stderr",
     "output_type": "stream",
     "text": [
      "Acc: 96.564%: 100%|█████████▉| 391/392 [00:31<00:00, 12.95it/s]\n",
      "  0%|          | 0/392 [00:00<?, ?it/s]"
     ]
    },
    {
     "name": "stdout",
     "output_type": "stream",
     "text": [
      "\n",
      "Epoch: 345\n"
     ]
    },
    {
     "name": "stderr",
     "output_type": "stream",
     "text": [
      "Acc: 96.472%: 100%|█████████▉| 391/392 [00:31<00:00, 12.95it/s]\n",
      "  0%|          | 0/392 [00:00<?, ?it/s]"
     ]
    },
    {
     "name": "stdout",
     "output_type": "stream",
     "text": [
      "\n",
      "Epoch: 346\n"
     ]
    },
    {
     "name": "stderr",
     "output_type": "stream",
     "text": [
      "Acc: 96.606%: 100%|█████████▉| 391/392 [00:31<00:00, 12.96it/s]\n",
      "  0%|          | 0/392 [00:00<?, ?it/s]"
     ]
    },
    {
     "name": "stdout",
     "output_type": "stream",
     "text": [
      "\n",
      "Epoch: 347\n"
     ]
    },
    {
     "name": "stderr",
     "output_type": "stream",
     "text": [
      "Acc: 96.574%: 100%|█████████▉| 391/392 [00:31<00:00, 12.91it/s]\n",
      "  0%|          | 0/392 [00:00<?, ?it/s]"
     ]
    },
    {
     "name": "stdout",
     "output_type": "stream",
     "text": [
      "\n",
      "Epoch: 348\n"
     ]
    },
    {
     "name": "stderr",
     "output_type": "stream",
     "text": [
      "Acc: 96.480%: 100%|█████████▉| 391/392 [00:31<00:00, 12.95it/s]\n",
      "  0%|          | 0/392 [00:00<?, ?it/s]"
     ]
    },
    {
     "name": "stdout",
     "output_type": "stream",
     "text": [
      "\n",
      "Epoch: 349\n"
     ]
    },
    {
     "name": "stderr",
     "output_type": "stream",
     "text": [
      "Acc: 96.544%: 100%|█████████▉| 391/392 [00:31<00:00, 12.95it/s]\n"
     ]
    }
   ],
   "source": [
    "'''Train CIFAR10 with PyTorch.'''\n",
    "from __future__ import print_function\n",
    "\n",
    "import torch\n",
    "import torch.nn as nn\n",
    "import torch.optim as optim\n",
    "import torch.nn.functional as F\n",
    "import torch.backends.cudnn as cudnn\n",
    "\n",
    "import torchvision\n",
    "import torchvision.transforms as transforms\n",
    "\n",
    "import os\n",
    "import argparse\n",
    "\n",
    "from models import *\n",
    "\n",
    "device = 'cuda' if torch.cuda.is_available() else 'cpu'\n",
    "best_acc = 0  # best test accuracy\n",
    "start_epoch = 0  # start from epoch 0 or last checkpoint epoch\n",
    "\n",
    "# Data\n",
    "print('==> Preparing data..')\n",
    "transform_train = transforms.Compose([\n",
    "    transforms.RandomCrop(32, padding=4),\n",
    "    transforms.RandomHorizontalFlip(),\n",
    "    transforms.ToTensor(),\n",
    "    transforms.Normalize((0.4914, 0.4822, 0.4465), (0.2023, 0.1994, 0.2010)),\n",
    "])\n",
    "\n",
    "transform_test = transforms.Compose([\n",
    "    transforms.ToTensor(),\n",
    "    transforms.Normalize((0.4914, 0.4822, 0.4465), (0.2023, 0.1994, 0.2010)),\n",
    "])\n",
    "\n",
    "trainset = torchvision.datasets.CIFAR10(root='./data', train=True, download=True, transform=transform_train)\n",
    "trainloader = torch.utils.data.DataLoader(trainset, batch_size=128, shuffle=True, num_workers=2)\n",
    "\n",
    "testset = torchvision.datasets.CIFAR10(root='./data', train=False, download=True, transform=transform_test)\n",
    "testloader = torch.utils.data.DataLoader(testset, batch_size=100, shuffle=False, num_workers=2)\n",
    "\n",
    "classes = ('plane', 'car', 'bird', 'cat', 'deer', 'dog', 'frog', 'horse', 'ship', 'truck')\n",
    "\n",
    "# Model\n",
    "print('==> Building model..')\n",
    "# net = VGG('VGG19')\n",
    "# net = ResNet18()\n",
    "# net = PreActResNet18()\n",
    "# net = GoogLeNet()\n",
    "# net = DenseNet121()\n",
    "# net = ResNeXt29_2x64d()\n",
    "# net = MobileNet()\n",
    "net = MobileNetV2()\n",
    "# net = DPN92()\n",
    "# net = ShuffleNetG2()\n",
    "# net = SENet18()\n",
    "# net = ShuffleNetV2(1)\n",
    "net = net.to(device)\n",
    "if device == 'cuda':\n",
    "    net = torch.nn.DataParallel(net)\n",
    "    cudnn.benchmark = True\n",
    "\n",
    "criterion = nn.CrossEntropyLoss()\n",
    "optimizer = optim.SGD(net.parameters(), lr=0.1, momentum=0.9, weight_decay=5e-4)\n",
    "scheduler = optim.lr_scheduler.MultiStepLR(optimizer, milestones=[150, 250], gamma=0.1)\n",
    "\n",
    "# Training\n",
    "def train(epoch):\n",
    "    print('\\nEpoch: %d' % epoch)\n",
    "    net.train()\n",
    "    train_loss = 0\n",
    "    correct = 0\n",
    "    total = 0\n",
    "    with tqdm(total=len(trainloader)) as pbar:\n",
    "        for batch_idx, (inputs, targets) in enumerate(trainloader):\n",
    "            inputs, targets = inputs.to(device), targets.to(device)\n",
    "            optimizer.zero_grad()\n",
    "            outputs = net(inputs)\n",
    "            loss = criterion(outputs, targets)\n",
    "            loss.backward()\n",
    "            optimizer.step()\n",
    "\n",
    "            train_loss += loss.item()\n",
    "            _, predicted = outputs.max(1)\n",
    "            total += targets.size(0)\n",
    "            correct += predicted.eq(targets).sum().item()\n",
    "\n",
    "            pbar.set_description('Acc: %.3f%%' % (100.*correct/total))\n",
    "            pbar.update(1)\n",
    "\n",
    "def test(epoch):\n",
    "    global best_acc\n",
    "    net.eval()\n",
    "    test_loss = 0\n",
    "    correct = 0\n",
    "    total = 0\n",
    "    with tqdm(total=len(testloader)) as pbar:\n",
    "        with torch.no_grad():\n",
    "            for batch_idx, (inputs, targets) in enumerate(testloader):\n",
    "                inputs, targets = inputs.to(device), targets.to(device)\n",
    "                outputs = net(inputs)\n",
    "                loss = criterion(outputs, targets)\n",
    "\n",
    "                test_loss += loss.item()\n",
    "                _, predicted = outputs.max(1)\n",
    "                total += targets.size(0)\n",
    "                correct += predicted.eq(targets).sum().item()\n",
    "\n",
    "                pbar.set_description('Acc: %.3f%%' % (100.*correct/total))\n",
    "                pbar.update(1)\n",
    "\n",
    "    # Save checkpoint.\n",
    "    acc = 100.*correct/total\n",
    "    if acc > best_acc:\n",
    "        print('Saving..')\n",
    "        state = {\n",
    "            'net': net.state_dict(),\n",
    "            'acc': acc,\n",
    "            'epoch': epoch,\n",
    "        }\n",
    "        if not os.path.isdir('/tmp/work/checkpoint'):\n",
    "            os.mkdir('/tmp/work/checkpoint')\n",
    "        torch.save(state, '/tmp/work/checkpoint/ckpt.cifar10.t7')\n",
    "        best_acc = acc\n",
    "\n",
    "\n",
    "for epoch in range(start_epoch, 350):\n",
    "    scheduler.step()\n",
    "    train(epoch)\n",
    "    if epoch % 10 == 0:\n",
    "        test(epoch)"
   ]
  },
  {
   "cell_type": "markdown",
   "metadata": {},
   "source": [
    "testing accuracy: >90%"
   ]
  },
  {
   "cell_type": "markdown",
   "metadata": {},
   "source": [
    "## Train on CINIC-10\n",
    "\n",
    "- train: train set\n",
    "- valid: valid set"
   ]
  },
  {
   "cell_type": "code",
   "execution_count": 5,
   "metadata": {
    "scrolled": true
   },
   "outputs": [
    {
     "name": "stdout",
     "output_type": "stream",
     "text": [
      "==> Preparing data..\n"
     ]
    },
    {
     "name": "stderr",
     "output_type": "stream",
     "text": [
      "\r",
      "  0%|          | 0/704 [00:00<?, ?it/s]"
     ]
    },
    {
     "name": "stdout",
     "output_type": "stream",
     "text": [
      "==> Building model..\n",
      "==> Resuming from checkpoint..\n",
      "\n",
      "Epoch: 0\n"
     ]
    },
    {
     "name": "stderr",
     "output_type": "stream",
     "text": [
      "Acc: 38.186%: 100%|██████████| 704/704 [01:16<00:00,  4.59it/s]\n",
      "Acc: 41.379%: 100%|██████████| 900/900 [01:22<00:00, 13.37it/s]\n",
      "  0%|          | 0/704 [00:00<?, ?it/s]"
     ]
    },
    {
     "name": "stdout",
     "output_type": "stream",
     "text": [
      "Saving..\n",
      "\n",
      "Epoch: 1\n"
     ]
    },
    {
     "name": "stderr",
     "output_type": "stream",
     "text": [
      "Acc: 48.216%: 100%|██████████| 704/704 [01:08<00:00, 10.30it/s]\n",
      "  0%|          | 0/704 [00:00<?, ?it/s]"
     ]
    },
    {
     "name": "stdout",
     "output_type": "stream",
     "text": [
      "\n",
      "Epoch: 2\n"
     ]
    },
    {
     "name": "stderr",
     "output_type": "stream",
     "text": [
      "Acc: 51.302%: 100%|██████████| 704/704 [00:57<00:00, 12.31it/s]\n",
      "  0%|          | 0/704 [00:00<?, ?it/s]"
     ]
    },
    {
     "name": "stdout",
     "output_type": "stream",
     "text": [
      "\n",
      "Epoch: 3\n"
     ]
    },
    {
     "name": "stderr",
     "output_type": "stream",
     "text": [
      "Acc: 52.998%: 100%|██████████| 704/704 [00:57<00:00, 12.19it/s]\n",
      "  0%|          | 0/704 [00:00<?, ?it/s]"
     ]
    },
    {
     "name": "stdout",
     "output_type": "stream",
     "text": [
      "\n",
      "Epoch: 4\n"
     ]
    },
    {
     "name": "stderr",
     "output_type": "stream",
     "text": [
      "Acc: 54.002%: 100%|██████████| 704/704 [01:00<00:00, 11.72it/s]\n",
      "  0%|          | 0/704 [00:00<?, ?it/s]"
     ]
    },
    {
     "name": "stdout",
     "output_type": "stream",
     "text": [
      "\n",
      "Epoch: 5\n"
     ]
    },
    {
     "name": "stderr",
     "output_type": "stream",
     "text": [
      "Acc: 54.517%: 100%|██████████| 704/704 [01:06<00:00, 10.67it/s]\n",
      "  0%|          | 0/704 [00:00<?, ?it/s]"
     ]
    },
    {
     "name": "stdout",
     "output_type": "stream",
     "text": [
      "\n",
      "Epoch: 6\n"
     ]
    },
    {
     "name": "stderr",
     "output_type": "stream",
     "text": [
      "Acc: 55.318%: 100%|██████████| 704/704 [01:17<00:00, 11.55it/s]\n",
      "  0%|          | 0/704 [00:00<?, ?it/s]"
     ]
    },
    {
     "name": "stdout",
     "output_type": "stream",
     "text": [
      "\n",
      "Epoch: 7\n"
     ]
    },
    {
     "name": "stderr",
     "output_type": "stream",
     "text": [
      "Acc: 55.510%: 100%|██████████| 704/704 [01:15<00:00, 11.46it/s]\n",
      "  0%|          | 0/704 [00:00<?, ?it/s]"
     ]
    },
    {
     "name": "stdout",
     "output_type": "stream",
     "text": [
      "\n",
      "Epoch: 8\n"
     ]
    },
    {
     "name": "stderr",
     "output_type": "stream",
     "text": [
      "Acc: 55.948%: 100%|██████████| 704/704 [01:23<00:00, 12.44it/s]\n",
      "  0%|          | 0/704 [00:00<?, ?it/s]"
     ]
    },
    {
     "name": "stdout",
     "output_type": "stream",
     "text": [
      "\n",
      "Epoch: 9\n"
     ]
    },
    {
     "name": "stderr",
     "output_type": "stream",
     "text": [
      "Acc: 56.506%: 100%|██████████| 704/704 [01:18<00:00,  7.08it/s]\n",
      "  0%|          | 0/704 [00:00<?, ?it/s]"
     ]
    },
    {
     "name": "stdout",
     "output_type": "stream",
     "text": [
      "\n",
      "Epoch: 10\n"
     ]
    },
    {
     "name": "stderr",
     "output_type": "stream",
     "text": [
      "Acc: 56.611%: 100%|██████████| 704/704 [01:01<00:00, 12.94it/s]\n",
      "Acc: 49.034%: 100%|██████████| 900/900 [01:10<00:00, 12.75it/s]\n",
      "  0%|          | 0/704 [00:00<?, ?it/s]"
     ]
    },
    {
     "name": "stdout",
     "output_type": "stream",
     "text": [
      "Saving..\n",
      "\n",
      "Epoch: 11\n"
     ]
    },
    {
     "name": "stderr",
     "output_type": "stream",
     "text": [
      "Acc: 56.779%: 100%|██████████| 704/704 [01:04<00:00, 10.86it/s]\n",
      "  0%|          | 0/704 [00:00<?, ?it/s]"
     ]
    },
    {
     "name": "stdout",
     "output_type": "stream",
     "text": [
      "\n",
      "Epoch: 12\n"
     ]
    },
    {
     "name": "stderr",
     "output_type": "stream",
     "text": [
      "Acc: 57.072%: 100%|██████████| 704/704 [01:17<00:00,  9.03it/s]\n",
      "  0%|          | 0/704 [00:00<?, ?it/s]"
     ]
    },
    {
     "name": "stdout",
     "output_type": "stream",
     "text": [
      "\n",
      "Epoch: 13\n"
     ]
    },
    {
     "name": "stderr",
     "output_type": "stream",
     "text": [
      "Acc: 57.101%: 100%|██████████| 704/704 [01:23<00:00,  8.44it/s]\n",
      "  0%|          | 0/704 [00:00<?, ?it/s]"
     ]
    },
    {
     "name": "stdout",
     "output_type": "stream",
     "text": [
      "\n",
      "Epoch: 14\n"
     ]
    },
    {
     "name": "stderr",
     "output_type": "stream",
     "text": [
      "Acc: 57.313%: 100%|██████████| 704/704 [01:11<00:00, 10.85it/s]\n",
      "  0%|          | 0/704 [00:00<?, ?it/s]"
     ]
    },
    {
     "name": "stdout",
     "output_type": "stream",
     "text": [
      "\n",
      "Epoch: 15\n"
     ]
    },
    {
     "name": "stderr",
     "output_type": "stream",
     "text": [
      "Acc: 57.184%: 100%|██████████| 704/704 [01:03<00:00, 11.11it/s]\n",
      "  0%|          | 0/704 [00:00<?, ?it/s]"
     ]
    },
    {
     "name": "stdout",
     "output_type": "stream",
     "text": [
      "\n",
      "Epoch: 16\n"
     ]
    },
    {
     "name": "stderr",
     "output_type": "stream",
     "text": [
      "Acc: 57.459%: 100%|██████████| 704/704 [01:07<00:00, 10.49it/s]\n",
      "  0%|          | 0/704 [00:00<?, ?it/s]"
     ]
    },
    {
     "name": "stdout",
     "output_type": "stream",
     "text": [
      "\n",
      "Epoch: 17\n"
     ]
    },
    {
     "name": "stderr",
     "output_type": "stream",
     "text": [
      "Acc: 57.854%: 100%|██████████| 704/704 [01:18<00:00,  8.97it/s]\n",
      "  0%|          | 0/704 [00:00<?, ?it/s]"
     ]
    },
    {
     "name": "stdout",
     "output_type": "stream",
     "text": [
      "\n",
      "Epoch: 18\n"
     ]
    },
    {
     "name": "stderr",
     "output_type": "stream",
     "text": [
      "Acc: 57.753%: 100%|██████████| 704/704 [01:31<00:00,  7.71it/s]\n",
      "  0%|          | 0/704 [00:00<?, ?it/s]"
     ]
    },
    {
     "name": "stdout",
     "output_type": "stream",
     "text": [
      "\n",
      "Epoch: 19\n"
     ]
    },
    {
     "name": "stderr",
     "output_type": "stream",
     "text": [
      "Acc: 57.521%: 100%|██████████| 704/704 [01:07<00:00, 10.46it/s]\n",
      "  0%|          | 0/704 [00:00<?, ?it/s]"
     ]
    },
    {
     "name": "stdout",
     "output_type": "stream",
     "text": [
      "\n",
      "Epoch: 20\n"
     ]
    },
    {
     "name": "stderr",
     "output_type": "stream",
     "text": [
      "Acc: 57.794%: 100%|██████████| 704/704 [00:59<00:00,  8.10it/s]\n",
      "Acc: 53.156%: 100%|██████████| 900/900 [01:09<00:00, 12.89it/s]\n"
     ]
    },
    {
     "name": "stdout",
     "output_type": "stream",
     "text": [
      "Saving..\n"
     ]
    },
    {
     "name": "stderr",
     "output_type": "stream",
     "text": [
      "\r",
      "  0%|          | 0/704 [00:00<?, ?it/s]"
     ]
    },
    {
     "name": "stdout",
     "output_type": "stream",
     "text": [
      "\n",
      "Epoch: 21\n"
     ]
    },
    {
     "name": "stderr",
     "output_type": "stream",
     "text": [
      "Acc: 57.867%: 100%|██████████| 704/704 [01:11<00:00,  9.81it/s]\n",
      "  0%|          | 0/704 [00:00<?, ?it/s]"
     ]
    },
    {
     "name": "stdout",
     "output_type": "stream",
     "text": [
      "\n",
      "Epoch: 22\n"
     ]
    },
    {
     "name": "stderr",
     "output_type": "stream",
     "text": [
      "Acc: 58.290%: 100%|██████████| 704/704 [01:14<00:00,  9.39it/s]\n",
      "  0%|          | 0/704 [00:00<?, ?it/s]"
     ]
    },
    {
     "name": "stdout",
     "output_type": "stream",
     "text": [
      "\n",
      "Epoch: 23\n"
     ]
    },
    {
     "name": "stderr",
     "output_type": "stream",
     "text": [
      "Acc: 57.920%: 100%|██████████| 704/704 [01:21<00:00,  8.63it/s]\n",
      "  0%|          | 0/704 [00:00<?, ?it/s]"
     ]
    },
    {
     "name": "stdout",
     "output_type": "stream",
     "text": [
      "\n",
      "Epoch: 24\n"
     ]
    },
    {
     "name": "stderr",
     "output_type": "stream",
     "text": [
      "Acc: 58.363%: 100%|██████████| 704/704 [01:15<00:00, 13.31it/s]\n",
      "  0%|          | 0/704 [00:00<?, ?it/s]"
     ]
    },
    {
     "name": "stdout",
     "output_type": "stream",
     "text": [
      "\n",
      "Epoch: 25\n"
     ]
    },
    {
     "name": "stderr",
     "output_type": "stream",
     "text": [
      "Acc: 57.909%: 100%|██████████| 704/704 [01:06<00:00, 13.43it/s]\n",
      "  0%|          | 0/704 [00:00<?, ?it/s]"
     ]
    },
    {
     "name": "stdout",
     "output_type": "stream",
     "text": [
      "\n",
      "Epoch: 26\n"
     ]
    },
    {
     "name": "stderr",
     "output_type": "stream",
     "text": [
      "Acc: 58.320%: 100%|██████████| 704/704 [01:17<00:00,  9.06it/s]\n",
      "  0%|          | 0/704 [00:00<?, ?it/s]"
     ]
    },
    {
     "name": "stdout",
     "output_type": "stream",
     "text": [
      "\n",
      "Epoch: 27\n"
     ]
    },
    {
     "name": "stderr",
     "output_type": "stream",
     "text": [
      "Acc: 58.296%: 100%|██████████| 704/704 [01:33<00:00,  5.97it/s]\n",
      "  0%|          | 0/704 [00:00<?, ?it/s]"
     ]
    },
    {
     "name": "stdout",
     "output_type": "stream",
     "text": [
      "\n",
      "Epoch: 28\n"
     ]
    },
    {
     "name": "stderr",
     "output_type": "stream",
     "text": [
      "Acc: 58.420%: 100%|██████████| 704/704 [01:06<00:00, 10.51it/s]\n",
      "  0%|          | 0/704 [00:00<?, ?it/s]"
     ]
    },
    {
     "name": "stdout",
     "output_type": "stream",
     "text": [
      "\n",
      "Epoch: 29\n"
     ]
    },
    {
     "name": "stderr",
     "output_type": "stream",
     "text": [
      "Acc: 58.221%: 100%|██████████| 704/704 [01:06<00:00, 12.13it/s]\n",
      "  0%|          | 0/704 [00:00<?, ?it/s]"
     ]
    },
    {
     "name": "stdout",
     "output_type": "stream",
     "text": [
      "\n",
      "Epoch: 30\n"
     ]
    },
    {
     "name": "stderr",
     "output_type": "stream",
     "text": [
      "Acc: 58.524%: 100%|██████████| 704/704 [01:15<00:00,  9.35it/s]\n",
      "Acc: 47.869%: 100%|██████████| 900/900 [01:10<00:00, 13.91it/s]\n",
      "  0%|          | 0/704 [00:00<?, ?it/s]"
     ]
    },
    {
     "name": "stdout",
     "output_type": "stream",
     "text": [
      "\n",
      "Epoch: 31\n"
     ]
    },
    {
     "name": "stderr",
     "output_type": "stream",
     "text": [
      "Acc: 58.572%: 100%|██████████| 704/704 [01:23<00:00, 11.62it/s]\n",
      "  0%|          | 0/704 [00:00<?, ?it/s]"
     ]
    },
    {
     "name": "stdout",
     "output_type": "stream",
     "text": [
      "\n",
      "Epoch: 32\n"
     ]
    },
    {
     "name": "stderr",
     "output_type": "stream",
     "text": [
      "Acc: 58.651%: 100%|██████████| 704/704 [01:03<00:00, 11.12it/s]\n",
      "  0%|          | 0/704 [00:00<?, ?it/s]"
     ]
    },
    {
     "name": "stdout",
     "output_type": "stream",
     "text": [
      "\n",
      "Epoch: 33\n"
     ]
    },
    {
     "name": "stderr",
     "output_type": "stream",
     "text": [
      "Acc: 58.257%: 100%|██████████| 704/704 [01:00<00:00, 11.58it/s]\n",
      "  0%|          | 0/704 [00:00<?, ?it/s]"
     ]
    },
    {
     "name": "stdout",
     "output_type": "stream",
     "text": [
      "\n",
      "Epoch: 34\n"
     ]
    },
    {
     "name": "stderr",
     "output_type": "stream",
     "text": [
      "Acc: 58.590%: 100%|██████████| 704/704 [01:01<00:00, 11.52it/s]\n",
      "  0%|          | 0/704 [00:00<?, ?it/s]"
     ]
    },
    {
     "name": "stdout",
     "output_type": "stream",
     "text": [
      "\n",
      "Epoch: 35\n"
     ]
    },
    {
     "name": "stderr",
     "output_type": "stream",
     "text": [
      "Acc: 58.617%: 100%|██████████| 704/704 [01:02<00:00, 11.30it/s]\n",
      "  0%|          | 0/704 [00:00<?, ?it/s]"
     ]
    },
    {
     "name": "stdout",
     "output_type": "stream",
     "text": [
      "\n",
      "Epoch: 36\n"
     ]
    },
    {
     "name": "stderr",
     "output_type": "stream",
     "text": [
      "Acc: 58.573%: 100%|██████████| 704/704 [01:03<00:00, 11.07it/s]\n",
      "  0%|          | 0/704 [00:00<?, ?it/s]"
     ]
    },
    {
     "name": "stdout",
     "output_type": "stream",
     "text": [
      "\n",
      "Epoch: 37\n"
     ]
    },
    {
     "name": "stderr",
     "output_type": "stream",
     "text": [
      "Acc: 58.743%: 100%|██████████| 704/704 [01:01<00:00, 11.43it/s]\n",
      "  0%|          | 0/704 [00:00<?, ?it/s]"
     ]
    },
    {
     "name": "stdout",
     "output_type": "stream",
     "text": [
      "\n",
      "Epoch: 38\n"
     ]
    },
    {
     "name": "stderr",
     "output_type": "stream",
     "text": [
      "Acc: 58.599%: 100%|██████████| 704/704 [00:57<00:00, 12.28it/s]\n",
      "  0%|          | 0/704 [00:00<?, ?it/s]"
     ]
    },
    {
     "name": "stdout",
     "output_type": "stream",
     "text": [
      "\n",
      "Epoch: 39\n"
     ]
    },
    {
     "name": "stderr",
     "output_type": "stream",
     "text": [
      "Acc: 58.511%: 100%|██████████| 704/704 [00:57<00:00, 12.16it/s]\n",
      "  0%|          | 0/704 [00:00<?, ?it/s]"
     ]
    },
    {
     "name": "stdout",
     "output_type": "stream",
     "text": [
      "\n",
      "Epoch: 40\n"
     ]
    },
    {
     "name": "stderr",
     "output_type": "stream",
     "text": [
      "Acc: 58.940%: 100%|██████████| 704/704 [01:05<00:00, 10.76it/s]\n",
      "Acc: 52.078%: 100%|██████████| 900/900 [01:27<00:00, 12.61it/s]\n",
      "  0%|          | 0/704 [00:00<?, ?it/s]"
     ]
    },
    {
     "name": "stdout",
     "output_type": "stream",
     "text": [
      "\n",
      "Epoch: 41\n"
     ]
    },
    {
     "name": "stderr",
     "output_type": "stream",
     "text": [
      "Acc: 58.886%: 100%|██████████| 704/704 [00:58<00:00, 12.03it/s]\n",
      "  0%|          | 0/704 [00:00<?, ?it/s]"
     ]
    },
    {
     "name": "stdout",
     "output_type": "stream",
     "text": [
      "\n",
      "Epoch: 42\n"
     ]
    },
    {
     "name": "stderr",
     "output_type": "stream",
     "text": [
      "Acc: 59.061%: 100%|██████████| 704/704 [01:11<00:00, 12.05it/s]\n",
      "  0%|          | 0/704 [00:00<?, ?it/s]"
     ]
    },
    {
     "name": "stdout",
     "output_type": "stream",
     "text": [
      "\n",
      "Epoch: 43\n"
     ]
    },
    {
     "name": "stderr",
     "output_type": "stream",
     "text": [
      "Acc: 58.589%: 100%|██████████| 704/704 [01:21<00:00, 12.09it/s]\n",
      "  0%|          | 0/704 [00:00<?, ?it/s]"
     ]
    },
    {
     "name": "stdout",
     "output_type": "stream",
     "text": [
      "\n",
      "Epoch: 44\n"
     ]
    },
    {
     "name": "stderr",
     "output_type": "stream",
     "text": [
      "Acc: 58.876%: 100%|██████████| 704/704 [01:21<00:00,  8.63it/s]\n",
      "  0%|          | 0/704 [00:00<?, ?it/s]"
     ]
    },
    {
     "name": "stdout",
     "output_type": "stream",
     "text": [
      "\n",
      "Epoch: 45\n"
     ]
    },
    {
     "name": "stderr",
     "output_type": "stream",
     "text": [
      "Acc: 58.909%: 100%|██████████| 704/704 [01:15<00:00,  9.26it/s]\n",
      "  0%|          | 0/704 [00:00<?, ?it/s]"
     ]
    },
    {
     "name": "stdout",
     "output_type": "stream",
     "text": [
      "\n",
      "Epoch: 47\n"
     ]
    },
    {
     "name": "stderr",
     "output_type": "stream",
     "text": [
      "Acc: 58.709%: 100%|██████████| 704/704 [01:31<00:00, 11.71it/s]\n",
      "  0%|          | 0/704 [00:00<?, ?it/s]"
     ]
    },
    {
     "name": "stdout",
     "output_type": "stream",
     "text": [
      "\n",
      "Epoch: 48\n"
     ]
    },
    {
     "name": "stderr",
     "output_type": "stream",
     "text": [
      "Acc: 58.888%: 100%|██████████| 704/704 [01:15<00:00,  9.30it/s]\n",
      "  0%|          | 0/704 [00:00<?, ?it/s]"
     ]
    },
    {
     "name": "stdout",
     "output_type": "stream",
     "text": [
      "\n",
      "Epoch: 49\n"
     ]
    },
    {
     "name": "stderr",
     "output_type": "stream",
     "text": [
      "Acc: 59.047%:  67%|██████▋   | 470/704 [00:38<00:18, 12.40it/s]IOPub message rate exceeded.\n",
      "The notebook server will temporarily stop sending output\n",
      "to the client in order to avoid crashing it.\n",
      "To change this limit, set the config variable\n",
      "`--NotebookApp.iopub_msg_rate_limit`.\n",
      "\n",
      "Current values:\n",
      "NotebookApp.iopub_msg_rate_limit=1000.0 (msgs/sec)\n",
      "NotebookApp.rate_limit_window=3.0 (secs)\n",
      "\n",
      "Acc: 67.536%: 100%|██████████| 900/900 [01:04<00:00, 14.02it/s]\n",
      "  0%|          | 0/704 [00:00<?, ?it/s]"
     ]
    },
    {
     "name": "stdout",
     "output_type": "stream",
     "text": [
      "Saving..\n",
      "\n",
      "Epoch: 51\n"
     ]
    },
    {
     "name": "stderr",
     "output_type": "stream",
     "text": [
      "Acc: 67.768%: 100%|██████████| 704/704 [01:22<00:00,  8.50it/s]\n",
      "  0%|          | 0/704 [00:00<?, ?it/s]"
     ]
    },
    {
     "name": "stdout",
     "output_type": "stream",
     "text": [
      "\n",
      "Epoch: 52\n"
     ]
    },
    {
     "name": "stderr",
     "output_type": "stream",
     "text": [
      "Acc: 68.364%: 100%|██████████| 704/704 [01:02<00:00, 11.30it/s]\n",
      "  0%|          | 0/704 [00:00<?, ?it/s]"
     ]
    },
    {
     "name": "stdout",
     "output_type": "stream",
     "text": [
      "\n",
      "Epoch: 53\n"
     ]
    },
    {
     "name": "stderr",
     "output_type": "stream",
     "text": [
      "Acc: 68.862%: 100%|██████████| 704/704 [01:00<00:00, 11.62it/s]\n",
      "  0%|          | 0/704 [00:00<?, ?it/s]"
     ]
    },
    {
     "name": "stdout",
     "output_type": "stream",
     "text": [
      "\n",
      "Epoch: 54\n"
     ]
    },
    {
     "name": "stderr",
     "output_type": "stream",
     "text": [
      "Acc: 69.076%: 100%|██████████| 704/704 [01:01<00:00, 13.31it/s]\n",
      "  0%|          | 0/704 [00:00<?, ?it/s]"
     ]
    },
    {
     "name": "stdout",
     "output_type": "stream",
     "text": [
      "\n",
      "Epoch: 55\n"
     ]
    },
    {
     "name": "stderr",
     "output_type": "stream",
     "text": [
      "Acc: 69.218%: 100%|██████████| 704/704 [01:03<00:00, 11.07it/s]\n",
      "  0%|          | 0/704 [00:00<?, ?it/s]"
     ]
    },
    {
     "name": "stdout",
     "output_type": "stream",
     "text": [
      "\n",
      "Epoch: 56\n"
     ]
    },
    {
     "name": "stderr",
     "output_type": "stream",
     "text": [
      "Acc: 69.372%: 100%|██████████| 704/704 [01:08<00:00,  8.82it/s]\n",
      "  0%|          | 0/704 [00:00<?, ?it/s]"
     ]
    },
    {
     "name": "stdout",
     "output_type": "stream",
     "text": [
      "\n",
      "Epoch: 57\n"
     ]
    },
    {
     "name": "stderr",
     "output_type": "stream",
     "text": [
      "Acc: 69.359%: 100%|██████████| 704/704 [01:04<00:00, 10.97it/s]\n",
      "  0%|          | 0/704 [00:00<?, ?it/s]"
     ]
    },
    {
     "name": "stdout",
     "output_type": "stream",
     "text": [
      "\n",
      "Epoch: 58\n"
     ]
    },
    {
     "name": "stderr",
     "output_type": "stream",
     "text": [
      "Acc: 69.441%: 100%|██████████| 704/704 [01:08<00:00, 11.84it/s]\n",
      "  0%|          | 0/704 [00:00<?, ?it/s]"
     ]
    },
    {
     "name": "stdout",
     "output_type": "stream",
     "text": [
      "\n",
      "Epoch: 59\n"
     ]
    },
    {
     "name": "stderr",
     "output_type": "stream",
     "text": [
      "Acc: 69.513%: 100%|██████████| 704/704 [01:20<00:00, 12.03it/s]\n",
      "  0%|          | 0/704 [00:00<?, ?it/s]"
     ]
    },
    {
     "name": "stdout",
     "output_type": "stream",
     "text": [
      "\n",
      "Epoch: 60\n"
     ]
    },
    {
     "name": "stderr",
     "output_type": "stream",
     "text": [
      "Acc: 69.697%: 100%|██████████| 704/704 [01:33<00:00, 11.97it/s]\n",
      "Acc: 69.129%: 100%|██████████| 900/900 [01:04<00:00, 13.94it/s]\n"
     ]
    },
    {
     "name": "stdout",
     "output_type": "stream",
     "text": [
      "Saving..\n",
      "\n",
      "Epoch: 61\n"
     ]
    },
    {
     "name": "stderr",
     "output_type": "stream",
     "text": [
      "Acc: 69.674%: 100%|██████████| 704/704 [01:21<00:00,  8.66it/s]\n",
      "  0%|          | 0/704 [00:00<?, ?it/s]"
     ]
    },
    {
     "name": "stdout",
     "output_type": "stream",
     "text": [
      "\n",
      "Epoch: 62\n"
     ]
    },
    {
     "name": "stderr",
     "output_type": "stream",
     "text": [
      "Acc: 69.491%: 100%|██████████| 704/704 [01:21<00:00, 10.98it/s]\n",
      "  0%|          | 0/704 [00:00<?, ?it/s]"
     ]
    },
    {
     "name": "stdout",
     "output_type": "stream",
     "text": [
      "\n",
      "Epoch: 63\n"
     ]
    },
    {
     "name": "stderr",
     "output_type": "stream",
     "text": [
      "Acc: 69.576%: 100%|██████████| 704/704 [01:22<00:00,  8.52it/s]\n",
      "  0%|          | 0/704 [00:00<?, ?it/s]"
     ]
    },
    {
     "name": "stdout",
     "output_type": "stream",
     "text": [
      "\n",
      "Epoch: 64\n"
     ]
    },
    {
     "name": "stderr",
     "output_type": "stream",
     "text": [
      "Acc: 69.537%: 100%|██████████| 704/704 [01:07<00:00, 10.48it/s]\n",
      "  0%|          | 0/704 [00:00<?, ?it/s]"
     ]
    },
    {
     "name": "stdout",
     "output_type": "stream",
     "text": [
      "\n",
      "Epoch: 65\n"
     ]
    },
    {
     "name": "stderr",
     "output_type": "stream",
     "text": [
      "Acc: 69.769%: 100%|██████████| 704/704 [01:18<00:00, 12.16it/s]\n",
      "  0%|          | 0/704 [00:00<?, ?it/s]"
     ]
    },
    {
     "name": "stdout",
     "output_type": "stream",
     "text": [
      "\n",
      "Epoch: 66\n"
     ]
    },
    {
     "name": "stderr",
     "output_type": "stream",
     "text": [
      "Acc: 69.596%: 100%|██████████| 704/704 [01:27<00:00,  8.02it/s]\n",
      "  0%|          | 0/704 [00:00<?, ?it/s]"
     ]
    },
    {
     "name": "stdout",
     "output_type": "stream",
     "text": [
      "\n",
      "Epoch: 67\n"
     ]
    },
    {
     "name": "stderr",
     "output_type": "stream",
     "text": [
      "Acc: 69.613%: 100%|██████████| 704/704 [01:14<00:00, 11.92it/s]\n",
      "  0%|          | 0/704 [00:00<?, ?it/s]"
     ]
    },
    {
     "name": "stdout",
     "output_type": "stream",
     "text": [
      "\n",
      "Epoch: 68\n"
     ]
    },
    {
     "name": "stderr",
     "output_type": "stream",
     "text": [
      "Acc: 69.754%: 100%|██████████| 704/704 [01:08<00:00, 12.11it/s]\n",
      "  0%|          | 0/704 [00:00<?, ?it/s]"
     ]
    },
    {
     "name": "stdout",
     "output_type": "stream",
     "text": [
      "\n",
      "Epoch: 69\n"
     ]
    },
    {
     "name": "stderr",
     "output_type": "stream",
     "text": [
      "Acc: 69.667%: 100%|██████████| 704/704 [01:21<00:00, 10.96it/s]\n",
      "  0%|          | 0/704 [00:00<?, ?it/s]"
     ]
    },
    {
     "name": "stdout",
     "output_type": "stream",
     "text": [
      "\n",
      "Epoch: 70\n"
     ]
    },
    {
     "name": "stderr",
     "output_type": "stream",
     "text": [
      "Acc: 69.881%: 100%|██████████| 704/704 [01:29<00:00,  7.84it/s]\n",
      "Acc: 68.202%: 100%|██████████| 900/900 [01:06<00:00, 12.35it/s]\n",
      "  0%|          | 0/704 [00:00<?, ?it/s]"
     ]
    },
    {
     "name": "stdout",
     "output_type": "stream",
     "text": [
      "\n",
      "Epoch: 71\n"
     ]
    },
    {
     "name": "stderr",
     "output_type": "stream",
     "text": [
      "Acc: 69.963%: 100%|██████████| 704/704 [01:12<00:00, 11.37it/s]\n",
      "  0%|          | 0/704 [00:00<?, ?it/s]"
     ]
    },
    {
     "name": "stdout",
     "output_type": "stream",
     "text": [
      "\n",
      "Epoch: 72\n"
     ]
    },
    {
     "name": "stderr",
     "output_type": "stream",
     "text": [
      "Acc: 69.749%: 100%|██████████| 704/704 [01:17<00:00, 10.97it/s]\n",
      "  0%|          | 0/704 [00:00<?, ?it/s]"
     ]
    },
    {
     "name": "stdout",
     "output_type": "stream",
     "text": [
      "\n",
      "Epoch: 73\n"
     ]
    },
    {
     "name": "stderr",
     "output_type": "stream",
     "text": [
      "Acc: 69.782%: 100%|██████████| 704/704 [01:25<00:00, 11.26it/s]\n",
      "  0%|          | 0/704 [00:00<?, ?it/s]"
     ]
    },
    {
     "name": "stdout",
     "output_type": "stream",
     "text": [
      "\n",
      "Epoch: 74\n"
     ]
    },
    {
     "name": "stderr",
     "output_type": "stream",
     "text": [
      "Acc: 69.974%: 100%|██████████| 704/704 [01:13<00:00, 12.37it/s]\n",
      "  0%|          | 0/704 [00:00<?, ?it/s]"
     ]
    },
    {
     "name": "stdout",
     "output_type": "stream",
     "text": [
      "\n",
      "Epoch: 75\n"
     ]
    },
    {
     "name": "stderr",
     "output_type": "stream",
     "text": [
      "Acc: 69.819%: 100%|██████████| 704/704 [01:08<00:00, 11.77it/s]\n",
      "  0%|          | 0/704 [00:00<?, ?it/s]"
     ]
    },
    {
     "name": "stdout",
     "output_type": "stream",
     "text": [
      "\n",
      "Epoch: 76\n"
     ]
    },
    {
     "name": "stderr",
     "output_type": "stream",
     "text": [
      "Acc: 69.948%: 100%|██████████| 704/704 [01:22<00:00, 10.80it/s]\n",
      "  0%|          | 0/704 [00:00<?, ?it/s]"
     ]
    },
    {
     "name": "stdout",
     "output_type": "stream",
     "text": [
      "\n",
      "Epoch: 77\n"
     ]
    },
    {
     "name": "stderr",
     "output_type": "stream",
     "text": [
      "Acc: 70.057%: 100%|██████████| 704/704 [01:34<00:00,  7.44it/s]\n",
      "  0%|          | 0/704 [00:00<?, ?it/s]"
     ]
    },
    {
     "name": "stdout",
     "output_type": "stream",
     "text": [
      "\n",
      "Epoch: 78\n"
     ]
    },
    {
     "name": "stderr",
     "output_type": "stream",
     "text": [
      "Acc: 70.228%: 100%|██████████| 704/704 [01:10<00:00, 11.74it/s]\n",
      "  0%|          | 0/704 [00:00<?, ?it/s]"
     ]
    },
    {
     "name": "stdout",
     "output_type": "stream",
     "text": [
      "\n",
      "Epoch: 79\n"
     ]
    },
    {
     "name": "stderr",
     "output_type": "stream",
     "text": [
      "Acc: 69.954%: 100%|██████████| 704/704 [01:21<00:00, 11.24it/s]\n",
      "  0%|          | 0/704 [00:00<?, ?it/s]"
     ]
    },
    {
     "name": "stdout",
     "output_type": "stream",
     "text": [
      "\n",
      "Epoch: 80\n"
     ]
    },
    {
     "name": "stderr",
     "output_type": "stream",
     "text": [
      "Acc: 70.130%: 100%|██████████| 704/704 [01:31<00:00,  7.73it/s]\n",
      "Acc: 68.452%: 100%|██████████| 900/900 [01:17<00:00, 11.54it/s]\n",
      "  0%|          | 0/704 [00:00<?, ?it/s]"
     ]
    },
    {
     "name": "stdout",
     "output_type": "stream",
     "text": [
      "\n",
      "Epoch: 81\n"
     ]
    },
    {
     "name": "stderr",
     "output_type": "stream",
     "text": [
      "Acc: 70.322%: 100%|██████████| 704/704 [01:12<00:00,  9.75it/s]\n",
      "  0%|          | 0/704 [00:00<?, ?it/s]"
     ]
    },
    {
     "name": "stdout",
     "output_type": "stream",
     "text": [
      "\n",
      "Epoch: 82\n"
     ]
    },
    {
     "name": "stderr",
     "output_type": "stream",
     "text": [
      "Acc: 70.049%: 100%|██████████| 704/704 [01:12<00:00,  9.66it/s]\n",
      "  0%|          | 0/704 [00:00<?, ?it/s]"
     ]
    },
    {
     "name": "stdout",
     "output_type": "stream",
     "text": [
      "\n",
      "Epoch: 83\n"
     ]
    },
    {
     "name": "stderr",
     "output_type": "stream",
     "text": [
      "Acc: 70.249%: 100%|██████████| 704/704 [01:32<00:00,  7.58it/s]\n",
      "  0%|          | 0/704 [00:00<?, ?it/s]"
     ]
    },
    {
     "name": "stdout",
     "output_type": "stream",
     "text": [
      "\n",
      "Epoch: 84\n"
     ]
    },
    {
     "name": "stderr",
     "output_type": "stream",
     "text": [
      "Acc: 70.373%: 100%|██████████| 704/704 [01:13<00:00,  9.59it/s]\n",
      "  0%|          | 0/704 [00:00<?, ?it/s]"
     ]
    },
    {
     "name": "stdout",
     "output_type": "stream",
     "text": [
      "\n",
      "Epoch: 85\n"
     ]
    },
    {
     "name": "stderr",
     "output_type": "stream",
     "text": [
      "Acc: 70.453%: 100%|██████████| 704/704 [01:17<00:00,  9.14it/s]\n",
      "  0%|          | 0/704 [00:00<?, ?it/s]"
     ]
    },
    {
     "name": "stdout",
     "output_type": "stream",
     "text": [
      "\n",
      "Epoch: 86\n"
     ]
    },
    {
     "name": "stderr",
     "output_type": "stream",
     "text": [
      "Acc: 70.213%: 100%|██████████| 704/704 [01:16<00:00,  9.19it/s]\n",
      "  0%|          | 0/704 [00:00<?, ?it/s]"
     ]
    },
    {
     "name": "stdout",
     "output_type": "stream",
     "text": [
      "\n",
      "Epoch: 87\n"
     ]
    },
    {
     "name": "stderr",
     "output_type": "stream",
     "text": [
      "Acc: 70.506%: 100%|██████████| 704/704 [01:19<00:00, 10.35it/s]\n",
      "  0%|          | 0/704 [00:00<?, ?it/s]"
     ]
    },
    {
     "name": "stdout",
     "output_type": "stream",
     "text": [
      "\n",
      "Epoch: 88\n"
     ]
    },
    {
     "name": "stderr",
     "output_type": "stream",
     "text": [
      "Acc: 70.518%: 100%|██████████| 704/704 [01:20<00:00,  8.70it/s]\n",
      "  0%|          | 0/704 [00:00<?, ?it/s]"
     ]
    },
    {
     "name": "stdout",
     "output_type": "stream",
     "text": [
      "\n",
      "Epoch: 89\n"
     ]
    },
    {
     "name": "stderr",
     "output_type": "stream",
     "text": [
      "Acc: 70.366%: 100%|██████████| 704/704 [01:39<00:00,  7.04it/s]\n",
      "  0%|          | 0/704 [00:00<?, ?it/s]"
     ]
    },
    {
     "name": "stdout",
     "output_type": "stream",
     "text": [
      "\n",
      "Epoch: 90\n"
     ]
    },
    {
     "name": "stderr",
     "output_type": "stream",
     "text": [
      "Acc: 70.642%: 100%|██████████| 704/704 [01:12<00:00, 10.69it/s]\n",
      "Acc: 67.373%: 100%|██████████| 900/900 [01:19<00:00, 11.94it/s]\n",
      "  0%|          | 0/704 [00:00<?, ?it/s]"
     ]
    },
    {
     "name": "stdout",
     "output_type": "stream",
     "text": [
      "\n",
      "Epoch: 91\n"
     ]
    },
    {
     "name": "stderr",
     "output_type": "stream",
     "text": [
      "Acc: 70.430%: 100%|██████████| 704/704 [01:29<00:00,  7.83it/s]\n",
      "  0%|          | 0/704 [00:00<?, ?it/s]"
     ]
    },
    {
     "name": "stdout",
     "output_type": "stream",
     "text": [
      "\n",
      "Epoch: 92\n"
     ]
    },
    {
     "name": "stderr",
     "output_type": "stream",
     "text": [
      "Acc: 70.536%: 100%|██████████| 704/704 [01:07<00:00, 10.47it/s]\n",
      "  0%|          | 0/704 [00:00<?, ?it/s]"
     ]
    },
    {
     "name": "stdout",
     "output_type": "stream",
     "text": [
      "\n",
      "Epoch: 93\n"
     ]
    },
    {
     "name": "stderr",
     "output_type": "stream",
     "text": [
      "Acc: 70.669%: 100%|██████████| 704/704 [01:16<00:00,  9.22it/s]\n",
      "  0%|          | 0/704 [00:00<?, ?it/s]"
     ]
    },
    {
     "name": "stdout",
     "output_type": "stream",
     "text": [
      "\n",
      "Epoch: 94\n"
     ]
    },
    {
     "name": "stderr",
     "output_type": "stream",
     "text": [
      "Acc: 70.716%: 100%|██████████| 704/704 [01:31<00:00,  7.67it/s]\n",
      "  0%|          | 0/704 [00:00<?, ?it/s]"
     ]
    },
    {
     "name": "stdout",
     "output_type": "stream",
     "text": [
      "\n",
      "Epoch: 95\n"
     ]
    },
    {
     "name": "stderr",
     "output_type": "stream",
     "text": [
      "Acc: 70.646%: 100%|██████████| 704/704 [01:18<00:00, 11.06it/s]\n",
      "  0%|          | 0/704 [00:00<?, ?it/s]"
     ]
    },
    {
     "name": "stdout",
     "output_type": "stream",
     "text": [
      "\n",
      "Epoch: 96\n"
     ]
    },
    {
     "name": "stderr",
     "output_type": "stream",
     "text": [
      "Acc: 70.769%: 100%|██████████| 704/704 [01:16<00:00, 10.72it/s]\n",
      "  0%|          | 0/704 [00:00<?, ?it/s]"
     ]
    },
    {
     "name": "stdout",
     "output_type": "stream",
     "text": [
      "\n",
      "Epoch: 97\n"
     ]
    },
    {
     "name": "stderr",
     "output_type": "stream",
     "text": [
      "Acc: 70.594%: 100%|██████████| 704/704 [01:35<00:00,  7.37it/s]\n",
      "  0%|          | 0/704 [00:00<?, ?it/s]"
     ]
    },
    {
     "name": "stdout",
     "output_type": "stream",
     "text": [
      "\n",
      "Epoch: 98\n"
     ]
    },
    {
     "name": "stderr",
     "output_type": "stream",
     "text": [
      "Acc: 70.818%: 100%|██████████| 704/704 [01:11<00:00,  9.91it/s]\n",
      "  0%|          | 0/704 [00:00<?, ?it/s]"
     ]
    },
    {
     "name": "stdout",
     "output_type": "stream",
     "text": [
      "\n",
      "Epoch: 99\n"
     ]
    },
    {
     "name": "stderr",
     "output_type": "stream",
     "text": [
      "Acc: 70.907%: 100%|██████████| 704/704 [01:14<00:00,  9.48it/s]\n",
      "  0%|          | 0/704 [00:00<?, ?it/s]"
     ]
    },
    {
     "name": "stdout",
     "output_type": "stream",
     "text": [
      "\n",
      "Epoch: 100\n"
     ]
    },
    {
     "name": "stderr",
     "output_type": "stream",
     "text": [
      "Acc: 70.859%: 100%|██████████| 704/704 [01:31<00:00,  7.70it/s]\n",
      "Acc: 70.563%: 100%|██████████| 900/900 [01:15<00:00, 11.92it/s]\n",
      "  0%|          | 0/704 [00:00<?, ?it/s]"
     ]
    },
    {
     "name": "stdout",
     "output_type": "stream",
     "text": [
      "Saving..\n",
      "\n",
      "Epoch: 101\n"
     ]
    },
    {
     "name": "stderr",
     "output_type": "stream",
     "text": [
      "Acc: 70.954%: 100%|██████████| 704/704 [01:15<00:00,  9.31it/s]\n",
      "  0%|          | 0/704 [00:00<?, ?it/s]"
     ]
    },
    {
     "name": "stdout",
     "output_type": "stream",
     "text": [
      "\n",
      "Epoch: 102\n"
     ]
    },
    {
     "name": "stderr",
     "output_type": "stream",
     "text": [
      "Acc: 70.961%: 100%|██████████| 704/704 [01:16<00:00,  9.17it/s]\n",
      "  0%|          | 0/704 [00:00<?, ?it/s]"
     ]
    },
    {
     "name": "stdout",
     "output_type": "stream",
     "text": [
      "\n",
      "Epoch: 103\n"
     ]
    },
    {
     "name": "stderr",
     "output_type": "stream",
     "text": [
      "Acc: 70.920%: 100%|██████████| 704/704 [01:33<00:00, 10.48it/s]\n",
      "  0%|          | 0/704 [00:00<?, ?it/s]"
     ]
    },
    {
     "name": "stdout",
     "output_type": "stream",
     "text": [
      "\n",
      "Epoch: 104\n"
     ]
    },
    {
     "name": "stderr",
     "output_type": "stream",
     "text": [
      "Acc: 70.903%: 100%|██████████| 704/704 [01:16<00:00,  9.26it/s]\n",
      "  0%|          | 0/704 [00:00<?, ?it/s]"
     ]
    },
    {
     "name": "stdout",
     "output_type": "stream",
     "text": [
      "\n",
      "Epoch: 105\n"
     ]
    },
    {
     "name": "stderr",
     "output_type": "stream",
     "text": [
      "Acc: 71.162%: 100%|██████████| 704/704 [01:25<00:00, 10.51it/s]\n",
      "  0%|          | 0/704 [00:00<?, ?it/s]"
     ]
    },
    {
     "name": "stdout",
     "output_type": "stream",
     "text": [
      "\n",
      "Epoch: 106\n"
     ]
    },
    {
     "name": "stderr",
     "output_type": "stream",
     "text": [
      "Acc: 70.924%: 100%|██████████| 704/704 [01:34<00:00,  7.48it/s]\n",
      "  0%|          | 0/704 [00:00<?, ?it/s]"
     ]
    },
    {
     "name": "stdout",
     "output_type": "stream",
     "text": [
      "\n",
      "Epoch: 107\n"
     ]
    },
    {
     "name": "stderr",
     "output_type": "stream",
     "text": [
      "Acc: 70.968%: 100%|██████████| 704/704 [01:17<00:00,  9.09it/s]\n",
      "  0%|          | 0/704 [00:00<?, ?it/s]"
     ]
    },
    {
     "name": "stdout",
     "output_type": "stream",
     "text": [
      "\n",
      "Epoch: 108\n"
     ]
    },
    {
     "name": "stderr",
     "output_type": "stream",
     "text": [
      "Acc: 71.138%: 100%|██████████| 704/704 [01:36<00:00,  7.27it/s]\n",
      "  0%|          | 0/704 [00:00<?, ?it/s]"
     ]
    },
    {
     "name": "stdout",
     "output_type": "stream",
     "text": [
      "\n",
      "Epoch: 109\n"
     ]
    },
    {
     "name": "stderr",
     "output_type": "stream",
     "text": [
      "Acc: 70.986%: 100%|██████████| 704/704 [01:12<00:00, 12.42it/s]\n",
      "  0%|          | 0/704 [00:00<?, ?it/s]"
     ]
    },
    {
     "name": "stdout",
     "output_type": "stream",
     "text": [
      "\n",
      "Epoch: 110\n"
     ]
    },
    {
     "name": "stderr",
     "output_type": "stream",
     "text": [
      "Acc: 71.268%: 100%|██████████| 704/704 [01:24<00:00, 11.11it/s]\n",
      "Acc: 69.711%: 100%|██████████| 900/900 [01:24<00:00, 10.66it/s]\n",
      "  0%|          | 0/704 [00:00<?, ?it/s]"
     ]
    },
    {
     "name": "stdout",
     "output_type": "stream",
     "text": [
      "\n",
      "Epoch: 111\n"
     ]
    },
    {
     "name": "stderr",
     "output_type": "stream",
     "text": [
      "Acc: 71.269%: 100%|██████████| 704/704 [01:16<00:00, 10.34it/s]\n",
      "  0%|          | 0/704 [00:00<?, ?it/s]"
     ]
    },
    {
     "name": "stdout",
     "output_type": "stream",
     "text": [
      "\n",
      "Epoch: 112\n"
     ]
    },
    {
     "name": "stderr",
     "output_type": "stream",
     "text": [
      "Acc: 71.234%: 100%|██████████| 704/704 [01:18<00:00, 10.77it/s]\n",
      "  0%|          | 0/704 [00:00<?, ?it/s]"
     ]
    },
    {
     "name": "stdout",
     "output_type": "stream",
     "text": [
      "\n",
      "Epoch: 113\n"
     ]
    },
    {
     "name": "stderr",
     "output_type": "stream",
     "text": [
      "Acc: 71.248%: 100%|██████████| 704/704 [01:35<00:00,  7.39it/s]\n",
      "  0%|          | 0/704 [00:00<?, ?it/s]"
     ]
    },
    {
     "name": "stdout",
     "output_type": "stream",
     "text": [
      "\n",
      "Epoch: 114\n"
     ]
    },
    {
     "name": "stderr",
     "output_type": "stream",
     "text": [
      "Acc: 71.364%: 100%|██████████| 704/704 [01:14<00:00, 10.85it/s]\n",
      "  0%|          | 0/704 [00:00<?, ?it/s]"
     ]
    },
    {
     "name": "stdout",
     "output_type": "stream",
     "text": [
      "\n",
      "Epoch: 115\n"
     ]
    },
    {
     "name": "stderr",
     "output_type": "stream",
     "text": [
      "Acc: 71.382%: 100%|██████████| 704/704 [01:24<00:00,  8.35it/s]\n",
      "  0%|          | 0/704 [00:00<?, ?it/s]"
     ]
    },
    {
     "name": "stdout",
     "output_type": "stream",
     "text": [
      "\n",
      "Epoch: 116\n"
     ]
    },
    {
     "name": "stderr",
     "output_type": "stream",
     "text": [
      "Acc: 71.410%: 100%|██████████| 704/704 [01:26<00:00,  8.13it/s]\n",
      "  0%|          | 0/704 [00:00<?, ?it/s]"
     ]
    },
    {
     "name": "stdout",
     "output_type": "stream",
     "text": [
      "\n",
      "Epoch: 117\n"
     ]
    },
    {
     "name": "stderr",
     "output_type": "stream",
     "text": [
      "Acc: 71.550%: 100%|██████████| 704/704 [01:09<00:00, 10.08it/s]\n",
      "  0%|          | 0/704 [00:00<?, ?it/s]"
     ]
    },
    {
     "name": "stdout",
     "output_type": "stream",
     "text": [
      "\n",
      "Epoch: 118\n"
     ]
    },
    {
     "name": "stderr",
     "output_type": "stream",
     "text": [
      "Acc: 71.304%: 100%|██████████| 704/704 [01:17<00:00,  9.03it/s]\n",
      "  0%|          | 0/704 [00:00<?, ?it/s]"
     ]
    },
    {
     "name": "stdout",
     "output_type": "stream",
     "text": [
      "\n",
      "Epoch: 119\n"
     ]
    },
    {
     "name": "stderr",
     "output_type": "stream",
     "text": [
      "Acc: 71.596%: 100%|██████████| 704/704 [01:25<00:00, 11.42it/s]\n",
      "  0%|          | 0/704 [00:00<?, ?it/s]"
     ]
    },
    {
     "name": "stdout",
     "output_type": "stream",
     "text": [
      "\n",
      "Epoch: 120\n"
     ]
    },
    {
     "name": "stderr",
     "output_type": "stream",
     "text": [
      "Acc: 71.602%: 100%|██████████| 704/704 [01:14<00:00,  9.47it/s]\n",
      "Acc: 70.208%: 100%|██████████| 900/900 [01:19<00:00, 13.04it/s]\n",
      "  0%|          | 0/704 [00:00<?, ?it/s]"
     ]
    },
    {
     "name": "stdout",
     "output_type": "stream",
     "text": [
      "\n",
      "Epoch: 121\n"
     ]
    },
    {
     "name": "stderr",
     "output_type": "stream",
     "text": [
      "Acc: 71.603%: 100%|██████████| 704/704 [01:17<00:00,  9.06it/s]\n",
      "  0%|          | 0/704 [00:00<?, ?it/s]"
     ]
    },
    {
     "name": "stdout",
     "output_type": "stream",
     "text": [
      "\n",
      "Epoch: 122\n"
     ]
    },
    {
     "name": "stderr",
     "output_type": "stream",
     "text": [
      "Acc: 71.724%: 100%|██████████| 704/704 [01:10<00:00,  9.94it/s]\n",
      "  0%|          | 0/704 [00:00<?, ?it/s]"
     ]
    },
    {
     "name": "stdout",
     "output_type": "stream",
     "text": [
      "\n",
      "Epoch: 123\n"
     ]
    },
    {
     "name": "stderr",
     "output_type": "stream",
     "text": [
      "Acc: 71.498%: 100%|██████████| 704/704 [01:08<00:00, 10.34it/s]\n",
      "  0%|          | 0/704 [00:00<?, ?it/s]"
     ]
    },
    {
     "name": "stdout",
     "output_type": "stream",
     "text": [
      "\n",
      "Epoch: 124\n"
     ]
    },
    {
     "name": "stderr",
     "output_type": "stream",
     "text": [
      "Acc: 71.657%: 100%|██████████| 704/704 [01:11<00:00,  9.23it/s]\n",
      "  0%|          | 0/704 [00:00<?, ?it/s]"
     ]
    },
    {
     "name": "stdout",
     "output_type": "stream",
     "text": [
      "\n",
      "Epoch: 125\n"
     ]
    },
    {
     "name": "stderr",
     "output_type": "stream",
     "text": [
      "Acc: 71.567%: 100%|██████████| 704/704 [01:05<00:00, 10.73it/s]\n",
      "  0%|          | 0/704 [00:00<?, ?it/s]"
     ]
    },
    {
     "name": "stdout",
     "output_type": "stream",
     "text": [
      "\n",
      "Epoch: 126\n"
     ]
    },
    {
     "name": "stderr",
     "output_type": "stream",
     "text": [
      "Acc: 71.624%: 100%|██████████| 704/704 [01:15<00:00, 11.93it/s]\n",
      "  0%|          | 0/704 [00:00<?, ?it/s]"
     ]
    },
    {
     "name": "stdout",
     "output_type": "stream",
     "text": [
      "\n",
      "Epoch: 127\n"
     ]
    },
    {
     "name": "stderr",
     "output_type": "stream",
     "text": [
      "Acc: 71.756%: 100%|██████████| 704/704 [01:32<00:00,  7.59it/s]\n",
      "  0%|          | 0/704 [00:00<?, ?it/s]"
     ]
    },
    {
     "name": "stdout",
     "output_type": "stream",
     "text": [
      "\n",
      "Epoch: 128\n"
     ]
    },
    {
     "name": "stderr",
     "output_type": "stream",
     "text": [
      "Acc: 71.763%: 100%|██████████| 704/704 [01:19<00:00, 11.92it/s]\n",
      "  0%|          | 0/704 [00:00<?, ?it/s]"
     ]
    },
    {
     "name": "stdout",
     "output_type": "stream",
     "text": [
      "\n",
      "Epoch: 129\n"
     ]
    },
    {
     "name": "stderr",
     "output_type": "stream",
     "text": [
      "Acc: 72.007%: 100%|██████████| 704/704 [01:08<00:00, 11.73it/s]\n",
      "  0%|          | 0/704 [00:00<?, ?it/s]"
     ]
    },
    {
     "name": "stdout",
     "output_type": "stream",
     "text": [
      "\n",
      "Epoch: 130\n"
     ]
    },
    {
     "name": "stderr",
     "output_type": "stream",
     "text": [
      "Acc: 71.744%: 100%|██████████| 704/704 [01:22<00:00,  8.57it/s]\n",
      "Acc: 70.302%: 100%|██████████| 900/900 [01:24<00:00, 10.62it/s]\n",
      "  0%|          | 0/704 [00:00<?, ?it/s]"
     ]
    },
    {
     "name": "stdout",
     "output_type": "stream",
     "text": [
      "\n",
      "Epoch: 131\n"
     ]
    },
    {
     "name": "stderr",
     "output_type": "stream",
     "text": [
      "Acc: 71.646%: 100%|██████████| 704/704 [01:18<00:00,  9.00it/s]\n",
      "  0%|          | 0/704 [00:00<?, ?it/s]"
     ]
    },
    {
     "name": "stdout",
     "output_type": "stream",
     "text": [
      "\n",
      "Epoch: 132\n"
     ]
    },
    {
     "name": "stderr",
     "output_type": "stream",
     "text": [
      "Acc: 71.789%: 100%|██████████| 704/704 [01:16<00:00,  9.20it/s]\n",
      "  0%|          | 0/704 [00:00<?, ?it/s]"
     ]
    },
    {
     "name": "stdout",
     "output_type": "stream",
     "text": [
      "\n",
      "Epoch: 133\n"
     ]
    },
    {
     "name": "stderr",
     "output_type": "stream",
     "text": [
      "Acc: 71.886%: 100%|██████████| 704/704 [01:35<00:00,  7.37it/s]\n",
      "  0%|          | 0/704 [00:00<?, ?it/s]"
     ]
    },
    {
     "name": "stdout",
     "output_type": "stream",
     "text": [
      "\n",
      "Epoch: 134\n"
     ]
    },
    {
     "name": "stderr",
     "output_type": "stream",
     "text": [
      "Acc: 71.786%: 100%|██████████| 704/704 [01:12<00:00, 12.65it/s]\n",
      "  0%|          | 0/704 [00:00<?, ?it/s]"
     ]
    },
    {
     "name": "stdout",
     "output_type": "stream",
     "text": [
      "\n",
      "Epoch: 135\n"
     ]
    },
    {
     "name": "stderr",
     "output_type": "stream",
     "text": [
      "Acc: 72.026%: 100%|██████████| 704/704 [01:25<00:00, 11.35it/s]\n",
      "  0%|          | 0/704 [00:00<?, ?it/s]"
     ]
    },
    {
     "name": "stdout",
     "output_type": "stream",
     "text": [
      "\n",
      "Epoch: 136\n"
     ]
    },
    {
     "name": "stderr",
     "output_type": "stream",
     "text": [
      "Acc: 71.951%: 100%|██████████| 704/704 [01:33<00:00,  7.49it/s]  \n",
      "  0%|          | 0/704 [00:00<?, ?it/s]"
     ]
    },
    {
     "name": "stdout",
     "output_type": "stream",
     "text": [
      "\n",
      "Epoch: 137\n"
     ]
    },
    {
     "name": "stderr",
     "output_type": "stream",
     "text": [
      "Acc: 72.022%: 100%|██████████| 704/704 [01:11<00:00, 11.52it/s]\n",
      "  0%|          | 0/704 [00:00<?, ?it/s]"
     ]
    },
    {
     "name": "stdout",
     "output_type": "stream",
     "text": [
      "\n",
      "Epoch: 138\n"
     ]
    },
    {
     "name": "stderr",
     "output_type": "stream",
     "text": [
      "Acc: 71.980%: 100%|██████████| 704/704 [01:26<00:00, 11.13it/s]\n",
      "  0%|          | 0/704 [00:00<?, ?it/s]"
     ]
    },
    {
     "name": "stdout",
     "output_type": "stream",
     "text": [
      "\n",
      "Epoch: 139\n"
     ]
    },
    {
     "name": "stderr",
     "output_type": "stream",
     "text": [
      "Acc: 71.916%: 100%|██████████| 704/704 [01:31<00:00, 12.23it/s]\n",
      "  0%|          | 0/704 [00:00<?, ?it/s]"
     ]
    },
    {
     "name": "stdout",
     "output_type": "stream",
     "text": [
      "\n",
      "Epoch: 140\n"
     ]
    },
    {
     "name": "stderr",
     "output_type": "stream",
     "text": [
      "Acc: 72.169%: 100%|██████████| 704/704 [01:14<00:00, 11.76it/s]\n",
      "Acc: 69.843%: 100%|██████████| 900/900 [01:27<00:00, 10.23it/s]\n",
      "  0%|          | 0/704 [00:00<?, ?it/s]"
     ]
    },
    {
     "name": "stdout",
     "output_type": "stream",
     "text": [
      "\n",
      "Epoch: 141\n"
     ]
    },
    {
     "name": "stderr",
     "output_type": "stream",
     "text": [
      "Acc: 71.872%: 100%|██████████| 704/704 [01:18<00:00,  8.89it/s]\n",
      "  0%|          | 0/704 [00:00<?, ?it/s]"
     ]
    },
    {
     "name": "stdout",
     "output_type": "stream",
     "text": [
      "\n",
      "Epoch: 142\n"
     ]
    },
    {
     "name": "stderr",
     "output_type": "stream",
     "text": [
      "Acc: 72.053%: 100%|██████████| 704/704 [01:07<00:00, 10.38it/s]\n",
      "  0%|          | 0/704 [00:00<?, ?it/s]"
     ]
    },
    {
     "name": "stdout",
     "output_type": "stream",
     "text": [
      "\n",
      "Epoch: 143\n"
     ]
    },
    {
     "name": "stderr",
     "output_type": "stream",
     "text": [
      "Acc: 72.034%: 100%|██████████| 704/704 [01:21<00:00,  8.66it/s]\n",
      "  0%|          | 0/704 [00:00<?, ?it/s]"
     ]
    },
    {
     "name": "stdout",
     "output_type": "stream",
     "text": [
      "\n",
      "Epoch: 144\n"
     ]
    },
    {
     "name": "stderr",
     "output_type": "stream",
     "text": [
      "Acc: 71.972%: 100%|██████████| 704/704 [01:33<00:00,  7.57it/s]\n",
      "  0%|          | 0/704 [00:00<?, ?it/s]"
     ]
    },
    {
     "name": "stdout",
     "output_type": "stream",
     "text": [
      "\n",
      "Epoch: 145\n"
     ]
    },
    {
     "name": "stderr",
     "output_type": "stream",
     "text": [
      "Acc: 72.184%: 100%|██████████| 704/704 [01:11<00:00, 11.18it/s]\n",
      "  0%|          | 0/704 [00:00<?, ?it/s]"
     ]
    },
    {
     "name": "stdout",
     "output_type": "stream",
     "text": [
      "\n",
      "Epoch: 146\n"
     ]
    },
    {
     "name": "stderr",
     "output_type": "stream",
     "text": [
      "Acc: 72.228%: 100%|██████████| 704/704 [01:20<00:00, 11.45it/s]\n",
      "  0%|          | 0/704 [00:00<?, ?it/s]"
     ]
    },
    {
     "name": "stdout",
     "output_type": "stream",
     "text": [
      "\n",
      "Epoch: 147\n"
     ]
    },
    {
     "name": "stderr",
     "output_type": "stream",
     "text": [
      "Acc: 72.201%: 100%|██████████| 704/704 [01:34<00:00,  8.12it/s]\n",
      "  0%|          | 0/704 [00:00<?, ?it/s]"
     ]
    },
    {
     "name": "stdout",
     "output_type": "stream",
     "text": [
      "\n",
      "Epoch: 148\n"
     ]
    },
    {
     "name": "stderr",
     "output_type": "stream",
     "text": [
      "Acc: 72.071%: 100%|██████████| 704/704 [01:13<00:00, 11.48it/s]\n",
      "  0%|          | 0/704 [00:00<?, ?it/s]"
     ]
    },
    {
     "name": "stdout",
     "output_type": "stream",
     "text": [
      "\n",
      "Epoch: 149\n"
     ]
    },
    {
     "name": "stderr",
     "output_type": "stream",
     "text": [
      "Acc: 72.126%: 100%|██████████| 704/704 [01:26<00:00, 11.57it/s]\n",
      "  0%|          | 0/704 [00:00<?, ?it/s]"
     ]
    },
    {
     "name": "stdout",
     "output_type": "stream",
     "text": [
      "\n",
      "Epoch: 150\n"
     ]
    },
    {
     "name": "stderr",
     "output_type": "stream",
     "text": [
      "Acc: 75.311%: 100%|██████████| 704/704 [01:28<00:00,  7.94it/s]\n",
      "Acc: 75.421%: 100%|██████████| 900/900 [01:27<00:00, 10.84it/s]\n",
      "  0%|          | 0/704 [00:00<?, ?it/s]"
     ]
    },
    {
     "name": "stdout",
     "output_type": "stream",
     "text": [
      "Saving..\n",
      "\n",
      "Epoch: 151\n"
     ]
    },
    {
     "name": "stderr",
     "output_type": "stream",
     "text": [
      "Acc: 76.136%: 100%|██████████| 704/704 [01:26<00:00, 10.90it/s]\n",
      "  0%|          | 0/704 [00:00<?, ?it/s]"
     ]
    },
    {
     "name": "stdout",
     "output_type": "stream",
     "text": [
      "\n",
      "Epoch: 152\n"
     ]
    },
    {
     "name": "stderr",
     "output_type": "stream",
     "text": [
      "Acc: 76.552%: 100%|██████████| 704/704 [01:06<00:00, 10.86it/s]\n",
      "  0%|          | 0/704 [00:00<?, ?it/s]"
     ]
    },
    {
     "name": "stdout",
     "output_type": "stream",
     "text": [
      "\n",
      "Epoch: 153\n"
     ]
    },
    {
     "name": "stderr",
     "output_type": "stream",
     "text": [
      "Acc: 76.750%: 100%|██████████| 704/704 [01:07<00:00, 10.64it/s]\n",
      "  0%|          | 0/704 [00:00<?, ?it/s]"
     ]
    },
    {
     "name": "stdout",
     "output_type": "stream",
     "text": [
      "\n",
      "Epoch: 154\n"
     ]
    },
    {
     "name": "stderr",
     "output_type": "stream",
     "text": [
      "Acc: 76.713%: 100%|██████████| 704/704 [01:17<00:00,  9.96it/s]\n",
      "  0%|          | 0/704 [00:00<?, ?it/s]"
     ]
    },
    {
     "name": "stdout",
     "output_type": "stream",
     "text": [
      "\n",
      "Epoch: 155\n"
     ]
    },
    {
     "name": "stderr",
     "output_type": "stream",
     "text": [
      "Acc: 76.854%: 100%|██████████| 704/704 [01:35<00:00,  9.70it/s]\n",
      "  0%|          | 0/704 [00:00<?, ?it/s]"
     ]
    },
    {
     "name": "stdout",
     "output_type": "stream",
     "text": [
      "\n",
      "Epoch: 156\n"
     ]
    },
    {
     "name": "stderr",
     "output_type": "stream",
     "text": [
      "Acc: 76.896%: 100%|██████████| 704/704 [01:15<00:00,  9.30it/s]\n",
      "  0%|          | 0/704 [00:00<?, ?it/s]"
     ]
    },
    {
     "name": "stdout",
     "output_type": "stream",
     "text": [
      "\n",
      "Epoch: 157\n"
     ]
    },
    {
     "name": "stderr",
     "output_type": "stream",
     "text": [
      "Acc: 77.038%: 100%|██████████| 704/704 [01:21<00:00, 10.56it/s]\n",
      "  0%|          | 0/704 [00:00<?, ?it/s]"
     ]
    },
    {
     "name": "stdout",
     "output_type": "stream",
     "text": [
      "\n",
      "Epoch: 158\n"
     ]
    },
    {
     "name": "stderr",
     "output_type": "stream",
     "text": [
      "Acc: 77.048%: 100%|██████████| 704/704 [01:34<00:00, 13.11it/s]\n",
      "  0%|          | 0/704 [00:00<?, ?it/s]"
     ]
    },
    {
     "name": "stdout",
     "output_type": "stream",
     "text": [
      "\n",
      "Epoch: 159\n"
     ]
    },
    {
     "name": "stderr",
     "output_type": "stream",
     "text": [
      "Acc: 77.124%: 100%|██████████| 704/704 [01:12<00:00, 12.06it/s]\n",
      "  0%|          | 0/704 [00:00<?, ?it/s]"
     ]
    },
    {
     "name": "stdout",
     "output_type": "stream",
     "text": [
      "\n",
      "Epoch: 160\n"
     ]
    },
    {
     "name": "stderr",
     "output_type": "stream",
     "text": [
      "Acc: 77.050%: 100%|██████████| 704/704 [01:24<00:00, 11.41it/s]\n",
      "Acc: 76.191%: 100%|██████████| 900/900 [01:14<00:00, 12.12it/s]\n",
      "  0%|          | 0/704 [00:00<?, ?it/s]"
     ]
    },
    {
     "name": "stdout",
     "output_type": "stream",
     "text": [
      "Saving..\n",
      "\n",
      "Epoch: 161\n"
     ]
    },
    {
     "name": "stderr",
     "output_type": "stream",
     "text": [
      "Acc: 77.306%: 100%|██████████| 704/704 [01:20<00:00,  8.80it/s]\n",
      "  0%|          | 0/704 [00:00<?, ?it/s]"
     ]
    },
    {
     "name": "stdout",
     "output_type": "stream",
     "text": [
      "\n",
      "Epoch: 162\n"
     ]
    },
    {
     "name": "stderr",
     "output_type": "stream",
     "text": [
      "Acc: 77.324%: 100%|██████████| 704/704 [01:10<00:00, 10.04it/s]\n",
      "  0%|          | 0/704 [00:00<?, ?it/s]"
     ]
    },
    {
     "name": "stdout",
     "output_type": "stream",
     "text": [
      "\n",
      "Epoch: 163\n"
     ]
    },
    {
     "name": "stderr",
     "output_type": "stream",
     "text": [
      "Acc: 77.199%: 100%|██████████| 704/704 [01:25<00:00, 10.98it/s]\n",
      "  0%|          | 0/704 [00:00<?, ?it/s]"
     ]
    },
    {
     "name": "stdout",
     "output_type": "stream",
     "text": [
      "\n",
      "Epoch: 164\n"
     ]
    },
    {
     "name": "stderr",
     "output_type": "stream",
     "text": [
      "Acc: 77.264%: 100%|██████████| 704/704 [01:30<00:00,  7.77it/s]\n",
      "  0%|          | 0/704 [00:00<?, ?it/s]"
     ]
    },
    {
     "name": "stdout",
     "output_type": "stream",
     "text": [
      "\n",
      "Epoch: 165\n"
     ]
    },
    {
     "name": "stderr",
     "output_type": "stream",
     "text": [
      "Acc: 77.362%: 100%|██████████| 704/704 [01:11<00:00, 11.31it/s]\n",
      "  0%|          | 0/704 [00:00<?, ?it/s]"
     ]
    },
    {
     "name": "stdout",
     "output_type": "stream",
     "text": [
      "\n",
      "Epoch: 166\n"
     ]
    },
    {
     "name": "stderr",
     "output_type": "stream",
     "text": [
      "Acc: 77.284%: 100%|██████████| 704/704 [01:27<00:00, 11.13it/s]\n",
      "  0%|          | 0/704 [00:00<?, ?it/s]"
     ]
    },
    {
     "name": "stdout",
     "output_type": "stream",
     "text": [
      "\n",
      "Epoch: 167\n"
     ]
    },
    {
     "name": "stderr",
     "output_type": "stream",
     "text": [
      "Acc: 77.546%: 100%|██████████| 704/704 [01:30<00:00,  7.80it/s]\n",
      "  0%|          | 0/704 [00:00<?, ?it/s]"
     ]
    },
    {
     "name": "stdout",
     "output_type": "stream",
     "text": [
      "\n",
      "Epoch: 168\n"
     ]
    },
    {
     "name": "stderr",
     "output_type": "stream",
     "text": [
      "Acc: 77.437%: 100%|██████████| 704/704 [01:08<00:00, 10.23it/s]\n",
      "  0%|          | 0/704 [00:00<?, ?it/s]"
     ]
    },
    {
     "name": "stdout",
     "output_type": "stream",
     "text": [
      "\n",
      "Epoch: 169\n"
     ]
    },
    {
     "name": "stderr",
     "output_type": "stream",
     "text": [
      "Acc: 77.344%: 100%|██████████| 704/704 [01:26<00:00,  8.15it/s]\n",
      "  0%|          | 0/704 [00:00<?, ?it/s]"
     ]
    },
    {
     "name": "stdout",
     "output_type": "stream",
     "text": [
      "\n",
      "Epoch: 170\n"
     ]
    },
    {
     "name": "stderr",
     "output_type": "stream",
     "text": [
      "Acc: 77.516%: 100%|██████████| 704/704 [01:28<00:00, 12.28it/s]\n",
      "Acc: 76.399%: 100%|██████████| 900/900 [01:21<00:00, 11.03it/s]\n",
      "  0%|          | 0/704 [00:00<?, ?it/s]"
     ]
    },
    {
     "name": "stdout",
     "output_type": "stream",
     "text": [
      "Saving..\n",
      "\n",
      "Epoch: 171\n"
     ]
    },
    {
     "name": "stderr",
     "output_type": "stream",
     "text": [
      "Acc: 77.606%: 100%|██████████| 704/704 [01:35<00:00, 10.51it/s]\n",
      "  0%|          | 0/704 [00:00<?, ?it/s]"
     ]
    },
    {
     "name": "stdout",
     "output_type": "stream",
     "text": [
      "\n",
      "Epoch: 172\n"
     ]
    },
    {
     "name": "stderr",
     "output_type": "stream",
     "text": [
      "Acc: 77.526%: 100%|██████████| 704/704 [01:10<00:00, 10.02it/s]\n",
      "  0%|          | 0/704 [00:00<?, ?it/s]"
     ]
    },
    {
     "name": "stdout",
     "output_type": "stream",
     "text": [
      "\n",
      "Epoch: 173\n"
     ]
    },
    {
     "name": "stderr",
     "output_type": "stream",
     "text": [
      "Acc: 77.528%: 100%|██████████| 704/704 [01:19<00:00, 11.13it/s]\n",
      "  0%|          | 0/704 [00:00<?, ?it/s]"
     ]
    },
    {
     "name": "stdout",
     "output_type": "stream",
     "text": [
      "\n",
      "Epoch: 174\n"
     ]
    },
    {
     "name": "stderr",
     "output_type": "stream",
     "text": [
      "Acc: 77.439%: 100%|██████████| 704/704 [01:33<00:00, 12.62it/s]\n",
      "  0%|          | 0/704 [00:00<?, ?it/s]"
     ]
    },
    {
     "name": "stdout",
     "output_type": "stream",
     "text": [
      "\n",
      "Epoch: 175\n"
     ]
    },
    {
     "name": "stderr",
     "output_type": "stream",
     "text": [
      "Acc: 77.648%: 100%|██████████| 704/704 [01:11<00:00, 11.86it/s]\n",
      "  0%|          | 0/704 [00:00<?, ?it/s]"
     ]
    },
    {
     "name": "stdout",
     "output_type": "stream",
     "text": [
      "\n",
      "Epoch: 176\n"
     ]
    },
    {
     "name": "stderr",
     "output_type": "stream",
     "text": [
      "Acc: 77.499%: 100%|██████████| 704/704 [01:18<00:00, 10.92it/s]\n",
      "  0%|          | 0/704 [00:00<?, ?it/s]"
     ]
    },
    {
     "name": "stdout",
     "output_type": "stream",
     "text": [
      "\n",
      "Epoch: 177\n"
     ]
    },
    {
     "name": "stderr",
     "output_type": "stream",
     "text": [
      "Acc: 77.566%: 100%|██████████| 704/704 [01:36<00:00, 10.89it/s]\n",
      "  0%|          | 0/704 [00:00<?, ?it/s]"
     ]
    },
    {
     "name": "stdout",
     "output_type": "stream",
     "text": [
      "\n",
      "Epoch: 178\n"
     ]
    },
    {
     "name": "stderr",
     "output_type": "stream",
     "text": [
      "Acc: 77.476%: 100%|██████████| 704/704 [01:14<00:00, 10.75it/s]\n",
      "  0%|          | 0/704 [00:00<?, ?it/s]"
     ]
    },
    {
     "name": "stdout",
     "output_type": "stream",
     "text": [
      "\n",
      "Epoch: 179\n"
     ]
    },
    {
     "name": "stderr",
     "output_type": "stream",
     "text": [
      "Acc: 77.453%: 100%|██████████| 704/704 [01:19<00:00, 10.33it/s]\n",
      "  0%|          | 0/704 [00:00<?, ?it/s]"
     ]
    },
    {
     "name": "stdout",
     "output_type": "stream",
     "text": [
      "\n",
      "Epoch: 180\n"
     ]
    },
    {
     "name": "stderr",
     "output_type": "stream",
     "text": [
      "Acc: 77.478%: 100%|██████████| 704/704 [01:35<00:00,  7.34it/s]\n",
      "Acc: 76.321%: 100%|██████████| 900/900 [01:20<00:00, 13.62it/s]\n",
      "  0%|          | 0/704 [00:00<?, ?it/s]"
     ]
    },
    {
     "name": "stdout",
     "output_type": "stream",
     "text": [
      "\n",
      "Epoch: 181\n"
     ]
    },
    {
     "name": "stderr",
     "output_type": "stream",
     "text": [
      "Acc: 77.521%: 100%|██████████| 704/704 [01:14<00:00, 10.89it/s]\n",
      "  0%|          | 0/704 [00:00<?, ?it/s]"
     ]
    },
    {
     "name": "stdout",
     "output_type": "stream",
     "text": [
      "\n",
      "Epoch: 182\n"
     ]
    },
    {
     "name": "stderr",
     "output_type": "stream",
     "text": [
      "Acc: 77.470%: 100%|██████████| 704/704 [01:13<00:00,  9.61it/s]\n",
      "  0%|          | 0/704 [00:00<?, ?it/s]"
     ]
    },
    {
     "name": "stdout",
     "output_type": "stream",
     "text": [
      "\n",
      "Epoch: 183\n"
     ]
    },
    {
     "name": "stderr",
     "output_type": "stream",
     "text": [
      "Acc: 77.591%: 100%|██████████| 704/704 [01:20<00:00,  9.78it/s]\n",
      "  0%|          | 0/704 [00:00<?, ?it/s]"
     ]
    },
    {
     "name": "stdout",
     "output_type": "stream",
     "text": [
      "\n",
      "Epoch: 184\n"
     ]
    },
    {
     "name": "stderr",
     "output_type": "stream",
     "text": [
      "Acc: 77.561%: 100%|██████████| 704/704 [01:09<00:00, 11.64it/s]\n",
      "  0%|          | 0/704 [00:00<?, ?it/s]"
     ]
    },
    {
     "name": "stdout",
     "output_type": "stream",
     "text": [
      "\n",
      "Epoch: 185\n"
     ]
    },
    {
     "name": "stderr",
     "output_type": "stream",
     "text": [
      "Acc: 77.817%: 100%|██████████| 704/704 [01:22<00:00,  8.53it/s]\n",
      "  0%|          | 0/704 [00:00<?, ?it/s]"
     ]
    },
    {
     "name": "stdout",
     "output_type": "stream",
     "text": [
      "\n",
      "Epoch: 186\n"
     ]
    },
    {
     "name": "stderr",
     "output_type": "stream",
     "text": [
      "Acc: 77.731%: 100%|██████████| 704/704 [01:30<00:00,  7.76it/s]\n",
      "  0%|          | 0/704 [00:00<?, ?it/s]"
     ]
    },
    {
     "name": "stdout",
     "output_type": "stream",
     "text": [
      "\n",
      "Epoch: 187\n"
     ]
    },
    {
     "name": "stderr",
     "output_type": "stream",
     "text": [
      "Acc: 77.724%: 100%|██████████| 704/704 [01:12<00:00,  9.75it/s]\n",
      "  0%|          | 0/704 [00:00<?, ?it/s]"
     ]
    },
    {
     "name": "stdout",
     "output_type": "stream",
     "text": [
      "\n",
      "Epoch: 188\n"
     ]
    },
    {
     "name": "stderr",
     "output_type": "stream",
     "text": [
      "Acc: 77.793%: 100%|██████████| 704/704 [01:21<00:00, 11.51it/s]\n",
      "  0%|          | 0/704 [00:00<?, ?it/s]"
     ]
    },
    {
     "name": "stdout",
     "output_type": "stream",
     "text": [
      "\n",
      "Epoch: 189\n"
     ]
    },
    {
     "name": "stderr",
     "output_type": "stream",
     "text": [
      "Acc: 77.611%: 100%|██████████| 704/704 [01:35<00:00,  7.36it/s]\n",
      "  0%|          | 0/704 [00:00<?, ?it/s]"
     ]
    },
    {
     "name": "stdout",
     "output_type": "stream",
     "text": [
      "\n",
      "Epoch: 190\n"
     ]
    },
    {
     "name": "stderr",
     "output_type": "stream",
     "text": [
      "Acc: 77.874%: 100%|██████████| 704/704 [01:14<00:00, 10.97it/s]\n",
      "Acc: 76.098%: 100%|██████████| 900/900 [01:17<00:00, 12.10it/s]\n",
      "  0%|          | 0/704 [00:00<?, ?it/s]"
     ]
    },
    {
     "name": "stdout",
     "output_type": "stream",
     "text": [
      "\n",
      "Epoch: 191\n"
     ]
    },
    {
     "name": "stderr",
     "output_type": "stream",
     "text": [
      "Acc: 77.811%: 100%|██████████| 704/704 [01:27<00:00,  8.02it/s]\n",
      "  0%|          | 0/704 [00:00<?, ?it/s]"
     ]
    },
    {
     "name": "stdout",
     "output_type": "stream",
     "text": [
      "\n",
      "Epoch: 192\n"
     ]
    },
    {
     "name": "stderr",
     "output_type": "stream",
     "text": [
      "Acc: 77.613%: 100%|██████████| 704/704 [01:03<00:00, 10.98it/s]\n",
      "  0%|          | 0/704 [00:00<?, ?it/s]"
     ]
    },
    {
     "name": "stdout",
     "output_type": "stream",
     "text": [
      "\n",
      "Epoch: 193\n"
     ]
    },
    {
     "name": "stderr",
     "output_type": "stream",
     "text": [
      "Acc: 77.861%: 100%|██████████| 704/704 [01:09<00:00, 10.13it/s]\n",
      "  0%|          | 0/704 [00:00<?, ?it/s]"
     ]
    },
    {
     "name": "stdout",
     "output_type": "stream",
     "text": [
      "\n",
      "Epoch: 194\n"
     ]
    },
    {
     "name": "stderr",
     "output_type": "stream",
     "text": [
      "Acc: 77.793%: 100%|██████████| 704/704 [01:25<00:00,  8.26it/s]\n",
      "  0%|          | 0/704 [00:00<?, ?it/s]"
     ]
    },
    {
     "name": "stdout",
     "output_type": "stream",
     "text": [
      "\n",
      "Epoch: 195\n"
     ]
    },
    {
     "name": "stderr",
     "output_type": "stream",
     "text": [
      "Acc: 77.829%: 100%|██████████| 704/704 [01:40<00:00,  7.02it/s]\n",
      "  0%|          | 0/704 [00:00<?, ?it/s]"
     ]
    },
    {
     "name": "stdout",
     "output_type": "stream",
     "text": [
      "\n",
      "Epoch: 196\n"
     ]
    },
    {
     "name": "stderr",
     "output_type": "stream",
     "text": [
      "Acc: 77.744%: 100%|██████████| 704/704 [01:13<00:00,  9.62it/s]\n",
      "  0%|          | 0/704 [00:00<?, ?it/s]"
     ]
    },
    {
     "name": "stdout",
     "output_type": "stream",
     "text": [
      "\n",
      "Epoch: 197\n"
     ]
    },
    {
     "name": "stderr",
     "output_type": "stream",
     "text": [
      "Acc: 77.711%: 100%|██████████| 704/704 [01:25<00:00,  8.20it/s]\n",
      "  0%|          | 0/704 [00:00<?, ?it/s]"
     ]
    },
    {
     "name": "stdout",
     "output_type": "stream",
     "text": [
      "\n",
      "Epoch: 198\n"
     ]
    },
    {
     "name": "stderr",
     "output_type": "stream",
     "text": [
      "Acc: 77.760%: 100%|██████████| 704/704 [01:25<00:00,  8.22it/s]\n",
      "  0%|          | 0/704 [00:00<?, ?it/s]"
     ]
    },
    {
     "name": "stdout",
     "output_type": "stream",
     "text": [
      "\n",
      "Epoch: 199\n"
     ]
    },
    {
     "name": "stderr",
     "output_type": "stream",
     "text": [
      "Acc: 77.673%: 100%|██████████| 704/704 [01:14<00:00,  9.40it/s]\n",
      "  0%|          | 0/704 [00:00<?, ?it/s]"
     ]
    },
    {
     "name": "stdout",
     "output_type": "stream",
     "text": [
      "\n",
      "Epoch: 200\n"
     ]
    },
    {
     "name": "stderr",
     "output_type": "stream",
     "text": [
      "Acc: 77.766%: 100%|██████████| 704/704 [01:31<00:00,  7.70it/s]\n",
      "Acc: 76.599%: 100%|██████████| 900/900 [01:35<00:00,  9.44it/s]\n",
      "  0%|          | 0/704 [00:00<?, ?it/s]"
     ]
    },
    {
     "name": "stdout",
     "output_type": "stream",
     "text": [
      "Saving..\n",
      "\n",
      "Epoch: 201\n"
     ]
    },
    {
     "name": "stderr",
     "output_type": "stream",
     "text": [
      "Acc: 77.826%: 100%|██████████| 704/704 [01:31<00:00,  7.68it/s]\n",
      "  0%|          | 0/704 [00:00<?, ?it/s]"
     ]
    },
    {
     "name": "stdout",
     "output_type": "stream",
     "text": [
      "\n",
      "Epoch: 202\n"
     ]
    },
    {
     "name": "stderr",
     "output_type": "stream",
     "text": [
      "Acc: 77.723%: 100%|██████████| 704/704 [01:06<00:00, 10.69it/s]\n",
      "  0%|          | 0/704 [00:00<?, ?it/s]"
     ]
    },
    {
     "name": "stdout",
     "output_type": "stream",
     "text": [
      "\n",
      "Epoch: 203\n"
     ]
    },
    {
     "name": "stderr",
     "output_type": "stream",
     "text": [
      "Acc: 77.798%: 100%|██████████| 704/704 [01:06<00:00, 10.62it/s]\n",
      "  0%|          | 0/704 [00:00<?, ?it/s]"
     ]
    },
    {
     "name": "stdout",
     "output_type": "stream",
     "text": [
      "\n",
      "Epoch: 204\n"
     ]
    },
    {
     "name": "stderr",
     "output_type": "stream",
     "text": [
      "Acc: 77.801%: 100%|██████████| 704/704 [01:16<00:00, 10.42it/s]\n",
      "  0%|          | 0/704 [00:00<?, ?it/s]"
     ]
    },
    {
     "name": "stdout",
     "output_type": "stream",
     "text": [
      "\n",
      "Epoch: 205\n"
     ]
    },
    {
     "name": "stderr",
     "output_type": "stream",
     "text": [
      "Acc: 77.828%: 100%|██████████| 704/704 [01:32<00:00, 11.29it/s]\n",
      "  0%|          | 0/704 [00:00<?, ?it/s]"
     ]
    },
    {
     "name": "stdout",
     "output_type": "stream",
     "text": [
      "\n",
      "Epoch: 206\n"
     ]
    },
    {
     "name": "stderr",
     "output_type": "stream",
     "text": [
      "Acc: 77.733%: 100%|██████████| 704/704 [01:17<00:00,  9.13it/s]\n",
      "  0%|          | 0/704 [00:00<?, ?it/s]"
     ]
    },
    {
     "name": "stdout",
     "output_type": "stream",
     "text": [
      "\n",
      "Epoch: 207\n"
     ]
    },
    {
     "name": "stderr",
     "output_type": "stream",
     "text": [
      "Acc: 77.794%: 100%|██████████| 704/704 [01:14<00:00, 10.76it/s]\n",
      "  0%|          | 0/704 [00:00<?, ?it/s]"
     ]
    },
    {
     "name": "stdout",
     "output_type": "stream",
     "text": [
      "\n",
      "Epoch: 208\n"
     ]
    },
    {
     "name": "stderr",
     "output_type": "stream",
     "text": [
      "Acc: 77.820%: 100%|██████████| 704/704 [01:32<00:00, 11.25it/s]\n",
      "  0%|          | 0/704 [00:00<?, ?it/s]"
     ]
    },
    {
     "name": "stdout",
     "output_type": "stream",
     "text": [
      "\n",
      "Epoch: 209\n"
     ]
    },
    {
     "name": "stderr",
     "output_type": "stream",
     "text": [
      "Acc: 77.934%: 100%|██████████| 704/704 [01:22<00:00,  8.56it/s]\n",
      "  0%|          | 0/704 [00:00<?, ?it/s]"
     ]
    },
    {
     "name": "stdout",
     "output_type": "stream",
     "text": [
      "\n",
      "Epoch: 210\n"
     ]
    },
    {
     "name": "stderr",
     "output_type": "stream",
     "text": [
      "Acc: 77.813%: 100%|██████████| 704/704 [01:17<00:00, 10.57it/s]\n",
      "Acc: 76.038%: 100%|██████████| 900/900 [01:18<00:00, 11.45it/s]\n",
      "  0%|          | 0/704 [00:00<?, ?it/s]"
     ]
    },
    {
     "name": "stdout",
     "output_type": "stream",
     "text": [
      "\n",
      "Epoch: 211\n"
     ]
    },
    {
     "name": "stderr",
     "output_type": "stream",
     "text": [
      "Acc: 77.876%: 100%|██████████| 704/704 [01:23<00:00, 11.04it/s]\n",
      "  0%|          | 0/704 [00:00<?, ?it/s]"
     ]
    },
    {
     "name": "stdout",
     "output_type": "stream",
     "text": [
      "\n",
      "Epoch: 212\n"
     ]
    },
    {
     "name": "stderr",
     "output_type": "stream",
     "text": [
      "Acc: 77.836%: 100%|██████████| 704/704 [01:07<00:00, 10.35it/s]\n",
      "  0%|          | 0/704 [00:00<?, ?it/s]"
     ]
    },
    {
     "name": "stdout",
     "output_type": "stream",
     "text": [
      "\n",
      "Epoch: 213\n"
     ]
    },
    {
     "name": "stderr",
     "output_type": "stream",
     "text": [
      "Acc: 77.876%: 100%|██████████| 704/704 [01:22<00:00, 10.24it/s]\n",
      "  0%|          | 0/704 [00:00<?, ?it/s]"
     ]
    },
    {
     "name": "stdout",
     "output_type": "stream",
     "text": [
      "\n",
      "Epoch: 214\n"
     ]
    },
    {
     "name": "stderr",
     "output_type": "stream",
     "text": [
      "Acc: 77.936%: 100%|██████████| 704/704 [01:36<00:00,  7.29it/s]\n",
      "  0%|          | 0/704 [00:00<?, ?it/s]"
     ]
    },
    {
     "name": "stdout",
     "output_type": "stream",
     "text": [
      "\n",
      "Epoch: 215\n"
     ]
    },
    {
     "name": "stderr",
     "output_type": "stream",
     "text": [
      "Acc: 77.840%: 100%|██████████| 704/704 [01:12<00:00,  9.69it/s]\n",
      "  0%|          | 0/704 [00:00<?, ?it/s]"
     ]
    },
    {
     "name": "stdout",
     "output_type": "stream",
     "text": [
      "\n",
      "Epoch: 216\n"
     ]
    },
    {
     "name": "stderr",
     "output_type": "stream",
     "text": [
      "Acc: 77.774%: 100%|██████████| 704/704 [01:26<00:00, 11.23it/s]\n",
      "  0%|          | 0/704 [00:00<?, ?it/s]"
     ]
    },
    {
     "name": "stdout",
     "output_type": "stream",
     "text": [
      "\n",
      "Epoch: 217\n"
     ]
    },
    {
     "name": "stderr",
     "output_type": "stream",
     "text": [
      "Acc: 77.820%: 100%|██████████| 704/704 [01:33<00:00,  7.52it/s]\n",
      "  0%|          | 0/704 [00:00<?, ?it/s]"
     ]
    },
    {
     "name": "stdout",
     "output_type": "stream",
     "text": [
      "\n",
      "Epoch: 218\n"
     ]
    },
    {
     "name": "stderr",
     "output_type": "stream",
     "text": [
      "Acc: 77.980%: 100%|██████████| 704/704 [01:17<00:00,  9.09it/s]\n",
      "  0%|          | 0/704 [00:00<?, ?it/s]"
     ]
    },
    {
     "name": "stdout",
     "output_type": "stream",
     "text": [
      "\n",
      "Epoch: 219\n"
     ]
    },
    {
     "name": "stderr",
     "output_type": "stream",
     "text": [
      "Acc: 77.882%: 100%|██████████| 704/704 [01:27<00:00,  8.03it/s]\n",
      "  0%|          | 0/704 [00:00<?, ?it/s]"
     ]
    },
    {
     "name": "stdout",
     "output_type": "stream",
     "text": [
      "\n",
      "Epoch: 220\n"
     ]
    },
    {
     "name": "stderr",
     "output_type": "stream",
     "text": [
      "Acc: 77.764%: 100%|██████████| 704/704 [01:19<00:00,  8.90it/s]\n",
      "Acc: 76.361%: 100%|██████████| 900/900 [01:25<00:00, 11.04it/s]\n",
      "  0%|          | 0/704 [00:00<?, ?it/s]"
     ]
    },
    {
     "name": "stdout",
     "output_type": "stream",
     "text": [
      "\n",
      "Epoch: 221\n"
     ]
    },
    {
     "name": "stderr",
     "output_type": "stream",
     "text": [
      "Acc: 77.786%: 100%|██████████| 704/704 [01:23<00:00,  8.45it/s]\n",
      "  0%|          | 0/704 [00:00<?, ?it/s]"
     ]
    },
    {
     "name": "stdout",
     "output_type": "stream",
     "text": [
      "\n",
      "Epoch: 222\n"
     ]
    },
    {
     "name": "stderr",
     "output_type": "stream",
     "text": [
      "Acc: 77.861%: 100%|██████████| 704/704 [01:02<00:00,  9.56it/s]\n",
      "  0%|          | 0/704 [00:00<?, ?it/s]"
     ]
    },
    {
     "name": "stdout",
     "output_type": "stream",
     "text": [
      "\n",
      "Epoch: 223\n"
     ]
    },
    {
     "name": "stderr",
     "output_type": "stream",
     "text": [
      "Acc: 77.817%: 100%|██████████| 704/704 [00:57<00:00, 12.20it/s]\n",
      "  0%|          | 0/704 [00:00<?, ?it/s]"
     ]
    },
    {
     "name": "stdout",
     "output_type": "stream",
     "text": [
      "\n",
      "Epoch: 224\n"
     ]
    },
    {
     "name": "stderr",
     "output_type": "stream",
     "text": [
      "Acc: 77.839%: 100%|██████████| 704/704 [00:57<00:00, 12.18it/s]\n",
      "  0%|          | 0/704 [00:00<?, ?it/s]"
     ]
    },
    {
     "name": "stdout",
     "output_type": "stream",
     "text": [
      "\n",
      "Epoch: 225\n"
     ]
    },
    {
     "name": "stderr",
     "output_type": "stream",
     "text": [
      "Acc: 77.641%: 100%|██████████| 704/704 [00:57<00:00, 12.14it/s]\n",
      "  0%|          | 0/704 [00:00<?, ?it/s]"
     ]
    },
    {
     "name": "stdout",
     "output_type": "stream",
     "text": [
      "\n",
      "Epoch: 226\n"
     ]
    },
    {
     "name": "stderr",
     "output_type": "stream",
     "text": [
      "Acc: 77.902%: 100%|██████████| 704/704 [01:05<00:00, 10.78it/s]\n",
      "  0%|          | 0/704 [00:00<?, ?it/s]"
     ]
    },
    {
     "name": "stdout",
     "output_type": "stream",
     "text": [
      "\n",
      "Epoch: 227\n"
     ]
    },
    {
     "name": "stderr",
     "output_type": "stream",
     "text": [
      "Acc: 77.848%: 100%|██████████| 704/704 [01:29<00:00,  7.85it/s]\n",
      "  0%|          | 0/704 [00:00<?, ?it/s]"
     ]
    },
    {
     "name": "stdout",
     "output_type": "stream",
     "text": [
      "\n",
      "Epoch: 228\n"
     ]
    },
    {
     "name": "stderr",
     "output_type": "stream",
     "text": [
      "Acc: 77.926%: 100%|██████████| 704/704 [01:31<00:00, 11.26it/s]\n",
      "  0%|          | 0/704 [00:00<?, ?it/s]"
     ]
    },
    {
     "name": "stdout",
     "output_type": "stream",
     "text": [
      "\n",
      "Epoch: 229\n"
     ]
    },
    {
     "name": "stderr",
     "output_type": "stream",
     "text": [
      "Acc: 78.012%: 100%|██████████| 704/704 [01:26<00:00,  8.13it/s]\n",
      "  0%|          | 0/704 [00:00<?, ?it/s]"
     ]
    },
    {
     "name": "stdout",
     "output_type": "stream",
     "text": [
      "\n",
      "Epoch: 230\n"
     ]
    },
    {
     "name": "stderr",
     "output_type": "stream",
     "text": [
      "Acc: 77.917%: 100%|██████████| 704/704 [01:12<00:00, 10.62it/s]\n",
      "Acc: 76.381%: 100%|██████████| 900/900 [01:25<00:00, 11.19it/s]\n",
      "  0%|          | 0/704 [00:00<?, ?it/s]"
     ]
    },
    {
     "name": "stdout",
     "output_type": "stream",
     "text": [
      "\n",
      "Epoch: 231\n"
     ]
    },
    {
     "name": "stderr",
     "output_type": "stream",
     "text": [
      "Acc: 77.890%: 100%|██████████| 704/704 [01:18<00:00,  8.95it/s]\n",
      "  0%|          | 0/704 [00:00<?, ?it/s]"
     ]
    },
    {
     "name": "stdout",
     "output_type": "stream",
     "text": [
      "\n",
      "Epoch: 232\n"
     ]
    },
    {
     "name": "stderr",
     "output_type": "stream",
     "text": [
      "Acc: 77.828%: 100%|██████████| 704/704 [01:05<00:00, 11.68it/s]\n",
      "  0%|          | 0/704 [00:00<?, ?it/s]"
     ]
    },
    {
     "name": "stdout",
     "output_type": "stream",
     "text": [
      "\n",
      "Epoch: 233\n"
     ]
    },
    {
     "name": "stderr",
     "output_type": "stream",
     "text": [
      "Acc: 77.847%: 100%|██████████| 704/704 [01:14<00:00,  9.48it/s]\n",
      "  0%|          | 0/704 [00:00<?, ?it/s]"
     ]
    },
    {
     "name": "stdout",
     "output_type": "stream",
     "text": [
      "\n",
      "Epoch: 234\n"
     ]
    },
    {
     "name": "stderr",
     "output_type": "stream",
     "text": [
      "Acc: 77.976%: 100%|██████████| 704/704 [01:22<00:00, 10.97it/s]\n",
      "  0%|          | 0/704 [00:00<?, ?it/s]"
     ]
    },
    {
     "name": "stdout",
     "output_type": "stream",
     "text": [
      "\n",
      "Epoch: 235\n"
     ]
    },
    {
     "name": "stderr",
     "output_type": "stream",
     "text": [
      "Acc: 77.909%: 100%|██████████| 704/704 [01:31<00:00,  9.51it/s]\n",
      "  0%|          | 0/704 [00:00<?, ?it/s]"
     ]
    },
    {
     "name": "stdout",
     "output_type": "stream",
     "text": [
      "\n",
      "Epoch: 236\n"
     ]
    },
    {
     "name": "stderr",
     "output_type": "stream",
     "text": [
      "Acc: 77.857%: 100%|██████████| 704/704 [01:15<00:00, 11.23it/s]\n",
      "  0%|          | 0/704 [00:00<?, ?it/s]"
     ]
    },
    {
     "name": "stdout",
     "output_type": "stream",
     "text": [
      "\n",
      "Epoch: 237\n"
     ]
    },
    {
     "name": "stderr",
     "output_type": "stream",
     "text": [
      "Acc: 77.987%: 100%|██████████| 704/704 [01:27<00:00,  8.01it/s]\n",
      "  0%|          | 0/704 [00:00<?, ?it/s]"
     ]
    },
    {
     "name": "stdout",
     "output_type": "stream",
     "text": [
      "\n",
      "Epoch: 238\n"
     ]
    },
    {
     "name": "stderr",
     "output_type": "stream",
     "text": [
      "Acc: 77.933%: 100%|██████████| 704/704 [01:23<00:00,  9.50it/s]\n",
      "  0%|          | 0/704 [00:00<?, ?it/s]"
     ]
    },
    {
     "name": "stdout",
     "output_type": "stream",
     "text": [
      "\n",
      "Epoch: 239\n"
     ]
    },
    {
     "name": "stderr",
     "output_type": "stream",
     "text": [
      "Acc: 77.768%: 100%|██████████| 704/704 [01:16<00:00, 11.45it/s]\n",
      "  0%|          | 0/704 [00:00<?, ?it/s]"
     ]
    },
    {
     "name": "stdout",
     "output_type": "stream",
     "text": [
      "\n",
      "Epoch: 240\n"
     ]
    },
    {
     "name": "stderr",
     "output_type": "stream",
     "text": [
      "Acc: 77.923%: 100%|██████████| 704/704 [01:31<00:00,  7.72it/s]\n",
      "Acc: 76.033%: 100%|██████████| 900/900 [01:16<00:00, 11.78it/s]\n",
      "  0%|          | 0/704 [00:00<?, ?it/s]"
     ]
    },
    {
     "name": "stdout",
     "output_type": "stream",
     "text": [
      "\n",
      "Epoch: 241\n"
     ]
    },
    {
     "name": "stderr",
     "output_type": "stream",
     "text": [
      "Acc: 77.842%: 100%|██████████| 704/704 [01:16<00:00,  9.83it/s]\n",
      "  0%|          | 0/704 [00:00<?, ?it/s]"
     ]
    },
    {
     "name": "stdout",
     "output_type": "stream",
     "text": [
      "\n",
      "Epoch: 242\n"
     ]
    },
    {
     "name": "stderr",
     "output_type": "stream",
     "text": [
      "Acc: 77.961%: 100%|██████████| 704/704 [01:12<00:00, 11.63it/s]\n",
      "  0%|          | 0/704 [00:00<?, ?it/s]"
     ]
    },
    {
     "name": "stdout",
     "output_type": "stream",
     "text": [
      "\n",
      "Epoch: 243\n"
     ]
    },
    {
     "name": "stderr",
     "output_type": "stream",
     "text": [
      "Acc: 77.839%: 100%|██████████| 704/704 [01:34<00:00,  7.46it/s]\n",
      "  0%|          | 0/704 [00:00<?, ?it/s]"
     ]
    },
    {
     "name": "stdout",
     "output_type": "stream",
     "text": [
      "\n",
      "Epoch: 244\n"
     ]
    },
    {
     "name": "stderr",
     "output_type": "stream",
     "text": [
      "Acc: 77.762%: 100%|██████████| 704/704 [01:16<00:00,  9.21it/s]\n",
      "  0%|          | 0/704 [00:00<?, ?it/s]"
     ]
    },
    {
     "name": "stdout",
     "output_type": "stream",
     "text": [
      "\n",
      "Epoch: 245\n"
     ]
    },
    {
     "name": "stderr",
     "output_type": "stream",
     "text": [
      "Acc: 77.994%: 100%|██████████| 704/704 [01:28<00:00,  7.95it/s]\n",
      "  0%|          | 0/704 [00:00<?, ?it/s]"
     ]
    },
    {
     "name": "stdout",
     "output_type": "stream",
     "text": [
      "\n",
      "Epoch: 246\n"
     ]
    },
    {
     "name": "stderr",
     "output_type": "stream",
     "text": [
      "Acc: 77.858%: 100%|██████████| 704/704 [01:27<00:00, 10.42it/s]\n",
      "  0%|          | 0/704 [00:00<?, ?it/s]"
     ]
    },
    {
     "name": "stdout",
     "output_type": "stream",
     "text": [
      "\n",
      "Epoch: 247\n"
     ]
    },
    {
     "name": "stderr",
     "output_type": "stream",
     "text": [
      "Acc: 77.944%: 100%|██████████| 704/704 [01:19<00:00,  8.85it/s]\n",
      "  0%|          | 0/704 [00:00<?, ?it/s]"
     ]
    },
    {
     "name": "stdout",
     "output_type": "stream",
     "text": [
      "\n",
      "Epoch: 248\n"
     ]
    },
    {
     "name": "stderr",
     "output_type": "stream",
     "text": [
      "Acc: 77.991%: 100%|██████████| 704/704 [01:37<00:00,  7.19it/s]\n",
      "  0%|          | 0/704 [00:00<?, ?it/s]"
     ]
    },
    {
     "name": "stdout",
     "output_type": "stream",
     "text": [
      "\n",
      "Epoch: 249\n"
     ]
    },
    {
     "name": "stderr",
     "output_type": "stream",
     "text": [
      "Acc: 77.898%: 100%|██████████| 704/704 [01:15<00:00, 10.64it/s]\n",
      "  0%|          | 0/704 [00:00<?, ?it/s]"
     ]
    },
    {
     "name": "stdout",
     "output_type": "stream",
     "text": [
      "\n",
      "Epoch: 250\n"
     ]
    },
    {
     "name": "stderr",
     "output_type": "stream",
     "text": [
      "Acc: 78.010%: 100%|██████████| 704/704 [01:29<00:00, 11.10it/s]\n",
      "Acc: 76.318%: 100%|██████████| 900/900 [01:27<00:00, 10.31it/s]\n",
      "  0%|          | 0/704 [00:00<?, ?it/s]"
     ]
    },
    {
     "name": "stdout",
     "output_type": "stream",
     "text": [
      "\n",
      "Epoch: 251\n"
     ]
    },
    {
     "name": "stderr",
     "output_type": "stream",
     "text": [
      "Acc: 77.899%: 100%|██████████| 704/704 [01:16<00:00,  9.19it/s]\n",
      "  0%|          | 0/704 [00:00<?, ?it/s]"
     ]
    },
    {
     "name": "stdout",
     "output_type": "stream",
     "text": [
      "\n",
      "Epoch: 252\n"
     ]
    },
    {
     "name": "stderr",
     "output_type": "stream",
     "text": [
      "Acc: 77.840%: 100%|██████████| 704/704 [01:11<00:00, 11.79it/s]\n",
      "  0%|          | 0/704 [00:00<?, ?it/s]"
     ]
    },
    {
     "name": "stdout",
     "output_type": "stream",
     "text": [
      "\n",
      "Epoch: 253\n"
     ]
    },
    {
     "name": "stderr",
     "output_type": "stream",
     "text": [
      "Acc: 77.906%: 100%|██████████| 704/704 [01:33<00:00,  7.24it/s]\n",
      "  0%|          | 0/704 [00:00<?, ?it/s]"
     ]
    },
    {
     "name": "stdout",
     "output_type": "stream",
     "text": [
      "\n",
      "Epoch: 254\n"
     ]
    },
    {
     "name": "stderr",
     "output_type": "stream",
     "text": [
      "Acc: 77.928%: 100%|██████████| 704/704 [01:17<00:00, 12.58it/s]\n",
      "  0%|          | 0/704 [00:00<?, ?it/s]"
     ]
    },
    {
     "name": "stdout",
     "output_type": "stream",
     "text": [
      "\n",
      "Epoch: 255\n"
     ]
    },
    {
     "name": "stderr",
     "output_type": "stream",
     "text": [
      "Acc: 77.879%: 100%|██████████| 704/704 [01:29<00:00, 11.88it/s]\n",
      "  0%|          | 0/704 [00:00<?, ?it/s]"
     ]
    },
    {
     "name": "stdout",
     "output_type": "stream",
     "text": [
      "\n",
      "Epoch: 256\n"
     ]
    },
    {
     "name": "stderr",
     "output_type": "stream",
     "text": [
      "Acc: 77.881%: 100%|██████████| 704/704 [01:16<00:00, 10.31it/s]\n",
      "  0%|          | 0/704 [00:00<?, ?it/s]"
     ]
    },
    {
     "name": "stdout",
     "output_type": "stream",
     "text": [
      "\n",
      "Epoch: 257\n"
     ]
    },
    {
     "name": "stderr",
     "output_type": "stream",
     "text": [
      "Acc: 77.928%: 100%|██████████| 704/704 [01:14<00:00, 11.37it/s]\n",
      "  0%|          | 0/704 [00:00<?, ?it/s]"
     ]
    },
    {
     "name": "stdout",
     "output_type": "stream",
     "text": [
      "\n",
      "Epoch: 258\n"
     ]
    },
    {
     "name": "stderr",
     "output_type": "stream",
     "text": [
      "Acc: 77.897%: 100%|██████████| 704/704 [01:29<00:00,  9.97it/s]\n",
      "  0%|          | 0/704 [00:00<?, ?it/s]"
     ]
    },
    {
     "name": "stdout",
     "output_type": "stream",
     "text": [
      "\n",
      "Epoch: 259\n"
     ]
    },
    {
     "name": "stderr",
     "output_type": "stream",
     "text": [
      "Acc: 77.960%: 100%|██████████| 704/704 [01:26<00:00, 10.82it/s]\n",
      "  0%|          | 0/704 [00:00<?, ?it/s]"
     ]
    },
    {
     "name": "stdout",
     "output_type": "stream",
     "text": [
      "\n",
      "Epoch: 260\n"
     ]
    },
    {
     "name": "stderr",
     "output_type": "stream",
     "text": [
      "Acc: 77.876%: 100%|██████████| 704/704 [01:17<00:00,  9.08it/s]\n",
      "Acc: 75.951%: 100%|██████████| 900/900 [01:16<00:00, 11.70it/s]\n",
      "  0%|          | 0/704 [00:00<?, ?it/s]"
     ]
    },
    {
     "name": "stdout",
     "output_type": "stream",
     "text": [
      "\n",
      "Epoch: 261\n"
     ]
    },
    {
     "name": "stderr",
     "output_type": "stream",
     "text": [
      "Acc: 77.969%: 100%|██████████| 704/704 [01:23<00:00, 11.33it/s]\n",
      "  0%|          | 0/704 [00:00<?, ?it/s]"
     ]
    },
    {
     "name": "stdout",
     "output_type": "stream",
     "text": [
      "\n",
      "Epoch: 262\n"
     ]
    },
    {
     "name": "stderr",
     "output_type": "stream",
     "text": [
      "Acc: 77.890%: 100%|██████████| 704/704 [01:07<00:00, 10.50it/s]\n",
      "  0%|          | 0/704 [00:00<?, ?it/s]"
     ]
    },
    {
     "name": "stdout",
     "output_type": "stream",
     "text": [
      "\n",
      "Epoch: 263\n"
     ]
    },
    {
     "name": "stderr",
     "output_type": "stream",
     "text": [
      "Acc: 77.802%: 100%|██████████| 704/704 [01:19<00:00,  8.88it/s]\n",
      "  0%|          | 0/704 [00:00<?, ?it/s]"
     ]
    },
    {
     "name": "stdout",
     "output_type": "stream",
     "text": [
      "\n",
      "Epoch: 264\n"
     ]
    },
    {
     "name": "stderr",
     "output_type": "stream",
     "text": [
      "Acc: 77.901%: 100%|██████████| 704/704 [01:35<00:00, 10.98it/s]\n",
      "  0%|          | 0/704 [00:00<?, ?it/s]"
     ]
    },
    {
     "name": "stdout",
     "output_type": "stream",
     "text": [
      "\n",
      "Epoch: 265\n"
     ]
    },
    {
     "name": "stderr",
     "output_type": "stream",
     "text": [
      "Acc: 77.968%: 100%|██████████| 704/704 [01:14<00:00, 10.77it/s]\n",
      "  0%|          | 0/704 [00:00<?, ?it/s]"
     ]
    },
    {
     "name": "stdout",
     "output_type": "stream",
     "text": [
      "\n",
      "Epoch: 266\n"
     ]
    },
    {
     "name": "stderr",
     "output_type": "stream",
     "text": [
      "Acc: 78.032%: 100%|██████████| 704/704 [01:23<00:00,  8.45it/s]\n",
      "  0%|          | 0/704 [00:00<?, ?it/s]"
     ]
    },
    {
     "name": "stdout",
     "output_type": "stream",
     "text": [
      "\n",
      "Epoch: 267\n"
     ]
    },
    {
     "name": "stderr",
     "output_type": "stream",
     "text": [
      "Acc: 78.008%: 100%|██████████| 704/704 [01:36<00:00,  7.27it/s]\n",
      "  0%|          | 0/704 [00:00<?, ?it/s]"
     ]
    },
    {
     "name": "stdout",
     "output_type": "stream",
     "text": [
      "\n",
      "Epoch: 268\n"
     ]
    },
    {
     "name": "stderr",
     "output_type": "stream",
     "text": [
      "Acc: 77.968%: 100%|██████████| 704/704 [01:16<00:00, 10.59it/s]\n",
      "  0%|          | 0/704 [00:00<?, ?it/s]"
     ]
    },
    {
     "name": "stdout",
     "output_type": "stream",
     "text": [
      "\n",
      "Epoch: 269\n"
     ]
    },
    {
     "name": "stderr",
     "output_type": "stream",
     "text": [
      "Acc: 78.042%: 100%|██████████| 704/704 [01:28<00:00,  7.96it/s]\n",
      "  0%|          | 0/704 [00:00<?, ?it/s]"
     ]
    },
    {
     "name": "stdout",
     "output_type": "stream",
     "text": [
      "\n",
      "Epoch: 270\n"
     ]
    },
    {
     "name": "stderr",
     "output_type": "stream",
     "text": [
      "Acc: 77.858%: 100%|██████████| 704/704 [01:24<00:00, 11.52it/s]\n",
      "Acc: 75.869%: 100%|██████████| 900/900 [01:15<00:00, 12.50it/s]\n",
      "  0%|          | 0/704 [00:00<?, ?it/s]"
     ]
    },
    {
     "name": "stdout",
     "output_type": "stream",
     "text": [
      "\n",
      "Epoch: 271\n"
     ]
    },
    {
     "name": "stderr",
     "output_type": "stream",
     "text": [
      "Acc: 78.053%: 100%|██████████| 704/704 [01:27<00:00,  8.04it/s]\n",
      "  0%|          | 0/704 [00:00<?, ?it/s]"
     ]
    },
    {
     "name": "stdout",
     "output_type": "stream",
     "text": [
      "\n",
      "Epoch: 272\n"
     ]
    },
    {
     "name": "stderr",
     "output_type": "stream",
     "text": [
      "Acc: 77.990%: 100%|██████████| 704/704 [01:10<00:00,  9.92it/s]\n",
      "  0%|          | 0/704 [00:00<?, ?it/s]"
     ]
    },
    {
     "name": "stdout",
     "output_type": "stream",
     "text": [
      "\n",
      "Epoch: 273\n"
     ]
    },
    {
     "name": "stderr",
     "output_type": "stream",
     "text": [
      "Acc: 78.051%: 100%|██████████| 704/704 [01:03<00:00, 10.31it/s]\n",
      "  0%|          | 0/704 [00:00<?, ?it/s]"
     ]
    },
    {
     "name": "stdout",
     "output_type": "stream",
     "text": [
      "\n",
      "Epoch: 274\n"
     ]
    },
    {
     "name": "stderr",
     "output_type": "stream",
     "text": [
      "Acc: 77.842%: 100%|██████████| 704/704 [01:07<00:00, 10.41it/s]\n",
      "  0%|          | 0/704 [00:00<?, ?it/s]"
     ]
    },
    {
     "name": "stdout",
     "output_type": "stream",
     "text": [
      "\n",
      "Epoch: 275\n"
     ]
    },
    {
     "name": "stderr",
     "output_type": "stream",
     "text": [
      "Acc: 77.880%: 100%|██████████| 704/704 [01:19<00:00,  8.86it/s]\n",
      "  0%|          | 0/704 [00:00<?, ?it/s]"
     ]
    },
    {
     "name": "stdout",
     "output_type": "stream",
     "text": [
      "\n",
      "Epoch: 276\n"
     ]
    },
    {
     "name": "stderr",
     "output_type": "stream",
     "text": [
      "Acc: 77.852%: 100%|██████████| 704/704 [01:24<00:00,  8.29it/s]\n",
      "  0%|          | 0/704 [00:00<?, ?it/s]"
     ]
    },
    {
     "name": "stdout",
     "output_type": "stream",
     "text": [
      "\n",
      "Epoch: 277\n"
     ]
    },
    {
     "name": "stderr",
     "output_type": "stream",
     "text": [
      "Acc: 78.006%: 100%|██████████| 704/704 [01:15<00:00,  9.27it/s]\n",
      "  0%|          | 0/704 [00:00<?, ?it/s]"
     ]
    },
    {
     "name": "stdout",
     "output_type": "stream",
     "text": [
      "\n",
      "Epoch: 278\n"
     ]
    },
    {
     "name": "stderr",
     "output_type": "stream",
     "text": [
      "Acc: 77.872%: 100%|██████████| 704/704 [01:07<00:00, 10.46it/s]\n",
      "  0%|          | 0/704 [00:00<?, ?it/s]"
     ]
    },
    {
     "name": "stdout",
     "output_type": "stream",
     "text": [
      "\n",
      "Epoch: 279\n"
     ]
    },
    {
     "name": "stderr",
     "output_type": "stream",
     "text": [
      "Acc: 77.827%: 100%|██████████| 704/704 [01:19<00:00,  8.89it/s]\n",
      "  0%|          | 0/704 [00:00<?, ?it/s]"
     ]
    },
    {
     "name": "stdout",
     "output_type": "stream",
     "text": [
      "\n",
      "Epoch: 280\n"
     ]
    },
    {
     "name": "stderr",
     "output_type": "stream",
     "text": [
      "Acc: 77.858%: 100%|██████████| 704/704 [01:37<00:00,  7.24it/s]\n",
      "Acc: 76.373%: 100%|██████████| 900/900 [01:14<00:00, 11.57it/s]\n",
      "  0%|          | 0/704 [00:00<?, ?it/s]"
     ]
    },
    {
     "name": "stdout",
     "output_type": "stream",
     "text": [
      "\n",
      "Epoch: 281\n"
     ]
    },
    {
     "name": "stderr",
     "output_type": "stream",
     "text": [
      "Acc: 77.917%: 100%|██████████| 704/704 [01:27<00:00,  8.07it/s]\n",
      "  0%|          | 0/704 [00:00<?, ?it/s]"
     ]
    },
    {
     "name": "stdout",
     "output_type": "stream",
     "text": [
      "\n",
      "Epoch: 282\n"
     ]
    },
    {
     "name": "stderr",
     "output_type": "stream",
     "text": [
      "Acc: 77.988%: 100%|██████████| 704/704 [01:14<00:00,  9.47it/s]\n",
      "  0%|          | 0/704 [00:00<?, ?it/s]"
     ]
    },
    {
     "name": "stdout",
     "output_type": "stream",
     "text": [
      "\n",
      "Epoch: 283\n"
     ]
    },
    {
     "name": "stderr",
     "output_type": "stream",
     "text": [
      "Acc: 77.872%: 100%|██████████| 704/704 [01:21<00:00, 10.78it/s]\n",
      "  0%|          | 0/704 [00:00<?, ?it/s]"
     ]
    },
    {
     "name": "stdout",
     "output_type": "stream",
     "text": [
      "\n",
      "Epoch: 284\n"
     ]
    },
    {
     "name": "stderr",
     "output_type": "stream",
     "text": [
      "Acc: 77.878%: 100%|██████████| 704/704 [01:22<00:00, 10.39it/s]\n",
      "  0%|          | 0/704 [00:00<?, ?it/s]"
     ]
    },
    {
     "name": "stdout",
     "output_type": "stream",
     "text": [
      "\n",
      "Epoch: 285\n"
     ]
    },
    {
     "name": "stderr",
     "output_type": "stream",
     "text": [
      "Acc: 78.103%: 100%|██████████| 704/704 [01:36<00:00, 10.89it/s]\n",
      "  0%|          | 0/704 [00:00<?, ?it/s]"
     ]
    },
    {
     "name": "stdout",
     "output_type": "stream",
     "text": [
      "\n",
      "Epoch: 286\n"
     ]
    },
    {
     "name": "stderr",
     "output_type": "stream",
     "text": [
      "Acc: 78.007%: 100%|██████████| 704/704 [01:15<00:00,  9.35it/s]\n",
      "  0%|          | 0/704 [00:00<?, ?it/s]"
     ]
    },
    {
     "name": "stdout",
     "output_type": "stream",
     "text": [
      "\n",
      "Epoch: 287\n"
     ]
    },
    {
     "name": "stderr",
     "output_type": "stream",
     "text": [
      "Acc: 77.839%: 100%|██████████| 704/704 [01:27<00:00,  8.09it/s]\n",
      "  0%|          | 0/704 [00:00<?, ?it/s]"
     ]
    },
    {
     "name": "stdout",
     "output_type": "stream",
     "text": [
      "\n",
      "Epoch: 288\n"
     ]
    },
    {
     "name": "stderr",
     "output_type": "stream",
     "text": [
      "Acc: 78.163%: 100%|██████████| 704/704 [01:30<00:00,  7.81it/s]\n",
      "  0%|          | 0/704 [00:00<?, ?it/s]"
     ]
    },
    {
     "name": "stdout",
     "output_type": "stream",
     "text": [
      "\n",
      "Epoch: 289\n"
     ]
    },
    {
     "name": "stderr",
     "output_type": "stream",
     "text": [
      "Acc: 77.952%: 100%|██████████| 704/704 [01:17<00:00, 10.60it/s]\n",
      "  0%|          | 0/704 [00:00<?, ?it/s]"
     ]
    },
    {
     "name": "stdout",
     "output_type": "stream",
     "text": [
      "\n",
      "Epoch: 290\n"
     ]
    },
    {
     "name": "stderr",
     "output_type": "stream",
     "text": [
      "Acc: 77.854%: 100%|██████████| 704/704 [01:37<00:00, 11.27it/s]\n",
      "Acc: 76.318%: 100%|██████████| 900/900 [01:21<00:00, 12.09it/s]\n",
      "  0%|          | 0/704 [00:00<?, ?it/s]"
     ]
    },
    {
     "name": "stdout",
     "output_type": "stream",
     "text": [
      "\n",
      "Epoch: 291\n"
     ]
    },
    {
     "name": "stderr",
     "output_type": "stream",
     "text": [
      "Acc: 78.013%: 100%|██████████| 704/704 [01:19<00:00, 10.70it/s]\n",
      "  0%|          | 0/704 [00:00<?, ?it/s]"
     ]
    },
    {
     "name": "stdout",
     "output_type": "stream",
     "text": [
      "\n",
      "Epoch: 292\n"
     ]
    },
    {
     "name": "stderr",
     "output_type": "stream",
     "text": [
      "Acc: 78.049%: 100%|██████████| 704/704 [01:10<00:00, 11.02it/s]\n",
      "  0%|          | 0/704 [00:00<?, ?it/s]"
     ]
    },
    {
     "name": "stdout",
     "output_type": "stream",
     "text": [
      "\n",
      "Epoch: 293\n"
     ]
    },
    {
     "name": "stderr",
     "output_type": "stream",
     "text": [
      "Acc: 77.962%: 100%|██████████| 704/704 [01:13<00:00,  9.53it/s]\n",
      "  0%|          | 0/704 [00:00<?, ?it/s]"
     ]
    },
    {
     "name": "stdout",
     "output_type": "stream",
     "text": [
      "\n",
      "Epoch: 294\n"
     ]
    },
    {
     "name": "stderr",
     "output_type": "stream",
     "text": [
      "Acc: 78.032%: 100%|██████████| 704/704 [01:07<00:00, 10.40it/s]\n",
      "  0%|          | 0/704 [00:00<?, ?it/s]"
     ]
    },
    {
     "name": "stdout",
     "output_type": "stream",
     "text": [
      "\n",
      "Epoch: 295\n"
     ]
    },
    {
     "name": "stderr",
     "output_type": "stream",
     "text": [
      "Acc: 77.993%: 100%|██████████| 704/704 [01:20<00:00,  8.76it/s]\n",
      "  0%|          | 0/704 [00:00<?, ?it/s]"
     ]
    },
    {
     "name": "stdout",
     "output_type": "stream",
     "text": [
      "\n",
      "Epoch: 296\n"
     ]
    },
    {
     "name": "stderr",
     "output_type": "stream",
     "text": [
      "Acc: 78.067%: 100%|██████████| 704/704 [01:35<00:00,  7.39it/s]\n",
      "  0%|          | 0/704 [00:00<?, ?it/s]"
     ]
    },
    {
     "name": "stdout",
     "output_type": "stream",
     "text": [
      "\n",
      "Epoch: 297\n"
     ]
    },
    {
     "name": "stderr",
     "output_type": "stream",
     "text": [
      "Acc: 77.820%: 100%|██████████| 704/704 [01:09<00:00, 10.07it/s]\n",
      "  0%|          | 0/704 [00:00<?, ?it/s]"
     ]
    },
    {
     "name": "stdout",
     "output_type": "stream",
     "text": [
      "\n",
      "Epoch: 298\n"
     ]
    },
    {
     "name": "stderr",
     "output_type": "stream",
     "text": [
      "Acc: 77.997%: 100%|██████████| 704/704 [01:17<00:00,  9.14it/s]\n",
      "  0%|          | 0/704 [00:00<?, ?it/s]"
     ]
    },
    {
     "name": "stdout",
     "output_type": "stream",
     "text": [
      "\n",
      "Epoch: 299\n"
     ]
    },
    {
     "name": "stderr",
     "output_type": "stream",
     "text": [
      "Acc: 77.926%: 100%|██████████| 704/704 [01:28<00:00, 11.70it/s]\n",
      "  0%|          | 0/704 [00:00<?, ?it/s]"
     ]
    },
    {
     "name": "stdout",
     "output_type": "stream",
     "text": [
      "\n",
      "Epoch: 300\n"
     ]
    },
    {
     "name": "stderr",
     "output_type": "stream",
     "text": [
      "Acc: 79.153%: 100%|██████████| 704/704 [01:19<00:00, 11.30it/s]\n",
      "Acc: 77.298%: 100%|██████████| 900/900 [01:14<00:00, 12.16it/s]\n",
      "  0%|          | 0/704 [00:00<?, ?it/s]"
     ]
    },
    {
     "name": "stdout",
     "output_type": "stream",
     "text": [
      "Saving..\n",
      "\n",
      "Epoch: 301\n"
     ]
    },
    {
     "name": "stderr",
     "output_type": "stream",
     "text": [
      "Acc: 79.426%: 100%|██████████| 704/704 [01:30<00:00,  7.79it/s]\n",
      "  0%|          | 0/704 [00:00<?, ?it/s]"
     ]
    },
    {
     "name": "stdout",
     "output_type": "stream",
     "text": [
      "\n",
      "Epoch: 302\n"
     ]
    },
    {
     "name": "stderr",
     "output_type": "stream",
     "text": [
      "Acc: 79.356%: 100%|██████████| 704/704 [01:14<00:00, 10.19it/s]\n",
      "  0%|          | 0/704 [00:00<?, ?it/s]"
     ]
    },
    {
     "name": "stdout",
     "output_type": "stream",
     "text": [
      "\n",
      "Epoch: 303\n"
     ]
    },
    {
     "name": "stderr",
     "output_type": "stream",
     "text": [
      "Acc: 79.557%: 100%|██████████| 704/704 [01:06<00:00, 10.66it/s]\n",
      "  0%|          | 0/704 [00:00<?, ?it/s]"
     ]
    },
    {
     "name": "stdout",
     "output_type": "stream",
     "text": [
      "\n",
      "Epoch: 304\n"
     ]
    },
    {
     "name": "stderr",
     "output_type": "stream",
     "text": [
      "Acc: 79.599%: 100%|██████████| 704/704 [01:13<00:00, 10.76it/s]\n",
      "  0%|          | 0/704 [00:00<?, ?it/s]"
     ]
    },
    {
     "name": "stdout",
     "output_type": "stream",
     "text": [
      "\n",
      "Epoch: 305\n"
     ]
    },
    {
     "name": "stderr",
     "output_type": "stream",
     "text": [
      "Acc: 79.604%: 100%|██████████| 704/704 [01:30<00:00,  7.81it/s]\n",
      "  0%|          | 0/704 [00:00<?, ?it/s]"
     ]
    },
    {
     "name": "stdout",
     "output_type": "stream",
     "text": [
      "\n",
      "Epoch: 306\n"
     ]
    },
    {
     "name": "stderr",
     "output_type": "stream",
     "text": [
      "Acc: 79.644%: 100%|██████████| 704/704 [01:24<00:00,  8.34it/s]\n",
      "  0%|          | 0/704 [00:00<?, ?it/s]"
     ]
    },
    {
     "name": "stdout",
     "output_type": "stream",
     "text": [
      "\n",
      "Epoch: 307\n"
     ]
    },
    {
     "name": "stderr",
     "output_type": "stream",
     "text": [
      "Acc: 79.547%: 100%|██████████| 704/704 [01:12<00:00,  9.65it/s]\n",
      "  0%|          | 0/704 [00:00<?, ?it/s]"
     ]
    },
    {
     "name": "stdout",
     "output_type": "stream",
     "text": [
      "\n",
      "Epoch: 308\n"
     ]
    },
    {
     "name": "stderr",
     "output_type": "stream",
     "text": [
      "Acc: 79.718%:  55%|█████▌    | 389/704 [00:32<00:25, 12.34it/s]IOPub message rate exceeded.\n",
      "The notebook server will temporarily stop sending output\n",
      "to the client in order to avoid crashing it.\n",
      "To change this limit, set the config variable\n",
      "`--NotebookApp.iopub_msg_rate_limit`.\n",
      "\n",
      "Current values:\n",
      "NotebookApp.iopub_msg_rate_limit=1000.0 (msgs/sec)\n",
      "NotebookApp.rate_limit_window=3.0 (secs)\n",
      "\n",
      "Acc: 79.813%: 100%|██████████| 704/704 [01:18<00:00,  9.02it/s]\n",
      "Acc: 77.452%: 100%|██████████| 900/900 [01:19<00:00, 11.30it/s]\n",
      "  0%|          | 0/704 [00:00<?, ?it/s]"
     ]
    },
    {
     "name": "stdout",
     "output_type": "stream",
     "text": [
      "Saving..\n",
      "\n",
      "Epoch: 311\n"
     ]
    },
    {
     "name": "stderr",
     "output_type": "stream",
     "text": [
      "Acc: 79.654%: 100%|██████████| 704/704 [01:23<00:00, 11.13it/s]\n",
      "  0%|          | 0/704 [00:00<?, ?it/s]"
     ]
    },
    {
     "name": "stdout",
     "output_type": "stream",
     "text": [
      "\n",
      "Epoch: 312\n"
     ]
    },
    {
     "name": "stderr",
     "output_type": "stream",
     "text": [
      "Acc: 79.102%:   3%|▎         | 19/704 [00:02<01:06, 10.26it/s]IOPub message rate exceeded.\n",
      "The notebook server will temporarily stop sending output\n",
      "to the client in order to avoid crashing it.\n",
      "To change this limit, set the config variable\n",
      "`--NotebookApp.iopub_msg_rate_limit`.\n",
      "\n",
      "Current values:\n",
      "NotebookApp.iopub_msg_rate_limit=1000.0 (msgs/sec)\n",
      "NotebookApp.rate_limit_window=3.0 (secs)\n",
      "\n",
      "Acc: 79.734%: 100%|██████████| 704/704 [01:28<00:00, 11.11it/s]\n",
      "  0%|          | 0/704 [00:00<?, ?it/s]"
     ]
    },
    {
     "name": "stdout",
     "output_type": "stream",
     "text": [
      "\n",
      "Epoch: 314\n"
     ]
    },
    {
     "name": "stderr",
     "output_type": "stream",
     "text": [
      "Acc: 79.786%: 100%|██████████| 704/704 [01:29<00:00,  7.82it/s]\n",
      "  0%|          | 0/704 [00:00<?, ?it/s]"
     ]
    },
    {
     "name": "stdout",
     "output_type": "stream",
     "text": [
      "\n",
      "Epoch: 315\n"
     ]
    },
    {
     "name": "stderr",
     "output_type": "stream",
     "text": [
      "Acc: 79.638%: 100%|██████████| 704/704 [01:11<00:00,  9.81it/s]\n",
      "  0%|          | 0/704 [00:00<?, ?it/s]"
     ]
    },
    {
     "name": "stdout",
     "output_type": "stream",
     "text": [
      "\n",
      "Epoch: 316\n"
     ]
    },
    {
     "name": "stderr",
     "output_type": "stream",
     "text": [
      "Acc: 79.619%:  76%|███████▌  | 532/704 [01:10<00:17,  9.82it/s]IOPub message rate exceeded.\n",
      "The notebook server will temporarily stop sending output\n",
      "to the client in order to avoid crashing it.\n",
      "To change this limit, set the config variable\n",
      "`--NotebookApp.iopub_msg_rate_limit`.\n",
      "\n",
      "Current values:\n",
      "NotebookApp.iopub_msg_rate_limit=1000.0 (msgs/sec)\n",
      "NotebookApp.rate_limit_window=3.0 (secs)\n",
      "\n",
      "Acc: 79.624%: 100%|██████████| 704/704 [01:19<00:00, 10.94it/s]\n",
      "  0%|          | 0/704 [00:00<?, ?it/s]"
     ]
    },
    {
     "name": "stdout",
     "output_type": "stream",
     "text": [
      "\n",
      "Epoch: 319\n"
     ]
    },
    {
     "name": "stderr",
     "output_type": "stream",
     "text": [
      "Acc: 79.762%: 100%|██████████| 704/704 [01:33<00:00,  7.52it/s]\n",
      "  0%|          | 0/704 [00:00<?, ?it/s]"
     ]
    },
    {
     "name": "stdout",
     "output_type": "stream",
     "text": [
      "\n",
      "Epoch: 320\n"
     ]
    },
    {
     "name": "stderr",
     "output_type": "stream",
     "text": [
      "Acc: 79.785%:  97%|█████████▋| 685/704 [01:12<00:02,  9.25it/s]IOPub message rate exceeded.\n",
      "The notebook server will temporarily stop sending output\n",
      "to the client in order to avoid crashing it.\n",
      "To change this limit, set the config variable\n",
      "`--NotebookApp.iopub_msg_rate_limit`.\n",
      "\n",
      "Current values:\n",
      "NotebookApp.iopub_msg_rate_limit=1000.0 (msgs/sec)\n",
      "NotebookApp.rate_limit_window=3.0 (secs)\n",
      "\n",
      "Acc: 79.761%: 100%|██████████| 704/704 [01:33<00:00, 11.01it/s]\n",
      "  0%|          | 0/704 [00:00<?, ?it/s]"
     ]
    },
    {
     "name": "stdout",
     "output_type": "stream",
     "text": [
      "\n",
      "Epoch: 322\n"
     ]
    },
    {
     "name": "stderr",
     "output_type": "stream",
     "text": [
      "Acc: 79.782%: 100%|██████████| 704/704 [01:11<00:00,  9.89it/s]\n",
      "  0%|          | 0/704 [00:00<?, ?it/s]"
     ]
    },
    {
     "name": "stdout",
     "output_type": "stream",
     "text": [
      "\n",
      "Epoch: 323\n"
     ]
    },
    {
     "name": "stderr",
     "output_type": "stream",
     "text": [
      "Acc: 79.912%: 100%|██████████| 704/704 [01:22<00:00, 10.62it/s]\n",
      "  0%|          | 0/704 [00:00<?, ?it/s]"
     ]
    },
    {
     "name": "stdout",
     "output_type": "stream",
     "text": [
      "\n",
      "Epoch: 324\n"
     ]
    },
    {
     "name": "stderr",
     "output_type": "stream",
     "text": [
      "Acc: 79.836%:  28%|██▊       | 194/704 [00:16<00:41, 12.35it/s]IOPub message rate exceeded.\n",
      "The notebook server will temporarily stop sending output\n",
      "to the client in order to avoid crashing it.\n",
      "To change this limit, set the config variable\n",
      "`--NotebookApp.iopub_msg_rate_limit`.\n",
      "\n",
      "Current values:\n",
      "NotebookApp.iopub_msg_rate_limit=1000.0 (msgs/sec)\n",
      "NotebookApp.rate_limit_window=3.0 (secs)\n",
      "\n",
      "Acc: 79.901%: 100%|██████████| 704/704 [01:14<00:00,  9.45it/s]\n",
      "  0%|          | 0/704 [00:00<?, ?it/s]"
     ]
    },
    {
     "name": "stdout",
     "output_type": "stream",
     "text": [
      "\n",
      "Epoch: 326\n"
     ]
    },
    {
     "name": "stderr",
     "output_type": "stream",
     "text": [
      "Acc: 79.817%: 100%|██████████| 704/704 [01:25<00:00,  8.20it/s]\n",
      "  0%|          | 0/704 [00:00<?, ?it/s]"
     ]
    },
    {
     "name": "stdout",
     "output_type": "stream",
     "text": [
      "\n",
      "Epoch: 327\n"
     ]
    },
    {
     "name": "stderr",
     "output_type": "stream",
     "text": [
      "Acc: 79.913%: 100%|██████████| 704/704 [01:31<00:00, 11.00it/s]\n",
      "  0%|          | 0/704 [00:00<?, ?it/s]"
     ]
    },
    {
     "name": "stdout",
     "output_type": "stream",
     "text": [
      "\n",
      "Epoch: 328\n"
     ]
    },
    {
     "name": "stderr",
     "output_type": "stream",
     "text": [
      "Acc: 79.891%:  58%|█████▊    | 405/704 [00:34<00:24, 12.00it/s]IOPub message rate exceeded.\n",
      "The notebook server will temporarily stop sending output\n",
      "to the client in order to avoid crashing it.\n",
      "To change this limit, set the config variable\n",
      "`--NotebookApp.iopub_msg_rate_limit`.\n",
      "\n",
      "Current values:\n",
      "NotebookApp.iopub_msg_rate_limit=1000.0 (msgs/sec)\n",
      "NotebookApp.rate_limit_window=3.0 (secs)\n",
      "\n",
      "Acc: 77.558%: 100%|██████████| 900/900 [01:18<00:00, 11.18it/s]\n",
      "  0%|          | 0/704 [00:00<?, ?it/s]"
     ]
    },
    {
     "name": "stdout",
     "output_type": "stream",
     "text": [
      "Saving..\n",
      "\n",
      "Epoch: 331\n"
     ]
    },
    {
     "name": "stderr",
     "output_type": "stream",
     "text": [
      "Acc: 79.872%: 100%|██████████| 704/704 [01:30<00:00,  7.77it/s]\n",
      "  0%|          | 0/704 [00:00<?, ?it/s]"
     ]
    },
    {
     "name": "stdout",
     "output_type": "stream",
     "text": [
      "\n",
      "Epoch: 332\n"
     ]
    },
    {
     "name": "stderr",
     "output_type": "stream",
     "text": [
      "Acc: 79.911%:  69%|██████▉   | 489/704 [00:43<00:18, 11.36it/s]IOPub message rate exceeded.\n",
      "The notebook server will temporarily stop sending output\n",
      "to the client in order to avoid crashing it.\n",
      "To change this limit, set the config variable\n",
      "`--NotebookApp.iopub_msg_rate_limit`.\n",
      "\n",
      "Current values:\n",
      "NotebookApp.iopub_msg_rate_limit=1000.0 (msgs/sec)\n",
      "NotebookApp.rate_limit_window=3.0 (secs)\n",
      "\n",
      "Acc: 79.828%: 100%|██████████| 704/704 [01:32<00:00, 11.24it/s]\n",
      "  0%|          | 0/704 [00:00<?, ?it/s]"
     ]
    },
    {
     "name": "stdout",
     "output_type": "stream",
     "text": [
      "\n",
      "Epoch: 336\n"
     ]
    },
    {
     "name": "stderr",
     "output_type": "stream",
     "text": [
      "Acc: 79.854%: 100%|██████████| 704/704 [01:11<00:00, 11.16it/s]\n",
      "  0%|          | 0/704 [00:00<?, ?it/s]"
     ]
    },
    {
     "name": "stdout",
     "output_type": "stream",
     "text": [
      "\n",
      "Epoch: 337\n"
     ]
    },
    {
     "name": "stderr",
     "output_type": "stream",
     "text": [
      "Acc: 79.810%: 100%|██████████| 704/704 [01:24<00:00, 10.28it/s]\n",
      "  0%|          | 0/704 [00:00<?, ?it/s]"
     ]
    },
    {
     "name": "stdout",
     "output_type": "stream",
     "text": [
      "\n",
      "Epoch: 338\n"
     ]
    },
    {
     "name": "stderr",
     "output_type": "stream",
     "text": [
      "Acc: 79.887%:  47%|████▋     | 328/704 [00:48<00:38,  9.87it/s]IOPub message rate exceeded.\n",
      "The notebook server will temporarily stop sending output\n",
      "to the client in order to avoid crashing it.\n",
      "To change this limit, set the config variable\n",
      "`--NotebookApp.iopub_msg_rate_limit`.\n",
      "\n",
      "Current values:\n",
      "NotebookApp.iopub_msg_rate_limit=1000.0 (msgs/sec)\n",
      "NotebookApp.rate_limit_window=3.0 (secs)\n",
      "\n",
      "Acc: 79.886%: 100%|██████████| 704/704 [01:37<00:00,  7.20it/s]\n",
      "Acc: 77.542%: 100%|██████████| 900/900 [01:15<00:00, 11.96it/s]\n",
      "  0%|          | 0/704 [00:00<?, ?it/s]"
     ]
    },
    {
     "name": "stdout",
     "output_type": "stream",
     "text": [
      "\n",
      "Epoch: 341\n"
     ]
    },
    {
     "name": "stderr",
     "output_type": "stream",
     "text": [
      "Acc: 79.988%: 100%|██████████| 704/704 [01:21<00:00, 10.14it/s]\n",
      "  0%|          | 0/704 [00:00<?, ?it/s]"
     ]
    },
    {
     "name": "stdout",
     "output_type": "stream",
     "text": [
      "\n",
      "Epoch: 342\n"
     ]
    },
    {
     "name": "stderr",
     "output_type": "stream",
     "text": [
      "Acc: 79.510%:  39%|███▉      | 277/704 [00:34<00:42, 10.08it/s]IOPub message rate exceeded.\n",
      "The notebook server will temporarily stop sending output\n",
      "to the client in order to avoid crashing it.\n",
      "To change this limit, set the config variable\n",
      "`--NotebookApp.iopub_msg_rate_limit`.\n",
      "\n",
      "Current values:\n",
      "NotebookApp.iopub_msg_rate_limit=1000.0 (msgs/sec)\n",
      "NotebookApp.rate_limit_window=3.0 (secs)\n",
      "\n",
      "Acc: 79.924%: 100%|██████████| 704/704 [01:30<00:00, 11.15it/s]\n",
      "  0%|          | 0/704 [00:00<?, ?it/s]"
     ]
    },
    {
     "name": "stdout",
     "output_type": "stream",
     "text": [
      "\n",
      "Epoch: 346\n"
     ]
    },
    {
     "name": "stderr",
     "output_type": "stream",
     "text": [
      "Acc: 79.960%: 100%|██████████| 704/704 [01:17<00:00, 12.67it/s]\n",
      "  0%|          | 0/704 [00:00<?, ?it/s]"
     ]
    },
    {
     "name": "stdout",
     "output_type": "stream",
     "text": [
      "\n",
      "Epoch: 347\n"
     ]
    },
    {
     "name": "stderr",
     "output_type": "stream",
     "text": [
      "Acc: 79.783%: 100%|██████████| 704/704 [01:14<00:00, 11.06it/s]\n",
      "  0%|          | 0/704 [00:00<?, ?it/s]"
     ]
    },
    {
     "name": "stdout",
     "output_type": "stream",
     "text": [
      "\n",
      "Epoch: 348\n"
     ]
    },
    {
     "name": "stderr",
     "output_type": "stream",
     "text": [
      "Acc: 80.170%:  22%|██▏       | 156/704 [00:13<00:44, 12.30it/s]IOPub message rate exceeded.\n",
      "The notebook server will temporarily stop sending output\n",
      "to the client in order to avoid crashing it.\n",
      "To change this limit, set the config variable\n",
      "`--NotebookApp.iopub_msg_rate_limit`.\n",
      "\n",
      "Current values:\n",
      "NotebookApp.iopub_msg_rate_limit=1000.0 (msgs/sec)\n",
      "NotebookApp.rate_limit_window=3.0 (secs)\n",
      "\n",
      "Acc: 77.558%: 100%|██████████| 900/900 [01:18<00:00, 11.90it/s]\n",
      "  0%|          | 0/704 [00:00<?, ?it/s]"
     ]
    },
    {
     "name": "stdout",
     "output_type": "stream",
     "text": [
      "\n",
      "Epoch: 351\n"
     ]
    },
    {
     "name": "stderr",
     "output_type": "stream",
     "text": [
      "Acc: 79.870%: 100%|██████████| 704/704 [01:28<00:00, 10.43it/s]\n",
      "  0%|          | 0/704 [00:00<?, ?it/s]"
     ]
    },
    {
     "name": "stdout",
     "output_type": "stream",
     "text": [
      "\n",
      "Epoch: 352\n"
     ]
    },
    {
     "name": "stderr",
     "output_type": "stream",
     "text": [
      "Acc: 79.861%:  87%|████████▋ | 610/704 [01:02<00:10,  9.04it/s]IOPub message rate exceeded.\n",
      "The notebook server will temporarily stop sending output\n",
      "to the client in order to avoid crashing it.\n",
      "To change this limit, set the config variable\n",
      "`--NotebookApp.iopub_msg_rate_limit`.\n",
      "\n",
      "Current values:\n",
      "NotebookApp.iopub_msg_rate_limit=1000.0 (msgs/sec)\n",
      "NotebookApp.rate_limit_window=3.0 (secs)\n",
      "\n",
      "Acc: 79.832%: 100%|██████████| 704/704 [01:30<00:00, 10.62it/s]\n",
      "  0%|          | 0/704 [00:00<?, ?it/s]"
     ]
    },
    {
     "name": "stdout",
     "output_type": "stream",
     "text": [
      "\n",
      "Epoch: 355\n"
     ]
    },
    {
     "name": "stderr",
     "output_type": "stream",
     "text": [
      "Acc: 80.056%:  49%|████▊     | 343/704 [00:28<00:29, 12.18it/s]IOPub message rate exceeded.\n",
      "The notebook server will temporarily stop sending output\n",
      "to the client in order to avoid crashing it.\n",
      "To change this limit, set the config variable\n",
      "`--NotebookApp.iopub_msg_rate_limit`.\n",
      "\n",
      "Current values:\n",
      "NotebookApp.iopub_msg_rate_limit=1000.0 (msgs/sec)\n",
      "NotebookApp.rate_limit_window=3.0 (secs)\n",
      "\n",
      "Acc: 79.924%: 100%|██████████| 704/704 [01:27<00:00,  8.02it/s]\n",
      "  0%|          | 0/704 [00:00<?, ?it/s]"
     ]
    },
    {
     "name": "stdout",
     "output_type": "stream",
     "text": [
      "\n",
      "Epoch: 357\n"
     ]
    },
    {
     "name": "stderr",
     "output_type": "stream",
     "text": [
      "Acc: 79.831%: 100%|██████████| 704/704 [01:15<00:00,  9.31it/s]\n",
      "  0%|          | 0/704 [00:00<?, ?it/s]"
     ]
    },
    {
     "name": "stdout",
     "output_type": "stream",
     "text": [
      "\n",
      "Epoch: 358\n"
     ]
    },
    {
     "name": "stderr",
     "output_type": "stream",
     "text": [
      "Acc: 80.371%:  21%|██▏       | 151/704 [00:12<00:45, 12.20it/s]IOPub message rate exceeded.\n",
      "The notebook server will temporarily stop sending output\n",
      "to the client in order to avoid crashing it.\n",
      "To change this limit, set the config variable\n",
      "`--NotebookApp.iopub_msg_rate_limit`.\n",
      "\n",
      "Current values:\n",
      "NotebookApp.iopub_msg_rate_limit=1000.0 (msgs/sec)\n",
      "NotebookApp.rate_limit_window=3.0 (secs)\n",
      "\n",
      "Acc: 79.857%: 100%|██████████| 704/704 [01:29<00:00, 11.20it/s]\n",
      "  0%|          | 0/704 [00:00<?, ?it/s]"
     ]
    },
    {
     "name": "stdout",
     "output_type": "stream",
     "text": [
      "\n",
      "Epoch: 360\n"
     ]
    },
    {
     "name": "stderr",
     "output_type": "stream",
     "text": [
      "Acc: 79.831%:  88%|████████▊ | 623/704 [01:16<00:07, 10.68it/s]IOPub message rate exceeded.\n",
      "The notebook server will temporarily stop sending output\n",
      "to the client in order to avoid crashing it.\n",
      "To change this limit, set the config variable\n",
      "`--NotebookApp.iopub_msg_rate_limit`.\n",
      "\n",
      "Current values:\n",
      "NotebookApp.iopub_msg_rate_limit=1000.0 (msgs/sec)\n",
      "NotebookApp.rate_limit_window=3.0 (secs)\n",
      "\n",
      "Acc: 77.497%: 100%|██████████| 900/900 [01:14<00:00, 12.13it/s]\n",
      "  0%|          | 0/704 [00:00<?, ?it/s]"
     ]
    },
    {
     "name": "stdout",
     "output_type": "stream",
     "text": [
      "\n",
      "Epoch: 361\n"
     ]
    },
    {
     "name": "stderr",
     "output_type": "stream",
     "text": [
      "Acc: 80.086%: 100%|██████████| 704/704 [01:30<00:00,  7.76it/s]\n",
      "  0%|          | 0/704 [00:00<?, ?it/s]"
     ]
    },
    {
     "name": "stdout",
     "output_type": "stream",
     "text": [
      "\n",
      "Epoch: 362\n"
     ]
    },
    {
     "name": "stderr",
     "output_type": "stream",
     "text": [
      "Acc: 79.957%:  30%|███       | 212/704 [00:22<00:43, 11.26it/s]IOPub message rate exceeded.\n",
      "The notebook server will temporarily stop sending output\n",
      "to the client in order to avoid crashing it.\n",
      "To change this limit, set the config variable\n",
      "`--NotebookApp.iopub_msg_rate_limit`.\n",
      "\n",
      "Current values:\n",
      "NotebookApp.iopub_msg_rate_limit=1000.0 (msgs/sec)\n",
      "NotebookApp.rate_limit_window=3.0 (secs)\n",
      "\n",
      "Acc: 79.848%: 100%|██████████| 704/704 [01:02<00:00, 11.25it/s]\n",
      "  0%|          | 0/704 [00:00<?, ?it/s]"
     ]
    },
    {
     "name": "stdout",
     "output_type": "stream",
     "text": [
      "\n",
      "Epoch: 364\n"
     ]
    },
    {
     "name": "stderr",
     "output_type": "stream",
     "text": [
      "Acc: 80.013%:  88%|████████▊ | 619/704 [00:50<00:06, 12.28it/s]IOPub message rate exceeded.\n",
      "The notebook server will temporarily stop sending output\n",
      "to the client in order to avoid crashing it.\n",
      "To change this limit, set the config variable\n",
      "`--NotebookApp.iopub_msg_rate_limit`.\n",
      "\n",
      "Current values:\n",
      "NotebookApp.iopub_msg_rate_limit=1000.0 (msgs/sec)\n",
      "NotebookApp.rate_limit_window=3.0 (secs)\n",
      "\n",
      "Acc: 79.913%: 100%|██████████| 704/704 [01:11<00:00, 10.44it/s]\n",
      "  0%|          | 0/704 [00:00<?, ?it/s]"
     ]
    },
    {
     "name": "stdout",
     "output_type": "stream",
     "text": [
      "\n",
      "Epoch: 366\n"
     ]
    },
    {
     "name": "stderr",
     "output_type": "stream",
     "text": [
      "Acc: 80.021%: 100%|██████████| 704/704 [01:23<00:00,  8.40it/s]\n",
      "  0%|          | 0/704 [00:00<?, ?it/s]"
     ]
    },
    {
     "name": "stdout",
     "output_type": "stream",
     "text": [
      "\n",
      "Epoch: 367\n"
     ]
    },
    {
     "name": "stderr",
     "output_type": "stream",
     "text": [
      "Acc: 79.760%: 100%|██████████| 704/704 [01:33<00:00,  7.53it/s]\n",
      "  0%|          | 0/704 [00:00<?, ?it/s]"
     ]
    },
    {
     "name": "stdout",
     "output_type": "stream",
     "text": [
      "\n",
      "Epoch: 368\n"
     ]
    },
    {
     "name": "stderr",
     "output_type": "stream",
     "text": [
      "Acc: 80.058%:  52%|█████▏    | 367/704 [00:33<00:31, 10.72it/s]IOPub message rate exceeded.\n",
      "The notebook server will temporarily stop sending output\n",
      "to the client in order to avoid crashing it.\n",
      "To change this limit, set the config variable\n",
      "`--NotebookApp.iopub_msg_rate_limit`.\n",
      "\n",
      "Current values:\n",
      "NotebookApp.iopub_msg_rate_limit=1000.0 (msgs/sec)\n",
      "NotebookApp.rate_limit_window=3.0 (secs)\n",
      "\n",
      "Acc: 79.857%: 100%|██████████| 704/704 [01:27<00:00,  8.04it/s]\n",
      "  0%|          | 0/704 [00:00<?, ?it/s]"
     ]
    },
    {
     "name": "stdout",
     "output_type": "stream",
     "text": [
      "\n",
      "Epoch: 370\n"
     ]
    },
    {
     "name": "stderr",
     "output_type": "stream",
     "text": [
      "Acc: 79.937%: 100%|██████████| 704/704 [01:31<00:00,  7.72it/s]\n",
      "Acc: 85.812%:  12%|█▏        | 111/900 [00:09<01:04, 12.28it/s]IOPub message rate exceeded.\n",
      "The notebook server will temporarily stop sending output\n",
      "to the client in order to avoid crashing it.\n",
      "To change this limit, set the config variable\n",
      "`--NotebookApp.iopub_msg_rate_limit`.\n",
      "\n",
      "Current values:\n",
      "NotebookApp.iopub_msg_rate_limit=1000.0 (msgs/sec)\n",
      "NotebookApp.rate_limit_window=3.0 (secs)\n",
      "\n",
      "Acc: 77.552%: 100%|██████████| 900/900 [01:16<00:00, 11.80it/s]\n",
      "  0%|          | 0/704 [00:00<?, ?it/s]"
     ]
    },
    {
     "name": "stdout",
     "output_type": "stream",
     "text": [
      "\n",
      "Epoch: 371\n"
     ]
    },
    {
     "name": "stderr",
     "output_type": "stream",
     "text": [
      "Acc: 80.014%: 100%|██████████| 704/704 [01:33<00:00,  7.52it/s]\n",
      "  0%|          | 0/704 [00:00<?, ?it/s]"
     ]
    },
    {
     "name": "stdout",
     "output_type": "stream",
     "text": [
      "\n",
      "Epoch: 372\n"
     ]
    },
    {
     "name": "stderr",
     "output_type": "stream",
     "text": [
      "Acc: 80.058%:   3%|▎         | 18/704 [00:02<01:17,  8.90it/s]IOPub message rate exceeded.\n",
      "The notebook server will temporarily stop sending output\n",
      "to the client in order to avoid crashing it.\n",
      "To change this limit, set the config variable\n",
      "`--NotebookApp.iopub_msg_rate_limit`.\n",
      "\n",
      "Current values:\n",
      "NotebookApp.iopub_msg_rate_limit=1000.0 (msgs/sec)\n",
      "NotebookApp.rate_limit_window=3.0 (secs)\n",
      "\n",
      "Acc: 80.004%: 100%|██████████| 704/704 [01:14<00:00, 10.55it/s]\n",
      "  0%|          | 0/704 [00:00<?, ?it/s]"
     ]
    },
    {
     "name": "stdout",
     "output_type": "stream",
     "text": [
      "\n",
      "Epoch: 374\n"
     ]
    },
    {
     "name": "stderr",
     "output_type": "stream",
     "text": [
      "Acc: 80.078%:  84%|████████▍ | 593/704 [01:16<00:11,  9.34it/s]IOPub message rate exceeded.\n",
      "The notebook server will temporarily stop sending output\n",
      "to the client in order to avoid crashing it.\n",
      "To change this limit, set the config variable\n",
      "`--NotebookApp.iopub_msg_rate_limit`.\n",
      "\n",
      "Current values:\n",
      "NotebookApp.iopub_msg_rate_limit=1000.0 (msgs/sec)\n",
      "NotebookApp.rate_limit_window=3.0 (secs)\n",
      "\n",
      "Acc: 79.943%: 100%|██████████| 704/704 [01:15<00:00,  9.36it/s]\n",
      "  0%|          | 0/704 [00:00<?, ?it/s]"
     ]
    },
    {
     "name": "stdout",
     "output_type": "stream",
     "text": [
      "\n",
      "Epoch: 377\n"
     ]
    },
    {
     "name": "stderr",
     "output_type": "stream",
     "text": [
      "Acc: 80.193%:  38%|███▊      | 265/704 [00:22<00:35, 12.29it/s]IOPub message rate exceeded.\n",
      "The notebook server will temporarily stop sending output\n",
      "to the client in order to avoid crashing it.\n",
      "To change this limit, set the config variable\n",
      "`--NotebookApp.iopub_msg_rate_limit`.\n",
      "\n",
      "Current values:\n",
      "NotebookApp.iopub_msg_rate_limit=1000.0 (msgs/sec)\n",
      "NotebookApp.rate_limit_window=3.0 (secs)\n",
      "\n",
      "Acc: 80.012%: 100%|██████████| 704/704 [01:16<00:00,  9.16it/s]\n",
      "  0%|          | 0/704 [00:00<?, ?it/s]"
     ]
    },
    {
     "name": "stdout",
     "output_type": "stream",
     "text": [
      "\n",
      "Epoch: 379\n"
     ]
    },
    {
     "name": "stderr",
     "output_type": "stream",
     "text": [
      "Acc: 79.869%: 100%|██████████| 704/704 [01:15<00:00,  9.36it/s]\n",
      "  0%|          | 0/704 [00:00<?, ?it/s]"
     ]
    },
    {
     "name": "stdout",
     "output_type": "stream",
     "text": [
      "\n",
      "Epoch: 380\n"
     ]
    },
    {
     "name": "stderr",
     "output_type": "stream",
     "text": [
      "Acc: 79.724%:  24%|██▍       | 170/704 [00:14<00:43, 12.34it/s]IOPub message rate exceeded.\n",
      "The notebook server will temporarily stop sending output\n",
      "to the client in order to avoid crashing it.\n",
      "To change this limit, set the config variable\n",
      "`--NotebookApp.iopub_msg_rate_limit`.\n",
      "\n",
      "Current values:\n",
      "NotebookApp.iopub_msg_rate_limit=1000.0 (msgs/sec)\n",
      "NotebookApp.rate_limit_window=3.0 (secs)\n",
      "\n",
      "Acc: 77.551%: 100%|██████████| 900/900 [01:22<00:00, 10.93it/s]\n",
      "  0%|          | 0/704 [00:00<?, ?it/s]"
     ]
    },
    {
     "name": "stdout",
     "output_type": "stream",
     "text": [
      "\n",
      "Epoch: 381\n"
     ]
    },
    {
     "name": "stderr",
     "output_type": "stream",
     "text": [
      "Acc: 80.178%:  69%|██████▉   | 485/704 [00:53<00:24,  8.93it/s]IOPub message rate exceeded.\n",
      "The notebook server will temporarily stop sending output\n",
      "to the client in order to avoid crashing it.\n",
      "To change this limit, set the config variable\n",
      "`--NotebookApp.iopub_msg_rate_limit`.\n",
      "\n",
      "Current values:\n",
      "NotebookApp.iopub_msg_rate_limit=1000.0 (msgs/sec)\n",
      "NotebookApp.rate_limit_window=3.0 (secs)\n",
      "\n",
      "Acc: 80.006%: 100%|██████████| 704/704 [01:13<00:00, 11.71it/s]\n",
      "  0%|          | 0/704 [00:00<?, ?it/s]"
     ]
    },
    {
     "name": "stdout",
     "output_type": "stream",
     "text": [
      "\n",
      "Epoch: 383\n"
     ]
    },
    {
     "name": "stderr",
     "output_type": "stream",
     "text": [
      "Acc: 79.957%: 100%|██████████| 704/704 [01:22<00:00,  8.48it/s]\n",
      "  0%|          | 0/704 [00:00<?, ?it/s]"
     ]
    },
    {
     "name": "stdout",
     "output_type": "stream",
     "text": [
      "\n",
      "Epoch: 384\n"
     ]
    },
    {
     "name": "stderr",
     "output_type": "stream",
     "text": [
      "Acc: 79.763%:  47%|████▋     | 328/704 [00:39<00:34, 10.85it/s]IOPub message rate exceeded.\n",
      "The notebook server will temporarily stop sending output\n",
      "to the client in order to avoid crashing it.\n",
      "To change this limit, set the config variable\n",
      "`--NotebookApp.iopub_msg_rate_limit`.\n",
      "\n",
      "Current values:\n",
      "NotebookApp.iopub_msg_rate_limit=1000.0 (msgs/sec)\n",
      "NotebookApp.rate_limit_window=3.0 (secs)\n",
      "\n",
      "Acc: 80.006%: 100%|██████████| 704/704 [01:31<00:00, 12.98it/s]\n",
      "  0%|          | 0/704 [00:00<?, ?it/s]"
     ]
    },
    {
     "name": "stdout",
     "output_type": "stream",
     "text": [
      "\n",
      "Epoch: 387\n"
     ]
    },
    {
     "name": "stderr",
     "output_type": "stream",
     "text": [
      "Acc: 79.786%: 100%|██████████| 704/704 [01:12<00:00,  9.73it/s]\n",
      "  0%|          | 0/704 [00:00<?, ?it/s]"
     ]
    },
    {
     "name": "stdout",
     "output_type": "stream",
     "text": [
      "\n",
      "Epoch: 388\n"
     ]
    },
    {
     "name": "stderr",
     "output_type": "stream",
     "text": [
      "Acc: 79.991%:  89%|████████▉ | 629/704 [01:19<00:07, 10.32it/s]IOPub message rate exceeded.\n",
      "The notebook server will temporarily stop sending output\n",
      "to the client in order to avoid crashing it.\n",
      "To change this limit, set the config variable\n",
      "`--NotebookApp.iopub_msg_rate_limit`.\n",
      "\n",
      "Current values:\n",
      "NotebookApp.iopub_msg_rate_limit=1000.0 (msgs/sec)\n",
      "NotebookApp.rate_limit_window=3.0 (secs)\n",
      "\n",
      "Acc: 80.080%: 100%|██████████| 704/704 [01:17<00:00, 10.50it/s]\n",
      "Acc: 80.387%:  28%|██▊       | 255/900 [00:31<04:03,  2.65it/s]IOPub message rate exceeded.\n",
      "The notebook server will temporarily stop sending output\n",
      "to the client in order to avoid crashing it.\n",
      "To change this limit, set the config variable\n",
      "`--NotebookApp.iopub_msg_rate_limit`.\n",
      "\n",
      "Current values:\n",
      "NotebookApp.iopub_msg_rate_limit=1000.0 (msgs/sec)\n",
      "NotebookApp.rate_limit_window=3.0 (secs)\n",
      "\n",
      "Acc: 80.030%: 100%|██████████| 704/704 [01:25<00:00,  9.09it/s]\n",
      "  0%|          | 0/704 [00:00<?, ?it/s]"
     ]
    },
    {
     "name": "stdout",
     "output_type": "stream",
     "text": [
      "\n",
      "Epoch: 392\n"
     ]
    },
    {
     "name": "stderr",
     "output_type": "stream",
     "text": [
      "Acc: 79.843%: 100%|██████████| 704/704 [01:21<00:00,  8.61it/s]\n",
      "  0%|          | 0/704 [00:00<?, ?it/s]"
     ]
    },
    {
     "name": "stdout",
     "output_type": "stream",
     "text": [
      "\n",
      "Epoch: 393\n"
     ]
    },
    {
     "name": "stderr",
     "output_type": "stream",
     "text": [
      "Acc: 79.241%:   3%|▎         | 20/704 [00:02<01:06, 10.26it/s]IOPub message rate exceeded.\n",
      "The notebook server will temporarily stop sending output\n",
      "to the client in order to avoid crashing it.\n",
      "To change this limit, set the config variable\n",
      "`--NotebookApp.iopub_msg_rate_limit`.\n",
      "\n",
      "Current values:\n",
      "NotebookApp.iopub_msg_rate_limit=1000.0 (msgs/sec)\n",
      "NotebookApp.rate_limit_window=3.0 (secs)\n",
      "\n",
      "Acc: 79.776%: 100%|██████████| 704/704 [01:14<00:00,  9.47it/s]\n",
      "  0%|          | 0/704 [00:00<?, ?it/s]"
     ]
    },
    {
     "name": "stdout",
     "output_type": "stream",
     "text": [
      "\n",
      "Epoch: 395\n"
     ]
    },
    {
     "name": "stderr",
     "output_type": "stream",
     "text": [
      "Acc: 80.363%:  38%|███▊      | 266/704 [00:22<00:35, 12.35it/s]IOPub message rate exceeded.\n",
      "The notebook server will temporarily stop sending output\n",
      "to the client in order to avoid crashing it.\n",
      "To change this limit, set the config variable\n",
      "`--NotebookApp.iopub_msg_rate_limit`.\n",
      "\n",
      "Current values:\n",
      "NotebookApp.iopub_msg_rate_limit=1000.0 (msgs/sec)\n",
      "NotebookApp.rate_limit_window=3.0 (secs)\n",
      "\n",
      "Acc: 79.888%: 100%|██████████| 704/704 [01:19<00:00,  8.81it/s]\n",
      "  0%|          | 0/704 [00:00<?, ?it/s]"
     ]
    },
    {
     "name": "stdout",
     "output_type": "stream",
     "text": [
      "\n",
      "Epoch: 397\n"
     ]
    },
    {
     "name": "stderr",
     "output_type": "stream",
     "text": [
      "Acc: 80.008%: 100%|██████████| 704/704 [01:16<00:00, 10.64it/s]\n",
      "  0%|          | 0/704 [00:00<?, ?it/s]"
     ]
    },
    {
     "name": "stdout",
     "output_type": "stream",
     "text": [
      "\n",
      "Epoch: 398\n"
     ]
    },
    {
     "name": "stderr",
     "output_type": "stream",
     "text": [
      "Acc: 79.976%:  58%|█████▊    | 406/704 [00:58<00:38,  7.76it/s]IOPub message rate exceeded.\n",
      "The notebook server will temporarily stop sending output\n",
      "to the client in order to avoid crashing it.\n",
      "To change this limit, set the config variable\n",
      "`--NotebookApp.iopub_msg_rate_limit`.\n",
      "\n",
      "Current values:\n",
      "NotebookApp.iopub_msg_rate_limit=1000.0 (msgs/sec)\n",
      "NotebookApp.rate_limit_window=3.0 (secs)\n",
      "\n",
      "Acc: 79.881%:  98%|█████████▊| 690/704 [01:13<00:01, 10.48it/s]IOPub message rate exceeded.\n",
      "The notebook server will temporarily stop sending output\n",
      "to the client in order to avoid crashing it.\n",
      "To change this limit, set the config variable\n",
      "`--NotebookApp.iopub_msg_rate_limit`.\n",
      "\n",
      "Current values:\n",
      "NotebookApp.iopub_msg_rate_limit=1000.0 (msgs/sec)\n",
      "NotebookApp.rate_limit_window=3.0 (secs)\n",
      "\n",
      "Acc: 77.698%: 100%|██████████| 900/900 [01:23<00:00, 10.78it/s]\n",
      "  0%|          | 0/704 [00:00<?, ?it/s]"
     ]
    },
    {
     "name": "stdout",
     "output_type": "stream",
     "text": [
      "Saving..\n",
      "\n",
      "Epoch: 401\n"
     ]
    },
    {
     "name": "stderr",
     "output_type": "stream",
     "text": [
      "Acc: 80.010%: 100%|██████████| 704/704 [01:23<00:00, 12.51it/s]\n",
      "  0%|          | 0/704 [00:00<?, ?it/s]"
     ]
    },
    {
     "name": "stdout",
     "output_type": "stream",
     "text": [
      "\n",
      "Epoch: 402\n"
     ]
    },
    {
     "name": "stderr",
     "output_type": "stream",
     "text": [
      "Acc: 79.880%:  93%|█████████▎| 656/704 [01:01<00:04,  9.64it/s]IOPub message rate exceeded.\n",
      "The notebook server will temporarily stop sending output\n",
      "to the client in order to avoid crashing it.\n",
      "To change this limit, set the config variable\n",
      "`--NotebookApp.iopub_msg_rate_limit`.\n",
      "\n",
      "Current values:\n",
      "NotebookApp.iopub_msg_rate_limit=1000.0 (msgs/sec)\n",
      "NotebookApp.rate_limit_window=3.0 (secs)\n",
      "\n",
      "Acc: 79.927%: 100%|██████████| 704/704 [01:35<00:00,  7.34it/s]\n",
      "  0%|          | 0/704 [00:00<?, ?it/s]"
     ]
    },
    {
     "name": "stdout",
     "output_type": "stream",
     "text": [
      "\n",
      "Epoch: 405\n"
     ]
    },
    {
     "name": "stderr",
     "output_type": "stream",
     "text": [
      "Acc: 80.135%:  25%|██▍       | 173/704 [00:16<00:50, 10.61it/s]IOPub message rate exceeded.\n",
      "The notebook server will temporarily stop sending output\n",
      "to the client in order to avoid crashing it.\n",
      "To change this limit, set the config variable\n",
      "`--NotebookApp.iopub_msg_rate_limit`.\n",
      "\n",
      "Current values:\n",
      "NotebookApp.iopub_msg_rate_limit=1000.0 (msgs/sec)\n",
      "NotebookApp.rate_limit_window=3.0 (secs)\n",
      "\n",
      "Acc: 79.893%: 100%|██████████| 704/704 [01:19<00:00, 10.74it/s]\n",
      "  0%|          | 0/704 [00:00<?, ?it/s]"
     ]
    },
    {
     "name": "stdout",
     "output_type": "stream",
     "text": [
      "\n",
      "Epoch: 407\n"
     ]
    },
    {
     "name": "stderr",
     "output_type": "stream",
     "text": [
      "Acc: 79.907%: 100%|██████████| 704/704 [01:37<00:00, 11.07it/s]\n",
      "  0%|          | 0/704 [00:00<?, ?it/s]"
     ]
    },
    {
     "name": "stdout",
     "output_type": "stream",
     "text": [
      "\n",
      "Epoch: 408\n"
     ]
    },
    {
     "name": "stderr",
     "output_type": "stream",
     "text": [
      "Acc: 80.315%:  41%|████      | 289/704 [00:27<00:39, 10.42it/s]IOPub message rate exceeded.\n",
      "The notebook server will temporarily stop sending output\n",
      "to the client in order to avoid crashing it.\n",
      "To change this limit, set the config variable\n",
      "`--NotebookApp.iopub_msg_rate_limit`.\n",
      "\n",
      "Current values:\n",
      "NotebookApp.iopub_msg_rate_limit=1000.0 (msgs/sec)\n",
      "NotebookApp.rate_limit_window=3.0 (secs)\n",
      "\n",
      "Acc: 79.873%: 100%|██████████| 704/704 [01:23<00:00, 11.43it/s]\n",
      "  0%|          | 0/704 [00:00<?, ?it/s]"
     ]
    },
    {
     "name": "stdout",
     "output_type": "stream",
     "text": [
      "\n",
      "Epoch: 410\n"
     ]
    },
    {
     "name": "stderr",
     "output_type": "stream",
     "text": [
      "Acc: 79.929%:  73%|███████▎  | 517/704 [01:13<00:18,  9.91it/s]IOPub message rate exceeded.\n",
      "The notebook server will temporarily stop sending output\n",
      "to the client in order to avoid crashing it.\n",
      "To change this limit, set the config variable\n",
      "`--NotebookApp.iopub_msg_rate_limit`.\n",
      "\n",
      "Current values:\n",
      "NotebookApp.iopub_msg_rate_limit=1000.0 (msgs/sec)\n",
      "NotebookApp.rate_limit_window=3.0 (secs)\n",
      "\n",
      "Acc: 77.429%: 100%|██████████| 900/900 [01:20<00:00, 11.17it/s]\n",
      "  0%|          | 0/704 [00:00<?, ?it/s]"
     ]
    },
    {
     "name": "stdout",
     "output_type": "stream",
     "text": [
      "\n",
      "Epoch: 411\n"
     ]
    },
    {
     "name": "stderr",
     "output_type": "stream",
     "text": [
      "Acc: 79.807%: 100%|██████████| 704/704 [01:28<00:00, 11.55it/s]\n",
      "  0%|          | 0/704 [00:00<?, ?it/s]"
     ]
    },
    {
     "name": "stdout",
     "output_type": "stream",
     "text": [
      "\n",
      "Epoch: 412\n"
     ]
    },
    {
     "name": "stderr",
     "output_type": "stream",
     "text": [
      "Acc: 80.097%: 100%|██████████| 704/704 [01:10<00:00, 10.95it/s]\n",
      "  0%|          | 0/704 [00:00<?, ?it/s]"
     ]
    },
    {
     "name": "stdout",
     "output_type": "stream",
     "text": [
      "\n",
      "Epoch: 413\n"
     ]
    },
    {
     "name": "stderr",
     "output_type": "stream",
     "text": [
      "Acc: 80.212%:  45%|████▌     | 318/704 [00:26<00:31, 12.39it/s]IOPub message rate exceeded.\n",
      "The notebook server will temporarily stop sending output\n",
      "to the client in order to avoid crashing it.\n",
      "To change this limit, set the config variable\n",
      "`--NotebookApp.iopub_msg_rate_limit`.\n",
      "\n",
      "Current values:\n",
      "NotebookApp.iopub_msg_rate_limit=1000.0 (msgs/sec)\n",
      "NotebookApp.rate_limit_window=3.0 (secs)\n",
      "\n",
      "Acc: 79.958%: 100%|██████████| 704/704 [01:07<00:00, 13.12it/s]\n",
      "  0%|          | 0/704 [00:00<?, ?it/s]"
     ]
    },
    {
     "name": "stdout",
     "output_type": "stream",
     "text": [
      "\n",
      "Epoch: 415\n"
     ]
    },
    {
     "name": "stderr",
     "output_type": "stream",
     "text": [
      "Acc: 79.971%: 100%|██████████| 704/704 [01:20<00:00,  8.75it/s]\n",
      "  0%|          | 0/704 [00:00<?, ?it/s]"
     ]
    },
    {
     "name": "stdout",
     "output_type": "stream",
     "text": [
      "\n",
      "Epoch: 416\n"
     ]
    },
    {
     "name": "stderr",
     "output_type": "stream",
     "text": [
      "Acc: 80.295%:  41%|████      | 287/704 [00:23<00:34, 12.25it/s]IOPub message rate exceeded.\n",
      "The notebook server will temporarily stop sending output\n",
      "to the client in order to avoid crashing it.\n",
      "To change this limit, set the config variable\n",
      "`--NotebookApp.iopub_msg_rate_limit`.\n",
      "\n",
      "Current values:\n",
      "NotebookApp.iopub_msg_rate_limit=1000.0 (msgs/sec)\n",
      "NotebookApp.rate_limit_window=3.0 (secs)\n",
      "\n",
      "Acc: 80.258%: 100%|██████████| 704/704 [01:13<00:00,  9.61it/s]\n",
      "  0%|          | 0/704 [00:00<?, ?it/s]"
     ]
    },
    {
     "name": "stdout",
     "output_type": "stream",
     "text": [
      "\n",
      "Epoch: 418\n"
     ]
    },
    {
     "name": "stderr",
     "output_type": "stream",
     "text": [
      "Acc: 79.836%:  97%|█████████▋| 680/704 [01:21<00:02,  9.27it/s]IOPub message rate exceeded.\n",
      "The notebook server will temporarily stop sending output\n",
      "to the client in order to avoid crashing it.\n",
      "To change this limit, set the config variable\n",
      "`--NotebookApp.iopub_msg_rate_limit`.\n",
      "\n",
      "Current values:\n",
      "NotebookApp.iopub_msg_rate_limit=1000.0 (msgs/sec)\n",
      "NotebookApp.rate_limit_window=3.0 (secs)\n",
      "\n",
      "Acc: 80.087%: 100%|██████████| 704/704 [01:11<00:00, 11.67it/s]\n",
      "Acc: 76.362%:  74%|███████▍  | 668/900 [01:10<00:20, 11.56it/s]IOPub message rate exceeded.\n",
      "The notebook server will temporarily stop sending output\n",
      "to the client in order to avoid crashing it.\n",
      "To change this limit, set the config variable\n",
      "`--NotebookApp.iopub_msg_rate_limit`.\n",
      "\n",
      "Current values:\n",
      "NotebookApp.iopub_msg_rate_limit=1000.0 (msgs/sec)\n",
      "NotebookApp.rate_limit_window=3.0 (secs)\n",
      "\n",
      "Acc: 80.101%: 100%|██████████| 704/704 [01:08<00:00, 11.66it/s]\n",
      "  0%|          | 0/704 [00:00<?, ?it/s]"
     ]
    },
    {
     "name": "stdout",
     "output_type": "stream",
     "text": [
      "\n",
      "Epoch: 423\n"
     ]
    },
    {
     "name": "stderr",
     "output_type": "stream",
     "text": [
      "Acc: 79.931%:  27%|██▋       | 188/704 [00:15<00:42, 12.22it/s]IOPub message rate exceeded.\n",
      "The notebook server will temporarily stop sending output\n",
      "to the client in order to avoid crashing it.\n",
      "To change this limit, set the config variable\n",
      "`--NotebookApp.iopub_msg_rate_limit`.\n",
      "\n",
      "Current values:\n",
      "NotebookApp.iopub_msg_rate_limit=1000.0 (msgs/sec)\n",
      "NotebookApp.rate_limit_window=3.0 (secs)\n",
      "\n",
      "Acc: 79.814%: 100%|██████████| 704/704 [01:30<00:00, 13.10it/s]\n",
      "  0%|          | 0/704 [00:00<?, ?it/s]"
     ]
    },
    {
     "name": "stdout",
     "output_type": "stream",
     "text": [
      "\n",
      "Epoch: 425\n"
     ]
    },
    {
     "name": "stderr",
     "output_type": "stream",
     "text": [
      "Acc: 80.081%: 100%|██████████| 704/704 [01:31<00:00,  7.68it/s]\n",
      "  0%|          | 0/704 [00:00<?, ?it/s]"
     ]
    },
    {
     "name": "stdout",
     "output_type": "stream",
     "text": [
      "\n",
      "Epoch: 455\n"
     ]
    },
    {
     "name": "stderr",
     "output_type": "stream",
     "text": [
      "Acc: 79.938%: 100%|██████████| 704/704 [01:14<00:00, 12.15it/s]\n",
      "  0%|          | 0/704 [00:00<?, ?it/s]"
     ]
    },
    {
     "name": "stdout",
     "output_type": "stream",
     "text": [
      "\n",
      "Epoch: 456\n"
     ]
    },
    {
     "name": "stderr",
     "output_type": "stream",
     "text": [
      "Acc: 79.977%: 100%|██████████| 704/704 [01:22<00:00,  8.48it/s]\n",
      "  0%|          | 0/704 [00:00<?, ?it/s]"
     ]
    },
    {
     "name": "stdout",
     "output_type": "stream",
     "text": [
      "\n",
      "Epoch: 457\n"
     ]
    },
    {
     "name": "stderr",
     "output_type": "stream",
     "text": [
      "Acc: 80.199%: 100%|██████████| 704/704 [01:38<00:00, 10.98it/s]\n",
      "  0%|          | 0/704 [00:00<?, ?it/s]"
     ]
    },
    {
     "name": "stdout",
     "output_type": "stream",
     "text": [
      "\n",
      "Epoch: 458\n"
     ]
    },
    {
     "name": "stderr",
     "output_type": "stream",
     "text": [
      "Acc: 80.111%: 100%|██████████| 704/704 [01:15<00:00,  9.36it/s]\n",
      "  0%|          | 0/704 [00:00<?, ?it/s]"
     ]
    },
    {
     "name": "stdout",
     "output_type": "stream",
     "text": [
      "\n",
      "Epoch: 459\n"
     ]
    },
    {
     "name": "stderr",
     "output_type": "stream",
     "text": [
      "Acc: 80.009%: 100%|██████████| 704/704 [01:27<00:00, 10.88it/s]\n",
      "  0%|          | 0/704 [00:00<?, ?it/s]"
     ]
    },
    {
     "name": "stdout",
     "output_type": "stream",
     "text": [
      "\n",
      "Epoch: 460\n"
     ]
    },
    {
     "name": "stderr",
     "output_type": "stream",
     "text": [
      "Acc: 80.039%: 100%|██████████| 704/704 [01:27<00:00, 10.84it/s]\n",
      "Acc: 77.514%: 100%|██████████| 900/900 [01:19<00:00, 11.65it/s]\n",
      "  0%|          | 0/704 [00:00<?, ?it/s]"
     ]
    },
    {
     "name": "stdout",
     "output_type": "stream",
     "text": [
      "\n",
      "Epoch: 461\n"
     ]
    },
    {
     "name": "stderr",
     "output_type": "stream",
     "text": [
      "Acc: 79.982%: 100%|██████████| 704/704 [01:32<00:00, 10.71it/s]\n",
      "  0%|          | 0/704 [00:00<?, ?it/s]"
     ]
    },
    {
     "name": "stdout",
     "output_type": "stream",
     "text": [
      "\n",
      "Epoch: 462\n"
     ]
    },
    {
     "name": "stderr",
     "output_type": "stream",
     "text": [
      "Acc: 80.007%: 100%|██████████| 704/704 [01:09<00:00, 10.82it/s]\n",
      "  0%|          | 0/704 [00:00<?, ?it/s]"
     ]
    },
    {
     "name": "stdout",
     "output_type": "stream",
     "text": [
      "\n",
      "Epoch: 463\n"
     ]
    },
    {
     "name": "stderr",
     "output_type": "stream",
     "text": [
      "Acc: 80.062%: 100%|██████████| 704/704 [01:18<00:00,  8.98it/s]\n",
      "  0%|          | 0/704 [00:00<?, ?it/s]"
     ]
    },
    {
     "name": "stdout",
     "output_type": "stream",
     "text": [
      "\n",
      "Epoch: 464\n"
     ]
    },
    {
     "name": "stderr",
     "output_type": "stream",
     "text": [
      "Acc: 80.141%: 100%|██████████| 704/704 [01:35<00:00,  9.83it/s]\n",
      "  0%|          | 0/704 [00:00<?, ?it/s]"
     ]
    },
    {
     "name": "stdout",
     "output_type": "stream",
     "text": [
      "\n",
      "Epoch: 465\n"
     ]
    },
    {
     "name": "stderr",
     "output_type": "stream",
     "text": [
      "Acc: 80.069%: 100%|██████████| 704/704 [01:14<00:00,  9.51it/s]\n",
      "  0%|          | 0/704 [00:00<?, ?it/s]"
     ]
    },
    {
     "name": "stdout",
     "output_type": "stream",
     "text": [
      "\n",
      "Epoch: 466\n"
     ]
    },
    {
     "name": "stderr",
     "output_type": "stream",
     "text": [
      "Acc: 80.133%: 100%|██████████| 704/704 [01:15<00:00,  9.27it/s]\n",
      "  0%|          | 0/704 [00:00<?, ?it/s]"
     ]
    },
    {
     "name": "stdout",
     "output_type": "stream",
     "text": [
      "\n",
      "Epoch: 467\n"
     ]
    },
    {
     "name": "stderr",
     "output_type": "stream",
     "text": [
      "Acc: 80.008%: 100%|██████████| 704/704 [01:35<00:00,  7.37it/s]\n",
      "  0%|          | 0/704 [00:00<?, ?it/s]"
     ]
    },
    {
     "name": "stdout",
     "output_type": "stream",
     "text": [
      "\n",
      "Epoch: 468\n"
     ]
    },
    {
     "name": "stderr",
     "output_type": "stream",
     "text": [
      "Acc: 80.018%: 100%|██████████| 704/704 [01:15<00:00,  9.32it/s]\n",
      "  0%|          | 0/704 [00:00<?, ?it/s]"
     ]
    },
    {
     "name": "stdout",
     "output_type": "stream",
     "text": [
      "\n",
      "Epoch: 469\n"
     ]
    },
    {
     "name": "stderr",
     "output_type": "stream",
     "text": [
      "Acc: 80.110%: 100%|██████████| 704/704 [01:24<00:00, 10.71it/s]\n",
      "  0%|          | 0/704 [00:00<?, ?it/s]"
     ]
    },
    {
     "name": "stdout",
     "output_type": "stream",
     "text": [
      "\n",
      "Epoch: 470\n"
     ]
    },
    {
     "name": "stderr",
     "output_type": "stream",
     "text": [
      "Acc: 80.008%: 100%|██████████| 704/704 [01:38<00:00, 11.19it/s]\n",
      "Acc: 77.394%: 100%|██████████| 900/900 [01:20<00:00, 11.17it/s]\n",
      "  0%|          | 0/704 [00:00<?, ?it/s]"
     ]
    },
    {
     "name": "stdout",
     "output_type": "stream",
     "text": [
      "\n",
      "Epoch: 471\n"
     ]
    },
    {
     "name": "stderr",
     "output_type": "stream",
     "text": [
      "Acc: 80.119%: 100%|██████████| 704/704 [01:25<00:00, 10.63it/s]\n",
      "  0%|          | 0/704 [00:00<?, ?it/s]"
     ]
    },
    {
     "name": "stdout",
     "output_type": "stream",
     "text": [
      "\n",
      "Epoch: 472\n"
     ]
    },
    {
     "name": "stderr",
     "output_type": "stream",
     "text": [
      "Acc: 80.049%: 100%|██████████| 704/704 [01:08<00:00,  5.23it/s]\n",
      "  0%|          | 0/704 [00:00<?, ?it/s]"
     ]
    },
    {
     "name": "stdout",
     "output_type": "stream",
     "text": [
      "\n",
      "Epoch: 473\n"
     ]
    },
    {
     "name": "stderr",
     "output_type": "stream",
     "text": [
      "Acc: 80.143%: 100%|██████████| 704/704 [00:57<00:00, 12.19it/s]\n",
      "  0%|          | 0/704 [00:00<?, ?it/s]"
     ]
    },
    {
     "name": "stdout",
     "output_type": "stream",
     "text": [
      "\n",
      "Epoch: 474\n"
     ]
    },
    {
     "name": "stderr",
     "output_type": "stream",
     "text": [
      "Acc: 80.000%: 100%|██████████| 704/704 [00:57<00:00, 12.22it/s]\n",
      "  0%|          | 0/704 [00:00<?, ?it/s]"
     ]
    },
    {
     "name": "stdout",
     "output_type": "stream",
     "text": [
      "\n",
      "Epoch: 475\n"
     ]
    },
    {
     "name": "stderr",
     "output_type": "stream",
     "text": [
      "Acc: 80.122%: 100%|██████████| 704/704 [00:57<00:00, 12.25it/s]\n",
      "  0%|          | 0/704 [00:00<?, ?it/s]"
     ]
    },
    {
     "name": "stdout",
     "output_type": "stream",
     "text": [
      "\n",
      "Epoch: 476\n"
     ]
    },
    {
     "name": "stderr",
     "output_type": "stream",
     "text": [
      "Acc: 79.974%: 100%|██████████| 704/704 [01:03<00:00, 11.14it/s]\n",
      "  0%|          | 0/704 [00:00<?, ?it/s]"
     ]
    },
    {
     "name": "stdout",
     "output_type": "stream",
     "text": [
      "\n",
      "Epoch: 477\n"
     ]
    },
    {
     "name": "stderr",
     "output_type": "stream",
     "text": [
      "Acc: 80.084%: 100%|██████████| 704/704 [01:06<00:00, 13.17it/s]\n",
      "  0%|          | 0/704 [00:00<?, ?it/s]"
     ]
    },
    {
     "name": "stdout",
     "output_type": "stream",
     "text": [
      "\n",
      "Epoch: 478\n"
     ]
    },
    {
     "name": "stderr",
     "output_type": "stream",
     "text": [
      "Acc: 80.119%: 100%|██████████| 704/704 [01:18<00:00,  9.01it/s]\n",
      "  0%|          | 0/704 [00:00<?, ?it/s]"
     ]
    },
    {
     "name": "stdout",
     "output_type": "stream",
     "text": [
      "\n",
      "Epoch: 479\n"
     ]
    },
    {
     "name": "stderr",
     "output_type": "stream",
     "text": [
      "Acc: 80.171%: 100%|██████████| 704/704 [01:24<00:00, 10.06it/s]\n",
      "  0%|          | 0/704 [00:00<?, ?it/s]"
     ]
    },
    {
     "name": "stdout",
     "output_type": "stream",
     "text": [
      "\n",
      "Epoch: 480\n"
     ]
    },
    {
     "name": "stderr",
     "output_type": "stream",
     "text": [
      "Acc: 80.182%: 100%|██████████| 704/704 [01:37<00:00,  7.21it/s]  \n",
      "Acc: 77.557%: 100%|██████████| 900/900 [01:15<00:00, 11.91it/s]\n",
      "  0%|          | 0/704 [00:00<?, ?it/s]"
     ]
    },
    {
     "name": "stdout",
     "output_type": "stream",
     "text": [
      "\n",
      "Epoch: 481\n"
     ]
    },
    {
     "name": "stderr",
     "output_type": "stream",
     "text": [
      "Acc: 80.047%: 100%|██████████| 704/704 [01:31<00:00, 10.48it/s]\n",
      "  0%|          | 0/704 [00:00<?, ?it/s]"
     ]
    },
    {
     "name": "stdout",
     "output_type": "stream",
     "text": [
      "\n",
      "Epoch: 482\n"
     ]
    },
    {
     "name": "stderr",
     "output_type": "stream",
     "text": [
      "Acc: 80.174%: 100%|██████████| 704/704 [01:12<00:00,  9.72it/s]\n",
      "  0%|          | 0/704 [00:00<?, ?it/s]"
     ]
    },
    {
     "name": "stdout",
     "output_type": "stream",
     "text": [
      "\n",
      "Epoch: 483\n"
     ]
    },
    {
     "name": "stderr",
     "output_type": "stream",
     "text": [
      "Acc: 80.149%: 100%|██████████| 704/704 [01:07<00:00, 10.54it/s]\n",
      "  0%|          | 0/704 [00:00<?, ?it/s]"
     ]
    },
    {
     "name": "stdout",
     "output_type": "stream",
     "text": [
      "\n",
      "Epoch: 484\n"
     ]
    },
    {
     "name": "stderr",
     "output_type": "stream",
     "text": [
      "Acc: 80.034%: 100%|██████████| 704/704 [01:19<00:00, 10.12it/s]\n",
      "  0%|          | 0/704 [00:00<?, ?it/s]"
     ]
    },
    {
     "name": "stdout",
     "output_type": "stream",
     "text": [
      "\n",
      "Epoch: 485\n"
     ]
    },
    {
     "name": "stderr",
     "output_type": "stream",
     "text": [
      "Acc: 80.018%: 100%|██████████| 704/704 [01:36<00:00, 11.14it/s]\n",
      "  0%|          | 0/704 [00:00<?, ?it/s]"
     ]
    },
    {
     "name": "stdout",
     "output_type": "stream",
     "text": [
      "\n",
      "Epoch: 486\n"
     ]
    },
    {
     "name": "stderr",
     "output_type": "stream",
     "text": [
      "Acc: 80.106%: 100%|██████████| 704/704 [01:14<00:00,  9.39it/s]\n",
      "  0%|          | 0/704 [00:00<?, ?it/s]"
     ]
    },
    {
     "name": "stdout",
     "output_type": "stream",
     "text": [
      "\n",
      "Epoch: 487\n"
     ]
    },
    {
     "name": "stderr",
     "output_type": "stream",
     "text": [
      "Acc: 80.134%: 100%|██████████| 704/704 [01:23<00:00,  8.43it/s]\n",
      "  0%|          | 0/704 [00:00<?, ?it/s]"
     ]
    },
    {
     "name": "stdout",
     "output_type": "stream",
     "text": [
      "\n",
      "Epoch: 488\n"
     ]
    },
    {
     "name": "stderr",
     "output_type": "stream",
     "text": [
      "Acc: 80.202%: 100%|██████████| 704/704 [01:38<00:00, 10.85it/s]\n",
      "  0%|          | 0/704 [00:00<?, ?it/s]"
     ]
    },
    {
     "name": "stdout",
     "output_type": "stream",
     "text": [
      "\n",
      "Epoch: 489\n"
     ]
    },
    {
     "name": "stderr",
     "output_type": "stream",
     "text": [
      "Acc: 80.090%: 100%|██████████| 704/704 [01:15<00:00,  9.30it/s]\n",
      "  0%|          | 0/704 [00:00<?, ?it/s]"
     ]
    },
    {
     "name": "stdout",
     "output_type": "stream",
     "text": [
      "\n",
      "Epoch: 490\n"
     ]
    },
    {
     "name": "stderr",
     "output_type": "stream",
     "text": [
      "Acc: 79.952%: 100%|██████████| 704/704 [01:31<00:00,  7.73it/s]\n",
      "Acc: 77.474%: 100%|██████████| 900/900 [01:30<00:00,  9.97it/s]\n",
      "  0%|          | 0/704 [00:00<?, ?it/s]"
     ]
    },
    {
     "name": "stdout",
     "output_type": "stream",
     "text": [
      "\n",
      "Epoch: 491\n"
     ]
    },
    {
     "name": "stderr",
     "output_type": "stream",
     "text": [
      "Acc: 80.024%: 100%|██████████| 704/704 [01:22<00:00,  8.55it/s]\n",
      "  0%|          | 0/704 [00:00<?, ?it/s]"
     ]
    },
    {
     "name": "stdout",
     "output_type": "stream",
     "text": [
      "\n",
      "Epoch: 492\n"
     ]
    },
    {
     "name": "stderr",
     "output_type": "stream",
     "text": [
      "Acc: 80.021%: 100%|██████████| 704/704 [01:05<00:00, 10.73it/s]\n",
      "  0%|          | 0/704 [00:00<?, ?it/s]"
     ]
    },
    {
     "name": "stdout",
     "output_type": "stream",
     "text": [
      "\n",
      "Epoch: 493\n"
     ]
    },
    {
     "name": "stderr",
     "output_type": "stream",
     "text": [
      "Acc: 80.011%: 100%|██████████| 704/704 [01:08<00:00, 13.05it/s]\n",
      "  0%|          | 0/704 [00:00<?, ?it/s]"
     ]
    },
    {
     "name": "stdout",
     "output_type": "stream",
     "text": [
      "\n",
      "Epoch: 494\n"
     ]
    },
    {
     "name": "stderr",
     "output_type": "stream",
     "text": [
      "Acc: 80.169%: 100%|██████████| 704/704 [01:26<00:00,  8.14it/s]\n",
      "  0%|          | 0/704 [00:00<?, ?it/s]"
     ]
    },
    {
     "name": "stdout",
     "output_type": "stream",
     "text": [
      "\n",
      "Epoch: 495\n"
     ]
    },
    {
     "name": "stderr",
     "output_type": "stream",
     "text": [
      "Acc: 80.038%: 100%|██████████| 704/704 [01:30<00:00,  7.77it/s]\n",
      "  0%|          | 0/704 [00:00<?, ?it/s]"
     ]
    },
    {
     "name": "stdout",
     "output_type": "stream",
     "text": [
      "\n",
      "Epoch: 496\n"
     ]
    },
    {
     "name": "stderr",
     "output_type": "stream",
     "text": [
      "Acc: 80.212%: 100%|██████████| 704/704 [01:26<00:00, 11.75it/s]\n",
      "  0%|          | 0/704 [00:00<?, ?it/s]"
     ]
    },
    {
     "name": "stdout",
     "output_type": "stream",
     "text": [
      "\n",
      "Epoch: 497\n"
     ]
    },
    {
     "name": "stderr",
     "output_type": "stream",
     "text": [
      "Acc: 80.252%: 100%|██████████| 704/704 [01:11<00:00,  9.79it/s]\n",
      "  0%|          | 0/704 [00:00<?, ?it/s]"
     ]
    },
    {
     "name": "stdout",
     "output_type": "stream",
     "text": [
      "\n",
      "Epoch: 498\n"
     ]
    },
    {
     "name": "stderr",
     "output_type": "stream",
     "text": [
      "Acc: 80.189%: 100%|██████████| 704/704 [01:30<00:00,  7.77it/s]\n",
      "  0%|          | 0/704 [00:00<?, ?it/s]"
     ]
    },
    {
     "name": "stdout",
     "output_type": "stream",
     "text": [
      "\n",
      "Epoch: 499\n"
     ]
    },
    {
     "name": "stderr",
     "output_type": "stream",
     "text": [
      "Acc: 80.233%: 100%|██████████| 704/704 [01:25<00:00,  8.23it/s]\n"
     ]
    }
   ],
   "source": [
    "'''Train CINIC10 with PyTorch.'''\n",
    "from __future__ import print_function\n",
    "\n",
    "import torch\n",
    "import torch.nn as nn\n",
    "import torch.optim as optim\n",
    "import torch.nn.functional as F\n",
    "import torch.backends.cudnn as cudnn\n",
    "\n",
    "import torchvision\n",
    "import torchvision.transforms as transforms\n",
    "\n",
    "import os\n",
    "import argparse\n",
    "\n",
    "from models import *\n",
    "\n",
    "device = 'cuda' if torch.cuda.is_available() else 'cpu'\n",
    "best_acc = 0  # best test accuracy\n",
    "start_epoch = 0  # start from epoch 0 or last checkpoint epoch\n",
    "\n",
    "# Data\n",
    "print('==> Preparing data..')\n",
    "transform_train = transforms.Compose([\n",
    "    transforms.RandomCrop(32, padding=4),\n",
    "    transforms.RandomHorizontalFlip(),\n",
    "    transforms.ToTensor(),\n",
    "    transforms.Normalize(mean=[0.47889522, 0.47227842, 0.43047404],  std=[0.24205776, 0.23828046, 0.25874835]),\n",
    "])\n",
    "\n",
    "transform_test = transforms.Compose([\n",
    "    transforms.ToTensor(),\n",
    "    transforms.Normalize(mean=[0.47889522, 0.47227842, 0.43047404],  std=[0.24205776, 0.23828046, 0.25874835]),\n",
    "])\n",
    "\n",
    "trainset = torchvision.datasets.ImageFolder(root='/tmp/work/data/CINIC-10/train/', transform=transform_train)\n",
    "trainloader = torch.utils.data.DataLoader(trainset, batch_size=128, shuffle=True, num_workers=2)\n",
    "\n",
    "testset = torchvision.datasets.ImageFolder(root='/tmp/work/data/CINIC-10/valid/', transform=transform_test)\n",
    "testloader = torch.utils.data.DataLoader(testset, batch_size=100, shuffle=False, num_workers=2)\n",
    "\n",
    "classes = ('plane', 'car', 'bird', 'cat', 'deer', 'dog', 'frog', 'horse', 'ship', 'truck')\n",
    "\n",
    "# Model\n",
    "print('==> Building model..')\n",
    "# net = VGG('VGG19')\n",
    "# net = ResNet18()\n",
    "# net = PreActResNet18()\n",
    "# net = GoogLeNet()\n",
    "# net = DenseNet121()\n",
    "# net = ResNeXt29_2x64d()\n",
    "# net = MobileNet()\n",
    "net = MobileNetV2()\n",
    "# net = DPN92()\n",
    "# net = ShuffleNetG2()\n",
    "# net = SENet18()\n",
    "# net = ShuffleNetV2(1)\n",
    "net = net.to(device)\n",
    "if device == 'cuda':\n",
    "    net = torch.nn.DataParallel(net)\n",
    "    cudnn.benchmark = True\n",
    "\n",
    "# Load checkpoint.\n",
    "print('==> Resuming from checkpoint..')\n",
    "checkpoint = torch.load('/tmp/work/checkpoint/ckpt.cinic10.0.t7')#'/tmp/work/checkpoint/ckpt.cifar10.t7')\n",
    "net.load_state_dict(checkpoint['net'])\n",
    "#start_epoch = checkpoint['epoch']\n",
    "    \n",
    "criterion = nn.CrossEntropyLoss()\n",
    "optimizer = optim.SGD(net.parameters(), lr=0.1, momentum=0.9, weight_decay=5e-4)\n",
    "scheduler = optim.lr_scheduler.MultiStepLR(optimizer, milestones=[50, 150, 300], gamma=0.1)\n",
    "\n",
    "# Training\n",
    "def train(epoch):\n",
    "    print('\\nEpoch: %d' % epoch)\n",
    "    net.train()\n",
    "    train_loss = 0\n",
    "    correct = 0\n",
    "    total = 0\n",
    "    with tqdm(total=len(trainloader)) as pbar:\n",
    "        for batch_idx, (inputs, targets) in enumerate(trainloader):\n",
    "            inputs, targets = inputs.to(device), targets.to(device)\n",
    "            optimizer.zero_grad()\n",
    "            outputs = net(inputs)\n",
    "            loss = criterion(outputs, targets)\n",
    "            loss.backward()\n",
    "            optimizer.step()\n",
    "\n",
    "            train_loss += loss.item()\n",
    "            _, predicted = outputs.max(1)\n",
    "            total += targets.size(0)\n",
    "            correct += predicted.eq(targets).sum().item()\n",
    "\n",
    "            pbar.set_description('Acc: %.3f%%' % (100.*correct/total))\n",
    "            pbar.update(1)\n",
    "\n",
    "def test(epoch):\n",
    "    global best_acc\n",
    "    net.eval()\n",
    "    test_loss = 0\n",
    "    correct = 0\n",
    "    total = 0\n",
    "    with tqdm(total=len(testloader)) as pbar:\n",
    "        with torch.no_grad():\n",
    "            for batch_idx, (inputs, targets) in enumerate(testloader):\n",
    "                inputs, targets = inputs.to(device), targets.to(device)\n",
    "                outputs = net(inputs)\n",
    "                loss = criterion(outputs, targets)\n",
    "\n",
    "                test_loss += loss.item()\n",
    "                _, predicted = outputs.max(1)\n",
    "                total += targets.size(0)\n",
    "                correct += predicted.eq(targets).sum().item()\n",
    "\n",
    "                pbar.set_description('Acc: %.3f%%' % (100.*correct/total))\n",
    "                pbar.update(1)\n",
    "\n",
    "    # Save checkpoint.\n",
    "    acc = 100.*correct/total\n",
    "    if acc > best_acc:\n",
    "        print('Saving..')\n",
    "        state = {\n",
    "            'net': net.state_dict(),\n",
    "            'acc': acc,\n",
    "            'epoch': epoch,\n",
    "        }\n",
    "        if not os.path.isdir('/tmp/work/checkpoint'):\n",
    "            os.mkdir('/tmp/work/checkpoint')\n",
    "        torch.save(state, '/tmp/work/checkpoint/ckpt.cinic10.0.t7')\n",
    "        best_acc = acc\n",
    "\n",
    "\n",
    "for epoch in range(start_epoch, 501):\n",
    "    scheduler.step()\n",
    "    train(epoch)\n",
    "    if epoch % 10 == 0:\n",
    "        test(epoch)"
   ]
  },
  {
   "cell_type": "markdown",
   "metadata": {},
   "source": [
    "## Train on full CINIC-10\n",
    "\n",
    "- train: train set + valid set\n",
    "- valid: test set"
   ]
  },
  {
   "cell_type": "code",
   "execution_count": null,
   "metadata": {
    "scrolled": true
   },
   "outputs": [
    {
     "name": "stdout",
     "output_type": "stream",
     "text": [
      "==> Preparing data..\n",
      "==> Building model..\n"
     ]
    },
    {
     "name": "stderr",
     "output_type": "stream",
     "text": [
      "\r",
      "  0%|          | 0/1408 [00:00<?, ?it/s]"
     ]
    },
    {
     "name": "stdout",
     "output_type": "stream",
     "text": [
      "==> Resuming from checkpoint..\n",
      "\n",
      "Epoch: 0\n"
     ]
    },
    {
     "name": "stderr",
     "output_type": "stream",
     "text": [
      "Acc: 67.576%: 100%|██████████| 1408/1408 [02:51<00:00, 10.94it/s] \n",
      "Acc: 66.950%: 100%|██████████| 900/900 [01:10<00:00, 12.67it/s]\n",
      "  0%|          | 0/1408 [00:00<?, ?it/s]"
     ]
    },
    {
     "name": "stdout",
     "output_type": "stream",
     "text": [
      "Saving..\n",
      "\n",
      "Epoch: 1\n"
     ]
    },
    {
     "name": "stderr",
     "output_type": "stream",
     "text": [
      "Acc: 69.979%: 100%|██████████| 1408/1408 [02:23<00:00, 10.82it/s]\n",
      "  0%|          | 0/1408 [00:00<?, ?it/s]"
     ]
    },
    {
     "name": "stdout",
     "output_type": "stream",
     "text": [
      "\n",
      "Epoch: 2\n"
     ]
    },
    {
     "name": "stderr",
     "output_type": "stream",
     "text": [
      "Acc: 70.535%: 100%|██████████| 1408/1408 [02:25<00:00,  9.71it/s]\n",
      "  0%|          | 0/1408 [00:00<?, ?it/s]"
     ]
    },
    {
     "name": "stdout",
     "output_type": "stream",
     "text": [
      "\n",
      "Epoch: 3\n"
     ]
    },
    {
     "name": "stderr",
     "output_type": "stream",
     "text": [
      "Acc: 71.098%: 100%|██████████| 1408/1408 [02:50<00:00, 12.18it/s]\n",
      "  0%|          | 0/1408 [00:00<?, ?it/s]"
     ]
    },
    {
     "name": "stdout",
     "output_type": "stream",
     "text": [
      "\n",
      "Epoch: 4\n"
     ]
    },
    {
     "name": "stderr",
     "output_type": "stream",
     "text": [
      "Acc: 71.428%: 100%|██████████| 1408/1408 [02:33<00:00,  9.20it/s]\n",
      "  0%|          | 0/1408 [00:00<?, ?it/s]"
     ]
    },
    {
     "name": "stdout",
     "output_type": "stream",
     "text": [
      "\n",
      "Epoch: 5\n"
     ]
    },
    {
     "name": "stderr",
     "output_type": "stream",
     "text": [
      "Acc: 71.434%: 100%|██████████| 1408/1408 [02:36<00:00,  9.02it/s] \n",
      "  0%|          | 0/1408 [00:00<?, ?it/s]"
     ]
    },
    {
     "name": "stdout",
     "output_type": "stream",
     "text": [
      "\n",
      "Epoch: 6\n"
     ]
    },
    {
     "name": "stderr",
     "output_type": "stream",
     "text": [
      "Acc: 71.604%: 100%|██████████| 1408/1408 [02:37<00:00, 11.69it/s]\n",
      "  0%|          | 0/1408 [00:00<?, ?it/s]"
     ]
    },
    {
     "name": "stdout",
     "output_type": "stream",
     "text": [
      "\n",
      "Epoch: 7\n"
     ]
    },
    {
     "name": "stderr",
     "output_type": "stream",
     "text": [
      "Acc: 71.893%: 100%|██████████| 1408/1408 [02:34<00:00, 11.95it/s]\n",
      "  0%|          | 0/1408 [00:00<?, ?it/s]"
     ]
    },
    {
     "name": "stdout",
     "output_type": "stream",
     "text": [
      "\n",
      "Epoch: 8\n"
     ]
    },
    {
     "name": "stderr",
     "output_type": "stream",
     "text": [
      "Acc: 71.773%: 100%|██████████| 1408/1408 [02:44<00:00,  8.55it/s]\n",
      "  0%|          | 0/1408 [00:00<?, ?it/s]"
     ]
    },
    {
     "name": "stdout",
     "output_type": "stream",
     "text": [
      "\n",
      "Epoch: 9\n"
     ]
    },
    {
     "name": "stderr",
     "output_type": "stream",
     "text": [
      "Acc: 72.112%: 100%|██████████| 1408/1408 [02:26<00:00,  9.61it/s]\n",
      "  0%|          | 0/1408 [00:00<?, ?it/s]"
     ]
    },
    {
     "name": "stdout",
     "output_type": "stream",
     "text": [
      "\n",
      "Epoch: 10\n"
     ]
    },
    {
     "name": "stderr",
     "output_type": "stream",
     "text": [
      "Acc: 72.101%: 100%|██████████| 1408/1408 [02:51<00:00,  8.22it/s]\n",
      "Acc: 72.102%: 100%|██████████| 900/900 [01:08<00:00, 13.18it/s]\n",
      "  0%|          | 0/1408 [00:00<?, ?it/s]"
     ]
    },
    {
     "name": "stdout",
     "output_type": "stream",
     "text": [
      "Saving..\n",
      "\n",
      "Epoch: 11\n"
     ]
    },
    {
     "name": "stderr",
     "output_type": "stream",
     "text": [
      "Acc: 72.244%: 100%|██████████| 1408/1408 [02:24<00:00,  9.71it/s]\n",
      "  0%|          | 0/1408 [00:00<?, ?it/s]"
     ]
    },
    {
     "name": "stdout",
     "output_type": "stream",
     "text": [
      "\n",
      "Epoch: 12\n"
     ]
    },
    {
     "name": "stderr",
     "output_type": "stream",
     "text": [
      "Acc: 72.099%: 100%|██████████| 1408/1408 [02:48<00:00, 10.81it/s] \n",
      "  0%|          | 0/1408 [00:00<?, ?it/s]"
     ]
    },
    {
     "name": "stdout",
     "output_type": "stream",
     "text": [
      "\n",
      "Epoch: 13\n"
     ]
    },
    {
     "name": "stderr",
     "output_type": "stream",
     "text": [
      "Acc: 72.244%: 100%|██████████| 1408/1408 [02:54<00:00,  8.07it/s]\n",
      "  0%|          | 0/1408 [00:00<?, ?it/s]"
     ]
    },
    {
     "name": "stdout",
     "output_type": "stream",
     "text": [
      "\n",
      "Epoch: 14\n"
     ]
    },
    {
     "name": "stderr",
     "output_type": "stream",
     "text": [
      "Acc: 72.352%: 100%|██████████| 1408/1408 [02:38<00:00,  8.88it/s]\n",
      "  0%|          | 0/1408 [00:00<?, ?it/s]"
     ]
    },
    {
     "name": "stdout",
     "output_type": "stream",
     "text": [
      "\n",
      "Epoch: 15\n"
     ]
    },
    {
     "name": "stderr",
     "output_type": "stream",
     "text": [
      "Acc: 72.502%: 100%|██████████| 1408/1408 [02:33<00:00, 11.39it/s]\n",
      "  0%|          | 0/1408 [00:00<?, ?it/s]"
     ]
    },
    {
     "name": "stdout",
     "output_type": "stream",
     "text": [
      "\n",
      "Epoch: 16\n"
     ]
    },
    {
     "name": "stderr",
     "output_type": "stream",
     "text": [
      "Acc: 72.387%: 100%|██████████| 1408/1408 [02:47<00:00, 11.29it/s]\n",
      "  0%|          | 0/1408 [00:00<?, ?it/s]"
     ]
    },
    {
     "name": "stdout",
     "output_type": "stream",
     "text": [
      "\n",
      "Epoch: 17\n"
     ]
    },
    {
     "name": "stderr",
     "output_type": "stream",
     "text": [
      "Acc: 72.330%: 100%|██████████| 1408/1408 [02:24<00:00,  9.72it/s]\n",
      "  0%|          | 0/1408 [00:00<?, ?it/s]"
     ]
    },
    {
     "name": "stdout",
     "output_type": "stream",
     "text": [
      "\n",
      "Epoch: 18\n"
     ]
    },
    {
     "name": "stderr",
     "output_type": "stream",
     "text": [
      "Acc: 72.415%: 100%|██████████| 1408/1408 [02:49<00:00, 11.66it/s] \n",
      "  0%|          | 0/1408 [00:00<?, ?it/s]"
     ]
    },
    {
     "name": "stdout",
     "output_type": "stream",
     "text": [
      "\n",
      "Epoch: 19\n"
     ]
    },
    {
     "name": "stderr",
     "output_type": "stream",
     "text": [
      "Acc: 72.451%: 100%|██████████| 1408/1408 [02:32<00:00,  9.23it/s]\n",
      "  0%|          | 0/1408 [00:00<?, ?it/s]"
     ]
    },
    {
     "name": "stdout",
     "output_type": "stream",
     "text": [
      "\n",
      "Epoch: 20\n"
     ]
    },
    {
     "name": "stderr",
     "output_type": "stream",
     "text": [
      "Acc: 72.496%: 100%|██████████| 1408/1408 [02:38<00:00,  8.89it/s]\n",
      "Acc: 71.427%: 100%|██████████| 900/900 [01:10<00:00, 12.72it/s]\n",
      "  0%|          | 0/1408 [00:00<?, ?it/s]"
     ]
    },
    {
     "name": "stdout",
     "output_type": "stream",
     "text": [
      "\n",
      "Epoch: 21\n"
     ]
    },
    {
     "name": "stderr",
     "output_type": "stream",
     "text": [
      "Acc: 72.656%: 100%|██████████| 1408/1408 [02:24<00:00,  9.72it/s]\n",
      "  0%|          | 0/1408 [00:00<?, ?it/s]"
     ]
    },
    {
     "name": "stdout",
     "output_type": "stream",
     "text": [
      "\n",
      "Epoch: 22\n"
     ]
    },
    {
     "name": "stderr",
     "output_type": "stream",
     "text": [
      "Acc: 72.521%: 100%|██████████| 1408/1408 [02:46<00:00, 11.29it/s] \n",
      "  0%|          | 0/1408 [00:00<?, ?it/s]"
     ]
    },
    {
     "name": "stdout",
     "output_type": "stream",
     "text": [
      "\n",
      "Epoch: 23\n"
     ]
    },
    {
     "name": "stderr",
     "output_type": "stream",
     "text": [
      "Acc: 72.628%: 100%|██████████| 1408/1408 [02:51<00:00,  8.22it/s]\n",
      "  0%|          | 0/1408 [00:00<?, ?it/s]"
     ]
    },
    {
     "name": "stdout",
     "output_type": "stream",
     "text": [
      "\n",
      "Epoch: 24\n"
     ]
    },
    {
     "name": "stderr",
     "output_type": "stream",
     "text": [
      "Acc: 72.598%: 100%|██████████| 1408/1408 [02:35<00:00,  9.04it/s]\n",
      "  0%|          | 0/1408 [00:00<?, ?it/s]"
     ]
    },
    {
     "name": "stdout",
     "output_type": "stream",
     "text": [
      "\n",
      "Epoch: 25\n"
     ]
    },
    {
     "name": "stderr",
     "output_type": "stream",
     "text": [
      "Acc: 72.584%: 100%|██████████| 1408/1408 [02:38<00:00,  8.90it/s]\n",
      "  0%|          | 0/1408 [00:00<?, ?it/s]"
     ]
    },
    {
     "name": "stdout",
     "output_type": "stream",
     "text": [
      "\n",
      "Epoch: 26\n"
     ]
    },
    {
     "name": "stderr",
     "output_type": "stream",
     "text": [
      "Acc: 72.606%: 100%|██████████| 1408/1408 [02:50<00:00,  8.28it/s]\n",
      "  0%|          | 0/1408 [00:00<?, ?it/s]"
     ]
    },
    {
     "name": "stdout",
     "output_type": "stream",
     "text": [
      "\n",
      "Epoch: 27\n"
     ]
    },
    {
     "name": "stderr",
     "output_type": "stream",
     "text": [
      "Acc: 72.670%: 100%|██████████| 1408/1408 [02:23<00:00, 11.56it/s]\n",
      "  0%|          | 0/1408 [00:00<?, ?it/s]"
     ]
    },
    {
     "name": "stdout",
     "output_type": "stream",
     "text": [
      "\n",
      "Epoch: 28\n"
     ]
    },
    {
     "name": "stderr",
     "output_type": "stream",
     "text": [
      "Acc: 72.621%: 100%|██████████| 1408/1408 [02:49<00:00,  8.29it/s]\n",
      "  0%|          | 0/1408 [00:00<?, ?it/s]"
     ]
    },
    {
     "name": "stdout",
     "output_type": "stream",
     "text": [
      "\n",
      "Epoch: 29\n"
     ]
    },
    {
     "name": "stderr",
     "output_type": "stream",
     "text": [
      "Acc: 72.697%: 100%|██████████| 1408/1408 [02:36<00:00, 11.15it/s]\n",
      "  0%|          | 0/1408 [00:00<?, ?it/s]"
     ]
    },
    {
     "name": "stdout",
     "output_type": "stream",
     "text": [
      "\n",
      "Epoch: 30\n"
     ]
    },
    {
     "name": "stderr",
     "output_type": "stream",
     "text": [
      "Acc: 72.626%: 100%|██████████| 1408/1408 [02:34<00:00,  9.09it/s]\n",
      "Acc: 69.942%: 100%|██████████| 900/900 [01:10<00:00, 13.64it/s]\n",
      "  0%|          | 0/1408 [00:00<?, ?it/s]"
     ]
    },
    {
     "name": "stdout",
     "output_type": "stream",
     "text": [
      "\n",
      "Epoch: 31\n"
     ]
    },
    {
     "name": "stderr",
     "output_type": "stream",
     "text": [
      "Acc: 72.786%: 100%|██████████| 1408/1408 [02:26<00:00,  9.63it/s]\n",
      "  0%|          | 0/1408 [00:00<?, ?it/s]"
     ]
    },
    {
     "name": "stdout",
     "output_type": "stream",
     "text": [
      "\n",
      "Epoch: 32\n"
     ]
    },
    {
     "name": "stderr",
     "output_type": "stream",
     "text": [
      "Acc: 72.716%: 100%|██████████| 1408/1408 [02:43<00:00,  8.59it/s] \n",
      "  0%|          | 0/1408 [00:00<?, ?it/s]"
     ]
    },
    {
     "name": "stdout",
     "output_type": "stream",
     "text": [
      "\n",
      "Epoch: 33\n"
     ]
    },
    {
     "name": "stderr",
     "output_type": "stream",
     "text": [
      "Acc: 72.783%: 100%|██████████| 1408/1408 [02:45<00:00,  8.52it/s] \n",
      "  0%|          | 0/1408 [00:00<?, ?it/s]"
     ]
    },
    {
     "name": "stdout",
     "output_type": "stream",
     "text": [
      "\n",
      "Epoch: 34\n"
     ]
    },
    {
     "name": "stderr",
     "output_type": "stream",
     "text": [
      "Acc: 72.901%: 100%|██████████| 1408/1408 [02:34<00:00, 11.21it/s]\n",
      "  0%|          | 0/1408 [00:00<?, ?it/s]"
     ]
    },
    {
     "name": "stdout",
     "output_type": "stream",
     "text": [
      "\n",
      "Epoch: 35\n"
     ]
    },
    {
     "name": "stderr",
     "output_type": "stream",
     "text": [
      "Acc: 72.842%: 100%|██████████| 1408/1408 [02:37<00:00,  8.95it/s]\n",
      "  0%|          | 0/1408 [00:00<?, ?it/s]"
     ]
    },
    {
     "name": "stdout",
     "output_type": "stream",
     "text": [
      "\n",
      "Epoch: 36\n"
     ]
    },
    {
     "name": "stderr",
     "output_type": "stream",
     "text": [
      "Acc: 72.901%: 100%|██████████| 1408/1408 [02:38<00:00, 11.04it/s]\n",
      "  0%|          | 0/1408 [00:00<?, ?it/s]"
     ]
    },
    {
     "name": "stdout",
     "output_type": "stream",
     "text": [
      "\n",
      "Epoch: 37\n"
     ]
    },
    {
     "name": "stderr",
     "output_type": "stream",
     "text": [
      "Acc: 72.819%: 100%|██████████| 1408/1408 [02:34<00:00,  9.09it/s] \n",
      "  0%|          | 0/1408 [00:00<?, ?it/s]"
     ]
    },
    {
     "name": "stdout",
     "output_type": "stream",
     "text": [
      "\n",
      "Epoch: 38\n"
     ]
    },
    {
     "name": "stderr",
     "output_type": "stream",
     "text": [
      "Acc: 72.871%: 100%|██████████| 1408/1408 [02:51<00:00, 10.43it/s]\n",
      "  0%|          | 0/1408 [00:00<?, ?it/s]"
     ]
    },
    {
     "name": "stdout",
     "output_type": "stream",
     "text": [
      "\n",
      "Epoch: 39\n"
     ]
    },
    {
     "name": "stderr",
     "output_type": "stream",
     "text": [
      "Acc: 72.797%: 100%|██████████| 1408/1408 [02:26<00:00, 11.24it/s]\n",
      "  0%|          | 0/1408 [00:00<?, ?it/s]"
     ]
    },
    {
     "name": "stdout",
     "output_type": "stream",
     "text": [
      "\n",
      "Epoch: 40\n"
     ]
    },
    {
     "name": "stderr",
     "output_type": "stream",
     "text": [
      "Acc: 72.962%: 100%|██████████| 1408/1408 [02:44<00:00, 12.01it/s]\n",
      "Acc: 71.984%: 100%|██████████| 900/900 [01:11<00:00, 12.61it/s]\n",
      "  0%|          | 0/1408 [00:00<?, ?it/s]"
     ]
    },
    {
     "name": "stdout",
     "output_type": "stream",
     "text": [
      "\n",
      "Epoch: 41\n"
     ]
    },
    {
     "name": "stderr",
     "output_type": "stream",
     "text": [
      "Acc: 72.888%: 100%|██████████| 1408/1408 [02:22<00:00,  9.88it/s]\n",
      "  0%|          | 0/1408 [00:00<?, ?it/s]"
     ]
    },
    {
     "name": "stdout",
     "output_type": "stream",
     "text": [
      "\n",
      "Epoch: 42\n"
     ]
    },
    {
     "name": "stderr",
     "output_type": "stream",
     "text": [
      "Acc: 72.894%: 100%|██████████| 1408/1408 [02:38<00:00,  8.90it/s]\n",
      "  0%|          | 0/1408 [00:00<?, ?it/s]"
     ]
    },
    {
     "name": "stdout",
     "output_type": "stream",
     "text": [
      "\n",
      "Epoch: 43\n"
     ]
    },
    {
     "name": "stderr",
     "output_type": "stream",
     "text": [
      "Acc: 73.034%: 100%|██████████| 1408/1408 [02:44<00:00, 11.52it/s]\n",
      "  0%|          | 0/1408 [00:00<?, ?it/s]"
     ]
    },
    {
     "name": "stdout",
     "output_type": "stream",
     "text": [
      "\n",
      "Epoch: 44\n"
     ]
    },
    {
     "name": "stderr",
     "output_type": "stream",
     "text": [
      "Acc: 73.038%: 100%|██████████| 1408/1408 [02:30<00:00, 11.48it/s]\n",
      "  0%|          | 0/1408 [00:00<?, ?it/s]"
     ]
    },
    {
     "name": "stdout",
     "output_type": "stream",
     "text": [
      "\n",
      "Epoch: 45\n"
     ]
    },
    {
     "name": "stderr",
     "output_type": "stream",
     "text": [
      "Acc: 72.924%: 100%|██████████| 1408/1408 [02:51<00:00, 12.15it/s]\n",
      "  0%|          | 0/1408 [00:00<?, ?it/s]"
     ]
    },
    {
     "name": "stdout",
     "output_type": "stream",
     "text": [
      "\n",
      "Epoch: 46\n"
     ]
    },
    {
     "name": "stderr",
     "output_type": "stream",
     "text": [
      "Acc: 72.936%: 100%|██████████| 1408/1408 [02:28<00:00,  9.47it/s]\n",
      "  0%|          | 0/1408 [00:00<?, ?it/s]"
     ]
    },
    {
     "name": "stdout",
     "output_type": "stream",
     "text": [
      "\n",
      "Epoch: 47\n"
     ]
    },
    {
     "name": "stderr",
     "output_type": "stream",
     "text": [
      "Acc: 72.993%: 100%|██████████| 1408/1408 [02:39<00:00, 12.03it/s]\n",
      "  0%|          | 0/1408 [00:00<?, ?it/s]"
     ]
    },
    {
     "name": "stdout",
     "output_type": "stream",
     "text": [
      "\n",
      "Epoch: 48\n"
     ]
    },
    {
     "name": "stderr",
     "output_type": "stream",
     "text": [
      "Acc: 73.026%: 100%|██████████| 1408/1408 [02:27<00:00,  9.53it/s]\n",
      "  0%|          | 0/1408 [00:00<?, ?it/s]"
     ]
    },
    {
     "name": "stdout",
     "output_type": "stream",
     "text": [
      "\n",
      "Epoch: 49\n"
     ]
    },
    {
     "name": "stderr",
     "output_type": "stream",
     "text": [
      "Acc: 73.059%: 100%|██████████| 1408/1408 [02:38<00:00,  8.88it/s]\n",
      "  0%|          | 0/1408 [00:00<?, ?it/s]"
     ]
    },
    {
     "name": "stdout",
     "output_type": "stream",
     "text": [
      "\n",
      "Epoch: 50\n"
     ]
    },
    {
     "name": "stderr",
     "output_type": "stream",
     "text": [
      "Acc: 73.026%: 100%|██████████| 1408/1408 [02:25<00:00, 11.80it/s]\n",
      "Acc: 71.040%: 100%|██████████| 900/900 [01:05<00:00, 13.67it/s]\n",
      "  0%|          | 0/1408 [00:00<?, ?it/s]"
     ]
    },
    {
     "name": "stdout",
     "output_type": "stream",
     "text": [
      "\n",
      "Epoch: 51\n"
     ]
    },
    {
     "name": "stderr",
     "output_type": "stream",
     "text": [
      "Acc: 73.032%: 100%|██████████| 1408/1408 [02:17<00:00, 10.25it/s]\n",
      "  0%|          | 0/1408 [00:00<?, ?it/s]"
     ]
    },
    {
     "name": "stdout",
     "output_type": "stream",
     "text": [
      "\n",
      "Epoch: 52\n"
     ]
    },
    {
     "name": "stderr",
     "output_type": "stream",
     "text": [
      "Acc: 73.067%: 100%|██████████| 1408/1408 [02:39<00:00, 12.19it/s] \n",
      "  0%|          | 0/1408 [00:00<?, ?it/s]"
     ]
    },
    {
     "name": "stdout",
     "output_type": "stream",
     "text": [
      "\n",
      "Epoch: 53\n"
     ]
    },
    {
     "name": "stderr",
     "output_type": "stream",
     "text": [
      "Acc: 73.077%: 100%|██████████| 1408/1408 [02:46<00:00,  8.43it/s] \n",
      "  0%|          | 0/1408 [00:00<?, ?it/s]"
     ]
    },
    {
     "name": "stdout",
     "output_type": "stream",
     "text": [
      "\n",
      "Epoch: 54\n"
     ]
    },
    {
     "name": "stderr",
     "output_type": "stream",
     "text": [
      "Acc: 73.062%: 100%|██████████| 1408/1408 [02:23<00:00, 12.27it/s]\n",
      "  0%|          | 0/1408 [00:00<?, ?it/s]"
     ]
    },
    {
     "name": "stdout",
     "output_type": "stream",
     "text": [
      "\n",
      "Epoch: 55\n"
     ]
    },
    {
     "name": "stderr",
     "output_type": "stream",
     "text": [
      "Acc: 73.170%: 100%|██████████| 1408/1408 [02:40<00:00,  8.79it/s]\n",
      "  0%|          | 0/1408 [00:00<?, ?it/s]"
     ]
    },
    {
     "name": "stdout",
     "output_type": "stream",
     "text": [
      "\n",
      "Epoch: 56\n"
     ]
    },
    {
     "name": "stderr",
     "output_type": "stream",
     "text": [
      "Acc: 73.114%: 100%|██████████| 1408/1408 [02:15<00:00, 10.36it/s]\n",
      "  0%|          | 0/1408 [00:00<?, ?it/s]"
     ]
    },
    {
     "name": "stdout",
     "output_type": "stream",
     "text": [
      "\n",
      "Epoch: 57\n"
     ]
    },
    {
     "name": "stderr",
     "output_type": "stream",
     "text": [
      "Acc: 73.042%: 100%|██████████| 1408/1408 [02:45<00:00, 11.01it/s]\n",
      "  0%|          | 0/1408 [00:00<?, ?it/s]"
     ]
    },
    {
     "name": "stdout",
     "output_type": "stream",
     "text": [
      "\n",
      "Epoch: 58\n"
     ]
    },
    {
     "name": "stderr",
     "output_type": "stream",
     "text": [
      "Acc: 73.094%: 100%|██████████| 1408/1408 [02:20<00:00, 10.02it/s]\n",
      "  0%|          | 0/1408 [00:00<?, ?it/s]"
     ]
    },
    {
     "name": "stdout",
     "output_type": "stream",
     "text": [
      "\n",
      "Epoch: 59\n"
     ]
    },
    {
     "name": "stderr",
     "output_type": "stream",
     "text": [
      "Acc: 73.101%: 100%|██████████| 1408/1408 [02:43<00:00,  8.61it/s]\n",
      "  0%|          | 0/1408 [00:00<?, ?it/s]"
     ]
    },
    {
     "name": "stdout",
     "output_type": "stream",
     "text": [
      "\n",
      "Epoch: 60\n"
     ]
    },
    {
     "name": "stderr",
     "output_type": "stream",
     "text": [
      "Acc: 71.944%: 100%|██████████| 900/900 [01:05<00:00, 13.65it/s]s]\n",
      "  0%|          | 0/1408 [00:00<?, ?it/s]"
     ]
    },
    {
     "name": "stdout",
     "output_type": "stream",
     "text": [
      "\n",
      "Epoch: 61\n"
     ]
    },
    {
     "name": "stderr",
     "output_type": "stream",
     "text": [
      "Acc: 73.125%: 100%|██████████| 1408/1408 [02:20<00:00,  9.99it/s]\n",
      "  0%|          | 0/1408 [00:00<?, ?it/s]"
     ]
    },
    {
     "name": "stdout",
     "output_type": "stream",
     "text": [
      "\n",
      "Epoch: 62\n"
     ]
    },
    {
     "name": "stderr",
     "output_type": "stream",
     "text": [
      "Acc: 73.257%: 100%|██████████| 1408/1408 [02:48<00:00,  8.36it/s] \n",
      "  0%|          | 0/1408 [00:00<?, ?it/s]"
     ]
    },
    {
     "name": "stdout",
     "output_type": "stream",
     "text": [
      "\n",
      "Epoch: 63\n"
     ]
    },
    {
     "name": "stderr",
     "output_type": "stream",
     "text": [
      "Acc: 73.123%: 100%|██████████| 1408/1408 [02:51<00:00,  8.23it/s]\n",
      "  0%|          | 0/1408 [00:00<?, ?it/s]"
     ]
    },
    {
     "name": "stdout",
     "output_type": "stream",
     "text": [
      "\n",
      "Epoch: 64\n"
     ]
    },
    {
     "name": "stderr",
     "output_type": "stream",
     "text": [
      "Acc: 73.217%: 100%|██████████| 1408/1408 [02:25<00:00, 11.84it/s]\n",
      "  0%|          | 0/1408 [00:00<?, ?it/s]"
     ]
    },
    {
     "name": "stdout",
     "output_type": "stream",
     "text": [
      "\n",
      "Epoch: 65\n"
     ]
    },
    {
     "name": "stderr",
     "output_type": "stream",
     "text": [
      "Acc: 73.172%: 100%|██████████| 1408/1408 [02:40<00:00, 11.65it/s]\n",
      "  0%|          | 0/1408 [00:00<?, ?it/s]"
     ]
    },
    {
     "name": "stdout",
     "output_type": "stream",
     "text": [
      "\n",
      "Epoch: 66\n"
     ]
    },
    {
     "name": "stderr",
     "output_type": "stream",
     "text": [
      "Acc: 73.222%: 100%|██████████| 1408/1408 [02:20<00:00, 11.56it/s]\n",
      "  0%|          | 0/1408 [00:00<?, ?it/s]"
     ]
    },
    {
     "name": "stdout",
     "output_type": "stream",
     "text": [
      "\n",
      "Epoch: 67\n"
     ]
    },
    {
     "name": "stderr",
     "output_type": "stream",
     "text": [
      "Acc: 73.182%: 100%|██████████| 1408/1408 [02:43<00:00, 10.75it/s]\n",
      "  0%|          | 0/1408 [00:00<?, ?it/s]"
     ]
    },
    {
     "name": "stdout",
     "output_type": "stream",
     "text": [
      "\n",
      "Epoch: 68\n"
     ]
    },
    {
     "name": "stderr",
     "output_type": "stream",
     "text": [
      "Acc: 73.221%: 100%|██████████| 1408/1408 [02:16<00:00, 12.00it/s]\n",
      "  0%|          | 0/1408 [00:00<?, ?it/s]"
     ]
    },
    {
     "name": "stdout",
     "output_type": "stream",
     "text": [
      "\n",
      "Epoch: 69\n"
     ]
    },
    {
     "name": "stderr",
     "output_type": "stream",
     "text": [
      "Acc: 73.189%: 100%|██████████| 1408/1408 [02:42<00:00, 11.58it/s]\n",
      "  0%|          | 0/1408 [00:00<?, ?it/s]"
     ]
    },
    {
     "name": "stdout",
     "output_type": "stream",
     "text": [
      "\n",
      "Epoch: 70\n"
     ]
    },
    {
     "name": "stderr",
     "output_type": "stream",
     "text": [
      "Acc: 73.126%: 100%|██████████| 1408/1408 [02:31<00:00, 11.32it/s]\n",
      "Acc: 71.342%: 100%|██████████| 900/900 [01:12<00:00, 12.48it/s]\n",
      "  0%|          | 0/1408 [00:00<?, ?it/s]"
     ]
    },
    {
     "name": "stdout",
     "output_type": "stream",
     "text": [
      "\n",
      "Epoch: 71\n"
     ]
    },
    {
     "name": "stderr",
     "output_type": "stream",
     "text": [
      "Acc: 73.254%: 100%|██████████| 1408/1408 [02:36<00:00,  8.99it/s]\n",
      "  0%|          | 0/1408 [00:00<?, ?it/s]"
     ]
    },
    {
     "name": "stdout",
     "output_type": "stream",
     "text": [
      "\n",
      "Epoch: 72\n"
     ]
    },
    {
     "name": "stderr",
     "output_type": "stream",
     "text": [
      "Acc: 73.206%: 100%|██████████| 1408/1408 [02:23<00:00,  9.80it/s]\n",
      "  0%|          | 0/1408 [00:00<?, ?it/s]"
     ]
    },
    {
     "name": "stdout",
     "output_type": "stream",
     "text": [
      "\n",
      "Epoch: 73\n"
     ]
    },
    {
     "name": "stderr",
     "output_type": "stream",
     "text": [
      "Acc: 73.159%: 100%|██████████| 1408/1408 [02:45<00:00, 12.15it/s] \n",
      "  0%|          | 0/1408 [00:00<?, ?it/s]"
     ]
    },
    {
     "name": "stdout",
     "output_type": "stream",
     "text": [
      "\n",
      "Epoch: 74\n"
     ]
    },
    {
     "name": "stderr",
     "output_type": "stream",
     "text": [
      "Acc: 73.103%: 100%|██████████| 1408/1408 [02:29<00:00,  9.43it/s]\n",
      "  0%|          | 0/1408 [00:00<?, ?it/s]"
     ]
    },
    {
     "name": "stdout",
     "output_type": "stream",
     "text": [
      "\n",
      "Epoch: 75\n"
     ]
    },
    {
     "name": "stderr",
     "output_type": "stream",
     "text": [
      "Acc: 73.116%: 100%|██████████| 1408/1408 [02:37<00:00,  8.97it/s]\n",
      "  0%|          | 0/1408 [00:00<?, ?it/s]"
     ]
    },
    {
     "name": "stdout",
     "output_type": "stream",
     "text": [
      "\n",
      "Epoch: 76\n"
     ]
    },
    {
     "name": "stderr",
     "output_type": "stream",
     "text": [
      "Acc: 73.222%: 100%|██████████| 1408/1408 [02:25<00:00,  9.68it/s]\n",
      "  0%|          | 0/1408 [00:00<?, ?it/s]"
     ]
    },
    {
     "name": "stdout",
     "output_type": "stream",
     "text": [
      "\n",
      "Epoch: 77\n"
     ]
    },
    {
     "name": "stderr",
     "output_type": "stream",
     "text": [
      "Acc: 73.243%: 100%|██████████| 1408/1408 [02:37<00:00,  8.91it/s] \n",
      "  0%|          | 0/1408 [00:00<?, ?it/s]"
     ]
    },
    {
     "name": "stdout",
     "output_type": "stream",
     "text": [
      "\n",
      "Epoch: 78\n"
     ]
    },
    {
     "name": "stderr",
     "output_type": "stream",
     "text": [
      "Acc: 73.316%: 100%|██████████| 1408/1408 [02:16<00:00, 10.31it/s]\n",
      "  0%|          | 0/1408 [00:00<?, ?it/s]"
     ]
    },
    {
     "name": "stdout",
     "output_type": "stream",
     "text": [
      "\n",
      "Epoch: 79\n"
     ]
    },
    {
     "name": "stderr",
     "output_type": "stream",
     "text": [
      "Acc: 73.303%: 100%|██████████| 1408/1408 [02:46<00:00,  8.48it/s]\n",
      "  0%|          | 0/1408 [00:00<?, ?it/s]"
     ]
    },
    {
     "name": "stdout",
     "output_type": "stream",
     "text": [
      "\n",
      "Epoch: 80\n"
     ]
    },
    {
     "name": "stderr",
     "output_type": "stream",
     "text": [
      "Acc: 73.268%: 100%|██████████| 1408/1408 [02:18<00:00, 12.13it/s]\n",
      "Acc: 70.023%: 100%|██████████| 900/900 [01:07<00:00, 13.41it/s]\n",
      "  0%|          | 0/1408 [00:00<?, ?it/s]"
     ]
    },
    {
     "name": "stdout",
     "output_type": "stream",
     "text": [
      "\n",
      "Epoch: 81\n"
     ]
    },
    {
     "name": "stderr",
     "output_type": "stream",
     "text": [
      "Acc: 73.359%: 100%|██████████| 1408/1408 [02:18<00:00, 10.20it/s]\n",
      "  0%|          | 0/1408 [00:00<?, ?it/s]"
     ]
    },
    {
     "name": "stdout",
     "output_type": "stream",
     "text": [
      "\n",
      "Epoch: 82\n"
     ]
    },
    {
     "name": "stderr",
     "output_type": "stream",
     "text": [
      "Acc: 73.293%: 100%|██████████| 1408/1408 [02:41<00:00, 11.45it/s] \n",
      "  0%|          | 0/1408 [00:00<?, ?it/s]"
     ]
    },
    {
     "name": "stdout",
     "output_type": "stream",
     "text": [
      "\n",
      "Epoch: 83\n"
     ]
    },
    {
     "name": "stderr",
     "output_type": "stream",
     "text": [
      "Acc: 73.223%: 100%|██████████| 1408/1408 [02:43<00:00,  8.63it/s]\n",
      "  0%|          | 0/1408 [00:00<?, ?it/s]"
     ]
    },
    {
     "name": "stdout",
     "output_type": "stream",
     "text": [
      "\n",
      "Epoch: 84\n"
     ]
    },
    {
     "name": "stderr",
     "output_type": "stream",
     "text": [
      "Acc: 73.361%: 100%|██████████| 1408/1408 [02:26<00:00,  9.58it/s]\n",
      "  0%|          | 0/1408 [00:00<?, ?it/s]"
     ]
    },
    {
     "name": "stdout",
     "output_type": "stream",
     "text": [
      "\n",
      "Epoch: 85\n"
     ]
    },
    {
     "name": "stderr",
     "output_type": "stream",
     "text": [
      "Acc: 73.509%: 100%|██████████| 1408/1408 [02:46<00:00, 10.55it/s] \n",
      "  0%|          | 0/1408 [00:00<?, ?it/s]"
     ]
    },
    {
     "name": "stdout",
     "output_type": "stream",
     "text": [
      "\n",
      "Epoch: 86\n"
     ]
    },
    {
     "name": "stderr",
     "output_type": "stream",
     "text": [
      "Acc: 73.344%: 100%|██████████| 1408/1408 [02:22<00:00,  9.85it/s]\n",
      "  0%|          | 0/1408 [00:00<?, ?it/s]"
     ]
    },
    {
     "name": "stdout",
     "output_type": "stream",
     "text": [
      "\n",
      "Epoch: 87\n"
     ]
    },
    {
     "name": "stderr",
     "output_type": "stream",
     "text": [
      "Acc: 73.418%: 100%|██████████| 1408/1408 [02:52<00:00,  8.15it/s]\n",
      "  0%|          | 0/1408 [00:00<?, ?it/s]"
     ]
    },
    {
     "name": "stdout",
     "output_type": "stream",
     "text": [
      "\n",
      "Epoch: 88\n"
     ]
    },
    {
     "name": "stderr",
     "output_type": "stream",
     "text": [
      "Acc: 73.247%: 100%|██████████| 1408/1408 [02:23<00:00,  9.79it/s]\n",
      "  0%|          | 0/1408 [00:00<?, ?it/s]"
     ]
    },
    {
     "name": "stdout",
     "output_type": "stream",
     "text": [
      "\n",
      "Epoch: 89\n"
     ]
    },
    {
     "name": "stderr",
     "output_type": "stream",
     "text": [
      "Acc: 73.392%: 100%|██████████| 1408/1408 [02:41<00:00,  8.72it/s]\n",
      "  0%|          | 0/1408 [00:00<?, ?it/s]"
     ]
    },
    {
     "name": "stdout",
     "output_type": "stream",
     "text": [
      "\n",
      "Epoch: 90\n"
     ]
    },
    {
     "name": "stderr",
     "output_type": "stream",
     "text": [
      "Acc: 73.414%: 100%|██████████| 1408/1408 [02:16<00:00, 10.33it/s]\n",
      "Acc: 71.226%: 100%|██████████| 900/900 [01:05<00:00, 14.65it/s]\n",
      "  0%|          | 0/1408 [00:00<?, ?it/s]"
     ]
    },
    {
     "name": "stdout",
     "output_type": "stream",
     "text": [
      "\n",
      "Epoch: 91\n"
     ]
    },
    {
     "name": "stderr",
     "output_type": "stream",
     "text": [
      "Acc: 73.429%: 100%|██████████| 1408/1408 [02:17<00:00, 12.08it/s]\n",
      "  0%|          | 0/1408 [00:00<?, ?it/s]"
     ]
    },
    {
     "name": "stdout",
     "output_type": "stream",
     "text": [
      "\n",
      "Epoch: 92\n"
     ]
    },
    {
     "name": "stderr",
     "output_type": "stream",
     "text": [
      "Acc: 73.485%: 100%|██████████| 1408/1408 [02:46<00:00, 12.04it/s] \n",
      "  0%|          | 0/1408 [00:00<?, ?it/s]"
     ]
    },
    {
     "name": "stdout",
     "output_type": "stream",
     "text": [
      "\n",
      "Epoch: 93\n"
     ]
    },
    {
     "name": "stderr",
     "output_type": "stream",
     "text": [
      "Acc: 73.351%: 100%|██████████| 1408/1408 [02:48<00:00,  8.34it/s]\n",
      "  0%|          | 0/1408 [00:00<?, ?it/s]"
     ]
    },
    {
     "name": "stdout",
     "output_type": "stream",
     "text": [
      "\n",
      "Epoch: 94\n"
     ]
    },
    {
     "name": "stderr",
     "output_type": "stream",
     "text": [
      "Acc: 73.392%: 100%|██████████| 1408/1408 [02:12<00:00, 12.83it/s]\n",
      "  0%|          | 0/1408 [00:00<?, ?it/s]"
     ]
    },
    {
     "name": "stdout",
     "output_type": "stream",
     "text": [
      "\n",
      "Epoch: 95\n"
     ]
    },
    {
     "name": "stderr",
     "output_type": "stream",
     "text": [
      "Acc: 73.300%: 100%|██████████| 1408/1408 [02:36<00:00,  8.97it/s]\n",
      "  0%|          | 0/1408 [00:00<?, ?it/s]"
     ]
    },
    {
     "name": "stdout",
     "output_type": "stream",
     "text": [
      "\n",
      "Epoch: 96\n"
     ]
    },
    {
     "name": "stderr",
     "output_type": "stream",
     "text": [
      "Acc: 73.353%: 100%|██████████| 1408/1408 [02:24<00:00,  9.73it/s]\n",
      "  0%|          | 0/1408 [00:00<?, ?it/s]"
     ]
    },
    {
     "name": "stdout",
     "output_type": "stream",
     "text": [
      "\n",
      "Epoch: 97\n"
     ]
    },
    {
     "name": "stderr",
     "output_type": "stream",
     "text": [
      "Acc: 73.308%: 100%|██████████| 1408/1408 [02:21<00:00,  9.93it/s]\n",
      "  0%|          | 0/1408 [00:00<?, ?it/s]"
     ]
    },
    {
     "name": "stdout",
     "output_type": "stream",
     "text": [
      "\n",
      "Epoch: 98\n"
     ]
    },
    {
     "name": "stderr",
     "output_type": "stream",
     "text": [
      "Acc: 73.422%: 100%|██████████| 1408/1408 [02:33<00:00, 11.18it/s] \n",
      "  0%|          | 0/1408 [00:00<?, ?it/s]"
     ]
    },
    {
     "name": "stdout",
     "output_type": "stream",
     "text": [
      "\n",
      "Epoch: 99\n"
     ]
    },
    {
     "name": "stderr",
     "output_type": "stream",
     "text": [
      "Acc: 73.302%: 100%|██████████| 1408/1408 [02:18<00:00, 12.72it/s]\n",
      "  0%|          | 0/1408 [00:00<?, ?it/s]"
     ]
    },
    {
     "name": "stdout",
     "output_type": "stream",
     "text": [
      "\n",
      "Epoch: 100\n"
     ]
    },
    {
     "name": "stderr",
     "output_type": "stream",
     "text": [
      "Acc: 76.787%: 100%|██████████| 1408/1408 [02:34<00:00,  9.10it/s]\n",
      "Acc: 77.253%: 100%|██████████| 900/900 [00:58<00:00, 15.28it/s]\n",
      "  0%|          | 0/1408 [00:00<?, ?it/s]"
     ]
    },
    {
     "name": "stdout",
     "output_type": "stream",
     "text": [
      "Saving..\n",
      "\n",
      "Epoch: 101\n"
     ]
    },
    {
     "name": "stderr",
     "output_type": "stream",
     "text": [
      "Acc: 77.482%: 100%|██████████| 1408/1408 [02:13<00:00, 10.58it/s]\n",
      "  0%|          | 0/1408 [00:00<?, ?it/s]"
     ]
    },
    {
     "name": "stdout",
     "output_type": "stream",
     "text": [
      "\n",
      "Epoch: 102\n"
     ]
    },
    {
     "name": "stderr",
     "output_type": "stream",
     "text": [
      "Acc: 77.552%: 100%|██████████| 1408/1408 [02:33<00:00,  9.20it/s] \n",
      "  0%|          | 0/1408 [00:00<?, ?it/s]"
     ]
    },
    {
     "name": "stdout",
     "output_type": "stream",
     "text": [
      "\n",
      "Epoch: 103\n"
     ]
    },
    {
     "name": "stderr",
     "output_type": "stream",
     "text": [
      "Acc: 77.764%: 100%|██████████| 1408/1408 [02:47<00:00,  8.40it/s] \n",
      "  0%|          | 0/1408 [00:00<?, ?it/s]"
     ]
    },
    {
     "name": "stdout",
     "output_type": "stream",
     "text": [
      "\n",
      "Epoch: 104\n"
     ]
    },
    {
     "name": "stderr",
     "output_type": "stream",
     "text": [
      "Acc: 77.794%: 100%|██████████| 1408/1408 [02:12<00:00, 12.73it/s]\n",
      "  0%|          | 0/1408 [00:00<?, ?it/s]"
     ]
    },
    {
     "name": "stdout",
     "output_type": "stream",
     "text": [
      "\n",
      "Epoch: 105\n"
     ]
    },
    {
     "name": "stderr",
     "output_type": "stream",
     "text": [
      "Acc: 77.736%: 100%|██████████| 1408/1408 [02:36<00:00,  8.97it/s]\n",
      "  0%|          | 0/1408 [00:00<?, ?it/s]"
     ]
    },
    {
     "name": "stdout",
     "output_type": "stream",
     "text": [
      "\n",
      "Epoch: 106\n"
     ]
    },
    {
     "name": "stderr",
     "output_type": "stream",
     "text": [
      "Acc: 77.771%: 100%|██████████| 1408/1408 [02:24<00:00,  9.71it/s]\n",
      "  0%|          | 0/1408 [00:00<?, ?it/s]"
     ]
    },
    {
     "name": "stdout",
     "output_type": "stream",
     "text": [
      "\n",
      "Epoch: 107\n"
     ]
    },
    {
     "name": "stderr",
     "output_type": "stream",
     "text": [
      "Acc: 77.802%: 100%|██████████| 1408/1408 [02:21<00:00,  9.94it/s]\n",
      "  0%|          | 0/1408 [00:00<?, ?it/s]"
     ]
    },
    {
     "name": "stdout",
     "output_type": "stream",
     "text": [
      "\n",
      "Epoch: 108\n"
     ]
    },
    {
     "name": "stderr",
     "output_type": "stream",
     "text": [
      "Acc: 77.810%: 100%|██████████| 1408/1408 [02:31<00:00,  9.28it/s]\n",
      "  0%|          | 0/1408 [00:00<?, ?it/s]"
     ]
    },
    {
     "name": "stdout",
     "output_type": "stream",
     "text": [
      "\n",
      "Epoch: 109\n"
     ]
    },
    {
     "name": "stderr",
     "output_type": "stream",
     "text": [
      "Acc: 77.668%: 100%|██████████| 1408/1408 [02:20<00:00, 12.58it/s]\n",
      "  0%|          | 0/1408 [00:00<?, ?it/s]"
     ]
    },
    {
     "name": "stdout",
     "output_type": "stream",
     "text": [
      "\n",
      "Epoch: 110\n"
     ]
    },
    {
     "name": "stderr",
     "output_type": "stream",
     "text": [
      "Acc: 77.904%: 100%|██████████| 1408/1408 [02:33<00:00, 11.64it/s]\n",
      "Acc: 77.291%: 100%|██████████| 900/900 [00:59<00:00, 15.10it/s]\n",
      "  0%|          | 0/1408 [00:00<?, ?it/s]"
     ]
    },
    {
     "name": "stdout",
     "output_type": "stream",
     "text": [
      "Saving..\n",
      "\n",
      "Epoch: 111\n"
     ]
    },
    {
     "name": "stderr",
     "output_type": "stream",
     "text": [
      "Acc: 77.819%: 100%|██████████| 1408/1408 [02:12<00:00, 11.91it/s]\n",
      "  0%|          | 0/1408 [00:00<?, ?it/s]"
     ]
    },
    {
     "name": "stdout",
     "output_type": "stream",
     "text": [
      "\n",
      "Epoch: 112\n"
     ]
    },
    {
     "name": "stderr",
     "output_type": "stream",
     "text": [
      "Acc: 77.766%: 100%|██████████| 1408/1408 [02:43<00:00,  8.62it/s] \n",
      "  0%|          | 0/1408 [00:00<?, ?it/s]"
     ]
    },
    {
     "name": "stdout",
     "output_type": "stream",
     "text": [
      "\n",
      "Epoch: 114\n"
     ]
    },
    {
     "name": "stderr",
     "output_type": "stream",
     "text": [
      "Acc: 77.916%:  88%|████████▊ | 1233/1408 [02:00<00:17, 10.04it/s]IOPub message rate exceeded.\n",
      "The notebook server will temporarily stop sending output\n",
      "to the client in order to avoid crashing it.\n",
      "To change this limit, set the config variable\n",
      "`--NotebookApp.iopub_msg_rate_limit`.\n",
      "\n",
      "Current values:\n",
      "NotebookApp.iopub_msg_rate_limit=1000.0 (msgs/sec)\n",
      "NotebookApp.rate_limit_window=3.0 (secs)\n",
      "\n",
      "Acc: 77.845%: 100%|██████████| 1408/1408 [02:34<00:00,  9.11it/s]\n",
      "  0%|          | 0/1408 [00:00<?, ?it/s]"
     ]
    },
    {
     "name": "stdout",
     "output_type": "stream",
     "text": [
      "\n",
      "Epoch: 117\n"
     ]
    },
    {
     "name": "stderr",
     "output_type": "stream",
     "text": [
      "Acc: 77.689%:  47%|████▋     | 657/1408 [01:05<01:14, 10.10it/s]IOPub message rate exceeded.\n",
      "The notebook server will temporarily stop sending output\n",
      "to the client in order to avoid crashing it.\n",
      "To change this limit, set the config variable\n",
      "`--NotebookApp.iopub_msg_rate_limit`.\n",
      "\n",
      "Current values:\n",
      "NotebookApp.iopub_msg_rate_limit=1000.0 (msgs/sec)\n",
      "NotebookApp.rate_limit_window=3.0 (secs)\n",
      "\n",
      "Acc: 77.749%: 100%|██████████| 1408/1408 [02:39<00:00,  8.85it/s]\n",
      "  0%|          | 0/1408 [00:00<?, ?it/s]"
     ]
    },
    {
     "name": "stdout",
     "output_type": "stream",
     "text": [
      "\n",
      "Epoch: 119\n"
     ]
    },
    {
     "name": "stderr",
     "output_type": "stream",
     "text": [
      "Acc: 77.673%: 100%|██████████| 1408/1408 [02:22<00:00,  9.86it/s]\n",
      "  0%|          | 0/1408 [00:00<?, ?it/s]"
     ]
    },
    {
     "name": "stdout",
     "output_type": "stream",
     "text": [
      "\n",
      "Epoch: 120\n"
     ]
    },
    {
     "name": "stderr",
     "output_type": "stream",
     "text": [
      "Acc: 77.777%: 100%|██████████| 1408/1408 [02:25<00:00,  9.69it/s]\n",
      "Acc: 77.226%: 100%|██████████| 900/900 [01:00<00:00, 14.85it/s]\n",
      "  0%|          | 0/1408 [00:00<?, ?it/s]"
     ]
    },
    {
     "name": "stdout",
     "output_type": "stream",
     "text": [
      "\n",
      "Epoch: 121\n"
     ]
    },
    {
     "name": "stderr",
     "output_type": "stream",
     "text": [
      "Acc: 77.628%: 100%|██████████| 1408/1408 [02:14<00:00, 10.43it/s]\n",
      "  0%|          | 0/1408 [00:00<?, ?it/s]"
     ]
    },
    {
     "name": "stdout",
     "output_type": "stream",
     "text": [
      "\n",
      "Epoch: 122\n"
     ]
    },
    {
     "name": "stderr",
     "output_type": "stream",
     "text": [
      "Acc: 77.728%: 100%|██████████| 1408/1408 [02:37<00:00,  8.94it/s] \n",
      "  0%|          | 0/1408 [00:00<?, ?it/s]"
     ]
    },
    {
     "name": "stdout",
     "output_type": "stream",
     "text": [
      "\n",
      "Epoch: 123\n"
     ]
    },
    {
     "name": "stderr",
     "output_type": "stream",
     "text": [
      "Acc: 77.664%: 100%|██████████| 1408/1408 [02:43<00:00,  8.60it/s]\n",
      "  0%|          | 0/1408 [00:00<?, ?it/s]"
     ]
    },
    {
     "name": "stdout",
     "output_type": "stream",
     "text": [
      "\n",
      "Epoch: 124\n"
     ]
    },
    {
     "name": "stderr",
     "output_type": "stream",
     "text": [
      "Acc: 77.613%: 100%|██████████| 1408/1408 [02:18<00:00, 10.18it/s]\n",
      "  0%|          | 0/1408 [00:00<?, ?it/s]"
     ]
    },
    {
     "name": "stdout",
     "output_type": "stream",
     "text": [
      "\n",
      "Epoch: 125\n"
     ]
    },
    {
     "name": "stderr",
     "output_type": "stream",
     "text": [
      "Acc: 77.606%: 100%|██████████| 1408/1408 [02:27<00:00,  9.54it/s]\n",
      "  0%|          | 0/1408 [00:00<?, ?it/s]"
     ]
    },
    {
     "name": "stdout",
     "output_type": "stream",
     "text": [
      "\n",
      "Epoch: 126\n"
     ]
    },
    {
     "name": "stderr",
     "output_type": "stream",
     "text": [
      "Acc: 77.487%: 100%|██████████| 1408/1408 [02:31<00:00,  9.30it/s]\n",
      "  0%|          | 0/1408 [00:00<?, ?it/s]"
     ]
    },
    {
     "name": "stdout",
     "output_type": "stream",
     "text": [
      "\n",
      "Epoch: 127\n"
     ]
    },
    {
     "name": "stderr",
     "output_type": "stream",
     "text": [
      "Acc: 77.617%: 100%|██████████| 1408/1408 [02:15<00:00, 12.23it/s]\n",
      "  0%|          | 0/1408 [00:00<?, ?it/s]"
     ]
    },
    {
     "name": "stdout",
     "output_type": "stream",
     "text": [
      "\n",
      "Epoch: 128\n"
     ]
    },
    {
     "name": "stderr",
     "output_type": "stream",
     "text": [
      "Acc: 77.670%: 100%|██████████| 1408/1408 [02:39<00:00,  8.85it/s]\n",
      "  0%|          | 0/1408 [00:00<?, ?it/s]"
     ]
    },
    {
     "name": "stdout",
     "output_type": "stream",
     "text": [
      "\n",
      "Epoch: 129\n"
     ]
    },
    {
     "name": "stderr",
     "output_type": "stream",
     "text": [
      "Acc: 77.647%: 100%|██████████| 1408/1408 [02:22<00:00,  9.88it/s]\n",
      "  0%|          | 0/1408 [00:00<?, ?it/s]"
     ]
    },
    {
     "name": "stdout",
     "output_type": "stream",
     "text": [
      "\n",
      "Epoch: 130\n"
     ]
    },
    {
     "name": "stderr",
     "output_type": "stream",
     "text": [
      "Acc: 77.462%: 100%|██████████| 1408/1408 [02:24<00:00,  9.71it/s]\n",
      "Acc: 76.797%: 100%|██████████| 900/900 [01:01<00:00, 14.74it/s]\n",
      "  0%|          | 0/1408 [00:00<?, ?it/s]"
     ]
    },
    {
     "name": "stdout",
     "output_type": "stream",
     "text": [
      "\n",
      "Epoch: 131\n"
     ]
    },
    {
     "name": "stderr",
     "output_type": "stream",
     "text": [
      "Acc: 77.563%: 100%|██████████| 1408/1408 [02:14<00:00, 10.44it/s]\n",
      "  0%|          | 0/1408 [00:00<?, ?it/s]"
     ]
    },
    {
     "name": "stdout",
     "output_type": "stream",
     "text": [
      "\n",
      "Epoch: 132\n"
     ]
    },
    {
     "name": "stderr",
     "output_type": "stream",
     "text": [
      "Acc: 77.578%: 100%|██████████| 1408/1408 [02:38<00:00,  8.89it/s] \n",
      "  0%|          | 0/1408 [00:00<?, ?it/s]"
     ]
    },
    {
     "name": "stdout",
     "output_type": "stream",
     "text": [
      "\n",
      "Epoch: 133\n"
     ]
    },
    {
     "name": "stderr",
     "output_type": "stream",
     "text": [
      "Acc: 77.509%: 100%|██████████| 1408/1408 [02:44<00:00,  8.53it/s]\n",
      "  0%|          | 0/1408 [00:00<?, ?it/s]"
     ]
    },
    {
     "name": "stdout",
     "output_type": "stream",
     "text": [
      "\n",
      "Epoch: 134\n"
     ]
    },
    {
     "name": "stderr",
     "output_type": "stream",
     "text": [
      "Acc: 77.527%: 100%|██████████| 1408/1408 [02:16<00:00, 10.28it/s]\n",
      "  0%|          | 0/1408 [00:00<?, ?it/s]"
     ]
    },
    {
     "name": "stdout",
     "output_type": "stream",
     "text": [
      "\n",
      "Epoch: 135\n"
     ]
    },
    {
     "name": "stderr",
     "output_type": "stream",
     "text": [
      "Acc: 77.548%: 100%|██████████| 1408/1408 [02:36<00:00, 11.96it/s]\n",
      "  0%|          | 0/1408 [00:00<?, ?it/s]"
     ]
    },
    {
     "name": "stdout",
     "output_type": "stream",
     "text": [
      "\n",
      "Epoch: 136\n"
     ]
    },
    {
     "name": "stderr",
     "output_type": "stream",
     "text": [
      "Acc: 77.469%: 100%|██████████| 1408/1408 [02:29<00:00,  9.40it/s]\n",
      "  0%|          | 0/1408 [00:00<?, ?it/s]"
     ]
    },
    {
     "name": "stdout",
     "output_type": "stream",
     "text": [
      "\n",
      "Epoch: 137\n"
     ]
    },
    {
     "name": "stderr",
     "output_type": "stream",
     "text": [
      "Acc: 77.530%: 100%|██████████| 1408/1408 [02:33<00:00, 11.69it/s]\n",
      "  0%|          | 0/1408 [00:00<?, ?it/s]"
     ]
    },
    {
     "name": "stdout",
     "output_type": "stream",
     "text": [
      "\n",
      "Epoch: 138\n"
     ]
    },
    {
     "name": "stderr",
     "output_type": "stream",
     "text": [
      "Acc: 77.428%: 100%|██████████| 1408/1408 [02:33<00:00,  9.20it/s]\n",
      "  0%|          | 0/1408 [00:00<?, ?it/s]"
     ]
    },
    {
     "name": "stdout",
     "output_type": "stream",
     "text": [
      "\n",
      "Epoch: 139\n"
     ]
    },
    {
     "name": "stderr",
     "output_type": "stream",
     "text": [
      "Acc: 77.466%: 100%|██████████| 1408/1408 [02:30<00:00,  9.34it/s]\n",
      "  0%|          | 0/1408 [00:00<?, ?it/s]"
     ]
    },
    {
     "name": "stdout",
     "output_type": "stream",
     "text": [
      "\n",
      "Epoch: 140\n"
     ]
    },
    {
     "name": "stderr",
     "output_type": "stream",
     "text": [
      "Acc: 77.534%: 100%|██████████| 1408/1408 [02:37<00:00,  8.94it/s]\n",
      "Acc: 77.090%: 100%|██████████| 900/900 [01:08<00:00, 14.22it/s]\n",
      "  0%|          | 0/1408 [00:00<?, ?it/s]"
     ]
    },
    {
     "name": "stdout",
     "output_type": "stream",
     "text": [
      "\n",
      "Epoch: 141\n"
     ]
    },
    {
     "name": "stderr",
     "output_type": "stream",
     "text": [
      "Acc: 77.416%: 100%|██████████| 1408/1408 [02:18<00:00, 10.15it/s]\n",
      "  0%|          | 0/1408 [00:00<?, ?it/s]"
     ]
    },
    {
     "name": "stdout",
     "output_type": "stream",
     "text": [
      "\n",
      "Epoch: 142\n"
     ]
    },
    {
     "name": "stderr",
     "output_type": "stream",
     "text": [
      "Acc: 77.437%: 100%|██████████| 1408/1408 [02:45<00:00,  8.49it/s] \n",
      "  0%|          | 0/1408 [00:00<?, ?it/s]"
     ]
    },
    {
     "name": "stdout",
     "output_type": "stream",
     "text": [
      "\n",
      "Epoch: 143\n"
     ]
    },
    {
     "name": "stderr",
     "output_type": "stream",
     "text": [
      "Acc: 77.423%: 100%|██████████| 1408/1408 [02:47<00:00,  8.42it/s]\n",
      "  0%|          | 0/1408 [00:00<?, ?it/s]"
     ]
    },
    {
     "name": "stdout",
     "output_type": "stream",
     "text": [
      "\n",
      "Epoch: 144\n"
     ]
    },
    {
     "name": "stderr",
     "output_type": "stream",
     "text": [
      "Acc: 77.528%: 100%|██████████| 1408/1408 [02:20<00:00, 10.01it/s]\n",
      "  0%|          | 0/1408 [00:00<?, ?it/s]"
     ]
    },
    {
     "name": "stdout",
     "output_type": "stream",
     "text": [
      "\n",
      "Epoch: 145\n"
     ]
    },
    {
     "name": "stderr",
     "output_type": "stream",
     "text": [
      "Acc: 77.624%: 100%|██████████| 1408/1408 [02:42<00:00,  8.67it/s]\n",
      "  0%|          | 0/1408 [00:00<?, ?it/s]"
     ]
    },
    {
     "name": "stdout",
     "output_type": "stream",
     "text": [
      "\n",
      "Epoch: 146\n"
     ]
    },
    {
     "name": "stderr",
     "output_type": "stream",
     "text": [
      "Acc: 77.409%: 100%|██████████| 1408/1408 [02:28<00:00, 12.00it/s]\n",
      "  0%|          | 0/1408 [00:00<?, ?it/s]"
     ]
    },
    {
     "name": "stdout",
     "output_type": "stream",
     "text": [
      "\n",
      "Epoch: 147\n"
     ]
    },
    {
     "name": "stderr",
     "output_type": "stream",
     "text": [
      "Acc: 77.378%: 100%|██████████| 1408/1408 [02:46<00:00,  8.47it/s]\n",
      "  0%|          | 0/1408 [00:00<?, ?it/s]"
     ]
    },
    {
     "name": "stdout",
     "output_type": "stream",
     "text": [
      "\n",
      "Epoch: 148\n"
     ]
    },
    {
     "name": "stderr",
     "output_type": "stream",
     "text": [
      "Acc: 77.569%: 100%|██████████| 1408/1408 [02:19<00:00, 12.32it/s]\n",
      "  0%|          | 0/1408 [00:00<?, ?it/s]"
     ]
    },
    {
     "name": "stdout",
     "output_type": "stream",
     "text": [
      "\n",
      "Epoch: 149\n"
     ]
    },
    {
     "name": "stderr",
     "output_type": "stream",
     "text": [
      "Acc: 77.418%: 100%|██████████| 1408/1408 [02:44<00:00, 11.21it/s]\n",
      "  0%|          | 0/1408 [00:00<?, ?it/s]"
     ]
    },
    {
     "name": "stdout",
     "output_type": "stream",
     "text": [
      "\n",
      "Epoch: 150\n"
     ]
    },
    {
     "name": "stderr",
     "output_type": "stream",
     "text": [
      "Acc: 77.423%: 100%|██████████| 1408/1408 [02:22<00:00, 11.99it/s]\n",
      "Acc: 76.588%: 100%|██████████| 900/900 [01:09<00:00, 13.94it/s]\n",
      "  0%|          | 0/1408 [00:00<?, ?it/s]"
     ]
    },
    {
     "name": "stdout",
     "output_type": "stream",
     "text": [
      "\n",
      "Epoch: 151\n"
     ]
    },
    {
     "name": "stderr",
     "output_type": "stream",
     "text": [
      "Acc: 77.444%: 100%|██████████| 1408/1408 [02:19<00:00, 10.12it/s]\n",
      "  0%|          | 0/1408 [00:00<?, ?it/s]"
     ]
    },
    {
     "name": "stdout",
     "output_type": "stream",
     "text": [
      "\n",
      "Epoch: 152\n"
     ]
    },
    {
     "name": "stderr",
     "output_type": "stream",
     "text": [
      "Acc: 77.424%: 100%|██████████| 1408/1408 [02:45<00:00, 11.65it/s] \n",
      "  0%|          | 0/1408 [00:00<?, ?it/s]"
     ]
    },
    {
     "name": "stdout",
     "output_type": "stream",
     "text": [
      "\n",
      "Epoch: 153\n"
     ]
    },
    {
     "name": "stderr",
     "output_type": "stream",
     "text": [
      "Acc: 77.546%: 100%|██████████| 1408/1408 [02:49<00:00, 12.02it/s] \n",
      "  0%|          | 0/1408 [00:00<?, ?it/s]"
     ]
    },
    {
     "name": "stdout",
     "output_type": "stream",
     "text": [
      "\n",
      "Epoch: 154\n"
     ]
    },
    {
     "name": "stderr",
     "output_type": "stream",
     "text": [
      "Acc: 77.539%: 100%|██████████| 1408/1408 [02:28<00:00,  9.49it/s]\n",
      "  0%|          | 0/1408 [00:00<?, ?it/s]"
     ]
    },
    {
     "name": "stdout",
     "output_type": "stream",
     "text": [
      "\n",
      "Epoch: 155\n"
     ]
    },
    {
     "name": "stderr",
     "output_type": "stream",
     "text": [
      "Acc: 77.409%: 100%|██████████| 1408/1408 [02:38<00:00, 11.77it/s]\n",
      "  0%|          | 0/1408 [00:00<?, ?it/s]"
     ]
    },
    {
     "name": "stdout",
     "output_type": "stream",
     "text": [
      "\n",
      "Epoch: 156\n"
     ]
    },
    {
     "name": "stderr",
     "output_type": "stream",
     "text": [
      "Acc: 77.416%: 100%|██████████| 1408/1408 [02:25<00:00, 11.92it/s]\n",
      "  0%|          | 0/1408 [00:00<?, ?it/s]"
     ]
    },
    {
     "name": "stdout",
     "output_type": "stream",
     "text": [
      "\n",
      "Epoch: 157\n"
     ]
    },
    {
     "name": "stderr",
     "output_type": "stream",
     "text": [
      "Acc: 77.409%: 100%|██████████| 1408/1408 [02:40<00:00, 11.69it/s] \n",
      "  0%|          | 0/1408 [00:00<?, ?it/s]"
     ]
    },
    {
     "name": "stdout",
     "output_type": "stream",
     "text": [
      "\n",
      "Epoch: 158\n"
     ]
    },
    {
     "name": "stderr",
     "output_type": "stream",
     "text": [
      "Acc: 77.407%: 100%|██████████| 1408/1408 [02:23<00:00,  9.79it/s]\n",
      "  0%|          | 0/1408 [00:00<?, ?it/s]"
     ]
    },
    {
     "name": "stdout",
     "output_type": "stream",
     "text": [
      "\n",
      "Epoch: 159\n"
     ]
    },
    {
     "name": "stderr",
     "output_type": "stream",
     "text": [
      "Acc: 77.364%: 100%|██████████| 1408/1408 [02:40<00:00,  8.78it/s] \n",
      "  0%|          | 0/1408 [00:00<?, ?it/s]"
     ]
    },
    {
     "name": "stdout",
     "output_type": "stream",
     "text": [
      "\n",
      "Epoch: 160\n"
     ]
    },
    {
     "name": "stderr",
     "output_type": "stream",
     "text": [
      "Acc: 77.327%: 100%|██████████| 1408/1408 [02:13<00:00, 10.53it/s]\n",
      "Acc: 76.392%: 100%|██████████| 900/900 [01:02<00:00, 14.49it/s]\n",
      "  0%|          | 0/1408 [00:00<?, ?it/s]"
     ]
    },
    {
     "name": "stdout",
     "output_type": "stream",
     "text": [
      "\n",
      "Epoch: 161\n"
     ]
    },
    {
     "name": "stderr",
     "output_type": "stream",
     "text": [
      "Acc: 77.296%: 100%|██████████| 1408/1408 [02:13<00:00, 11.75it/s]\n",
      "  0%|          | 0/1408 [00:00<?, ?it/s]"
     ]
    },
    {
     "name": "stdout",
     "output_type": "stream",
     "text": [
      "\n",
      "Epoch: 162\n"
     ]
    },
    {
     "name": "stderr",
     "output_type": "stream",
     "text": [
      "Acc: 77.452%: 100%|██████████| 1408/1408 [02:45<00:00, 12.17it/s] \n",
      "  0%|          | 0/1408 [00:00<?, ?it/s]"
     ]
    },
    {
     "name": "stdout",
     "output_type": "stream",
     "text": [
      "\n",
      "Epoch: 163\n"
     ]
    },
    {
     "name": "stderr",
     "output_type": "stream",
     "text": [
      "Acc: 77.437%: 100%|██████████| 1408/1408 [02:20<00:00, 12.22it/s]\n",
      "  0%|          | 0/1408 [00:00<?, ?it/s]"
     ]
    },
    {
     "name": "stdout",
     "output_type": "stream",
     "text": [
      "\n",
      "Epoch: 164\n"
     ]
    },
    {
     "name": "stderr",
     "output_type": "stream",
     "text": [
      "Acc: 77.467%: 100%|██████████| 1408/1408 [02:36<00:00, 11.14it/s]\n",
      "  0%|          | 0/1408 [00:00<?, ?it/s]"
     ]
    },
    {
     "name": "stdout",
     "output_type": "stream",
     "text": [
      "\n",
      "Epoch: 165\n"
     ]
    },
    {
     "name": "stderr",
     "output_type": "stream",
     "text": [
      "Acc: 77.454%: 100%|██████████| 1408/1408 [02:18<00:00, 10.19it/s]\n",
      "  0%|          | 0/1408 [00:00<?, ?it/s]"
     ]
    },
    {
     "name": "stdout",
     "output_type": "stream",
     "text": [
      "\n",
      "Epoch: 166\n"
     ]
    },
    {
     "name": "stderr",
     "output_type": "stream",
     "text": [
      "Acc: 77.546%: 100%|██████████| 1408/1408 [02:36<00:00,  9.00it/s]\n",
      "  0%|          | 0/1408 [00:00<?, ?it/s]"
     ]
    },
    {
     "name": "stdout",
     "output_type": "stream",
     "text": [
      "\n",
      "Epoch: 167\n"
     ]
    },
    {
     "name": "stderr",
     "output_type": "stream",
     "text": [
      "Acc: 77.462%: 100%|██████████| 1408/1408 [02:27<00:00, 12.52it/s]\n",
      "  0%|          | 0/1408 [00:00<?, ?it/s]"
     ]
    },
    {
     "name": "stdout",
     "output_type": "stream",
     "text": [
      "\n",
      "Epoch: 168\n"
     ]
    },
    {
     "name": "stderr",
     "output_type": "stream",
     "text": [
      "Acc: 77.434%: 100%|██████████| 1408/1408 [02:23<00:00,  9.83it/s]\n",
      "  0%|          | 0/1408 [00:00<?, ?it/s]"
     ]
    },
    {
     "name": "stdout",
     "output_type": "stream",
     "text": [
      "\n",
      "Epoch: 169\n"
     ]
    },
    {
     "name": "stderr",
     "output_type": "stream",
     "text": [
      "Acc: 77.340%: 100%|██████████| 1408/1408 [02:35<00:00,  9.07it/s]\n",
      "  0%|          | 0/1408 [00:00<?, ?it/s]"
     ]
    },
    {
     "name": "stdout",
     "output_type": "stream",
     "text": [
      "\n",
      "Epoch: 170\n"
     ]
    },
    {
     "name": "stderr",
     "output_type": "stream",
     "text": [
      "Acc: 77.302%: 100%|██████████| 1408/1408 [02:17<00:00, 12.35it/s]\n",
      "Acc: 76.859%: 100%|██████████| 900/900 [01:01<00:00, 14.55it/s]\n",
      "  0%|          | 0/1408 [00:00<?, ?it/s]"
     ]
    },
    {
     "name": "stdout",
     "output_type": "stream",
     "text": [
      "\n",
      "Epoch: 171\n"
     ]
    },
    {
     "name": "stderr",
     "output_type": "stream",
     "text": [
      "Acc: 77.411%: 100%|██████████| 1408/1408 [02:45<00:00,  8.52it/s] \n",
      "  0%|          | 0/1408 [00:00<?, ?it/s]"
     ]
    },
    {
     "name": "stdout",
     "output_type": "stream",
     "text": [
      "\n",
      "Epoch: 173\n"
     ]
    },
    {
     "name": "stderr",
     "output_type": "stream",
     "text": [
      "Acc: 77.469%: 100%|██████████| 1408/1408 [02:18<00:00, 10.15it/s]\n",
      "  0%|          | 0/1408 [00:00<?, ?it/s]"
     ]
    },
    {
     "name": "stdout",
     "output_type": "stream",
     "text": [
      "\n",
      "Epoch: 174\n"
     ]
    },
    {
     "name": "stderr",
     "output_type": "stream",
     "text": [
      "Acc: 77.398%: 100%|██████████| 1408/1408 [02:35<00:00,  9.08it/s]\n",
      "  0%|          | 0/1408 [00:00<?, ?it/s]"
     ]
    },
    {
     "name": "stdout",
     "output_type": "stream",
     "text": [
      "\n",
      "Epoch: 175\n"
     ]
    },
    {
     "name": "stderr",
     "output_type": "stream",
     "text": [
      "Acc: 77.377%: 100%|██████████| 1408/1408 [02:19<00:00, 12.37it/s]\n",
      "  0%|          | 0/1408 [00:00<?, ?it/s]"
     ]
    },
    {
     "name": "stdout",
     "output_type": "stream",
     "text": [
      "\n",
      "Epoch: 176\n"
     ]
    },
    {
     "name": "stderr",
     "output_type": "stream",
     "text": [
      "Acc: 77.425%: 100%|██████████| 1408/1408 [02:28<00:00,  9.46it/s]\n",
      "  0%|          | 0/1408 [00:00<?, ?it/s]"
     ]
    },
    {
     "name": "stdout",
     "output_type": "stream",
     "text": [
      "\n",
      "Epoch: 177\n"
     ]
    },
    {
     "name": "stderr",
     "output_type": "stream",
     "text": [
      "Acc: 77.452%: 100%|██████████| 1408/1408 [02:32<00:00,  9.26it/s] \n",
      "  0%|          | 0/1408 [00:00<?, ?it/s]"
     ]
    },
    {
     "name": "stdout",
     "output_type": "stream",
     "text": [
      "\n",
      "Epoch: 178\n"
     ]
    },
    {
     "name": "stderr",
     "output_type": "stream",
     "text": [
      "Acc: 77.398%: 100%|██████████| 1408/1408 [02:12<00:00, 10.60it/s]\n",
      "  0%|          | 0/1408 [00:00<?, ?it/s]"
     ]
    },
    {
     "name": "stdout",
     "output_type": "stream",
     "text": [
      "\n",
      "Epoch: 179\n"
     ]
    },
    {
     "name": "stderr",
     "output_type": "stream",
     "text": [
      "Acc: 77.380%: 100%|██████████| 1408/1408 [02:24<00:00, 12.30it/s]\n",
      "Acc: 76.664%: 100%|██████████| 900/900 [01:01<00:00, 14.59it/s]\n",
      "  0%|          | 0/1408 [00:00<?, ?it/s]"
     ]
    },
    {
     "name": "stdout",
     "output_type": "stream",
     "text": [
      "\n",
      "Epoch: 181\n"
     ]
    },
    {
     "name": "stderr",
     "output_type": "stream",
     "text": [
      "Acc: 77.515%:  41%|████▏     | 583/1408 [00:55<01:20, 10.19it/s]IOPub message rate exceeded.\n",
      "The notebook server will temporarily stop sending output\n",
      "to the client in order to avoid crashing it.\n",
      "To change this limit, set the config variable\n",
      "`--NotebookApp.iopub_msg_rate_limit`.\n",
      "\n",
      "Current values:\n",
      "NotebookApp.iopub_msg_rate_limit=1000.0 (msgs/sec)\n",
      "NotebookApp.rate_limit_window=3.0 (secs)\n",
      "\n",
      "Acc: 77.517%: 100%|██████████| 1408/1408 [02:38<00:00,  8.90it/s]\n",
      "  0%|          | 0/1408 [00:00<?, ?it/s]"
     ]
    },
    {
     "name": "stdout",
     "output_type": "stream",
     "text": [
      "\n",
      "Epoch: 183\n"
     ]
    },
    {
     "name": "stderr",
     "output_type": "stream",
     "text": [
      "Acc: 77.502%:  97%|█████████▋| 1359/1408 [02:12<00:04,  9.94it/s]IOPub message rate exceeded.\n",
      "The notebook server will temporarily stop sending output\n",
      "to the client in order to avoid crashing it.\n",
      "To change this limit, set the config variable\n",
      "`--NotebookApp.iopub_msg_rate_limit`.\n",
      "\n",
      "Current values:\n",
      "NotebookApp.iopub_msg_rate_limit=1000.0 (msgs/sec)\n",
      "NotebookApp.rate_limit_window=3.0 (secs)\n",
      "\n",
      "Acc: 77.448%: 100%|██████████| 1408/1408 [02:35<00:00,  9.04it/s] \n",
      "  0%|          | 0/1408 [00:00<?, ?it/s]"
     ]
    },
    {
     "name": "stdout",
     "output_type": "stream",
     "text": [
      "\n",
      "Epoch: 186\n"
     ]
    },
    {
     "name": "stderr",
     "output_type": "stream",
     "text": [
      "Acc: 77.593%: 100%|██████████| 1408/1408 [02:16<00:00, 10.30it/s]\n",
      "  0%|          | 0/1408 [00:00<?, ?it/s]"
     ]
    },
    {
     "name": "stdout",
     "output_type": "stream",
     "text": [
      "\n",
      "Epoch: 187\n"
     ]
    },
    {
     "name": "stderr",
     "output_type": "stream",
     "text": [
      "Acc: 77.433%: 100%|██████████| 1408/1408 [02:41<00:00, 11.36it/s]\n",
      "  0%|          | 0/1408 [00:00<?, ?it/s]"
     ]
    },
    {
     "name": "stdout",
     "output_type": "stream",
     "text": [
      "\n",
      "Epoch: 188\n"
     ]
    },
    {
     "name": "stderr",
     "output_type": "stream",
     "text": [
      "Acc: 77.376%: 100%|██████████| 1408/1408 [02:19<00:00, 12.55it/s]\n",
      "  0%|          | 0/1408 [00:00<?, ?it/s]"
     ]
    },
    {
     "name": "stdout",
     "output_type": "stream",
     "text": [
      "\n",
      "Epoch: 189\n"
     ]
    },
    {
     "name": "stderr",
     "output_type": "stream",
     "text": [
      "Acc: 77.407%: 100%|██████████| 1408/1408 [02:25<00:00, 12.51it/s]\n",
      "  0%|          | 0/1408 [00:00<?, ?it/s]"
     ]
    },
    {
     "name": "stdout",
     "output_type": "stream",
     "text": [
      "\n",
      "Epoch: 190\n"
     ]
    },
    {
     "name": "stderr",
     "output_type": "stream",
     "text": [
      "Acc: 77.335%: 100%|██████████| 1408/1408 [02:35<00:00,  9.06it/s]\n",
      "Acc: 75.728%: 100%|██████████| 900/900 [01:03<00:00, 14.16it/s]\n",
      "  0%|          | 0/1408 [00:00<?, ?it/s]"
     ]
    },
    {
     "name": "stdout",
     "output_type": "stream",
     "text": [
      "\n",
      "Epoch: 191\n"
     ]
    },
    {
     "name": "stderr",
     "output_type": "stream",
     "text": [
      "Acc: 77.396%: 100%|██████████| 1408/1408 [02:42<00:00,  8.69it/s]\n",
      "  0%|          | 0/1408 [00:00<?, ?it/s]"
     ]
    },
    {
     "name": "stdout",
     "output_type": "stream",
     "text": [
      "\n",
      "Epoch: 193\n"
     ]
    },
    {
     "name": "stderr",
     "output_type": "stream",
     "text": [
      "Acc: 77.532%:  73%|███████▎  | 1029/1408 [01:40<00:35, 10.71it/s]IOPub message rate exceeded.\n",
      "The notebook server will temporarily stop sending output\n",
      "to the client in order to avoid crashing it.\n",
      "To change this limit, set the config variable\n",
      "`--NotebookApp.iopub_msg_rate_limit`.\n",
      "\n",
      "Current values:\n",
      "NotebookApp.iopub_msg_rate_limit=1000.0 (msgs/sec)\n",
      "NotebookApp.rate_limit_window=3.0 (secs)\n",
      "\n",
      "Acc: 77.680%:   9%|▊         | 123/1408 [00:11<01:59, 10.77it/s]"
     ]
    }
   ],
   "source": [
    "'''Train CINIC10 with PyTorch.'''\n",
    "from __future__ import print_function\n",
    "\n",
    "import torch\n",
    "import torch.nn as nn\n",
    "import torch.optim as optim\n",
    "import torch.nn.functional as F\n",
    "import torch.backends.cudnn as cudnn\n",
    "\n",
    "import torchvision\n",
    "import torchvision.transforms as transforms\n",
    "\n",
    "import os\n",
    "import argparse\n",
    "\n",
    "from models import *\n",
    "\n",
    "device = 'cuda' if torch.cuda.is_available() else 'cpu'\n",
    "best_acc = 0  # best test accuracy\n",
    "start_epoch = 0  # start from epoch 0 or last checkpoint epoch\n",
    "\n",
    "# Data\n",
    "print('==> Preparing data..')\n",
    "transform_train = transforms.Compose([\n",
    "    transforms.RandomCrop(32, padding=4),\n",
    "    transforms.RandomHorizontalFlip(),\n",
    "    transforms.ToTensor(),\n",
    "    transforms.Normalize(mean=[0.47889522, 0.47227842, 0.43047404],  std=[0.24205776, 0.23828046, 0.25874835]),\n",
    "])\n",
    "\n",
    "transform_test = transforms.Compose([\n",
    "    transforms.ToTensor(),\n",
    "    transforms.Normalize(mean=[0.47889522, 0.47227842, 0.43047404],  std=[0.24205776, 0.23828046, 0.25874835]),\n",
    "])\n",
    "\n",
    "trainset = torchvision.datasets.ImageFolder(root='/tmp/work/data/CINIC-10/train/', transform=transform_train)\n",
    "trainloader = torch.utils.data.DataLoader(trainset, batch_size=128, shuffle=True, num_workers=2)\n",
    "\n",
    "validset = torchvision.datasets.ImageFolder(root='/tmp/work/data/CINIC-10/valid/', transform=transform_train)\n",
    "validloader = torch.utils.data.DataLoader(validset, batch_size=128, shuffle=True, num_workers=2)\n",
    "\n",
    "testset = torchvision.datasets.ImageFolder(root='/tmp/work/data/CINIC-10/test/', transform=transform_test)\n",
    "testloader = torch.utils.data.DataLoader(testset, batch_size=100, shuffle=False, num_workers=2)\n",
    "\n",
    "classes = ('plane', 'car', 'bird', 'cat', 'deer', 'dog', 'frog', 'horse', 'ship', 'truck')\n",
    "\n",
    "# Model\n",
    "print('==> Building model..')\n",
    "# net = VGG('VGG19')\n",
    "# net = ResNet18()\n",
    "# net = PreActResNet18()\n",
    "# net = GoogLeNet()\n",
    "# net = DenseNet121()\n",
    "# net = ResNeXt29_2x64d()\n",
    "# net = MobileNet()\n",
    "net = MobileNetV2()\n",
    "# net = DPN92()\n",
    "# net = ShuffleNetG2()\n",
    "# net = SENet18()\n",
    "# net = ShuffleNetV2(1)\n",
    "net = net.to(device)\n",
    "if device == 'cuda':\n",
    "    net = torch.nn.DataParallel(net)\n",
    "    cudnn.benchmark = True\n",
    "\n",
    "# Load checkpoint.\n",
    "print('==> Resuming from checkpoint..')\n",
    "checkpoint = torch.load('/tmp/work/checkpoint/ckpt.cinic10.0.t7')\n",
    "net.load_state_dict(checkpoint['net'])\n",
    "    \n",
    "criterion = nn.CrossEntropyLoss()\n",
    "optimizer = optim.SGD(net.parameters(), lr=0.01, momentum=0.9, weight_decay=5e-4)\n",
    "scheduler = optim.lr_scheduler.MultiStepLR(optimizer, milestones=[100, 250, 450], gamma=0.2)\n",
    "\n",
    "# Training\n",
    "def train(epoch):\n",
    "    print('\\nEpoch: %d' % epoch)\n",
    "    net.train()\n",
    "    train_loss = 0\n",
    "    correct = 0\n",
    "    total = 0\n",
    "    with tqdm(total=len(trainloader)+len(validloader)) as pbar:\n",
    "        for batch_idx, (inputs, targets) in enumerate(trainloader):\n",
    "            inputs, targets = inputs.to(device), targets.to(device)\n",
    "            optimizer.zero_grad()\n",
    "            outputs = net(inputs)\n",
    "            loss = criterion(outputs, targets)\n",
    "            loss.backward()\n",
    "            optimizer.step()\n",
    "\n",
    "            train_loss += loss.item()\n",
    "            _, predicted = outputs.max(1)\n",
    "            total += targets.size(0)\n",
    "            correct += predicted.eq(targets).sum().item()\n",
    "\n",
    "            pbar.set_description('Acc: %.3f%%' % (100.*correct/total))\n",
    "            pbar.update(1)\n",
    "        for batch_idx, (inputs, targets) in enumerate(validloader):\n",
    "            inputs, targets = inputs.to(device), targets.to(device)\n",
    "            optimizer.zero_grad()\n",
    "            outputs = net(inputs)\n",
    "            loss = criterion(outputs, targets)\n",
    "            loss.backward()\n",
    "            optimizer.step()\n",
    "\n",
    "            train_loss += loss.item()\n",
    "            _, predicted = outputs.max(1)\n",
    "            total += targets.size(0)\n",
    "            correct += predicted.eq(targets).sum().item()\n",
    "\n",
    "            pbar.set_description('Acc: %.3f%%' % (100.*correct/total))\n",
    "            pbar.update(1)\n",
    "\n",
    "def test(epoch):\n",
    "    global best_acc\n",
    "    net.eval()\n",
    "    test_loss = 0\n",
    "    correct = 0\n",
    "    total = 0\n",
    "    with tqdm(total=len(testloader)) as pbar:\n",
    "        with torch.no_grad():\n",
    "            for batch_idx, (inputs, targets) in enumerate(testloader):\n",
    "                inputs, targets = inputs.to(device), targets.to(device)\n",
    "                outputs = net(inputs)\n",
    "                loss = criterion(outputs, targets)\n",
    "\n",
    "                test_loss += loss.item()\n",
    "                _, predicted = outputs.max(1)\n",
    "                total += targets.size(0)\n",
    "                correct += predicted.eq(targets).sum().item()\n",
    "\n",
    "                pbar.set_description('Acc: %.3f%%' % (100.*correct/total))\n",
    "                pbar.update(1)\n",
    "\n",
    "    # Save checkpoint.\n",
    "    acc = 100.*correct/total\n",
    "    if acc > best_acc:\n",
    "        print('Saving..')\n",
    "        state = {\n",
    "            'net': net.state_dict(),\n",
    "            'acc': acc,\n",
    "            'epoch': epoch,\n",
    "        }\n",
    "        if not os.path.isdir('/tmp/work/checkpoint'):\n",
    "            os.mkdir('/tmp/work/checkpoint')\n",
    "        torch.save(state, '/tmp/work/checkpoint/ckpt.cinic10.1.t7')\n",
    "        best_acc = acc\n",
    "\n",
    "for epoch in range(start_epoch, 601):\n",
    "    scheduler.step()\n",
    "    train(epoch)\n",
    "    if epoch % 10 == 0:\n",
    "        test(epoch)"
   ]
  },
  {
   "cell_type": "markdown",
   "metadata": {},
   "source": [
    "## Model Deployment"
   ]
  },
  {
   "cell_type": "code",
   "execution_count": 1,
   "metadata": {},
   "outputs": [],
   "source": [
    "_name = 'cinic10.1'\n",
    "src_path = './checkpoint/ckpt.{}.t7'.format(_name)\n",
    "dest_path = './checkpoint/mobileNetV2.{}.pth'.format(_name)"
   ]
  },
  {
   "cell_type": "code",
   "execution_count": 2,
   "metadata": {},
   "outputs": [
    {
     "name": "stdout",
     "output_type": "stream",
     "text": [
      "==> Building model..\n",
      "==> Resuming from checkpoint..\n"
     ]
    }
   ],
   "source": [
    "from __future__ import print_function\n",
    "\n",
    "import torch\n",
    "import torch.nn as nn\n",
    "import torch.optim as optim\n",
    "import torch.nn.functional as F\n",
    "import torch.backends.cudnn as cudnn\n",
    "\n",
    "import torchvision\n",
    "import torchvision.transforms as transforms\n",
    "from torch.autograd import Variable\n",
    "\n",
    "import os\n",
    "import argparse\n",
    "\n",
    "from models import *\n",
    "\n",
    "device = 'cuda' if torch.cuda.is_available() else 'cpu'\n",
    "\n",
    "# Model\n",
    "print('==> Building model..')\n",
    "# net = VGG('VGG19')\n",
    "# net = ResNet18()\n",
    "# net = PreActResNet18()\n",
    "# net = GoogLeNet()\n",
    "# net = DenseNet121()\n",
    "# net = ResNeXt29_2x64d()\n",
    "# net = MobileNet()\n",
    "net = MobileNetV2()\n",
    "# net = DPN92()\n",
    "# net = ShuffleNetG2()\n",
    "# net = SENet18()\n",
    "# net = ShuffleNetV2(1)\n",
    "\n",
    "net = net.to(device)\n",
    "if device == 'cuda':\n",
    "    net = torch.nn.DataParallel(net)\n",
    "    cudnn.benchmark = True\n",
    "\n",
    "# Load checkpoint.\n",
    "print('==> Resuming from checkpoint..')\n",
    "checkpoint = torch.load(src_path)\n",
    "net.load_state_dict(checkpoint['net'])"
   ]
  },
  {
   "cell_type": "code",
   "execution_count": 3,
   "metadata": {},
   "outputs": [],
   "source": [
    "net = net.module"
   ]
  },
  {
   "cell_type": "code",
   "execution_count": 4,
   "metadata": {},
   "outputs": [],
   "source": [
    "state = {\n",
    "    'net': net.state_dict(),\n",
    "    'acc': checkpoint['acc'],\n",
    "    'epoch': checkpoint['epoch'],\n",
    "}\n",
    "\n",
    "torch.save(state, dest_path)"
   ]
  },
  {
   "cell_type": "code",
   "execution_count": 4,
   "metadata": {},
   "outputs": [
    {
     "name": "stdout",
     "output_type": "stream",
     "text": [
      "==> Exporting model..\n",
      "graph(%0 : Float(32, 3, 32, 32)\n",
      "      %1 : Float(32, 3, 3, 3)\n",
      "      %2 : Float(32)\n",
      "      %3 : Float(32)\n",
      "      %4 : Float(32)\n",
      "      %5 : Float(32)\n",
      "      %6 : Long()\n",
      "      %7 : Float(32, 32, 1, 1)\n",
      "      %8 : Float(32)\n",
      "      %9 : Float(32)\n",
      "      %10 : Float(32)\n",
      "      %11 : Float(32)\n",
      "      %12 : Long()\n",
      "      %13 : Float(32, 1, 3, 3)\n",
      "      %14 : Float(32)\n",
      "      %15 : Float(32)\n",
      "      %16 : Float(32)\n",
      "      %17 : Float(32)\n",
      "      %18 : Long()\n",
      "      %19 : Float(16, 32, 1, 1)\n",
      "      %20 : Float(16)\n",
      "      %21 : Float(16)\n",
      "      %22 : Float(16)\n",
      "      %23 : Float(16)\n",
      "      %24 : Long()\n",
      "      %25 : Float(16, 32, 1, 1)\n",
      "      %26 : Float(16)\n",
      "      %27 : Float(16)\n",
      "      %28 : Float(16)\n",
      "      %29 : Float(16)\n",
      "      %30 : Long()\n",
      "      %31 : Float(96, 16, 1, 1)\n",
      "      %32 : Float(96)\n",
      "      %33 : Float(96)\n",
      "      %34 : Float(96)\n",
      "      %35 : Float(96)\n",
      "      %36 : Long()\n",
      "      %37 : Float(96, 1, 3, 3)\n",
      "      %38 : Float(96)\n",
      "      %39 : Float(96)\n",
      "      %40 : Float(96)\n",
      "      %41 : Float(96)\n",
      "      %42 : Long()\n",
      "      %43 : Float(24, 96, 1, 1)\n",
      "      %44 : Float(24)\n",
      "      %45 : Float(24)\n",
      "      %46 : Float(24)\n",
      "      %47 : Float(24)\n",
      "      %48 : Long()\n",
      "      %49 : Float(24, 16, 1, 1)\n",
      "      %50 : Float(24)\n",
      "      %51 : Float(24)\n",
      "      %52 : Float(24)\n",
      "      %53 : Float(24)\n",
      "      %54 : Long()\n",
      "      %55 : Float(144, 24, 1, 1)\n",
      "      %56 : Float(144)\n",
      "      %57 : Float(144)\n",
      "      %58 : Float(144)\n",
      "      %59 : Float(144)\n",
      "      %60 : Long()\n",
      "      %61 : Float(144, 1, 3, 3)\n",
      "      %62 : Float(144)\n",
      "      %63 : Float(144)\n",
      "      %64 : Float(144)\n",
      "      %65 : Float(144)\n",
      "      %66 : Long()\n",
      "      %67 : Float(24, 144, 1, 1)\n",
      "      %68 : Float(24)\n",
      "      %69 : Float(24)\n",
      "      %70 : Float(24)\n",
      "      %71 : Float(24)\n",
      "      %72 : Long()\n",
      "      %73 : Float(144, 24, 1, 1)\n",
      "      %74 : Float(144)\n",
      "      %75 : Float(144)\n",
      "      %76 : Float(144)\n",
      "      %77 : Float(144)\n",
      "      %78 : Long()\n",
      "      %79 : Float(144, 1, 3, 3)\n",
      "      %80 : Float(144)\n",
      "      %81 : Float(144)\n",
      "      %82 : Float(144)\n",
      "      %83 : Float(144)\n",
      "      %84 : Long()\n",
      "      %85 : Float(32, 144, 1, 1)\n",
      "      %86 : Float(32)\n",
      "      %87 : Float(32)\n",
      "      %88 : Float(32)\n",
      "      %89 : Float(32)\n",
      "      %90 : Long()\n",
      "      %91 : Float(192, 32, 1, 1)\n",
      "      %92 : Float(192)\n",
      "      %93 : Float(192)\n",
      "      %94 : Float(192)\n",
      "      %95 : Float(192)\n",
      "      %96 : Long()\n",
      "      %97 : Float(192, 1, 3, 3)\n",
      "      %98 : Float(192)\n",
      "      %99 : Float(192)\n",
      "      %100 : Float(192)\n",
      "      %101 : Float(192)\n",
      "      %102 : Long()\n",
      "      %103 : Float(32, 192, 1, 1)\n",
      "      %104 : Float(32)\n",
      "      %105 : Float(32)\n",
      "      %106 : Float(32)\n",
      "      %107 : Float(32)\n",
      "      %108 : Long()\n",
      "      %109 : Float(192, 32, 1, 1)\n",
      "      %110 : Float(192)\n",
      "      %111 : Float(192)\n",
      "      %112 : Float(192)\n",
      "      %113 : Float(192)\n",
      "      %114 : Long()\n",
      "      %115 : Float(192, 1, 3, 3)\n",
      "      %116 : Float(192)\n",
      "      %117 : Float(192)\n",
      "      %118 : Float(192)\n",
      "      %119 : Float(192)\n",
      "      %120 : Long()\n",
      "      %121 : Float(32, 192, 1, 1)\n",
      "      %122 : Float(32)\n",
      "      %123 : Float(32)\n",
      "      %124 : Float(32)\n",
      "      %125 : Float(32)\n",
      "      %126 : Long()\n",
      "      %127 : Float(192, 32, 1, 1)\n",
      "      %128 : Float(192)\n",
      "      %129 : Float(192)\n",
      "      %130 : Float(192)\n",
      "      %131 : Float(192)\n",
      "      %132 : Long()\n",
      "      %133 : Float(192, 1, 3, 3)\n",
      "      %134 : Float(192)\n",
      "      %135 : Float(192)\n",
      "      %136 : Float(192)\n",
      "      %137 : Float(192)\n",
      "      %138 : Long()\n",
      "      %139 : Float(64, 192, 1, 1)\n",
      "      %140 : Float(64)\n",
      "      %141 : Float(64)\n",
      "      %142 : Float(64)\n",
      "      %143 : Float(64)\n",
      "      %144 : Long()\n",
      "      %145 : Float(384, 64, 1, 1)\n",
      "      %146 : Float(384)\n",
      "      %147 : Float(384)\n",
      "      %148 : Float(384)\n",
      "      %149 : Float(384)\n",
      "      %150 : Long()\n",
      "      %151 : Float(384, 1, 3, 3)\n",
      "      %152 : Float(384)\n",
      "      %153 : Float(384)\n",
      "      %154 : Float(384)\n",
      "      %155 : Float(384)\n",
      "      %156 : Long()\n",
      "      %157 : Float(64, 384, 1, 1)\n",
      "      %158 : Float(64)\n",
      "      %159 : Float(64)\n",
      "      %160 : Float(64)\n",
      "      %161 : Float(64)\n",
      "      %162 : Long()\n",
      "      %163 : Float(384, 64, 1, 1)\n",
      "      %164 : Float(384)\n",
      "      %165 : Float(384)\n",
      "      %166 : Float(384)\n",
      "      %167 : Float(384)\n",
      "      %168 : Long()\n",
      "      %169 : Float(384, 1, 3, 3)\n",
      "      %170 : Float(384)\n",
      "      %171 : Float(384)\n",
      "      %172 : Float(384)\n",
      "      %173 : Float(384)\n",
      "      %174 : Long()\n",
      "      %175 : Float(64, 384, 1, 1)\n",
      "      %176 : Float(64)\n",
      "      %177 : Float(64)\n",
      "      %178 : Float(64)\n",
      "      %179 : Float(64)\n",
      "      %180 : Long()\n",
      "      %181 : Float(384, 64, 1, 1)\n",
      "      %182 : Float(384)\n",
      "      %183 : Float(384)\n",
      "      %184 : Float(384)\n",
      "      %185 : Float(384)\n",
      "      %186 : Long()\n",
      "      %187 : Float(384, 1, 3, 3)\n",
      "      %188 : Float(384)\n",
      "      %189 : Float(384)\n",
      "      %190 : Float(384)\n",
      "      %191 : Float(384)\n",
      "      %192 : Long()\n",
      "      %193 : Float(64, 384, 1, 1)\n",
      "      %194 : Float(64)\n",
      "      %195 : Float(64)\n",
      "      %196 : Float(64)\n",
      "      %197 : Float(64)\n",
      "      %198 : Long()\n",
      "      %199 : Float(384, 64, 1, 1)\n",
      "      %200 : Float(384)\n",
      "      %201 : Float(384)\n",
      "      %202 : Float(384)\n",
      "      %203 : Float(384)\n",
      "      %204 : Long()\n",
      "      %205 : Float(384, 1, 3, 3)\n",
      "      %206 : Float(384)\n",
      "      %207 : Float(384)\n",
      "      %208 : Float(384)\n",
      "      %209 : Float(384)\n",
      "      %210 : Long()\n",
      "      %211 : Float(96, 384, 1, 1)\n",
      "      %212 : Float(96)\n",
      "      %213 : Float(96)\n",
      "      %214 : Float(96)\n",
      "      %215 : Float(96)\n",
      "      %216 : Long()\n",
      "      %217 : Float(96, 64, 1, 1)\n",
      "      %218 : Float(96)\n",
      "      %219 : Float(96)\n",
      "      %220 : Float(96)\n",
      "      %221 : Float(96)\n",
      "      %222 : Long()\n",
      "      %223 : Float(576, 96, 1, 1)\n",
      "      %224 : Float(576)\n",
      "      %225 : Float(576)\n",
      "      %226 : Float(576)\n",
      "      %227 : Float(576)\n",
      "      %228 : Long()\n",
      "      %229 : Float(576, 1, 3, 3)\n",
      "      %230 : Float(576)\n",
      "      %231 : Float(576)\n",
      "      %232 : Float(576)\n",
      "      %233 : Float(576)\n",
      "      %234 : Long()\n",
      "      %235 : Float(96, 576, 1, 1)\n",
      "      %236 : Float(96)\n",
      "      %237 : Float(96)\n",
      "      %238 : Float(96)\n",
      "      %239 : Float(96)\n",
      "      %240 : Long()\n",
      "      %241 : Float(576, 96, 1, 1)\n",
      "      %242 : Float(576)\n",
      "      %243 : Float(576)\n",
      "      %244 : Float(576)\n",
      "      %245 : Float(576)\n",
      "      %246 : Long()\n",
      "      %247 : Float(576, 1, 3, 3)\n",
      "      %248 : Float(576)\n",
      "      %249 : Float(576)\n",
      "      %250 : Float(576)\n",
      "      %251 : Float(576)\n",
      "      %252 : Long()\n",
      "      %253 : Float(96, 576, 1, 1)\n",
      "      %254 : Float(96)\n",
      "      %255 : Float(96)\n",
      "      %256 : Float(96)\n",
      "      %257 : Float(96)\n",
      "      %258 : Long()\n",
      "      %259 : Float(576, 96, 1, 1)\n",
      "      %260 : Float(576)\n",
      "      %261 : Float(576)\n",
      "      %262 : Float(576)\n",
      "      %263 : Float(576)\n",
      "      %264 : Long()\n",
      "      %265 : Float(576, 1, 3, 3)\n",
      "      %266 : Float(576)\n",
      "      %267 : Float(576)\n",
      "      %268 : Float(576)\n",
      "      %269 : Float(576)\n",
      "      %270 : Long()\n",
      "      %271 : Float(160, 576, 1, 1)\n",
      "      %272 : Float(160)\n",
      "      %273 : Float(160)\n",
      "      %274 : Float(160)\n",
      "      %275 : Float(160)\n",
      "      %276 : Long()\n",
      "      %277 : Float(960, 160, 1, 1)\n",
      "      %278 : Float(960)\n",
      "      %279 : Float(960)\n",
      "      %280 : Float(960)\n",
      "      %281 : Float(960)\n",
      "      %282 : Long()\n",
      "      %283 : Float(960, 1, 3, 3)\n",
      "      %284 : Float(960)\n",
      "      %285 : Float(960)\n",
      "      %286 : Float(960)\n",
      "      %287 : Float(960)\n",
      "      %288 : Long()\n",
      "      %289 : Float(160, 960, 1, 1)\n",
      "      %290 : Float(160)\n",
      "      %291 : Float(160)\n",
      "      %292 : Float(160)\n",
      "      %293 : Float(160)\n",
      "      %294 : Long()\n",
      "      %295 : Float(960, 160, 1, 1)\n",
      "      %296 : Float(960)\n",
      "      %297 : Float(960)\n",
      "      %298 : Float(960)\n",
      "      %299 : Float(960)\n",
      "      %300 : Long()\n",
      "      %301 : Float(960, 1, 3, 3)\n",
      "      %302 : Float(960)\n",
      "      %303 : Float(960)\n",
      "      %304 : Float(960)\n",
      "      %305 : Float(960)\n",
      "      %306 : Long()\n",
      "      %307 : Float(160, 960, 1, 1)\n",
      "      %308 : Float(160)\n",
      "      %309 : Float(160)\n",
      "      %310 : Float(160)\n",
      "      %311 : Float(160)\n",
      "      %312 : Long()\n",
      "      %313 : Float(960, 160, 1, 1)\n",
      "      %314 : Float(960)\n",
      "      %315 : Float(960)\n",
      "      %316 : Float(960)\n",
      "      %317 : Float(960)\n",
      "      %318 : Long()\n",
      "      %319 : Float(960, 1, 3, 3)\n",
      "      %320 : Float(960)\n",
      "      %321 : Float(960)\n",
      "      %322 : Float(960)\n",
      "      %323 : Float(960)\n",
      "      %324 : Long()\n",
      "      %325 : Float(320, 960, 1, 1)\n",
      "      %326 : Float(320)\n",
      "      %327 : Float(320)\n",
      "      %328 : Float(320)\n",
      "      %329 : Float(320)\n",
      "      %330 : Long()\n",
      "      %331 : Float(320, 160, 1, 1)\n",
      "      %332 : Float(320)\n",
      "      %333 : Float(320)\n",
      "      %334 : Float(320)\n",
      "      %335 : Float(320)\n",
      "      %336 : Long()\n",
      "      %337 : Float(1280, 320, 1, 1)\n",
      "      %338 : Float(1280)\n",
      "      %339 : Float(1280)\n",
      "      %340 : Float(1280)\n",
      "      %341 : Float(1280)\n",
      "      %342 : Long()\n",
      "      %343 : Float(10, 1280)\n",
      "      %344 : Float(10)) {\n",
      "  %345 : Float(32, 32, 32, 32) = onnx::Conv[dilations=[1, 1], group=1, kernel_shape=[3, 3], pads=[1, 1, 1, 1], strides=[1, 1]](%0, %1), scope: MobileNetV2/Conv2d[conv1]\n",
      "  %346 : Float(32, 32, 32, 32) = onnx::BatchNormalization[epsilon=1e-05, is_test=1, momentum=1](%345, %2, %3, %4, %5), scope: MobileNetV2/BatchNorm2d[bn1]\n",
      "  %347 : Float(32, 32, 32, 32) = onnx::Relu(%346), scope: MobileNetV2\n",
      "  %348 : Float(32, 32, 32, 32) = onnx::Conv[dilations=[1, 1], group=1, kernel_shape=[1, 1], pads=[0, 0, 0, 0], strides=[1, 1]](%347, %7), scope: MobileNetV2/Sequential[layers]/Block[0]/Conv2d[conv1]\n",
      "  %349 : Float(32, 32, 32, 32) = onnx::BatchNormalization[epsilon=1e-05, is_test=1, momentum=1](%348, %8, %9, %10, %11), scope: MobileNetV2/Sequential[layers]/Block[0]/BatchNorm2d[bn1]\n",
      "  %350 : Float(32, 32, 32, 32) = onnx::Relu(%349), scope: MobileNetV2/Sequential[layers]/Block[0]\n",
      "  %351 : Float(32, 32, 32, 32) = onnx::Conv[dilations=[1, 1], group=32, kernel_shape=[3, 3], pads=[1, 1, 1, 1], strides=[1, 1]](%350, %13), scope: MobileNetV2/Sequential[layers]/Block[0]/Conv2d[conv2]\n",
      "  %352 : Float(32, 32, 32, 32) = onnx::BatchNormalization[epsilon=1e-05, is_test=1, momentum=1](%351, %14, %15, %16, %17), scope: MobileNetV2/Sequential[layers]/Block[0]/BatchNorm2d[bn2]\n",
      "  %353 : Float(32, 32, 32, 32) = onnx::Relu(%352), scope: MobileNetV2/Sequential[layers]/Block[0]\n",
      "  %354 : Float(32, 16, 32, 32) = onnx::Conv[dilations=[1, 1], group=1, kernel_shape=[1, 1], pads=[0, 0, 0, 0], strides=[1, 1]](%353, %19), scope: MobileNetV2/Sequential[layers]/Block[0]/Conv2d[conv3]\n",
      "  %355 : Float(32, 16, 32, 32) = onnx::BatchNormalization[epsilon=1e-05, is_test=1, momentum=1](%354, %20, %21, %22, %23), scope: MobileNetV2/Sequential[layers]/Block[0]/BatchNorm2d[bn3]\n",
      "  %356 : Float(32, 16, 32, 32) = onnx::Conv[dilations=[1, 1], group=1, kernel_shape=[1, 1], pads=[0, 0, 0, 0], strides=[1, 1]](%347, %25), scope: MobileNetV2/Sequential[layers]/Block[0]/Sequential[shortcut]/Conv2d[0]\n",
      "  %357 : Float(32, 16, 32, 32) = onnx::BatchNormalization[epsilon=1e-05, is_test=1, momentum=1](%356, %26, %27, %28, %29), scope: MobileNetV2/Sequential[layers]/Block[0]/Sequential[shortcut]/BatchNorm2d[1]\n",
      "  %358 : Float(32, 16, 32, 32) = onnx::Add(%355, %357), scope: MobileNetV2/Sequential[layers]/Block[0]\n",
      "  %359 : Float(32, 96, 32, 32) = onnx::Conv[dilations=[1, 1], group=1, kernel_shape=[1, 1], pads=[0, 0, 0, 0], strides=[1, 1]](%358, %31), scope: MobileNetV2/Sequential[layers]/Block[1]/Conv2d[conv1]\n",
      "  %360 : Float(32, 96, 32, 32) = onnx::BatchNormalization[epsilon=1e-05, is_test=1, momentum=1](%359, %32, %33, %34, %35), scope: MobileNetV2/Sequential[layers]/Block[1]/BatchNorm2d[bn1]\n",
      "  %361 : Float(32, 96, 32, 32) = onnx::Relu(%360), scope: MobileNetV2/Sequential[layers]/Block[1]\n",
      "  %362 : Float(32, 96, 32, 32) = onnx::Conv[dilations=[1, 1], group=96, kernel_shape=[3, 3], pads=[1, 1, 1, 1], strides=[1, 1]](%361, %37), scope: MobileNetV2/Sequential[layers]/Block[1]/Conv2d[conv2]\n",
      "  %363 : Float(32, 96, 32, 32) = onnx::BatchNormalization[epsilon=1e-05, is_test=1, momentum=1](%362, %38, %39, %40, %41), scope: MobileNetV2/Sequential[layers]/Block[1]/BatchNorm2d[bn2]\n",
      "  %364 : Float(32, 96, 32, 32) = onnx::Relu(%363), scope: MobileNetV2/Sequential[layers]/Block[1]\n",
      "  %365 : Float(32, 24, 32, 32) = onnx::Conv[dilations=[1, 1], group=1, kernel_shape=[1, 1], pads=[0, 0, 0, 0], strides=[1, 1]](%364, %43), scope: MobileNetV2/Sequential[layers]/Block[1]/Conv2d[conv3]\n",
      "  %366 : Float(32, 24, 32, 32) = onnx::BatchNormalization[epsilon=1e-05, is_test=1, momentum=1](%365, %44, %45, %46, %47), scope: MobileNetV2/Sequential[layers]/Block[1]/BatchNorm2d[bn3]\n",
      "  %367 : Float(32, 24, 32, 32) = onnx::Conv[dilations=[1, 1], group=1, kernel_shape=[1, 1], pads=[0, 0, 0, 0], strides=[1, 1]](%358, %49), scope: MobileNetV2/Sequential[layers]/Block[1]/Sequential[shortcut]/Conv2d[0]\n",
      "  %368 : Float(32, 24, 32, 32) = onnx::BatchNormalization[epsilon=1e-05, is_test=1, momentum=1](%367, %50, %51, %52, %53), scope: MobileNetV2/Sequential[layers]/Block[1]/Sequential[shortcut]/BatchNorm2d[1]\n",
      "  %369 : Float(32, 24, 32, 32) = onnx::Add(%366, %368), scope: MobileNetV2/Sequential[layers]/Block[1]\n",
      "  %370 : Float(32, 144, 32, 32) = onnx::Conv[dilations=[1, 1], group=1, kernel_shape=[1, 1], pads=[0, 0, 0, 0], strides=[1, 1]](%369, %55), scope: MobileNetV2/Sequential[layers]/Block[2]/Conv2d[conv1]\n",
      "  %371 : Float(32, 144, 32, 32) = onnx::BatchNormalization[epsilon=1e-05, is_test=1, momentum=1](%370, %56, %57, %58, %59), scope: MobileNetV2/Sequential[layers]/Block[2]/BatchNorm2d[bn1]\n",
      "  %372 : Float(32, 144, 32, 32) = onnx::Relu(%371), scope: MobileNetV2/Sequential[layers]/Block[2]\n",
      "  %373 : Float(32, 144, 32, 32) = onnx::Conv[dilations=[1, 1], group=144, kernel_shape=[3, 3], pads=[1, 1, 1, 1], strides=[1, 1]](%372, %61), scope: MobileNetV2/Sequential[layers]/Block[2]/Conv2d[conv2]\n",
      "  %374 : Float(32, 144, 32, 32) = onnx::BatchNormalization[epsilon=1e-05, is_test=1, momentum=1](%373, %62, %63, %64, %65), scope: MobileNetV2/Sequential[layers]/Block[2]/BatchNorm2d[bn2]\n",
      "  %375 : Float(32, 144, 32, 32) = onnx::Relu(%374), scope: MobileNetV2/Sequential[layers]/Block[2]\n",
      "  %376 : Float(32, 24, 32, 32) = onnx::Conv[dilations=[1, 1], group=1, kernel_shape=[1, 1], pads=[0, 0, 0, 0], strides=[1, 1]](%375, %67), scope: MobileNetV2/Sequential[layers]/Block[2]/Conv2d[conv3]\n",
      "  %377 : Float(32, 24, 32, 32) = onnx::BatchNormalization[epsilon=1e-05, is_test=1, momentum=1](%376, %68, %69, %70, %71), scope: MobileNetV2/Sequential[layers]/Block[2]/BatchNorm2d[bn3]\n",
      "  %378 : Float(32, 24, 32, 32) = onnx::Add(%377, %369), scope: MobileNetV2/Sequential[layers]/Block[2]\n",
      "  %379 : Float(32, 144, 32, 32) = onnx::Conv[dilations=[1, 1], group=1, kernel_shape=[1, 1], pads=[0, 0, 0, 0], strides=[1, 1]](%378, %73), scope: MobileNetV2/Sequential[layers]/Block[3]/Conv2d[conv1]\n",
      "  %380 : Float(32, 144, 32, 32) = onnx::BatchNormalization[epsilon=1e-05, is_test=1, momentum=1](%379, %74, %75, %76, %77), scope: MobileNetV2/Sequential[layers]/Block[3]/BatchNorm2d[bn1]\n",
      "  %381 : Float(32, 144, 32, 32) = onnx::Relu(%380), scope: MobileNetV2/Sequential[layers]/Block[3]\n",
      "  %382 : Float(32, 144, 16, 16) = onnx::Conv[dilations=[1, 1], group=144, kernel_shape=[3, 3], pads=[1, 1, 1, 1], strides=[2, 2]](%381, %79), scope: MobileNetV2/Sequential[layers]/Block[3]/Conv2d[conv2]\n",
      "  %383 : Float(32, 144, 16, 16) = onnx::BatchNormalization[epsilon=1e-05, is_test=1, momentum=1](%382, %80, %81, %82, %83), scope: MobileNetV2/Sequential[layers]/Block[3]/BatchNorm2d[bn2]\n",
      "  %384 : Float(32, 144, 16, 16) = onnx::Relu(%383), scope: MobileNetV2/Sequential[layers]/Block[3]\n",
      "  %385 : Float(32, 32, 16, 16) = onnx::Conv[dilations=[1, 1], group=1, kernel_shape=[1, 1], pads=[0, 0, 0, 0], strides=[1, 1]](%384, %85), scope: MobileNetV2/Sequential[layers]/Block[3]/Conv2d[conv3]\n",
      "  %386 : Float(32, 32, 16, 16) = onnx::BatchNormalization[epsilon=1e-05, is_test=1, momentum=1](%385, %86, %87, %88, %89), scope: MobileNetV2/Sequential[layers]/Block[3]/BatchNorm2d[bn3]\n",
      "  %387 : Float(32, 192, 16, 16) = onnx::Conv[dilations=[1, 1], group=1, kernel_shape=[1, 1], pads=[0, 0, 0, 0], strides=[1, 1]](%386, %91), scope: MobileNetV2/Sequential[layers]/Block[4]/Conv2d[conv1]\n",
      "  %388 : Float(32, 192, 16, 16) = onnx::BatchNormalization[epsilon=1e-05, is_test=1, momentum=1](%387, %92, %93, %94, %95), scope: MobileNetV2/Sequential[layers]/Block[4]/BatchNorm2d[bn1]\n",
      "  %389 : Float(32, 192, 16, 16) = onnx::Relu(%388), scope: MobileNetV2/Sequential[layers]/Block[4]\n",
      "  %390 : Float(32, 192, 16, 16) = onnx::Conv[dilations=[1, 1], group=192, kernel_shape=[3, 3], pads=[1, 1, 1, 1], strides=[1, 1]](%389, %97), scope: MobileNetV2/Sequential[layers]/Block[4]/Conv2d[conv2]\n",
      "  %391 : Float(32, 192, 16, 16) = onnx::BatchNormalization[epsilon=1e-05, is_test=1, momentum=1](%390, %98, %99, %100, %101), scope: MobileNetV2/Sequential[layers]/Block[4]/BatchNorm2d[bn2]\n",
      "  %392 : Float(32, 192, 16, 16) = onnx::Relu(%391), scope: MobileNetV2/Sequential[layers]/Block[4]\n",
      "  %393 : Float(32, 32, 16, 16) = onnx::Conv[dilations=[1, 1], group=1, kernel_shape=[1, 1], pads=[0, 0, 0, 0], strides=[1, 1]](%392, %103), scope: MobileNetV2/Sequential[layers]/Block[4]/Conv2d[conv3]\n",
      "  %394 : Float(32, 32, 16, 16) = onnx::BatchNormalization[epsilon=1e-05, is_test=1, momentum=1](%393, %104, %105, %106, %107), scope: MobileNetV2/Sequential[layers]/Block[4]/BatchNorm2d[bn3]\n",
      "  %395 : Float(32, 32, 16, 16) = onnx::Add(%394, %386), scope: MobileNetV2/Sequential[layers]/Block[4]\n",
      "  %396 : Float(32, 192, 16, 16) = onnx::Conv[dilations=[1, 1], group=1, kernel_shape=[1, 1], pads=[0, 0, 0, 0], strides=[1, 1]](%395, %109), scope: MobileNetV2/Sequential[layers]/Block[5]/Conv2d[conv1]\n",
      "  %397 : Float(32, 192, 16, 16) = onnx::BatchNormalization[epsilon=1e-05, is_test=1, momentum=1](%396, %110, %111, %112, %113), scope: MobileNetV2/Sequential[layers]/Block[5]/BatchNorm2d[bn1]\n",
      "  %398 : Float(32, 192, 16, 16) = onnx::Relu(%397), scope: MobileNetV2/Sequential[layers]/Block[5]\n",
      "  %399 : Float(32, 192, 16, 16) = onnx::Conv[dilations=[1, 1], group=192, kernel_shape=[3, 3], pads=[1, 1, 1, 1], strides=[1, 1]](%398, %115), scope: MobileNetV2/Sequential[layers]/Block[5]/Conv2d[conv2]\n",
      "  %400 : Float(32, 192, 16, 16) = onnx::BatchNormalization[epsilon=1e-05, is_test=1, momentum=1](%399, %116, %117, %118, %119), scope: MobileNetV2/Sequential[layers]/Block[5]/BatchNorm2d[bn2]\n",
      "  %401 : Float(32, 192, 16, 16) = onnx::Relu(%400), scope: MobileNetV2/Sequential[layers]/Block[5]\n",
      "  %402 : Float(32, 32, 16, 16) = onnx::Conv[dilations=[1, 1], group=1, kernel_shape=[1, 1], pads=[0, 0, 0, 0], strides=[1, 1]](%401, %121), scope: MobileNetV2/Sequential[layers]/Block[5]/Conv2d[conv3]\n",
      "  %403 : Float(32, 32, 16, 16) = onnx::BatchNormalization[epsilon=1e-05, is_test=1, momentum=1](%402, %122, %123, %124, %125), scope: MobileNetV2/Sequential[layers]/Block[5]/BatchNorm2d[bn3]\n",
      "  %404 : Float(32, 32, 16, 16) = onnx::Add(%403, %395), scope: MobileNetV2/Sequential[layers]/Block[5]\n",
      "  %405 : Float(32, 192, 16, 16) = onnx::Conv[dilations=[1, 1], group=1, kernel_shape=[1, 1], pads=[0, 0, 0, 0], strides=[1, 1]](%404, %127), scope: MobileNetV2/Sequential[layers]/Block[6]/Conv2d[conv1]\n",
      "  %406 : Float(32, 192, 16, 16) = onnx::BatchNormalization[epsilon=1e-05, is_test=1, momentum=1](%405, %128, %129, %130, %131), scope: MobileNetV2/Sequential[layers]/Block[6]/BatchNorm2d[bn1]\n",
      "  %407 : Float(32, 192, 16, 16) = onnx::Relu(%406), scope: MobileNetV2/Sequential[layers]/Block[6]\n",
      "  %408 : Float(32, 192, 8, 8) = onnx::Conv[dilations=[1, 1], group=192, kernel_shape=[3, 3], pads=[1, 1, 1, 1], strides=[2, 2]](%407, %133), scope: MobileNetV2/Sequential[layers]/Block[6]/Conv2d[conv2]\n",
      "  %409 : Float(32, 192, 8, 8) = onnx::BatchNormalization[epsilon=1e-05, is_test=1, momentum=1](%408, %134, %135, %136, %137), scope: MobileNetV2/Sequential[layers]/Block[6]/BatchNorm2d[bn2]\n",
      "  %410 : Float(32, 192, 8, 8) = onnx::Relu(%409), scope: MobileNetV2/Sequential[layers]/Block[6]\n",
      "  %411 : Float(32, 64, 8, 8) = onnx::Conv[dilations=[1, 1], group=1, kernel_shape=[1, 1], pads=[0, 0, 0, 0], strides=[1, 1]](%410, %139), scope: MobileNetV2/Sequential[layers]/Block[6]/Conv2d[conv3]\n",
      "  %412 : Float(32, 64, 8, 8) = onnx::BatchNormalization[epsilon=1e-05, is_test=1, momentum=1](%411, %140, %141, %142, %143), scope: MobileNetV2/Sequential[layers]/Block[6]/BatchNorm2d[bn3]\n",
      "  %413 : Float(32, 384, 8, 8) = onnx::Conv[dilations=[1, 1], group=1, kernel_shape=[1, 1], pads=[0, 0, 0, 0], strides=[1, 1]](%412, %145), scope: MobileNetV2/Sequential[layers]/Block[7]/Conv2d[conv1]\n",
      "  %414 : Float(32, 384, 8, 8) = onnx::BatchNormalization[epsilon=1e-05, is_test=1, momentum=1](%413, %146, %147, %148, %149), scope: MobileNetV2/Sequential[layers]/Block[7]/BatchNorm2d[bn1]\n",
      "  %415 : Float(32, 384, 8, 8) = onnx::Relu(%414), scope: MobileNetV2/Sequential[layers]/Block[7]\n",
      "  %416 : Float(32, 384, 8, 8) = onnx::Conv[dilations=[1, 1], group=384, kernel_shape=[3, 3], pads=[1, 1, 1, 1], strides=[1, 1]](%415, %151), scope: MobileNetV2/Sequential[layers]/Block[7]/Conv2d[conv2]\n",
      "  %417 : Float(32, 384, 8, 8) = onnx::BatchNormalization[epsilon=1e-05, is_test=1, momentum=1](%416, %152, %153, %154, %155), scope: MobileNetV2/Sequential[layers]/Block[7]/BatchNorm2d[bn2]\n",
      "  %418 : Float(32, 384, 8, 8) = onnx::Relu(%417), scope: MobileNetV2/Sequential[layers]/Block[7]\n",
      "  %419 : Float(32, 64, 8, 8) = onnx::Conv[dilations=[1, 1], group=1, kernel_shape=[1, 1], pads=[0, 0, 0, 0], strides=[1, 1]](%418, %157), scope: MobileNetV2/Sequential[layers]/Block[7]/Conv2d[conv3]\n",
      "  %420 : Float(32, 64, 8, 8) = onnx::BatchNormalization[epsilon=1e-05, is_test=1, momentum=1](%419, %158, %159, %160, %161), scope: MobileNetV2/Sequential[layers]/Block[7]/BatchNorm2d[bn3]\n",
      "  %421 : Float(32, 64, 8, 8) = onnx::Add(%420, %412), scope: MobileNetV2/Sequential[layers]/Block[7]\n",
      "  %422 : Float(32, 384, 8, 8) = onnx::Conv[dilations=[1, 1], group=1, kernel_shape=[1, 1], pads=[0, 0, 0, 0], strides=[1, 1]](%421, %163), scope: MobileNetV2/Sequential[layers]/Block[8]/Conv2d[conv1]\n",
      "  %423 : Float(32, 384, 8, 8) = onnx::BatchNormalization[epsilon=1e-05, is_test=1, momentum=1](%422, %164, %165, %166, %167), scope: MobileNetV2/Sequential[layers]/Block[8]/BatchNorm2d[bn1]\n",
      "  %424 : Float(32, 384, 8, 8) = onnx::Relu(%423), scope: MobileNetV2/Sequential[layers]/Block[8]\n",
      "  %425 : Float(32, 384, 8, 8) = onnx::Conv[dilations=[1, 1], group=384, kernel_shape=[3, 3], pads=[1, 1, 1, 1], strides=[1, 1]](%424, %169), scope: MobileNetV2/Sequential[layers]/Block[8]/Conv2d[conv2]\n",
      "  %426 : Float(32, 384, 8, 8) = onnx::BatchNormalization[epsilon=1e-05, is_test=1, momentum=1](%425, %170, %171, %172, %173), scope: MobileNetV2/Sequential[layers]/Block[8]/BatchNorm2d[bn2]\n",
      "  %427 : Float(32, 384, 8, 8) = onnx::Relu(%426), scope: MobileNetV2/Sequential[layers]/Block[8]\n",
      "  %428 : Float(32, 64, 8, 8) = onnx::Conv[dilations=[1, 1], group=1, kernel_shape=[1, 1], pads=[0, 0, 0, 0], strides=[1, 1]](%427, %175), scope: MobileNetV2/Sequential[layers]/Block[8]/Conv2d[conv3]\n",
      "  %429 : Float(32, 64, 8, 8) = onnx::BatchNormalization[epsilon=1e-05, is_test=1, momentum=1](%428, %176, %177, %178, %179), scope: MobileNetV2/Sequential[layers]/Block[8]/BatchNorm2d[bn3]\n",
      "  %430 : Float(32, 64, 8, 8) = onnx::Add(%429, %421), scope: MobileNetV2/Sequential[layers]/Block[8]\n",
      "  %431 : Float(32, 384, 8, 8) = onnx::Conv[dilations=[1, 1], group=1, kernel_shape=[1, 1], pads=[0, 0, 0, 0], strides=[1, 1]](%430, %181), scope: MobileNetV2/Sequential[layers]/Block[9]/Conv2d[conv1]\n",
      "  %432 : Float(32, 384, 8, 8) = onnx::BatchNormalization[epsilon=1e-05, is_test=1, momentum=1](%431, %182, %183, %184, %185), scope: MobileNetV2/Sequential[layers]/Block[9]/BatchNorm2d[bn1]\n",
      "  %433 : Float(32, 384, 8, 8) = onnx::Relu(%432), scope: MobileNetV2/Sequential[layers]/Block[9]\n",
      "  %434 : Float(32, 384, 8, 8) = onnx::Conv[dilations=[1, 1], group=384, kernel_shape=[3, 3], pads=[1, 1, 1, 1], strides=[1, 1]](%433, %187), scope: MobileNetV2/Sequential[layers]/Block[9]/Conv2d[conv2]\n",
      "  %435 : Float(32, 384, 8, 8) = onnx::BatchNormalization[epsilon=1e-05, is_test=1, momentum=1](%434, %188, %189, %190, %191), scope: MobileNetV2/Sequential[layers]/Block[9]/BatchNorm2d[bn2]\n",
      "  %436 : Float(32, 384, 8, 8) = onnx::Relu(%435), scope: MobileNetV2/Sequential[layers]/Block[9]\n",
      "  %437 : Float(32, 64, 8, 8) = onnx::Conv[dilations=[1, 1], group=1, kernel_shape=[1, 1], pads=[0, 0, 0, 0], strides=[1, 1]](%436, %193), scope: MobileNetV2/Sequential[layers]/Block[9]/Conv2d[conv3]\n",
      "  %438 : Float(32, 64, 8, 8) = onnx::BatchNormalization[epsilon=1e-05, is_test=1, momentum=1](%437, %194, %195, %196, %197), scope: MobileNetV2/Sequential[layers]/Block[9]/BatchNorm2d[bn3]\n",
      "  %439 : Float(32, 64, 8, 8) = onnx::Add(%438, %430), scope: MobileNetV2/Sequential[layers]/Block[9]\n",
      "  %440 : Float(32, 384, 8, 8) = onnx::Conv[dilations=[1, 1], group=1, kernel_shape=[1, 1], pads=[0, 0, 0, 0], strides=[1, 1]](%439, %199), scope: MobileNetV2/Sequential[layers]/Block[10]/Conv2d[conv1]\n",
      "  %441 : Float(32, 384, 8, 8) = onnx::BatchNormalization[epsilon=1e-05, is_test=1, momentum=1](%440, %200, %201, %202, %203), scope: MobileNetV2/Sequential[layers]/Block[10]/BatchNorm2d[bn1]\n",
      "  %442 : Float(32, 384, 8, 8) = onnx::Relu(%441), scope: MobileNetV2/Sequential[layers]/Block[10]\n",
      "  %443 : Float(32, 384, 8, 8) = onnx::Conv[dilations=[1, 1], group=384, kernel_shape=[3, 3], pads=[1, 1, 1, 1], strides=[1, 1]](%442, %205), scope: MobileNetV2/Sequential[layers]/Block[10]/Conv2d[conv2]\n",
      "  %444 : Float(32, 384, 8, 8) = onnx::BatchNormalization[epsilon=1e-05, is_test=1, momentum=1](%443, %206, %207, %208, %209), scope: MobileNetV2/Sequential[layers]/Block[10]/BatchNorm2d[bn2]\n",
      "  %445 : Float(32, 384, 8, 8) = onnx::Relu(%444), scope: MobileNetV2/Sequential[layers]/Block[10]\n",
      "  %446 : Float(32, 96, 8, 8) = onnx::Conv[dilations=[1, 1], group=1, kernel_shape=[1, 1], pads=[0, 0, 0, 0], strides=[1, 1]](%445, %211), scope: MobileNetV2/Sequential[layers]/Block[10]/Conv2d[conv3]\n",
      "  %447 : Float(32, 96, 8, 8) = onnx::BatchNormalization[epsilon=1e-05, is_test=1, momentum=1](%446, %212, %213, %214, %215), scope: MobileNetV2/Sequential[layers]/Block[10]/BatchNorm2d[bn3]\n",
      "  %448 : Float(32, 96, 8, 8) = onnx::Conv[dilations=[1, 1], group=1, kernel_shape=[1, 1], pads=[0, 0, 0, 0], strides=[1, 1]](%439, %217), scope: MobileNetV2/Sequential[layers]/Block[10]/Sequential[shortcut]/Conv2d[0]\n",
      "  %449 : Float(32, 96, 8, 8) = onnx::BatchNormalization[epsilon=1e-05, is_test=1, momentum=1](%448, %218, %219, %220, %221), scope: MobileNetV2/Sequential[layers]/Block[10]/Sequential[shortcut]/BatchNorm2d[1]\n",
      "  %450 : Float(32, 96, 8, 8) = onnx::Add(%447, %449), scope: MobileNetV2/Sequential[layers]/Block[10]\n",
      "  %451 : Float(32, 576, 8, 8) = onnx::Conv[dilations=[1, 1], group=1, kernel_shape=[1, 1], pads=[0, 0, 0, 0], strides=[1, 1]](%450, %223), scope: MobileNetV2/Sequential[layers]/Block[11]/Conv2d[conv1]\n",
      "  %452 : Float(32, 576, 8, 8) = onnx::BatchNormalization[epsilon=1e-05, is_test=1, momentum=1](%451, %224, %225, %226, %227), scope: MobileNetV2/Sequential[layers]/Block[11]/BatchNorm2d[bn1]\n",
      "  %453 : Float(32, 576, 8, 8) = onnx::Relu(%452), scope: MobileNetV2/Sequential[layers]/Block[11]\n",
      "  %454 : Float(32, 576, 8, 8) = onnx::Conv[dilations=[1, 1], group=576, kernel_shape=[3, 3], pads=[1, 1, 1, 1], strides=[1, 1]](%453, %229), scope: MobileNetV2/Sequential[layers]/Block[11]/Conv2d[conv2]\n",
      "  %455 : Float(32, 576, 8, 8) = onnx::BatchNormalization[epsilon=1e-05, is_test=1, momentum=1](%454, %230, %231, %232, %233), scope: MobileNetV2/Sequential[layers]/Block[11]/BatchNorm2d[bn2]\n",
      "  %456 : Float(32, 576, 8, 8) = onnx::Relu(%455), scope: MobileNetV2/Sequential[layers]/Block[11]\n",
      "  %457 : Float(32, 96, 8, 8) = onnx::Conv[dilations=[1, 1], group=1, kernel_shape=[1, 1], pads=[0, 0, 0, 0], strides=[1, 1]](%456, %235), scope: MobileNetV2/Sequential[layers]/Block[11]/Conv2d[conv3]\n",
      "  %458 : Float(32, 96, 8, 8) = onnx::BatchNormalization[epsilon=1e-05, is_test=1, momentum=1](%457, %236, %237, %238, %239), scope: MobileNetV2/Sequential[layers]/Block[11]/BatchNorm2d[bn3]\n",
      "  %459 : Float(32, 96, 8, 8) = onnx::Add(%458, %450), scope: MobileNetV2/Sequential[layers]/Block[11]\n",
      "  %460 : Float(32, 576, 8, 8) = onnx::Conv[dilations=[1, 1], group=1, kernel_shape=[1, 1], pads=[0, 0, 0, 0], strides=[1, 1]](%459, %241), scope: MobileNetV2/Sequential[layers]/Block[12]/Conv2d[conv1]\n",
      "  %461 : Float(32, 576, 8, 8) = onnx::BatchNormalization[epsilon=1e-05, is_test=1, momentum=1](%460, %242, %243, %244, %245), scope: MobileNetV2/Sequential[layers]/Block[12]/BatchNorm2d[bn1]\n",
      "  %462 : Float(32, 576, 8, 8) = onnx::Relu(%461), scope: MobileNetV2/Sequential[layers]/Block[12]\n",
      "  %463 : Float(32, 576, 8, 8) = onnx::Conv[dilations=[1, 1], group=576, kernel_shape=[3, 3], pads=[1, 1, 1, 1], strides=[1, 1]](%462, %247), scope: MobileNetV2/Sequential[layers]/Block[12]/Conv2d[conv2]\n",
      "  %464 : Float(32, 576, 8, 8) = onnx::BatchNormalization[epsilon=1e-05, is_test=1, momentum=1](%463, %248, %249, %250, %251), scope: MobileNetV2/Sequential[layers]/Block[12]/BatchNorm2d[bn2]\n",
      "  %465 : Float(32, 576, 8, 8) = onnx::Relu(%464), scope: MobileNetV2/Sequential[layers]/Block[12]\n",
      "  %466 : Float(32, 96, 8, 8) = onnx::Conv[dilations=[1, 1], group=1, kernel_shape=[1, 1], pads=[0, 0, 0, 0], strides=[1, 1]](%465, %253), scope: MobileNetV2/Sequential[layers]/Block[12]/Conv2d[conv3]\n",
      "  %467 : Float(32, 96, 8, 8) = onnx::BatchNormalization[epsilon=1e-05, is_test=1, momentum=1](%466, %254, %255, %256, %257), scope: MobileNetV2/Sequential[layers]/Block[12]/BatchNorm2d[bn3]\n",
      "  %468 : Float(32, 96, 8, 8) = onnx::Add(%467, %459), scope: MobileNetV2/Sequential[layers]/Block[12]\n",
      "  %469 : Float(32, 576, 8, 8) = onnx::Conv[dilations=[1, 1], group=1, kernel_shape=[1, 1], pads=[0, 0, 0, 0], strides=[1, 1]](%468, %259), scope: MobileNetV2/Sequential[layers]/Block[13]/Conv2d[conv1]\n",
      "  %470 : Float(32, 576, 8, 8) = onnx::BatchNormalization[epsilon=1e-05, is_test=1, momentum=1](%469, %260, %261, %262, %263), scope: MobileNetV2/Sequential[layers]/Block[13]/BatchNorm2d[bn1]\n",
      "  %471 : Float(32, 576, 8, 8) = onnx::Relu(%470), scope: MobileNetV2/Sequential[layers]/Block[13]\n",
      "  %472 : Float(32, 576, 4, 4) = onnx::Conv[dilations=[1, 1], group=576, kernel_shape=[3, 3], pads=[1, 1, 1, 1], strides=[2, 2]](%471, %265), scope: MobileNetV2/Sequential[layers]/Block[13]/Conv2d[conv2]\n",
      "  %473 : Float(32, 576, 4, 4) = onnx::BatchNormalization[epsilon=1e-05, is_test=1, momentum=1](%472, %266, %267, %268, %269), scope: MobileNetV2/Sequential[layers]/Block[13]/BatchNorm2d[bn2]\n",
      "  %474 : Float(32, 576, 4, 4) = onnx::Relu(%473), scope: MobileNetV2/Sequential[layers]/Block[13]\n",
      "  %475 : Float(32, 160, 4, 4) = onnx::Conv[dilations=[1, 1], group=1, kernel_shape=[1, 1], pads=[0, 0, 0, 0], strides=[1, 1]](%474, %271), scope: MobileNetV2/Sequential[layers]/Block[13]/Conv2d[conv3]\n",
      "  %476 : Float(32, 160, 4, 4) = onnx::BatchNormalization[epsilon=1e-05, is_test=1, momentum=1](%475, %272, %273, %274, %275), scope: MobileNetV2/Sequential[layers]/Block[13]/BatchNorm2d[bn3]\n",
      "  %477 : Float(32, 960, 4, 4) = onnx::Conv[dilations=[1, 1], group=1, kernel_shape=[1, 1], pads=[0, 0, 0, 0], strides=[1, 1]](%476, %277), scope: MobileNetV2/Sequential[layers]/Block[14]/Conv2d[conv1]\n",
      "  %478 : Float(32, 960, 4, 4) = onnx::BatchNormalization[epsilon=1e-05, is_test=1, momentum=1](%477, %278, %279, %280, %281), scope: MobileNetV2/Sequential[layers]/Block[14]/BatchNorm2d[bn1]\n",
      "  %479 : Float(32, 960, 4, 4) = onnx::Relu(%478), scope: MobileNetV2/Sequential[layers]/Block[14]\n",
      "  %480 : Float(32, 960, 4, 4) = onnx::Conv[dilations=[1, 1], group=960, kernel_shape=[3, 3], pads=[1, 1, 1, 1], strides=[1, 1]](%479, %283), scope: MobileNetV2/Sequential[layers]/Block[14]/Conv2d[conv2]\n",
      "  %481 : Float(32, 960, 4, 4) = onnx::BatchNormalization[epsilon=1e-05, is_test=1, momentum=1](%480, %284, %285, %286, %287), scope: MobileNetV2/Sequential[layers]/Block[14]/BatchNorm2d[bn2]\n",
      "  %482 : Float(32, 960, 4, 4) = onnx::Relu(%481), scope: MobileNetV2/Sequential[layers]/Block[14]\n",
      "  %483 : Float(32, 160, 4, 4) = onnx::Conv[dilations=[1, 1], group=1, kernel_shape=[1, 1], pads=[0, 0, 0, 0], strides=[1, 1]](%482, %289), scope: MobileNetV2/Sequential[layers]/Block[14]/Conv2d[conv3]\n",
      "  %484 : Float(32, 160, 4, 4) = onnx::BatchNormalization[epsilon=1e-05, is_test=1, momentum=1](%483, %290, %291, %292, %293), scope: MobileNetV2/Sequential[layers]/Block[14]/BatchNorm2d[bn3]\n",
      "  %485 : Float(32, 160, 4, 4) = onnx::Add(%484, %476), scope: MobileNetV2/Sequential[layers]/Block[14]\n",
      "  %486 : Float(32, 960, 4, 4) = onnx::Conv[dilations=[1, 1], group=1, kernel_shape=[1, 1], pads=[0, 0, 0, 0], strides=[1, 1]](%485, %295), scope: MobileNetV2/Sequential[layers]/Block[15]/Conv2d[conv1]\n",
      "  %487 : Float(32, 960, 4, 4) = onnx::BatchNormalization[epsilon=1e-05, is_test=1, momentum=1](%486, %296, %297, %298, %299), scope: MobileNetV2/Sequential[layers]/Block[15]/BatchNorm2d[bn1]\n",
      "  %488 : Float(32, 960, 4, 4) = onnx::Relu(%487), scope: MobileNetV2/Sequential[layers]/Block[15]\n",
      "  %489 : Float(32, 960, 4, 4) = onnx::Conv[dilations=[1, 1], group=960, kernel_shape=[3, 3], pads=[1, 1, 1, 1], strides=[1, 1]](%488, %301), scope: MobileNetV2/Sequential[layers]/Block[15]/Conv2d[conv2]\n",
      "  %490 : Float(32, 960, 4, 4) = onnx::BatchNormalization[epsilon=1e-05, is_test=1, momentum=1](%489, %302, %303, %304, %305), scope: MobileNetV2/Sequential[layers]/Block[15]/BatchNorm2d[bn2]\n",
      "  %491 : Float(32, 960, 4, 4) = onnx::Relu(%490), scope: MobileNetV2/Sequential[layers]/Block[15]\n",
      "  %492 : Float(32, 160, 4, 4) = onnx::Conv[dilations=[1, 1], group=1, kernel_shape=[1, 1], pads=[0, 0, 0, 0], strides=[1, 1]](%491, %307), scope: MobileNetV2/Sequential[layers]/Block[15]/Conv2d[conv3]\n",
      "  %493 : Float(32, 160, 4, 4) = onnx::BatchNormalization[epsilon=1e-05, is_test=1, momentum=1](%492, %308, %309, %310, %311), scope: MobileNetV2/Sequential[layers]/Block[15]/BatchNorm2d[bn3]\n",
      "  %494 : Float(32, 160, 4, 4) = onnx::Add(%493, %485), scope: MobileNetV2/Sequential[layers]/Block[15]\n",
      "  %495 : Float(32, 960, 4, 4) = onnx::Conv[dilations=[1, 1], group=1, kernel_shape=[1, 1], pads=[0, 0, 0, 0], strides=[1, 1]](%494, %313), scope: MobileNetV2/Sequential[layers]/Block[16]/Conv2d[conv1]\n",
      "  %496 : Float(32, 960, 4, 4) = onnx::BatchNormalization[epsilon=1e-05, is_test=1, momentum=1](%495, %314, %315, %316, %317), scope: MobileNetV2/Sequential[layers]/Block[16]/BatchNorm2d[bn1]\n",
      "  %497 : Float(32, 960, 4, 4) = onnx::Relu(%496), scope: MobileNetV2/Sequential[layers]/Block[16]\n",
      "  %498 : Float(32, 960, 4, 4) = onnx::Conv[dilations=[1, 1], group=960, kernel_shape=[3, 3], pads=[1, 1, 1, 1], strides=[1, 1]](%497, %319), scope: MobileNetV2/Sequential[layers]/Block[16]/Conv2d[conv2]\n",
      "  %499 : Float(32, 960, 4, 4) = onnx::BatchNormalization[epsilon=1e-05, is_test=1, momentum=1](%498, %320, %321, %322, %323), scope: MobileNetV2/Sequential[layers]/Block[16]/BatchNorm2d[bn2]\n",
      "  %500 : Float(32, 960, 4, 4) = onnx::Relu(%499), scope: MobileNetV2/Sequential[layers]/Block[16]\n",
      "  %501 : Float(32, 320, 4, 4) = onnx::Conv[dilations=[1, 1], group=1, kernel_shape=[1, 1], pads=[0, 0, 0, 0], strides=[1, 1]](%500, %325), scope: MobileNetV2/Sequential[layers]/Block[16]/Conv2d[conv3]\n",
      "  %502 : Float(32, 320, 4, 4) = onnx::BatchNormalization[epsilon=1e-05, is_test=1, momentum=1](%501, %326, %327, %328, %329), scope: MobileNetV2/Sequential[layers]/Block[16]/BatchNorm2d[bn3]\n",
      "  %503 : Float(32, 320, 4, 4) = onnx::Conv[dilations=[1, 1], group=1, kernel_shape=[1, 1], pads=[0, 0, 0, 0], strides=[1, 1]](%494, %331), scope: MobileNetV2/Sequential[layers]/Block[16]/Sequential[shortcut]/Conv2d[0]\n",
      "  %504 : Float(32, 320, 4, 4) = onnx::BatchNormalization[epsilon=1e-05, is_test=1, momentum=1](%503, %332, %333, %334, %335), scope: MobileNetV2/Sequential[layers]/Block[16]/Sequential[shortcut]/BatchNorm2d[1]\n",
      "  %505 : Float(32, 320, 4, 4) = onnx::Add(%502, %504), scope: MobileNetV2/Sequential[layers]/Block[16]\n",
      "  %506 : Float(32, 1280, 4, 4) = onnx::Conv[dilations=[1, 1], group=1, kernel_shape=[1, 1], pads=[0, 0, 0, 0], strides=[1, 1]](%505, %337), scope: MobileNetV2/Conv2d[conv2]\n",
      "  %507 : Float(32, 1280, 4, 4) = onnx::BatchNormalization[epsilon=1e-05, is_test=1, momentum=1](%506, %338, %339, %340, %341), scope: MobileNetV2/BatchNorm2d[bn2]\n",
      "  %508 : Float(32, 1280, 4, 4) = onnx::Relu(%507), scope: MobileNetV2\n",
      "  %509 : Dynamic = onnx::Pad[mode=constant, pads=[0, 0, 0, 0, 0, 0, 0, 0], value=0](%508), scope: MobileNetV2\n",
      "  %510 : Float(32, 1280, 1, 1) = onnx::AveragePool[kernel_shape=[4, 4], pads=[0, 0, 0, 0], strides=[4, 4]](%509), scope: MobileNetV2\n",
      "  %511 : Dynamic = onnx::Shape(%510), scope: MobileNetV2\n",
      "  %512 : Dynamic = onnx::Slice[axes=[0], ends=[1], starts=[0]](%511), scope: MobileNetV2\n",
      "  %513 : Long() = onnx::Squeeze[axes=[0]](%512), scope: MobileNetV2\n",
      "  %514 : Long() = onnx::Constant[value={-1}](), scope: MobileNetV2\n",
      "  %515 : Dynamic = onnx::Unsqueeze[axes=[0]](%513), scope: MobileNetV2\n",
      "  %516 : Dynamic = onnx::Unsqueeze[axes=[0]](%514), scope: MobileNetV2\n",
      "  %517 : Dynamic = onnx::Concat[axis=0](%515, %516), scope: MobileNetV2\n",
      "  %518 : Float(32, 1280) = onnx::Reshape(%510, %517), scope: MobileNetV2\n",
      "  %519 : Float(32, 10) = onnx::Gemm[alpha=1, beta=1, broadcast=1, transB=1](%518, %343, %344), scope: MobileNetV2/Linear[linear]\n",
      "  return (%519);\n",
      "}\n",
      "\n"
     ]
    }
   ],
   "source": [
    "# Export model\n",
    "print('==> Exporting model..')\n",
    "dummy_input = Variable(torch.randn(32, 3, 32, 32), requires_grad=False).cuda()\n",
    "torch.onnx.export(net, dummy_input, \"./checkpoint/mobileNetV2.{}.onnx\".format(_name), verbose=True)"
   ]
  },
  {
   "cell_type": "code",
   "execution_count": null,
   "metadata": {},
   "outputs": [],
   "source": []
  },
  {
   "cell_type": "markdown",
   "metadata": {},
   "source": [
    "## Testing"
   ]
  },
  {
   "cell_type": "code",
   "execution_count": null,
   "metadata": {},
   "outputs": [],
   "source": [
    "import torch\n",
    "import torchvision\n",
    "import torchvision.transforms as transforms\n",
    "import os\n",
    "import sys\n",
    "data_dir = \"/tmp/work/data/CINIC-10/test/\"\n",
    "assert data_dir is not None, \"No data directory\"\n",
    "\n",
    "from models import *\n",
    "checkpoint = torch.load('../mobileNetV2.cinic10.0.pth')\n",
    "model = MobileNetV2()\n",
    "model.load_state_dict(checkpoint['net'])\n",
    "device = 'cuda' if torch.cuda.is_available() else 'cpu'\n",
    "\n",
    "def inference(model, testloader):\n",
    "    total = 0\n",
    "    correct = 0\n",
    "    model.to(device)\n",
    "    model = torch.nn.DataParallel(model)\n",
    "    model.eval()\n",
    "    with torch.no_grad():\n",
    "        for batch_idx, (inputs, targets) in enumerate(testloader):\n",
    "            inputs, targets = inputs.to(device), targets.to(device)\n",
    "            outputs = model(inputs)\n",
    "            _, predicted = outputs.max(1)\n",
    "            total += targets.size(0)\n",
    "            correct += predicted.eq(targets.cuda()).sum().item()\n",
    "    acc = 100.*correct/total\n",
    "    print(acc)\n",
    "    return acc\n",
    "\n",
    "transform_test = transforms.Compose([\n",
    "    transforms.ToTensor(),\n",
    "    transforms.Normalize(mean=[0.47889522, 0.47227842, 0.43047404],  std=[0.24205776, 0.23828046, 0.25874835]),\n",
    "])\n",
    "#testset = torchvision.datasets.CIFAR10(root='./data', train=False, download=True, transform=transform_test)\n",
    "testset = torchvision.datasets.ImageFolder(root=data_dir, transform=transform_test)\n",
    "testloader = torch.utils.data.DataLoader(testset, batch_size=64, shuffle=False, num_workers=2)\n",
    "inference(model, testloader)"
   ]
  }
 ],
 "metadata": {
  "kernelspec": {
   "display_name": "Python 3",
   "language": "python",
   "name": "python3"
  },
  "language_info": {
   "codemirror_mode": {
    "name": "ipython",
    "version": 3
   },
   "file_extension": ".py",
   "mimetype": "text/x-python",
   "name": "python",
   "nbconvert_exporter": "python",
   "pygments_lexer": "ipython3",
   "version": "3.6.6"
  }
 },
 "nbformat": 4,
 "nbformat_minor": 2
}
