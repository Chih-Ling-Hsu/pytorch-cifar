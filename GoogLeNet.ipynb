{
 "cells": [
  {
   "cell_type": "code",
   "execution_count": 1,
   "metadata": {},
   "outputs": [],
   "source": [
    "from tqdm import tqdm"
   ]
  },
  {
   "cell_type": "markdown",
   "metadata": {},
   "source": [
    "## 1. Pre-train on CIFAR-10"
   ]
  },
  {
   "cell_type": "code",
   "execution_count": 3,
   "metadata": {
    "scrolled": true
   },
   "outputs": [
    {
     "name": "stdout",
     "output_type": "stream",
     "text": [
      "==> Preparing data..\n",
      "Files already downloaded and verified\n",
      "Files already downloaded and verified\n"
     ]
    },
    {
     "name": "stderr",
     "output_type": "stream",
     "text": [
      "\r",
      "  0%|          | 0/391 [00:00<?, ?it/s]"
     ]
    },
    {
     "name": "stdout",
     "output_type": "stream",
     "text": [
      "==> Building model..\n",
      "\n",
      "Epoch: 0\n"
     ]
    },
    {
     "name": "stderr",
     "output_type": "stream",
     "text": [
      "Acc: 43.636%: 100%|██████████| 391/391 [01:37<00:00,  3.75s/it]\n",
      "Acc: 52.910%: 100%|██████████| 100/100 [00:14<00:00,  6.89it/s]\n",
      "  0%|          | 0/391 [00:00<?, ?it/s]"
     ]
    },
    {
     "name": "stdout",
     "output_type": "stream",
     "text": [
      "Saving..\n",
      "\n",
      "Epoch: 1\n"
     ]
    },
    {
     "name": "stderr",
     "output_type": "stream",
     "text": [
      "Acc: 63.908%: 100%|██████████| 391/391 [01:12<00:00,  5.59it/s]\n",
      "  0%|          | 0/391 [00:00<?, ?it/s]"
     ]
    },
    {
     "name": "stdout",
     "output_type": "stream",
     "text": [
      "\n",
      "Epoch: 2\n"
     ]
    },
    {
     "name": "stderr",
     "output_type": "stream",
     "text": [
      "Acc: 72.180%: 100%|██████████| 391/391 [01:09<00:00,  5.70it/s]\n",
      "  0%|          | 0/391 [00:00<?, ?it/s]"
     ]
    },
    {
     "name": "stdout",
     "output_type": "stream",
     "text": [
      "\n",
      "Epoch: 3\n"
     ]
    },
    {
     "name": "stderr",
     "output_type": "stream",
     "text": [
      "Acc: 76.014%: 100%|██████████| 391/391 [01:10<00:00,  5.77it/s]\n",
      "  0%|          | 0/391 [00:00<?, ?it/s]"
     ]
    },
    {
     "name": "stdout",
     "output_type": "stream",
     "text": [
      "\n",
      "Epoch: 4\n"
     ]
    },
    {
     "name": "stderr",
     "output_type": "stream",
     "text": [
      "Acc: 78.030%: 100%|██████████| 391/391 [01:09<00:00,  5.56it/s]\n",
      "  0%|          | 0/391 [00:00<?, ?it/s]"
     ]
    },
    {
     "name": "stdout",
     "output_type": "stream",
     "text": [
      "\n",
      "Epoch: 5\n"
     ]
    },
    {
     "name": "stderr",
     "output_type": "stream",
     "text": [
      "Acc: 79.606%: 100%|██████████| 391/391 [01:09<00:00,  5.76it/s]\n",
      "  0%|          | 0/391 [00:00<?, ?it/s]"
     ]
    },
    {
     "name": "stdout",
     "output_type": "stream",
     "text": [
      "\n",
      "Epoch: 6\n"
     ]
    },
    {
     "name": "stderr",
     "output_type": "stream",
     "text": [
      "Acc: 80.242%: 100%|██████████| 391/391 [01:08<00:00,  5.55it/s]\n",
      "  0%|          | 0/391 [00:00<?, ?it/s]"
     ]
    },
    {
     "name": "stdout",
     "output_type": "stream",
     "text": [
      "\n",
      "Epoch: 7\n"
     ]
    },
    {
     "name": "stderr",
     "output_type": "stream",
     "text": [
      "Acc: 81.330%: 100%|██████████| 391/391 [01:09<00:00,  5.51it/s]\n",
      "  0%|          | 0/391 [00:00<?, ?it/s]"
     ]
    },
    {
     "name": "stdout",
     "output_type": "stream",
     "text": [
      "\n",
      "Epoch: 8\n"
     ]
    },
    {
     "name": "stderr",
     "output_type": "stream",
     "text": [
      "Acc: 82.036%: 100%|██████████| 391/391 [01:09<00:00,  5.94it/s]\n",
      "  0%|          | 0/391 [00:00<?, ?it/s]"
     ]
    },
    {
     "name": "stdout",
     "output_type": "stream",
     "text": [
      "\n",
      "Epoch: 9\n"
     ]
    },
    {
     "name": "stderr",
     "output_type": "stream",
     "text": [
      "Acc: 82.476%: 100%|██████████| 391/391 [01:08<00:00,  5.53it/s]\n",
      "  0%|          | 0/391 [00:00<?, ?it/s]"
     ]
    },
    {
     "name": "stdout",
     "output_type": "stream",
     "text": [
      "\n",
      "Epoch: 10\n"
     ]
    },
    {
     "name": "stderr",
     "output_type": "stream",
     "text": [
      "Acc: 83.174%: 100%|██████████| 391/391 [01:10<00:00,  5.56it/s]\n",
      "Acc: 67.220%: 100%|██████████| 100/100 [00:11<00:00,  9.08it/s]\n",
      "  0%|          | 0/391 [00:00<?, ?it/s]"
     ]
    },
    {
     "name": "stdout",
     "output_type": "stream",
     "text": [
      "Saving..\n",
      "\n",
      "Epoch: 11\n"
     ]
    },
    {
     "name": "stderr",
     "output_type": "stream",
     "text": [
      "Acc: 83.404%: 100%|██████████| 391/391 [01:09<00:00,  5.58it/s]\n",
      "  0%|          | 0/391 [00:00<?, ?it/s]"
     ]
    },
    {
     "name": "stdout",
     "output_type": "stream",
     "text": [
      "\n",
      "Epoch: 12\n"
     ]
    },
    {
     "name": "stderr",
     "output_type": "stream",
     "text": [
      "Acc: 84.002%: 100%|██████████| 391/391 [01:10<00:00,  5.59it/s]\n",
      "  0%|          | 0/391 [00:00<?, ?it/s]"
     ]
    },
    {
     "name": "stdout",
     "output_type": "stream",
     "text": [
      "\n",
      "Epoch: 13\n"
     ]
    },
    {
     "name": "stderr",
     "output_type": "stream",
     "text": [
      "Acc: 84.256%: 100%|██████████| 391/391 [01:09<00:00,  5.77it/s]\n",
      "  0%|          | 0/391 [00:00<?, ?it/s]"
     ]
    },
    {
     "name": "stdout",
     "output_type": "stream",
     "text": [
      "\n",
      "Epoch: 14\n"
     ]
    },
    {
     "name": "stderr",
     "output_type": "stream",
     "text": [
      "Acc: 84.584%: 100%|██████████| 391/391 [01:09<00:00,  5.26it/s]\n",
      "  0%|          | 0/391 [00:00<?, ?it/s]"
     ]
    },
    {
     "name": "stdout",
     "output_type": "stream",
     "text": [
      "\n",
      "Epoch: 15\n"
     ]
    },
    {
     "name": "stderr",
     "output_type": "stream",
     "text": [
      "Acc: 84.782%: 100%|██████████| 391/391 [01:10<00:00,  5.66it/s]\n",
      "  0%|          | 0/391 [00:00<?, ?it/s]"
     ]
    },
    {
     "name": "stdout",
     "output_type": "stream",
     "text": [
      "\n",
      "Epoch: 16\n"
     ]
    },
    {
     "name": "stderr",
     "output_type": "stream",
     "text": [
      "Acc: 84.942%: 100%|██████████| 391/391 [01:09<00:00,  5.66it/s]\n",
      "  0%|          | 0/391 [00:00<?, ?it/s]"
     ]
    },
    {
     "name": "stdout",
     "output_type": "stream",
     "text": [
      "\n",
      "Epoch: 17\n"
     ]
    },
    {
     "name": "stderr",
     "output_type": "stream",
     "text": [
      "Acc: 85.536%: 100%|██████████| 391/391 [01:10<00:00,  5.82it/s]\n",
      "  0%|          | 0/391 [00:00<?, ?it/s]"
     ]
    },
    {
     "name": "stdout",
     "output_type": "stream",
     "text": [
      "\n",
      "Epoch: 18\n"
     ]
    },
    {
     "name": "stderr",
     "output_type": "stream",
     "text": [
      "Acc: 85.482%: 100%|██████████| 391/391 [01:10<00:00,  5.61it/s]\n",
      "  0%|          | 0/391 [00:00<?, ?it/s]"
     ]
    },
    {
     "name": "stdout",
     "output_type": "stream",
     "text": [
      "\n",
      "Epoch: 19\n"
     ]
    },
    {
     "name": "stderr",
     "output_type": "stream",
     "text": [
      "Acc: 85.854%: 100%|██████████| 391/391 [01:10<00:00,  5.52it/s]\n",
      "  0%|          | 0/391 [00:00<?, ?it/s]"
     ]
    },
    {
     "name": "stdout",
     "output_type": "stream",
     "text": [
      "\n",
      "Epoch: 20\n"
     ]
    },
    {
     "name": "stderr",
     "output_type": "stream",
     "text": [
      "Acc: 85.936%: 100%|██████████| 391/391 [01:10<00:00,  5.59it/s]\n",
      "Acc: 73.640%: 100%|██████████| 100/100 [00:11<00:00,  8.68it/s]\n",
      "  0%|          | 0/391 [00:00<?, ?it/s]"
     ]
    },
    {
     "name": "stdout",
     "output_type": "stream",
     "text": [
      "Saving..\n",
      "\n",
      "Epoch: 21\n"
     ]
    },
    {
     "name": "stderr",
     "output_type": "stream",
     "text": [
      "Acc: 85.938%: 100%|██████████| 391/391 [01:10<00:00,  5.46it/s]\n",
      "  0%|          | 0/391 [00:00<?, ?it/s]"
     ]
    },
    {
     "name": "stdout",
     "output_type": "stream",
     "text": [
      "\n",
      "Epoch: 22\n"
     ]
    },
    {
     "name": "stderr",
     "output_type": "stream",
     "text": [
      "Acc: 86.436%: 100%|██████████| 391/391 [01:10<00:00,  5.64it/s]\n",
      "  0%|          | 0/391 [00:00<?, ?it/s]"
     ]
    },
    {
     "name": "stdout",
     "output_type": "stream",
     "text": [
      "\n",
      "Epoch: 23\n"
     ]
    },
    {
     "name": "stderr",
     "output_type": "stream",
     "text": [
      "Acc: 86.468%: 100%|██████████| 391/391 [01:10<00:00,  5.85it/s]\n",
      "  0%|          | 0/391 [00:00<?, ?it/s]"
     ]
    },
    {
     "name": "stdout",
     "output_type": "stream",
     "text": [
      "\n",
      "Epoch: 24\n"
     ]
    },
    {
     "name": "stderr",
     "output_type": "stream",
     "text": [
      "Acc: 86.684%: 100%|██████████| 391/391 [01:10<00:00,  5.51it/s]\n",
      "  0%|          | 0/391 [00:00<?, ?it/s]"
     ]
    },
    {
     "name": "stdout",
     "output_type": "stream",
     "text": [
      "\n",
      "Epoch: 25\n"
     ]
    },
    {
     "name": "stderr",
     "output_type": "stream",
     "text": [
      "Acc: 86.744%: 100%|██████████| 391/391 [01:10<00:00,  5.64it/s]\n",
      "  0%|          | 0/391 [00:00<?, ?it/s]"
     ]
    },
    {
     "name": "stdout",
     "output_type": "stream",
     "text": [
      "\n",
      "Epoch: 26\n"
     ]
    },
    {
     "name": "stderr",
     "output_type": "stream",
     "text": [
      "Acc: 86.684%: 100%|██████████| 391/391 [01:10<00:00,  5.43it/s]\n",
      "  0%|          | 0/391 [00:00<?, ?it/s]"
     ]
    },
    {
     "name": "stdout",
     "output_type": "stream",
     "text": [
      "\n",
      "Epoch: 27\n"
     ]
    },
    {
     "name": "stderr",
     "output_type": "stream",
     "text": [
      "Acc: 86.842%: 100%|██████████| 391/391 [01:10<00:00,  5.66it/s]\n",
      "  0%|          | 0/391 [00:00<?, ?it/s]"
     ]
    },
    {
     "name": "stdout",
     "output_type": "stream",
     "text": [
      "\n",
      "Epoch: 28\n"
     ]
    },
    {
     "name": "stderr",
     "output_type": "stream",
     "text": [
      "Acc: 87.034%: 100%|██████████| 391/391 [01:10<00:00,  5.63it/s]\n",
      "  0%|          | 0/391 [00:00<?, ?it/s]"
     ]
    },
    {
     "name": "stdout",
     "output_type": "stream",
     "text": [
      "\n",
      "Epoch: 29\n"
     ]
    },
    {
     "name": "stderr",
     "output_type": "stream",
     "text": [
      "Acc: 86.994%: 100%|██████████| 391/391 [01:10<00:00,  5.49it/s]\n",
      "  0%|          | 0/391 [00:00<?, ?it/s]"
     ]
    },
    {
     "name": "stdout",
     "output_type": "stream",
     "text": [
      "\n",
      "Epoch: 30\n"
     ]
    },
    {
     "name": "stderr",
     "output_type": "stream",
     "text": [
      "Acc: 86.944%: 100%|██████████| 391/391 [01:10<00:00,  5.62it/s]\n",
      "Acc: 82.550%: 100%|██████████| 100/100 [00:11<00:00,  8.64it/s]\n",
      "  0%|          | 0/391 [00:00<?, ?it/s]"
     ]
    },
    {
     "name": "stdout",
     "output_type": "stream",
     "text": [
      "Saving..\n",
      "\n",
      "Epoch: 31\n"
     ]
    },
    {
     "name": "stderr",
     "output_type": "stream",
     "text": [
      "Acc: 87.432%: 100%|██████████| 391/391 [01:09<00:00,  5.57it/s]\n",
      "  0%|          | 0/391 [00:00<?, ?it/s]"
     ]
    },
    {
     "name": "stdout",
     "output_type": "stream",
     "text": [
      "\n",
      "Epoch: 32\n"
     ]
    },
    {
     "name": "stderr",
     "output_type": "stream",
     "text": [
      "Acc: 87.494%: 100%|██████████| 391/391 [01:12<00:00,  5.58it/s]\n",
      "  0%|          | 0/391 [00:00<?, ?it/s]"
     ]
    },
    {
     "name": "stdout",
     "output_type": "stream",
     "text": [
      "\n",
      "Epoch: 33\n"
     ]
    },
    {
     "name": "stderr",
     "output_type": "stream",
     "text": [
      "Acc: 87.386%: 100%|██████████| 391/391 [01:11<00:00,  5.48it/s]\n",
      "  0%|          | 0/391 [00:00<?, ?it/s]"
     ]
    },
    {
     "name": "stdout",
     "output_type": "stream",
     "text": [
      "\n",
      "Epoch: 34\n"
     ]
    },
    {
     "name": "stderr",
     "output_type": "stream",
     "text": [
      "Acc: 87.558%: 100%|██████████| 391/391 [01:11<00:00,  5.92it/s]\n",
      "  0%|          | 0/391 [00:00<?, ?it/s]"
     ]
    },
    {
     "name": "stdout",
     "output_type": "stream",
     "text": [
      "\n",
      "Epoch: 35\n"
     ]
    },
    {
     "name": "stderr",
     "output_type": "stream",
     "text": [
      "Acc: 87.716%: 100%|██████████| 391/391 [01:12<00:00,  5.42it/s]\n",
      "  0%|          | 0/391 [00:00<?, ?it/s]"
     ]
    },
    {
     "name": "stdout",
     "output_type": "stream",
     "text": [
      "\n",
      "Epoch: 36\n"
     ]
    },
    {
     "name": "stderr",
     "output_type": "stream",
     "text": [
      "Acc: 87.540%: 100%|██████████| 391/391 [01:11<00:00,  5.34it/s]\n",
      "  0%|          | 0/391 [00:00<?, ?it/s]"
     ]
    },
    {
     "name": "stdout",
     "output_type": "stream",
     "text": [
      "\n",
      "Epoch: 37\n"
     ]
    },
    {
     "name": "stderr",
     "output_type": "stream",
     "text": [
      "Acc: 87.604%: 100%|██████████| 391/391 [01:10<00:00,  5.33it/s]\n",
      "  0%|          | 0/391 [00:00<?, ?it/s]"
     ]
    },
    {
     "name": "stdout",
     "output_type": "stream",
     "text": [
      "\n",
      "Epoch: 38\n"
     ]
    },
    {
     "name": "stderr",
     "output_type": "stream",
     "text": [
      "Acc: 87.878%: 100%|██████████| 391/391 [01:11<00:00,  5.81it/s]\n",
      "  0%|          | 0/391 [00:00<?, ?it/s]"
     ]
    },
    {
     "name": "stdout",
     "output_type": "stream",
     "text": [
      "\n",
      "Epoch: 39\n"
     ]
    },
    {
     "name": "stderr",
     "output_type": "stream",
     "text": [
      "Acc: 88.086%: 100%|██████████| 391/391 [01:11<00:00,  5.07it/s]\n",
      "  0%|          | 0/391 [00:00<?, ?it/s]"
     ]
    },
    {
     "name": "stdout",
     "output_type": "stream",
     "text": [
      "\n",
      "Epoch: 40\n"
     ]
    },
    {
     "name": "stderr",
     "output_type": "stream",
     "text": [
      "Acc: 87.708%: 100%|██████████| 391/391 [01:12<00:00,  5.70it/s]\n",
      "Acc: 79.550%: 100%|██████████| 100/100 [00:11<00:00,  9.46it/s]\n",
      "  0%|          | 0/391 [00:00<?, ?it/s]"
     ]
    },
    {
     "name": "stdout",
     "output_type": "stream",
     "text": [
      "\n",
      "Epoch: 41\n"
     ]
    },
    {
     "name": "stderr",
     "output_type": "stream",
     "text": [
      "Acc: 87.910%: 100%|██████████| 391/391 [01:09<00:00,  5.58it/s]\n",
      "  0%|          | 0/391 [00:00<?, ?it/s]"
     ]
    },
    {
     "name": "stdout",
     "output_type": "stream",
     "text": [
      "\n",
      "Epoch: 42\n"
     ]
    },
    {
     "name": "stderr",
     "output_type": "stream",
     "text": [
      "Acc: 87.820%: 100%|██████████| 391/391 [01:08<00:00,  5.91it/s]\n",
      "  0%|          | 0/391 [00:00<?, ?it/s]"
     ]
    },
    {
     "name": "stdout",
     "output_type": "stream",
     "text": [
      "\n",
      "Epoch: 43\n"
     ]
    },
    {
     "name": "stderr",
     "output_type": "stream",
     "text": [
      "Acc: 88.248%: 100%|██████████| 391/391 [01:09<00:00,  5.56it/s]\n",
      "  0%|          | 0/391 [00:00<?, ?it/s]"
     ]
    },
    {
     "name": "stdout",
     "output_type": "stream",
     "text": [
      "\n",
      "Epoch: 44\n"
     ]
    },
    {
     "name": "stderr",
     "output_type": "stream",
     "text": [
      "Acc: 87.956%: 100%|██████████| 391/391 [01:10<00:00,  5.46it/s]\n",
      "  0%|          | 0/391 [00:00<?, ?it/s]"
     ]
    },
    {
     "name": "stdout",
     "output_type": "stream",
     "text": [
      "\n",
      "Epoch: 45\n"
     ]
    },
    {
     "name": "stderr",
     "output_type": "stream",
     "text": [
      "Acc: 87.916%: 100%|██████████| 391/391 [01:09<00:00,  5.62it/s]\n",
      "  0%|          | 0/391 [00:00<?, ?it/s]"
     ]
    },
    {
     "name": "stdout",
     "output_type": "stream",
     "text": [
      "\n",
      "Epoch: 46\n"
     ]
    },
    {
     "name": "stderr",
     "output_type": "stream",
     "text": [
      "Acc: 88.290%: 100%|██████████| 391/391 [01:11<00:00,  5.46it/s]\n",
      "  0%|          | 0/391 [00:00<?, ?it/s]"
     ]
    },
    {
     "name": "stdout",
     "output_type": "stream",
     "text": [
      "\n",
      "Epoch: 47\n"
     ]
    },
    {
     "name": "stderr",
     "output_type": "stream",
     "text": [
      "Acc: 87.928%: 100%|██████████| 391/391 [01:10<00:00,  5.62it/s]\n",
      "  0%|          | 0/391 [00:00<?, ?it/s]"
     ]
    },
    {
     "name": "stdout",
     "output_type": "stream",
     "text": [
      "\n",
      "Epoch: 48\n"
     ]
    },
    {
     "name": "stderr",
     "output_type": "stream",
     "text": [
      "Acc: 88.328%: 100%|██████████| 391/391 [01:10<00:00,  5.56it/s]\n",
      "  0%|          | 0/391 [00:00<?, ?it/s]"
     ]
    },
    {
     "name": "stdout",
     "output_type": "stream",
     "text": [
      "\n",
      "Epoch: 49\n"
     ]
    },
    {
     "name": "stderr",
     "output_type": "stream",
     "text": [
      "Acc: 88.254%: 100%|██████████| 391/391 [01:09<00:00,  5.75it/s]\n",
      "  0%|          | 0/391 [00:00<?, ?it/s]"
     ]
    },
    {
     "name": "stdout",
     "output_type": "stream",
     "text": [
      "\n",
      "Epoch: 50\n"
     ]
    },
    {
     "name": "stderr",
     "output_type": "stream",
     "text": [
      "Acc: 88.116%: 100%|██████████| 391/391 [01:10<00:00,  5.76it/s]\n",
      "Acc: 76.070%: 100%|██████████| 100/100 [00:11<00:00,  8.91it/s]\n",
      "  0%|          | 0/391 [00:00<?, ?it/s]"
     ]
    },
    {
     "name": "stdout",
     "output_type": "stream",
     "text": [
      "\n",
      "Epoch: 51\n"
     ]
    },
    {
     "name": "stderr",
     "output_type": "stream",
     "text": [
      "Acc: 88.280%: 100%|██████████| 391/391 [01:10<00:00,  5.62it/s]\n",
      "  0%|          | 0/391 [00:00<?, ?it/s]"
     ]
    },
    {
     "name": "stdout",
     "output_type": "stream",
     "text": [
      "\n",
      "Epoch: 52\n"
     ]
    },
    {
     "name": "stderr",
     "output_type": "stream",
     "text": [
      "Acc: 88.310%: 100%|██████████| 391/391 [01:10<00:00,  5.86it/s]\n",
      "  0%|          | 0/391 [00:00<?, ?it/s]"
     ]
    },
    {
     "name": "stdout",
     "output_type": "stream",
     "text": [
      "\n",
      "Epoch: 53\n"
     ]
    },
    {
     "name": "stderr",
     "output_type": "stream",
     "text": [
      "Acc: 88.422%: 100%|██████████| 391/391 [01:10<00:00,  5.47it/s]\n",
      "  0%|          | 0/391 [00:00<?, ?it/s]"
     ]
    },
    {
     "name": "stdout",
     "output_type": "stream",
     "text": [
      "\n",
      "Epoch: 54\n"
     ]
    },
    {
     "name": "stderr",
     "output_type": "stream",
     "text": [
      "Acc: 88.687%:  81%|████████▏ | 318/391 [00:57<00:13,  5.52it/s]Process Process-123:\n",
      "Process Process-124:\n",
      "Traceback (most recent call last):\n",
      "  File \"/usr/lib/python3.5/multiprocessing/process.py\", line 249, in _bootstrap\n",
      "    self.run()\n",
      "Traceback (most recent call last):\n",
      "  File \"/usr/lib/python3.5/multiprocessing/process.py\", line 93, in run\n",
      "    self._target(*self._args, **self._kwargs)\n",
      "  File \"/usr/lib/python3.5/multiprocessing/process.py\", line 249, in _bootstrap\n",
      "    self.run()\n",
      "  File \"/home/amy/.local/lib/python3.5/site-packages/torch/utils/data/dataloader.py\", line 52, in _worker_loop\n",
      "    r = index_queue.get()\n",
      "  File \"/usr/lib/python3.5/multiprocessing/process.py\", line 93, in run\n",
      "    self._target(*self._args, **self._kwargs)\n",
      "  File \"/usr/lib/python3.5/multiprocessing/queues.py\", line 343, in get\n",
      "    res = self._reader.recv_bytes()\n",
      "  File \"/home/amy/.local/lib/python3.5/site-packages/torch/utils/data/dataloader.py\", line 52, in _worker_loop\n",
      "    r = index_queue.get()\n",
      "  File \"/usr/lib/python3.5/multiprocessing/connection.py\", line 216, in recv_bytes\n",
      "    buf = self._recv_bytes(maxlength)\n",
      "  File \"/usr/lib/python3.5/multiprocessing/queues.py\", line 343, in get\n",
      "    res = self._reader.recv_bytes()\n",
      "  File \"/usr/lib/python3.5/multiprocessing/connection.py\", line 407, in _recv_bytes\n",
      "    buf = self._recv(4)\n",
      "  File \"/usr/lib/python3.5/multiprocessing/connection.py\", line 216, in recv_bytes\n",
      "    buf = self._recv_bytes(maxlength)\n",
      "  File \"/usr/lib/python3.5/multiprocessing/connection.py\", line 379, in _recv\n",
      "    chunk = read(handle, remaining)\n",
      "  File \"/usr/lib/python3.5/multiprocessing/connection.py\", line 407, in _recv_bytes\n",
      "    buf = self._recv(4)\n",
      "KeyboardInterrupt\n",
      "  File \"/usr/lib/python3.5/multiprocessing/connection.py\", line 379, in _recv\n",
      "    chunk = read(handle, remaining)\n",
      "KeyboardInterrupt\n",
      "\n"
     ]
    },
    {
     "ename": "KeyboardInterrupt",
     "evalue": "",
     "output_type": "error",
     "traceback": [
      "\u001b[0;31m---------------------------------------------------------------------------\u001b[0m",
      "\u001b[0;31mKeyboardInterrupt\u001b[0m                         Traceback (most recent call last)",
      "\u001b[0;32m<ipython-input-3-05e3879869ec>\u001b[0m in \u001b[0;36m<module>\u001b[0;34m\u001b[0m\n\u001b[1;32m    128\u001b[0m \u001b[0;32mfor\u001b[0m \u001b[0mepoch\u001b[0m \u001b[0;32min\u001b[0m \u001b[0mrange\u001b[0m\u001b[0;34m(\u001b[0m\u001b[0mstart_epoch\u001b[0m\u001b[0;34m,\u001b[0m \u001b[0;36m350\u001b[0m\u001b[0;34m)\u001b[0m\u001b[0;34m:\u001b[0m\u001b[0;34m\u001b[0m\u001b[0m\n\u001b[1;32m    129\u001b[0m     \u001b[0mscheduler\u001b[0m\u001b[0;34m.\u001b[0m\u001b[0mstep\u001b[0m\u001b[0;34m(\u001b[0m\u001b[0;34m)\u001b[0m\u001b[0;34m\u001b[0m\u001b[0m\n\u001b[0;32m--> 130\u001b[0;31m     \u001b[0mtrain\u001b[0m\u001b[0;34m(\u001b[0m\u001b[0mepoch\u001b[0m\u001b[0;34m)\u001b[0m\u001b[0;34m\u001b[0m\u001b[0m\n\u001b[0m\u001b[1;32m    131\u001b[0m     \u001b[0;32mif\u001b[0m \u001b[0mepoch\u001b[0m \u001b[0;34m%\u001b[0m \u001b[0;36m10\u001b[0m \u001b[0;34m==\u001b[0m \u001b[0;36m0\u001b[0m\u001b[0;34m:\u001b[0m\u001b[0;34m\u001b[0m\u001b[0m\n\u001b[1;32m    132\u001b[0m         \u001b[0mtest\u001b[0m\u001b[0;34m(\u001b[0m\u001b[0mepoch\u001b[0m\u001b[0;34m)\u001b[0m\u001b[0;34m\u001b[0m\u001b[0m\n",
      "\u001b[0;32m<ipython-input-3-05e3879869ec>\u001b[0m in \u001b[0;36mtrain\u001b[0;34m(epoch)\u001b[0m\n\u001b[1;32m     79\u001b[0m             \u001b[0moutputs\u001b[0m \u001b[0;34m=\u001b[0m \u001b[0mnet\u001b[0m\u001b[0;34m(\u001b[0m\u001b[0minputs\u001b[0m\u001b[0;34m)\u001b[0m\u001b[0;34m\u001b[0m\u001b[0m\n\u001b[1;32m     80\u001b[0m             \u001b[0mloss\u001b[0m \u001b[0;34m=\u001b[0m \u001b[0mcriterion\u001b[0m\u001b[0;34m(\u001b[0m\u001b[0moutputs\u001b[0m\u001b[0;34m,\u001b[0m \u001b[0mtargets\u001b[0m\u001b[0;34m)\u001b[0m\u001b[0;34m\u001b[0m\u001b[0m\n\u001b[0;32m---> 81\u001b[0;31m             \u001b[0mloss\u001b[0m\u001b[0;34m.\u001b[0m\u001b[0mbackward\u001b[0m\u001b[0;34m(\u001b[0m\u001b[0;34m)\u001b[0m\u001b[0;34m\u001b[0m\u001b[0m\n\u001b[0m\u001b[1;32m     82\u001b[0m             \u001b[0moptimizer\u001b[0m\u001b[0;34m.\u001b[0m\u001b[0mstep\u001b[0m\u001b[0;34m(\u001b[0m\u001b[0;34m)\u001b[0m\u001b[0;34m\u001b[0m\u001b[0m\n\u001b[1;32m     83\u001b[0m \u001b[0;34m\u001b[0m\u001b[0m\n",
      "\u001b[0;32m~/.local/lib/python3.5/site-packages/torch/tensor.py\u001b[0m in \u001b[0;36mbackward\u001b[0;34m(self, gradient, retain_graph, create_graph)\u001b[0m\n\u001b[1;32m     91\u001b[0m                 \u001b[0mproducts\u001b[0m\u001b[0;34m.\u001b[0m \u001b[0mDefaults\u001b[0m \u001b[0mto\u001b[0m\u001b[0;31m \u001b[0m\u001b[0;31m`\u001b[0m\u001b[0;31m`\u001b[0m\u001b[0;32mFalse\u001b[0m\u001b[0;31m`\u001b[0m\u001b[0;31m`\u001b[0m\u001b[0;34m.\u001b[0m\u001b[0;34m\u001b[0m\u001b[0m\n\u001b[1;32m     92\u001b[0m         \"\"\"\n\u001b[0;32m---> 93\u001b[0;31m         \u001b[0mtorch\u001b[0m\u001b[0;34m.\u001b[0m\u001b[0mautograd\u001b[0m\u001b[0;34m.\u001b[0m\u001b[0mbackward\u001b[0m\u001b[0;34m(\u001b[0m\u001b[0mself\u001b[0m\u001b[0;34m,\u001b[0m \u001b[0mgradient\u001b[0m\u001b[0;34m,\u001b[0m \u001b[0mretain_graph\u001b[0m\u001b[0;34m,\u001b[0m \u001b[0mcreate_graph\u001b[0m\u001b[0;34m)\u001b[0m\u001b[0;34m\u001b[0m\u001b[0m\n\u001b[0m\u001b[1;32m     94\u001b[0m \u001b[0;34m\u001b[0m\u001b[0m\n\u001b[1;32m     95\u001b[0m     \u001b[0;32mdef\u001b[0m \u001b[0mregister_hook\u001b[0m\u001b[0;34m(\u001b[0m\u001b[0mself\u001b[0m\u001b[0;34m,\u001b[0m \u001b[0mhook\u001b[0m\u001b[0;34m)\u001b[0m\u001b[0;34m:\u001b[0m\u001b[0;34m\u001b[0m\u001b[0m\n",
      "\u001b[0;32m~/.local/lib/python3.5/site-packages/torch/autograd/__init__.py\u001b[0m in \u001b[0;36mbackward\u001b[0;34m(tensors, grad_tensors, retain_graph, create_graph, grad_variables)\u001b[0m\n\u001b[1;32m     87\u001b[0m     Variable._execution_engine.run_backward(\n\u001b[1;32m     88\u001b[0m         \u001b[0mtensors\u001b[0m\u001b[0;34m,\u001b[0m \u001b[0mgrad_tensors\u001b[0m\u001b[0;34m,\u001b[0m \u001b[0mretain_graph\u001b[0m\u001b[0;34m,\u001b[0m \u001b[0mcreate_graph\u001b[0m\u001b[0;34m,\u001b[0m\u001b[0;34m\u001b[0m\u001b[0m\n\u001b[0;32m---> 89\u001b[0;31m         allow_unreachable=True)  # allow_unreachable flag\n\u001b[0m\u001b[1;32m     90\u001b[0m \u001b[0;34m\u001b[0m\u001b[0m\n\u001b[1;32m     91\u001b[0m \u001b[0;34m\u001b[0m\u001b[0m\n",
      "\u001b[0;31mKeyboardInterrupt\u001b[0m: "
     ]
    }
   ],
   "source": [
    "'''Train CIFAR10 with PyTorch.'''\n",
    "from __future__ import print_function\n",
    "\n",
    "import torch\n",
    "import torch.nn as nn\n",
    "import torch.optim as optim\n",
    "import torch.nn.functional as F\n",
    "import torch.backends.cudnn as cudnn\n",
    "\n",
    "import torchvision\n",
    "import torchvision.transforms as transforms\n",
    "\n",
    "import os\n",
    "import argparse\n",
    "from tqdm import tqdm\n",
    "\n",
    "from models import *\n",
    "\n",
    "os.environ[\"CUDA_VISIBLE_DEVICES\"]='4,5'\n",
    "device = 'cuda' if torch.cuda.is_available() else 'cpu'\n",
    "best_acc = 0  # best test accuracy\n",
    "start_epoch = 0  # start from epoch 0 or last checkpoint epoch\n",
    "\n",
    "# Data\n",
    "print('==> Preparing data..')\n",
    "transform_train = transforms.Compose([\n",
    "    transforms.RandomCrop(32, padding=4),\n",
    "    transforms.RandomHorizontalFlip(),\n",
    "    transforms.ToTensor(),\n",
    "    transforms.Normalize((0.4914, 0.4822, 0.4465), (0.2023, 0.1994, 0.2010)),\n",
    "])\n",
    "\n",
    "transform_test = transforms.Compose([\n",
    "    transforms.ToTensor(),\n",
    "    transforms.Normalize((0.4914, 0.4822, 0.4465), (0.2023, 0.1994, 0.2010)),\n",
    "])\n",
    "\n",
    "trainset = torchvision.datasets.CIFAR10(root='./data', train=True, download=True, transform=transform_train)\n",
    "trainloader = torch.utils.data.DataLoader(trainset, batch_size=128, shuffle=True, num_workers=4)\n",
    "\n",
    "testset = torchvision.datasets.CIFAR10(root='./data', train=False, download=True, transform=transform_test)\n",
    "testloader = torch.utils.data.DataLoader(testset, batch_size=100, shuffle=False, num_workers=4)\n",
    "\n",
    "classes = ('plane', 'car', 'bird', 'cat', 'deer', 'dog', 'frog', 'horse', 'ship', 'truck')\n",
    "\n",
    "# Model\n",
    "print('==> Building model..')\n",
    "# net = VGG('VGG19')\n",
    "# net = ResNet18()\n",
    "# net = PreActResNet18()\n",
    "net = GoogLeNet()\n",
    "# net = DenseNet121()\n",
    "# net = ResNeXt29_2x64d()\n",
    "# net = MobileNet()\n",
    "# net = MobileNetV2()\n",
    "# net = DPN92()\n",
    "# net = ShuffleNetG2()\n",
    "# net = SENet18()\n",
    "# net = ShuffleNetV2(1)\n",
    "net = net.to(device)\n",
    "if device == 'cuda':\n",
    "    net = torch.nn.DataParallel(net)\n",
    "    cudnn.benchmark = True\n",
    "\n",
    "criterion = nn.CrossEntropyLoss()\n",
    "optimizer = optim.SGD(net.parameters(), lr=0.1, momentum=0.9, weight_decay=5e-4)\n",
    "scheduler = optim.lr_scheduler.MultiStepLR(optimizer, milestones=[150, 250], gamma=0.1)\n",
    "\n",
    "# Training\n",
    "def train(epoch):\n",
    "    print('\\nEpoch: %d' % epoch)\n",
    "    net.train()\n",
    "    train_loss = 0\n",
    "    correct = 0\n",
    "    total = 0\n",
    "    with tqdm(total=len(trainloader)) as pbar:\n",
    "        for batch_idx, (inputs, targets) in enumerate(trainloader):\n",
    "            inputs, targets = inputs.to(device), targets.to(device)\n",
    "            optimizer.zero_grad()\n",
    "            outputs = net(inputs)\n",
    "            loss = criterion(outputs, targets)\n",
    "            loss.backward()\n",
    "            optimizer.step()\n",
    "\n",
    "            train_loss += loss.item()\n",
    "            _, predicted = outputs.max(1)\n",
    "            total += targets.size(0)\n",
    "            correct += predicted.eq(targets).sum().item()\n",
    "\n",
    "            pbar.set_description('Acc: %.3f%%' % (100.*correct/total))\n",
    "            pbar.update(1)\n",
    "\n",
    "def test(epoch):\n",
    "    global best_acc\n",
    "    net.eval()\n",
    "    test_loss = 0\n",
    "    correct = 0\n",
    "    total = 0\n",
    "    with tqdm(total=len(testloader)) as pbar:\n",
    "        with torch.no_grad():\n",
    "            for batch_idx, (inputs, targets) in enumerate(testloader):\n",
    "                inputs, targets = inputs.to(device), targets.to(device)\n",
    "                outputs = net(inputs)\n",
    "                loss = criterion(outputs, targets)\n",
    "\n",
    "                test_loss += loss.item()\n",
    "                _, predicted = outputs.max(1)\n",
    "                total += targets.size(0)\n",
    "                correct += predicted.eq(targets).sum().item()\n",
    "\n",
    "                pbar.set_description('Acc: %.3f%%' % (100.*correct/total))\n",
    "                pbar.update(1)\n",
    "\n",
    "    # Save checkpoint.\n",
    "    acc = 100.*correct/total\n",
    "    if acc > best_acc:\n",
    "        print('Saving..')\n",
    "        state = {\n",
    "            'net': net.state_dict(),\n",
    "            'acc': acc,\n",
    "            'epoch': epoch,\n",
    "        }\n",
    "        if not os.path.isdir('./checkpoint'):\n",
    "            os.mkdir('./checkpoint')\n",
    "        torch.save(state, './checkpoint/googLeNet.cifar10.t7')\n",
    "        best_acc = acc\n",
    "\n",
    "\n",
    "for epoch in range(start_epoch, 351):\n",
    "    scheduler.step()\n",
    "    train(epoch)\n",
    "    if epoch % 10 == 0:\n",
    "        test(epoch)"
   ]
  },
  {
   "cell_type": "markdown",
   "metadata": {},
   "source": [
    "## Train on CINIC-10\n",
    "\n",
    "- train: train set\n",
    "- valid: valid set"
   ]
  },
  {
   "cell_type": "code",
   "execution_count": 1,
   "metadata": {
    "scrolled": true
   },
   "outputs": [
    {
     "name": "stdout",
     "output_type": "stream",
     "text": [
      "==> Preparing data..\n",
      "==> Building model..\n",
      "==> Resuming from checkpoint..\n"
     ]
    },
    {
     "name": "stderr",
     "output_type": "stream",
     "text": [
      "\r",
      "  0%|          | 0/704 [00:00<?, ?it/s]"
     ]
    },
    {
     "name": "stdout",
     "output_type": "stream",
     "text": [
      "\n",
      "Epoch: 0\n"
     ]
    },
    {
     "name": "stderr",
     "output_type": "stream",
     "text": [
      "Acc: 65.020%: 100%|██████████| 704/704 [02:59<00:00,  5.33s/it]\n",
      "Acc: 64.768%: 100%|██████████| 900/900 [00:55<00:00, 16.21it/s]\n",
      "  0%|          | 0/704 [00:00<?, ?it/s]"
     ]
    },
    {
     "name": "stdout",
     "output_type": "stream",
     "text": [
      "Saving..\n",
      "\n",
      "Epoch: 1\n"
     ]
    },
    {
     "name": "stderr",
     "output_type": "stream",
     "text": [
      "Acc: 66.624%: 100%|██████████| 704/704 [01:58<00:00,  4.97it/s]\n",
      "  0%|          | 0/704 [00:00<?, ?it/s]"
     ]
    },
    {
     "name": "stdout",
     "output_type": "stream",
     "text": [
      "\n",
      "Epoch: 2\n"
     ]
    },
    {
     "name": "stderr",
     "output_type": "stream",
     "text": [
      "Acc: 67.572%: 100%|██████████| 704/704 [01:52<00:00,  6.27it/s]\n",
      "  0%|          | 0/704 [00:00<?, ?it/s]"
     ]
    },
    {
     "name": "stdout",
     "output_type": "stream",
     "text": [
      "\n",
      "Epoch: 3\n"
     ]
    },
    {
     "name": "stderr",
     "output_type": "stream",
     "text": [
      "Acc: 67.926%: 100%|██████████| 704/704 [01:52<00:00,  6.28it/s]\n",
      "  0%|          | 0/704 [00:00<?, ?it/s]"
     ]
    },
    {
     "name": "stdout",
     "output_type": "stream",
     "text": [
      "\n",
      "Epoch: 4\n"
     ]
    },
    {
     "name": "stderr",
     "output_type": "stream",
     "text": [
      "Acc: 68.191%: 100%|██████████| 704/704 [01:52<00:00,  6.27it/s]\n",
      "  0%|          | 0/704 [00:00<?, ?it/s]"
     ]
    },
    {
     "name": "stdout",
     "output_type": "stream",
     "text": [
      "\n",
      "Epoch: 5\n"
     ]
    },
    {
     "name": "stderr",
     "output_type": "stream",
     "text": [
      "Acc: 68.416%: 100%|██████████| 704/704 [01:51<00:00,  6.29it/s]\n",
      "  0%|          | 0/704 [00:00<?, ?it/s]"
     ]
    },
    {
     "name": "stdout",
     "output_type": "stream",
     "text": [
      "\n",
      "Epoch: 6\n"
     ]
    },
    {
     "name": "stderr",
     "output_type": "stream",
     "text": [
      "Acc: 68.689%: 100%|██████████| 704/704 [01:52<00:00,  6.28it/s]\n",
      "  0%|          | 0/704 [00:00<?, ?it/s]"
     ]
    },
    {
     "name": "stdout",
     "output_type": "stream",
     "text": [
      "\n",
      "Epoch: 7\n"
     ]
    },
    {
     "name": "stderr",
     "output_type": "stream",
     "text": [
      "Acc: 68.982%: 100%|██████████| 704/704 [01:52<00:00,  6.24it/s]\n",
      "  0%|          | 0/704 [00:00<?, ?it/s]"
     ]
    },
    {
     "name": "stdout",
     "output_type": "stream",
     "text": [
      "\n",
      "Epoch: 8\n"
     ]
    },
    {
     "name": "stderr",
     "output_type": "stream",
     "text": [
      "Acc: 69.346%: 100%|██████████| 704/704 [01:52<00:00,  6.25it/s]\n",
      "  0%|          | 0/704 [00:00<?, ?it/s]"
     ]
    },
    {
     "name": "stdout",
     "output_type": "stream",
     "text": [
      "\n",
      "Epoch: 9\n"
     ]
    },
    {
     "name": "stderr",
     "output_type": "stream",
     "text": [
      "Acc: 69.191%: 100%|██████████| 704/704 [01:52<00:00,  6.24it/s]\n",
      "  0%|          | 0/704 [00:00<?, ?it/s]"
     ]
    },
    {
     "name": "stdout",
     "output_type": "stream",
     "text": [
      "\n",
      "Epoch: 10\n"
     ]
    },
    {
     "name": "stderr",
     "output_type": "stream",
     "text": [
      "Acc: 69.523%: 100%|██████████| 704/704 [01:53<00:00,  6.23it/s]\n",
      "Acc: 63.003%: 100%|██████████| 900/900 [00:44<00:00, 20.08it/s]\n",
      "  0%|          | 0/704 [00:00<?, ?it/s]"
     ]
    },
    {
     "name": "stdout",
     "output_type": "stream",
     "text": [
      "\n",
      "Epoch: 11\n"
     ]
    },
    {
     "name": "stderr",
     "output_type": "stream",
     "text": [
      "Acc: 69.466%: 100%|██████████| 704/704 [01:53<00:00,  6.20it/s]\n",
      "  0%|          | 0/704 [00:00<?, ?it/s]"
     ]
    },
    {
     "name": "stdout",
     "output_type": "stream",
     "text": [
      "\n",
      "Epoch: 12\n"
     ]
    },
    {
     "name": "stderr",
     "output_type": "stream",
     "text": [
      "Acc: 69.564%: 100%|██████████| 704/704 [01:53<00:00,  6.19it/s]\n",
      "  0%|          | 0/704 [00:00<?, ?it/s]"
     ]
    },
    {
     "name": "stdout",
     "output_type": "stream",
     "text": [
      "\n",
      "Epoch: 13\n"
     ]
    },
    {
     "name": "stderr",
     "output_type": "stream",
     "text": [
      "Acc: 69.823%: 100%|██████████| 704/704 [01:53<00:00,  6.18it/s]\n",
      "  0%|          | 0/704 [00:00<?, ?it/s]"
     ]
    },
    {
     "name": "stdout",
     "output_type": "stream",
     "text": [
      "\n",
      "Epoch: 14\n"
     ]
    },
    {
     "name": "stderr",
     "output_type": "stream",
     "text": [
      "Acc: 69.814%: 100%|██████████| 704/704 [01:53<00:00,  6.21it/s]\n",
      "  0%|          | 0/704 [00:00<?, ?it/s]"
     ]
    },
    {
     "name": "stdout",
     "output_type": "stream",
     "text": [
      "\n",
      "Epoch: 15\n"
     ]
    },
    {
     "name": "stderr",
     "output_type": "stream",
     "text": [
      "Acc: 69.637%: 100%|██████████| 704/704 [01:53<00:00,  6.20it/s]\n",
      "  0%|          | 0/704 [00:00<?, ?it/s]"
     ]
    },
    {
     "name": "stdout",
     "output_type": "stream",
     "text": [
      "\n",
      "Epoch: 16\n"
     ]
    },
    {
     "name": "stderr",
     "output_type": "stream",
     "text": [
      "Acc: 69.723%: 100%|██████████| 704/704 [01:54<00:00,  6.17it/s]\n",
      "  0%|          | 0/704 [00:00<?, ?it/s]"
     ]
    },
    {
     "name": "stdout",
     "output_type": "stream",
     "text": [
      "\n",
      "Epoch: 17\n"
     ]
    },
    {
     "name": "stderr",
     "output_type": "stream",
     "text": [
      "Acc: 70.063%: 100%|██████████| 704/704 [01:54<00:00,  6.15it/s]\n",
      "  0%|          | 0/704 [00:00<?, ?it/s]"
     ]
    },
    {
     "name": "stdout",
     "output_type": "stream",
     "text": [
      "\n",
      "Epoch: 18\n"
     ]
    },
    {
     "name": "stderr",
     "output_type": "stream",
     "text": [
      "Acc: 70.093%: 100%|██████████| 704/704 [01:55<00:00,  6.11it/s]\n",
      "  0%|          | 0/704 [00:00<?, ?it/s]"
     ]
    },
    {
     "name": "stdout",
     "output_type": "stream",
     "text": [
      "\n",
      "Epoch: 19\n"
     ]
    },
    {
     "name": "stderr",
     "output_type": "stream",
     "text": [
      "Acc: 70.084%: 100%|██████████| 704/704 [01:56<00:00,  6.04it/s]\n",
      "  0%|          | 0/704 [00:00<?, ?it/s]"
     ]
    },
    {
     "name": "stdout",
     "output_type": "stream",
     "text": [
      "\n",
      "Epoch: 20\n"
     ]
    },
    {
     "name": "stderr",
     "output_type": "stream",
     "text": [
      "Acc: 70.002%: 100%|██████████| 704/704 [01:56<00:00,  6.03it/s]\n",
      "Acc: 60.509%: 100%|██████████| 900/900 [00:48<00:00, 19.54it/s]\n",
      "  0%|          | 0/704 [00:00<?, ?it/s]"
     ]
    },
    {
     "name": "stdout",
     "output_type": "stream",
     "text": [
      "\n",
      "Epoch: 21\n"
     ]
    },
    {
     "name": "stderr",
     "output_type": "stream",
     "text": [
      "Acc: 70.080%: 100%|██████████| 704/704 [01:56<00:00,  6.02it/s]\n",
      "  0%|          | 0/704 [00:00<?, ?it/s]"
     ]
    },
    {
     "name": "stdout",
     "output_type": "stream",
     "text": [
      "\n",
      "Epoch: 22\n"
     ]
    },
    {
     "name": "stderr",
     "output_type": "stream",
     "text": [
      "Acc: 70.360%: 100%|██████████| 704/704 [01:57<00:00,  6.02it/s]\n",
      "  0%|          | 0/704 [00:00<?, ?it/s]"
     ]
    },
    {
     "name": "stdout",
     "output_type": "stream",
     "text": [
      "\n",
      "Epoch: 23\n"
     ]
    },
    {
     "name": "stderr",
     "output_type": "stream",
     "text": [
      "Acc: 70.189%: 100%|██████████| 704/704 [01:56<00:00,  6.03it/s]\n",
      "  0%|          | 0/704 [00:00<?, ?it/s]"
     ]
    },
    {
     "name": "stdout",
     "output_type": "stream",
     "text": [
      "\n",
      "Epoch: 24\n"
     ]
    },
    {
     "name": "stderr",
     "output_type": "stream",
     "text": [
      "Acc: 70.383%: 100%|██████████| 704/704 [01:57<00:00,  6.01it/s]\n",
      "  0%|          | 0/704 [00:00<?, ?it/s]"
     ]
    },
    {
     "name": "stdout",
     "output_type": "stream",
     "text": [
      "\n",
      "Epoch: 25\n"
     ]
    },
    {
     "name": "stderr",
     "output_type": "stream",
     "text": [
      "Acc: 70.490%: 100%|██████████| 704/704 [01:57<00:00,  6.00it/s]\n",
      "  0%|          | 0/704 [00:00<?, ?it/s]"
     ]
    },
    {
     "name": "stdout",
     "output_type": "stream",
     "text": [
      "\n",
      "Epoch: 26\n"
     ]
    },
    {
     "name": "stderr",
     "output_type": "stream",
     "text": [
      "Acc: 70.463%: 100%|██████████| 704/704 [01:57<00:00,  6.01it/s]\n",
      "  0%|          | 0/704 [00:00<?, ?it/s]"
     ]
    },
    {
     "name": "stdout",
     "output_type": "stream",
     "text": [
      "\n",
      "Epoch: 27\n"
     ]
    },
    {
     "name": "stderr",
     "output_type": "stream",
     "text": [
      "Acc: 70.590%: 100%|██████████| 704/704 [01:57<00:00,  6.01it/s]\n",
      "  0%|          | 0/704 [00:00<?, ?it/s]"
     ]
    },
    {
     "name": "stdout",
     "output_type": "stream",
     "text": [
      "\n",
      "Epoch: 28\n"
     ]
    },
    {
     "name": "stderr",
     "output_type": "stream",
     "text": [
      "Acc: 70.482%: 100%|██████████| 704/704 [01:57<00:00,  6.00it/s]\n",
      "  0%|          | 0/704 [00:00<?, ?it/s]"
     ]
    },
    {
     "name": "stdout",
     "output_type": "stream",
     "text": [
      "\n",
      "Epoch: 29\n"
     ]
    },
    {
     "name": "stderr",
     "output_type": "stream",
     "text": [
      "Acc: 70.464%: 100%|██████████| 704/704 [01:57<00:00,  6.01it/s]\n",
      "  0%|          | 0/704 [00:00<?, ?it/s]"
     ]
    },
    {
     "name": "stdout",
     "output_type": "stream",
     "text": [
      "\n",
      "Epoch: 30\n"
     ]
    },
    {
     "name": "stderr",
     "output_type": "stream",
     "text": [
      "Acc: 70.457%: 100%|██████████| 704/704 [01:57<00:00,  6.02it/s]\n",
      "Acc: 61.940%: 100%|██████████| 900/900 [00:47<00:00, 20.87it/s]\n",
      "  0%|          | 0/704 [00:00<?, ?it/s]"
     ]
    },
    {
     "name": "stdout",
     "output_type": "stream",
     "text": [
      "\n",
      "Epoch: 31\n"
     ]
    },
    {
     "name": "stderr",
     "output_type": "stream",
     "text": [
      "Acc: 70.491%: 100%|██████████| 704/704 [01:56<00:00,  6.02it/s]\n",
      "  0%|          | 0/704 [00:00<?, ?it/s]"
     ]
    },
    {
     "name": "stdout",
     "output_type": "stream",
     "text": [
      "\n",
      "Epoch: 32\n"
     ]
    },
    {
     "name": "stderr",
     "output_type": "stream",
     "text": [
      "Acc: 70.650%: 100%|██████████| 704/704 [01:57<00:00,  6.01it/s]\n",
      "  0%|          | 0/704 [00:00<?, ?it/s]"
     ]
    },
    {
     "name": "stdout",
     "output_type": "stream",
     "text": [
      "\n",
      "Epoch: 33\n"
     ]
    },
    {
     "name": "stderr",
     "output_type": "stream",
     "text": [
      "Acc: 70.543%: 100%|██████████| 704/704 [01:56<00:00,  6.02it/s]\n",
      "  0%|          | 0/704 [00:00<?, ?it/s]"
     ]
    },
    {
     "name": "stdout",
     "output_type": "stream",
     "text": [
      "\n",
      "Epoch: 34\n"
     ]
    },
    {
     "name": "stderr",
     "output_type": "stream",
     "text": [
      "Acc: 70.647%: 100%|██████████| 704/704 [01:57<00:00,  6.00it/s]\n",
      "  0%|          | 0/704 [00:00<?, ?it/s]"
     ]
    },
    {
     "name": "stdout",
     "output_type": "stream",
     "text": [
      "\n",
      "Epoch: 35\n"
     ]
    },
    {
     "name": "stderr",
     "output_type": "stream",
     "text": [
      "Acc: 70.684%: 100%|██████████| 704/704 [01:57<00:00,  5.99it/s]\n",
      "  0%|          | 0/704 [00:00<?, ?it/s]"
     ]
    },
    {
     "name": "stdout",
     "output_type": "stream",
     "text": [
      "\n",
      "Epoch: 36\n"
     ]
    },
    {
     "name": "stderr",
     "output_type": "stream",
     "text": [
      "Acc: 70.691%: 100%|██████████| 704/704 [01:57<00:00,  5.99it/s]\n",
      "  0%|          | 0/704 [00:00<?, ?it/s]"
     ]
    },
    {
     "name": "stdout",
     "output_type": "stream",
     "text": [
      "\n",
      "Epoch: 37\n"
     ]
    },
    {
     "name": "stderr",
     "output_type": "stream",
     "text": [
      "Acc: 70.880%: 100%|██████████| 704/704 [01:57<00:00,  5.98it/s]\n",
      "  0%|          | 0/704 [00:00<?, ?it/s]"
     ]
    },
    {
     "name": "stdout",
     "output_type": "stream",
     "text": [
      "\n",
      "Epoch: 38\n"
     ]
    },
    {
     "name": "stderr",
     "output_type": "stream",
     "text": [
      "Acc: 70.704%: 100%|██████████| 704/704 [01:57<00:00,  5.98it/s]\n",
      "  0%|          | 0/704 [00:00<?, ?it/s]"
     ]
    },
    {
     "name": "stdout",
     "output_type": "stream",
     "text": [
      "\n",
      "Epoch: 39\n"
     ]
    },
    {
     "name": "stderr",
     "output_type": "stream",
     "text": [
      "Acc: 70.680%: 100%|██████████| 704/704 [01:58<00:00,  6.74it/s]\n",
      "  0%|          | 0/704 [00:00<?, ?it/s]"
     ]
    },
    {
     "name": "stdout",
     "output_type": "stream",
     "text": [
      "\n",
      "Epoch: 40\n"
     ]
    },
    {
     "name": "stderr",
     "output_type": "stream",
     "text": [
      "Acc: 70.594%: 100%|██████████| 704/704 [01:57<00:00,  6.78it/s]\n",
      "Acc: 66.737%: 100%|██████████| 900/900 [00:48<00:00, 18.68it/s]\n",
      "  0%|          | 0/704 [00:00<?, ?it/s]"
     ]
    },
    {
     "name": "stdout",
     "output_type": "stream",
     "text": [
      "Saving..\n",
      "\n",
      "Epoch: 41\n"
     ]
    },
    {
     "name": "stderr",
     "output_type": "stream",
     "text": [
      "Acc: 70.911%: 100%|██████████| 704/704 [01:57<00:00,  6.01it/s]\n",
      "  0%|          | 0/704 [00:00<?, ?it/s]"
     ]
    },
    {
     "name": "stdout",
     "output_type": "stream",
     "text": [
      "\n",
      "Epoch: 42\n"
     ]
    },
    {
     "name": "stderr",
     "output_type": "stream",
     "text": [
      "Acc: 70.761%: 100%|██████████| 704/704 [01:57<00:00,  6.00it/s]\n",
      "  0%|          | 0/704 [00:00<?, ?it/s]"
     ]
    },
    {
     "name": "stdout",
     "output_type": "stream",
     "text": [
      "\n",
      "Epoch: 43\n"
     ]
    },
    {
     "name": "stderr",
     "output_type": "stream",
     "text": [
      "Acc: 70.789%: 100%|██████████| 704/704 [01:57<00:00,  6.54it/s]\n",
      "  0%|          | 0/704 [00:00<?, ?it/s]"
     ]
    },
    {
     "name": "stdout",
     "output_type": "stream",
     "text": [
      "\n",
      "Epoch: 44\n"
     ]
    },
    {
     "name": "stderr",
     "output_type": "stream",
     "text": [
      "Acc: 70.778%: 100%|██████████| 704/704 [01:57<00:00,  6.00it/s]\n",
      "  0%|          | 0/704 [00:00<?, ?it/s]"
     ]
    },
    {
     "name": "stdout",
     "output_type": "stream",
     "text": [
      "\n",
      "Epoch: 45\n"
     ]
    },
    {
     "name": "stderr",
     "output_type": "stream",
     "text": [
      "Acc: 70.917%: 100%|██████████| 704/704 [01:57<00:00,  6.73it/s]\n",
      "  0%|          | 0/704 [00:00<?, ?it/s]"
     ]
    },
    {
     "name": "stdout",
     "output_type": "stream",
     "text": [
      "\n",
      "Epoch: 46\n"
     ]
    },
    {
     "name": "stderr",
     "output_type": "stream",
     "text": [
      "Acc: 70.964%: 100%|██████████| 704/704 [01:57<00:00,  5.90it/s]\n",
      "  0%|          | 0/704 [00:00<?, ?it/s]"
     ]
    },
    {
     "name": "stdout",
     "output_type": "stream",
     "text": [
      "\n",
      "Epoch: 47\n"
     ]
    },
    {
     "name": "stderr",
     "output_type": "stream",
     "text": [
      "Acc: 70.820%: 100%|██████████| 704/704 [01:57<00:00,  5.98it/s]\n",
      "  0%|          | 0/704 [00:00<?, ?it/s]"
     ]
    },
    {
     "name": "stdout",
     "output_type": "stream",
     "text": [
      "\n",
      "Epoch: 48\n"
     ]
    },
    {
     "name": "stderr",
     "output_type": "stream",
     "text": [
      "Acc: 71.084%: 100%|██████████| 704/704 [01:56<00:00,  6.70it/s]\n",
      "  0%|          | 0/704 [00:00<?, ?it/s]"
     ]
    },
    {
     "name": "stdout",
     "output_type": "stream",
     "text": [
      "\n",
      "Epoch: 49\n"
     ]
    },
    {
     "name": "stderr",
     "output_type": "stream",
     "text": [
      "Acc: 71.194%: 100%|██████████| 704/704 [01:57<00:00,  6.00it/s]\n",
      "  0%|          | 0/704 [00:00<?, ?it/s]"
     ]
    },
    {
     "name": "stdout",
     "output_type": "stream",
     "text": [
      "\n",
      "Epoch: 50\n"
     ]
    },
    {
     "name": "stderr",
     "output_type": "stream",
     "text": [
      "Acc: 70.897%: 100%|██████████| 704/704 [01:57<00:00,  6.00it/s]\n",
      "Acc: 57.757%: 100%|██████████| 900/900 [00:48<00:00, 19.33it/s]\n",
      "  0%|          | 0/704 [00:00<?, ?it/s]"
     ]
    },
    {
     "name": "stdout",
     "output_type": "stream",
     "text": [
      "\n",
      "Epoch: 51\n"
     ]
    },
    {
     "name": "stderr",
     "output_type": "stream",
     "text": [
      "Acc: 70.879%: 100%|██████████| 704/704 [01:57<00:00,  6.02it/s]\n",
      "  0%|          | 0/704 [00:00<?, ?it/s]"
     ]
    },
    {
     "name": "stdout",
     "output_type": "stream",
     "text": [
      "\n",
      "Epoch: 52\n"
     ]
    },
    {
     "name": "stderr",
     "output_type": "stream",
     "text": [
      "Acc: 71.287%: 100%|██████████| 704/704 [01:57<00:00,  5.98it/s]\n",
      "  0%|          | 0/704 [00:00<?, ?it/s]"
     ]
    },
    {
     "name": "stdout",
     "output_type": "stream",
     "text": [
      "\n",
      "Epoch: 53\n"
     ]
    },
    {
     "name": "stderr",
     "output_type": "stream",
     "text": [
      "Acc: 71.218%: 100%|██████████| 704/704 [01:57<00:00,  6.84it/s]\n",
      "  0%|          | 0/704 [00:00<?, ?it/s]"
     ]
    },
    {
     "name": "stdout",
     "output_type": "stream",
     "text": [
      "\n",
      "Epoch: 54\n"
     ]
    },
    {
     "name": "stderr",
     "output_type": "stream",
     "text": [
      "Acc: 70.892%: 100%|██████████| 704/704 [01:57<00:00,  5.98it/s]\n",
      "  0%|          | 0/704 [00:00<?, ?it/s]"
     ]
    },
    {
     "name": "stdout",
     "output_type": "stream",
     "text": [
      "\n",
      "Epoch: 55\n"
     ]
    },
    {
     "name": "stderr",
     "output_type": "stream",
     "text": [
      "Acc: 71.131%: 100%|██████████| 704/704 [01:58<00:00,  5.92it/s]\n",
      "  0%|          | 0/704 [00:00<?, ?it/s]"
     ]
    },
    {
     "name": "stdout",
     "output_type": "stream",
     "text": [
      "\n",
      "Epoch: 56\n"
     ]
    },
    {
     "name": "stderr",
     "output_type": "stream",
     "text": [
      "Acc: 71.111%: 100%|██████████| 704/704 [01:58<00:00,  5.94it/s]\n",
      "  0%|          | 0/704 [00:00<?, ?it/s]"
     ]
    },
    {
     "name": "stdout",
     "output_type": "stream",
     "text": [
      "\n",
      "Epoch: 57\n"
     ]
    },
    {
     "name": "stderr",
     "output_type": "stream",
     "text": [
      "Acc: 71.097%: 100%|██████████| 704/704 [01:58<00:00,  6.36it/s]\n",
      "  0%|          | 0/704 [00:00<?, ?it/s]"
     ]
    },
    {
     "name": "stdout",
     "output_type": "stream",
     "text": [
      "\n",
      "Epoch: 58\n"
     ]
    },
    {
     "name": "stderr",
     "output_type": "stream",
     "text": [
      "Acc: 71.124%: 100%|██████████| 704/704 [01:58<00:00,  5.95it/s]\n",
      "  0%|          | 0/704 [00:00<?, ?it/s]"
     ]
    },
    {
     "name": "stdout",
     "output_type": "stream",
     "text": [
      "\n",
      "Epoch: 59\n"
     ]
    },
    {
     "name": "stderr",
     "output_type": "stream",
     "text": [
      "Acc: 71.114%: 100%|██████████| 704/704 [01:58<00:00,  5.95it/s]\n",
      "  0%|          | 0/704 [00:00<?, ?it/s]"
     ]
    },
    {
     "name": "stdout",
     "output_type": "stream",
     "text": [
      "\n",
      "Epoch: 60\n"
     ]
    },
    {
     "name": "stderr",
     "output_type": "stream",
     "text": [
      "Acc: 71.199%: 100%|██████████| 704/704 [01:58<00:00,  5.93it/s]\n",
      "Acc: 66.366%: 100%|██████████| 900/900 [00:49<00:00, 18.17it/s]\n",
      "  0%|          | 0/704 [00:00<?, ?it/s]"
     ]
    },
    {
     "name": "stdout",
     "output_type": "stream",
     "text": [
      "\n",
      "Epoch: 61\n"
     ]
    },
    {
     "name": "stderr",
     "output_type": "stream",
     "text": [
      "Acc: 71.218%: 100%|██████████| 704/704 [01:54<00:00,  6.85it/s]\n",
      "  0%|          | 0/704 [00:00<?, ?it/s]"
     ]
    },
    {
     "name": "stdout",
     "output_type": "stream",
     "text": [
      "\n",
      "Epoch: 62\n"
     ]
    },
    {
     "name": "stderr",
     "output_type": "stream",
     "text": [
      "Acc: 71.190%: 100%|██████████| 704/704 [01:54<00:00,  6.13it/s]\n",
      "  0%|          | 0/704 [00:00<?, ?it/s]"
     ]
    },
    {
     "name": "stdout",
     "output_type": "stream",
     "text": [
      "\n",
      "Epoch: 63\n"
     ]
    },
    {
     "name": "stderr",
     "output_type": "stream",
     "text": [
      "Acc: 71.002%: 100%|██████████| 704/704 [01:54<00:00,  6.15it/s]\n",
      "  0%|          | 0/704 [00:00<?, ?it/s]"
     ]
    },
    {
     "name": "stdout",
     "output_type": "stream",
     "text": [
      "\n",
      "Epoch: 64\n"
     ]
    },
    {
     "name": "stderr",
     "output_type": "stream",
     "text": [
      "Acc: 71.080%: 100%|██████████| 704/704 [01:53<00:00,  6.21it/s]\n",
      "  0%|          | 0/704 [00:00<?, ?it/s]"
     ]
    },
    {
     "name": "stdout",
     "output_type": "stream",
     "text": [
      "\n",
      "Epoch: 65\n"
     ]
    },
    {
     "name": "stderr",
     "output_type": "stream",
     "text": [
      "Acc: 70.999%: 100%|██████████| 704/704 [01:52<00:00,  6.23it/s]\n",
      "  0%|          | 0/704 [00:00<?, ?it/s]"
     ]
    },
    {
     "name": "stdout",
     "output_type": "stream",
     "text": [
      "\n",
      "Epoch: 66\n"
     ]
    },
    {
     "name": "stderr",
     "output_type": "stream",
     "text": [
      "Acc: 71.251%: 100%|██████████| 704/704 [01:53<00:00,  6.23it/s]\n",
      "  0%|          | 0/704 [00:00<?, ?it/s]"
     ]
    },
    {
     "name": "stdout",
     "output_type": "stream",
     "text": [
      "\n",
      "Epoch: 67\n"
     ]
    },
    {
     "name": "stderr",
     "output_type": "stream",
     "text": [
      "Acc: 71.258%: 100%|██████████| 704/704 [01:52<00:00,  6.24it/s]\n",
      "  0%|          | 0/704 [00:00<?, ?it/s]"
     ]
    },
    {
     "name": "stdout",
     "output_type": "stream",
     "text": [
      "\n",
      "Epoch: 68\n"
     ]
    },
    {
     "name": "stderr",
     "output_type": "stream",
     "text": [
      "Acc: 71.234%: 100%|██████████| 704/704 [01:52<00:00,  6.24it/s]\n",
      "  0%|          | 0/704 [00:00<?, ?it/s]"
     ]
    },
    {
     "name": "stdout",
     "output_type": "stream",
     "text": [
      "\n",
      "Epoch: 69\n"
     ]
    },
    {
     "name": "stderr",
     "output_type": "stream",
     "text": [
      "Acc: 71.242%: 100%|██████████| 704/704 [01:53<00:00,  6.23it/s]\n",
      "  0%|          | 0/704 [00:00<?, ?it/s]"
     ]
    },
    {
     "name": "stdout",
     "output_type": "stream",
     "text": [
      "\n",
      "Epoch: 70\n"
     ]
    },
    {
     "name": "stderr",
     "output_type": "stream",
     "text": [
      "Acc: 71.414%: 100%|██████████| 704/704 [01:53<00:00,  6.21it/s]\n",
      "Acc: 63.707%: 100%|██████████| 900/900 [00:48<00:00, 19.06it/s]\n",
      "  0%|          | 0/704 [00:00<?, ?it/s]"
     ]
    },
    {
     "name": "stdout",
     "output_type": "stream",
     "text": [
      "\n",
      "Epoch: 71\n"
     ]
    },
    {
     "name": "stderr",
     "output_type": "stream",
     "text": [
      "Acc: 71.448%: 100%|██████████| 704/704 [01:53<00:00,  6.76it/s]\n",
      "  0%|          | 0/704 [00:00<?, ?it/s]"
     ]
    },
    {
     "name": "stdout",
     "output_type": "stream",
     "text": [
      "\n",
      "Epoch: 72\n"
     ]
    },
    {
     "name": "stderr",
     "output_type": "stream",
     "text": [
      "Acc: 71.253%: 100%|██████████| 704/704 [01:53<00:00,  6.18it/s]\n",
      "  0%|          | 0/704 [00:00<?, ?it/s]"
     ]
    },
    {
     "name": "stdout",
     "output_type": "stream",
     "text": [
      "\n",
      "Epoch: 73\n"
     ]
    },
    {
     "name": "stderr",
     "output_type": "stream",
     "text": [
      "Acc: 71.263%: 100%|██████████| 704/704 [01:53<00:00,  6.23it/s]\n",
      "  0%|          | 0/704 [00:00<?, ?it/s]"
     ]
    },
    {
     "name": "stdout",
     "output_type": "stream",
     "text": [
      "\n",
      "Epoch: 74\n"
     ]
    },
    {
     "name": "stderr",
     "output_type": "stream",
     "text": [
      "Acc: 71.309%: 100%|██████████| 704/704 [01:53<00:00,  6.20it/s]\n",
      "  0%|          | 0/704 [00:00<?, ?it/s]"
     ]
    },
    {
     "name": "stdout",
     "output_type": "stream",
     "text": [
      "\n",
      "Epoch: 75\n"
     ]
    },
    {
     "name": "stderr",
     "output_type": "stream",
     "text": [
      "Acc: 71.417%: 100%|██████████| 704/704 [01:52<00:00,  6.28it/s]\n",
      "  0%|          | 0/704 [00:00<?, ?it/s]"
     ]
    },
    {
     "name": "stdout",
     "output_type": "stream",
     "text": [
      "\n",
      "Epoch: 76\n"
     ]
    },
    {
     "name": "stderr",
     "output_type": "stream",
     "text": [
      "Acc: 71.117%: 100%|██████████| 704/704 [01:52<00:00,  6.27it/s]\n",
      "  0%|          | 0/704 [00:00<?, ?it/s]"
     ]
    },
    {
     "name": "stdout",
     "output_type": "stream",
     "text": [
      "\n",
      "Epoch: 77\n"
     ]
    },
    {
     "name": "stderr",
     "output_type": "stream",
     "text": [
      "Acc: 71.382%: 100%|██████████| 704/704 [01:52<00:00,  6.26it/s]\n",
      "  0%|          | 0/704 [00:00<?, ?it/s]"
     ]
    },
    {
     "name": "stdout",
     "output_type": "stream",
     "text": [
      "\n",
      "Epoch: 78\n"
     ]
    },
    {
     "name": "stderr",
     "output_type": "stream",
     "text": [
      "Acc: 71.492%: 100%|██████████| 704/704 [01:52<00:00,  6.28it/s]\n",
      "  0%|          | 0/704 [00:00<?, ?it/s]"
     ]
    },
    {
     "name": "stdout",
     "output_type": "stream",
     "text": [
      "\n",
      "Epoch: 79\n"
     ]
    },
    {
     "name": "stderr",
     "output_type": "stream",
     "text": [
      "Acc: 71.287%: 100%|██████████| 704/704 [01:51<00:00,  6.31it/s]\n",
      "  0%|          | 0/704 [00:00<?, ?it/s]"
     ]
    },
    {
     "name": "stdout",
     "output_type": "stream",
     "text": [
      "\n",
      "Epoch: 80\n"
     ]
    },
    {
     "name": "stderr",
     "output_type": "stream",
     "text": [
      "Acc: 71.433%: 100%|██████████| 704/704 [01:50<00:00,  6.34it/s]\n",
      "Acc: 63.832%: 100%|██████████| 900/900 [00:43<00:00, 20.77it/s]\n",
      "  0%|          | 0/704 [00:00<?, ?it/s]"
     ]
    },
    {
     "name": "stdout",
     "output_type": "stream",
     "text": [
      "\n",
      "Epoch: 81\n"
     ]
    },
    {
     "name": "stderr",
     "output_type": "stream",
     "text": [
      "Acc: 71.084%: 100%|██████████| 704/704 [01:50<00:00,  6.36it/s]\n",
      "  0%|          | 0/704 [00:00<?, ?it/s]"
     ]
    },
    {
     "name": "stdout",
     "output_type": "stream",
     "text": [
      "\n",
      "Epoch: 82\n"
     ]
    },
    {
     "name": "stderr",
     "output_type": "stream",
     "text": [
      "Acc: 71.022%: 100%|██████████| 704/704 [01:51<00:00,  6.33it/s]\n",
      "  0%|          | 0/704 [00:00<?, ?it/s]"
     ]
    },
    {
     "name": "stdout",
     "output_type": "stream",
     "text": [
      "\n",
      "Epoch: 83\n"
     ]
    },
    {
     "name": "stderr",
     "output_type": "stream",
     "text": [
      "Acc: 71.181%: 100%|██████████| 704/704 [01:51<00:00,  6.32it/s]\n",
      "  0%|          | 0/704 [00:00<?, ?it/s]"
     ]
    },
    {
     "name": "stdout",
     "output_type": "stream",
     "text": [
      "\n",
      "Epoch: 84\n"
     ]
    },
    {
     "name": "stderr",
     "output_type": "stream",
     "text": [
      "Acc: 71.171%: 100%|██████████| 704/704 [01:51<00:00,  6.32it/s]\n",
      "  0%|          | 0/704 [00:00<?, ?it/s]"
     ]
    },
    {
     "name": "stdout",
     "output_type": "stream",
     "text": [
      "\n",
      "Epoch: 85\n"
     ]
    },
    {
     "name": "stderr",
     "output_type": "stream",
     "text": [
      "Acc: 71.250%: 100%|██████████| 704/704 [01:51<00:00,  6.34it/s]\n",
      "  0%|          | 0/704 [00:00<?, ?it/s]"
     ]
    },
    {
     "name": "stdout",
     "output_type": "stream",
     "text": [
      "\n",
      "Epoch: 86\n"
     ]
    },
    {
     "name": "stderr",
     "output_type": "stream",
     "text": [
      "Acc: 71.461%: 100%|██████████| 704/704 [01:50<00:00,  6.34it/s]\n",
      "  0%|          | 0/704 [00:00<?, ?it/s]"
     ]
    },
    {
     "name": "stdout",
     "output_type": "stream",
     "text": [
      "\n",
      "Epoch: 87\n"
     ]
    },
    {
     "name": "stderr",
     "output_type": "stream",
     "text": [
      "Acc: 71.079%: 100%|██████████| 704/704 [01:50<00:00,  6.36it/s]\n",
      "  0%|          | 0/704 [00:00<?, ?it/s]"
     ]
    },
    {
     "name": "stdout",
     "output_type": "stream",
     "text": [
      "\n",
      "Epoch: 88\n"
     ]
    },
    {
     "name": "stderr",
     "output_type": "stream",
     "text": [
      "Acc: 71.414%: 100%|██████████| 704/704 [01:51<00:00,  6.34it/s]\n",
      "  0%|          | 0/704 [00:00<?, ?it/s]"
     ]
    },
    {
     "name": "stdout",
     "output_type": "stream",
     "text": [
      "\n",
      "Epoch: 89\n"
     ]
    },
    {
     "name": "stderr",
     "output_type": "stream",
     "text": [
      "Acc: 71.330%: 100%|██████████| 704/704 [01:52<00:00,  6.25it/s]\n",
      "  0%|          | 0/704 [00:00<?, ?it/s]"
     ]
    },
    {
     "name": "stdout",
     "output_type": "stream",
     "text": [
      "\n",
      "Epoch: 90\n"
     ]
    },
    {
     "name": "stderr",
     "output_type": "stream",
     "text": [
      "Acc: 71.434%: 100%|██████████| 704/704 [01:52<00:00,  6.28it/s]\n",
      "Acc: 62.671%: 100%|██████████| 900/900 [00:47<00:00, 19.08it/s]\n",
      "  0%|          | 0/704 [00:00<?, ?it/s]"
     ]
    },
    {
     "name": "stdout",
     "output_type": "stream",
     "text": [
      "\n",
      "Epoch: 91\n"
     ]
    },
    {
     "name": "stderr",
     "output_type": "stream",
     "text": [
      "Acc: 71.317%: 100%|██████████| 704/704 [01:52<00:00,  6.28it/s]\n",
      "  0%|          | 0/704 [00:00<?, ?it/s]"
     ]
    },
    {
     "name": "stdout",
     "output_type": "stream",
     "text": [
      "\n",
      "Epoch: 92\n"
     ]
    },
    {
     "name": "stderr",
     "output_type": "stream",
     "text": [
      "Acc: 71.298%: 100%|██████████| 704/704 [01:53<00:00,  6.20it/s]\n",
      "  0%|          | 0/704 [00:00<?, ?it/s]"
     ]
    },
    {
     "name": "stdout",
     "output_type": "stream",
     "text": [
      "\n",
      "Epoch: 93\n"
     ]
    },
    {
     "name": "stderr",
     "output_type": "stream",
     "text": [
      "Acc: 71.443%: 100%|██████████| 704/704 [01:53<00:00,  6.20it/s]\n",
      "  0%|          | 0/704 [00:00<?, ?it/s]"
     ]
    },
    {
     "name": "stdout",
     "output_type": "stream",
     "text": [
      "\n",
      "Epoch: 94\n"
     ]
    },
    {
     "name": "stderr",
     "output_type": "stream",
     "text": [
      "Acc: 71.486%: 100%|██████████| 704/704 [01:53<00:00,  6.18it/s]\n",
      "  0%|          | 0/704 [00:00<?, ?it/s]"
     ]
    },
    {
     "name": "stdout",
     "output_type": "stream",
     "text": [
      "\n",
      "Epoch: 95\n"
     ]
    },
    {
     "name": "stderr",
     "output_type": "stream",
     "text": [
      "Acc: 71.259%: 100%|██████████| 704/704 [01:52<00:00,  6.25it/s]\n",
      "  0%|          | 0/704 [00:00<?, ?it/s]"
     ]
    },
    {
     "name": "stdout",
     "output_type": "stream",
     "text": [
      "\n",
      "Epoch: 96\n"
     ]
    },
    {
     "name": "stderr",
     "output_type": "stream",
     "text": [
      "Acc: 71.302%: 100%|██████████| 704/704 [01:52<00:00,  6.25it/s]\n",
      "  0%|          | 0/704 [00:00<?, ?it/s]"
     ]
    },
    {
     "name": "stdout",
     "output_type": "stream",
     "text": [
      "\n",
      "Epoch: 97\n"
     ]
    },
    {
     "name": "stderr",
     "output_type": "stream",
     "text": [
      "Acc: 71.519%: 100%|██████████| 704/704 [01:52<00:00,  6.23it/s]\n",
      "  0%|          | 0/704 [00:00<?, ?it/s]"
     ]
    },
    {
     "name": "stdout",
     "output_type": "stream",
     "text": [
      "\n",
      "Epoch: 98\n"
     ]
    },
    {
     "name": "stderr",
     "output_type": "stream",
     "text": [
      "Acc: 71.363%: 100%|██████████| 704/704 [01:53<00:00,  6.23it/s]\n",
      "  0%|          | 0/704 [00:00<?, ?it/s]"
     ]
    },
    {
     "name": "stdout",
     "output_type": "stream",
     "text": [
      "\n",
      "Epoch: 99\n"
     ]
    },
    {
     "name": "stderr",
     "output_type": "stream",
     "text": [
      "Acc: 71.413%: 100%|██████████| 704/704 [01:52<00:00,  6.24it/s]\n",
      "  0%|          | 0/704 [00:00<?, ?it/s]"
     ]
    },
    {
     "name": "stdout",
     "output_type": "stream",
     "text": [
      "\n",
      "Epoch: 100\n"
     ]
    },
    {
     "name": "stderr",
     "output_type": "stream",
     "text": [
      "Acc: 71.450%: 100%|██████████| 704/704 [01:53<00:00,  6.23it/s]\n",
      "Acc: 64.648%: 100%|██████████| 900/900 [00:48<00:00, 18.38it/s]\n",
      "  0%|          | 0/704 [00:00<?, ?it/s]"
     ]
    },
    {
     "name": "stdout",
     "output_type": "stream",
     "text": [
      "\n",
      "Epoch: 101\n"
     ]
    },
    {
     "name": "stderr",
     "output_type": "stream",
     "text": [
      "Acc: 71.410%: 100%|██████████| 704/704 [01:52<00:00,  6.24it/s]\n",
      "  0%|          | 0/704 [00:00<?, ?it/s]"
     ]
    },
    {
     "name": "stdout",
     "output_type": "stream",
     "text": [
      "\n",
      "Epoch: 102\n"
     ]
    },
    {
     "name": "stderr",
     "output_type": "stream",
     "text": [
      "Acc: 71.340%: 100%|██████████| 704/704 [01:51<00:00,  6.29it/s]\n",
      "  0%|          | 0/704 [00:00<?, ?it/s]"
     ]
    },
    {
     "name": "stdout",
     "output_type": "stream",
     "text": [
      "\n",
      "Epoch: 103\n"
     ]
    },
    {
     "name": "stderr",
     "output_type": "stream",
     "text": [
      "Acc: 71.473%: 100%|██████████| 704/704 [01:51<00:00,  6.29it/s]\n",
      "  0%|          | 0/704 [00:00<?, ?it/s]"
     ]
    },
    {
     "name": "stdout",
     "output_type": "stream",
     "text": [
      "\n",
      "Epoch: 104\n"
     ]
    },
    {
     "name": "stderr",
     "output_type": "stream",
     "text": [
      "Acc: 71.676%: 100%|██████████| 704/704 [01:51<00:00,  6.30it/s]\n",
      "  0%|          | 0/704 [00:00<?, ?it/s]"
     ]
    },
    {
     "name": "stdout",
     "output_type": "stream",
     "text": [
      "\n",
      "Epoch: 105\n"
     ]
    },
    {
     "name": "stderr",
     "output_type": "stream",
     "text": [
      "Acc: 71.393%: 100%|██████████| 704/704 [01:52<00:00,  6.28it/s]\n",
      "  0%|          | 0/704 [00:00<?, ?it/s]"
     ]
    },
    {
     "name": "stdout",
     "output_type": "stream",
     "text": [
      "\n",
      "Epoch: 106\n"
     ]
    },
    {
     "name": "stderr",
     "output_type": "stream",
     "text": [
      "Acc: 71.249%: 100%|██████████| 704/704 [01:53<00:00,  6.21it/s]\n",
      "  0%|          | 0/704 [00:00<?, ?it/s]"
     ]
    },
    {
     "name": "stdout",
     "output_type": "stream",
     "text": [
      "\n",
      "Epoch: 107\n"
     ]
    },
    {
     "name": "stderr",
     "output_type": "stream",
     "text": [
      "Acc: 71.440%: 100%|██████████| 704/704 [01:53<00:00,  6.20it/s]\n",
      "  0%|          | 0/704 [00:00<?, ?it/s]"
     ]
    },
    {
     "name": "stdout",
     "output_type": "stream",
     "text": [
      "\n",
      "Epoch: 108\n"
     ]
    },
    {
     "name": "stderr",
     "output_type": "stream",
     "text": [
      "Acc: 71.490%: 100%|██████████| 704/704 [01:52<00:00,  6.25it/s]\n",
      "  0%|          | 0/704 [00:00<?, ?it/s]"
     ]
    },
    {
     "name": "stdout",
     "output_type": "stream",
     "text": [
      "\n",
      "Epoch: 109\n"
     ]
    },
    {
     "name": "stderr",
     "output_type": "stream",
     "text": [
      "Acc: 71.432%: 100%|██████████| 704/704 [01:51<00:00,  6.32it/s]\n",
      "  0%|          | 0/704 [00:00<?, ?it/s]"
     ]
    },
    {
     "name": "stdout",
     "output_type": "stream",
     "text": [
      "\n",
      "Epoch: 110\n"
     ]
    },
    {
     "name": "stderr",
     "output_type": "stream",
     "text": [
      "Acc: 71.388%: 100%|██████████| 704/704 [01:50<00:00,  6.35it/s]\n",
      "Acc: 53.289%: 100%|██████████| 900/900 [00:44<00:00, 21.81it/s]\n",
      "  0%|          | 0/704 [00:00<?, ?it/s]"
     ]
    },
    {
     "name": "stdout",
     "output_type": "stream",
     "text": [
      "\n",
      "Epoch: 111\n"
     ]
    },
    {
     "name": "stderr",
     "output_type": "stream",
     "text": [
      "Acc: 71.539%: 100%|██████████| 704/704 [01:50<00:00,  6.34it/s]\n",
      "  0%|          | 0/704 [00:00<?, ?it/s]"
     ]
    },
    {
     "name": "stdout",
     "output_type": "stream",
     "text": [
      "\n",
      "Epoch: 112\n"
     ]
    },
    {
     "name": "stderr",
     "output_type": "stream",
     "text": [
      "Acc: 71.627%: 100%|██████████| 704/704 [01:51<00:00,  6.34it/s]\n",
      "  0%|          | 0/704 [00:00<?, ?it/s]"
     ]
    },
    {
     "name": "stdout",
     "output_type": "stream",
     "text": [
      "\n",
      "Epoch: 113\n"
     ]
    },
    {
     "name": "stderr",
     "output_type": "stream",
     "text": [
      "Acc: 71.461%: 100%|██████████| 704/704 [01:51<00:00,  6.34it/s]\n",
      "  0%|          | 0/704 [00:00<?, ?it/s]"
     ]
    },
    {
     "name": "stdout",
     "output_type": "stream",
     "text": [
      "\n",
      "Epoch: 114\n"
     ]
    },
    {
     "name": "stderr",
     "output_type": "stream",
     "text": [
      "Acc: 71.461%: 100%|██████████| 704/704 [01:51<00:00,  6.33it/s]\n",
      "  0%|          | 0/704 [00:00<?, ?it/s]"
     ]
    },
    {
     "name": "stdout",
     "output_type": "stream",
     "text": [
      "\n",
      "Epoch: 115\n"
     ]
    },
    {
     "name": "stderr",
     "output_type": "stream",
     "text": [
      "Acc: 71.478%: 100%|██████████| 704/704 [01:50<00:00,  6.36it/s]\n",
      "  0%|          | 0/704 [00:00<?, ?it/s]"
     ]
    },
    {
     "name": "stdout",
     "output_type": "stream",
     "text": [
      "\n",
      "Epoch: 116\n"
     ]
    },
    {
     "name": "stderr",
     "output_type": "stream",
     "text": [
      "Acc: 71.717%: 100%|██████████| 704/704 [01:51<00:00,  6.34it/s]\n",
      "  0%|          | 0/704 [00:00<?, ?it/s]"
     ]
    },
    {
     "name": "stdout",
     "output_type": "stream",
     "text": [
      "\n",
      "Epoch: 117\n"
     ]
    },
    {
     "name": "stderr",
     "output_type": "stream",
     "text": [
      "Acc: 71.427%: 100%|██████████| 704/704 [01:50<00:00,  6.36it/s]\n",
      "  0%|          | 0/704 [00:00<?, ?it/s]"
     ]
    },
    {
     "name": "stdout",
     "output_type": "stream",
     "text": [
      "\n",
      "Epoch: 118\n"
     ]
    },
    {
     "name": "stderr",
     "output_type": "stream",
     "text": [
      "Acc: 71.399%: 100%|██████████| 704/704 [01:51<00:00,  6.34it/s]\n",
      "  0%|          | 0/704 [00:00<?, ?it/s]"
     ]
    },
    {
     "name": "stdout",
     "output_type": "stream",
     "text": [
      "\n",
      "Epoch: 119\n"
     ]
    },
    {
     "name": "stderr",
     "output_type": "stream",
     "text": [
      "Acc: 71.522%: 100%|██████████| 704/704 [01:51<00:00,  6.34it/s]\n",
      "  0%|          | 0/704 [00:00<?, ?it/s]"
     ]
    },
    {
     "name": "stdout",
     "output_type": "stream",
     "text": [
      "\n",
      "Epoch: 120\n"
     ]
    },
    {
     "name": "stderr",
     "output_type": "stream",
     "text": [
      "Acc: 71.471%: 100%|██████████| 704/704 [01:50<00:00,  6.36it/s]\n",
      "Acc: 61.417%: 100%|██████████| 900/900 [00:43<00:00, 20.84it/s]\n",
      "  0%|          | 0/704 [00:00<?, ?it/s]"
     ]
    },
    {
     "name": "stdout",
     "output_type": "stream",
     "text": [
      "\n",
      "Epoch: 121\n"
     ]
    },
    {
     "name": "stderr",
     "output_type": "stream",
     "text": [
      "Acc: 71.681%: 100%|██████████| 704/704 [01:51<00:00,  6.34it/s]\n",
      "  0%|          | 0/704 [00:00<?, ?it/s]"
     ]
    },
    {
     "name": "stdout",
     "output_type": "stream",
     "text": [
      "\n",
      "Epoch: 122\n"
     ]
    },
    {
     "name": "stderr",
     "output_type": "stream",
     "text": [
      "Acc: 71.858%: 100%|██████████| 704/704 [01:51<00:00,  6.34it/s]\n",
      "  0%|          | 0/704 [00:00<?, ?it/s]"
     ]
    },
    {
     "name": "stdout",
     "output_type": "stream",
     "text": [
      "\n",
      "Epoch: 123\n"
     ]
    },
    {
     "name": "stderr",
     "output_type": "stream",
     "text": [
      "Acc: 71.570%: 100%|██████████| 704/704 [01:51<00:00,  6.97it/s]\n",
      "  0%|          | 0/704 [00:00<?, ?it/s]"
     ]
    },
    {
     "name": "stdout",
     "output_type": "stream",
     "text": [
      "\n",
      "Epoch: 124\n"
     ]
    },
    {
     "name": "stderr",
     "output_type": "stream",
     "text": [
      "Acc: 71.486%: 100%|██████████| 704/704 [01:51<00:00,  6.34it/s]\n",
      "  0%|          | 0/704 [00:00<?, ?it/s]"
     ]
    },
    {
     "name": "stdout",
     "output_type": "stream",
     "text": [
      "\n",
      "Epoch: 125\n"
     ]
    },
    {
     "name": "stderr",
     "output_type": "stream",
     "text": [
      "Acc: 71.638%: 100%|██████████| 704/704 [01:51<00:00,  6.33it/s]\n",
      "  0%|          | 0/704 [00:00<?, ?it/s]"
     ]
    },
    {
     "name": "stdout",
     "output_type": "stream",
     "text": [
      "\n",
      "Epoch: 126\n"
     ]
    },
    {
     "name": "stderr",
     "output_type": "stream",
     "text": [
      "Acc: 71.450%: 100%|██████████| 704/704 [01:50<00:00,  6.35it/s]\n",
      "  0%|          | 0/704 [00:00<?, ?it/s]"
     ]
    },
    {
     "name": "stdout",
     "output_type": "stream",
     "text": [
      "\n",
      "Epoch: 127\n"
     ]
    },
    {
     "name": "stderr",
     "output_type": "stream",
     "text": [
      "Acc: 71.720%: 100%|██████████| 704/704 [01:50<00:00,  6.34it/s]\n",
      "  0%|          | 0/704 [00:00<?, ?it/s]"
     ]
    },
    {
     "name": "stdout",
     "output_type": "stream",
     "text": [
      "\n",
      "Epoch: 128\n"
     ]
    },
    {
     "name": "stderr",
     "output_type": "stream",
     "text": [
      "Acc: 71.481%: 100%|██████████| 704/704 [01:51<00:00,  6.34it/s]\n",
      "  0%|          | 0/704 [00:00<?, ?it/s]"
     ]
    },
    {
     "name": "stdout",
     "output_type": "stream",
     "text": [
      "\n",
      "Epoch: 129\n"
     ]
    },
    {
     "name": "stderr",
     "output_type": "stream",
     "text": [
      "Acc: 71.491%: 100%|██████████| 704/704 [01:50<00:00,  6.35it/s]\n",
      "  0%|          | 0/704 [00:00<?, ?it/s]"
     ]
    },
    {
     "name": "stdout",
     "output_type": "stream",
     "text": [
      "\n",
      "Epoch: 130\n"
     ]
    },
    {
     "name": "stderr",
     "output_type": "stream",
     "text": [
      "Acc: 71.594%: 100%|██████████| 704/704 [01:52<00:00,  6.25it/s]\n",
      "Acc: 62.639%: 100%|██████████| 900/900 [00:48<00:00, 19.24it/s]\n",
      "  0%|          | 0/704 [00:00<?, ?it/s]"
     ]
    },
    {
     "name": "stdout",
     "output_type": "stream",
     "text": [
      "\n",
      "Epoch: 131\n"
     ]
    },
    {
     "name": "stderr",
     "output_type": "stream",
     "text": [
      "Acc: 71.570%: 100%|██████████| 704/704 [01:52<00:00,  6.24it/s]\n",
      "  0%|          | 0/704 [00:00<?, ?it/s]"
     ]
    },
    {
     "name": "stdout",
     "output_type": "stream",
     "text": [
      "\n",
      "Epoch: 132\n"
     ]
    },
    {
     "name": "stderr",
     "output_type": "stream",
     "text": [
      "Acc: 71.532%: 100%|██████████| 704/704 [01:51<00:00,  6.31it/s]\n",
      "  0%|          | 0/704 [00:00<?, ?it/s]"
     ]
    },
    {
     "name": "stdout",
     "output_type": "stream",
     "text": [
      "\n",
      "Epoch: 133\n"
     ]
    },
    {
     "name": "stderr",
     "output_type": "stream",
     "text": [
      "Acc: 71.652%: 100%|██████████| 704/704 [01:51<00:00,  6.30it/s]\n",
      "  0%|          | 0/704 [00:00<?, ?it/s]"
     ]
    },
    {
     "name": "stdout",
     "output_type": "stream",
     "text": [
      "\n",
      "Epoch: 134\n"
     ]
    },
    {
     "name": "stderr",
     "output_type": "stream",
     "text": [
      "Acc: 71.602%: 100%|██████████| 704/704 [01:53<00:00,  6.19it/s]\n",
      "  0%|          | 0/704 [00:00<?, ?it/s]"
     ]
    },
    {
     "name": "stdout",
     "output_type": "stream",
     "text": [
      "\n",
      "Epoch: 135\n"
     ]
    },
    {
     "name": "stderr",
     "output_type": "stream",
     "text": [
      "Acc: 71.231%: 100%|██████████| 704/704 [01:55<00:00,  6.16it/s]\n",
      "  0%|          | 0/704 [00:00<?, ?it/s]"
     ]
    },
    {
     "name": "stdout",
     "output_type": "stream",
     "text": [
      "\n",
      "Epoch: 136\n"
     ]
    },
    {
     "name": "stderr",
     "output_type": "stream",
     "text": [
      "Acc: 71.430%: 100%|██████████| 704/704 [01:54<00:00,  6.14it/s]\n",
      "  0%|          | 0/704 [00:00<?, ?it/s]"
     ]
    },
    {
     "name": "stdout",
     "output_type": "stream",
     "text": [
      "\n",
      "Epoch: 137\n"
     ]
    },
    {
     "name": "stderr",
     "output_type": "stream",
     "text": [
      "Acc: 71.418%: 100%|██████████| 704/704 [01:54<00:00,  6.16it/s]\n",
      "  0%|          | 0/704 [00:00<?, ?it/s]"
     ]
    },
    {
     "name": "stdout",
     "output_type": "stream",
     "text": [
      "\n",
      "Epoch: 138\n"
     ]
    },
    {
     "name": "stderr",
     "output_type": "stream",
     "text": [
      "Acc: 71.652%: 100%|██████████| 704/704 [01:54<00:00,  6.13it/s]\n",
      "  0%|          | 0/704 [00:00<?, ?it/s]"
     ]
    },
    {
     "name": "stdout",
     "output_type": "stream",
     "text": [
      "\n",
      "Epoch: 139\n"
     ]
    },
    {
     "name": "stderr",
     "output_type": "stream",
     "text": [
      "Acc: 71.658%: 100%|██████████| 704/704 [01:55<00:00,  6.10it/s]\n",
      "  0%|          | 0/704 [00:00<?, ?it/s]"
     ]
    },
    {
     "name": "stdout",
     "output_type": "stream",
     "text": [
      "\n",
      "Epoch: 140\n"
     ]
    },
    {
     "name": "stderr",
     "output_type": "stream",
     "text": [
      "Acc: 71.620%: 100%|██████████| 704/704 [01:55<00:00,  6.10it/s]\n",
      "Acc: 65.091%: 100%|██████████| 900/900 [00:48<00:00, 18.67it/s]\n",
      "  0%|          | 0/704 [00:00<?, ?it/s]"
     ]
    },
    {
     "name": "stdout",
     "output_type": "stream",
     "text": [
      "\n",
      "Epoch: 141\n"
     ]
    },
    {
     "name": "stderr",
     "output_type": "stream",
     "text": [
      "Acc: 71.744%: 100%|██████████| 704/704 [01:55<00:00,  6.10it/s]\n",
      "  0%|          | 0/704 [00:00<?, ?it/s]"
     ]
    },
    {
     "name": "stdout",
     "output_type": "stream",
     "text": [
      "\n",
      "Epoch: 142\n"
     ]
    },
    {
     "name": "stderr",
     "output_type": "stream",
     "text": [
      "Acc: 71.649%: 100%|██████████| 704/704 [01:56<00:00,  6.06it/s]\n",
      "  0%|          | 0/704 [00:00<?, ?it/s]"
     ]
    },
    {
     "name": "stdout",
     "output_type": "stream",
     "text": [
      "\n",
      "Epoch: 143\n"
     ]
    },
    {
     "name": "stderr",
     "output_type": "stream",
     "text": [
      "Acc: 71.654%: 100%|██████████| 704/704 [01:54<00:00,  6.16it/s]\n",
      "  0%|          | 0/704 [00:00<?, ?it/s]"
     ]
    },
    {
     "name": "stdout",
     "output_type": "stream",
     "text": [
      "\n",
      "Epoch: 144\n"
     ]
    },
    {
     "name": "stderr",
     "output_type": "stream",
     "text": [
      "Acc: 71.613%: 100%|██████████| 704/704 [01:55<00:00,  6.12it/s]\n",
      "  0%|          | 0/704 [00:00<?, ?it/s]"
     ]
    },
    {
     "name": "stdout",
     "output_type": "stream",
     "text": [
      "\n",
      "Epoch: 145\n"
     ]
    },
    {
     "name": "stderr",
     "output_type": "stream",
     "text": [
      "Acc: 71.573%: 100%|██████████| 704/704 [01:55<00:00,  6.11it/s]\n",
      "  0%|          | 0/704 [00:00<?, ?it/s]"
     ]
    },
    {
     "name": "stdout",
     "output_type": "stream",
     "text": [
      "\n",
      "Epoch: 146\n"
     ]
    },
    {
     "name": "stderr",
     "output_type": "stream",
     "text": [
      "Acc: 71.709%: 100%|██████████| 704/704 [01:55<00:00,  6.11it/s]\n",
      "  0%|          | 0/704 [00:00<?, ?it/s]"
     ]
    },
    {
     "name": "stdout",
     "output_type": "stream",
     "text": [
      "\n",
      "Epoch: 147\n"
     ]
    },
    {
     "name": "stderr",
     "output_type": "stream",
     "text": [
      "Acc: 71.510%: 100%|██████████| 704/704 [01:55<00:00,  6.10it/s]\n",
      "  0%|          | 0/704 [00:00<?, ?it/s]"
     ]
    },
    {
     "name": "stdout",
     "output_type": "stream",
     "text": [
      "\n",
      "Epoch: 148\n"
     ]
    },
    {
     "name": "stderr",
     "output_type": "stream",
     "text": [
      "Acc: 71.689%: 100%|██████████| 704/704 [01:54<00:00,  6.15it/s]\n",
      "  0%|          | 0/704 [00:00<?, ?it/s]"
     ]
    },
    {
     "name": "stdout",
     "output_type": "stream",
     "text": [
      "\n",
      "Epoch: 149\n"
     ]
    },
    {
     "name": "stderr",
     "output_type": "stream",
     "text": [
      "Acc: 71.466%: 100%|██████████| 704/704 [01:54<00:00,  6.15it/s]\n",
      "  0%|          | 0/704 [00:00<?, ?it/s]"
     ]
    },
    {
     "name": "stdout",
     "output_type": "stream",
     "text": [
      "\n",
      "Epoch: 150\n"
     ]
    },
    {
     "name": "stderr",
     "output_type": "stream",
     "text": [
      "Acc: 79.571%: 100%|██████████| 704/704 [01:53<00:00,  6.18it/s]\n",
      "Acc: 79.618%: 100%|██████████| 900/900 [00:47<00:00, 18.83it/s]\n",
      "  0%|          | 0/704 [00:00<?, ?it/s]"
     ]
    },
    {
     "name": "stdout",
     "output_type": "stream",
     "text": [
      "Saving..\n",
      "\n",
      "Epoch: 151\n"
     ]
    },
    {
     "name": "stderr",
     "output_type": "stream",
     "text": [
      "Acc: 81.819%: 100%|██████████| 704/704 [01:54<00:00,  6.14it/s]\n",
      "  0%|          | 0/704 [00:00<?, ?it/s]"
     ]
    },
    {
     "name": "stdout",
     "output_type": "stream",
     "text": [
      "\n",
      "Epoch: 152\n"
     ]
    },
    {
     "name": "stderr",
     "output_type": "stream",
     "text": [
      "Acc: 82.703%: 100%|██████████| 704/704 [01:54<00:00,  6.13it/s]\n",
      "  0%|          | 0/704 [00:00<?, ?it/s]"
     ]
    },
    {
     "name": "stdout",
     "output_type": "stream",
     "text": [
      "\n",
      "Epoch: 153\n"
     ]
    },
    {
     "name": "stderr",
     "output_type": "stream",
     "text": [
      "Acc: 83.349%: 100%|██████████| 704/704 [01:54<00:00,  6.74it/s]\n",
      "  0%|          | 0/704 [00:00<?, ?it/s]"
     ]
    },
    {
     "name": "stdout",
     "output_type": "stream",
     "text": [
      "\n",
      "Epoch: 154\n"
     ]
    },
    {
     "name": "stderr",
     "output_type": "stream",
     "text": [
      "Acc: 84.089%: 100%|██████████| 704/704 [01:54<00:00,  6.16it/s]\n",
      "  0%|          | 0/704 [00:00<?, ?it/s]"
     ]
    },
    {
     "name": "stdout",
     "output_type": "stream",
     "text": [
      "\n",
      "Epoch: 155\n"
     ]
    },
    {
     "name": "stderr",
     "output_type": "stream",
     "text": [
      "Acc: 84.450%: 100%|██████████| 704/704 [01:54<00:00,  6.13it/s]\n",
      "  0%|          | 0/704 [00:00<?, ?it/s]"
     ]
    },
    {
     "name": "stdout",
     "output_type": "stream",
     "text": [
      "\n",
      "Epoch: 156\n"
     ]
    },
    {
     "name": "stderr",
     "output_type": "stream",
     "text": [
      "Acc: 84.403%: 100%|██████████| 704/704 [01:54<00:00,  6.13it/s]\n",
      "  0%|          | 0/704 [00:00<?, ?it/s]"
     ]
    },
    {
     "name": "stdout",
     "output_type": "stream",
     "text": [
      "\n",
      "Epoch: 157\n"
     ]
    },
    {
     "name": "stderr",
     "output_type": "stream",
     "text": [
      "Acc: 85.019%: 100%|██████████| 704/704 [01:54<00:00,  6.51it/s]\n",
      "  0%|          | 0/704 [00:00<?, ?it/s]"
     ]
    },
    {
     "name": "stdout",
     "output_type": "stream",
     "text": [
      "\n",
      "Epoch: 158\n"
     ]
    },
    {
     "name": "stderr",
     "output_type": "stream",
     "text": [
      "Acc: 85.252%: 100%|██████████| 704/704 [01:55<00:00,  6.11it/s]\n",
      "  0%|          | 0/704 [00:00<?, ?it/s]"
     ]
    },
    {
     "name": "stdout",
     "output_type": "stream",
     "text": [
      "\n",
      "Epoch: 159\n"
     ]
    },
    {
     "name": "stderr",
     "output_type": "stream",
     "text": [
      "Acc: 85.290%: 100%|██████████| 704/704 [01:54<00:00,  6.15it/s]\n",
      "  0%|          | 0/704 [00:00<?, ?it/s]"
     ]
    },
    {
     "name": "stdout",
     "output_type": "stream",
     "text": [
      "\n",
      "Epoch: 160\n"
     ]
    },
    {
     "name": "stderr",
     "output_type": "stream",
     "text": [
      "Acc: 85.503%: 100%|██████████| 704/704 [01:54<00:00,  6.14it/s]\n",
      "Acc: 82.498%: 100%|██████████| 900/900 [00:47<00:00, 18.35it/s]\n",
      "  0%|          | 0/704 [00:00<?, ?it/s]"
     ]
    },
    {
     "name": "stdout",
     "output_type": "stream",
     "text": [
      "Saving..\n",
      "\n",
      "Epoch: 161\n"
     ]
    },
    {
     "name": "stderr",
     "output_type": "stream",
     "text": [
      "Acc: 85.633%: 100%|██████████| 704/704 [01:54<00:00,  6.42it/s]\n",
      "  0%|          | 0/704 [00:00<?, ?it/s]"
     ]
    },
    {
     "name": "stdout",
     "output_type": "stream",
     "text": [
      "\n",
      "Epoch: 162\n"
     ]
    },
    {
     "name": "stderr",
     "output_type": "stream",
     "text": [
      "Acc: 85.781%: 100%|██████████| 704/704 [01:54<00:00,  6.14it/s]\n",
      "  0%|          | 0/704 [00:00<?, ?it/s]"
     ]
    },
    {
     "name": "stdout",
     "output_type": "stream",
     "text": [
      "\n",
      "Epoch: 163\n"
     ]
    },
    {
     "name": "stderr",
     "output_type": "stream",
     "text": [
      "Acc: 85.779%: 100%|██████████| 704/704 [01:54<00:00,  6.13it/s]\n",
      "  0%|          | 0/704 [00:00<?, ?it/s]"
     ]
    },
    {
     "name": "stdout",
     "output_type": "stream",
     "text": [
      "\n",
      "Epoch: 164\n"
     ]
    },
    {
     "name": "stderr",
     "output_type": "stream",
     "text": [
      "Acc: 85.888%: 100%|██████████| 704/704 [01:54<00:00,  6.15it/s]\n",
      "  0%|          | 0/704 [00:00<?, ?it/s]"
     ]
    },
    {
     "name": "stdout",
     "output_type": "stream",
     "text": [
      "\n",
      "Epoch: 165\n"
     ]
    },
    {
     "name": "stderr",
     "output_type": "stream",
     "text": [
      "Acc: 85.897%: 100%|██████████| 704/704 [01:55<00:00,  6.12it/s]\n",
      "  0%|          | 0/704 [00:00<?, ?it/s]"
     ]
    },
    {
     "name": "stdout",
     "output_type": "stream",
     "text": [
      "\n",
      "Epoch: 166\n"
     ]
    },
    {
     "name": "stderr",
     "output_type": "stream",
     "text": [
      "Acc: 86.167%: 100%|██████████| 704/704 [01:54<00:00,  6.16it/s]\n",
      "  0%|          | 0/704 [00:00<?, ?it/s]"
     ]
    },
    {
     "name": "stdout",
     "output_type": "stream",
     "text": [
      "\n",
      "Epoch: 167\n"
     ]
    },
    {
     "name": "stderr",
     "output_type": "stream",
     "text": [
      "Acc: 86.041%: 100%|██████████| 704/704 [01:54<00:00,  6.14it/s]\n",
      "  0%|          | 0/704 [00:00<?, ?it/s]"
     ]
    },
    {
     "name": "stdout",
     "output_type": "stream",
     "text": [
      "\n",
      "Epoch: 168\n"
     ]
    },
    {
     "name": "stderr",
     "output_type": "stream",
     "text": [
      "Acc: 86.303%: 100%|██████████| 704/704 [01:54<00:00,  6.13it/s]\n",
      "  0%|          | 0/704 [00:00<?, ?it/s]"
     ]
    },
    {
     "name": "stdout",
     "output_type": "stream",
     "text": [
      "\n",
      "Epoch: 169\n"
     ]
    },
    {
     "name": "stderr",
     "output_type": "stream",
     "text": [
      "Acc: 86.220%: 100%|██████████| 704/704 [01:54<00:00,  6.16it/s]\n",
      "  0%|          | 0/704 [00:00<?, ?it/s]"
     ]
    },
    {
     "name": "stdout",
     "output_type": "stream",
     "text": [
      "\n",
      "Epoch: 170\n"
     ]
    },
    {
     "name": "stderr",
     "output_type": "stream",
     "text": [
      "Acc: 86.279%: 100%|██████████| 704/704 [01:54<00:00,  6.95it/s]\n",
      "Acc: 80.767%: 100%|██████████| 900/900 [00:47<00:00, 18.95it/s]\n",
      "  0%|          | 0/704 [00:00<?, ?it/s]"
     ]
    },
    {
     "name": "stdout",
     "output_type": "stream",
     "text": [
      "\n",
      "Epoch: 171\n"
     ]
    },
    {
     "name": "stderr",
     "output_type": "stream",
     "text": [
      "Acc: 86.408%: 100%|██████████| 704/704 [01:54<00:00,  6.14it/s]\n",
      "  0%|          | 0/704 [00:00<?, ?it/s]"
     ]
    },
    {
     "name": "stdout",
     "output_type": "stream",
     "text": [
      "\n",
      "Epoch: 172\n"
     ]
    },
    {
     "name": "stderr",
     "output_type": "stream",
     "text": [
      "Acc: 86.562%: 100%|██████████| 704/704 [01:55<00:00,  6.88it/s]\n",
      "  0%|          | 0/704 [00:00<?, ?it/s]"
     ]
    },
    {
     "name": "stdout",
     "output_type": "stream",
     "text": [
      "\n",
      "Epoch: 173\n"
     ]
    },
    {
     "name": "stderr",
     "output_type": "stream",
     "text": [
      "Acc: 86.896%: 100%|██████████| 704/704 [01:54<00:00,  6.77it/s]\n",
      "  0%|          | 0/704 [00:00<?, ?it/s]"
     ]
    },
    {
     "name": "stdout",
     "output_type": "stream",
     "text": [
      "\n",
      "Epoch: 174\n"
     ]
    },
    {
     "name": "stderr",
     "output_type": "stream",
     "text": [
      "Acc: 86.863%: 100%|██████████| 704/704 [01:54<00:00,  6.15it/s]\n",
      "  0%|          | 0/704 [00:00<?, ?it/s]"
     ]
    },
    {
     "name": "stdout",
     "output_type": "stream",
     "text": [
      "\n",
      "Epoch: 175\n"
     ]
    },
    {
     "name": "stderr",
     "output_type": "stream",
     "text": [
      "Acc: 86.893%: 100%|██████████| 704/704 [01:55<00:00,  6.11it/s]\n",
      "  0%|          | 0/704 [00:00<?, ?it/s]"
     ]
    },
    {
     "name": "stdout",
     "output_type": "stream",
     "text": [
      "\n",
      "Epoch: 176\n"
     ]
    },
    {
     "name": "stderr",
     "output_type": "stream",
     "text": [
      "Acc: 86.870%: 100%|██████████| 704/704 [01:54<00:00,  6.13it/s]\n",
      "  0%|          | 0/704 [00:00<?, ?it/s]"
     ]
    },
    {
     "name": "stdout",
     "output_type": "stream",
     "text": [
      "\n",
      "Epoch: 177\n"
     ]
    },
    {
     "name": "stderr",
     "output_type": "stream",
     "text": [
      "Acc: 87.134%: 100%|██████████| 704/704 [01:55<00:00,  6.08it/s]\n",
      "  0%|          | 0/704 [00:00<?, ?it/s]"
     ]
    },
    {
     "name": "stdout",
     "output_type": "stream",
     "text": [
      "\n",
      "Epoch: 178\n"
     ]
    },
    {
     "name": "stderr",
     "output_type": "stream",
     "text": [
      "Acc: 87.212%: 100%|██████████| 704/704 [01:55<00:00,  6.35it/s]\n",
      "  0%|          | 0/704 [00:00<?, ?it/s]"
     ]
    },
    {
     "name": "stdout",
     "output_type": "stream",
     "text": [
      "\n",
      "Epoch: 179\n"
     ]
    },
    {
     "name": "stderr",
     "output_type": "stream",
     "text": [
      "Acc: 87.131%: 100%|██████████| 704/704 [01:54<00:00,  6.14it/s]\n",
      "  0%|          | 0/704 [00:00<?, ?it/s]"
     ]
    },
    {
     "name": "stdout",
     "output_type": "stream",
     "text": [
      "\n",
      "Epoch: 180\n"
     ]
    },
    {
     "name": "stderr",
     "output_type": "stream",
     "text": [
      "Acc: 87.454%: 100%|██████████| 704/704 [01:55<00:00,  6.11it/s]\n",
      "Acc: 81.277%: 100%|██████████| 900/900 [00:48<00:00, 22.13it/s]\n",
      "  0%|          | 0/704 [00:00<?, ?it/s]"
     ]
    },
    {
     "name": "stdout",
     "output_type": "stream",
     "text": [
      "\n",
      "Epoch: 181\n"
     ]
    },
    {
     "name": "stderr",
     "output_type": "stream",
     "text": [
      "Acc: 87.443%: 100%|██████████| 704/704 [01:55<00:00,  6.11it/s]\n",
      "  0%|          | 0/704 [00:00<?, ?it/s]"
     ]
    },
    {
     "name": "stdout",
     "output_type": "stream",
     "text": [
      "\n",
      "Epoch: 182\n"
     ]
    },
    {
     "name": "stderr",
     "output_type": "stream",
     "text": [
      "Acc: 87.547%: 100%|██████████| 704/704 [01:55<00:00,  6.11it/s]\n",
      "  0%|          | 0/704 [00:00<?, ?it/s]"
     ]
    },
    {
     "name": "stdout",
     "output_type": "stream",
     "text": [
      "\n",
      "Epoch: 183\n"
     ]
    },
    {
     "name": "stderr",
     "output_type": "stream",
     "text": [
      "Acc: 87.794%: 100%|██████████| 704/704 [01:55<00:00,  6.11it/s]\n",
      "  0%|          | 0/704 [00:00<?, ?it/s]"
     ]
    },
    {
     "name": "stdout",
     "output_type": "stream",
     "text": [
      "\n",
      "Epoch: 184\n"
     ]
    },
    {
     "name": "stderr",
     "output_type": "stream",
     "text": [
      "Acc: 87.763%: 100%|██████████| 704/704 [01:55<00:00,  6.10it/s]\n",
      "  0%|          | 0/704 [00:00<?, ?it/s]"
     ]
    },
    {
     "name": "stdout",
     "output_type": "stream",
     "text": [
      "\n",
      "Epoch: 185\n"
     ]
    },
    {
     "name": "stderr",
     "output_type": "stream",
     "text": [
      "Acc: 87.628%: 100%|██████████| 704/704 [01:55<00:00,  6.10it/s]\n",
      "  0%|          | 0/704 [00:00<?, ?it/s]"
     ]
    },
    {
     "name": "stdout",
     "output_type": "stream",
     "text": [
      "\n",
      "Epoch: 186\n"
     ]
    },
    {
     "name": "stderr",
     "output_type": "stream",
     "text": [
      "Acc: 88.001%: 100%|██████████| 704/704 [01:55<00:00,  6.11it/s]\n",
      "  0%|          | 0/704 [00:00<?, ?it/s]"
     ]
    },
    {
     "name": "stdout",
     "output_type": "stream",
     "text": [
      "\n",
      "Epoch: 187\n"
     ]
    },
    {
     "name": "stderr",
     "output_type": "stream",
     "text": [
      "Acc: 88.158%: 100%|██████████| 704/704 [01:55<00:00,  6.08it/s]\n",
      "  0%|          | 0/704 [00:00<?, ?it/s]"
     ]
    },
    {
     "name": "stdout",
     "output_type": "stream",
     "text": [
      "\n",
      "Epoch: 188\n"
     ]
    },
    {
     "name": "stderr",
     "output_type": "stream",
     "text": [
      "Acc: 87.991%: 100%|██████████| 704/704 [01:55<00:00,  6.12it/s]\n",
      "  0%|          | 0/704 [00:00<?, ?it/s]"
     ]
    },
    {
     "name": "stdout",
     "output_type": "stream",
     "text": [
      "\n",
      "Epoch: 189\n"
     ]
    },
    {
     "name": "stderr",
     "output_type": "stream",
     "text": [
      "Acc: 88.310%: 100%|██████████| 704/704 [01:55<00:00,  6.04it/s]\n",
      "  0%|          | 0/704 [00:00<?, ?it/s]"
     ]
    },
    {
     "name": "stdout",
     "output_type": "stream",
     "text": [
      "\n",
      "Epoch: 190\n"
     ]
    },
    {
     "name": "stderr",
     "output_type": "stream",
     "text": [
      "Acc: 88.172%: 100%|██████████| 704/704 [01:55<00:00,  6.11it/s]\n",
      "Acc: 78.794%: 100%|██████████| 900/900 [00:47<00:00, 22.18it/s]\n",
      "  0%|          | 0/704 [00:00<?, ?it/s]"
     ]
    },
    {
     "name": "stdout",
     "output_type": "stream",
     "text": [
      "\n",
      "Epoch: 191\n"
     ]
    },
    {
     "name": "stderr",
     "output_type": "stream",
     "text": [
      "Acc: 88.244%: 100%|██████████| 704/704 [01:55<00:00,  6.11it/s]\n",
      "  0%|          | 0/704 [00:00<?, ?it/s]"
     ]
    },
    {
     "name": "stdout",
     "output_type": "stream",
     "text": [
      "\n",
      "Epoch: 192\n"
     ]
    },
    {
     "name": "stderr",
     "output_type": "stream",
     "text": [
      "Acc: 88.602%: 100%|██████████| 704/704 [01:55<00:00,  6.09it/s]\n",
      "  0%|          | 0/704 [00:00<?, ?it/s]"
     ]
    },
    {
     "name": "stdout",
     "output_type": "stream",
     "text": [
      "\n",
      "Epoch: 193\n"
     ]
    },
    {
     "name": "stderr",
     "output_type": "stream",
     "text": [
      "Acc: 88.501%: 100%|██████████| 704/704 [01:55<00:00,  6.40it/s]\n",
      "  0%|          | 0/704 [00:00<?, ?it/s]"
     ]
    },
    {
     "name": "stdout",
     "output_type": "stream",
     "text": [
      "\n",
      "Epoch: 194\n"
     ]
    },
    {
     "name": "stderr",
     "output_type": "stream",
     "text": [
      "Acc: 88.659%: 100%|██████████| 704/704 [01:54<00:00,  6.77it/s]\n",
      "  0%|          | 0/704 [00:00<?, ?it/s]"
     ]
    },
    {
     "name": "stdout",
     "output_type": "stream",
     "text": [
      "\n",
      "Epoch: 195\n"
     ]
    },
    {
     "name": "stderr",
     "output_type": "stream",
     "text": [
      "Acc: 88.684%: 100%|██████████| 704/704 [01:55<00:00,  6.10it/s]\n",
      "  0%|          | 0/704 [00:00<?, ?it/s]"
     ]
    },
    {
     "name": "stdout",
     "output_type": "stream",
     "text": [
      "\n",
      "Epoch: 196\n"
     ]
    },
    {
     "name": "stderr",
     "output_type": "stream",
     "text": [
      "Acc: 88.762%: 100%|██████████| 704/704 [01:54<00:00,  7.06it/s]\n",
      "  0%|          | 0/704 [00:00<?, ?it/s]"
     ]
    },
    {
     "name": "stdout",
     "output_type": "stream",
     "text": [
      "\n",
      "Epoch: 197\n"
     ]
    },
    {
     "name": "stderr",
     "output_type": "stream",
     "text": [
      "Acc: 88.763%: 100%|██████████| 704/704 [01:55<00:00,  6.08it/s]\n",
      "  0%|          | 0/704 [00:00<?, ?it/s]"
     ]
    },
    {
     "name": "stdout",
     "output_type": "stream",
     "text": [
      "\n",
      "Epoch: 198\n"
     ]
    },
    {
     "name": "stderr",
     "output_type": "stream",
     "text": [
      "Acc: 88.736%: 100%|██████████| 704/704 [01:55<00:00,  6.11it/s]\n",
      "  0%|          | 0/704 [00:00<?, ?it/s]"
     ]
    },
    {
     "name": "stdout",
     "output_type": "stream",
     "text": [
      "\n",
      "Epoch: 199\n"
     ]
    },
    {
     "name": "stderr",
     "output_type": "stream",
     "text": [
      "Acc: 88.984%: 100%|██████████| 704/704 [01:55<00:00,  6.12it/s]\n",
      "  0%|          | 0/704 [00:00<?, ?it/s]"
     ]
    },
    {
     "name": "stdout",
     "output_type": "stream",
     "text": [
      "\n",
      "Epoch: 200\n"
     ]
    },
    {
     "name": "stderr",
     "output_type": "stream",
     "text": [
      "Acc: 89.007%: 100%|██████████| 704/704 [01:55<00:00,  6.97it/s]\n",
      "Acc: 82.311%: 100%|██████████| 900/900 [00:48<00:00, 18.48it/s]\n",
      "  0%|          | 0/704 [00:00<?, ?it/s]"
     ]
    },
    {
     "name": "stdout",
     "output_type": "stream",
     "text": [
      "\n",
      "Epoch: 201\n"
     ]
    },
    {
     "name": "stderr",
     "output_type": "stream",
     "text": [
      "Acc: 88.933%: 100%|██████████| 704/704 [01:54<00:00,  6.15it/s]\n",
      "  0%|          | 0/704 [00:00<?, ?it/s]"
     ]
    },
    {
     "name": "stdout",
     "output_type": "stream",
     "text": [
      "\n",
      "Epoch: 202\n"
     ]
    },
    {
     "name": "stderr",
     "output_type": "stream",
     "text": [
      "Acc: 89.072%: 100%|██████████| 704/704 [01:55<00:00,  6.08it/s]\n",
      "  0%|          | 0/704 [00:00<?, ?it/s]"
     ]
    },
    {
     "name": "stdout",
     "output_type": "stream",
     "text": [
      "\n",
      "Epoch: 203\n"
     ]
    },
    {
     "name": "stderr",
     "output_type": "stream",
     "text": [
      "Acc: 89.186%: 100%|██████████| 704/704 [01:55<00:00,  6.10it/s]\n",
      "  0%|          | 0/704 [00:00<?, ?it/s]"
     ]
    },
    {
     "name": "stdout",
     "output_type": "stream",
     "text": [
      "\n",
      "Epoch: 204\n"
     ]
    },
    {
     "name": "stderr",
     "output_type": "stream",
     "text": [
      "Acc: 89.214%: 100%|██████████| 704/704 [01:54<00:00,  6.15it/s]\n",
      "  0%|          | 0/704 [00:00<?, ?it/s]"
     ]
    },
    {
     "name": "stdout",
     "output_type": "stream",
     "text": [
      "\n",
      "Epoch: 205\n"
     ]
    },
    {
     "name": "stderr",
     "output_type": "stream",
     "text": [
      "Acc: 89.332%: 100%|██████████| 704/704 [01:53<00:00,  6.18it/s]\n",
      "  0%|          | 0/704 [00:00<?, ?it/s]"
     ]
    },
    {
     "name": "stdout",
     "output_type": "stream",
     "text": [
      "\n",
      "Epoch: 206\n"
     ]
    },
    {
     "name": "stderr",
     "output_type": "stream",
     "text": [
      "Acc: 89.342%: 100%|██████████| 704/704 [01:54<00:00,  6.16it/s]\n",
      "  0%|          | 0/704 [00:00<?, ?it/s]"
     ]
    },
    {
     "name": "stdout",
     "output_type": "stream",
     "text": [
      "\n",
      "Epoch: 207\n"
     ]
    },
    {
     "name": "stderr",
     "output_type": "stream",
     "text": [
      "Acc: 89.404%: 100%|██████████| 704/704 [01:53<00:00,  6.19it/s]\n",
      "  0%|          | 0/704 [00:00<?, ?it/s]"
     ]
    },
    {
     "name": "stdout",
     "output_type": "stream",
     "text": [
      "\n",
      "Epoch: 208\n"
     ]
    },
    {
     "name": "stderr",
     "output_type": "stream",
     "text": [
      "Acc: 89.180%: 100%|██████████| 704/704 [01:53<00:00,  6.18it/s]\n",
      "  0%|          | 0/704 [00:00<?, ?it/s]"
     ]
    },
    {
     "name": "stdout",
     "output_type": "stream",
     "text": [
      "\n",
      "Epoch: 209\n"
     ]
    },
    {
     "name": "stderr",
     "output_type": "stream",
     "text": [
      "Acc: 89.271%: 100%|██████████| 704/704 [01:53<00:00,  6.18it/s]\n",
      "  0%|          | 0/704 [00:00<?, ?it/s]"
     ]
    },
    {
     "name": "stdout",
     "output_type": "stream",
     "text": [
      "\n",
      "Epoch: 210\n"
     ]
    },
    {
     "name": "stderr",
     "output_type": "stream",
     "text": [
      "Acc: 89.426%: 100%|██████████| 704/704 [01:54<00:00,  6.15it/s]\n",
      "Acc: 78.578%: 100%|██████████| 900/900 [00:46<00:00, 19.46it/s]\n",
      "  0%|          | 0/704 [00:00<?, ?it/s]"
     ]
    },
    {
     "name": "stdout",
     "output_type": "stream",
     "text": [
      "\n",
      "Epoch: 211\n"
     ]
    },
    {
     "name": "stderr",
     "output_type": "stream",
     "text": [
      "Acc: 89.647%: 100%|██████████| 704/704 [01:54<00:00,  6.14it/s]\n",
      "  0%|          | 0/704 [00:00<?, ?it/s]"
     ]
    },
    {
     "name": "stdout",
     "output_type": "stream",
     "text": [
      "\n",
      "Epoch: 212\n"
     ]
    },
    {
     "name": "stderr",
     "output_type": "stream",
     "text": [
      "Acc: 89.540%: 100%|██████████| 704/704 [01:54<00:00,  6.16it/s]\n",
      "  0%|          | 0/704 [00:00<?, ?it/s]"
     ]
    },
    {
     "name": "stdout",
     "output_type": "stream",
     "text": [
      "\n",
      "Epoch: 213\n"
     ]
    },
    {
     "name": "stderr",
     "output_type": "stream",
     "text": [
      "Acc: 89.773%: 100%|██████████| 704/704 [01:54<00:00,  6.16it/s]\n",
      "  0%|          | 0/704 [00:00<?, ?it/s]"
     ]
    },
    {
     "name": "stdout",
     "output_type": "stream",
     "text": [
      "\n",
      "Epoch: 214\n"
     ]
    },
    {
     "name": "stderr",
     "output_type": "stream",
     "text": [
      "Acc: 89.813%: 100%|██████████| 704/704 [01:55<00:00,  6.09it/s]\n",
      "  0%|          | 0/704 [00:00<?, ?it/s]"
     ]
    },
    {
     "name": "stdout",
     "output_type": "stream",
     "text": [
      "\n",
      "Epoch: 215\n"
     ]
    },
    {
     "name": "stderr",
     "output_type": "stream",
     "text": [
      "Acc: 90.057%: 100%|██████████| 704/704 [01:53<00:00,  6.23it/s]\n",
      "  0%|          | 0/704 [00:00<?, ?it/s]"
     ]
    },
    {
     "name": "stdout",
     "output_type": "stream",
     "text": [
      "\n",
      "Epoch: 216\n"
     ]
    },
    {
     "name": "stderr",
     "output_type": "stream",
     "text": [
      "Acc: 89.927%: 100%|██████████| 704/704 [01:54<00:00,  6.17it/s]\n",
      "  0%|          | 0/704 [00:00<?, ?it/s]"
     ]
    },
    {
     "name": "stdout",
     "output_type": "stream",
     "text": [
      "\n",
      "Epoch: 217\n"
     ]
    },
    {
     "name": "stderr",
     "output_type": "stream",
     "text": [
      "Acc: 89.879%: 100%|██████████| 704/704 [01:53<00:00,  6.22it/s]\n",
      "  0%|          | 0/704 [00:00<?, ?it/s]"
     ]
    },
    {
     "name": "stdout",
     "output_type": "stream",
     "text": [
      "\n",
      "Epoch: 218\n"
     ]
    },
    {
     "name": "stderr",
     "output_type": "stream",
     "text": [
      "Acc: 89.966%: 100%|██████████| 704/704 [01:53<00:00,  6.21it/s]\n",
      "  0%|          | 0/704 [00:00<?, ?it/s]"
     ]
    },
    {
     "name": "stdout",
     "output_type": "stream",
     "text": [
      "\n",
      "Epoch: 219\n"
     ]
    },
    {
     "name": "stderr",
     "output_type": "stream",
     "text": [
      "Acc: 89.933%: 100%|██████████| 704/704 [01:54<00:00,  6.82it/s]\n",
      "  0%|          | 0/704 [00:00<?, ?it/s]"
     ]
    },
    {
     "name": "stdout",
     "output_type": "stream",
     "text": [
      "\n",
      "Epoch: 220\n"
     ]
    },
    {
     "name": "stderr",
     "output_type": "stream",
     "text": [
      "Acc: 90.173%: 100%|██████████| 704/704 [01:53<00:00,  6.21it/s]\n",
      "Acc: 81.317%: 100%|██████████| 900/900 [00:46<00:00, 19.27it/s]\n",
      "  0%|          | 0/704 [00:00<?, ?it/s]"
     ]
    },
    {
     "name": "stdout",
     "output_type": "stream",
     "text": [
      "\n",
      "Epoch: 221\n"
     ]
    },
    {
     "name": "stderr",
     "output_type": "stream",
     "text": [
      "Acc: 90.236%: 100%|██████████| 704/704 [01:53<00:00,  6.70it/s]\n",
      "  0%|          | 0/704 [00:00<?, ?it/s]"
     ]
    },
    {
     "name": "stdout",
     "output_type": "stream",
     "text": [
      "\n",
      "Epoch: 222\n"
     ]
    },
    {
     "name": "stderr",
     "output_type": "stream",
     "text": [
      "Acc: 90.138%: 100%|██████████| 704/704 [01:54<00:00,  6.17it/s]\n",
      "  0%|          | 0/704 [00:00<?, ?it/s]"
     ]
    },
    {
     "name": "stdout",
     "output_type": "stream",
     "text": [
      "\n",
      "Epoch: 223\n"
     ]
    },
    {
     "name": "stderr",
     "output_type": "stream",
     "text": [
      "Acc: 90.281%: 100%|██████████| 704/704 [01:54<00:00,  6.92it/s]\n",
      "  0%|          | 0/704 [00:00<?, ?it/s]"
     ]
    },
    {
     "name": "stdout",
     "output_type": "stream",
     "text": [
      "\n",
      "Epoch: 224\n"
     ]
    },
    {
     "name": "stderr",
     "output_type": "stream",
     "text": [
      "Acc: 89.916%: 100%|██████████| 704/704 [01:54<00:00,  6.16it/s]\n",
      "  0%|          | 0/704 [00:00<?, ?it/s]"
     ]
    },
    {
     "name": "stdout",
     "output_type": "stream",
     "text": [
      "\n",
      "Epoch: 225\n"
     ]
    },
    {
     "name": "stderr",
     "output_type": "stream",
     "text": [
      "Acc: 90.429%: 100%|██████████| 704/704 [01:53<00:00,  6.19it/s]\n",
      "  0%|          | 0/704 [00:00<?, ?it/s]"
     ]
    },
    {
     "name": "stdout",
     "output_type": "stream",
     "text": [
      "\n",
      "Epoch: 226\n"
     ]
    },
    {
     "name": "stderr",
     "output_type": "stream",
     "text": [
      "Acc: 90.334%: 100%|██████████| 704/704 [01:53<00:00,  6.20it/s]\n",
      "  0%|          | 0/704 [00:00<?, ?it/s]"
     ]
    },
    {
     "name": "stdout",
     "output_type": "stream",
     "text": [
      "\n",
      "Epoch: 227\n"
     ]
    },
    {
     "name": "stderr",
     "output_type": "stream",
     "text": [
      "Acc: 90.174%: 100%|██████████| 704/704 [01:53<00:00,  6.21it/s]\n",
      "  0%|          | 0/704 [00:00<?, ?it/s]"
     ]
    },
    {
     "name": "stdout",
     "output_type": "stream",
     "text": [
      "\n",
      "Epoch: 228\n"
     ]
    },
    {
     "name": "stderr",
     "output_type": "stream",
     "text": [
      "Acc: 90.233%: 100%|██████████| 704/704 [01:53<00:00,  6.52it/s]\n",
      "  0%|          | 0/704 [00:00<?, ?it/s]"
     ]
    },
    {
     "name": "stdout",
     "output_type": "stream",
     "text": [
      "\n",
      "Epoch: 229\n"
     ]
    },
    {
     "name": "stderr",
     "output_type": "stream",
     "text": [
      "Acc: 90.307%: 100%|██████████| 704/704 [01:54<00:00,  6.13it/s]\n",
      "  0%|          | 0/704 [00:00<?, ?it/s]"
     ]
    },
    {
     "name": "stdout",
     "output_type": "stream",
     "text": [
      "\n",
      "Epoch: 230\n"
     ]
    },
    {
     "name": "stderr",
     "output_type": "stream",
     "text": [
      "Acc: 90.452%: 100%|██████████| 704/704 [01:56<00:00,  6.04it/s]\n",
      "Acc: 80.417%: 100%|██████████| 900/900 [00:47<00:00, 18.96it/s]\n",
      "  0%|          | 0/704 [00:00<?, ?it/s]"
     ]
    },
    {
     "name": "stdout",
     "output_type": "stream",
     "text": [
      "\n",
      "Epoch: 231\n"
     ]
    },
    {
     "name": "stderr",
     "output_type": "stream",
     "text": [
      "Acc: 90.621%: 100%|██████████| 704/704 [01:55<00:00,  6.12it/s]\n",
      "  0%|          | 0/704 [00:00<?, ?it/s]"
     ]
    },
    {
     "name": "stdout",
     "output_type": "stream",
     "text": [
      "\n",
      "Epoch: 232\n"
     ]
    },
    {
     "name": "stderr",
     "output_type": "stream",
     "text": [
      "Acc: 90.507%: 100%|██████████| 704/704 [01:53<00:00,  7.14it/s]\n",
      "  0%|          | 0/704 [00:00<?, ?it/s]"
     ]
    },
    {
     "name": "stdout",
     "output_type": "stream",
     "text": [
      "\n",
      "Epoch: 233\n"
     ]
    },
    {
     "name": "stderr",
     "output_type": "stream",
     "text": [
      "Acc: 90.802%: 100%|██████████| 704/704 [01:53<00:00,  6.18it/s]\n",
      "  0%|          | 0/704 [00:00<?, ?it/s]"
     ]
    },
    {
     "name": "stdout",
     "output_type": "stream",
     "text": [
      "\n",
      "Epoch: 234\n"
     ]
    },
    {
     "name": "stderr",
     "output_type": "stream",
     "text": [
      "Acc: 90.677%: 100%|██████████| 704/704 [01:54<00:00,  6.96it/s]\n",
      "  0%|          | 0/704 [00:00<?, ?it/s]"
     ]
    },
    {
     "name": "stdout",
     "output_type": "stream",
     "text": [
      "\n",
      "Epoch: 235\n"
     ]
    },
    {
     "name": "stderr",
     "output_type": "stream",
     "text": [
      "Acc: 90.473%: 100%|██████████| 704/704 [01:54<00:00,  6.17it/s]\n",
      "  0%|          | 0/704 [00:00<?, ?it/s]"
     ]
    },
    {
     "name": "stdout",
     "output_type": "stream",
     "text": [
      "\n",
      "Epoch: 236\n"
     ]
    },
    {
     "name": "stderr",
     "output_type": "stream",
     "text": [
      "Acc: 90.662%: 100%|██████████| 704/704 [01:53<00:00,  6.18it/s]\n",
      "  0%|          | 0/704 [00:00<?, ?it/s]"
     ]
    },
    {
     "name": "stdout",
     "output_type": "stream",
     "text": [
      "\n",
      "Epoch: 237\n"
     ]
    },
    {
     "name": "stderr",
     "output_type": "stream",
     "text": [
      "Acc: 90.733%: 100%|██████████| 704/704 [01:54<00:00,  6.16it/s]\n",
      "  0%|          | 0/704 [00:00<?, ?it/s]"
     ]
    },
    {
     "name": "stdout",
     "output_type": "stream",
     "text": [
      "\n",
      "Epoch: 238\n"
     ]
    },
    {
     "name": "stderr",
     "output_type": "stream",
     "text": [
      "Acc: 90.620%: 100%|██████████| 704/704 [01:54<00:00,  6.16it/s]\n",
      "  0%|          | 0/704 [00:00<?, ?it/s]"
     ]
    },
    {
     "name": "stdout",
     "output_type": "stream",
     "text": [
      "\n",
      "Epoch: 239\n"
     ]
    },
    {
     "name": "stderr",
     "output_type": "stream",
     "text": [
      "Acc: 90.838%: 100%|██████████| 704/704 [01:54<00:00,  6.16it/s]\n",
      "  0%|          | 0/704 [00:00<?, ?it/s]"
     ]
    },
    {
     "name": "stdout",
     "output_type": "stream",
     "text": [
      "\n",
      "Epoch: 240\n"
     ]
    },
    {
     "name": "stderr",
     "output_type": "stream",
     "text": [
      "Acc: 90.664%: 100%|██████████| 704/704 [01:54<00:00,  6.16it/s]\n",
      "Acc: 78.954%: 100%|██████████| 900/900 [00:46<00:00, 16.52it/s]\n",
      "  0%|          | 0/704 [00:00<?, ?it/s]"
     ]
    },
    {
     "name": "stdout",
     "output_type": "stream",
     "text": [
      "\n",
      "Epoch: 241\n"
     ]
    },
    {
     "name": "stderr",
     "output_type": "stream",
     "text": [
      "Acc: 90.914%: 100%|██████████| 704/704 [01:54<00:00,  6.16it/s]\n",
      "  0%|          | 0/704 [00:00<?, ?it/s]"
     ]
    },
    {
     "name": "stdout",
     "output_type": "stream",
     "text": [
      "\n",
      "Epoch: 242\n"
     ]
    },
    {
     "name": "stderr",
     "output_type": "stream",
     "text": [
      "Acc: 90.652%: 100%|██████████| 704/704 [01:55<00:00,  6.12it/s]\n",
      "  0%|          | 0/704 [00:00<?, ?it/s]"
     ]
    },
    {
     "name": "stdout",
     "output_type": "stream",
     "text": [
      "\n",
      "Epoch: 243\n"
     ]
    },
    {
     "name": "stderr",
     "output_type": "stream",
     "text": [
      "Acc: 90.960%: 100%|██████████| 704/704 [01:55<00:00,  6.77it/s]\n",
      "  0%|          | 0/704 [00:00<?, ?it/s]"
     ]
    },
    {
     "name": "stdout",
     "output_type": "stream",
     "text": [
      "\n",
      "Epoch: 244\n"
     ]
    },
    {
     "name": "stderr",
     "output_type": "stream",
     "text": [
      "Acc: 90.788%: 100%|██████████| 704/704 [01:57<00:00,  5.99it/s]\n",
      "  0%|          | 0/704 [00:00<?, ?it/s]"
     ]
    },
    {
     "name": "stdout",
     "output_type": "stream",
     "text": [
      "\n",
      "Epoch: 245\n"
     ]
    },
    {
     "name": "stderr",
     "output_type": "stream",
     "text": [
      "Acc: 90.986%: 100%|██████████| 704/704 [01:56<00:00,  6.58it/s]\n",
      "  0%|          | 0/704 [00:00<?, ?it/s]"
     ]
    },
    {
     "name": "stdout",
     "output_type": "stream",
     "text": [
      "\n",
      "Epoch: 246\n"
     ]
    },
    {
     "name": "stderr",
     "output_type": "stream",
     "text": [
      "Acc: 90.752%: 100%|██████████| 704/704 [01:55<00:00,  6.09it/s]\n",
      "  0%|          | 0/704 [00:00<?, ?it/s]"
     ]
    },
    {
     "name": "stdout",
     "output_type": "stream",
     "text": [
      "\n",
      "Epoch: 247\n"
     ]
    },
    {
     "name": "stderr",
     "output_type": "stream",
     "text": [
      "Acc: 91.000%: 100%|██████████| 704/704 [01:56<00:00,  6.62it/s]\n",
      "  0%|          | 0/704 [00:00<?, ?it/s]"
     ]
    },
    {
     "name": "stdout",
     "output_type": "stream",
     "text": [
      "\n",
      "Epoch: 248\n"
     ]
    },
    {
     "name": "stderr",
     "output_type": "stream",
     "text": [
      "Acc: 90.768%: 100%|██████████| 704/704 [01:57<00:00,  5.98it/s]\n",
      "  0%|          | 0/704 [00:00<?, ?it/s]"
     ]
    },
    {
     "name": "stdout",
     "output_type": "stream",
     "text": [
      "\n",
      "Epoch: 249\n"
     ]
    },
    {
     "name": "stderr",
     "output_type": "stream",
     "text": [
      "Acc: 90.809%: 100%|██████████| 704/704 [01:57<00:00,  5.97it/s]\n",
      "  0%|          | 0/704 [00:00<?, ?it/s]"
     ]
    },
    {
     "name": "stdout",
     "output_type": "stream",
     "text": [
      "\n",
      "Epoch: 250\n"
     ]
    },
    {
     "name": "stderr",
     "output_type": "stream",
     "text": [
      "Acc: 95.366%: 100%|██████████| 704/704 [01:57<00:00,  5.99it/s]\n",
      "Acc: 84.809%: 100%|██████████| 900/900 [00:48<00:00, 18.74it/s]\n",
      "  0%|          | 0/704 [00:00<?, ?it/s]"
     ]
    },
    {
     "name": "stdout",
     "output_type": "stream",
     "text": [
      "Saving..\n",
      "\n",
      "Epoch: 251\n"
     ]
    },
    {
     "name": "stderr",
     "output_type": "stream",
     "text": [
      "Acc: 96.746%: 100%|██████████| 704/704 [01:59<00:00,  5.90it/s]\n",
      "  0%|          | 0/704 [00:00<?, ?it/s]"
     ]
    },
    {
     "name": "stdout",
     "output_type": "stream",
     "text": [
      "\n",
      "Epoch: 252\n"
     ]
    },
    {
     "name": "stderr",
     "output_type": "stream",
     "text": [
      "Acc: 97.249%: 100%|██████████| 704/704 [01:58<00:00,  5.96it/s]\n",
      "  0%|          | 0/704 [00:00<?, ?it/s]"
     ]
    },
    {
     "name": "stdout",
     "output_type": "stream",
     "text": [
      "\n",
      "Epoch: 253\n"
     ]
    },
    {
     "name": "stderr",
     "output_type": "stream",
     "text": [
      "Acc: 97.599%: 100%|██████████| 704/704 [01:57<00:00,  5.98it/s]\n",
      "  0%|          | 0/704 [00:00<?, ?it/s]"
     ]
    },
    {
     "name": "stdout",
     "output_type": "stream",
     "text": [
      "\n",
      "Epoch: 254\n"
     ]
    },
    {
     "name": "stderr",
     "output_type": "stream",
     "text": [
      "Acc: 97.780%: 100%|██████████| 704/704 [01:57<00:00,  6.01it/s]\n",
      "  0%|          | 0/704 [00:00<?, ?it/s]"
     ]
    },
    {
     "name": "stdout",
     "output_type": "stream",
     "text": [
      "\n",
      "Epoch: 255\n"
     ]
    },
    {
     "name": "stderr",
     "output_type": "stream",
     "text": [
      "Acc: 97.878%: 100%|██████████| 704/704 [01:56<00:00,  6.03it/s]\n",
      "  0%|          | 0/704 [00:00<?, ?it/s]"
     ]
    },
    {
     "name": "stdout",
     "output_type": "stream",
     "text": [
      "\n",
      "Epoch: 256\n"
     ]
    },
    {
     "name": "stderr",
     "output_type": "stream",
     "text": [
      "Acc: 98.107%: 100%|██████████| 704/704 [01:55<00:00,  6.08it/s]\n",
      "  0%|          | 0/704 [00:00<?, ?it/s]"
     ]
    },
    {
     "name": "stdout",
     "output_type": "stream",
     "text": [
      "\n",
      "Epoch: 257\n"
     ]
    },
    {
     "name": "stderr",
     "output_type": "stream",
     "text": [
      "Acc: 98.109%: 100%|██████████| 704/704 [01:57<00:00,  5.97it/s]\n",
      "  0%|          | 0/704 [00:00<?, ?it/s]"
     ]
    },
    {
     "name": "stdout",
     "output_type": "stream",
     "text": [
      "\n",
      "Epoch: 258\n"
     ]
    },
    {
     "name": "stderr",
     "output_type": "stream",
     "text": [
      "Acc: 98.258%: 100%|██████████| 704/704 [01:55<00:00,  6.10it/s]\n",
      "  0%|          | 0/704 [00:00<?, ?it/s]"
     ]
    },
    {
     "name": "stdout",
     "output_type": "stream",
     "text": [
      "\n",
      "Epoch: 259\n"
     ]
    },
    {
     "name": "stderr",
     "output_type": "stream",
     "text": [
      "Acc: 98.417%: 100%|██████████| 704/704 [01:55<00:00,  6.11it/s]\n",
      "  0%|          | 0/704 [00:00<?, ?it/s]"
     ]
    },
    {
     "name": "stdout",
     "output_type": "stream",
     "text": [
      "\n",
      "Epoch: 260\n"
     ]
    },
    {
     "name": "stderr",
     "output_type": "stream",
     "text": [
      "Acc: 98.402%: 100%|██████████| 704/704 [01:55<00:00,  6.10it/s]\n",
      "Acc: 85.563%: 100%|██████████| 900/900 [00:48<00:00, 17.34it/s]\n",
      "  0%|          | 0/704 [00:00<?, ?it/s]"
     ]
    },
    {
     "name": "stdout",
     "output_type": "stream",
     "text": [
      "Saving..\n",
      "\n",
      "Epoch: 261\n"
     ]
    },
    {
     "name": "stderr",
     "output_type": "stream",
     "text": [
      "Acc: 98.581%: 100%|██████████| 704/704 [01:55<00:00,  6.09it/s]\n",
      "  0%|          | 0/704 [00:00<?, ?it/s]"
     ]
    },
    {
     "name": "stdout",
     "output_type": "stream",
     "text": [
      "\n",
      "Epoch: 262\n"
     ]
    },
    {
     "name": "stderr",
     "output_type": "stream",
     "text": [
      "Acc: 98.578%: 100%|██████████| 704/704 [01:55<00:00,  6.09it/s]\n",
      "  0%|          | 0/704 [00:00<?, ?it/s]"
     ]
    },
    {
     "name": "stdout",
     "output_type": "stream",
     "text": [
      "\n",
      "Epoch: 263\n"
     ]
    },
    {
     "name": "stderr",
     "output_type": "stream",
     "text": [
      "Acc: 98.502%: 100%|██████████| 704/704 [01:55<00:00,  6.10it/s]\n",
      "  0%|          | 0/704 [00:00<?, ?it/s]"
     ]
    },
    {
     "name": "stdout",
     "output_type": "stream",
     "text": [
      "\n",
      "Epoch: 264\n"
     ]
    },
    {
     "name": "stderr",
     "output_type": "stream",
     "text": [
      "Acc: 98.631%: 100%|██████████| 704/704 [01:55<00:00,  6.11it/s]\n",
      "  0%|          | 0/704 [00:00<?, ?it/s]"
     ]
    },
    {
     "name": "stdout",
     "output_type": "stream",
     "text": [
      "\n",
      "Epoch: 265\n"
     ]
    },
    {
     "name": "stderr",
     "output_type": "stream",
     "text": [
      "Acc: 98.762%: 100%|██████████| 704/704 [01:54<00:00,  6.57it/s]\n",
      "  0%|          | 0/704 [00:00<?, ?it/s]"
     ]
    },
    {
     "name": "stdout",
     "output_type": "stream",
     "text": [
      "\n",
      "Epoch: 266\n"
     ]
    },
    {
     "name": "stderr",
     "output_type": "stream",
     "text": [
      "Acc: 98.816%: 100%|██████████| 704/704 [01:54<00:00,  6.14it/s]\n",
      "  0%|          | 0/704 [00:00<?, ?it/s]"
     ]
    },
    {
     "name": "stdout",
     "output_type": "stream",
     "text": [
      "\n",
      "Epoch: 267\n"
     ]
    },
    {
     "name": "stderr",
     "output_type": "stream",
     "text": [
      "Acc: 98.813%: 100%|██████████| 704/704 [01:55<00:00,  6.12it/s]\n",
      "  0%|          | 0/704 [00:00<?, ?it/s]"
     ]
    },
    {
     "name": "stdout",
     "output_type": "stream",
     "text": [
      "\n",
      "Epoch: 268\n"
     ]
    },
    {
     "name": "stderr",
     "output_type": "stream",
     "text": [
      "Acc: 98.871%: 100%|██████████| 704/704 [01:55<00:00,  6.11it/s]\n",
      "  0%|          | 0/704 [00:00<?, ?it/s]"
     ]
    },
    {
     "name": "stdout",
     "output_type": "stream",
     "text": [
      "\n",
      "Epoch: 269\n"
     ]
    },
    {
     "name": "stderr",
     "output_type": "stream",
     "text": [
      "Acc: 98.889%: 100%|██████████| 704/704 [01:54<00:00,  6.14it/s]\n",
      "  0%|          | 0/704 [00:00<?, ?it/s]"
     ]
    },
    {
     "name": "stdout",
     "output_type": "stream",
     "text": [
      "\n",
      "Epoch: 270\n"
     ]
    },
    {
     "name": "stderr",
     "output_type": "stream",
     "text": [
      "Acc: 98.976%: 100%|██████████| 704/704 [01:55<00:00,  6.09it/s]\n",
      "Acc: 85.351%: 100%|██████████| 900/900 [00:46<00:00, 19.31it/s]\n",
      "  0%|          | 0/704 [00:00<?, ?it/s]"
     ]
    },
    {
     "name": "stdout",
     "output_type": "stream",
     "text": [
      "\n",
      "Epoch: 271\n"
     ]
    },
    {
     "name": "stderr",
     "output_type": "stream",
     "text": [
      "Acc: 98.970%: 100%|██████████| 704/704 [01:55<00:00,  6.80it/s]\n",
      "  0%|          | 0/704 [00:00<?, ?it/s]"
     ]
    },
    {
     "name": "stdout",
     "output_type": "stream",
     "text": [
      "\n",
      "Epoch: 272\n"
     ]
    },
    {
     "name": "stderr",
     "output_type": "stream",
     "text": [
      "Acc: 98.968%: 100%|██████████| 704/704 [01:56<00:00,  6.04it/s]\n",
      "  0%|          | 0/704 [00:00<?, ?it/s]"
     ]
    },
    {
     "name": "stdout",
     "output_type": "stream",
     "text": [
      "\n",
      "Epoch: 273\n"
     ]
    },
    {
     "name": "stderr",
     "output_type": "stream",
     "text": [
      "Acc: 99.046%: 100%|██████████| 704/704 [01:56<00:00,  6.04it/s]\n",
      "  0%|          | 0/704 [00:00<?, ?it/s]"
     ]
    },
    {
     "name": "stdout",
     "output_type": "stream",
     "text": [
      "\n",
      "Epoch: 274\n"
     ]
    },
    {
     "name": "stderr",
     "output_type": "stream",
     "text": [
      "Acc: 98.989%: 100%|██████████| 704/704 [01:59<00:00,  5.90it/s]\n",
      "  0%|          | 0/704 [00:00<?, ?it/s]"
     ]
    },
    {
     "name": "stdout",
     "output_type": "stream",
     "text": [
      "\n",
      "Epoch: 275\n"
     ]
    },
    {
     "name": "stderr",
     "output_type": "stream",
     "text": [
      "Acc: 99.028%: 100%|██████████| 704/704 [01:59<00:00,  5.88it/s]\n",
      "  0%|          | 0/704 [00:00<?, ?it/s]"
     ]
    },
    {
     "name": "stdout",
     "output_type": "stream",
     "text": [
      "\n",
      "Epoch: 276\n"
     ]
    },
    {
     "name": "stderr",
     "output_type": "stream",
     "text": [
      "Acc: 99.072%: 100%|██████████| 704/704 [01:59<00:00,  6.77it/s]\n",
      "  0%|          | 0/704 [00:00<?, ?it/s]"
     ]
    },
    {
     "name": "stdout",
     "output_type": "stream",
     "text": [
      "\n",
      "Epoch: 277\n"
     ]
    },
    {
     "name": "stderr",
     "output_type": "stream",
     "text": [
      "Acc: 99.100%: 100%|██████████| 704/704 [02:00<00:00,  5.86it/s]\n",
      "  0%|          | 0/704 [00:00<?, ?it/s]"
     ]
    },
    {
     "name": "stdout",
     "output_type": "stream",
     "text": [
      "\n",
      "Epoch: 278\n"
     ]
    },
    {
     "name": "stderr",
     "output_type": "stream",
     "text": [
      "Acc: 99.097%: 100%|██████████| 704/704 [02:00<00:00,  5.85it/s]\n",
      "  0%|          | 0/704 [00:00<?, ?it/s]"
     ]
    },
    {
     "name": "stdout",
     "output_type": "stream",
     "text": [
      "\n",
      "Epoch: 279\n"
     ]
    },
    {
     "name": "stderr",
     "output_type": "stream",
     "text": [
      "Acc: 99.072%: 100%|██████████| 704/704 [02:00<00:00,  5.86it/s]\n",
      "  0%|          | 0/704 [00:00<?, ?it/s]"
     ]
    },
    {
     "name": "stdout",
     "output_type": "stream",
     "text": [
      "\n",
      "Epoch: 280\n"
     ]
    },
    {
     "name": "stderr",
     "output_type": "stream",
     "text": [
      "Acc: 99.187%: 100%|██████████| 704/704 [01:58<00:00,  5.93it/s]\n",
      "Acc: 85.528%: 100%|██████████| 900/900 [00:49<00:00, 18.35it/s]\n",
      "  0%|          | 0/704 [00:00<?, ?it/s]"
     ]
    },
    {
     "name": "stdout",
     "output_type": "stream",
     "text": [
      "\n",
      "Epoch: 281\n"
     ]
    },
    {
     "name": "stderr",
     "output_type": "stream",
     "text": [
      "Acc: 99.217%: 100%|██████████| 704/704 [01:57<00:00,  6.00it/s]\n",
      "  0%|          | 0/704 [00:00<?, ?it/s]"
     ]
    },
    {
     "name": "stdout",
     "output_type": "stream",
     "text": [
      "\n",
      "Epoch: 282\n"
     ]
    },
    {
     "name": "stderr",
     "output_type": "stream",
     "text": [
      "Acc: 99.154%: 100%|██████████| 704/704 [01:57<00:00,  6.00it/s]\n",
      "  0%|          | 0/704 [00:00<?, ?it/s]"
     ]
    },
    {
     "name": "stdout",
     "output_type": "stream",
     "text": [
      "\n",
      "Epoch: 283\n"
     ]
    },
    {
     "name": "stderr",
     "output_type": "stream",
     "text": [
      "Acc: 99.221%: 100%|██████████| 704/704 [01:57<00:00,  5.99it/s]\n",
      "  0%|          | 0/704 [00:00<?, ?it/s]"
     ]
    },
    {
     "name": "stdout",
     "output_type": "stream",
     "text": [
      "\n",
      "Epoch: 284\n"
     ]
    },
    {
     "name": "stderr",
     "output_type": "stream",
     "text": [
      "Acc: 99.219%: 100%|██████████| 704/704 [01:56<00:00,  6.03it/s]\n",
      "  0%|          | 0/704 [00:00<?, ?it/s]"
     ]
    },
    {
     "name": "stdout",
     "output_type": "stream",
     "text": [
      "\n",
      "Epoch: 285\n"
     ]
    },
    {
     "name": "stderr",
     "output_type": "stream",
     "text": [
      "Acc: 99.183%: 100%|██████████| 704/704 [01:56<00:00,  6.03it/s]\n",
      "  0%|          | 0/704 [00:00<?, ?it/s]"
     ]
    },
    {
     "name": "stdout",
     "output_type": "stream",
     "text": [
      "\n",
      "Epoch: 286\n"
     ]
    },
    {
     "name": "stderr",
     "output_type": "stream",
     "text": [
      "Acc: 99.188%: 100%|██████████| 704/704 [01:57<00:00,  6.01it/s]\n",
      "  0%|          | 0/704 [00:00<?, ?it/s]"
     ]
    },
    {
     "name": "stdout",
     "output_type": "stream",
     "text": [
      "\n",
      "Epoch: 287\n"
     ]
    },
    {
     "name": "stderr",
     "output_type": "stream",
     "text": [
      "Acc: 99.287%: 100%|██████████| 704/704 [01:57<00:00,  6.00it/s]\n",
      "  0%|          | 0/704 [00:00<?, ?it/s]"
     ]
    },
    {
     "name": "stdout",
     "output_type": "stream",
     "text": [
      "\n",
      "Epoch: 288\n"
     ]
    },
    {
     "name": "stderr",
     "output_type": "stream",
     "text": [
      "Acc: 99.274%: 100%|██████████| 704/704 [01:56<00:00,  6.02it/s]\n",
      "  0%|          | 0/704 [00:00<?, ?it/s]"
     ]
    },
    {
     "name": "stdout",
     "output_type": "stream",
     "text": [
      "\n",
      "Epoch: 289\n"
     ]
    },
    {
     "name": "stderr",
     "output_type": "stream",
     "text": [
      "Acc: 99.226%: 100%|██████████| 704/704 [01:56<00:00,  6.04it/s]\n",
      "  0%|          | 0/704 [00:00<?, ?it/s]"
     ]
    },
    {
     "name": "stdout",
     "output_type": "stream",
     "text": [
      "\n",
      "Epoch: 290\n"
     ]
    },
    {
     "name": "stderr",
     "output_type": "stream",
     "text": [
      "Acc: 99.298%: 100%|██████████| 704/704 [01:56<00:00,  6.05it/s]\n",
      "Acc: 85.538%: 100%|██████████| 900/900 [00:48<00:00, 20.93it/s]\n",
      "  0%|          | 0/704 [00:00<?, ?it/s]"
     ]
    },
    {
     "name": "stdout",
     "output_type": "stream",
     "text": [
      "\n",
      "Epoch: 291\n"
     ]
    },
    {
     "name": "stderr",
     "output_type": "stream",
     "text": [
      "Acc: 99.276%: 100%|██████████| 704/704 [01:56<00:00,  6.67it/s]\n",
      "  0%|          | 0/704 [00:00<?, ?it/s]"
     ]
    },
    {
     "name": "stdout",
     "output_type": "stream",
     "text": [
      "\n",
      "Epoch: 292\n"
     ]
    },
    {
     "name": "stderr",
     "output_type": "stream",
     "text": [
      "Acc: 99.306%: 100%|██████████| 704/704 [01:56<00:00,  6.87it/s]\n",
      "  0%|          | 0/704 [00:00<?, ?it/s]"
     ]
    },
    {
     "name": "stdout",
     "output_type": "stream",
     "text": [
      "\n",
      "Epoch: 293\n"
     ]
    },
    {
     "name": "stderr",
     "output_type": "stream",
     "text": [
      "Acc: 99.339%: 100%|██████████| 704/704 [01:55<00:00,  6.94it/s]\n",
      "  0%|          | 0/704 [00:00<?, ?it/s]"
     ]
    },
    {
     "name": "stdout",
     "output_type": "stream",
     "text": [
      "\n",
      "Epoch: 294\n"
     ]
    },
    {
     "name": "stderr",
     "output_type": "stream",
     "text": [
      "Acc: 99.317%: 100%|██████████| 704/704 [01:55<00:00,  6.67it/s]\n",
      "  0%|          | 0/704 [00:00<?, ?it/s]"
     ]
    },
    {
     "name": "stdout",
     "output_type": "stream",
     "text": [
      "\n",
      "Epoch: 295\n"
     ]
    },
    {
     "name": "stderr",
     "output_type": "stream",
     "text": [
      "Acc: 99.366%: 100%|██████████| 704/704 [01:58<00:00,  5.95it/s]\n",
      "  0%|          | 0/704 [00:00<?, ?it/s]"
     ]
    },
    {
     "name": "stdout",
     "output_type": "stream",
     "text": [
      "\n",
      "Epoch: 296\n"
     ]
    },
    {
     "name": "stderr",
     "output_type": "stream",
     "text": [
      "Acc: 99.354%: 100%|██████████| 704/704 [01:56<00:00,  6.03it/s]\n",
      "  0%|          | 0/704 [00:00<?, ?it/s]"
     ]
    },
    {
     "name": "stdout",
     "output_type": "stream",
     "text": [
      "\n",
      "Epoch: 297\n"
     ]
    },
    {
     "name": "stderr",
     "output_type": "stream",
     "text": [
      "Acc: 99.344%: 100%|██████████| 704/704 [01:58<00:00,  5.94it/s]\n",
      "  0%|          | 0/704 [00:00<?, ?it/s]"
     ]
    },
    {
     "name": "stdout",
     "output_type": "stream",
     "text": [
      "\n",
      "Epoch: 298\n"
     ]
    },
    {
     "name": "stderr",
     "output_type": "stream",
     "text": [
      "Acc: 99.399%: 100%|██████████| 704/704 [01:59<00:00,  5.88it/s]\n",
      "  0%|          | 0/704 [00:00<?, ?it/s]"
     ]
    },
    {
     "name": "stdout",
     "output_type": "stream",
     "text": [
      "\n",
      "Epoch: 299\n"
     ]
    },
    {
     "name": "stderr",
     "output_type": "stream",
     "text": [
      "Acc: 99.456%: 100%|██████████| 704/704 [01:58<00:00,  5.93it/s]\n",
      "  0%|          | 0/704 [00:00<?, ?it/s]"
     ]
    },
    {
     "name": "stdout",
     "output_type": "stream",
     "text": [
      "\n",
      "Epoch: 300\n"
     ]
    },
    {
     "name": "stderr",
     "output_type": "stream",
     "text": [
      "Acc: 99.356%: 100%|██████████| 704/704 [01:59<00:00,  5.91it/s]\n",
      "Acc: 85.319%: 100%|██████████| 900/900 [00:49<00:00, 18.10it/s]\n",
      "  0%|          | 0/704 [00:00<?, ?it/s]"
     ]
    },
    {
     "name": "stdout",
     "output_type": "stream",
     "text": [
      "\n",
      "Epoch: 301\n"
     ]
    },
    {
     "name": "stderr",
     "output_type": "stream",
     "text": [
      "Acc: 99.384%: 100%|██████████| 704/704 [01:59<00:00,  6.58it/s]\n",
      "  0%|          | 0/704 [00:00<?, ?it/s]"
     ]
    },
    {
     "name": "stdout",
     "output_type": "stream",
     "text": [
      "\n",
      "Epoch: 302\n"
     ]
    },
    {
     "name": "stderr",
     "output_type": "stream",
     "text": [
      "Acc: 99.346%: 100%|██████████| 704/704 [01:59<00:00,  5.91it/s]\n",
      "  0%|          | 0/704 [00:00<?, ?it/s]"
     ]
    },
    {
     "name": "stdout",
     "output_type": "stream",
     "text": [
      "\n",
      "Epoch: 303\n"
     ]
    },
    {
     "name": "stderr",
     "output_type": "stream",
     "text": [
      "Acc: 99.431%: 100%|██████████| 704/704 [01:59<00:00,  5.91it/s]\n",
      "  0%|          | 0/704 [00:00<?, ?it/s]"
     ]
    },
    {
     "name": "stdout",
     "output_type": "stream",
     "text": [
      "\n",
      "Epoch: 304\n"
     ]
    },
    {
     "name": "stderr",
     "output_type": "stream",
     "text": [
      "Acc: 99.371%: 100%|██████████| 704/704 [01:58<00:00,  5.94it/s]\n",
      "  0%|          | 0/704 [00:00<?, ?it/s]"
     ]
    },
    {
     "name": "stdout",
     "output_type": "stream",
     "text": [
      "\n",
      "Epoch: 305\n"
     ]
    },
    {
     "name": "stderr",
     "output_type": "stream",
     "text": [
      "Acc: 99.373%: 100%|██████████| 704/704 [01:57<00:00,  6.01it/s]\n",
      "  0%|          | 0/704 [00:00<?, ?it/s]"
     ]
    },
    {
     "name": "stdout",
     "output_type": "stream",
     "text": [
      "\n",
      "Epoch: 306\n"
     ]
    },
    {
     "name": "stderr",
     "output_type": "stream",
     "text": [
      "Acc: 99.451%: 100%|██████████| 704/704 [01:56<00:00,  6.06it/s]\n",
      "  0%|          | 0/704 [00:00<?, ?it/s]"
     ]
    },
    {
     "name": "stdout",
     "output_type": "stream",
     "text": [
      "\n",
      "Epoch: 307\n"
     ]
    },
    {
     "name": "stderr",
     "output_type": "stream",
     "text": [
      "Acc: 99.436%: 100%|██████████| 704/704 [01:56<00:00,  6.07it/s]\n",
      "  0%|          | 0/704 [00:00<?, ?it/s]"
     ]
    },
    {
     "name": "stdout",
     "output_type": "stream",
     "text": [
      "\n",
      "Epoch: 308\n"
     ]
    },
    {
     "name": "stderr",
     "output_type": "stream",
     "text": [
      "Acc: 99.424%: 100%|██████████| 704/704 [01:55<00:00,  6.07it/s]\n",
      "  0%|          | 0/704 [00:00<?, ?it/s]"
     ]
    },
    {
     "name": "stdout",
     "output_type": "stream",
     "text": [
      "\n",
      "Epoch: 309\n"
     ]
    },
    {
     "name": "stderr",
     "output_type": "stream",
     "text": [
      "Acc: 99.468%: 100%|██████████| 704/704 [01:55<00:00,  6.09it/s]\n",
      "  0%|          | 0/704 [00:00<?, ?it/s]"
     ]
    },
    {
     "name": "stdout",
     "output_type": "stream",
     "text": [
      "\n",
      "Epoch: 310\n"
     ]
    },
    {
     "name": "stderr",
     "output_type": "stream",
     "text": [
      "Acc: 99.434%: 100%|██████████| 704/704 [01:56<00:00,  6.05it/s]\n",
      "Acc: 85.432%: 100%|██████████| 900/900 [00:48<00:00, 18.53it/s]\n",
      "  0%|          | 0/704 [00:00<?, ?it/s]"
     ]
    },
    {
     "name": "stdout",
     "output_type": "stream",
     "text": [
      "\n",
      "Epoch: 311\n"
     ]
    },
    {
     "name": "stderr",
     "output_type": "stream",
     "text": [
      "Acc: 99.420%: 100%|██████████| 704/704 [01:56<00:00,  6.04it/s]\n",
      "  0%|          | 0/704 [00:00<?, ?it/s]"
     ]
    },
    {
     "name": "stdout",
     "output_type": "stream",
     "text": [
      "\n",
      "Epoch: 312\n"
     ]
    },
    {
     "name": "stderr",
     "output_type": "stream",
     "text": [
      "Acc: 99.424%: 100%|██████████| 704/704 [01:56<00:00,  6.87it/s]\n",
      "  0%|          | 0/704 [00:00<?, ?it/s]"
     ]
    },
    {
     "name": "stdout",
     "output_type": "stream",
     "text": [
      "\n",
      "Epoch: 313\n"
     ]
    },
    {
     "name": "stderr",
     "output_type": "stream",
     "text": [
      "Acc: 99.464%: 100%|██████████| 704/704 [01:56<00:00,  6.06it/s]\n",
      "  0%|          | 0/704 [00:00<?, ?it/s]"
     ]
    },
    {
     "name": "stdout",
     "output_type": "stream",
     "text": [
      "\n",
      "Epoch: 314\n"
     ]
    },
    {
     "name": "stderr",
     "output_type": "stream",
     "text": [
      "Acc: 99.451%: 100%|██████████| 704/704 [01:57<00:00,  6.01it/s]\n",
      "  0%|          | 0/704 [00:00<?, ?it/s]"
     ]
    },
    {
     "name": "stdout",
     "output_type": "stream",
     "text": [
      "\n",
      "Epoch: 315\n"
     ]
    },
    {
     "name": "stderr",
     "output_type": "stream",
     "text": [
      "Acc: 99.434%: 100%|██████████| 704/704 [01:56<00:00,  6.05it/s]\n",
      "  0%|          | 0/704 [00:00<?, ?it/s]"
     ]
    },
    {
     "name": "stdout",
     "output_type": "stream",
     "text": [
      "\n",
      "Epoch: 316\n"
     ]
    },
    {
     "name": "stderr",
     "output_type": "stream",
     "text": [
      "Acc: 99.486%: 100%|██████████| 704/704 [01:55<00:00,  6.09it/s]\n",
      "  0%|          | 0/704 [00:00<?, ?it/s]"
     ]
    },
    {
     "name": "stdout",
     "output_type": "stream",
     "text": [
      "\n",
      "Epoch: 317\n"
     ]
    },
    {
     "name": "stderr",
     "output_type": "stream",
     "text": [
      "Acc: 99.393%: 100%|██████████| 704/704 [01:56<00:00,  6.05it/s]\n",
      "  0%|          | 0/704 [00:00<?, ?it/s]"
     ]
    },
    {
     "name": "stdout",
     "output_type": "stream",
     "text": [
      "\n",
      "Epoch: 318\n"
     ]
    },
    {
     "name": "stderr",
     "output_type": "stream",
     "text": [
      "Acc: 99.443%: 100%|██████████| 704/704 [01:56<00:00,  6.89it/s]\n",
      "  0%|          | 0/704 [00:00<?, ?it/s]"
     ]
    },
    {
     "name": "stdout",
     "output_type": "stream",
     "text": [
      "\n",
      "Epoch: 319\n"
     ]
    },
    {
     "name": "stderr",
     "output_type": "stream",
     "text": [
      "Acc: 99.460%: 100%|██████████| 704/704 [01:56<00:00,  6.03it/s]\n",
      "  0%|          | 0/704 [00:00<?, ?it/s]"
     ]
    },
    {
     "name": "stdout",
     "output_type": "stream",
     "text": [
      "\n",
      "Epoch: 320\n"
     ]
    },
    {
     "name": "stderr",
     "output_type": "stream",
     "text": [
      "Acc: 99.478%: 100%|██████████| 704/704 [01:56<00:00,  6.02it/s]\n",
      "Acc: 85.241%: 100%|██████████| 900/900 [00:49<00:00, 18.76it/s]\n",
      "  0%|          | 0/704 [00:00<?, ?it/s]"
     ]
    },
    {
     "name": "stdout",
     "output_type": "stream",
     "text": [
      "\n",
      "Epoch: 321\n"
     ]
    },
    {
     "name": "stderr",
     "output_type": "stream",
     "text": [
      "Acc: 99.476%: 100%|██████████| 704/704 [01:57<00:00,  6.00it/s]\n",
      "  0%|          | 0/704 [00:00<?, ?it/s]"
     ]
    },
    {
     "name": "stdout",
     "output_type": "stream",
     "text": [
      "\n",
      "Epoch: 322\n"
     ]
    },
    {
     "name": "stderr",
     "output_type": "stream",
     "text": [
      "Acc: 99.520%: 100%|██████████| 704/704 [01:55<00:00,  6.08it/s]\n",
      "  0%|          | 0/704 [00:00<?, ?it/s]"
     ]
    },
    {
     "name": "stdout",
     "output_type": "stream",
     "text": [
      "\n",
      "Epoch: 323\n"
     ]
    },
    {
     "name": "stderr",
     "output_type": "stream",
     "text": [
      "Acc: 99.544%: 100%|██████████| 704/704 [01:56<00:00,  6.04it/s]\n",
      "  0%|          | 0/704 [00:00<?, ?it/s]"
     ]
    },
    {
     "name": "stdout",
     "output_type": "stream",
     "text": [
      "\n",
      "Epoch: 324\n"
     ]
    },
    {
     "name": "stderr",
     "output_type": "stream",
     "text": [
      "Acc: 99.488%: 100%|██████████| 704/704 [01:56<00:00,  6.05it/s]\n",
      "  0%|          | 0/704 [00:00<?, ?it/s]"
     ]
    },
    {
     "name": "stdout",
     "output_type": "stream",
     "text": [
      "\n",
      "Epoch: 325\n"
     ]
    },
    {
     "name": "stderr",
     "output_type": "stream",
     "text": [
      "Acc: 99.547%: 100%|██████████| 704/704 [01:56<00:00,  6.05it/s]\n",
      "  0%|          | 0/704 [00:00<?, ?it/s]"
     ]
    },
    {
     "name": "stdout",
     "output_type": "stream",
     "text": [
      "\n",
      "Epoch: 326\n"
     ]
    },
    {
     "name": "stderr",
     "output_type": "stream",
     "text": [
      "Acc: 99.480%: 100%|██████████| 704/704 [01:57<00:00,  5.99it/s]\n",
      "  0%|          | 0/704 [00:00<?, ?it/s]"
     ]
    },
    {
     "name": "stdout",
     "output_type": "stream",
     "text": [
      "\n",
      "Epoch: 327\n"
     ]
    },
    {
     "name": "stderr",
     "output_type": "stream",
     "text": [
      "Acc: 99.481%: 100%|██████████| 704/704 [01:57<00:00,  6.00it/s]\n",
      "  0%|          | 0/704 [00:00<?, ?it/s]"
     ]
    },
    {
     "name": "stdout",
     "output_type": "stream",
     "text": [
      "\n",
      "Epoch: 328\n"
     ]
    },
    {
     "name": "stderr",
     "output_type": "stream",
     "text": [
      "Acc: 99.511%: 100%|██████████| 704/704 [01:56<00:00,  6.05it/s]\n",
      "  0%|          | 0/704 [00:00<?, ?it/s]"
     ]
    },
    {
     "name": "stdout",
     "output_type": "stream",
     "text": [
      "\n",
      "Epoch: 329\n"
     ]
    },
    {
     "name": "stderr",
     "output_type": "stream",
     "text": [
      "Acc: 99.523%: 100%|██████████| 704/704 [01:55<00:00,  6.08it/s]\n",
      "  0%|          | 0/704 [00:00<?, ?it/s]"
     ]
    },
    {
     "name": "stdout",
     "output_type": "stream",
     "text": [
      "\n",
      "Epoch: 330\n"
     ]
    },
    {
     "name": "stderr",
     "output_type": "stream",
     "text": [
      "Acc: 99.419%: 100%|██████████| 704/704 [01:56<00:00,  6.04it/s]\n",
      "Acc: 85.373%: 100%|██████████| 900/900 [00:48<00:00, 18.58it/s]\n",
      "  0%|          | 0/704 [00:00<?, ?it/s]"
     ]
    },
    {
     "name": "stdout",
     "output_type": "stream",
     "text": [
      "\n",
      "Epoch: 331\n"
     ]
    },
    {
     "name": "stderr",
     "output_type": "stream",
     "text": [
      "Acc: 99.456%: 100%|██████████| 704/704 [01:57<00:00,  5.98it/s]\n",
      "  0%|          | 0/704 [00:00<?, ?it/s]"
     ]
    },
    {
     "name": "stdout",
     "output_type": "stream",
     "text": [
      "\n",
      "Epoch: 332\n"
     ]
    },
    {
     "name": "stderr",
     "output_type": "stream",
     "text": [
      "Acc: 99.547%: 100%|██████████| 704/704 [01:57<00:00,  6.04it/s]\n",
      "  0%|          | 0/704 [00:00<?, ?it/s]"
     ]
    },
    {
     "name": "stdout",
     "output_type": "stream",
     "text": [
      "\n",
      "Epoch: 333\n"
     ]
    },
    {
     "name": "stderr",
     "output_type": "stream",
     "text": [
      "Acc: 99.556%: 100%|██████████| 704/704 [01:56<00:00,  6.62it/s]\n",
      "  0%|          | 0/704 [00:00<?, ?it/s]"
     ]
    },
    {
     "name": "stdout",
     "output_type": "stream",
     "text": [
      "\n",
      "Epoch: 334\n"
     ]
    },
    {
     "name": "stderr",
     "output_type": "stream",
     "text": [
      "Acc: 99.547%: 100%|██████████| 704/704 [01:56<00:00,  5.94it/s]\n",
      "  0%|          | 0/704 [00:00<?, ?it/s]"
     ]
    },
    {
     "name": "stdout",
     "output_type": "stream",
     "text": [
      "\n",
      "Epoch: 335\n"
     ]
    },
    {
     "name": "stderr",
     "output_type": "stream",
     "text": [
      "Acc: 99.534%: 100%|██████████| 704/704 [01:56<00:00,  6.36it/s]\n",
      "  0%|          | 0/704 [00:00<?, ?it/s]"
     ]
    },
    {
     "name": "stdout",
     "output_type": "stream",
     "text": [
      "\n",
      "Epoch: 336\n"
     ]
    },
    {
     "name": "stderr",
     "output_type": "stream",
     "text": [
      "Acc: 99.584%: 100%|██████████| 704/704 [01:56<00:00,  6.32it/s]\n",
      "  0%|          | 0/704 [00:00<?, ?it/s]"
     ]
    },
    {
     "name": "stdout",
     "output_type": "stream",
     "text": [
      "\n",
      "Epoch: 337\n"
     ]
    },
    {
     "name": "stderr",
     "output_type": "stream",
     "text": [
      "Acc: 99.593%: 100%|██████████| 704/704 [01:56<00:00,  6.15it/s]\n",
      "  0%|          | 0/704 [00:00<?, ?it/s]"
     ]
    },
    {
     "name": "stdout",
     "output_type": "stream",
     "text": [
      "\n",
      "Epoch: 338\n"
     ]
    },
    {
     "name": "stderr",
     "output_type": "stream",
     "text": [
      "Acc: 99.523%: 100%|██████████| 704/704 [01:55<00:00,  6.11it/s]\n",
      "  0%|          | 0/704 [00:00<?, ?it/s]"
     ]
    },
    {
     "name": "stdout",
     "output_type": "stream",
     "text": [
      "\n",
      "Epoch: 339\n"
     ]
    },
    {
     "name": "stderr",
     "output_type": "stream",
     "text": [
      "Acc: 99.580%: 100%|██████████| 704/704 [01:56<00:00,  6.06it/s]\n",
      "  0%|          | 0/704 [00:00<?, ?it/s]"
     ]
    },
    {
     "name": "stdout",
     "output_type": "stream",
     "text": [
      "\n",
      "Epoch: 340\n"
     ]
    },
    {
     "name": "stderr",
     "output_type": "stream",
     "text": [
      "Acc: 99.574%: 100%|██████████| 704/704 [01:56<00:00,  6.17it/s]\n",
      "Acc: 85.307%: 100%|██████████| 900/900 [00:50<00:00, 11.30it/s]\n",
      "  0%|          | 0/704 [00:00<?, ?it/s]"
     ]
    },
    {
     "name": "stdout",
     "output_type": "stream",
     "text": [
      "\n",
      "Epoch: 341\n"
     ]
    },
    {
     "name": "stderr",
     "output_type": "stream",
     "text": [
      "Acc: 99.527%: 100%|██████████| 704/704 [01:58<00:00,  6.21it/s]\n",
      "  0%|          | 0/704 [00:00<?, ?it/s]"
     ]
    },
    {
     "name": "stdout",
     "output_type": "stream",
     "text": [
      "\n",
      "Epoch: 342\n"
     ]
    },
    {
     "name": "stderr",
     "output_type": "stream",
     "text": [
      "Acc: 99.574%: 100%|██████████| 704/704 [01:59<00:00,  5.89it/s]\n",
      "  0%|          | 0/704 [00:00<?, ?it/s]"
     ]
    },
    {
     "name": "stdout",
     "output_type": "stream",
     "text": [
      "\n",
      "Epoch: 343\n"
     ]
    },
    {
     "name": "stderr",
     "output_type": "stream",
     "text": [
      "Acc: 99.532%: 100%|██████████| 704/704 [01:58<00:00,  5.94it/s]\n",
      "  0%|          | 0/704 [00:00<?, ?it/s]"
     ]
    },
    {
     "name": "stdout",
     "output_type": "stream",
     "text": [
      "\n",
      "Epoch: 344\n"
     ]
    },
    {
     "name": "stderr",
     "output_type": "stream",
     "text": [
      "Acc: 99.558%: 100%|██████████| 704/704 [01:59<00:00,  6.61it/s]\n",
      "  0%|          | 0/704 [00:00<?, ?it/s]"
     ]
    },
    {
     "name": "stdout",
     "output_type": "stream",
     "text": [
      "\n",
      "Epoch: 345\n"
     ]
    },
    {
     "name": "stderr",
     "output_type": "stream",
     "text": [
      "Acc: 99.560%: 100%|██████████| 704/704 [01:59<00:00,  5.90it/s]\n",
      "  0%|          | 0/704 [00:00<?, ?it/s]"
     ]
    },
    {
     "name": "stdout",
     "output_type": "stream",
     "text": [
      "\n",
      "Epoch: 346\n"
     ]
    },
    {
     "name": "stderr",
     "output_type": "stream",
     "text": [
      "Acc: 99.546%: 100%|██████████| 704/704 [01:58<00:00,  5.94it/s]\n",
      "  0%|          | 0/704 [00:00<?, ?it/s]"
     ]
    },
    {
     "name": "stdout",
     "output_type": "stream",
     "text": [
      "\n",
      "Epoch: 347\n"
     ]
    },
    {
     "name": "stderr",
     "output_type": "stream",
     "text": [
      "Acc: 99.564%: 100%|██████████| 704/704 [01:59<00:00,  5.88it/s]\n",
      "  0%|          | 0/704 [00:00<?, ?it/s]"
     ]
    },
    {
     "name": "stdout",
     "output_type": "stream",
     "text": [
      "\n",
      "Epoch: 348\n"
     ]
    },
    {
     "name": "stderr",
     "output_type": "stream",
     "text": [
      "Acc: 99.550%: 100%|██████████| 704/704 [01:58<00:00,  5.93it/s]\n",
      "  0%|          | 0/704 [00:00<?, ?it/s]"
     ]
    },
    {
     "name": "stdout",
     "output_type": "stream",
     "text": [
      "\n",
      "Epoch: 349\n"
     ]
    },
    {
     "name": "stderr",
     "output_type": "stream",
     "text": [
      "Acc: 99.580%: 100%|██████████| 704/704 [01:58<00:00,  6.40it/s]\n",
      "  0%|          | 0/704 [00:00<?, ?it/s]"
     ]
    },
    {
     "name": "stdout",
     "output_type": "stream",
     "text": [
      "\n",
      "Epoch: 350\n"
     ]
    },
    {
     "name": "stderr",
     "output_type": "stream",
     "text": [
      "Acc: 99.571%: 100%|██████████| 704/704 [01:58<00:00,  5.92it/s]\n",
      "Acc: 85.356%: 100%|██████████| 900/900 [00:49<00:00, 18.60it/s]\n",
      "  0%|          | 0/704 [00:00<?, ?it/s]"
     ]
    },
    {
     "name": "stdout",
     "output_type": "stream",
     "text": [
      "\n",
      "Epoch: 351\n"
     ]
    },
    {
     "name": "stderr",
     "output_type": "stream",
     "text": [
      "Acc: 99.583%: 100%|██████████| 704/704 [01:58<00:00,  5.92it/s]\n",
      "  0%|          | 0/704 [00:00<?, ?it/s]"
     ]
    },
    {
     "name": "stdout",
     "output_type": "stream",
     "text": [
      "\n",
      "Epoch: 352\n"
     ]
    },
    {
     "name": "stderr",
     "output_type": "stream",
     "text": [
      "Acc: 99.561%: 100%|██████████| 704/704 [01:57<00:00,  5.99it/s]\n",
      "  0%|          | 0/704 [00:00<?, ?it/s]"
     ]
    },
    {
     "name": "stdout",
     "output_type": "stream",
     "text": [
      "\n",
      "Epoch: 353\n"
     ]
    },
    {
     "name": "stderr",
     "output_type": "stream",
     "text": [
      "Acc: 99.557%: 100%|██████████| 704/704 [01:56<00:00,  6.06it/s]\n",
      "  0%|          | 0/704 [00:00<?, ?it/s]"
     ]
    },
    {
     "name": "stdout",
     "output_type": "stream",
     "text": [
      "\n",
      "Epoch: 354\n"
     ]
    },
    {
     "name": "stderr",
     "output_type": "stream",
     "text": [
      "Acc: 99.636%: 100%|██████████| 704/704 [01:56<00:00,  6.05it/s]\n",
      "  0%|          | 0/704 [00:00<?, ?it/s]"
     ]
    },
    {
     "name": "stdout",
     "output_type": "stream",
     "text": [
      "\n",
      "Epoch: 355\n"
     ]
    },
    {
     "name": "stderr",
     "output_type": "stream",
     "text": [
      "Acc: 99.589%: 100%|██████████| 704/704 [01:56<00:00,  6.05it/s]\n",
      "  0%|          | 0/704 [00:00<?, ?it/s]"
     ]
    },
    {
     "name": "stdout",
     "output_type": "stream",
     "text": [
      "\n",
      "Epoch: 356\n"
     ]
    },
    {
     "name": "stderr",
     "output_type": "stream",
     "text": [
      "Acc: 99.580%: 100%|██████████| 704/704 [01:55<00:00,  6.08it/s]\n",
      "  0%|          | 0/704 [00:00<?, ?it/s]"
     ]
    },
    {
     "name": "stdout",
     "output_type": "stream",
     "text": [
      "\n",
      "Epoch: 357\n"
     ]
    },
    {
     "name": "stderr",
     "output_type": "stream",
     "text": [
      "Acc: 99.580%: 100%|██████████| 704/704 [01:56<00:00,  6.07it/s]\n",
      "  0%|          | 0/704 [00:00<?, ?it/s]"
     ]
    },
    {
     "name": "stdout",
     "output_type": "stream",
     "text": [
      "\n",
      "Epoch: 358\n"
     ]
    },
    {
     "name": "stderr",
     "output_type": "stream",
     "text": [
      "Acc: 99.559%: 100%|██████████| 704/704 [01:55<00:00,  6.08it/s]\n",
      "  0%|          | 0/704 [00:00<?, ?it/s]"
     ]
    },
    {
     "name": "stdout",
     "output_type": "stream",
     "text": [
      "\n",
      "Epoch: 359\n"
     ]
    },
    {
     "name": "stderr",
     "output_type": "stream",
     "text": [
      "Acc: 99.600%: 100%|██████████| 704/704 [01:55<00:00,  6.07it/s]\n",
      "  0%|          | 0/704 [00:00<?, ?it/s]"
     ]
    },
    {
     "name": "stdout",
     "output_type": "stream",
     "text": [
      "\n",
      "Epoch: 360\n"
     ]
    },
    {
     "name": "stderr",
     "output_type": "stream",
     "text": [
      "Acc: 99.562%: 100%|██████████| 704/704 [01:56<00:00,  6.04it/s]\n",
      "Acc: 85.216%: 100%|██████████| 900/900 [00:49<00:00, 19.26it/s]\n",
      "  0%|          | 0/704 [00:00<?, ?it/s]"
     ]
    },
    {
     "name": "stdout",
     "output_type": "stream",
     "text": [
      "\n",
      "Epoch: 361\n"
     ]
    },
    {
     "name": "stderr",
     "output_type": "stream",
     "text": [
      "Acc: 99.560%: 100%|██████████| 704/704 [01:55<00:00,  6.07it/s]\n",
      "  0%|          | 0/704 [00:00<?, ?it/s]"
     ]
    },
    {
     "name": "stdout",
     "output_type": "stream",
     "text": [
      "\n",
      "Epoch: 362\n"
     ]
    },
    {
     "name": "stderr",
     "output_type": "stream",
     "text": [
      "Acc: 99.593%: 100%|██████████| 704/704 [01:56<00:00,  6.06it/s]\n",
      "  0%|          | 0/704 [00:00<?, ?it/s]"
     ]
    },
    {
     "name": "stdout",
     "output_type": "stream",
     "text": [
      "\n",
      "Epoch: 363\n"
     ]
    },
    {
     "name": "stderr",
     "output_type": "stream",
     "text": [
      "Acc: 99.583%: 100%|██████████| 704/704 [01:55<00:00,  6.08it/s]\n",
      "  0%|          | 0/704 [00:00<?, ?it/s]"
     ]
    },
    {
     "name": "stdout",
     "output_type": "stream",
     "text": [
      "\n",
      "Epoch: 364\n"
     ]
    },
    {
     "name": "stderr",
     "output_type": "stream",
     "text": [
      "Acc: 99.572%: 100%|██████████| 704/704 [01:55<00:00,  6.11it/s]\n",
      "  0%|          | 0/704 [00:00<?, ?it/s]"
     ]
    },
    {
     "name": "stdout",
     "output_type": "stream",
     "text": [
      "\n",
      "Epoch: 365\n"
     ]
    },
    {
     "name": "stderr",
     "output_type": "stream",
     "text": [
      "Acc: 99.498%: 100%|██████████| 704/704 [01:56<00:00,  6.03it/s]\n",
      "  0%|          | 0/704 [00:00<?, ?it/s]"
     ]
    },
    {
     "name": "stdout",
     "output_type": "stream",
     "text": [
      "\n",
      "Epoch: 366\n"
     ]
    },
    {
     "name": "stderr",
     "output_type": "stream",
     "text": [
      "Acc: 99.583%: 100%|██████████| 704/704 [01:56<00:00,  6.06it/s]\n",
      "  0%|          | 0/704 [00:00<?, ?it/s]"
     ]
    },
    {
     "name": "stdout",
     "output_type": "stream",
     "text": [
      "\n",
      "Epoch: 367\n"
     ]
    },
    {
     "name": "stderr",
     "output_type": "stream",
     "text": [
      "Acc: 99.584%: 100%|██████████| 704/704 [01:55<00:00,  6.09it/s]\n",
      "  0%|          | 0/704 [00:00<?, ?it/s]"
     ]
    },
    {
     "name": "stdout",
     "output_type": "stream",
     "text": [
      "\n",
      "Epoch: 368\n"
     ]
    },
    {
     "name": "stderr",
     "output_type": "stream",
     "text": [
      "Acc: 99.616%: 100%|██████████| 704/704 [01:54<00:00,  6.12it/s]\n",
      "  0%|          | 0/704 [00:00<?, ?it/s]"
     ]
    },
    {
     "name": "stdout",
     "output_type": "stream",
     "text": [
      "\n",
      "Epoch: 369\n"
     ]
    },
    {
     "name": "stderr",
     "output_type": "stream",
     "text": [
      "Acc: 99.622%: 100%|██████████| 704/704 [01:57<00:00,  5.99it/s]\n",
      "  0%|          | 0/704 [00:00<?, ?it/s]"
     ]
    },
    {
     "name": "stdout",
     "output_type": "stream",
     "text": [
      "\n",
      "Epoch: 370\n"
     ]
    },
    {
     "name": "stderr",
     "output_type": "stream",
     "text": [
      "Acc: 99.599%: 100%|██████████| 704/704 [01:58<00:00,  5.96it/s]\n",
      "Acc: 85.443%: 100%|██████████| 900/900 [00:49<00:00, 18.28it/s]\n",
      "  0%|          | 0/704 [00:00<?, ?it/s]"
     ]
    },
    {
     "name": "stdout",
     "output_type": "stream",
     "text": [
      "\n",
      "Epoch: 371\n"
     ]
    },
    {
     "name": "stderr",
     "output_type": "stream",
     "text": [
      "Acc: 99.583%: 100%|██████████| 704/704 [01:59<00:00,  5.88it/s]\n",
      "  0%|          | 0/704 [00:00<?, ?it/s]"
     ]
    },
    {
     "name": "stdout",
     "output_type": "stream",
     "text": [
      "\n",
      "Epoch: 372\n"
     ]
    },
    {
     "name": "stderr",
     "output_type": "stream",
     "text": [
      "Acc: 99.562%: 100%|██████████| 704/704 [01:59<00:00,  6.58it/s]\n",
      "  0%|          | 0/704 [00:00<?, ?it/s]"
     ]
    },
    {
     "name": "stdout",
     "output_type": "stream",
     "text": [
      "\n",
      "Epoch: 373\n"
     ]
    },
    {
     "name": "stderr",
     "output_type": "stream",
     "text": [
      "Acc: 99.564%: 100%|██████████| 704/704 [01:58<00:00,  5.96it/s]\n",
      "  0%|          | 0/704 [00:00<?, ?it/s]"
     ]
    },
    {
     "name": "stdout",
     "output_type": "stream",
     "text": [
      "\n",
      "Epoch: 374\n"
     ]
    },
    {
     "name": "stderr",
     "output_type": "stream",
     "text": [
      "Acc: 99.591%: 100%|██████████| 704/704 [01:58<00:00,  5.93it/s]\n",
      "  0%|          | 0/704 [00:00<?, ?it/s]"
     ]
    },
    {
     "name": "stdout",
     "output_type": "stream",
     "text": [
      "\n",
      "Epoch: 375\n"
     ]
    },
    {
     "name": "stderr",
     "output_type": "stream",
     "text": [
      "Acc: 99.552%: 100%|██████████| 704/704 [01:59<00:00,  5.90it/s]\n",
      "  0%|          | 0/704 [00:00<?, ?it/s]"
     ]
    },
    {
     "name": "stdout",
     "output_type": "stream",
     "text": [
      "\n",
      "Epoch: 376\n"
     ]
    },
    {
     "name": "stderr",
     "output_type": "stream",
     "text": [
      "Acc: 99.554%: 100%|██████████| 704/704 [01:58<00:00,  5.94it/s]\n",
      "  0%|          | 0/704 [00:00<?, ?it/s]"
     ]
    },
    {
     "name": "stdout",
     "output_type": "stream",
     "text": [
      "\n",
      "Epoch: 377\n"
     ]
    },
    {
     "name": "stderr",
     "output_type": "stream",
     "text": [
      "Acc: 99.513%: 100%|██████████| 704/704 [01:58<00:00,  5.43it/s]\n",
      "  0%|          | 0/704 [00:00<?, ?it/s]"
     ]
    },
    {
     "name": "stdout",
     "output_type": "stream",
     "text": [
      "\n",
      "Epoch: 378\n"
     ]
    },
    {
     "name": "stderr",
     "output_type": "stream",
     "text": [
      "Acc: 99.521%: 100%|██████████| 704/704 [01:57<00:00,  6.02it/s]\n",
      "  0%|          | 0/704 [00:00<?, ?it/s]"
     ]
    },
    {
     "name": "stdout",
     "output_type": "stream",
     "text": [
      "\n",
      "Epoch: 379\n"
     ]
    },
    {
     "name": "stderr",
     "output_type": "stream",
     "text": [
      "Acc: 99.577%: 100%|██████████| 704/704 [01:56<00:00,  6.06it/s]\n",
      "  0%|          | 0/704 [00:00<?, ?it/s]"
     ]
    },
    {
     "name": "stdout",
     "output_type": "stream",
     "text": [
      "\n",
      "Epoch: 380\n"
     ]
    },
    {
     "name": "stderr",
     "output_type": "stream",
     "text": [
      "Acc: 99.566%: 100%|██████████| 704/704 [01:55<00:00,  6.11it/s]\n",
      "Acc: 85.328%: 100%|██████████| 900/900 [00:48<00:00, 18.52it/s]\n",
      "  0%|          | 0/704 [00:00<?, ?it/s]"
     ]
    },
    {
     "name": "stdout",
     "output_type": "stream",
     "text": [
      "\n",
      "Epoch: 381\n"
     ]
    },
    {
     "name": "stderr",
     "output_type": "stream",
     "text": [
      "Acc: 99.569%: 100%|██████████| 704/704 [01:57<00:00,  5.98it/s]\n",
      "  0%|          | 0/704 [00:00<?, ?it/s]"
     ]
    },
    {
     "name": "stdout",
     "output_type": "stream",
     "text": [
      "\n",
      "Epoch: 382\n"
     ]
    },
    {
     "name": "stderr",
     "output_type": "stream",
     "text": [
      "Acc: 99.606%: 100%|██████████| 704/704 [01:58<00:00,  6.57it/s]\n",
      "  0%|          | 0/704 [00:00<?, ?it/s]"
     ]
    },
    {
     "name": "stdout",
     "output_type": "stream",
     "text": [
      "\n",
      "Epoch: 383\n"
     ]
    },
    {
     "name": "stderr",
     "output_type": "stream",
     "text": [
      "Acc: 99.619%: 100%|██████████| 704/704 [01:59<00:00,  5.90it/s]\n",
      "  0%|          | 0/704 [00:00<?, ?it/s]"
     ]
    },
    {
     "name": "stdout",
     "output_type": "stream",
     "text": [
      "\n",
      "Epoch: 384\n"
     ]
    },
    {
     "name": "stderr",
     "output_type": "stream",
     "text": [
      "Acc: 99.551%: 100%|██████████| 704/704 [01:59<00:00,  5.91it/s]\n",
      "  0%|          | 0/704 [00:00<?, ?it/s]"
     ]
    },
    {
     "name": "stdout",
     "output_type": "stream",
     "text": [
      "\n",
      "Epoch: 385\n"
     ]
    },
    {
     "name": "stderr",
     "output_type": "stream",
     "text": [
      "Acc: 99.633%: 100%|██████████| 704/704 [01:58<00:00,  5.93it/s]\n",
      "  0%|          | 0/704 [00:00<?, ?it/s]"
     ]
    },
    {
     "name": "stdout",
     "output_type": "stream",
     "text": [
      "\n",
      "Epoch: 386\n"
     ]
    },
    {
     "name": "stderr",
     "output_type": "stream",
     "text": [
      "Acc: 99.582%: 100%|██████████| 704/704 [01:58<00:00,  5.96it/s]\n",
      "  0%|          | 0/704 [00:00<?, ?it/s]"
     ]
    },
    {
     "name": "stdout",
     "output_type": "stream",
     "text": [
      "\n",
      "Epoch: 387\n"
     ]
    },
    {
     "name": "stderr",
     "output_type": "stream",
     "text": [
      "Acc: 99.530%: 100%|██████████| 704/704 [01:58<00:00,  5.96it/s]\n",
      "  0%|          | 0/704 [00:00<?, ?it/s]"
     ]
    },
    {
     "name": "stdout",
     "output_type": "stream",
     "text": [
      "\n",
      "Epoch: 388\n"
     ]
    },
    {
     "name": "stderr",
     "output_type": "stream",
     "text": [
      "Acc: 99.487%: 100%|██████████| 704/704 [01:58<00:00,  5.92it/s]\n",
      "  0%|          | 0/704 [00:00<?, ?it/s]"
     ]
    },
    {
     "name": "stdout",
     "output_type": "stream",
     "text": [
      "\n",
      "Epoch: 389\n"
     ]
    },
    {
     "name": "stderr",
     "output_type": "stream",
     "text": [
      "Acc: 99.553%: 100%|██████████| 704/704 [01:57<00:00,  6.01it/s]\n",
      "  0%|          | 0/704 [00:00<?, ?it/s]"
     ]
    },
    {
     "name": "stdout",
     "output_type": "stream",
     "text": [
      "\n",
      "Epoch: 390\n"
     ]
    },
    {
     "name": "stderr",
     "output_type": "stream",
     "text": [
      "Acc: 99.550%: 100%|██████████| 704/704 [02:00<00:00,  5.86it/s]\n",
      "Acc: 85.119%: 100%|██████████| 900/900 [00:49<00:00, 17.78it/s]\n",
      "  0%|          | 0/704 [00:00<?, ?it/s]"
     ]
    },
    {
     "name": "stdout",
     "output_type": "stream",
     "text": [
      "\n",
      "Epoch: 391\n"
     ]
    },
    {
     "name": "stderr",
     "output_type": "stream",
     "text": [
      "Acc: 99.590%: 100%|██████████| 704/704 [01:58<00:00,  5.92it/s]\n",
      "  0%|          | 0/704 [00:00<?, ?it/s]"
     ]
    },
    {
     "name": "stdout",
     "output_type": "stream",
     "text": [
      "\n",
      "Epoch: 392\n"
     ]
    },
    {
     "name": "stderr",
     "output_type": "stream",
     "text": [
      "Acc: 99.630%: 100%|██████████| 704/704 [01:58<00:00,  5.96it/s]\n",
      "  0%|          | 0/704 [00:00<?, ?it/s]"
     ]
    },
    {
     "name": "stdout",
     "output_type": "stream",
     "text": [
      "\n",
      "Epoch: 393\n"
     ]
    },
    {
     "name": "stderr",
     "output_type": "stream",
     "text": [
      "Acc: 99.573%: 100%|██████████| 704/704 [01:59<00:00,  5.90it/s]\n",
      "  0%|          | 0/704 [00:00<?, ?it/s]"
     ]
    },
    {
     "name": "stdout",
     "output_type": "stream",
     "text": [
      "\n",
      "Epoch: 394\n"
     ]
    },
    {
     "name": "stderr",
     "output_type": "stream",
     "text": [
      "Acc: 99.571%: 100%|██████████| 704/704 [01:58<00:00,  5.93it/s]\n",
      "  0%|          | 0/704 [00:00<?, ?it/s]"
     ]
    },
    {
     "name": "stdout",
     "output_type": "stream",
     "text": [
      "\n",
      "Epoch: 395\n"
     ]
    },
    {
     "name": "stderr",
     "output_type": "stream",
     "text": [
      "Acc: 99.603%: 100%|██████████| 704/704 [01:58<00:00,  5.93it/s]\n",
      "  0%|          | 0/704 [00:00<?, ?it/s]"
     ]
    },
    {
     "name": "stdout",
     "output_type": "stream",
     "text": [
      "\n",
      "Epoch: 396\n"
     ]
    },
    {
     "name": "stderr",
     "output_type": "stream",
     "text": [
      "Acc: 99.543%: 100%|██████████| 704/704 [01:59<00:00,  6.91it/s]\n",
      "  0%|          | 0/704 [00:00<?, ?it/s]"
     ]
    },
    {
     "name": "stdout",
     "output_type": "stream",
     "text": [
      "\n",
      "Epoch: 397\n"
     ]
    },
    {
     "name": "stderr",
     "output_type": "stream",
     "text": [
      "Acc: 99.530%: 100%|██████████| 704/704 [02:00<00:00,  6.49it/s]\n",
      "  0%|          | 0/704 [00:00<?, ?it/s]"
     ]
    },
    {
     "name": "stdout",
     "output_type": "stream",
     "text": [
      "\n",
      "Epoch: 398\n"
     ]
    },
    {
     "name": "stderr",
     "output_type": "stream",
     "text": [
      "Acc: 99.443%: 100%|██████████| 704/704 [01:58<00:00,  5.96it/s]\n",
      "  0%|          | 0/704 [00:00<?, ?it/s]"
     ]
    },
    {
     "name": "stdout",
     "output_type": "stream",
     "text": [
      "\n",
      "Epoch: 399\n"
     ]
    },
    {
     "name": "stderr",
     "output_type": "stream",
     "text": [
      "Acc: 99.510%: 100%|██████████| 704/704 [01:59<00:00,  5.91it/s]\n",
      "  0%|          | 0/704 [00:00<?, ?it/s]"
     ]
    },
    {
     "name": "stdout",
     "output_type": "stream",
     "text": [
      "\n",
      "Epoch: 400\n"
     ]
    },
    {
     "name": "stderr",
     "output_type": "stream",
     "text": [
      "Acc: 99.610%: 100%|██████████| 704/704 [01:58<00:00,  5.93it/s]\n",
      "Acc: 85.454%: 100%|██████████| 900/900 [00:49<00:00, 18.89it/s]\n",
      "  0%|          | 0/704 [00:00<?, ?it/s]"
     ]
    },
    {
     "name": "stdout",
     "output_type": "stream",
     "text": [
      "\n",
      "Epoch: 401\n"
     ]
    },
    {
     "name": "stderr",
     "output_type": "stream",
     "text": [
      "Acc: 99.729%: 100%|██████████| 704/704 [01:58<00:00,  5.93it/s]\n",
      "  0%|          | 0/704 [00:00<?, ?it/s]"
     ]
    },
    {
     "name": "stdout",
     "output_type": "stream",
     "text": [
      "\n",
      "Epoch: 402\n"
     ]
    },
    {
     "name": "stderr",
     "output_type": "stream",
     "text": [
      "Acc: 99.714%: 100%|██████████| 704/704 [01:59<00:00,  6.59it/s]\n",
      "  0%|          | 0/704 [00:00<?, ?it/s]"
     ]
    },
    {
     "name": "stdout",
     "output_type": "stream",
     "text": [
      "\n",
      "Epoch: 403\n"
     ]
    },
    {
     "name": "stderr",
     "output_type": "stream",
     "text": [
      "Acc: 99.757%: 100%|██████████| 704/704 [01:59<00:00,  5.87it/s]\n",
      "  0%|          | 0/704 [00:00<?, ?it/s]"
     ]
    },
    {
     "name": "stdout",
     "output_type": "stream",
     "text": [
      "\n",
      "Epoch: 404\n"
     ]
    },
    {
     "name": "stderr",
     "output_type": "stream",
     "text": [
      "Acc: 99.732%: 100%|██████████| 704/704 [01:58<00:00,  5.93it/s]\n",
      "  0%|          | 0/704 [00:00<?, ?it/s]"
     ]
    },
    {
     "name": "stdout",
     "output_type": "stream",
     "text": [
      "\n",
      "Epoch: 405\n"
     ]
    },
    {
     "name": "stderr",
     "output_type": "stream",
     "text": [
      "Acc: 99.798%: 100%|██████████| 704/704 [01:58<00:00,  5.96it/s]\n",
      "  0%|          | 0/704 [00:00<?, ?it/s]"
     ]
    },
    {
     "name": "stdout",
     "output_type": "stream",
     "text": [
      "\n",
      "Epoch: 406\n"
     ]
    },
    {
     "name": "stderr",
     "output_type": "stream",
     "text": [
      "Acc: 99.743%: 100%|██████████| 704/704 [01:58<00:00,  5.96it/s]\n",
      "  0%|          | 0/704 [00:00<?, ?it/s]"
     ]
    },
    {
     "name": "stdout",
     "output_type": "stream",
     "text": [
      "\n",
      "Epoch: 407\n"
     ]
    },
    {
     "name": "stderr",
     "output_type": "stream",
     "text": [
      "Acc: 99.807%: 100%|██████████| 704/704 [01:58<00:00,  5.92it/s]\n",
      "  0%|          | 0/704 [00:00<?, ?it/s]"
     ]
    },
    {
     "name": "stdout",
     "output_type": "stream",
     "text": [
      "\n",
      "Epoch: 408\n"
     ]
    },
    {
     "name": "stderr",
     "output_type": "stream",
     "text": [
      "Acc: 99.776%: 100%|██████████| 704/704 [01:58<00:00,  5.96it/s]\n",
      "  0%|          | 0/704 [00:00<?, ?it/s]"
     ]
    },
    {
     "name": "stdout",
     "output_type": "stream",
     "text": [
      "\n",
      "Epoch: 409\n"
     ]
    },
    {
     "name": "stderr",
     "output_type": "stream",
     "text": [
      "Acc: 99.783%: 100%|██████████| 704/704 [01:57<00:00,  6.19it/s]\n",
      "  0%|          | 0/704 [00:00<?, ?it/s]"
     ]
    },
    {
     "name": "stdout",
     "output_type": "stream",
     "text": [
      "\n",
      "Epoch: 410\n"
     ]
    },
    {
     "name": "stderr",
     "output_type": "stream",
     "text": [
      "Acc: 99.779%: 100%|██████████| 704/704 [01:59<00:00,  5.92it/s]\n",
      "Acc: 85.692%: 100%|██████████| 900/900 [00:50<00:00, 17.84it/s]\n",
      "  0%|          | 0/704 [00:00<?, ?it/s]"
     ]
    },
    {
     "name": "stdout",
     "output_type": "stream",
     "text": [
      "Saving..\n",
      "\n",
      "Epoch: 411\n"
     ]
    },
    {
     "name": "stderr",
     "output_type": "stream",
     "text": [
      "Acc: 99.798%: 100%|██████████| 704/704 [01:58<00:00,  5.95it/s]\n",
      "  0%|          | 0/704 [00:00<?, ?it/s]"
     ]
    },
    {
     "name": "stdout",
     "output_type": "stream",
     "text": [
      "\n",
      "Epoch: 412\n"
     ]
    },
    {
     "name": "stderr",
     "output_type": "stream",
     "text": [
      "Acc: 99.809%: 100%|██████████| 704/704 [01:58<00:00,  5.93it/s]\n",
      "  0%|          | 0/704 [00:00<?, ?it/s]"
     ]
    },
    {
     "name": "stdout",
     "output_type": "stream",
     "text": [
      "\n",
      "Epoch: 413\n"
     ]
    },
    {
     "name": "stderr",
     "output_type": "stream",
     "text": [
      "Acc: 99.790%: 100%|██████████| 704/704 [01:58<00:00,  5.95it/s]\n",
      "  0%|          | 0/704 [00:00<?, ?it/s]"
     ]
    },
    {
     "name": "stdout",
     "output_type": "stream",
     "text": [
      "\n",
      "Epoch: 414\n"
     ]
    },
    {
     "name": "stderr",
     "output_type": "stream",
     "text": [
      "Acc: 99.813%: 100%|██████████| 704/704 [01:58<00:00,  6.44it/s]\n",
      "  0%|          | 0/704 [00:00<?, ?it/s]"
     ]
    },
    {
     "name": "stdout",
     "output_type": "stream",
     "text": [
      "\n",
      "Epoch: 415\n"
     ]
    },
    {
     "name": "stderr",
     "output_type": "stream",
     "text": [
      "Acc: 99.803%: 100%|██████████| 704/704 [01:58<00:00,  5.93it/s]\n",
      "  0%|          | 0/704 [00:00<?, ?it/s]"
     ]
    },
    {
     "name": "stdout",
     "output_type": "stream",
     "text": [
      "\n",
      "Epoch: 416\n"
     ]
    },
    {
     "name": "stderr",
     "output_type": "stream",
     "text": [
      "Acc: 99.827%: 100%|██████████| 704/704 [01:58<00:00,  5.95it/s]\n",
      "  0%|          | 0/704 [00:00<?, ?it/s]"
     ]
    },
    {
     "name": "stdout",
     "output_type": "stream",
     "text": [
      "\n",
      "Epoch: 417\n"
     ]
    },
    {
     "name": "stderr",
     "output_type": "stream",
     "text": [
      "Acc: 99.803%: 100%|██████████| 704/704 [01:57<00:00,  6.01it/s]\n",
      "  0%|          | 0/704 [00:00<?, ?it/s]"
     ]
    },
    {
     "name": "stdout",
     "output_type": "stream",
     "text": [
      "\n",
      "Epoch: 418\n"
     ]
    },
    {
     "name": "stderr",
     "output_type": "stream",
     "text": [
      "Acc: 99.843%: 100%|██████████| 704/704 [01:56<00:00,  6.40it/s]\n",
      "  0%|          | 0/704 [00:00<?, ?it/s]"
     ]
    },
    {
     "name": "stdout",
     "output_type": "stream",
     "text": [
      "\n",
      "Epoch: 419\n"
     ]
    },
    {
     "name": "stderr",
     "output_type": "stream",
     "text": [
      "Acc: 99.799%: 100%|██████████| 704/704 [01:56<00:00,  6.07it/s]\n",
      "  0%|          | 0/704 [00:00<?, ?it/s]"
     ]
    },
    {
     "name": "stdout",
     "output_type": "stream",
     "text": [
      "\n",
      "Epoch: 420\n"
     ]
    },
    {
     "name": "stderr",
     "output_type": "stream",
     "text": [
      "Acc: 99.819%: 100%|██████████| 704/704 [01:54<00:00,  6.12it/s]\n",
      "Acc: 85.642%: 100%|██████████| 900/900 [00:48<00:00, 17.74it/s]\n",
      "  0%|          | 0/704 [00:00<?, ?it/s]"
     ]
    },
    {
     "name": "stdout",
     "output_type": "stream",
     "text": [
      "\n",
      "Epoch: 421\n"
     ]
    },
    {
     "name": "stderr",
     "output_type": "stream",
     "text": [
      "Acc: 99.808%: 100%|██████████| 704/704 [01:59<00:00,  5.89it/s]\n",
      "  0%|          | 0/704 [00:00<?, ?it/s]"
     ]
    },
    {
     "name": "stdout",
     "output_type": "stream",
     "text": [
      "\n",
      "Epoch: 422\n"
     ]
    },
    {
     "name": "stderr",
     "output_type": "stream",
     "text": [
      "Acc: 99.824%: 100%|██████████| 704/704 [01:58<00:00,  5.95it/s]\n",
      "  0%|          | 0/704 [00:00<?, ?it/s]"
     ]
    },
    {
     "name": "stdout",
     "output_type": "stream",
     "text": [
      "\n",
      "Epoch: 423\n"
     ]
    },
    {
     "name": "stderr",
     "output_type": "stream",
     "text": [
      "Acc: 99.824%: 100%|██████████| 704/704 [01:58<00:00,  5.95it/s]\n",
      "  0%|          | 0/704 [00:00<?, ?it/s]"
     ]
    },
    {
     "name": "stdout",
     "output_type": "stream",
     "text": [
      "\n",
      "Epoch: 424\n"
     ]
    },
    {
     "name": "stderr",
     "output_type": "stream",
     "text": [
      "Acc: 99.831%: 100%|██████████| 704/704 [01:58<00:00,  5.94it/s]\n",
      "  0%|          | 0/704 [00:00<?, ?it/s]"
     ]
    },
    {
     "name": "stdout",
     "output_type": "stream",
     "text": [
      "\n",
      "Epoch: 425\n"
     ]
    },
    {
     "name": "stderr",
     "output_type": "stream",
     "text": [
      "Acc: 99.822%: 100%|██████████| 704/704 [01:59<00:00,  5.89it/s]\n",
      "  0%|          | 0/704 [00:00<?, ?it/s]"
     ]
    },
    {
     "name": "stdout",
     "output_type": "stream",
     "text": [
      "\n",
      "Epoch: 426\n"
     ]
    },
    {
     "name": "stderr",
     "output_type": "stream",
     "text": [
      "Acc: 99.817%: 100%|██████████| 704/704 [01:58<00:00,  5.93it/s]\n",
      "  0%|          | 0/704 [00:00<?, ?it/s]"
     ]
    },
    {
     "name": "stdout",
     "output_type": "stream",
     "text": [
      "\n",
      "Epoch: 427\n"
     ]
    },
    {
     "name": "stderr",
     "output_type": "stream",
     "text": [
      "Acc: 99.846%: 100%|██████████| 704/704 [01:58<00:00,  6.25it/s]\n",
      "  0%|          | 0/704 [00:00<?, ?it/s]"
     ]
    },
    {
     "name": "stdout",
     "output_type": "stream",
     "text": [
      "\n",
      "Epoch: 428\n"
     ]
    },
    {
     "name": "stderr",
     "output_type": "stream",
     "text": [
      "Acc: 99.828%: 100%|██████████| 704/704 [01:57<00:00,  5.97it/s]\n",
      "  0%|          | 0/704 [00:00<?, ?it/s]"
     ]
    },
    {
     "name": "stdout",
     "output_type": "stream",
     "text": [
      "\n",
      "Epoch: 429\n"
     ]
    },
    {
     "name": "stderr",
     "output_type": "stream",
     "text": [
      "Acc: 99.853%: 100%|██████████| 704/704 [01:58<00:00,  5.96it/s]\n",
      "  0%|          | 0/704 [00:00<?, ?it/s]"
     ]
    },
    {
     "name": "stdout",
     "output_type": "stream",
     "text": [
      "\n",
      "Epoch: 430\n"
     ]
    },
    {
     "name": "stderr",
     "output_type": "stream",
     "text": [
      "Acc: 99.813%: 100%|██████████| 704/704 [01:57<00:00,  5.99it/s]\n",
      "Acc: 85.822%: 100%|██████████| 900/900 [00:48<00:00, 18.53it/s]\n",
      "  0%|          | 0/704 [00:00<?, ?it/s]"
     ]
    },
    {
     "name": "stdout",
     "output_type": "stream",
     "text": [
      "Saving..\n",
      "\n",
      "Epoch: 431\n"
     ]
    },
    {
     "name": "stderr",
     "output_type": "stream",
     "text": [
      "Acc: 99.830%: 100%|██████████| 704/704 [01:56<00:00,  6.49it/s]\n",
      "  0%|          | 0/704 [00:00<?, ?it/s]"
     ]
    },
    {
     "name": "stdout",
     "output_type": "stream",
     "text": [
      "\n",
      "Epoch: 432\n"
     ]
    },
    {
     "name": "stderr",
     "output_type": "stream",
     "text": [
      "Acc: 99.821%: 100%|██████████| 704/704 [01:55<00:00,  6.08it/s]\n",
      "  0%|          | 0/704 [00:00<?, ?it/s]"
     ]
    },
    {
     "name": "stdout",
     "output_type": "stream",
     "text": [
      "\n",
      "Epoch: 433\n"
     ]
    },
    {
     "name": "stderr",
     "output_type": "stream",
     "text": [
      "Acc: 99.844%: 100%|██████████| 704/704 [01:55<00:00,  6.08it/s]\n",
      "  0%|          | 0/704 [00:00<?, ?it/s]"
     ]
    },
    {
     "name": "stdout",
     "output_type": "stream",
     "text": [
      "\n",
      "Epoch: 434\n"
     ]
    },
    {
     "name": "stderr",
     "output_type": "stream",
     "text": [
      "Acc: 99.841%: 100%|██████████| 704/704 [01:57<00:00,  6.59it/s]\n",
      "  0%|          | 0/704 [00:00<?, ?it/s]"
     ]
    },
    {
     "name": "stdout",
     "output_type": "stream",
     "text": [
      "\n",
      "Epoch: 435\n"
     ]
    },
    {
     "name": "stderr",
     "output_type": "stream",
     "text": [
      "Acc: 99.829%: 100%|██████████| 704/704 [01:58<00:00,  5.93it/s]\n",
      "  0%|          | 0/704 [00:00<?, ?it/s]"
     ]
    },
    {
     "name": "stdout",
     "output_type": "stream",
     "text": [
      "\n",
      "Epoch: 436\n"
     ]
    },
    {
     "name": "stderr",
     "output_type": "stream",
     "text": [
      "Acc: 99.837%: 100%|██████████| 704/704 [01:57<00:00,  6.84it/s]\n",
      "  0%|          | 0/704 [00:00<?, ?it/s]"
     ]
    },
    {
     "name": "stdout",
     "output_type": "stream",
     "text": [
      "\n",
      "Epoch: 437\n"
     ]
    },
    {
     "name": "stderr",
     "output_type": "stream",
     "text": [
      "Acc: 99.849%: 100%|██████████| 704/704 [01:58<00:00,  5.96it/s]\n",
      "  0%|          | 0/704 [00:00<?, ?it/s]"
     ]
    },
    {
     "name": "stdout",
     "output_type": "stream",
     "text": [
      "\n",
      "Epoch: 438\n"
     ]
    },
    {
     "name": "stderr",
     "output_type": "stream",
     "text": [
      "Acc: 99.843%: 100%|██████████| 704/704 [01:56<00:00,  6.03it/s]\n",
      "  0%|          | 0/704 [00:00<?, ?it/s]"
     ]
    },
    {
     "name": "stdout",
     "output_type": "stream",
     "text": [
      "\n",
      "Epoch: 439\n"
     ]
    },
    {
     "name": "stderr",
     "output_type": "stream",
     "text": [
      "Acc: 99.857%: 100%|██████████| 704/704 [01:55<00:00,  6.07it/s]\n",
      "  0%|          | 0/704 [00:00<?, ?it/s]"
     ]
    },
    {
     "name": "stdout",
     "output_type": "stream",
     "text": [
      "\n",
      "Epoch: 440\n"
     ]
    },
    {
     "name": "stderr",
     "output_type": "stream",
     "text": [
      "Acc: 99.838%: 100%|██████████| 704/704 [01:59<00:00,  5.91it/s]\n",
      "Acc: 85.649%: 100%|██████████| 900/900 [00:50<00:00, 19.29it/s]\n",
      "  0%|          | 0/704 [00:00<?, ?it/s]"
     ]
    },
    {
     "name": "stdout",
     "output_type": "stream",
     "text": [
      "\n",
      "Epoch: 441\n"
     ]
    },
    {
     "name": "stderr",
     "output_type": "stream",
     "text": [
      "Acc: 99.839%: 100%|██████████| 704/704 [01:59<00:00,  5.89it/s]\n",
      "  0%|          | 0/704 [00:00<?, ?it/s]"
     ]
    },
    {
     "name": "stdout",
     "output_type": "stream",
     "text": [
      "\n",
      "Epoch: 442\n"
     ]
    },
    {
     "name": "stderr",
     "output_type": "stream",
     "text": [
      "Acc: 99.838%: 100%|██████████| 704/704 [01:58<00:00,  5.96it/s]\n",
      "  0%|          | 0/704 [00:00<?, ?it/s]"
     ]
    },
    {
     "name": "stdout",
     "output_type": "stream",
     "text": [
      "\n",
      "Epoch: 443\n"
     ]
    },
    {
     "name": "stderr",
     "output_type": "stream",
     "text": [
      "Acc: 99.828%: 100%|██████████| 704/704 [01:57<00:00,  5.99it/s]\n",
      "  0%|          | 0/704 [00:00<?, ?it/s]"
     ]
    },
    {
     "name": "stdout",
     "output_type": "stream",
     "text": [
      "\n",
      "Epoch: 444\n"
     ]
    },
    {
     "name": "stderr",
     "output_type": "stream",
     "text": [
      "Acc: 99.844%: 100%|██████████| 704/704 [01:58<00:00,  5.92it/s]\n",
      "  0%|          | 0/704 [00:00<?, ?it/s]"
     ]
    },
    {
     "name": "stdout",
     "output_type": "stream",
     "text": [
      "\n",
      "Epoch: 445\n"
     ]
    },
    {
     "name": "stderr",
     "output_type": "stream",
     "text": [
      "Acc: 99.861%: 100%|██████████| 704/704 [01:58<00:00,  5.92it/s]\n",
      "  0%|          | 0/704 [00:00<?, ?it/s]"
     ]
    },
    {
     "name": "stdout",
     "output_type": "stream",
     "text": [
      "\n",
      "Epoch: 446\n"
     ]
    },
    {
     "name": "stderr",
     "output_type": "stream",
     "text": [
      "Acc: 99.841%: 100%|██████████| 704/704 [01:59<00:00,  5.91it/s]\n",
      "  0%|          | 0/704 [00:00<?, ?it/s]"
     ]
    },
    {
     "name": "stdout",
     "output_type": "stream",
     "text": [
      "\n",
      "Epoch: 447\n"
     ]
    },
    {
     "name": "stderr",
     "output_type": "stream",
     "text": [
      "Acc: 99.828%: 100%|██████████| 704/704 [01:59<00:00,  5.90it/s]\n",
      "  0%|          | 0/704 [00:00<?, ?it/s]"
     ]
    },
    {
     "name": "stdout",
     "output_type": "stream",
     "text": [
      "\n",
      "Epoch: 448\n"
     ]
    },
    {
     "name": "stderr",
     "output_type": "stream",
     "text": [
      "Acc: 99.861%: 100%|██████████| 704/704 [01:59<00:00,  5.89it/s]\n",
      "  0%|          | 0/704 [00:00<?, ?it/s]"
     ]
    },
    {
     "name": "stdout",
     "output_type": "stream",
     "text": [
      "\n",
      "Epoch: 449\n"
     ]
    },
    {
     "name": "stderr",
     "output_type": "stream",
     "text": [
      "Acc: 99.851%: 100%|██████████| 704/704 [01:58<00:00,  5.92it/s]\n",
      "  0%|          | 0/704 [00:00<?, ?it/s]"
     ]
    },
    {
     "name": "stdout",
     "output_type": "stream",
     "text": [
      "\n",
      "Epoch: 450\n"
     ]
    },
    {
     "name": "stderr",
     "output_type": "stream",
     "text": [
      "Acc: 99.844%: 100%|██████████| 704/704 [01:58<00:00,  5.93it/s]\n",
      "Acc: 85.884%: 100%|██████████| 900/900 [00:48<00:00, 17.49it/s]\n",
      "  0%|          | 0/704 [00:00<?, ?it/s]"
     ]
    },
    {
     "name": "stdout",
     "output_type": "stream",
     "text": [
      "Saving..\n",
      "\n",
      "Epoch: 451\n"
     ]
    },
    {
     "name": "stderr",
     "output_type": "stream",
     "text": [
      "Acc: 99.843%: 100%|██████████| 704/704 [01:59<00:00,  6.83it/s]\n",
      "  0%|          | 0/704 [00:00<?, ?it/s]"
     ]
    },
    {
     "name": "stdout",
     "output_type": "stream",
     "text": [
      "\n",
      "Epoch: 452\n"
     ]
    },
    {
     "name": "stderr",
     "output_type": "stream",
     "text": [
      "Acc: 99.847%: 100%|██████████| 704/704 [01:59<00:00,  5.91it/s]\n",
      "  0%|          | 0/704 [00:00<?, ?it/s]"
     ]
    },
    {
     "name": "stdout",
     "output_type": "stream",
     "text": [
      "\n",
      "Epoch: 453\n"
     ]
    },
    {
     "name": "stderr",
     "output_type": "stream",
     "text": [
      "Acc: 99.869%: 100%|██████████| 704/704 [01:58<00:00,  5.92it/s]\n",
      "  0%|          | 0/704 [00:00<?, ?it/s]"
     ]
    },
    {
     "name": "stdout",
     "output_type": "stream",
     "text": [
      "\n",
      "Epoch: 454\n"
     ]
    },
    {
     "name": "stderr",
     "output_type": "stream",
     "text": [
      "Acc: 99.864%: 100%|██████████| 704/704 [01:59<00:00,  5.91it/s]\n",
      "  0%|          | 0/704 [00:00<?, ?it/s]"
     ]
    },
    {
     "name": "stdout",
     "output_type": "stream",
     "text": [
      "\n",
      "Epoch: 455\n"
     ]
    },
    {
     "name": "stderr",
     "output_type": "stream",
     "text": [
      "Acc: 99.861%: 100%|██████████| 704/704 [01:57<00:00,  5.97it/s]\n",
      "  0%|          | 0/704 [00:00<?, ?it/s]"
     ]
    },
    {
     "name": "stdout",
     "output_type": "stream",
     "text": [
      "\n",
      "Epoch: 456\n"
     ]
    },
    {
     "name": "stderr",
     "output_type": "stream",
     "text": [
      "Acc: 99.839%: 100%|██████████| 704/704 [01:58<00:00,  5.95it/s]\n",
      "  0%|          | 0/704 [00:00<?, ?it/s]"
     ]
    },
    {
     "name": "stdout",
     "output_type": "stream",
     "text": [
      "\n",
      "Epoch: 457\n"
     ]
    },
    {
     "name": "stderr",
     "output_type": "stream",
     "text": [
      "Acc: 99.843%: 100%|██████████| 704/704 [01:57<00:00,  5.98it/s]\n",
      "  0%|          | 0/704 [00:00<?, ?it/s]"
     ]
    },
    {
     "name": "stdout",
     "output_type": "stream",
     "text": [
      "\n",
      "Epoch: 458\n"
     ]
    },
    {
     "name": "stderr",
     "output_type": "stream",
     "text": [
      "Acc: 99.870%: 100%|██████████| 704/704 [01:57<00:00,  5.98it/s]\n",
      "  0%|          | 0/704 [00:00<?, ?it/s]"
     ]
    },
    {
     "name": "stdout",
     "output_type": "stream",
     "text": [
      "\n",
      "Epoch: 459\n"
     ]
    },
    {
     "name": "stderr",
     "output_type": "stream",
     "text": [
      "Acc: 99.866%: 100%|██████████| 704/704 [01:58<00:00,  5.93it/s]\n",
      "  0%|          | 0/704 [00:00<?, ?it/s]"
     ]
    },
    {
     "name": "stdout",
     "output_type": "stream",
     "text": [
      "\n",
      "Epoch: 460\n"
     ]
    },
    {
     "name": "stderr",
     "output_type": "stream",
     "text": [
      "Acc: 99.847%: 100%|██████████| 704/704 [01:58<00:00,  5.92it/s]\n",
      "Acc: 85.644%: 100%|██████████| 900/900 [00:50<00:00, 17.92it/s]\n",
      "  0%|          | 0/704 [00:00<?, ?it/s]"
     ]
    },
    {
     "name": "stdout",
     "output_type": "stream",
     "text": [
      "\n",
      "Epoch: 461\n"
     ]
    },
    {
     "name": "stderr",
     "output_type": "stream",
     "text": [
      "Acc: 99.849%: 100%|██████████| 704/704 [01:59<00:00,  5.90it/s]\n",
      "  0%|          | 0/704 [00:00<?, ?it/s]"
     ]
    },
    {
     "name": "stdout",
     "output_type": "stream",
     "text": [
      "\n",
      "Epoch: 462\n"
     ]
    },
    {
     "name": "stderr",
     "output_type": "stream",
     "text": [
      "Acc: 99.868%: 100%|██████████| 704/704 [01:59<00:00,  5.90it/s]\n",
      "  0%|          | 0/704 [00:00<?, ?it/s]"
     ]
    },
    {
     "name": "stdout",
     "output_type": "stream",
     "text": [
      "\n",
      "Epoch: 463\n"
     ]
    },
    {
     "name": "stderr",
     "output_type": "stream",
     "text": [
      "Acc: 99.849%: 100%|██████████| 704/704 [01:58<00:00,  5.95it/s]\n",
      "  0%|          | 0/704 [00:00<?, ?it/s]"
     ]
    },
    {
     "name": "stdout",
     "output_type": "stream",
     "text": [
      "\n",
      "Epoch: 464\n"
     ]
    },
    {
     "name": "stderr",
     "output_type": "stream",
     "text": [
      "Acc: 99.858%: 100%|██████████| 704/704 [01:57<00:00,  6.02it/s]\n",
      "  0%|          | 0/704 [00:00<?, ?it/s]"
     ]
    },
    {
     "name": "stdout",
     "output_type": "stream",
     "text": [
      "\n",
      "Epoch: 465\n"
     ]
    },
    {
     "name": "stderr",
     "output_type": "stream",
     "text": [
      "Acc: 99.863%: 100%|██████████| 704/704 [01:58<00:00,  5.93it/s]\n",
      "  0%|          | 0/704 [00:00<?, ?it/s]"
     ]
    },
    {
     "name": "stdout",
     "output_type": "stream",
     "text": [
      "\n",
      "Epoch: 466\n"
     ]
    },
    {
     "name": "stderr",
     "output_type": "stream",
     "text": [
      "Acc: 99.857%: 100%|██████████| 704/704 [01:58<00:00,  5.92it/s]\n",
      "  0%|          | 0/704 [00:00<?, ?it/s]"
     ]
    },
    {
     "name": "stdout",
     "output_type": "stream",
     "text": [
      "\n",
      "Epoch: 467\n"
     ]
    },
    {
     "name": "stderr",
     "output_type": "stream",
     "text": [
      "Acc: 99.853%: 100%|██████████| 704/704 [01:59<00:00,  5.90it/s]\n",
      "  0%|          | 0/704 [00:00<?, ?it/s]"
     ]
    },
    {
     "name": "stdout",
     "output_type": "stream",
     "text": [
      "\n",
      "Epoch: 468\n"
     ]
    },
    {
     "name": "stderr",
     "output_type": "stream",
     "text": [
      "Acc: 99.836%: 100%|██████████| 704/704 [01:58<00:00,  5.96it/s]\n",
      "  0%|          | 0/704 [00:00<?, ?it/s]"
     ]
    },
    {
     "name": "stdout",
     "output_type": "stream",
     "text": [
      "\n",
      "Epoch: 469\n"
     ]
    },
    {
     "name": "stderr",
     "output_type": "stream",
     "text": [
      "Acc: 99.869%: 100%|██████████| 704/704 [01:58<00:00,  5.93it/s]\n",
      "  0%|          | 0/704 [00:00<?, ?it/s]"
     ]
    },
    {
     "name": "stdout",
     "output_type": "stream",
     "text": [
      "\n",
      "Epoch: 470\n"
     ]
    },
    {
     "name": "stderr",
     "output_type": "stream",
     "text": [
      "Acc: 99.852%: 100%|██████████| 704/704 [01:57<00:00,  6.92it/s]\n",
      "Acc: 85.853%: 100%|██████████| 900/900 [00:50<00:00, 19.57it/s]\n",
      "  0%|          | 0/704 [00:00<?, ?it/s]"
     ]
    },
    {
     "name": "stdout",
     "output_type": "stream",
     "text": [
      "\n",
      "Epoch: 471\n"
     ]
    },
    {
     "name": "stderr",
     "output_type": "stream",
     "text": [
      "Acc: 99.847%: 100%|██████████| 704/704 [01:57<00:00,  5.99it/s]\n",
      "  0%|          | 0/704 [00:00<?, ?it/s]"
     ]
    },
    {
     "name": "stdout",
     "output_type": "stream",
     "text": [
      "\n",
      "Epoch: 472\n"
     ]
    },
    {
     "name": "stderr",
     "output_type": "stream",
     "text": [
      "Acc: 99.842%: 100%|██████████| 704/704 [01:57<00:00,  5.98it/s]\n",
      "  0%|          | 0/704 [00:00<?, ?it/s]"
     ]
    },
    {
     "name": "stdout",
     "output_type": "stream",
     "text": [
      "\n",
      "Epoch: 473\n"
     ]
    },
    {
     "name": "stderr",
     "output_type": "stream",
     "text": [
      "Acc: 99.880%: 100%|██████████| 704/704 [01:58<00:00,  5.92it/s]\n",
      "  0%|          | 0/704 [00:00<?, ?it/s]"
     ]
    },
    {
     "name": "stdout",
     "output_type": "stream",
     "text": [
      "\n",
      "Epoch: 474\n"
     ]
    },
    {
     "name": "stderr",
     "output_type": "stream",
     "text": [
      "Acc: 99.861%: 100%|██████████| 704/704 [01:59<00:00,  5.90it/s]\n",
      "  0%|          | 0/704 [00:00<?, ?it/s]"
     ]
    },
    {
     "name": "stdout",
     "output_type": "stream",
     "text": [
      "\n",
      "Epoch: 475\n"
     ]
    },
    {
     "name": "stderr",
     "output_type": "stream",
     "text": [
      "Acc: 99.854%: 100%|██████████| 704/704 [01:58<00:00,  5.92it/s]\n",
      "  0%|          | 0/704 [00:00<?, ?it/s]"
     ]
    },
    {
     "name": "stdout",
     "output_type": "stream",
     "text": [
      "\n",
      "Epoch: 476\n"
     ]
    },
    {
     "name": "stderr",
     "output_type": "stream",
     "text": [
      "Acc: 99.866%: 100%|██████████| 704/704 [01:59<00:00,  5.91it/s]\n",
      "  0%|          | 0/704 [00:00<?, ?it/s]"
     ]
    },
    {
     "name": "stdout",
     "output_type": "stream",
     "text": [
      "\n",
      "Epoch: 477\n"
     ]
    },
    {
     "name": "stderr",
     "output_type": "stream",
     "text": [
      "Acc: 99.870%: 100%|██████████| 704/704 [01:58<00:00,  5.92it/s]\n",
      "  0%|          | 0/704 [00:00<?, ?it/s]"
     ]
    },
    {
     "name": "stdout",
     "output_type": "stream",
     "text": [
      "\n",
      "Epoch: 478\n"
     ]
    },
    {
     "name": "stderr",
     "output_type": "stream",
     "text": [
      "Acc: 99.854%: 100%|██████████| 704/704 [01:58<00:00,  5.96it/s]\n",
      "  0%|          | 0/704 [00:00<?, ?it/s]"
     ]
    },
    {
     "name": "stdout",
     "output_type": "stream",
     "text": [
      "\n",
      "Epoch: 479\n"
     ]
    },
    {
     "name": "stderr",
     "output_type": "stream",
     "text": [
      "Acc: 99.883%: 100%|██████████| 704/704 [01:58<00:00,  6.11it/s]\n",
      "  0%|          | 0/704 [00:00<?, ?it/s]"
     ]
    },
    {
     "name": "stdout",
     "output_type": "stream",
     "text": [
      "\n",
      "Epoch: 480\n"
     ]
    },
    {
     "name": "stderr",
     "output_type": "stream",
     "text": [
      "Acc: 99.868%: 100%|██████████| 704/704 [01:58<00:00,  6.20it/s]\n",
      "Acc: 85.932%: 100%|██████████| 900/900 [00:50<00:00, 17.93it/s]\n",
      "  0%|          | 0/704 [00:00<?, ?it/s]"
     ]
    },
    {
     "name": "stdout",
     "output_type": "stream",
     "text": [
      "Saving..\n",
      "\n",
      "Epoch: 481\n"
     ]
    },
    {
     "name": "stderr",
     "output_type": "stream",
     "text": [
      "Acc: 99.862%: 100%|██████████| 704/704 [02:00<00:00,  5.86it/s]\n",
      "  0%|          | 0/704 [00:00<?, ?it/s]"
     ]
    },
    {
     "name": "stdout",
     "output_type": "stream",
     "text": [
      "\n",
      "Epoch: 482\n"
     ]
    },
    {
     "name": "stderr",
     "output_type": "stream",
     "text": [
      "Acc: 99.866%: 100%|██████████| 704/704 [01:58<00:00,  5.92it/s]\n",
      "  0%|          | 0/704 [00:00<?, ?it/s]"
     ]
    },
    {
     "name": "stdout",
     "output_type": "stream",
     "text": [
      "\n",
      "Epoch: 483\n"
     ]
    },
    {
     "name": "stderr",
     "output_type": "stream",
     "text": [
      "Acc: 99.874%: 100%|██████████| 704/704 [01:59<00:00,  5.91it/s]\n",
      "  0%|          | 0/704 [00:00<?, ?it/s]"
     ]
    },
    {
     "name": "stdout",
     "output_type": "stream",
     "text": [
      "\n",
      "Epoch: 484\n"
     ]
    },
    {
     "name": "stderr",
     "output_type": "stream",
     "text": [
      "Acc: 99.864%: 100%|██████████| 704/704 [01:59<00:00,  5.89it/s]\n",
      "  0%|          | 0/704 [00:00<?, ?it/s]"
     ]
    },
    {
     "name": "stdout",
     "output_type": "stream",
     "text": [
      "\n",
      "Epoch: 485\n"
     ]
    },
    {
     "name": "stderr",
     "output_type": "stream",
     "text": [
      "Acc: 99.878%: 100%|██████████| 704/704 [01:58<00:00,  5.92it/s]\n",
      "  0%|          | 0/704 [00:00<?, ?it/s]"
     ]
    },
    {
     "name": "stdout",
     "output_type": "stream",
     "text": [
      "\n",
      "Epoch: 486\n"
     ]
    },
    {
     "name": "stderr",
     "output_type": "stream",
     "text": [
      "Acc: 99.890%: 100%|██████████| 704/704 [01:56<00:00,  6.06it/s]\n",
      "  0%|          | 0/704 [00:00<?, ?it/s]"
     ]
    },
    {
     "name": "stdout",
     "output_type": "stream",
     "text": [
      "\n",
      "Epoch: 487\n"
     ]
    },
    {
     "name": "stderr",
     "output_type": "stream",
     "text": [
      "Acc: 99.861%: 100%|██████████| 704/704 [01:56<00:00,  6.04it/s]\n",
      "  0%|          | 0/704 [00:00<?, ?it/s]"
     ]
    },
    {
     "name": "stdout",
     "output_type": "stream",
     "text": [
      "\n",
      "Epoch: 488\n"
     ]
    },
    {
     "name": "stderr",
     "output_type": "stream",
     "text": [
      "Acc: 99.856%: 100%|██████████| 704/704 [01:56<00:00,  6.92it/s]\n",
      "  0%|          | 0/704 [00:00<?, ?it/s]"
     ]
    },
    {
     "name": "stdout",
     "output_type": "stream",
     "text": [
      "\n",
      "Epoch: 489\n"
     ]
    },
    {
     "name": "stderr",
     "output_type": "stream",
     "text": [
      "Acc: 99.862%: 100%|██████████| 704/704 [01:58<00:00,  5.93it/s]\n",
      "  0%|          | 0/704 [00:00<?, ?it/s]"
     ]
    },
    {
     "name": "stdout",
     "output_type": "stream",
     "text": [
      "\n",
      "Epoch: 490\n"
     ]
    },
    {
     "name": "stderr",
     "output_type": "stream",
     "text": [
      "Acc: 99.873%: 100%|██████████| 704/704 [01:58<00:00,  5.93it/s]\n",
      "Acc: 85.874%: 100%|██████████| 900/900 [00:49<00:00, 14.33it/s]\n",
      "  0%|          | 0/704 [00:00<?, ?it/s]"
     ]
    },
    {
     "name": "stdout",
     "output_type": "stream",
     "text": [
      "\n",
      "Epoch: 491\n"
     ]
    },
    {
     "name": "stderr",
     "output_type": "stream",
     "text": [
      "Acc: 99.858%: 100%|██████████| 704/704 [01:58<00:00,  5.94it/s]\n",
      "  0%|          | 0/704 [00:00<?, ?it/s]"
     ]
    },
    {
     "name": "stdout",
     "output_type": "stream",
     "text": [
      "\n",
      "Epoch: 492\n"
     ]
    },
    {
     "name": "stderr",
     "output_type": "stream",
     "text": [
      "Acc: 99.884%: 100%|██████████| 704/704 [01:57<00:00,  6.00it/s]\n",
      "  0%|          | 0/704 [00:00<?, ?it/s]"
     ]
    },
    {
     "name": "stdout",
     "output_type": "stream",
     "text": [
      "\n",
      "Epoch: 493\n"
     ]
    },
    {
     "name": "stderr",
     "output_type": "stream",
     "text": [
      "Acc: 99.852%: 100%|██████████| 704/704 [01:59<00:00,  5.90it/s]\n",
      "  0%|          | 0/704 [00:00<?, ?it/s]"
     ]
    },
    {
     "name": "stdout",
     "output_type": "stream",
     "text": [
      "\n",
      "Epoch: 494\n"
     ]
    },
    {
     "name": "stderr",
     "output_type": "stream",
     "text": [
      "Acc: 99.860%: 100%|██████████| 704/704 [01:58<00:00,  6.53it/s]\n",
      "  0%|          | 0/704 [00:00<?, ?it/s]"
     ]
    },
    {
     "name": "stdout",
     "output_type": "stream",
     "text": [
      "\n",
      "Epoch: 495\n"
     ]
    },
    {
     "name": "stderr",
     "output_type": "stream",
     "text": [
      "Acc: 99.862%: 100%|██████████| 704/704 [01:59<00:00,  5.83it/s]\n",
      "  0%|          | 0/704 [00:00<?, ?it/s]"
     ]
    },
    {
     "name": "stdout",
     "output_type": "stream",
     "text": [
      "\n",
      "Epoch: 496\n"
     ]
    },
    {
     "name": "stderr",
     "output_type": "stream",
     "text": [
      "Acc: 99.882%: 100%|██████████| 704/704 [01:59<00:00,  5.90it/s]\n",
      "  0%|          | 0/704 [00:00<?, ?it/s]"
     ]
    },
    {
     "name": "stdout",
     "output_type": "stream",
     "text": [
      "\n",
      "Epoch: 497\n"
     ]
    },
    {
     "name": "stderr",
     "output_type": "stream",
     "text": [
      "Acc: 99.879%: 100%|██████████| 704/704 [01:59<00:00,  5.92it/s]\n",
      "  0%|          | 0/704 [00:00<?, ?it/s]"
     ]
    },
    {
     "name": "stdout",
     "output_type": "stream",
     "text": [
      "\n",
      "Epoch: 498\n"
     ]
    },
    {
     "name": "stderr",
     "output_type": "stream",
     "text": [
      "Acc: 99.867%: 100%|██████████| 704/704 [01:59<00:00,  5.92it/s]\n",
      "  0%|          | 0/704 [00:00<?, ?it/s]"
     ]
    },
    {
     "name": "stdout",
     "output_type": "stream",
     "text": [
      "\n",
      "Epoch: 499\n"
     ]
    },
    {
     "name": "stderr",
     "output_type": "stream",
     "text": [
      "Acc: 99.852%: 100%|██████████| 704/704 [01:58<00:00,  5.95it/s]\n",
      "  0%|          | 0/704 [00:00<?, ?it/s]"
     ]
    },
    {
     "name": "stdout",
     "output_type": "stream",
     "text": [
      "\n",
      "Epoch: 500\n"
     ]
    },
    {
     "name": "stderr",
     "output_type": "stream",
     "text": [
      "Acc: 99.872%: 100%|██████████| 704/704 [01:57<00:00,  6.00it/s]\n",
      "Acc: 85.629%: 100%|██████████| 900/900 [00:50<00:00, 17.99it/s]\n",
      "  0%|          | 0/704 [00:00<?, ?it/s]"
     ]
    },
    {
     "name": "stdout",
     "output_type": "stream",
     "text": [
      "\n",
      "Epoch: 501\n"
     ]
    },
    {
     "name": "stderr",
     "output_type": "stream",
     "text": [
      "Acc: 99.867%: 100%|██████████| 704/704 [01:58<00:00,  5.93it/s]\n",
      "  0%|          | 0/704 [00:00<?, ?it/s]"
     ]
    },
    {
     "name": "stdout",
     "output_type": "stream",
     "text": [
      "\n",
      "Epoch: 502\n"
     ]
    },
    {
     "name": "stderr",
     "output_type": "stream",
     "text": [
      "Acc: 99.858%: 100%|██████████| 704/704 [01:58<00:00,  5.95it/s]\n",
      "  0%|          | 0/704 [00:00<?, ?it/s]"
     ]
    },
    {
     "name": "stdout",
     "output_type": "stream",
     "text": [
      "\n",
      "Epoch: 503\n"
     ]
    },
    {
     "name": "stderr",
     "output_type": "stream",
     "text": [
      "Acc: 99.860%: 100%|██████████| 704/704 [01:58<00:00,  5.93it/s]\n",
      "  0%|          | 0/704 [00:00<?, ?it/s]"
     ]
    },
    {
     "name": "stdout",
     "output_type": "stream",
     "text": [
      "\n",
      "Epoch: 504\n"
     ]
    },
    {
     "name": "stderr",
     "output_type": "stream",
     "text": [
      "Acc: 99.872%: 100%|██████████| 704/704 [01:57<00:00,  5.97it/s]\n",
      "  0%|          | 0/704 [00:00<?, ?it/s]"
     ]
    },
    {
     "name": "stdout",
     "output_type": "stream",
     "text": [
      "\n",
      "Epoch: 505\n"
     ]
    },
    {
     "name": "stderr",
     "output_type": "stream",
     "text": [
      "Acc: 99.847%: 100%|██████████| 704/704 [01:58<00:00,  6.20it/s]\n",
      "  0%|          | 0/704 [00:00<?, ?it/s]"
     ]
    },
    {
     "name": "stdout",
     "output_type": "stream",
     "text": [
      "\n",
      "Epoch: 506\n"
     ]
    },
    {
     "name": "stderr",
     "output_type": "stream",
     "text": [
      "Acc: 99.867%: 100%|██████████| 704/704 [01:58<00:00,  5.96it/s]\n",
      "  0%|          | 0/704 [00:00<?, ?it/s]"
     ]
    },
    {
     "name": "stdout",
     "output_type": "stream",
     "text": [
      "\n",
      "Epoch: 507\n"
     ]
    },
    {
     "name": "stderr",
     "output_type": "stream",
     "text": [
      "Acc: 99.896%: 100%|██████████| 704/704 [01:57<00:00,  5.99it/s]\n",
      "  0%|          | 0/704 [00:00<?, ?it/s]"
     ]
    },
    {
     "name": "stdout",
     "output_type": "stream",
     "text": [
      "\n",
      "Epoch: 508\n"
     ]
    },
    {
     "name": "stderr",
     "output_type": "stream",
     "text": [
      "Acc: 99.874%: 100%|██████████| 704/704 [01:58<00:00,  5.92it/s]\n",
      "  0%|          | 0/704 [00:00<?, ?it/s]"
     ]
    },
    {
     "name": "stdout",
     "output_type": "stream",
     "text": [
      "\n",
      "Epoch: 509\n"
     ]
    },
    {
     "name": "stderr",
     "output_type": "stream",
     "text": [
      "Acc: 99.873%: 100%|██████████| 704/704 [01:58<00:00,  5.95it/s]\n",
      "  0%|          | 0/704 [00:00<?, ?it/s]"
     ]
    },
    {
     "name": "stdout",
     "output_type": "stream",
     "text": [
      "\n",
      "Epoch: 510\n"
     ]
    },
    {
     "name": "stderr",
     "output_type": "stream",
     "text": [
      "Acc: 99.866%: 100%|██████████| 704/704 [01:58<00:00,  5.95it/s]\n",
      "Acc: 85.986%: 100%|██████████| 900/900 [00:50<00:00, 17.90it/s]\n",
      "  0%|          | 0/704 [00:00<?, ?it/s]"
     ]
    },
    {
     "name": "stdout",
     "output_type": "stream",
     "text": [
      "Saving..\n",
      "\n",
      "Epoch: 511\n"
     ]
    },
    {
     "name": "stderr",
     "output_type": "stream",
     "text": [
      "Acc: 99.880%: 100%|██████████| 704/704 [01:57<00:00,  5.97it/s]\n",
      "  0%|          | 0/704 [00:00<?, ?it/s]"
     ]
    },
    {
     "name": "stdout",
     "output_type": "stream",
     "text": [
      "\n",
      "Epoch: 512\n"
     ]
    },
    {
     "name": "stderr",
     "output_type": "stream",
     "text": [
      "Acc: 99.867%: 100%|██████████| 704/704 [01:58<00:00,  6.76it/s]\n",
      "  0%|          | 0/704 [00:00<?, ?it/s]"
     ]
    },
    {
     "name": "stdout",
     "output_type": "stream",
     "text": [
      "\n",
      "Epoch: 513\n"
     ]
    },
    {
     "name": "stderr",
     "output_type": "stream",
     "text": [
      "Acc: 99.863%: 100%|██████████| 704/704 [01:57<00:00,  5.97it/s]\n",
      "  0%|          | 0/704 [00:00<?, ?it/s]"
     ]
    },
    {
     "name": "stdout",
     "output_type": "stream",
     "text": [
      "\n",
      "Epoch: 514\n"
     ]
    },
    {
     "name": "stderr",
     "output_type": "stream",
     "text": [
      "Acc: 99.879%: 100%|██████████| 704/704 [01:56<00:00,  6.16it/s]\n",
      "  0%|          | 0/704 [00:00<?, ?it/s]"
     ]
    },
    {
     "name": "stdout",
     "output_type": "stream",
     "text": [
      "\n",
      "Epoch: 515\n"
     ]
    },
    {
     "name": "stderr",
     "output_type": "stream",
     "text": [
      "Acc: 99.867%: 100%|██████████| 704/704 [01:57<00:00,  5.97it/s]\n",
      "  0%|          | 0/704 [00:00<?, ?it/s]"
     ]
    },
    {
     "name": "stdout",
     "output_type": "stream",
     "text": [
      "\n",
      "Epoch: 516\n"
     ]
    },
    {
     "name": "stderr",
     "output_type": "stream",
     "text": [
      "Acc: 99.866%: 100%|██████████| 704/704 [01:58<00:00,  5.93it/s]\n",
      "  0%|          | 0/704 [00:00<?, ?it/s]"
     ]
    },
    {
     "name": "stdout",
     "output_type": "stream",
     "text": [
      "\n",
      "Epoch: 517\n"
     ]
    },
    {
     "name": "stderr",
     "output_type": "stream",
     "text": [
      "Acc: 99.871%: 100%|██████████| 704/704 [01:59<00:00,  5.91it/s]\n",
      "  0%|          | 0/704 [00:00<?, ?it/s]"
     ]
    },
    {
     "name": "stdout",
     "output_type": "stream",
     "text": [
      "\n",
      "Epoch: 518\n"
     ]
    },
    {
     "name": "stderr",
     "output_type": "stream",
     "text": [
      "Acc: 99.881%: 100%|██████████| 704/704 [01:57<00:00,  5.97it/s]\n",
      "  0%|          | 0/704 [00:00<?, ?it/s]"
     ]
    },
    {
     "name": "stdout",
     "output_type": "stream",
     "text": [
      "\n",
      "Epoch: 519\n"
     ]
    },
    {
     "name": "stderr",
     "output_type": "stream",
     "text": [
      "Acc: 99.872%: 100%|██████████| 704/704 [01:58<00:00,  5.96it/s]\n",
      "  0%|          | 0/704 [00:00<?, ?it/s]"
     ]
    },
    {
     "name": "stdout",
     "output_type": "stream",
     "text": [
      "\n",
      "Epoch: 520\n"
     ]
    },
    {
     "name": "stderr",
     "output_type": "stream",
     "text": [
      "Acc: 99.878%: 100%|██████████| 704/704 [01:58<00:00,  5.96it/s]\n",
      "Acc: 85.891%: 100%|██████████| 900/900 [00:49<00:00, 18.24it/s]\n",
      "  0%|          | 0/704 [00:00<?, ?it/s]"
     ]
    },
    {
     "name": "stdout",
     "output_type": "stream",
     "text": [
      "\n",
      "Epoch: 521\n"
     ]
    },
    {
     "name": "stderr",
     "output_type": "stream",
     "text": [
      "Acc: 99.893%: 100%|██████████| 704/704 [01:56<00:00,  6.02it/s]\n",
      "  0%|          | 0/704 [00:00<?, ?it/s]"
     ]
    },
    {
     "name": "stdout",
     "output_type": "stream",
     "text": [
      "\n",
      "Epoch: 522\n"
     ]
    },
    {
     "name": "stderr",
     "output_type": "stream",
     "text": [
      "Acc: 99.871%: 100%|██████████| 704/704 [01:57<00:00,  5.97it/s]\n",
      "  0%|          | 0/704 [00:00<?, ?it/s]"
     ]
    },
    {
     "name": "stdout",
     "output_type": "stream",
     "text": [
      "\n",
      "Epoch: 523\n"
     ]
    },
    {
     "name": "stderr",
     "output_type": "stream",
     "text": [
      "Acc: 99.887%: 100%|██████████| 704/704 [01:57<00:00,  5.97it/s]\n",
      "  0%|          | 0/704 [00:00<?, ?it/s]"
     ]
    },
    {
     "name": "stdout",
     "output_type": "stream",
     "text": [
      "\n",
      "Epoch: 524\n"
     ]
    },
    {
     "name": "stderr",
     "output_type": "stream",
     "text": [
      "Acc: 99.876%: 100%|██████████| 704/704 [01:58<00:00,  5.94it/s]\n",
      "  0%|          | 0/704 [00:00<?, ?it/s]"
     ]
    },
    {
     "name": "stdout",
     "output_type": "stream",
     "text": [
      "\n",
      "Epoch: 525\n"
     ]
    },
    {
     "name": "stderr",
     "output_type": "stream",
     "text": [
      "Acc: 99.861%: 100%|██████████| 704/704 [01:58<00:00,  5.94it/s]\n",
      "  0%|          | 0/704 [00:00<?, ?it/s]"
     ]
    },
    {
     "name": "stdout",
     "output_type": "stream",
     "text": [
      "\n",
      "Epoch: 526\n"
     ]
    },
    {
     "name": "stderr",
     "output_type": "stream",
     "text": [
      "Acc: 99.891%: 100%|██████████| 704/704 [01:57<00:00,  5.97it/s]\n",
      "  0%|          | 0/704 [00:00<?, ?it/s]"
     ]
    },
    {
     "name": "stdout",
     "output_type": "stream",
     "text": [
      "\n",
      "Epoch: 527\n"
     ]
    },
    {
     "name": "stderr",
     "output_type": "stream",
     "text": [
      "Acc: 99.886%: 100%|██████████| 704/704 [01:58<00:00,  5.95it/s]\n",
      "  0%|          | 0/704 [00:00<?, ?it/s]"
     ]
    },
    {
     "name": "stdout",
     "output_type": "stream",
     "text": [
      "\n",
      "Epoch: 528\n"
     ]
    },
    {
     "name": "stderr",
     "output_type": "stream",
     "text": [
      "Acc: 99.874%: 100%|██████████| 704/704 [01:57<00:00,  5.97it/s]\n",
      "  0%|          | 0/704 [00:00<?, ?it/s]"
     ]
    },
    {
     "name": "stdout",
     "output_type": "stream",
     "text": [
      "\n",
      "Epoch: 529\n"
     ]
    },
    {
     "name": "stderr",
     "output_type": "stream",
     "text": [
      "Acc: 99.888%: 100%|██████████| 704/704 [01:57<00:00,  5.98it/s]\n",
      "  0%|          | 0/704 [00:00<?, ?it/s]"
     ]
    },
    {
     "name": "stdout",
     "output_type": "stream",
     "text": [
      "\n",
      "Epoch: 530\n"
     ]
    },
    {
     "name": "stderr",
     "output_type": "stream",
     "text": [
      "Acc: 99.866%: 100%|██████████| 704/704 [01:58<00:00,  5.96it/s]\n",
      "Acc: 85.742%: 100%|██████████| 900/900 [00:50<00:00, 19.41it/s]\n",
      "  0%|          | 0/704 [00:00<?, ?it/s]"
     ]
    },
    {
     "name": "stdout",
     "output_type": "stream",
     "text": [
      "\n",
      "Epoch: 531\n"
     ]
    },
    {
     "name": "stderr",
     "output_type": "stream",
     "text": [
      "Acc: 99.862%: 100%|██████████| 704/704 [01:57<00:00,  5.99it/s]\n",
      "  0%|          | 0/704 [00:00<?, ?it/s]"
     ]
    },
    {
     "name": "stdout",
     "output_type": "stream",
     "text": [
      "\n",
      "Epoch: 532\n"
     ]
    },
    {
     "name": "stderr",
     "output_type": "stream",
     "text": [
      "Acc: 99.898%: 100%|██████████| 704/704 [01:58<00:00,  5.96it/s]\n",
      "  0%|          | 0/704 [00:00<?, ?it/s]"
     ]
    },
    {
     "name": "stdout",
     "output_type": "stream",
     "text": [
      "\n",
      "Epoch: 533\n"
     ]
    },
    {
     "name": "stderr",
     "output_type": "stream",
     "text": [
      "Acc: 99.872%: 100%|██████████| 704/704 [01:58<00:00,  5.86it/s]\n",
      "  0%|          | 0/704 [00:00<?, ?it/s]"
     ]
    },
    {
     "name": "stdout",
     "output_type": "stream",
     "text": [
      "\n",
      "Epoch: 534\n"
     ]
    },
    {
     "name": "stderr",
     "output_type": "stream",
     "text": [
      "Acc: 99.876%: 100%|██████████| 704/704 [01:58<00:00,  5.93it/s]\n",
      "  0%|          | 0/704 [00:00<?, ?it/s]"
     ]
    },
    {
     "name": "stdout",
     "output_type": "stream",
     "text": [
      "\n",
      "Epoch: 535\n"
     ]
    },
    {
     "name": "stderr",
     "output_type": "stream",
     "text": [
      "Acc: 99.892%: 100%|██████████| 704/704 [01:58<00:00,  5.95it/s]\n",
      "  0%|          | 0/704 [00:00<?, ?it/s]"
     ]
    },
    {
     "name": "stdout",
     "output_type": "stream",
     "text": [
      "\n",
      "Epoch: 536\n"
     ]
    },
    {
     "name": "stderr",
     "output_type": "stream",
     "text": [
      "Acc: 99.887%: 100%|██████████| 704/704 [01:58<00:00,  5.94it/s]\n",
      "  0%|          | 0/704 [00:00<?, ?it/s]"
     ]
    },
    {
     "name": "stdout",
     "output_type": "stream",
     "text": [
      "\n",
      "Epoch: 537\n"
     ]
    },
    {
     "name": "stderr",
     "output_type": "stream",
     "text": [
      "Acc: 99.879%: 100%|██████████| 704/704 [01:56<00:00,  6.03it/s]\n",
      "  0%|          | 0/704 [00:00<?, ?it/s]"
     ]
    },
    {
     "name": "stdout",
     "output_type": "stream",
     "text": [
      "\n",
      "Epoch: 538\n"
     ]
    },
    {
     "name": "stderr",
     "output_type": "stream",
     "text": [
      "Acc: 99.879%: 100%|██████████| 704/704 [01:57<00:00,  5.98it/s]\n",
      "  0%|          | 0/704 [00:00<?, ?it/s]"
     ]
    },
    {
     "name": "stdout",
     "output_type": "stream",
     "text": [
      "\n",
      "Epoch: 539\n"
     ]
    },
    {
     "name": "stderr",
     "output_type": "stream",
     "text": [
      "Acc: 99.877%: 100%|██████████| 704/704 [01:58<00:00,  5.97it/s]\n",
      "  0%|          | 0/704 [00:00<?, ?it/s]"
     ]
    },
    {
     "name": "stdout",
     "output_type": "stream",
     "text": [
      "\n",
      "Epoch: 540\n"
     ]
    },
    {
     "name": "stderr",
     "output_type": "stream",
     "text": [
      "Acc: 99.878%: 100%|██████████| 704/704 [01:58<00:00,  5.95it/s]\n",
      "Acc: 85.973%: 100%|██████████| 900/900 [00:50<00:00, 17.99it/s]\n",
      "  0%|          | 0/704 [00:00<?, ?it/s]"
     ]
    },
    {
     "name": "stdout",
     "output_type": "stream",
     "text": [
      "\n",
      "Epoch: 541\n"
     ]
    },
    {
     "name": "stderr",
     "output_type": "stream",
     "text": [
      "Acc: 99.881%: 100%|██████████| 704/704 [01:57<00:00,  6.52it/s]\n",
      "  0%|          | 0/704 [00:00<?, ?it/s]"
     ]
    },
    {
     "name": "stdout",
     "output_type": "stream",
     "text": [
      "\n",
      "Epoch: 542\n"
     ]
    },
    {
     "name": "stderr",
     "output_type": "stream",
     "text": [
      "Acc: 99.877%: 100%|██████████| 704/704 [01:57<00:00,  5.97it/s]\n",
      "  0%|          | 0/704 [00:00<?, ?it/s]"
     ]
    },
    {
     "name": "stdout",
     "output_type": "stream",
     "text": [
      "\n",
      "Epoch: 543\n"
     ]
    },
    {
     "name": "stderr",
     "output_type": "stream",
     "text": [
      "Acc: 99.882%: 100%|██████████| 704/704 [01:58<00:00,  5.94it/s]\n",
      "  0%|          | 0/704 [00:00<?, ?it/s]"
     ]
    },
    {
     "name": "stdout",
     "output_type": "stream",
     "text": [
      "\n",
      "Epoch: 544\n"
     ]
    },
    {
     "name": "stderr",
     "output_type": "stream",
     "text": [
      "Acc: 99.894%: 100%|██████████| 704/704 [01:56<00:00,  6.06it/s]\n",
      "  0%|          | 0/704 [00:00<?, ?it/s]"
     ]
    },
    {
     "name": "stdout",
     "output_type": "stream",
     "text": [
      "\n",
      "Epoch: 545\n"
     ]
    },
    {
     "name": "stderr",
     "output_type": "stream",
     "text": [
      "Acc: 99.879%: 100%|██████████| 704/704 [01:55<00:00,  6.93it/s]\n",
      "  0%|          | 0/704 [00:00<?, ?it/s]"
     ]
    },
    {
     "name": "stdout",
     "output_type": "stream",
     "text": [
      "\n",
      "Epoch: 546\n"
     ]
    },
    {
     "name": "stderr",
     "output_type": "stream",
     "text": [
      "Acc: 99.889%: 100%|██████████| 704/704 [01:55<00:00,  6.09it/s]\n",
      "  0%|          | 0/704 [00:00<?, ?it/s]"
     ]
    },
    {
     "name": "stdout",
     "output_type": "stream",
     "text": [
      "\n",
      "Epoch: 547\n"
     ]
    },
    {
     "name": "stderr",
     "output_type": "stream",
     "text": [
      "Acc: 99.883%: 100%|██████████| 704/704 [01:56<00:00,  6.06it/s]\n",
      "  0%|          | 0/704 [00:00<?, ?it/s]"
     ]
    },
    {
     "name": "stdout",
     "output_type": "stream",
     "text": [
      "\n",
      "Epoch: 548\n"
     ]
    },
    {
     "name": "stderr",
     "output_type": "stream",
     "text": [
      "Acc: 99.881%: 100%|██████████| 704/704 [01:58<00:00,  5.94it/s]\n",
      "  0%|          | 0/704 [00:00<?, ?it/s]"
     ]
    },
    {
     "name": "stdout",
     "output_type": "stream",
     "text": [
      "\n",
      "Epoch: 549\n"
     ]
    },
    {
     "name": "stderr",
     "output_type": "stream",
     "text": [
      "Acc: 99.891%: 100%|██████████| 704/704 [01:58<00:00,  5.94it/s]\n",
      "  0%|          | 0/704 [00:00<?, ?it/s]"
     ]
    },
    {
     "name": "stdout",
     "output_type": "stream",
     "text": [
      "\n",
      "Epoch: 550\n"
     ]
    },
    {
     "name": "stderr",
     "output_type": "stream",
     "text": [
      "Acc: 99.896%: 100%|██████████| 704/704 [01:58<00:00,  5.94it/s]\n",
      "Acc: 85.772%: 100%|██████████| 900/900 [00:48<00:00, 18.37it/s]\n",
      "  0%|          | 0/704 [00:00<?, ?it/s]"
     ]
    },
    {
     "name": "stdout",
     "output_type": "stream",
     "text": [
      "\n",
      "Epoch: 551\n"
     ]
    },
    {
     "name": "stderr",
     "output_type": "stream",
     "text": [
      "Acc: 99.886%: 100%|██████████| 704/704 [01:58<00:00,  5.92it/s]\n",
      "  0%|          | 0/704 [00:00<?, ?it/s]"
     ]
    },
    {
     "name": "stdout",
     "output_type": "stream",
     "text": [
      "\n",
      "Epoch: 552\n"
     ]
    },
    {
     "name": "stderr",
     "output_type": "stream",
     "text": [
      "Acc: 99.862%: 100%|██████████| 704/704 [01:57<00:00,  6.48it/s]\n",
      "  0%|          | 0/704 [00:00<?, ?it/s]"
     ]
    },
    {
     "name": "stdout",
     "output_type": "stream",
     "text": [
      "\n",
      "Epoch: 553\n"
     ]
    },
    {
     "name": "stderr",
     "output_type": "stream",
     "text": [
      "Acc: 99.890%: 100%|██████████| 704/704 [01:55<00:00,  6.12it/s]\n",
      "  0%|          | 0/704 [00:00<?, ?it/s]"
     ]
    },
    {
     "name": "stdout",
     "output_type": "stream",
     "text": [
      "\n",
      "Epoch: 554\n"
     ]
    },
    {
     "name": "stderr",
     "output_type": "stream",
     "text": [
      "Acc: 99.898%: 100%|██████████| 704/704 [01:55<00:00,  6.95it/s]\n",
      "  0%|          | 0/704 [00:00<?, ?it/s]"
     ]
    },
    {
     "name": "stdout",
     "output_type": "stream",
     "text": [
      "\n",
      "Epoch: 555\n"
     ]
    },
    {
     "name": "stderr",
     "output_type": "stream",
     "text": [
      "Acc: 99.874%: 100%|██████████| 704/704 [01:54<00:00,  6.17it/s]\n",
      "  0%|          | 0/704 [00:00<?, ?it/s]"
     ]
    },
    {
     "name": "stdout",
     "output_type": "stream",
     "text": [
      "\n",
      "Epoch: 556\n"
     ]
    },
    {
     "name": "stderr",
     "output_type": "stream",
     "text": [
      "Acc: 99.900%: 100%|██████████| 704/704 [01:57<00:00,  5.97it/s]\n",
      "  0%|          | 0/704 [00:00<?, ?it/s]"
     ]
    },
    {
     "name": "stdout",
     "output_type": "stream",
     "text": [
      "\n",
      "Epoch: 557\n"
     ]
    },
    {
     "name": "stderr",
     "output_type": "stream",
     "text": [
      "Acc: 99.887%: 100%|██████████| 704/704 [01:57<00:00,  5.97it/s]\n",
      "  0%|          | 0/704 [00:00<?, ?it/s]"
     ]
    },
    {
     "name": "stdout",
     "output_type": "stream",
     "text": [
      "\n",
      "Epoch: 558\n"
     ]
    },
    {
     "name": "stderr",
     "output_type": "stream",
     "text": [
      "Acc: 99.881%: 100%|██████████| 704/704 [01:57<00:00,  6.01it/s]\n",
      "  0%|          | 0/704 [00:00<?, ?it/s]"
     ]
    },
    {
     "name": "stdout",
     "output_type": "stream",
     "text": [
      "\n",
      "Epoch: 559\n"
     ]
    },
    {
     "name": "stderr",
     "output_type": "stream",
     "text": [
      "Acc: 99.890%: 100%|██████████| 704/704 [01:58<00:00,  5.97it/s]\n",
      "  0%|          | 0/704 [00:00<?, ?it/s]"
     ]
    },
    {
     "name": "stdout",
     "output_type": "stream",
     "text": [
      "\n",
      "Epoch: 560\n"
     ]
    },
    {
     "name": "stderr",
     "output_type": "stream",
     "text": [
      "Acc: 99.879%: 100%|██████████| 704/704 [01:58<00:00,  5.96it/s]\n",
      "Acc: 85.814%: 100%|██████████| 900/900 [00:47<00:00, 18.84it/s]\n",
      "  0%|          | 0/704 [00:00<?, ?it/s]"
     ]
    },
    {
     "name": "stdout",
     "output_type": "stream",
     "text": [
      "\n",
      "Epoch: 561\n"
     ]
    },
    {
     "name": "stderr",
     "output_type": "stream",
     "text": [
      "Acc: 99.878%: 100%|██████████| 704/704 [01:56<00:00,  6.04it/s]\n",
      "  0%|          | 0/704 [00:00<?, ?it/s]"
     ]
    },
    {
     "name": "stdout",
     "output_type": "stream",
     "text": [
      "\n",
      "Epoch: 562\n"
     ]
    },
    {
     "name": "stderr",
     "output_type": "stream",
     "text": [
      "Acc: 99.877%: 100%|██████████| 704/704 [01:57<00:00,  5.98it/s]\n",
      "  0%|          | 0/704 [00:00<?, ?it/s]"
     ]
    },
    {
     "name": "stdout",
     "output_type": "stream",
     "text": [
      "\n",
      "Epoch: 563\n"
     ]
    },
    {
     "name": "stderr",
     "output_type": "stream",
     "text": [
      "Acc: 99.884%: 100%|██████████| 704/704 [01:57<00:00,  5.97it/s]\n",
      "  0%|          | 0/704 [00:00<?, ?it/s]"
     ]
    },
    {
     "name": "stdout",
     "output_type": "stream",
     "text": [
      "\n",
      "Epoch: 564\n"
     ]
    },
    {
     "name": "stderr",
     "output_type": "stream",
     "text": [
      "Acc: 99.871%: 100%|██████████| 704/704 [01:58<00:00,  5.93it/s]\n",
      "  0%|          | 0/704 [00:00<?, ?it/s]"
     ]
    },
    {
     "name": "stdout",
     "output_type": "stream",
     "text": [
      "\n",
      "Epoch: 565\n"
     ]
    },
    {
     "name": "stderr",
     "output_type": "stream",
     "text": [
      "Acc: 99.899%: 100%|██████████| 704/704 [01:58<00:00,  6.12it/s]\n",
      "  0%|          | 0/704 [00:00<?, ?it/s]"
     ]
    },
    {
     "name": "stdout",
     "output_type": "stream",
     "text": [
      "\n",
      "Epoch: 566\n"
     ]
    },
    {
     "name": "stderr",
     "output_type": "stream",
     "text": [
      "Acc: 99.887%: 100%|██████████| 704/704 [01:58<00:00,  5.96it/s]\n",
      "  0%|          | 0/704 [00:00<?, ?it/s]"
     ]
    },
    {
     "name": "stdout",
     "output_type": "stream",
     "text": [
      "\n",
      "Epoch: 567\n"
     ]
    },
    {
     "name": "stderr",
     "output_type": "stream",
     "text": [
      "Acc: 99.897%: 100%|██████████| 704/704 [01:57<00:00,  6.01it/s]\n",
      "  0%|          | 0/704 [00:00<?, ?it/s]"
     ]
    },
    {
     "name": "stdout",
     "output_type": "stream",
     "text": [
      "\n",
      "Epoch: 568\n"
     ]
    },
    {
     "name": "stderr",
     "output_type": "stream",
     "text": [
      "Acc: 99.891%: 100%|██████████| 704/704 [01:59<00:00,  5.90it/s]\n",
      "  0%|          | 0/704 [00:00<?, ?it/s]"
     ]
    },
    {
     "name": "stdout",
     "output_type": "stream",
     "text": [
      "\n",
      "Epoch: 569\n"
     ]
    },
    {
     "name": "stderr",
     "output_type": "stream",
     "text": [
      "Acc: 99.886%: 100%|██████████| 704/704 [01:56<00:00,  6.04it/s]\n",
      "  0%|          | 0/704 [00:00<?, ?it/s]"
     ]
    },
    {
     "name": "stdout",
     "output_type": "stream",
     "text": [
      "\n",
      "Epoch: 570\n"
     ]
    },
    {
     "name": "stderr",
     "output_type": "stream",
     "text": [
      "Acc: 99.890%: 100%|██████████| 704/704 [01:55<00:00,  6.12it/s]\n",
      "Acc: 85.850%: 100%|██████████| 900/900 [00:45<00:00, 19.73it/s]\n",
      "  0%|          | 0/704 [00:00<?, ?it/s]"
     ]
    },
    {
     "name": "stdout",
     "output_type": "stream",
     "text": [
      "\n",
      "Epoch: 571\n"
     ]
    },
    {
     "name": "stderr",
     "output_type": "stream",
     "text": [
      "Acc: 99.874%: 100%|██████████| 704/704 [01:53<00:00,  6.20it/s]\n",
      "  0%|          | 0/704 [00:00<?, ?it/s]"
     ]
    },
    {
     "name": "stdout",
     "output_type": "stream",
     "text": [
      "\n",
      "Epoch: 572\n"
     ]
    },
    {
     "name": "stderr",
     "output_type": "stream",
     "text": [
      "Acc: 99.890%: 100%|██████████| 704/704 [01:53<00:00,  6.19it/s]\n",
      "  0%|          | 0/704 [00:00<?, ?it/s]"
     ]
    },
    {
     "name": "stdout",
     "output_type": "stream",
     "text": [
      "\n",
      "Epoch: 573\n"
     ]
    },
    {
     "name": "stderr",
     "output_type": "stream",
     "text": [
      "Acc: 99.868%: 100%|██████████| 704/704 [01:54<00:00,  6.16it/s]\n",
      "  0%|          | 0/704 [00:00<?, ?it/s]"
     ]
    },
    {
     "name": "stdout",
     "output_type": "stream",
     "text": [
      "\n",
      "Epoch: 574\n"
     ]
    },
    {
     "name": "stderr",
     "output_type": "stream",
     "text": [
      "Acc: 99.866%: 100%|██████████| 704/704 [01:53<00:00,  6.18it/s]\n",
      "  0%|          | 0/704 [00:00<?, ?it/s]"
     ]
    },
    {
     "name": "stdout",
     "output_type": "stream",
     "text": [
      "\n",
      "Epoch: 575\n"
     ]
    },
    {
     "name": "stderr",
     "output_type": "stream",
     "text": [
      "Acc: 99.892%: 100%|██████████| 704/704 [01:53<00:00,  6.19it/s]\n",
      "  0%|          | 0/704 [00:00<?, ?it/s]"
     ]
    },
    {
     "name": "stdout",
     "output_type": "stream",
     "text": [
      "\n",
      "Epoch: 576\n"
     ]
    },
    {
     "name": "stderr",
     "output_type": "stream",
     "text": [
      "Acc: 99.889%: 100%|██████████| 704/704 [01:53<00:00,  6.19it/s]\n",
      "  0%|          | 0/704 [00:00<?, ?it/s]"
     ]
    },
    {
     "name": "stdout",
     "output_type": "stream",
     "text": [
      "\n",
      "Epoch: 577\n"
     ]
    },
    {
     "name": "stderr",
     "output_type": "stream",
     "text": [
      "Acc: 99.887%: 100%|██████████| 704/704 [01:53<00:00,  6.18it/s]\n",
      "  0%|          | 0/704 [00:00<?, ?it/s]"
     ]
    },
    {
     "name": "stdout",
     "output_type": "stream",
     "text": [
      "\n",
      "Epoch: 578\n"
     ]
    },
    {
     "name": "stderr",
     "output_type": "stream",
     "text": [
      "Acc: 99.893%: 100%|██████████| 704/704 [01:53<00:00,  6.19it/s]\n",
      "  0%|          | 0/704 [00:00<?, ?it/s]"
     ]
    },
    {
     "name": "stdout",
     "output_type": "stream",
     "text": [
      "\n",
      "Epoch: 579\n"
     ]
    },
    {
     "name": "stderr",
     "output_type": "stream",
     "text": [
      "Acc: 99.879%: 100%|██████████| 704/704 [01:53<00:00,  6.19it/s]\n",
      "  0%|          | 0/704 [00:00<?, ?it/s]"
     ]
    },
    {
     "name": "stdout",
     "output_type": "stream",
     "text": [
      "\n",
      "Epoch: 580\n"
     ]
    },
    {
     "name": "stderr",
     "output_type": "stream",
     "text": [
      "Acc: 99.894%: 100%|██████████| 704/704 [01:54<00:00,  6.17it/s]\n",
      "Acc: 85.888%: 100%|██████████| 900/900 [00:46<00:00, 18.64it/s]\n",
      "  0%|          | 0/704 [00:00<?, ?it/s]"
     ]
    },
    {
     "name": "stdout",
     "output_type": "stream",
     "text": [
      "\n",
      "Epoch: 581\n"
     ]
    },
    {
     "name": "stderr",
     "output_type": "stream",
     "text": [
      "Acc: 99.896%: 100%|██████████| 704/704 [01:53<00:00,  6.94it/s]\n",
      "  0%|          | 0/704 [00:00<?, ?it/s]"
     ]
    },
    {
     "name": "stdout",
     "output_type": "stream",
     "text": [
      "\n",
      "Epoch: 582\n"
     ]
    },
    {
     "name": "stderr",
     "output_type": "stream",
     "text": [
      "Acc: 99.894%: 100%|██████████| 704/704 [01:54<00:00,  6.16it/s]\n",
      "  0%|          | 0/704 [00:00<?, ?it/s]"
     ]
    },
    {
     "name": "stdout",
     "output_type": "stream",
     "text": [
      "\n",
      "Epoch: 583\n"
     ]
    },
    {
     "name": "stderr",
     "output_type": "stream",
     "text": [
      "Acc: 99.898%: 100%|██████████| 704/704 [01:54<00:00,  6.17it/s]\n",
      "  0%|          | 0/704 [00:00<?, ?it/s]"
     ]
    },
    {
     "name": "stdout",
     "output_type": "stream",
     "text": [
      "\n",
      "Epoch: 584\n"
     ]
    },
    {
     "name": "stderr",
     "output_type": "stream",
     "text": [
      "Acc: 99.891%: 100%|██████████| 704/704 [01:54<00:00,  6.17it/s]\n",
      "  0%|          | 0/704 [00:00<?, ?it/s]"
     ]
    },
    {
     "name": "stdout",
     "output_type": "stream",
     "text": [
      "\n",
      "Epoch: 585\n"
     ]
    },
    {
     "name": "stderr",
     "output_type": "stream",
     "text": [
      "Acc: 99.887%: 100%|██████████| 704/704 [01:53<00:00,  6.18it/s]\n",
      "  0%|          | 0/704 [00:00<?, ?it/s]"
     ]
    },
    {
     "name": "stdout",
     "output_type": "stream",
     "text": [
      "\n",
      "Epoch: 586\n"
     ]
    },
    {
     "name": "stderr",
     "output_type": "stream",
     "text": [
      "Acc: 99.868%: 100%|██████████| 704/704 [01:53<00:00,  6.19it/s]\n",
      "  0%|          | 0/704 [00:00<?, ?it/s]"
     ]
    },
    {
     "name": "stdout",
     "output_type": "stream",
     "text": [
      "\n",
      "Epoch: 587\n"
     ]
    },
    {
     "name": "stderr",
     "output_type": "stream",
     "text": [
      "Acc: 99.872%: 100%|██████████| 704/704 [01:54<00:00,  6.88it/s]\n",
      "  0%|          | 0/704 [00:00<?, ?it/s]"
     ]
    },
    {
     "name": "stdout",
     "output_type": "stream",
     "text": [
      "\n",
      "Epoch: 588\n"
     ]
    },
    {
     "name": "stderr",
     "output_type": "stream",
     "text": [
      "Acc: 99.881%: 100%|██████████| 704/704 [01:53<00:00,  6.19it/s]\n",
      "  0%|          | 0/704 [00:00<?, ?it/s]"
     ]
    },
    {
     "name": "stdout",
     "output_type": "stream",
     "text": [
      "\n",
      "Epoch: 589\n"
     ]
    },
    {
     "name": "stderr",
     "output_type": "stream",
     "text": [
      "Acc: 99.889%: 100%|██████████| 704/704 [01:54<00:00,  6.14it/s]\n",
      "  0%|          | 0/704 [00:00<?, ?it/s]"
     ]
    },
    {
     "name": "stdout",
     "output_type": "stream",
     "text": [
      "\n",
      "Epoch: 590\n"
     ]
    },
    {
     "name": "stderr",
     "output_type": "stream",
     "text": [
      "Acc: 99.889%: 100%|██████████| 704/704 [01:55<00:00,  6.12it/s]\n",
      "Acc: 85.803%: 100%|██████████| 900/900 [00:50<00:00, 19.57it/s]\n",
      "  0%|          | 0/704 [00:00<?, ?it/s]"
     ]
    },
    {
     "name": "stdout",
     "output_type": "stream",
     "text": [
      "\n",
      "Epoch: 591\n"
     ]
    },
    {
     "name": "stderr",
     "output_type": "stream",
     "text": [
      "Acc: 99.872%: 100%|██████████| 704/704 [01:57<00:00,  5.98it/s]\n",
      "  0%|          | 0/704 [00:00<?, ?it/s]"
     ]
    },
    {
     "name": "stdout",
     "output_type": "stream",
     "text": [
      "\n",
      "Epoch: 592\n"
     ]
    },
    {
     "name": "stderr",
     "output_type": "stream",
     "text": [
      "Acc: 99.887%: 100%|██████████| 704/704 [01:59<00:00,  5.89it/s]\n",
      "  0%|          | 0/704 [00:00<?, ?it/s]"
     ]
    },
    {
     "name": "stdout",
     "output_type": "stream",
     "text": [
      "\n",
      "Epoch: 593\n"
     ]
    },
    {
     "name": "stderr",
     "output_type": "stream",
     "text": [
      "Acc: 99.890%: 100%|██████████| 704/704 [01:57<00:00,  6.01it/s]\n",
      "  0%|          | 0/704 [00:00<?, ?it/s]"
     ]
    },
    {
     "name": "stdout",
     "output_type": "stream",
     "text": [
      "\n",
      "Epoch: 594\n"
     ]
    },
    {
     "name": "stderr",
     "output_type": "stream",
     "text": [
      "Acc: 99.866%: 100%|██████████| 704/704 [01:58<00:00,  5.93it/s]\n",
      "  0%|          | 0/704 [00:00<?, ?it/s]"
     ]
    },
    {
     "name": "stdout",
     "output_type": "stream",
     "text": [
      "\n",
      "Epoch: 595\n"
     ]
    },
    {
     "name": "stderr",
     "output_type": "stream",
     "text": [
      "Acc: 99.886%: 100%|██████████| 704/704 [01:59<00:00,  5.88it/s]\n",
      "  0%|          | 0/704 [00:00<?, ?it/s]"
     ]
    },
    {
     "name": "stdout",
     "output_type": "stream",
     "text": [
      "\n",
      "Epoch: 596\n"
     ]
    },
    {
     "name": "stderr",
     "output_type": "stream",
     "text": [
      "Acc: 99.882%: 100%|██████████| 704/704 [01:58<00:00,  5.95it/s]\n",
      "  0%|          | 0/704 [00:00<?, ?it/s]"
     ]
    },
    {
     "name": "stdout",
     "output_type": "stream",
     "text": [
      "\n",
      "Epoch: 597\n"
     ]
    },
    {
     "name": "stderr",
     "output_type": "stream",
     "text": [
      "Acc: 99.902%: 100%|██████████| 704/704 [01:58<00:00,  6.70it/s]\n",
      "  0%|          | 0/704 [00:00<?, ?it/s]"
     ]
    },
    {
     "name": "stdout",
     "output_type": "stream",
     "text": [
      "\n",
      "Epoch: 598\n"
     ]
    },
    {
     "name": "stderr",
     "output_type": "stream",
     "text": [
      "Acc: 99.878%: 100%|██████████| 704/704 [01:58<00:00,  5.95it/s]\n",
      "  0%|          | 0/704 [00:00<?, ?it/s]"
     ]
    },
    {
     "name": "stdout",
     "output_type": "stream",
     "text": [
      "\n",
      "Epoch: 599\n"
     ]
    },
    {
     "name": "stderr",
     "output_type": "stream",
     "text": [
      "Acc: 99.888%: 100%|██████████| 704/704 [01:57<00:00,  6.00it/s]\n",
      "  0%|          | 0/704 [00:00<?, ?it/s]"
     ]
    },
    {
     "name": "stdout",
     "output_type": "stream",
     "text": [
      "\n",
      "Epoch: 600\n"
     ]
    },
    {
     "name": "stderr",
     "output_type": "stream",
     "text": [
      "Acc: 99.879%: 100%|██████████| 704/704 [01:57<00:00,  5.98it/s]\n",
      "Acc: 85.783%: 100%|██████████| 900/900 [00:48<00:00, 18.38it/s]\n"
     ]
    }
   ],
   "source": [
    "'''Train CINIC10 with PyTorch.'''\n",
    "from __future__ import print_function\n",
    "from tqdm import tqdm\n",
    "\n",
    "import torch\n",
    "import torch.nn as nn\n",
    "import torch.optim as optim\n",
    "import torch.nn.functional as F\n",
    "import torch.backends.cudnn as cudnn\n",
    "\n",
    "import torchvision\n",
    "import torchvision.transforms as transforms\n",
    "\n",
    "import os\n",
    "import argparse\n",
    "import PIL\n",
    "\n",
    "from models import *\n",
    "\n",
    "os.environ[\"CUDA_VISIBLE_DEVICES\"]='4,5'\n",
    "device = 'cuda' if torch.cuda.is_available() else 'cpu'\n",
    "best_acc = 0  # best test accuracy\n",
    "start_epoch = 0  # start from epoch 0 or last checkpoint epoch\n",
    "\n",
    "# Data\n",
    "print('==> Preparing data..')\n",
    "transform_train = transforms.Compose([\n",
    "    transforms.RandomCrop(32, padding=4),\n",
    "    transforms.RandomHorizontalFlip(),\n",
    "    transforms.RandomRotation(20, resample=PIL.Image.BILINEAR),\n",
    "    transforms.ToTensor(),\n",
    "    transforms.Normalize(mean=[0.47889522, 0.47227842, 0.43047404],  std=[0.24205776, 0.23828046, 0.25874835]),\n",
    "])\n",
    "\n",
    "transform_test = transforms.Compose([\n",
    "    transforms.ToTensor(),\n",
    "    transforms.Normalize(mean=[0.47889522, 0.47227842, 0.43047404],  std=[0.24205776, 0.23828046, 0.25874835]),\n",
    "])\n",
    "\n",
    "trainset = torchvision.datasets.ImageFolder(root='../data/CINIC-10/train/', transform=transform_train)\n",
    "trainloader = torch.utils.data.DataLoader(trainset, batch_size=128, shuffle=True, num_workers=4)\n",
    "\n",
    "testset = torchvision.datasets.ImageFolder(root='../data/CINIC-10/valid/', transform=transform_test)\n",
    "testloader = torch.utils.data.DataLoader(testset, batch_size=100, shuffle=False, num_workers=4)\n",
    "\n",
    "classes = ('plane', 'car', 'bird', 'cat', 'deer', 'dog', 'frog', 'horse', 'ship', 'truck')\n",
    "\n",
    "# Model\n",
    "print('==> Building model..')\n",
    "# net = VGG('VGG19')\n",
    "# net = ResNet18()\n",
    "# net = PreActResNet18()\n",
    "net = GoogLeNet()\n",
    "# net = DenseNet121()\n",
    "# net = ResNeXt29_2x64d()\n",
    "# net = MobileNet()\n",
    "# net = MobileNetV2()\n",
    "# net = DPN92()\n",
    "# net = ShuffleNetG2()\n",
    "# net = SENet18()\n",
    "# net = ShuffleNetV2(1)\n",
    "net = net.to(device)\n",
    "if device == 'cuda':\n",
    "    net = torch.nn.DataParallel(net)\n",
    "    cudnn.benchmark = True\n",
    "\n",
    "# Load checkpoint.\n",
    "print('==> Resuming from checkpoint..')\n",
    "checkpoint = torch.load('./checkpoint/googLeNet.cifar10.t7')\n",
    "net.load_state_dict(checkpoint['net'])\n",
    "#start_epoch = checkpoint['epoch']\n",
    "    \n",
    "criterion = nn.CrossEntropyLoss()\n",
    "optimizer = optim.SGD(net.parameters(), lr=0.1, momentum=0.9, weight_decay=5e-4)\n",
    "scheduler = optim.lr_scheduler.MultiStepLR(optimizer, milestones=[150, 250, 400], gamma=0.1)\n",
    "\n",
    "# Training\n",
    "def train(epoch):\n",
    "    print('\\nEpoch: %d' % epoch)\n",
    "    net.train()\n",
    "    train_loss = 0\n",
    "    correct = 0\n",
    "    total = 0\n",
    "    with tqdm(total=len(trainloader)) as pbar:\n",
    "        for batch_idx, (inputs, targets) in enumerate(trainloader):\n",
    "            inputs, targets = inputs.to(device), targets.to(device)\n",
    "            optimizer.zero_grad()\n",
    "            outputs = net(inputs)\n",
    "            loss = criterion(outputs, targets)\n",
    "            loss.backward()\n",
    "            optimizer.step()\n",
    "\n",
    "            train_loss += loss.item()\n",
    "            _, predicted = outputs.max(1)\n",
    "            total += targets.size(0)\n",
    "            correct += predicted.eq(targets).sum().item()\n",
    "\n",
    "            pbar.set_description('Acc: %.3f%%' % (100.*correct/total))\n",
    "            pbar.update(1)\n",
    "\n",
    "def test(epoch):\n",
    "    global best_acc\n",
    "    net.eval()\n",
    "    test_loss = 0\n",
    "    correct = 0\n",
    "    total = 0\n",
    "    with tqdm(total=len(testloader)) as pbar:\n",
    "        with torch.no_grad():\n",
    "            for batch_idx, (inputs, targets) in enumerate(testloader):\n",
    "                inputs, targets = inputs.to(device), targets.to(device)\n",
    "                outputs = net(inputs)\n",
    "                loss = criterion(outputs, targets)\n",
    "\n",
    "                test_loss += loss.item()\n",
    "                _, predicted = outputs.max(1)\n",
    "                total += targets.size(0)\n",
    "                correct += predicted.eq(targets).sum().item()\n",
    "\n",
    "                pbar.set_description('Acc: %.3f%%' % (100.*correct/total))\n",
    "                pbar.update(1)\n",
    "\n",
    "    # Save checkpoint.\n",
    "    acc = 100.*correct/total\n",
    "    if acc > best_acc:\n",
    "        print('Saving..')\n",
    "        state = {\n",
    "            'net': net.state_dict(),\n",
    "            'acc': acc,\n",
    "            'epoch': epoch,\n",
    "        }\n",
    "        if not os.path.isdir('./checkpoint'):\n",
    "            os.mkdir('./checkpoint')\n",
    "        torch.save(state, './checkpoint/googLeNet.cinic10.0.t7')\n",
    "        best_acc = acc\n",
    "\n",
    "\n",
    "for epoch in range(start_epoch, 601):\n",
    "    scheduler.step()\n",
    "    train(epoch)\n",
    "    if epoch % 10 == 0:\n",
    "        test(epoch)"
   ]
  },
  {
   "cell_type": "markdown",
   "metadata": {},
   "source": [
    "## Train on full CINIC-10\n",
    "\n",
    "- train: train set + valid set\n",
    "- valid: test set"
   ]
  },
  {
   "cell_type": "code",
   "execution_count": null,
   "metadata": {
    "scrolled": true
   },
   "outputs": [],
   "source": [
    "'''Train CINIC10 with PyTorch.'''\n",
    "from __future__ import print_function\n",
    "from tqdm import tqdm\n",
    "\n",
    "import torch\n",
    "import torch.nn as nn\n",
    "import torch.optim as optim\n",
    "import torch.nn.functional as F\n",
    "import torch.backends.cudnn as cudnn\n",
    "\n",
    "import torchvision\n",
    "import torchvision.transforms as transforms\n",
    "import PIL\n",
    "\n",
    "import os\n",
    "import argparse\n",
    "\n",
    "from models import *\n",
    "\n",
    "os.environ[\"CUDA_VISIBLE_DEVICES\"]='4,5'\n",
    "device = 'cuda' if torch.cuda.is_available() else 'cpu'\n",
    "best_acc = 0  # best test accuracy\n",
    "start_epoch = 0  # start from epoch 0 or last checkpoint epoch\n",
    "\n",
    "# Data\n",
    "print('==> Preparing data..')\n",
    "transform_train = transforms.Compose([\n",
    "    transforms.RandomCrop(32, padding=4),\n",
    "    transforms.RandomHorizontalFlip(),\n",
    "    transforms.RandomRotation(20, resample=PIL.Image.BILINEAR),\n",
    "    transforms.ToTensor(),\n",
    "    transforms.Normalize(mean=[0.47889522, 0.47227842, 0.43047404],  std=[0.24205776, 0.23828046, 0.25874835]),\n",
    "])\n",
    "\n",
    "transform_test = transforms.Compose([\n",
    "    transforms.ToTensor(),\n",
    "    transforms.Normalize(mean=[0.47889522, 0.47227842, 0.43047404],  std=[0.24205776, 0.23828046, 0.25874835]),\n",
    "])\n",
    "\n",
    "trainset = torchvision.datasets.ImageFolder(root='../data/CINIC-10/train/', transform=transform_train)\n",
    "trainloader = torch.utils.data.DataLoader(trainset, batch_size=128, shuffle=True, num_workers=2)\n",
    "\n",
    "validset = torchvision.datasets.ImageFolder(root='../data/CINIC-10/valid/', transform=transform_train)\n",
    "validloader = torch.utils.data.DataLoader(validset, batch_size=128, shuffle=True, num_workers=2)\n",
    "\n",
    "testset = torchvision.datasets.ImageFolder(root='../data/CINIC-10/test/', transform=transform_test)\n",
    "testloader = torch.utils.data.DataLoader(testset, batch_size=100, shuffle=False, num_workers=2)\n",
    "\n",
    "\n",
    "\n",
    "classes = ('plane', 'car', 'bird', 'cat', 'deer', 'dog', 'frog', 'horse', 'ship', 'truck')\n",
    "\n",
    "# Model\n",
    "print('==> Building model..')\n",
    "# net = VGG('VGG19')\n",
    "# net = ResNet18()\n",
    "# net = PreActResNet18()\n",
    "net = GoogLeNet()\n",
    "# net = DenseNet121()\n",
    "# net = ResNeXt29_2x64d()\n",
    "# net = MobileNet()\n",
    "# net = MobileNetV2()\n",
    "# net = DPN92()\n",
    "# net = ShuffleNetG2()\n",
    "# net = SENet18()\n",
    "# net = ShuffleNetV2(1)\n",
    "\n",
    "\n",
    "net = net.to(device)\n",
    "if device == 'cuda':\n",
    "    net = torch.nn.DataParallel(net)\n",
    "    cudnn.benchmark = True\n",
    "\n",
    "# Load checkpoint.\n",
    "print('==> Resuming from checkpoint..')\n",
    "checkpoint = torch.load('./checkpoint/googLeNet.cinic10.1.t7')\n",
    "net.load_state_dict(checkpoint['net'])\n",
    "#start_epoch = checkpoint['epoch']\n",
    "best_acc = checkpoint['acc']\n",
    "    \n",
    "criterion = nn.CrossEntropyLoss()\n",
    "optimizer = optim.SGD(net.parameters(), lr=0.1, momentum=0.9, weight_decay=5e-4)\n",
    "scheduler = optim.lr_scheduler.MultiStepLR(optimizer, milestones=[100, 250, 450], gamma=0.1)\n",
    "\n",
    "# Training\n",
    "def train(epoch):\n",
    "    print('\\nEpoch: %d' % epoch)\n",
    "    net.train()\n",
    "    train_loss = 0\n",
    "    correct = 0\n",
    "    total = 0\n",
    "    with tqdm(total=len(trainloader)+len(validloader)) as pbar:\n",
    "        for batch_idx, (inputs, targets) in enumerate(trainloader):\n",
    "            inputs, targets = inputs.to(device), targets.to(device)\n",
    "            optimizer.zero_grad()\n",
    "            outputs = net(inputs)\n",
    "            loss = criterion(outputs, targets)\n",
    "            loss.backward()\n",
    "            optimizer.step()\n",
    "\n",
    "            train_loss += loss.item()\n",
    "            _, predicted = outputs.max(1)\n",
    "            total += targets.size(0)\n",
    "            correct += predicted.eq(targets).sum().item()\n",
    "\n",
    "            pbar.set_description('Acc: %.3f%%' % (100.*correct/total))\n",
    "            pbar.update(1)\n",
    "        for batch_idx, (inputs, targets) in enumerate(validloader):\n",
    "            inputs, targets = inputs.to(device), targets.to(device)\n",
    "            optimizer.zero_grad()\n",
    "            outputs = net(inputs)\n",
    "            loss = criterion(outputs, targets)\n",
    "            loss.backward()\n",
    "            optimizer.step()\n",
    "\n",
    "            train_loss += loss.item()\n",
    "            _, predicted = outputs.max(1)\n",
    "            total += targets.size(0)\n",
    "            correct += predicted.eq(targets).sum().item()\n",
    "\n",
    "            pbar.set_description('Acc: %.3f%%' % (100.*correct/total))\n",
    "            pbar.update(1)\n",
    "\n",
    "def test(epoch):\n",
    "    global best_acc\n",
    "    net.eval()\n",
    "    test_loss = 0\n",
    "    correct = 0\n",
    "    total = 0\n",
    "    with tqdm(total=len(testloader)) as pbar:\n",
    "        with torch.no_grad():\n",
    "            for batch_idx, (inputs, targets) in enumerate(testloader):\n",
    "                inputs, targets = inputs.to(device), targets.to(device)\n",
    "                outputs = net(inputs)\n",
    "                loss = criterion(outputs, targets)\n",
    "\n",
    "                test_loss += loss.item()\n",
    "                _, predicted = outputs.max(1)\n",
    "                total += targets.size(0)\n",
    "                correct += predicted.eq(targets).sum().item()\n",
    "\n",
    "                pbar.set_description('Acc: %.3f%%' % (100.*correct/total))\n",
    "                pbar.update(1)\n",
    "\n",
    "    # Save checkpoint.\n",
    "    acc = 100.*correct/total\n",
    "    if acc > best_acc:\n",
    "        print('Saving..')\n",
    "        state = {\n",
    "            'net': net.state_dict(),\n",
    "            'acc': acc,\n",
    "            'epoch': epoch,\n",
    "        }\n",
    "        if not os.path.isdir('./checkpoint'):\n",
    "            os.mkdir('./checkpoint')\n",
    "        torch.save(state, './checkpoint/googLeNet.cinic10.1.t7')\n",
    "        best_acc = acc\n",
    "\n",
    "for epoch in range(start_epoch, 601):\n",
    "    scheduler.step()\n",
    "    train(epoch)\n",
    "    if epoch % 10 == 0:\n",
    "        test(epoch)"
   ]
  },
  {
   "cell_type": "markdown",
   "metadata": {},
   "source": [
    "## Export Model"
   ]
  },
  {
   "cell_type": "code",
   "execution_count": 1,
   "metadata": {},
   "outputs": [],
   "source": [
    "_name = 'cinic10.1'\n",
    "src_path = './checkpoint/googLeNet.{}.t7'.format(_name)\n",
    "dest_path = './checkpoint/googLeNet.{}.pth'.format(_name)"
   ]
  },
  {
   "cell_type": "code",
   "execution_count": 2,
   "metadata": {},
   "outputs": [
    {
     "name": "stdout",
     "output_type": "stream",
     "text": [
      "==> Building model..\n",
      "==> Resuming from checkpoint..\n"
     ]
    }
   ],
   "source": [
    "from __future__ import print_function\n",
    "\n",
    "import torch\n",
    "import torch.nn as nn\n",
    "import torch.optim as optim\n",
    "import torch.nn.functional as F\n",
    "import torch.backends.cudnn as cudnn\n",
    "\n",
    "import torchvision\n",
    "import torchvision.transforms as transforms\n",
    "from torch.autograd import Variable\n",
    "\n",
    "import os\n",
    "import argparse\n",
    "\n",
    "from models import *\n",
    "\n",
    "device = 'cuda' if torch.cuda.is_available() else 'cpu'\n",
    "\n",
    "# Model\n",
    "print('==> Building model..')\n",
    "# net = VGG('VGG19')\n",
    "# net = ResNet18()\n",
    "# net = PreActResNet18()\n",
    "net = GoogLeNet()\n",
    "# net = DenseNet121()\n",
    "# net = ResNeXt29_2x64d()\n",
    "# net = MobileNet()\n",
    "# net = MobileNetV2()\n",
    "# net = DPN92()\n",
    "# net = ShuffleNetG2()\n",
    "# net = SENet18()\n",
    "# net = ShuffleNetV2(1)\n",
    "\n",
    "net = net.to(device)\n",
    "if device == 'cuda':\n",
    "    net = torch.nn.DataParallel(net)\n",
    "    cudnn.benchmark = True\n",
    "\n",
    "# Load checkpoint.\n",
    "print('==> Resuming from checkpoint..')\n",
    "checkpoint = torch.load(src_path)\n",
    "net.load_state_dict(checkpoint['net'])"
   ]
  },
  {
   "cell_type": "code",
   "execution_count": 3,
   "metadata": {},
   "outputs": [],
   "source": [
    "net = net.module"
   ]
  },
  {
   "cell_type": "code",
   "execution_count": 4,
   "metadata": {},
   "outputs": [],
   "source": [
    "state = {\n",
    "    'net': net.state_dict(),\n",
    "    'acc': checkpoint['acc'],\n",
    "    'epoch': checkpoint['epoch'],\n",
    "}\n",
    "\n",
    "torch.save(state, dest_path)"
   ]
  },
  {
   "cell_type": "code",
   "execution_count": 5,
   "metadata": {},
   "outputs": [
    {
     "name": "stdout",
     "output_type": "stream",
     "text": [
      "==> Exporting model..\n",
      "graph(%0 : Float(128, 3, 32, 32)\n",
      "      %1 : Float(192, 3, 3, 3)\n",
      "      %2 : Float(192)\n",
      "      %3 : Float(192)\n",
      "      %4 : Float(192)\n",
      "      %5 : Float(192)\n",
      "      %6 : Float(192)\n",
      "      %7 : Float(64, 192, 1, 1)\n",
      "      %8 : Float(64)\n",
      "      %9 : Float(64)\n",
      "      %10 : Float(64)\n",
      "      %11 : Float(64)\n",
      "      %12 : Float(64)\n",
      "      %13 : Float(96, 192, 1, 1)\n",
      "      %14 : Float(96)\n",
      "      %15 : Float(96)\n",
      "      %16 : Float(96)\n",
      "      %17 : Float(96)\n",
      "      %18 : Float(96)\n",
      "      %19 : Float(128, 96, 3, 3)\n",
      "      %20 : Float(128)\n",
      "      %21 : Float(128)\n",
      "      %22 : Float(128)\n",
      "      %23 : Float(128)\n",
      "      %24 : Float(128)\n",
      "      %25 : Float(16, 192, 1, 1)\n",
      "      %26 : Float(16)\n",
      "      %27 : Float(16)\n",
      "      %28 : Float(16)\n",
      "      %29 : Float(16)\n",
      "      %30 : Float(16)\n",
      "      %31 : Float(32, 16, 3, 3)\n",
      "      %32 : Float(32)\n",
      "      %33 : Float(32)\n",
      "      %34 : Float(32)\n",
      "      %35 : Float(32)\n",
      "      %36 : Float(32)\n",
      "      %37 : Float(32, 32, 3, 3)\n",
      "      %38 : Float(32)\n",
      "      %39 : Float(32)\n",
      "      %40 : Float(32)\n",
      "      %41 : Float(32)\n",
      "      %42 : Float(32)\n",
      "      %43 : Float(32, 192, 1, 1)\n",
      "      %44 : Float(32)\n",
      "      %45 : Float(32)\n",
      "      %46 : Float(32)\n",
      "      %47 : Float(32)\n",
      "      %48 : Float(32)\n",
      "      %49 : Float(128, 256, 1, 1)\n",
      "      %50 : Float(128)\n",
      "      %51 : Float(128)\n",
      "      %52 : Float(128)\n",
      "      %53 : Float(128)\n",
      "      %54 : Float(128)\n",
      "      %55 : Float(128, 256, 1, 1)\n",
      "      %56 : Float(128)\n",
      "      %57 : Float(128)\n",
      "      %58 : Float(128)\n",
      "      %59 : Float(128)\n",
      "      %60 : Float(128)\n",
      "      %61 : Float(192, 128, 3, 3)\n",
      "      %62 : Float(192)\n",
      "      %63 : Float(192)\n",
      "      %64 : Float(192)\n",
      "      %65 : Float(192)\n",
      "      %66 : Float(192)\n",
      "      %67 : Float(32, 256, 1, 1)\n",
      "      %68 : Float(32)\n",
      "      %69 : Float(32)\n",
      "      %70 : Float(32)\n",
      "      %71 : Float(32)\n",
      "      %72 : Float(32)\n",
      "      %73 : Float(96, 32, 3, 3)\n",
      "      %74 : Float(96)\n",
      "      %75 : Float(96)\n",
      "      %76 : Float(96)\n",
      "      %77 : Float(96)\n",
      "      %78 : Float(96)\n",
      "      %79 : Float(96, 96, 3, 3)\n",
      "      %80 : Float(96)\n",
      "      %81 : Float(96)\n",
      "      %82 : Float(96)\n",
      "      %83 : Float(96)\n",
      "      %84 : Float(96)\n",
      "      %85 : Float(64, 256, 1, 1)\n",
      "      %86 : Float(64)\n",
      "      %87 : Float(64)\n",
      "      %88 : Float(64)\n",
      "      %89 : Float(64)\n",
      "      %90 : Float(64)\n",
      "      %91 : Float(192, 480, 1, 1)\n",
      "      %92 : Float(192)\n",
      "      %93 : Float(192)\n",
      "      %94 : Float(192)\n",
      "      %95 : Float(192)\n",
      "      %96 : Float(192)\n",
      "      %97 : Float(96, 480, 1, 1)\n",
      "      %98 : Float(96)\n",
      "      %99 : Float(96)\n",
      "      %100 : Float(96)\n",
      "      %101 : Float(96)\n",
      "      %102 : Float(96)\n",
      "      %103 : Float(208, 96, 3, 3)\n",
      "      %104 : Float(208)\n",
      "      %105 : Float(208)\n",
      "      %106 : Float(208)\n",
      "      %107 : Float(208)\n",
      "      %108 : Float(208)\n",
      "      %109 : Float(16, 480, 1, 1)\n",
      "      %110 : Float(16)\n",
      "      %111 : Float(16)\n",
      "      %112 : Float(16)\n",
      "      %113 : Float(16)\n",
      "      %114 : Float(16)\n",
      "      %115 : Float(48, 16, 3, 3)\n",
      "      %116 : Float(48)\n",
      "      %117 : Float(48)\n",
      "      %118 : Float(48)\n",
      "      %119 : Float(48)\n",
      "      %120 : Float(48)\n",
      "      %121 : Float(48, 48, 3, 3)\n",
      "      %122 : Float(48)\n",
      "      %123 : Float(48)\n",
      "      %124 : Float(48)\n",
      "      %125 : Float(48)\n",
      "      %126 : Float(48)\n",
      "      %127 : Float(64, 480, 1, 1)\n",
      "      %128 : Float(64)\n",
      "      %129 : Float(64)\n",
      "      %130 : Float(64)\n",
      "      %131 : Float(64)\n",
      "      %132 : Float(64)\n",
      "      %133 : Float(160, 512, 1, 1)\n",
      "      %134 : Float(160)\n",
      "      %135 : Float(160)\n",
      "      %136 : Float(160)\n",
      "      %137 : Float(160)\n",
      "      %138 : Float(160)\n",
      "      %139 : Float(112, 512, 1, 1)\n",
      "      %140 : Float(112)\n",
      "      %141 : Float(112)\n",
      "      %142 : Float(112)\n",
      "      %143 : Float(112)\n",
      "      %144 : Float(112)\n",
      "      %145 : Float(224, 112, 3, 3)\n",
      "      %146 : Float(224)\n",
      "      %147 : Float(224)\n",
      "      %148 : Float(224)\n",
      "      %149 : Float(224)\n",
      "      %150 : Float(224)\n",
      "      %151 : Float(24, 512, 1, 1)\n",
      "      %152 : Float(24)\n",
      "      %153 : Float(24)\n",
      "      %154 : Float(24)\n",
      "      %155 : Float(24)\n",
      "      %156 : Float(24)\n",
      "      %157 : Float(64, 24, 3, 3)\n",
      "      %158 : Float(64)\n",
      "      %159 : Float(64)\n",
      "      %160 : Float(64)\n",
      "      %161 : Float(64)\n",
      "      %162 : Float(64)\n",
      "      %163 : Float(64, 64, 3, 3)\n",
      "      %164 : Float(64)\n",
      "      %165 : Float(64)\n",
      "      %166 : Float(64)\n",
      "      %167 : Float(64)\n",
      "      %168 : Float(64)\n",
      "      %169 : Float(64, 512, 1, 1)\n",
      "      %170 : Float(64)\n",
      "      %171 : Float(64)\n",
      "      %172 : Float(64)\n",
      "      %173 : Float(64)\n",
      "      %174 : Float(64)\n",
      "      %175 : Float(128, 512, 1, 1)\n",
      "      %176 : Float(128)\n",
      "      %177 : Float(128)\n",
      "      %178 : Float(128)\n",
      "      %179 : Float(128)\n",
      "      %180 : Float(128)\n",
      "      %181 : Float(128, 512, 1, 1)\n",
      "      %182 : Float(128)\n",
      "      %183 : Float(128)\n",
      "      %184 : Float(128)\n",
      "      %185 : Float(128)\n",
      "      %186 : Float(128)\n",
      "      %187 : Float(256, 128, 3, 3)\n",
      "      %188 : Float(256)\n",
      "      %189 : Float(256)\n",
      "      %190 : Float(256)\n",
      "      %191 : Float(256)\n",
      "      %192 : Float(256)\n",
      "      %193 : Float(24, 512, 1, 1)\n",
      "      %194 : Float(24)\n",
      "      %195 : Float(24)\n",
      "      %196 : Float(24)\n",
      "      %197 : Float(24)\n",
      "      %198 : Float(24)\n",
      "      %199 : Float(64, 24, 3, 3)\n",
      "      %200 : Float(64)\n",
      "      %201 : Float(64)\n",
      "      %202 : Float(64)\n",
      "      %203 : Float(64)\n",
      "      %204 : Float(64)\n",
      "      %205 : Float(64, 64, 3, 3)\n",
      "      %206 : Float(64)\n",
      "      %207 : Float(64)\n",
      "      %208 : Float(64)\n",
      "      %209 : Float(64)\n",
      "      %210 : Float(64)\n",
      "      %211 : Float(64, 512, 1, 1)\n",
      "      %212 : Float(64)\n",
      "      %213 : Float(64)\n",
      "      %214 : Float(64)\n",
      "      %215 : Float(64)\n",
      "      %216 : Float(64)\n",
      "      %217 : Float(112, 512, 1, 1)\n",
      "      %218 : Float(112)\n",
      "      %219 : Float(112)\n",
      "      %220 : Float(112)\n",
      "      %221 : Float(112)\n",
      "      %222 : Float(112)\n",
      "      %223 : Float(144, 512, 1, 1)\n",
      "      %224 : Float(144)\n",
      "      %225 : Float(144)\n",
      "      %226 : Float(144)\n",
      "      %227 : Float(144)\n",
      "      %228 : Float(144)\n",
      "      %229 : Float(288, 144, 3, 3)\n",
      "      %230 : Float(288)\n",
      "      %231 : Float(288)\n",
      "      %232 : Float(288)\n",
      "      %233 : Float(288)\n",
      "      %234 : Float(288)\n",
      "      %235 : Float(32, 512, 1, 1)\n",
      "      %236 : Float(32)\n",
      "      %237 : Float(32)\n",
      "      %238 : Float(32)\n",
      "      %239 : Float(32)\n",
      "      %240 : Float(32)\n",
      "      %241 : Float(64, 32, 3, 3)\n",
      "      %242 : Float(64)\n",
      "      %243 : Float(64)\n",
      "      %244 : Float(64)\n",
      "      %245 : Float(64)\n",
      "      %246 : Float(64)\n",
      "      %247 : Float(64, 64, 3, 3)\n",
      "      %248 : Float(64)\n",
      "      %249 : Float(64)\n",
      "      %250 : Float(64)\n",
      "      %251 : Float(64)\n",
      "      %252 : Float(64)\n",
      "      %253 : Float(64, 512, 1, 1)\n",
      "      %254 : Float(64)\n",
      "      %255 : Float(64)\n",
      "      %256 : Float(64)\n",
      "      %257 : Float(64)\n",
      "      %258 : Float(64)\n",
      "      %259 : Float(256, 528, 1, 1)\n",
      "      %260 : Float(256)\n",
      "      %261 : Float(256)\n",
      "      %262 : Float(256)\n",
      "      %263 : Float(256)\n",
      "      %264 : Float(256)\n",
      "      %265 : Float(160, 528, 1, 1)\n",
      "      %266 : Float(160)\n",
      "      %267 : Float(160)\n",
      "      %268 : Float(160)\n",
      "      %269 : Float(160)\n",
      "      %270 : Float(160)\n",
      "      %271 : Float(320, 160, 3, 3)\n",
      "      %272 : Float(320)\n",
      "      %273 : Float(320)\n",
      "      %274 : Float(320)\n",
      "      %275 : Float(320)\n",
      "      %276 : Float(320)\n",
      "      %277 : Float(32, 528, 1, 1)\n",
      "      %278 : Float(32)\n",
      "      %279 : Float(32)\n",
      "      %280 : Float(32)\n",
      "      %281 : Float(32)\n",
      "      %282 : Float(32)\n",
      "      %283 : Float(128, 32, 3, 3)\n",
      "      %284 : Float(128)\n",
      "      %285 : Float(128)\n",
      "      %286 : Float(128)\n",
      "      %287 : Float(128)\n",
      "      %288 : Float(128)\n",
      "      %289 : Float(128, 128, 3, 3)\n",
      "      %290 : Float(128)\n",
      "      %291 : Float(128)\n",
      "      %292 : Float(128)\n",
      "      %293 : Float(128)\n",
      "      %294 : Float(128)\n",
      "      %295 : Float(128, 528, 1, 1)\n",
      "      %296 : Float(128)\n",
      "      %297 : Float(128)\n",
      "      %298 : Float(128)\n",
      "      %299 : Float(128)\n",
      "      %300 : Float(128)\n",
      "      %301 : Float(256, 832, 1, 1)\n",
      "      %302 : Float(256)\n",
      "      %303 : Float(256)\n",
      "      %304 : Float(256)\n",
      "      %305 : Float(256)\n",
      "      %306 : Float(256)\n",
      "      %307 : Float(160, 832, 1, 1)\n",
      "      %308 : Float(160)\n",
      "      %309 : Float(160)\n",
      "      %310 : Float(160)\n",
      "      %311 : Float(160)\n",
      "      %312 : Float(160)\n",
      "      %313 : Float(320, 160, 3, 3)\n",
      "      %314 : Float(320)\n",
      "      %315 : Float(320)\n",
      "      %316 : Float(320)\n",
      "      %317 : Float(320)\n",
      "      %318 : Float(320)\n",
      "      %319 : Float(32, 832, 1, 1)\n",
      "      %320 : Float(32)\n",
      "      %321 : Float(32)\n",
      "      %322 : Float(32)\n",
      "      %323 : Float(32)\n",
      "      %324 : Float(32)\n",
      "      %325 : Float(128, 32, 3, 3)\n",
      "      %326 : Float(128)\n",
      "      %327 : Float(128)\n",
      "      %328 : Float(128)\n",
      "      %329 : Float(128)\n",
      "      %330 : Float(128)\n",
      "      %331 : Float(128, 128, 3, 3)\n",
      "      %332 : Float(128)\n",
      "      %333 : Float(128)\n",
      "      %334 : Float(128)\n",
      "      %335 : Float(128)\n",
      "      %336 : Float(128)\n",
      "      %337 : Float(128, 832, 1, 1)\n",
      "      %338 : Float(128)\n",
      "      %339 : Float(128)\n",
      "      %340 : Float(128)\n",
      "      %341 : Float(128)\n",
      "      %342 : Float(128)\n",
      "      %343 : Float(384, 832, 1, 1)\n",
      "      %344 : Float(384)\n",
      "      %345 : Float(384)\n",
      "      %346 : Float(384)\n",
      "      %347 : Float(384)\n",
      "      %348 : Float(384)\n",
      "      %349 : Float(192, 832, 1, 1)\n",
      "      %350 : Float(192)\n",
      "      %351 : Float(192)\n",
      "      %352 : Float(192)\n",
      "      %353 : Float(192)\n",
      "      %354 : Float(192)\n",
      "      %355 : Float(384, 192, 3, 3)\n",
      "      %356 : Float(384)\n",
      "      %357 : Float(384)\n",
      "      %358 : Float(384)\n",
      "      %359 : Float(384)\n",
      "      %360 : Float(384)\n",
      "      %361 : Float(48, 832, 1, 1)\n",
      "      %362 : Float(48)\n",
      "      %363 : Float(48)\n",
      "      %364 : Float(48)\n",
      "      %365 : Float(48)\n",
      "      %366 : Float(48)\n",
      "      %367 : Float(128, 48, 3, 3)\n",
      "      %368 : Float(128)\n",
      "      %369 : Float(128)\n",
      "      %370 : Float(128)\n",
      "      %371 : Float(128)\n",
      "      %372 : Float(128)\n",
      "      %373 : Float(128, 128, 3, 3)\n",
      "      %374 : Float(128)\n",
      "      %375 : Float(128)\n",
      "      %376 : Float(128)\n",
      "      %377 : Float(128)\n",
      "      %378 : Float(128)\n",
      "      %379 : Float(128, 832, 1, 1)\n",
      "      %380 : Float(128)\n",
      "      %381 : Float(128)\n",
      "      %382 : Float(128)\n",
      "      %383 : Float(128)\n",
      "      %384 : Float(128)\n",
      "      %385 : Float(10, 1024)\n",
      "      %386 : Float(10)) {\n",
      "  %387 : Float(128, 192, 32, 32) = onnx::Conv[dilations=[1, 1], group=1, kernel_shape=[3, 3], pads=[1, 1, 1, 1], strides=[1, 1]](%0, %1, %2), scope: GoogLeNet/Sequential[pre_layers]/Conv2d[0]\n",
      "  %388 : Float(128, 192, 32, 32) = onnx::BatchNormalization[epsilon=1e-05, is_test=1, momentum=0.9](%387, %3, %4, %5, %6), scope: GoogLeNet/Sequential[pre_layers]/BatchNorm2d[1]\n",
      "  %389 : Float(128, 192, 32, 32) = onnx::Relu(%388), scope: GoogLeNet/Sequential[pre_layers]/ReLU[2]\n",
      "  %390 : Float(128, 64, 32, 32) = onnx::Conv[dilations=[1, 1], group=1, kernel_shape=[1, 1], pads=[0, 0, 0, 0], strides=[1, 1]](%389, %7, %8), scope: GoogLeNet/Inception[a3]/Sequential[b1]/Conv2d[0]\n",
      "  %391 : Float(128, 64, 32, 32) = onnx::BatchNormalization[epsilon=1e-05, is_test=1, momentum=0.9](%390, %9, %10, %11, %12), scope: GoogLeNet/Inception[a3]/Sequential[b1]/BatchNorm2d[1]\n",
      "  %392 : Float(128, 64, 32, 32) = onnx::Relu(%391), scope: GoogLeNet/Inception[a3]/Sequential[b1]/ReLU[2]\n",
      "  %393 : Float(128, 96, 32, 32) = onnx::Conv[dilations=[1, 1], group=1, kernel_shape=[1, 1], pads=[0, 0, 0, 0], strides=[1, 1]](%389, %13, %14), scope: GoogLeNet/Inception[a3]/Sequential[b2]/Conv2d[0]\n",
      "  %394 : Float(128, 96, 32, 32) = onnx::BatchNormalization[epsilon=1e-05, is_test=1, momentum=0.9](%393, %15, %16, %17, %18), scope: GoogLeNet/Inception[a3]/Sequential[b2]/BatchNorm2d[1]\n",
      "  %395 : Float(128, 96, 32, 32) = onnx::Relu(%394), scope: GoogLeNet/Inception[a3]/Sequential[b2]/ReLU[2]\n",
      "  %396 : Float(128, 128, 32, 32) = onnx::Conv[dilations=[1, 1], group=1, kernel_shape=[3, 3], pads=[1, 1, 1, 1], strides=[1, 1]](%395, %19, %20), scope: GoogLeNet/Inception[a3]/Sequential[b2]/Conv2d[3]\n",
      "  %397 : Float(128, 128, 32, 32) = onnx::BatchNormalization[epsilon=1e-05, is_test=1, momentum=0.9](%396, %21, %22, %23, %24), scope: GoogLeNet/Inception[a3]/Sequential[b2]/BatchNorm2d[4]\n",
      "  %398 : Float(128, 128, 32, 32) = onnx::Relu(%397), scope: GoogLeNet/Inception[a3]/Sequential[b2]/ReLU[5]\n",
      "  %399 : Float(128, 16, 32, 32) = onnx::Conv[dilations=[1, 1], group=1, kernel_shape=[1, 1], pads=[0, 0, 0, 0], strides=[1, 1]](%389, %25, %26), scope: GoogLeNet/Inception[a3]/Sequential[b3]/Conv2d[0]\n",
      "  %400 : Float(128, 16, 32, 32) = onnx::BatchNormalization[epsilon=1e-05, is_test=1, momentum=0.9](%399, %27, %28, %29, %30), scope: GoogLeNet/Inception[a3]/Sequential[b3]/BatchNorm2d[1]\n",
      "  %401 : Float(128, 16, 32, 32) = onnx::Relu(%400), scope: GoogLeNet/Inception[a3]/Sequential[b3]/ReLU[2]\n",
      "  %402 : Float(128, 32, 32, 32) = onnx::Conv[dilations=[1, 1], group=1, kernel_shape=[3, 3], pads=[1, 1, 1, 1], strides=[1, 1]](%401, %31, %32), scope: GoogLeNet/Inception[a3]/Sequential[b3]/Conv2d[3]\n",
      "  %403 : Float(128, 32, 32, 32) = onnx::BatchNormalization[epsilon=1e-05, is_test=1, momentum=0.9](%402, %33, %34, %35, %36), scope: GoogLeNet/Inception[a3]/Sequential[b3]/BatchNorm2d[4]\n",
      "  %404 : Float(128, 32, 32, 32) = onnx::Relu(%403), scope: GoogLeNet/Inception[a3]/Sequential[b3]/ReLU[5]\n",
      "  %405 : Float(128, 32, 32, 32) = onnx::Conv[dilations=[1, 1], group=1, kernel_shape=[3, 3], pads=[1, 1, 1, 1], strides=[1, 1]](%404, %37, %38), scope: GoogLeNet/Inception[a3]/Sequential[b3]/Conv2d[6]\n",
      "  %406 : Float(128, 32, 32, 32) = onnx::BatchNormalization[epsilon=1e-05, is_test=1, momentum=0.9](%405, %39, %40, %41, %42), scope: GoogLeNet/Inception[a3]/Sequential[b3]/BatchNorm2d[7]\n",
      "  %407 : Float(128, 32, 32, 32) = onnx::Relu(%406), scope: GoogLeNet/Inception[a3]/Sequential[b3]/ReLU[8]\n",
      "  %408 : Float(128, 192, 32, 32) = onnx::MaxPool[kernel_shape=[3, 3], pads=[1, 1, 1, 1], strides=[1, 1]](%389), scope: GoogLeNet/Inception[a3]/Sequential[b4]/MaxPool2d[0]\n",
      "  %409 : Float(128, 32, 32, 32) = onnx::Conv[dilations=[1, 1], group=1, kernel_shape=[1, 1], pads=[0, 0, 0, 0], strides=[1, 1]](%408, %43, %44), scope: GoogLeNet/Inception[a3]/Sequential[b4]/Conv2d[1]\n",
      "  %410 : Float(128, 32, 32, 32) = onnx::BatchNormalization[epsilon=1e-05, is_test=1, momentum=0.9](%409, %45, %46, %47, %48), scope: GoogLeNet/Inception[a3]/Sequential[b4]/BatchNorm2d[2]\n",
      "  %411 : Float(128, 32, 32, 32) = onnx::Relu(%410), scope: GoogLeNet/Inception[a3]/Sequential[b4]/ReLU[3]\n",
      "  %412 : Float(128, 256, 32, 32) = onnx::Concat[axis=1](%392, %398, %407, %411), scope: GoogLeNet/Inception[a3]\n",
      "  %413 : Float(128, 128, 32, 32) = onnx::Conv[dilations=[1, 1], group=1, kernel_shape=[1, 1], pads=[0, 0, 0, 0], strides=[1, 1]](%412, %49, %50), scope: GoogLeNet/Inception[b3]/Sequential[b1]/Conv2d[0]\n",
      "  %414 : Float(128, 128, 32, 32) = onnx::BatchNormalization[epsilon=1e-05, is_test=1, momentum=0.9](%413, %51, %52, %53, %54), scope: GoogLeNet/Inception[b3]/Sequential[b1]/BatchNorm2d[1]\n",
      "  %415 : Float(128, 128, 32, 32) = onnx::Relu(%414), scope: GoogLeNet/Inception[b3]/Sequential[b1]/ReLU[2]\n",
      "  %416 : Float(128, 128, 32, 32) = onnx::Conv[dilations=[1, 1], group=1, kernel_shape=[1, 1], pads=[0, 0, 0, 0], strides=[1, 1]](%412, %55, %56), scope: GoogLeNet/Inception[b3]/Sequential[b2]/Conv2d[0]\n",
      "  %417 : Float(128, 128, 32, 32) = onnx::BatchNormalization[epsilon=1e-05, is_test=1, momentum=0.9](%416, %57, %58, %59, %60), scope: GoogLeNet/Inception[b3]/Sequential[b2]/BatchNorm2d[1]\n",
      "  %418 : Float(128, 128, 32, 32) = onnx::Relu(%417), scope: GoogLeNet/Inception[b3]/Sequential[b2]/ReLU[2]\n",
      "  %419 : Float(128, 192, 32, 32) = onnx::Conv[dilations=[1, 1], group=1, kernel_shape=[3, 3], pads=[1, 1, 1, 1], strides=[1, 1]](%418, %61, %62), scope: GoogLeNet/Inception[b3]/Sequential[b2]/Conv2d[3]\n",
      "  %420 : Float(128, 192, 32, 32) = onnx::BatchNormalization[epsilon=1e-05, is_test=1, momentum=0.9](%419, %63, %64, %65, %66), scope: GoogLeNet/Inception[b3]/Sequential[b2]/BatchNorm2d[4]\n",
      "  %421 : Float(128, 192, 32, 32) = onnx::Relu(%420), scope: GoogLeNet/Inception[b3]/Sequential[b2]/ReLU[5]\n",
      "  %422 : Float(128, 32, 32, 32) = onnx::Conv[dilations=[1, 1], group=1, kernel_shape=[1, 1], pads=[0, 0, 0, 0], strides=[1, 1]](%412, %67, %68), scope: GoogLeNet/Inception[b3]/Sequential[b3]/Conv2d[0]\n",
      "  %423 : Float(128, 32, 32, 32) = onnx::BatchNormalization[epsilon=1e-05, is_test=1, momentum=0.9](%422, %69, %70, %71, %72), scope: GoogLeNet/Inception[b3]/Sequential[b3]/BatchNorm2d[1]\n",
      "  %424 : Float(128, 32, 32, 32) = onnx::Relu(%423), scope: GoogLeNet/Inception[b3]/Sequential[b3]/ReLU[2]\n",
      "  %425 : Float(128, 96, 32, 32) = onnx::Conv[dilations=[1, 1], group=1, kernel_shape=[3, 3], pads=[1, 1, 1, 1], strides=[1, 1]](%424, %73, %74), scope: GoogLeNet/Inception[b3]/Sequential[b3]/Conv2d[3]\n",
      "  %426 : Float(128, 96, 32, 32) = onnx::BatchNormalization[epsilon=1e-05, is_test=1, momentum=0.9](%425, %75, %76, %77, %78), scope: GoogLeNet/Inception[b3]/Sequential[b3]/BatchNorm2d[4]\n",
      "  %427 : Float(128, 96, 32, 32) = onnx::Relu(%426), scope: GoogLeNet/Inception[b3]/Sequential[b3]/ReLU[5]\n",
      "  %428 : Float(128, 96, 32, 32) = onnx::Conv[dilations=[1, 1], group=1, kernel_shape=[3, 3], pads=[1, 1, 1, 1], strides=[1, 1]](%427, %79, %80), scope: GoogLeNet/Inception[b3]/Sequential[b3]/Conv2d[6]\n",
      "  %429 : Float(128, 96, 32, 32) = onnx::BatchNormalization[epsilon=1e-05, is_test=1, momentum=0.9](%428, %81, %82, %83, %84), scope: GoogLeNet/Inception[b3]/Sequential[b3]/BatchNorm2d[7]\n",
      "  %430 : Float(128, 96, 32, 32) = onnx::Relu(%429), scope: GoogLeNet/Inception[b3]/Sequential[b3]/ReLU[8]\n",
      "  %431 : Float(128, 256, 32, 32) = onnx::MaxPool[kernel_shape=[3, 3], pads=[1, 1, 1, 1], strides=[1, 1]](%412), scope: GoogLeNet/Inception[b3]/Sequential[b4]/MaxPool2d[0]\n",
      "  %432 : Float(128, 64, 32, 32) = onnx::Conv[dilations=[1, 1], group=1, kernel_shape=[1, 1], pads=[0, 0, 0, 0], strides=[1, 1]](%431, %85, %86), scope: GoogLeNet/Inception[b3]/Sequential[b4]/Conv2d[1]\n",
      "  %433 : Float(128, 64, 32, 32) = onnx::BatchNormalization[epsilon=1e-05, is_test=1, momentum=0.9](%432, %87, %88, %89, %90), scope: GoogLeNet/Inception[b3]/Sequential[b4]/BatchNorm2d[2]\n",
      "  %434 : Float(128, 64, 32, 32) = onnx::Relu(%433), scope: GoogLeNet/Inception[b3]/Sequential[b4]/ReLU[3]\n",
      "  %435 : Float(128, 480, 32, 32) = onnx::Concat[axis=1](%415, %421, %430, %434), scope: GoogLeNet/Inception[b3]\n",
      "  %436 : Float(128, 480, 16, 16) = onnx::MaxPool[kernel_shape=[3, 3], pads=[1, 1, 1, 1], strides=[2, 2]](%435), scope: GoogLeNet/MaxPool2d[maxpool]\n",
      "  %437 : Float(128, 192, 16, 16) = onnx::Conv[dilations=[1, 1], group=1, kernel_shape=[1, 1], pads=[0, 0, 0, 0], strides=[1, 1]](%436, %91, %92), scope: GoogLeNet/Inception[a4]/Sequential[b1]/Conv2d[0]\n",
      "  %438 : Float(128, 192, 16, 16) = onnx::BatchNormalization[epsilon=1e-05, is_test=1, momentum=0.9](%437, %93, %94, %95, %96), scope: GoogLeNet/Inception[a4]/Sequential[b1]/BatchNorm2d[1]\n",
      "  %439 : Float(128, 192, 16, 16) = onnx::Relu(%438), scope: GoogLeNet/Inception[a4]/Sequential[b1]/ReLU[2]\n",
      "  %440 : Float(128, 96, 16, 16) = onnx::Conv[dilations=[1, 1], group=1, kernel_shape=[1, 1], pads=[0, 0, 0, 0], strides=[1, 1]](%436, %97, %98), scope: GoogLeNet/Inception[a4]/Sequential[b2]/Conv2d[0]\n",
      "  %441 : Float(128, 96, 16, 16) = onnx::BatchNormalization[epsilon=1e-05, is_test=1, momentum=0.9](%440, %99, %100, %101, %102), scope: GoogLeNet/Inception[a4]/Sequential[b2]/BatchNorm2d[1]\n",
      "  %442 : Float(128, 96, 16, 16) = onnx::Relu(%441), scope: GoogLeNet/Inception[a4]/Sequential[b2]/ReLU[2]\n",
      "  %443 : Float(128, 208, 16, 16) = onnx::Conv[dilations=[1, 1], group=1, kernel_shape=[3, 3], pads=[1, 1, 1, 1], strides=[1, 1]](%442, %103, %104), scope: GoogLeNet/Inception[a4]/Sequential[b2]/Conv2d[3]\n",
      "  %444 : Float(128, 208, 16, 16) = onnx::BatchNormalization[epsilon=1e-05, is_test=1, momentum=0.9](%443, %105, %106, %107, %108), scope: GoogLeNet/Inception[a4]/Sequential[b2]/BatchNorm2d[4]\n",
      "  %445 : Float(128, 208, 16, 16) = onnx::Relu(%444), scope: GoogLeNet/Inception[a4]/Sequential[b2]/ReLU[5]\n",
      "  %446 : Float(128, 16, 16, 16) = onnx::Conv[dilations=[1, 1], group=1, kernel_shape=[1, 1], pads=[0, 0, 0, 0], strides=[1, 1]](%436, %109, %110), scope: GoogLeNet/Inception[a4]/Sequential[b3]/Conv2d[0]\n",
      "  %447 : Float(128, 16, 16, 16) = onnx::BatchNormalization[epsilon=1e-05, is_test=1, momentum=0.9](%446, %111, %112, %113, %114), scope: GoogLeNet/Inception[a4]/Sequential[b3]/BatchNorm2d[1]\n",
      "  %448 : Float(128, 16, 16, 16) = onnx::Relu(%447), scope: GoogLeNet/Inception[a4]/Sequential[b3]/ReLU[2]\n",
      "  %449 : Float(128, 48, 16, 16) = onnx::Conv[dilations=[1, 1], group=1, kernel_shape=[3, 3], pads=[1, 1, 1, 1], strides=[1, 1]](%448, %115, %116), scope: GoogLeNet/Inception[a4]/Sequential[b3]/Conv2d[3]\n",
      "  %450 : Float(128, 48, 16, 16) = onnx::BatchNormalization[epsilon=1e-05, is_test=1, momentum=0.9](%449, %117, %118, %119, %120), scope: GoogLeNet/Inception[a4]/Sequential[b3]/BatchNorm2d[4]\n",
      "  %451 : Float(128, 48, 16, 16) = onnx::Relu(%450), scope: GoogLeNet/Inception[a4]/Sequential[b3]/ReLU[5]\n",
      "  %452 : Float(128, 48, 16, 16) = onnx::Conv[dilations=[1, 1], group=1, kernel_shape=[3, 3], pads=[1, 1, 1, 1], strides=[1, 1]](%451, %121, %122), scope: GoogLeNet/Inception[a4]/Sequential[b3]/Conv2d[6]\n",
      "  %453 : Float(128, 48, 16, 16) = onnx::BatchNormalization[epsilon=1e-05, is_test=1, momentum=0.9](%452, %123, %124, %125, %126), scope: GoogLeNet/Inception[a4]/Sequential[b3]/BatchNorm2d[7]\n",
      "  %454 : Float(128, 48, 16, 16) = onnx::Relu(%453), scope: GoogLeNet/Inception[a4]/Sequential[b3]/ReLU[8]\n",
      "  %455 : Float(128, 480, 16, 16) = onnx::MaxPool[kernel_shape=[3, 3], pads=[1, 1, 1, 1], strides=[1, 1]](%436), scope: GoogLeNet/Inception[a4]/Sequential[b4]/MaxPool2d[0]\n",
      "  %456 : Float(128, 64, 16, 16) = onnx::Conv[dilations=[1, 1], group=1, kernel_shape=[1, 1], pads=[0, 0, 0, 0], strides=[1, 1]](%455, %127, %128), scope: GoogLeNet/Inception[a4]/Sequential[b4]/Conv2d[1]\n",
      "  %457 : Float(128, 64, 16, 16) = onnx::BatchNormalization[epsilon=1e-05, is_test=1, momentum=0.9](%456, %129, %130, %131, %132), scope: GoogLeNet/Inception[a4]/Sequential[b4]/BatchNorm2d[2]\n",
      "  %458 : Float(128, 64, 16, 16) = onnx::Relu(%457), scope: GoogLeNet/Inception[a4]/Sequential[b4]/ReLU[3]\n",
      "  %459 : Float(128, 512, 16, 16) = onnx::Concat[axis=1](%439, %445, %454, %458), scope: GoogLeNet/Inception[a4]\n",
      "  %460 : Float(128, 160, 16, 16) = onnx::Conv[dilations=[1, 1], group=1, kernel_shape=[1, 1], pads=[0, 0, 0, 0], strides=[1, 1]](%459, %133, %134), scope: GoogLeNet/Inception[b4]/Sequential[b1]/Conv2d[0]\n",
      "  %461 : Float(128, 160, 16, 16) = onnx::BatchNormalization[epsilon=1e-05, is_test=1, momentum=0.9](%460, %135, %136, %137, %138), scope: GoogLeNet/Inception[b4]/Sequential[b1]/BatchNorm2d[1]\n",
      "  %462 : Float(128, 160, 16, 16) = onnx::Relu(%461), scope: GoogLeNet/Inception[b4]/Sequential[b1]/ReLU[2]\n",
      "  %463 : Float(128, 112, 16, 16) = onnx::Conv[dilations=[1, 1], group=1, kernel_shape=[1, 1], pads=[0, 0, 0, 0], strides=[1, 1]](%459, %139, %140), scope: GoogLeNet/Inception[b4]/Sequential[b2]/Conv2d[0]\n",
      "  %464 : Float(128, 112, 16, 16) = onnx::BatchNormalization[epsilon=1e-05, is_test=1, momentum=0.9](%463, %141, %142, %143, %144), scope: GoogLeNet/Inception[b4]/Sequential[b2]/BatchNorm2d[1]\n",
      "  %465 : Float(128, 112, 16, 16) = onnx::Relu(%464), scope: GoogLeNet/Inception[b4]/Sequential[b2]/ReLU[2]\n",
      "  %466 : Float(128, 224, 16, 16) = onnx::Conv[dilations=[1, 1], group=1, kernel_shape=[3, 3], pads=[1, 1, 1, 1], strides=[1, 1]](%465, %145, %146), scope: GoogLeNet/Inception[b4]/Sequential[b2]/Conv2d[3]\n",
      "  %467 : Float(128, 224, 16, 16) = onnx::BatchNormalization[epsilon=1e-05, is_test=1, momentum=0.9](%466, %147, %148, %149, %150), scope: GoogLeNet/Inception[b4]/Sequential[b2]/BatchNorm2d[4]\n",
      "  %468 : Float(128, 224, 16, 16) = onnx::Relu(%467), scope: GoogLeNet/Inception[b4]/Sequential[b2]/ReLU[5]\n",
      "  %469 : Float(128, 24, 16, 16) = onnx::Conv[dilations=[1, 1], group=1, kernel_shape=[1, 1], pads=[0, 0, 0, 0], strides=[1, 1]](%459, %151, %152), scope: GoogLeNet/Inception[b4]/Sequential[b3]/Conv2d[0]\n",
      "  %470 : Float(128, 24, 16, 16) = onnx::BatchNormalization[epsilon=1e-05, is_test=1, momentum=0.9](%469, %153, %154, %155, %156), scope: GoogLeNet/Inception[b4]/Sequential[b3]/BatchNorm2d[1]\n",
      "  %471 : Float(128, 24, 16, 16) = onnx::Relu(%470), scope: GoogLeNet/Inception[b4]/Sequential[b3]/ReLU[2]\n",
      "  %472 : Float(128, 64, 16, 16) = onnx::Conv[dilations=[1, 1], group=1, kernel_shape=[3, 3], pads=[1, 1, 1, 1], strides=[1, 1]](%471, %157, %158), scope: GoogLeNet/Inception[b4]/Sequential[b3]/Conv2d[3]\n",
      "  %473 : Float(128, 64, 16, 16) = onnx::BatchNormalization[epsilon=1e-05, is_test=1, momentum=0.9](%472, %159, %160, %161, %162), scope: GoogLeNet/Inception[b4]/Sequential[b3]/BatchNorm2d[4]\n",
      "  %474 : Float(128, 64, 16, 16) = onnx::Relu(%473), scope: GoogLeNet/Inception[b4]/Sequential[b3]/ReLU[5]\n",
      "  %475 : Float(128, 64, 16, 16) = onnx::Conv[dilations=[1, 1], group=1, kernel_shape=[3, 3], pads=[1, 1, 1, 1], strides=[1, 1]](%474, %163, %164), scope: GoogLeNet/Inception[b4]/Sequential[b3]/Conv2d[6]\n",
      "  %476 : Float(128, 64, 16, 16) = onnx::BatchNormalization[epsilon=1e-05, is_test=1, momentum=0.9](%475, %165, %166, %167, %168), scope: GoogLeNet/Inception[b4]/Sequential[b3]/BatchNorm2d[7]\n",
      "  %477 : Float(128, 64, 16, 16) = onnx::Relu(%476), scope: GoogLeNet/Inception[b4]/Sequential[b3]/ReLU[8]\n",
      "  %478 : Float(128, 512, 16, 16) = onnx::MaxPool[kernel_shape=[3, 3], pads=[1, 1, 1, 1], strides=[1, 1]](%459), scope: GoogLeNet/Inception[b4]/Sequential[b4]/MaxPool2d[0]\n",
      "  %479 : Float(128, 64, 16, 16) = onnx::Conv[dilations=[1, 1], group=1, kernel_shape=[1, 1], pads=[0, 0, 0, 0], strides=[1, 1]](%478, %169, %170), scope: GoogLeNet/Inception[b4]/Sequential[b4]/Conv2d[1]\n",
      "  %480 : Float(128, 64, 16, 16) = onnx::BatchNormalization[epsilon=1e-05, is_test=1, momentum=0.9](%479, %171, %172, %173, %174), scope: GoogLeNet/Inception[b4]/Sequential[b4]/BatchNorm2d[2]\n",
      "  %481 : Float(128, 64, 16, 16) = onnx::Relu(%480), scope: GoogLeNet/Inception[b4]/Sequential[b4]/ReLU[3]\n",
      "  %482 : Float(128, 512, 16, 16) = onnx::Concat[axis=1](%462, %468, %477, %481), scope: GoogLeNet/Inception[b4]\n",
      "  %483 : Float(128, 128, 16, 16) = onnx::Conv[dilations=[1, 1], group=1, kernel_shape=[1, 1], pads=[0, 0, 0, 0], strides=[1, 1]](%482, %175, %176), scope: GoogLeNet/Inception[c4]/Sequential[b1]/Conv2d[0]\n",
      "  %484 : Float(128, 128, 16, 16) = onnx::BatchNormalization[epsilon=1e-05, is_test=1, momentum=0.9](%483, %177, %178, %179, %180), scope: GoogLeNet/Inception[c4]/Sequential[b1]/BatchNorm2d[1]\n",
      "  %485 : Float(128, 128, 16, 16) = onnx::Relu(%484), scope: GoogLeNet/Inception[c4]/Sequential[b1]/ReLU[2]\n",
      "  %486 : Float(128, 128, 16, 16) = onnx::Conv[dilations=[1, 1], group=1, kernel_shape=[1, 1], pads=[0, 0, 0, 0], strides=[1, 1]](%482, %181, %182), scope: GoogLeNet/Inception[c4]/Sequential[b2]/Conv2d[0]\n",
      "  %487 : Float(128, 128, 16, 16) = onnx::BatchNormalization[epsilon=1e-05, is_test=1, momentum=0.9](%486, %183, %184, %185, %186), scope: GoogLeNet/Inception[c4]/Sequential[b2]/BatchNorm2d[1]\n",
      "  %488 : Float(128, 128, 16, 16) = onnx::Relu(%487), scope: GoogLeNet/Inception[c4]/Sequential[b2]/ReLU[2]\n",
      "  %489 : Float(128, 256, 16, 16) = onnx::Conv[dilations=[1, 1], group=1, kernel_shape=[3, 3], pads=[1, 1, 1, 1], strides=[1, 1]](%488, %187, %188), scope: GoogLeNet/Inception[c4]/Sequential[b2]/Conv2d[3]\n",
      "  %490 : Float(128, 256, 16, 16) = onnx::BatchNormalization[epsilon=1e-05, is_test=1, momentum=0.9](%489, %189, %190, %191, %192), scope: GoogLeNet/Inception[c4]/Sequential[b2]/BatchNorm2d[4]\n",
      "  %491 : Float(128, 256, 16, 16) = onnx::Relu(%490), scope: GoogLeNet/Inception[c4]/Sequential[b2]/ReLU[5]\n",
      "  %492 : Float(128, 24, 16, 16) = onnx::Conv[dilations=[1, 1], group=1, kernel_shape=[1, 1], pads=[0, 0, 0, 0], strides=[1, 1]](%482, %193, %194), scope: GoogLeNet/Inception[c4]/Sequential[b3]/Conv2d[0]\n",
      "  %493 : Float(128, 24, 16, 16) = onnx::BatchNormalization[epsilon=1e-05, is_test=1, momentum=0.9](%492, %195, %196, %197, %198), scope: GoogLeNet/Inception[c4]/Sequential[b3]/BatchNorm2d[1]\n",
      "  %494 : Float(128, 24, 16, 16) = onnx::Relu(%493), scope: GoogLeNet/Inception[c4]/Sequential[b3]/ReLU[2]\n",
      "  %495 : Float(128, 64, 16, 16) = onnx::Conv[dilations=[1, 1], group=1, kernel_shape=[3, 3], pads=[1, 1, 1, 1], strides=[1, 1]](%494, %199, %200), scope: GoogLeNet/Inception[c4]/Sequential[b3]/Conv2d[3]\n",
      "  %496 : Float(128, 64, 16, 16) = onnx::BatchNormalization[epsilon=1e-05, is_test=1, momentum=0.9](%495, %201, %202, %203, %204), scope: GoogLeNet/Inception[c4]/Sequential[b3]/BatchNorm2d[4]\n",
      "  %497 : Float(128, 64, 16, 16) = onnx::Relu(%496), scope: GoogLeNet/Inception[c4]/Sequential[b3]/ReLU[5]\n",
      "  %498 : Float(128, 64, 16, 16) = onnx::Conv[dilations=[1, 1], group=1, kernel_shape=[3, 3], pads=[1, 1, 1, 1], strides=[1, 1]](%497, %205, %206), scope: GoogLeNet/Inception[c4]/Sequential[b3]/Conv2d[6]\n",
      "  %499 : Float(128, 64, 16, 16) = onnx::BatchNormalization[epsilon=1e-05, is_test=1, momentum=0.9](%498, %207, %208, %209, %210), scope: GoogLeNet/Inception[c4]/Sequential[b3]/BatchNorm2d[7]\n",
      "  %500 : Float(128, 64, 16, 16) = onnx::Relu(%499), scope: GoogLeNet/Inception[c4]/Sequential[b3]/ReLU[8]\n",
      "  %501 : Float(128, 512, 16, 16) = onnx::MaxPool[kernel_shape=[3, 3], pads=[1, 1, 1, 1], strides=[1, 1]](%482), scope: GoogLeNet/Inception[c4]/Sequential[b4]/MaxPool2d[0]\n",
      "  %502 : Float(128, 64, 16, 16) = onnx::Conv[dilations=[1, 1], group=1, kernel_shape=[1, 1], pads=[0, 0, 0, 0], strides=[1, 1]](%501, %211, %212), scope: GoogLeNet/Inception[c4]/Sequential[b4]/Conv2d[1]\n",
      "  %503 : Float(128, 64, 16, 16) = onnx::BatchNormalization[epsilon=1e-05, is_test=1, momentum=0.9](%502, %213, %214, %215, %216), scope: GoogLeNet/Inception[c4]/Sequential[b4]/BatchNorm2d[2]\n",
      "  %504 : Float(128, 64, 16, 16) = onnx::Relu(%503), scope: GoogLeNet/Inception[c4]/Sequential[b4]/ReLU[3]\n",
      "  %505 : Float(128, 512, 16, 16) = onnx::Concat[axis=1](%485, %491, %500, %504), scope: GoogLeNet/Inception[c4]\n",
      "  %506 : Float(128, 112, 16, 16) = onnx::Conv[dilations=[1, 1], group=1, kernel_shape=[1, 1], pads=[0, 0, 0, 0], strides=[1, 1]](%505, %217, %218), scope: GoogLeNet/Inception[d4]/Sequential[b1]/Conv2d[0]\n",
      "  %507 : Float(128, 112, 16, 16) = onnx::BatchNormalization[epsilon=1e-05, is_test=1, momentum=0.9](%506, %219, %220, %221, %222), scope: GoogLeNet/Inception[d4]/Sequential[b1]/BatchNorm2d[1]\n",
      "  %508 : Float(128, 112, 16, 16) = onnx::Relu(%507), scope: GoogLeNet/Inception[d4]/Sequential[b1]/ReLU[2]\n",
      "  %509 : Float(128, 144, 16, 16) = onnx::Conv[dilations=[1, 1], group=1, kernel_shape=[1, 1], pads=[0, 0, 0, 0], strides=[1, 1]](%505, %223, %224), scope: GoogLeNet/Inception[d4]/Sequential[b2]/Conv2d[0]\n",
      "  %510 : Float(128, 144, 16, 16) = onnx::BatchNormalization[epsilon=1e-05, is_test=1, momentum=0.9](%509, %225, %226, %227, %228), scope: GoogLeNet/Inception[d4]/Sequential[b2]/BatchNorm2d[1]\n",
      "  %511 : Float(128, 144, 16, 16) = onnx::Relu(%510), scope: GoogLeNet/Inception[d4]/Sequential[b2]/ReLU[2]\n",
      "  %512 : Float(128, 288, 16, 16) = onnx::Conv[dilations=[1, 1], group=1, kernel_shape=[3, 3], pads=[1, 1, 1, 1], strides=[1, 1]](%511, %229, %230), scope: GoogLeNet/Inception[d4]/Sequential[b2]/Conv2d[3]\n",
      "  %513 : Float(128, 288, 16, 16) = onnx::BatchNormalization[epsilon=1e-05, is_test=1, momentum=0.9](%512, %231, %232, %233, %234), scope: GoogLeNet/Inception[d4]/Sequential[b2]/BatchNorm2d[4]\n",
      "  %514 : Float(128, 288, 16, 16) = onnx::Relu(%513), scope: GoogLeNet/Inception[d4]/Sequential[b2]/ReLU[5]\n",
      "  %515 : Float(128, 32, 16, 16) = onnx::Conv[dilations=[1, 1], group=1, kernel_shape=[1, 1], pads=[0, 0, 0, 0], strides=[1, 1]](%505, %235, %236), scope: GoogLeNet/Inception[d4]/Sequential[b3]/Conv2d[0]\n",
      "  %516 : Float(128, 32, 16, 16) = onnx::BatchNormalization[epsilon=1e-05, is_test=1, momentum=0.9](%515, %237, %238, %239, %240), scope: GoogLeNet/Inception[d4]/Sequential[b3]/BatchNorm2d[1]\n",
      "  %517 : Float(128, 32, 16, 16) = onnx::Relu(%516), scope: GoogLeNet/Inception[d4]/Sequential[b3]/ReLU[2]\n",
      "  %518 : Float(128, 64, 16, 16) = onnx::Conv[dilations=[1, 1], group=1, kernel_shape=[3, 3], pads=[1, 1, 1, 1], strides=[1, 1]](%517, %241, %242), scope: GoogLeNet/Inception[d4]/Sequential[b3]/Conv2d[3]\n",
      "  %519 : Float(128, 64, 16, 16) = onnx::BatchNormalization[epsilon=1e-05, is_test=1, momentum=0.9](%518, %243, %244, %245, %246), scope: GoogLeNet/Inception[d4]/Sequential[b3]/BatchNorm2d[4]\n",
      "  %520 : Float(128, 64, 16, 16) = onnx::Relu(%519), scope: GoogLeNet/Inception[d4]/Sequential[b3]/ReLU[5]\n",
      "  %521 : Float(128, 64, 16, 16) = onnx::Conv[dilations=[1, 1], group=1, kernel_shape=[3, 3], pads=[1, 1, 1, 1], strides=[1, 1]](%520, %247, %248), scope: GoogLeNet/Inception[d4]/Sequential[b3]/Conv2d[6]\n",
      "  %522 : Float(128, 64, 16, 16) = onnx::BatchNormalization[epsilon=1e-05, is_test=1, momentum=0.9](%521, %249, %250, %251, %252), scope: GoogLeNet/Inception[d4]/Sequential[b3]/BatchNorm2d[7]\n",
      "  %523 : Float(128, 64, 16, 16) = onnx::Relu(%522), scope: GoogLeNet/Inception[d4]/Sequential[b3]/ReLU[8]\n",
      "  %524 : Float(128, 512, 16, 16) = onnx::MaxPool[kernel_shape=[3, 3], pads=[1, 1, 1, 1], strides=[1, 1]](%505), scope: GoogLeNet/Inception[d4]/Sequential[b4]/MaxPool2d[0]\n",
      "  %525 : Float(128, 64, 16, 16) = onnx::Conv[dilations=[1, 1], group=1, kernel_shape=[1, 1], pads=[0, 0, 0, 0], strides=[1, 1]](%524, %253, %254), scope: GoogLeNet/Inception[d4]/Sequential[b4]/Conv2d[1]\n",
      "  %526 : Float(128, 64, 16, 16) = onnx::BatchNormalization[epsilon=1e-05, is_test=1, momentum=0.9](%525, %255, %256, %257, %258), scope: GoogLeNet/Inception[d4]/Sequential[b4]/BatchNorm2d[2]\n",
      "  %527 : Float(128, 64, 16, 16) = onnx::Relu(%526), scope: GoogLeNet/Inception[d4]/Sequential[b4]/ReLU[3]\n",
      "  %528 : Float(128, 528, 16, 16) = onnx::Concat[axis=1](%508, %514, %523, %527), scope: GoogLeNet/Inception[d4]\n",
      "  %529 : Float(128, 256, 16, 16) = onnx::Conv[dilations=[1, 1], group=1, kernel_shape=[1, 1], pads=[0, 0, 0, 0], strides=[1, 1]](%528, %259, %260), scope: GoogLeNet/Inception[e4]/Sequential[b1]/Conv2d[0]\n",
      "  %530 : Float(128, 256, 16, 16) = onnx::BatchNormalization[epsilon=1e-05, is_test=1, momentum=0.9](%529, %261, %262, %263, %264), scope: GoogLeNet/Inception[e4]/Sequential[b1]/BatchNorm2d[1]\n",
      "  %531 : Float(128, 256, 16, 16) = onnx::Relu(%530), scope: GoogLeNet/Inception[e4]/Sequential[b1]/ReLU[2]\n",
      "  %532 : Float(128, 160, 16, 16) = onnx::Conv[dilations=[1, 1], group=1, kernel_shape=[1, 1], pads=[0, 0, 0, 0], strides=[1, 1]](%528, %265, %266), scope: GoogLeNet/Inception[e4]/Sequential[b2]/Conv2d[0]\n",
      "  %533 : Float(128, 160, 16, 16) = onnx::BatchNormalization[epsilon=1e-05, is_test=1, momentum=0.9](%532, %267, %268, %269, %270), scope: GoogLeNet/Inception[e4]/Sequential[b2]/BatchNorm2d[1]\n",
      "  %534 : Float(128, 160, 16, 16) = onnx::Relu(%533), scope: GoogLeNet/Inception[e4]/Sequential[b2]/ReLU[2]\n",
      "  %535 : Float(128, 320, 16, 16) = onnx::Conv[dilations=[1, 1], group=1, kernel_shape=[3, 3], pads=[1, 1, 1, 1], strides=[1, 1]](%534, %271, %272), scope: GoogLeNet/Inception[e4]/Sequential[b2]/Conv2d[3]\n",
      "  %536 : Float(128, 320, 16, 16) = onnx::BatchNormalization[epsilon=1e-05, is_test=1, momentum=0.9](%535, %273, %274, %275, %276), scope: GoogLeNet/Inception[e4]/Sequential[b2]/BatchNorm2d[4]\n",
      "  %537 : Float(128, 320, 16, 16) = onnx::Relu(%536), scope: GoogLeNet/Inception[e4]/Sequential[b2]/ReLU[5]\n",
      "  %538 : Float(128, 32, 16, 16) = onnx::Conv[dilations=[1, 1], group=1, kernel_shape=[1, 1], pads=[0, 0, 0, 0], strides=[1, 1]](%528, %277, %278), scope: GoogLeNet/Inception[e4]/Sequential[b3]/Conv2d[0]\n",
      "  %539 : Float(128, 32, 16, 16) = onnx::BatchNormalization[epsilon=1e-05, is_test=1, momentum=0.9](%538, %279, %280, %281, %282), scope: GoogLeNet/Inception[e4]/Sequential[b3]/BatchNorm2d[1]\n",
      "  %540 : Float(128, 32, 16, 16) = onnx::Relu(%539), scope: GoogLeNet/Inception[e4]/Sequential[b3]/ReLU[2]\n",
      "  %541 : Float(128, 128, 16, 16) = onnx::Conv[dilations=[1, 1], group=1, kernel_shape=[3, 3], pads=[1, 1, 1, 1], strides=[1, 1]](%540, %283, %284), scope: GoogLeNet/Inception[e4]/Sequential[b3]/Conv2d[3]\n",
      "  %542 : Float(128, 128, 16, 16) = onnx::BatchNormalization[epsilon=1e-05, is_test=1, momentum=0.9](%541, %285, %286, %287, %288), scope: GoogLeNet/Inception[e4]/Sequential[b3]/BatchNorm2d[4]\n",
      "  %543 : Float(128, 128, 16, 16) = onnx::Relu(%542), scope: GoogLeNet/Inception[e4]/Sequential[b3]/ReLU[5]\n",
      "  %544 : Float(128, 128, 16, 16) = onnx::Conv[dilations=[1, 1], group=1, kernel_shape=[3, 3], pads=[1, 1, 1, 1], strides=[1, 1]](%543, %289, %290), scope: GoogLeNet/Inception[e4]/Sequential[b3]/Conv2d[6]\n",
      "  %545 : Float(128, 128, 16, 16) = onnx::BatchNormalization[epsilon=1e-05, is_test=1, momentum=0.9](%544, %291, %292, %293, %294), scope: GoogLeNet/Inception[e4]/Sequential[b3]/BatchNorm2d[7]\n",
      "  %546 : Float(128, 128, 16, 16) = onnx::Relu(%545), scope: GoogLeNet/Inception[e4]/Sequential[b3]/ReLU[8]\n",
      "  %547 : Float(128, 528, 16, 16) = onnx::MaxPool[kernel_shape=[3, 3], pads=[1, 1, 1, 1], strides=[1, 1]](%528), scope: GoogLeNet/Inception[e4]/Sequential[b4]/MaxPool2d[0]\n",
      "  %548 : Float(128, 128, 16, 16) = onnx::Conv[dilations=[1, 1], group=1, kernel_shape=[1, 1], pads=[0, 0, 0, 0], strides=[1, 1]](%547, %295, %296), scope: GoogLeNet/Inception[e4]/Sequential[b4]/Conv2d[1]\n",
      "  %549 : Float(128, 128, 16, 16) = onnx::BatchNormalization[epsilon=1e-05, is_test=1, momentum=0.9](%548, %297, %298, %299, %300), scope: GoogLeNet/Inception[e4]/Sequential[b4]/BatchNorm2d[2]\n",
      "  %550 : Float(128, 128, 16, 16) = onnx::Relu(%549), scope: GoogLeNet/Inception[e4]/Sequential[b4]/ReLU[3]\n",
      "  %551 : Float(128, 832, 16, 16) = onnx::Concat[axis=1](%531, %537, %546, %550), scope: GoogLeNet/Inception[e4]\n",
      "  %552 : Float(128, 832, 8, 8) = onnx::MaxPool[kernel_shape=[3, 3], pads=[1, 1, 1, 1], strides=[2, 2]](%551), scope: GoogLeNet/MaxPool2d[maxpool]\n",
      "  %553 : Float(128, 256, 8, 8) = onnx::Conv[dilations=[1, 1], group=1, kernel_shape=[1, 1], pads=[0, 0, 0, 0], strides=[1, 1]](%552, %301, %302), scope: GoogLeNet/Inception[a5]/Sequential[b1]/Conv2d[0]\n",
      "  %554 : Float(128, 256, 8, 8) = onnx::BatchNormalization[epsilon=1e-05, is_test=1, momentum=0.9](%553, %303, %304, %305, %306), scope: GoogLeNet/Inception[a5]/Sequential[b1]/BatchNorm2d[1]\n",
      "  %555 : Float(128, 256, 8, 8) = onnx::Relu(%554), scope: GoogLeNet/Inception[a5]/Sequential[b1]/ReLU[2]\n",
      "  %556 : Float(128, 160, 8, 8) = onnx::Conv[dilations=[1, 1], group=1, kernel_shape=[1, 1], pads=[0, 0, 0, 0], strides=[1, 1]](%552, %307, %308), scope: GoogLeNet/Inception[a5]/Sequential[b2]/Conv2d[0]\n",
      "  %557 : Float(128, 160, 8, 8) = onnx::BatchNormalization[epsilon=1e-05, is_test=1, momentum=0.9](%556, %309, %310, %311, %312), scope: GoogLeNet/Inception[a5]/Sequential[b2]/BatchNorm2d[1]\n",
      "  %558 : Float(128, 160, 8, 8) = onnx::Relu(%557), scope: GoogLeNet/Inception[a5]/Sequential[b2]/ReLU[2]\n",
      "  %559 : Float(128, 320, 8, 8) = onnx::Conv[dilations=[1, 1], group=1, kernel_shape=[3, 3], pads=[1, 1, 1, 1], strides=[1, 1]](%558, %313, %314), scope: GoogLeNet/Inception[a5]/Sequential[b2]/Conv2d[3]\n",
      "  %560 : Float(128, 320, 8, 8) = onnx::BatchNormalization[epsilon=1e-05, is_test=1, momentum=0.9](%559, %315, %316, %317, %318), scope: GoogLeNet/Inception[a5]/Sequential[b2]/BatchNorm2d[4]\n",
      "  %561 : Float(128, 320, 8, 8) = onnx::Relu(%560), scope: GoogLeNet/Inception[a5]/Sequential[b2]/ReLU[5]\n",
      "  %562 : Float(128, 32, 8, 8) = onnx::Conv[dilations=[1, 1], group=1, kernel_shape=[1, 1], pads=[0, 0, 0, 0], strides=[1, 1]](%552, %319, %320), scope: GoogLeNet/Inception[a5]/Sequential[b3]/Conv2d[0]\n",
      "  %563 : Float(128, 32, 8, 8) = onnx::BatchNormalization[epsilon=1e-05, is_test=1, momentum=0.9](%562, %321, %322, %323, %324), scope: GoogLeNet/Inception[a5]/Sequential[b3]/BatchNorm2d[1]\n",
      "  %564 : Float(128, 32, 8, 8) = onnx::Relu(%563), scope: GoogLeNet/Inception[a5]/Sequential[b3]/ReLU[2]\n",
      "  %565 : Float(128, 128, 8, 8) = onnx::Conv[dilations=[1, 1], group=1, kernel_shape=[3, 3], pads=[1, 1, 1, 1], strides=[1, 1]](%564, %325, %326), scope: GoogLeNet/Inception[a5]/Sequential[b3]/Conv2d[3]\n",
      "  %566 : Float(128, 128, 8, 8) = onnx::BatchNormalization[epsilon=1e-05, is_test=1, momentum=0.9](%565, %327, %328, %329, %330), scope: GoogLeNet/Inception[a5]/Sequential[b3]/BatchNorm2d[4]\n",
      "  %567 : Float(128, 128, 8, 8) = onnx::Relu(%566), scope: GoogLeNet/Inception[a5]/Sequential[b3]/ReLU[5]\n",
      "  %568 : Float(128, 128, 8, 8) = onnx::Conv[dilations=[1, 1], group=1, kernel_shape=[3, 3], pads=[1, 1, 1, 1], strides=[1, 1]](%567, %331, %332), scope: GoogLeNet/Inception[a5]/Sequential[b3]/Conv2d[6]\n",
      "  %569 : Float(128, 128, 8, 8) = onnx::BatchNormalization[epsilon=1e-05, is_test=1, momentum=0.9](%568, %333, %334, %335, %336), scope: GoogLeNet/Inception[a5]/Sequential[b3]/BatchNorm2d[7]\n",
      "  %570 : Float(128, 128, 8, 8) = onnx::Relu(%569), scope: GoogLeNet/Inception[a5]/Sequential[b3]/ReLU[8]\n",
      "  %571 : Float(128, 832, 8, 8) = onnx::MaxPool[kernel_shape=[3, 3], pads=[1, 1, 1, 1], strides=[1, 1]](%552), scope: GoogLeNet/Inception[a5]/Sequential[b4]/MaxPool2d[0]\n",
      "  %572 : Float(128, 128, 8, 8) = onnx::Conv[dilations=[1, 1], group=1, kernel_shape=[1, 1], pads=[0, 0, 0, 0], strides=[1, 1]](%571, %337, %338), scope: GoogLeNet/Inception[a5]/Sequential[b4]/Conv2d[1]\n",
      "  %573 : Float(128, 128, 8, 8) = onnx::BatchNormalization[epsilon=1e-05, is_test=1, momentum=0.9](%572, %339, %340, %341, %342), scope: GoogLeNet/Inception[a5]/Sequential[b4]/BatchNorm2d[2]\n",
      "  %574 : Float(128, 128, 8, 8) = onnx::Relu(%573), scope: GoogLeNet/Inception[a5]/Sequential[b4]/ReLU[3]\n",
      "  %575 : Float(128, 832, 8, 8) = onnx::Concat[axis=1](%555, %561, %570, %574), scope: GoogLeNet/Inception[a5]\n",
      "  %576 : Float(128, 384, 8, 8) = onnx::Conv[dilations=[1, 1], group=1, kernel_shape=[1, 1], pads=[0, 0, 0, 0], strides=[1, 1]](%575, %343, %344), scope: GoogLeNet/Inception[b5]/Sequential[b1]/Conv2d[0]\n",
      "  %577 : Float(128, 384, 8, 8) = onnx::BatchNormalization[epsilon=1e-05, is_test=1, momentum=0.9](%576, %345, %346, %347, %348), scope: GoogLeNet/Inception[b5]/Sequential[b1]/BatchNorm2d[1]\n",
      "  %578 : Float(128, 384, 8, 8) = onnx::Relu(%577), scope: GoogLeNet/Inception[b5]/Sequential[b1]/ReLU[2]\n",
      "  %579 : Float(128, 192, 8, 8) = onnx::Conv[dilations=[1, 1], group=1, kernel_shape=[1, 1], pads=[0, 0, 0, 0], strides=[1, 1]](%575, %349, %350), scope: GoogLeNet/Inception[b5]/Sequential[b2]/Conv2d[0]\n",
      "  %580 : Float(128, 192, 8, 8) = onnx::BatchNormalization[epsilon=1e-05, is_test=1, momentum=0.9](%579, %351, %352, %353, %354), scope: GoogLeNet/Inception[b5]/Sequential[b2]/BatchNorm2d[1]\n",
      "  %581 : Float(128, 192, 8, 8) = onnx::Relu(%580), scope: GoogLeNet/Inception[b5]/Sequential[b2]/ReLU[2]\n",
      "  %582 : Float(128, 384, 8, 8) = onnx::Conv[dilations=[1, 1], group=1, kernel_shape=[3, 3], pads=[1, 1, 1, 1], strides=[1, 1]](%581, %355, %356), scope: GoogLeNet/Inception[b5]/Sequential[b2]/Conv2d[3]\n",
      "  %583 : Float(128, 384, 8, 8) = onnx::BatchNormalization[epsilon=1e-05, is_test=1, momentum=0.9](%582, %357, %358, %359, %360), scope: GoogLeNet/Inception[b5]/Sequential[b2]/BatchNorm2d[4]\n",
      "  %584 : Float(128, 384, 8, 8) = onnx::Relu(%583), scope: GoogLeNet/Inception[b5]/Sequential[b2]/ReLU[5]\n",
      "  %585 : Float(128, 48, 8, 8) = onnx::Conv[dilations=[1, 1], group=1, kernel_shape=[1, 1], pads=[0, 0, 0, 0], strides=[1, 1]](%575, %361, %362), scope: GoogLeNet/Inception[b5]/Sequential[b3]/Conv2d[0]\n",
      "  %586 : Float(128, 48, 8, 8) = onnx::BatchNormalization[epsilon=1e-05, is_test=1, momentum=0.9](%585, %363, %364, %365, %366), scope: GoogLeNet/Inception[b5]/Sequential[b3]/BatchNorm2d[1]\n",
      "  %587 : Float(128, 48, 8, 8) = onnx::Relu(%586), scope: GoogLeNet/Inception[b5]/Sequential[b3]/ReLU[2]\n",
      "  %588 : Float(128, 128, 8, 8) = onnx::Conv[dilations=[1, 1], group=1, kernel_shape=[3, 3], pads=[1, 1, 1, 1], strides=[1, 1]](%587, %367, %368), scope: GoogLeNet/Inception[b5]/Sequential[b3]/Conv2d[3]\n",
      "  %589 : Float(128, 128, 8, 8) = onnx::BatchNormalization[epsilon=1e-05, is_test=1, momentum=0.9](%588, %369, %370, %371, %372), scope: GoogLeNet/Inception[b5]/Sequential[b3]/BatchNorm2d[4]\n",
      "  %590 : Float(128, 128, 8, 8) = onnx::Relu(%589), scope: GoogLeNet/Inception[b5]/Sequential[b3]/ReLU[5]\n",
      "  %591 : Float(128, 128, 8, 8) = onnx::Conv[dilations=[1, 1], group=1, kernel_shape=[3, 3], pads=[1, 1, 1, 1], strides=[1, 1]](%590, %373, %374), scope: GoogLeNet/Inception[b5]/Sequential[b3]/Conv2d[6]\n",
      "  %592 : Float(128, 128, 8, 8) = onnx::BatchNormalization[epsilon=1e-05, is_test=1, momentum=0.9](%591, %375, %376, %377, %378), scope: GoogLeNet/Inception[b5]/Sequential[b3]/BatchNorm2d[7]\n",
      "  %593 : Float(128, 128, 8, 8) = onnx::Relu(%592), scope: GoogLeNet/Inception[b5]/Sequential[b3]/ReLU[8]\n",
      "  %594 : Float(128, 832, 8, 8) = onnx::MaxPool[kernel_shape=[3, 3], pads=[1, 1, 1, 1], strides=[1, 1]](%575), scope: GoogLeNet/Inception[b5]/Sequential[b4]/MaxPool2d[0]\n",
      "  %595 : Float(128, 128, 8, 8) = onnx::Conv[dilations=[1, 1], group=1, kernel_shape=[1, 1], pads=[0, 0, 0, 0], strides=[1, 1]](%594, %379, %380), scope: GoogLeNet/Inception[b5]/Sequential[b4]/Conv2d[1]\n",
      "  %596 : Float(128, 128, 8, 8) = onnx::BatchNormalization[epsilon=1e-05, is_test=1, momentum=0.9](%595, %381, %382, %383, %384), scope: GoogLeNet/Inception[b5]/Sequential[b4]/BatchNorm2d[2]\n",
      "  %597 : Float(128, 128, 8, 8) = onnx::Relu(%596), scope: GoogLeNet/Inception[b5]/Sequential[b4]/ReLU[3]\n",
      "  %598 : Float(128, 1024, 8, 8) = onnx::Concat[axis=1](%578, %584, %593, %597), scope: GoogLeNet/Inception[b5]\n",
      "  %599 : Float(128, 1024, 1, 1) = onnx::AveragePool[kernel_shape=[8, 8], pads=[0, 0, 0, 0], strides=[1, 1]](%598), scope: GoogLeNet/AvgPool2d[avgpool]\n",
      "  %600 : Float(128, 1024) = onnx::Flatten[axis=1](%599), scope: GoogLeNet\n",
      "  %601 : Float(128, 10) = onnx::Gemm[alpha=1, beta=1, broadcast=1, transB=1](%600, %385, %386), scope: GoogLeNet/Linear[linear]\n",
      "  return (%601);\n",
      "}\n",
      "\n"
     ]
    }
   ],
   "source": [
    "# Export model\n",
    "print('==> Exporting model..')\n",
    "dummy_input = Variable(torch.randn(128, 3, 32, 32), requires_grad=False).cuda()\n",
    "torch.onnx.export(net, dummy_input, \"./checkpoint/googLeNet.{}.onnx\".format(_name), verbose=True)"
   ]
  },
  {
   "cell_type": "markdown",
   "metadata": {},
   "source": [
    "## Testing"
   ]
  },
  {
   "cell_type": "code",
   "execution_count": null,
   "metadata": {},
   "outputs": [],
   "source": [
    "import torch\n",
    "import torchvision\n",
    "import torchvision.transforms as transforms\n",
    "import os\n",
    "import sys\n",
    "data_dir = \"/tmp/work/data/CINIC-10/test/\"\n",
    "assert data_dir is not None, \"No data directory\"\n",
    "\n",
    "from models import *\n",
    "checkpoint = torch.load('../mobileNetV2.cinic10.0.pth')\n",
    "model = MobileNetV2()\n",
    "model.load_state_dict(checkpoint['net'])\n",
    "device = 'cuda' if torch.cuda.is_available() else 'cpu'\n",
    "\n",
    "def inference(model, testloader):\n",
    "    total = 0\n",
    "    correct = 0\n",
    "    model.to(device)\n",
    "    model = torch.nn.DataParallel(model)\n",
    "    model.eval()\n",
    "    with torch.no_grad():\n",
    "        for batch_idx, (inputs, targets) in enumerate(testloader):\n",
    "            inputs, targets = inputs.to(device), targets.to(device)\n",
    "            outputs = model(inputs)\n",
    "            _, predicted = outputs.max(1)\n",
    "            total += targets.size(0)\n",
    "            correct += predicted.eq(targets.cuda()).sum().item()\n",
    "    acc = 100.*correct/total\n",
    "    print(acc)\n",
    "    return acc\n",
    "\n",
    "transform_test = transforms.Compose([\n",
    "    transforms.ToTensor(),\n",
    "    transforms.Normalize(mean=[0.47889522, 0.47227842, 0.43047404],  std=[0.24205776, 0.23828046, 0.25874835]),\n",
    "])\n",
    "#testset = torchvision.datasets.CIFAR10(root='./data', train=False, download=True, transform=transform_test)\n",
    "testset = torchvision.datasets.ImageFolder(root=data_dir, transform=transform_test)\n",
    "testloader = torch.utils.data.DataLoader(testset, batch_size=64, shuffle=False, num_workers=2)\n",
    "inference(model, testloader)"
   ]
  }
 ],
 "metadata": {
  "kernelspec": {
   "display_name": "cinic",
   "language": "python",
   "name": "cinic"
  },
  "language_info": {
   "codemirror_mode": {
    "name": "ipython",
    "version": 3
   },
   "file_extension": ".py",
   "mimetype": "text/x-python",
   "name": "python",
   "nbconvert_exporter": "python",
   "pygments_lexer": "ipython3",
   "version": "3.6.6"
  }
 },
 "nbformat": 4,
 "nbformat_minor": 2
}
